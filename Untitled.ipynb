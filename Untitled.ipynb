{
 "cells": [
  {
   "cell_type": "markdown",
   "metadata": {},
   "source": [
    "- PSI source\n",
    "    - 10-12 mA beam current\n",
    "    - 700 W microwave power\n",
    "    - 5 mm diameter plasma aperture\n",
    "    \n",
    "- our current source\n",
    "    - 1.3 mA beam current\n",
    "    - 600 W RF power\n",
    "    - 1 mm diameter plasma aperture\n",
    "\n",
    "\n",
    "- from Waldmann et al.\n",
    "    - <img src=\"waldmann.png\" alt=\"Waldmann et al\" style=\"width: 400px;\"/>\n",
    "    - 200 W microwave power --> 30 mA/cm2\n",
    "    - 500 W microwave power --> 45 mA/cm2, which is \n",
    "    \n",
    "\n",
    "- Mauricio with their 200 W microwave (badly coupled plasma)\n",
    "    - 0.05 mA ion beam current\n",
    "    - 200 W\n"
   ]
  },
  {
   "cell_type": "markdown",
   "metadata": {},
   "source": []
  },
  {
   "cell_type": "code",
   "execution_count": 38,
   "metadata": {},
   "outputs": [
    {
     "name": "stdout",
     "output_type": "stream",
     "text": [
      "Area of plasma aperture for PSI source is: 19.6 mm2\n",
      "Area of plasma aperture for our RF source is: 19.63 mm2 \n",
      "\n",
      "At 700 W and with our plasma aperture area, the beam current in Goetz setup would be 10.00 mA\n",
      "At 200 W and with our plasma aperture area, the beam current in Goetz setup would be 2.86 mA\n"
     ]
    }
   ],
   "source": [
    "import numpy as np\n",
    "\n",
    "d = 5\n",
    "I_goetz = 10 # mA\n",
    "A_goetz = np.pi*(d/2)**2\n",
    "P_goetz = 700 # W\n",
    "print(f'Area of plasma aperture for PSI source is: {A_goetz:.1f} mm2')\n",
    "\n",
    "\n",
    "\n",
    "d = 5\n",
    "I_us = 1.3\n",
    "A_us = np.pi*(d/2)**2\n",
    "P_us = 600 # W, not really a factor here\n",
    "print(f'Area of plasma aperture for our RF source is: {A_us:.2f} mm2 \\n')\n",
    "\n",
    "\n",
    "P_target = 200\n",
    "# Beam current with PSI source using our extraction area\n",
    "I_goetz_w_A_us = A_us/A_goetz*I_goetz  # Goetz ion beam current with our plasma aperture area\n",
    "print(f'At 700 W and with our plasma aperture area, the beam current in Goetz setup would be {I_goetz_w_A_us:.2f} mA')\n",
    "I_goetz_w_A_us_and_Plow = I_goetz_w_A_us*P_target/P_goetz # Goetz ion beam current with our plasma aperture area at 200 W\n",
    "print(f'At {P_target} W and with our plasma aperture area, the beam current in Goetz setup would be {I_goetz_w_A_us_and_Plow:.2f} mA')\n",
    "\n"
   ]
  },
  {
   "cell_type": "markdown",
   "metadata": {},
   "source": [
    "| Microwave power [W]  | Aperture diameter [mm]  | Est. ion beam current [mA]  | \n",
    "|---|---|---|\n",
    "| 200  |  1 |  0.11 | \n",
    "| 500  |  1 |  0.29 | \n",
    "| 200  |  3 |  1.03 | \n",
    "| 500  |  3 |  2.57 | \n",
    "| 200  |  5 |  2.86 | \n",
    "| 500  |  5 |  7.14 | \n"
   ]
  },
  {
   "cell_type": "code",
   "execution_count": null,
   "metadata": {},
   "outputs": [],
   "source": [
    "\n"
   ]
  }
 ],
 "metadata": {
  "kernelspec": {
   "display_name": "Python 3",
   "language": "python",
   "name": "python3"
  },
  "language_info": {
   "codemirror_mode": {
    "name": "ipython",
    "version": 3
   },
   "file_extension": ".py",
   "mimetype": "text/x-python",
   "name": "python",
   "nbconvert_exporter": "python",
   "pygments_lexer": "ipython3",
   "version": "3.7.3"
  }
 },
 "nbformat": 4,
 "nbformat_minor": 2
}
