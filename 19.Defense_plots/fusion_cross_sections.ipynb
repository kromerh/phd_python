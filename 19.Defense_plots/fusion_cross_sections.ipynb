{
 "cells": [
  {
   "cell_type": "code",
   "execution_count": 73,
   "metadata": {},
   "outputs": [
    {
     "data": {
      "application/vnd.jupyter.widget-view+json": {
       "model_id": "d8b09862b82241ee9a71671fa398a750",
       "version_major": 2,
       "version_minor": 0
      },
      "text/plain": [
       "Canvas(toolbar=Toolbar(toolitems=[('Home', 'Reset original view', 'home', 'home'), ('Back', 'Back to previous …"
      ]
     },
     "metadata": {},
     "output_type": "display_data"
    }
   ],
   "source": [
    "outputfolder = '/Users/hkromer/02_PhD/04_Publiations/08.Defense/Figures/'\n",
    "figname = 'xs_DD_and_DT'\n",
    "import numpy as np\n",
    "import pandas as pd\n",
    "import matplotlib\n",
    "import os\n",
    "from matplotlib.ticker import AutoMinorLocator\n",
    "import numpy as np\n",
    "import pandas as pd\n",
    "import matplotlib.pyplot as plt\n",
    "%matplotlib widget\n",
    "\n",
    "os.environ[\"PATH\"] += os.pathsep + '/usr/local/texlive/2018/bin/x86_64-darwin'\n",
    "plt.rc('text', usetex=True)\n",
    "plt.rc('font', weight='bold')\n",
    "matplotlib.rcParams['mathtext.fontset'] = 'custom'\n",
    "matplotlib.rcParams['mathtext.rm'] = 'Arial'\n",
    "matplotlib.rcParams['mathtext.it'] = 'Arial:italic'\n",
    "matplotlib.rcParams['mathtext.bf'] = 'Arial:bold'\n",
    "matplotlib.rcParams['mathtext.tt'] = 'Arial'\n",
    "matplotlib.rcParams['mathtext.cal'] = 'Arial'\n",
    "matplotlib.rcParams['text.latex.preamble'] = [r'\\usepackage{sfmath} \\boldmath']\n",
    "\n",
    "# DD\n",
    "data_DD = pd.read_csv('/Users/hkromer/02_PhD/02_Data/04.xs/xs_DD.dat', skiprows=10, delimiter=r'\\s+')\n",
    "data_DD = data_DD.iloc[:-2,0:2]\n",
    "data_DD.columns = ['energy_MeV', 'xs_barn']\n",
    "for col in data_DD.columns:\n",
    "    data_DD[col] = data_DD[col].astype(float)\n",
    "data_DD['xs_mb'] = data_DD['xs_barn'] * (1000) # barn to mbarn\n",
    "\n",
    "# DT\n",
    "data_DT = pd.read_csv('/Users/hkromer/02_PhD/02_Data/04.xs/xs_DT.dat', skiprows=10, delimiter=r'\\s+')\n",
    "data_DT = data_DT.iloc[:-2,0:2]\n",
    "data_DT.columns = ['energy_MeV', 'xs_barn']\n",
    "for col in data_DT.columns:\n",
    "    data_DT[col] = data_DT[col].astype(float)\n",
    "# PLOT\n",
    "fig, ax1 = plt.subplots(figsize=(8, 6))\n",
    "\n",
    "fs = 20\n",
    "markersize = 8\n",
    "\n",
    "colors = ['gray', 'gray']\n",
    "# D-D\n",
    "p1=ax1.plot(data_DT['energy_MeV'].values*1000, data_DT['xs_barn'].values, '-', color='#b03412', label='D-T', linewidth=2.5)\n",
    "\n",
    "ax1.set_xlabel(r\"\\textbf{Deuteron energy [keV]}\", color='gray',fontsize=fs)\n",
    "ax1.set_ylabel(r\"\\textbf{Reaction cross section [b]}\", color='gray',fontsize=fs)\n",
    "plt.xticks([0, 80, 150, 300], [r'\\textbf{0}', r'\\textbf{80}', r'\\textbf{150}', r'\\textbf{300}']) \n",
    "\n",
    "ax1.tick_params('x', labelcolor=colors[0], colors='black', labelsize=fs-2)\n",
    "ax1.tick_params(axis='y', labelcolor=colors[0], labelsize=fs-2)\n",
    "# minor ticks x\n",
    "# minor_locator = AutoMinorLocator(2)\n",
    "# ax1.xaxis.set_minor_locator(minor_locator)\n",
    "# minor ticks y\n",
    "minor_locator = AutoMinorLocator(2)\n",
    "ax1.yaxis.set_minor_locator(minor_locator)\n",
    "# ax1.set_xticks(np.arange(0,210,30))\n",
    "# ax1.set_yticks(np.arange(0.5,2.5+0.5,0.5))\n",
    "# leg1.set_title(r\"\\textbf{Deuterium ion energy [keV]}\", prop = {'size': fs-4})\n",
    "ax1.grid(which=\"minor\",ls=\"--\", color='0.85')\n",
    "ax1.grid(which=\"major\",ls=\"-\", color='0.65')\n",
    "\n",
    "ax1.set_ylim(1e-6,1e1)\n",
    "\n",
    "ax1.set_yscale('log')\n",
    "p2=ax1.plot(data_DD['energy_MeV'].values*1000,data_DD['xs_mb'].values*1e-3, '-', color='#1269b0', label='D-D', linewidth=2.5)\n",
    "\n",
    "E_fill = [0.08*1000, 0.15*1000] # deuteron energy range to fill in keV\n",
    "ax1.fill_between(E_fill, -20, 120, facecolor='green', alpha=0.4)\n",
    "s = r'\\textbf{Compact fast}' + '\\n' + r'\\textbf{neutron generators}'\n",
    "props = dict(boxstyle='round', facecolor='white', alpha=1)\n",
    "ax1.text(75, 2e-4, s, fontsize=14, color='green', bbox=props)\n",
    "\n",
    "leg = ax1.legend(loc='center right', fontsize=fs-4, facecolor='white', framealpha=1)\n",
    "frame = leg.get_frame()\n",
    "frame.set_edgecolor('black')\n",
    "plt.xlim(0,300)\n",
    "locs, labels = plt.xticks() \n",
    "# ax1.grid(None)\n",
    "plt.tight_layout()\n",
    "plt.savefig(f'{outputfolder}/{figname}.pdf')\n",
    "plt.show()"
   ]
  },
  {
   "cell_type": "code",
   "execution_count": 67,
   "metadata": {},
   "outputs": [
    {
     "data": {
      "text/plain": [
       "(array([  0.,  50., 100., 150., 200., 250., 300.]),\n",
       " <a list of 7 Text xticklabel objects>)"
      ]
     },
     "execution_count": 67,
     "metadata": {},
     "output_type": "execute_result"
    }
   ],
   "source": [
    "locs, labels"
   ]
  },
  {
   "cell_type": "code",
   "execution_count": null,
   "metadata": {},
   "outputs": [],
   "source": []
  }
 ],
 "metadata": {
  "kernelspec": {
   "display_name": "Python 3",
   "language": "python",
   "name": "python3"
  },
  "language_info": {
   "codemirror_mode": {
    "name": "ipython",
    "version": 3
   },
   "file_extension": ".py",
   "mimetype": "text/x-python",
   "name": "python",
   "nbconvert_exporter": "python",
   "pygments_lexer": "ipython3",
   "version": "3.8.1"
  }
 },
 "nbformat": 4,
 "nbformat_minor": 4
}
