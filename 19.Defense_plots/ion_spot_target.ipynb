{
 "cells": [
  {
   "cell_type": "code",
   "execution_count": 1,
   "metadata": {},
   "outputs": [],
   "source": [
    "import pandas as pd\n",
    "import numpy as np\n",
    "import os\n",
    "import sys\n",
    "import re\n",
    "import matplotlib.pyplot as plt\n",
    "from scipy.optimize import minimize\n",
    "from scipy.optimize import curve_fit\n",
    "\n",
    "from scipy.stats import kde\n",
    "from scipy import optimize\n",
    "\n",
    "from matplotlib.ticker import NullFormatter\n",
    "from matplotlib import pyplot, transforms\n",
    "import matplotlib\n",
    "from matplotlib.ticker import AutoMinorLocator\n",
    "%matplotlib inline\n",
    "import os\n",
    "os.environ[\"PATH\"] += os.pathsep + '/usr/local/texlive/2018/bin/x86_64-darwin'\n",
    "plt.rc('text', usetex=True)\n",
    "plt.rc('font', weight='bold')\n",
    "matplotlib.rcParams['mathtext.fontset'] = 'custom'\n",
    "matplotlib.rcParams['mathtext.rm'] = 'Arial'\n",
    "matplotlib.rcParams['mathtext.it'] = 'Arial:italic'\n",
    "matplotlib.rcParams['mathtext.bf'] = 'Arial:bold'\n",
    "matplotlib.rcParams['mathtext.tt'] = 'Arial'\n",
    "matplotlib.rcParams['mathtext.cal'] = 'Arial'\n",
    "matplotlib.rcParams['text.latex.preamble'] = [r'\\usepackage{sfmath} \\boldmath']\n",
    "\n",
    "pd.set_option(\"display.max_columns\", 300)"
   ]
  },
  {
   "cell_type": "code",
   "execution_count": 2,
   "metadata": {},
   "outputs": [],
   "source": [
    "df = pd.read_csv('/Users/hkromer/02_PhD/04_Publiations/08.Defense/Figures/COMSOL_ion_spot.data', index_col=0)"
   ]
  },
  {
   "cell_type": "code",
   "execution_count": 3,
   "metadata": {},
   "outputs": [
    {
     "data": {
      "application/vnd.jupyter.widget-view+json": {
       "model_id": "8b9d3e1ad595430c940005c5d51a1cc6",
       "version_major": 2,
       "version_minor": 0
      },
      "text/plain": [
       "Canvas(toolbar=Toolbar(toolitems=[('Home', 'Reset original view', 'home', 'home'), ('Back', 'Back to previous …"
      ]
     },
     "metadata": {},
     "output_type": "display_data"
    }
   ],
   "source": [
    "df_y = pd.read_csv('/Users/hkromer/02_PhD/04_Publiations/08.Defense/Figures/COMSOL_ion_spot_y.data', index_col=0)\n",
    "df_z = pd.read_csv('/Users/hkromer/02_PhD/04_Publiations/08.Defense/Figures/COMSOL_ion_spot_z.data', index_col=0)\n",
    "\n",
    "%matplotlib widget\n",
    "fs=21\n",
    "f = plt.figure(1, figsize=(8, 6.4))\n",
    "ylims = (-0.01, 0.21)\n",
    "# top plot\n",
    "plt.subplot(2, 1, 1)\n",
    "plt.plot(df_y['y'].values, df_y['eval_y'].values, color='#1269b0', linewidth=2.0, label='z=0.56 mm')\n",
    "# plt.plot(df_y['y'].values, df_y['Y_fit_y'].values, '-.',color='#b03412',linewidth=2.0, label='Gaussian fit')\n",
    "plt.xlabel(r\"\\textbf{y [mm]}\", color='gray',fontsize=fs)\n",
    "ax = plt.gca()\n",
    "ax.tick_params('x', colors='k', labelsize=fs-2)\n",
    "ax.tick_params('y', colors='k', labelsize=fs-2)\n",
    "plt.ylabel(r\"\\textbf{Estimated PDF [mm]}\", color='gray', rotation=0, fontsize=fs)\n",
    "ax.yaxis.set_label_coords(-0.05,1.1)\n",
    "plt.legend(fontsize=fs-6)\n",
    "ylim = ax.get_ylim()\n",
    "plt.ylim(ylim[0], 0.225)\n",
    "\n",
    "plt.subplot(2, 1, 2)\n",
    "plt.plot(df_z['z'].values, df_z['eval_z'].values, color='#b03412', linewidth=2.0, label='y=0 mm')\n",
    "# plt.plot(df_z['z'].values, df_z['Y_fit_z'].values, '-.',color='#b03412',linewidth=2.0, label='Gaussian fit')\n",
    "plt.xlabel(r\"\\textbf{z [mm]}\", color='gray',fontsize=fs)\n",
    "ax = plt.gca()\n",
    "ax.tick_params('x', colors='k', labelsize=fs-2)\n",
    "ax.tick_params('y', colors='k', labelsize=fs-2)\n",
    "plt.tight_layout()\n",
    "plt.legend(fontsize=fs-6)\n",
    "ylim = ax.get_ylim()\n",
    "plt.ylim(ylim[0], 0.225)\n",
    "plt.savefig('/Users/hkromer/02_PhD/04_Publiations/08.Defense/Figures/COMSOL_ion_spot_xy.pdf')\n",
    "plt.savefig('/Users/hkromer/02_PhD/04_Publiations/08.Defense/Figures/COMSOL_ion_spot_xy.png', dpi=1500)\n",
    "\n",
    "plt.show()"
   ]
  },
  {
   "cell_type": "code",
   "execution_count": 4,
   "metadata": {},
   "outputs": [
    {
     "data": {
      "text/plain": [
       "0.5757575757575757"
      ]
     },
     "execution_count": 4,
     "metadata": {},
     "output_type": "execute_result"
    }
   ],
   "source": [
    "# maximum point for y plot\n",
    "max_idx = np.argmax(df_z['eval_z'].values)\n",
    "df_z['z'].values[max_idx]"
   ]
  },
  {
   "cell_type": "code",
   "execution_count": 5,
   "metadata": {},
   "outputs": [
    {
     "name": "stdout",
     "output_type": "stream",
     "text": [
      "[0.08010215956154754, 0.16020431912426072, 0.3204086382508527]\n"
     ]
    }
   ],
   "source": [
    "import scipy\n",
    "\n",
    "x = df[\"qy\"].values\n",
    "y = df[\"qz\"].values\n",
    "%matplotlib widget\n",
    "\n",
    "# Make a 2d normed histogram\n",
    "H,xedges,yedges=np.histogram2d(x,y,bins=40,normed=True)\n",
    "\n",
    "norm=H.sum() # Find the norm of the sum\n",
    "# Set contour levels\n",
    "contour1=0.95\n",
    "contour2=0.50\n",
    "# contour3=0.99\n",
    "\n",
    "# Set target levels as percentage of norm\n",
    "target1 = norm*contour1\n",
    "target2 = norm*contour2\n",
    "# target3 = norm*contour3\n",
    "\n",
    "# Take histogram bin membership as proportional to Likelihood\n",
    "# This is true when data comes from a Markovian process\n",
    "def objective(limit, target):\n",
    "    w = np.where(H>limit)\n",
    "    count = H[w]\n",
    "    return count.sum() - target\n",
    "\n",
    "# Find levels by summing histogram to objective\n",
    "level1= scipy.optimize.bisect(objective, H.min(), H.max(), args=(target1,))\n",
    "level2= scipy.optimize.bisect(objective, H.min(), H.max(), args=(target2,))\n",
    "# level3= scipy.optimize.bisect(objective, H.min(), H.max(), args=(target3,))\n",
    "\n",
    "# For nice contour shading with seaborn, define top level\n",
    "level4=H.max()\n",
    "# levels=[level1,level2,level3,level4]\n",
    "levels=[level1,level2, level4]\n",
    "print(levels)"
   ]
  },
  {
   "cell_type": "code",
   "execution_count": 6,
   "metadata": {},
   "outputs": [
    {
     "data": {
      "application/vnd.jupyter.widget-view+json": {
       "model_id": "ccfef5e2e7d94c9b8af421d00131d912",
       "version_major": 2,
       "version_minor": 0
      },
      "text/plain": [
       "Canvas(toolbar=Toolbar(toolitems=[('Home', 'Reset original view', 'home', 'home'), ('Back', 'Back to previous …"
      ]
     },
     "metadata": {},
     "output_type": "display_data"
    }
   ],
   "source": [
    "import seaborn as sns\n",
    "import matplotlib.pyplot as plt\n",
    "nbins = 200\n",
    "lim = 3\n",
    "#     print(data[pd.isnull(data).any(axis=1)])\n",
    "x = df['qy'].values\n",
    "y = df['qz'].values\n",
    "my_data = np.vstack([x, y])\n",
    "k = kde.gaussian_kde(my_data)\n",
    "\n",
    "xi, yi = np.mgrid[-lim:lim:nbins*1j, -lim:lim:nbins*1j]\n",
    "zi = k(np.vstack([xi.flatten(), yi.flatten()]))\n",
    "%matplotlib widget\n",
    "\n",
    "fig, ax = plt.subplots(figsize=(8,8))\n",
    "p = sns.kdeplot(df[\"qy\"].values, df[\"qz\"].values, cmap='magma', shade=True, cbar=True)\n",
    "plt.axis('equal')\n",
    "ax.set_facecolor('black')\n",
    "# ax.set_xlim(-2,2)\n",
    "# ax.set_ylim(-3,3)\n",
    "contours = ax.contour(xi, yi, zi.reshape(xi.shape), [level2], colors='black')\n",
    "ax.clabel(contours, inline=True, fontsize=12, fmt='0.50')\n",
    "contours = ax.contour(xi, yi, zi.reshape(xi.shape), [level1], colors='black')\n",
    "ax.clabel(contours, inline=True, fontsize=12, fmt='0.95')\n",
    "ax.set_yticks(np.arange(-3,4,1))\n",
    "ax.set_xticks(np.arange(-3,4,1))\n",
    "plt.xlim(-2.5,2.5)\n",
    "plt.ylim(-2.5,2.5)\n",
    "ax.collections[0].set_alpha(0)\n",
    "\n",
    "ax.figure.axes[-1].tick_params(labelsize=fs-2)\n",
    "ax.set_xlabel(r\"\\textbf{y [mm]}\", color='gray',fontsize=fs)\n",
    "ax.set_ylabel(r\"\\textbf{z [mm]}\", color='gray', rotation=0, fontsize=fs)\n",
    "ax.yaxis.set_label_coords(0,1.03)\n",
    "ax.tick_params('x', colors='k', labelsize=fs-2)\n",
    "ax.tick_params('y', colors='k', labelsize=fs-2)\n",
    "\n",
    "plt.savefig('/Users/hkromer/02_PhD/04_Publiations/08.Defense/Figures/COMSOL_ion_spot_density.pdf')\n",
    "plt.savefig('/Users/hkromer/02_PhD/04_Publiations/08.Defense/Figures/COMSOL_ion_spot_density.png', dpi=1200)\n",
    "plt.show()"
   ]
  },
  {
   "cell_type": "code",
   "execution_count": 6,
   "metadata": {},
   "outputs": [
    {
     "data": {
      "application/vnd.jupyter.widget-view+json": {
       "model_id": "fc7d96cf54754dcf99b0f7c0454f5c01",
       "version_major": 2,
       "version_minor": 0
      },
      "text/plain": [
       "Canvas(toolbar=Toolbar(toolitems=[('Home', 'Reset original view', 'home', 'home'), ('Back', 'Back to previous …"
      ]
     },
     "metadata": {},
     "output_type": "display_data"
    }
   ],
   "source": [
    "%matplotlib widget\n",
    "fig, ax = plt.subplots(figsize=(6,6))\n",
    "\n",
    "sns.kdeplot(df[\"qy\"].values, df[\"qz\"].values, cmap='viridis', cbar=True)\n",
    "plt.hist2d(df[\"qy\"].values, df[\"qz\"].values, bins=20, cmin=1e-100, cmap=\"jet\", alpha=0.4)\n",
    "# ax.collections[0].set_alpha(0)\n",
    "ax.set_facecolor('lightblue')\n",
    "plt.axis('equal')\n",
    "\n",
    "ax = plt.gca()\n",
    "ax.set_yticks(np.arange(-3,4,1))\n",
    "ax.set_xticks(np.arange(-3,4,1))\n",
    "plt.xlim(-2.5,2.5)\n",
    "plt.ylim(-2.5,2.5)\n",
    "ax.figure.axes[-1].tick_params(labelsize=fs-2)\n",
    "ax.set_xlabel(r\"\\textbf{y [mm]}\", color='gray',fontsize=fs)\n",
    "ax.set_ylabel(r\"\\textbf{z [mm]}\", color='gray', rotation=0, fontsize=fs)\n",
    "ax.yaxis.set_label_coords(0,1.03)\n",
    "ax.tick_params('x', colors='k', labelsize=fs-2)\n",
    "ax.tick_params('y', colors='k', labelsize=fs-2)\n",
    "plt.show()"
   ]
  },
  {
   "cell_type": "code",
   "execution_count": 7,
   "metadata": {},
   "outputs": [
    {
     "data": {
      "application/vnd.jupyter.widget-view+json": {
       "model_id": "8186dadbd9a943df94b24ae3d58ec687",
       "version_major": 2,
       "version_minor": 0
      },
      "text/plain": [
       "Canvas(toolbar=Toolbar(toolitems=[('Home', 'Reset original view', 'home', 'home'), ('Back', 'Back to previous …"
      ]
     },
     "metadata": {},
     "output_type": "display_data"
    }
   ],
   "source": [
    "%matplotlib widget\n",
    "fig, ax = plt.subplots(figsize=(6,6))\n",
    "\n",
    "# sns.kdeplot(df[\"qy\"].values, df[\"qz\"].values, cmap='viridis', cbar=True)\n",
    "h = plt.hist2d(df[\"qy\"].values, df[\"qz\"].values, bins=20, cmin=1e-100, cmap=\"jet\", alpha=1)\n",
    "\n",
    "plt.colorbar(h[3], ax=ax)\n",
    "# ax.collections[0].set_alpha(0)\n",
    "# ax.set_facecolor('lightblue')\n",
    "plt.axis('equal')\n",
    "\n",
    "ax = plt.gca()\n",
    "ax.set_yticks(np.arange(-3,4,1))\n",
    "ax.set_xticks(np.arange(-3,4,1))\n",
    "plt.xlim(-2.5,2.5)\n",
    "plt.ylim(-2.5,2.5)\n",
    "ax.figure.axes[-1].tick_params(labelsize=fs-2)\n",
    "ax.set_xlabel(r\"\\textbf{y [mm]}\", color='gray',fontsize=fs)\n",
    "ax.set_ylabel(r\"\\textbf{z [mm]}\", color='gray', rotation=0, fontsize=fs)\n",
    "ax.yaxis.set_label_coords(0,1.03)\n",
    "ax.tick_params('x', colors='k', labelsize=fs-2)\n",
    "ax.tick_params('y', colors='k', labelsize=fs-2)\n",
    "plt.show()"
   ]
  },
  {
   "cell_type": "code",
   "execution_count": null,
   "metadata": {},
   "outputs": [],
   "source": []
  },
  {
   "cell_type": "code",
   "execution_count": null,
   "metadata": {},
   "outputs": [],
   "source": []
  },
  {
   "cell_type": "code",
   "execution_count": null,
   "metadata": {},
   "outputs": [],
   "source": []
  },
  {
   "cell_type": "code",
   "execution_count": null,
   "metadata": {},
   "outputs": [],
   "source": []
  }
 ],
 "metadata": {
  "kernelspec": {
   "display_name": "Python 3",
   "language": "python",
   "name": "python3"
  },
  "language_info": {
   "codemirror_mode": {
    "name": "ipython",
    "version": 3
   },
   "file_extension": ".py",
   "mimetype": "text/x-python",
   "name": "python",
   "nbconvert_exporter": "python",
   "pygments_lexer": "ipython3",
   "version": "3.8.1"
  }
 },
 "nbformat": 4,
 "nbformat_minor": 4
}
