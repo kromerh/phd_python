{
 "cells": [
  {
   "cell_type": "code",
   "execution_count": 1,
   "metadata": {},
   "outputs": [],
   "source": [
    "outputfolder = '/Users/hkromer/02_PhD/04_Publiations/08.Defense/Figures/'\n",
    "figname = 'LB6411_response_flux'\n",
    "import numpy as np\n",
    "import pandas as pd\n",
    "import matplotlib\n",
    "import os\n",
    "from matplotlib.ticker import AutoMinorLocator\n",
    "import numpy as np\n",
    "import pandas as pd\n",
    "import matplotlib.pyplot as plt\n",
    "%matplotlib widget\n",
    "\n",
    "os.environ[\"PATH\"] += os.pathsep + '/usr/local/texlive/2018/bin/x86_64-darwin'\n",
    "plt.rc('text', usetex=True)\n",
    "plt.rc('font', weight='bold')\n",
    "matplotlib.rcParams['mathtext.fontset'] = 'custom'\n",
    "matplotlib.rcParams['mathtext.rm'] = 'Arial'\n",
    "matplotlib.rcParams['mathtext.it'] = 'Arial:italic'\n",
    "matplotlib.rcParams['mathtext.bf'] = 'Arial:bold'\n",
    "matplotlib.rcParams['mathtext.tt'] = 'Arial'\n",
    "matplotlib.rcParams['mathtext.cal'] = 'Arial'\n",
    "matplotlib.rcParams['text.latex.preamble'] = [r'\\usepackage{sfmath} \\boldmath']"
   ]
  },
  {
   "cell_type": "code",
   "execution_count": 22,
   "metadata": {},
   "outputs": [
    {
     "data": {
      "application/vnd.jupyter.widget-view+json": {
       "model_id": "2ad2d629e24b45a985bf19855942a8f9",
       "version_major": 2,
       "version_minor": 0
      },
      "text/plain": [
       "Canvas(toolbar=Toolbar(toolitems=[('Home', 'Reset original view', 'home', 'home'), ('Back', 'Back to previous …"
      ]
     },
     "metadata": {},
     "output_type": "display_data"
    }
   ],
   "source": [
    "df_lb6411 = pd.read_csv('/Users/hkromer/02_PhD/01.github/phd/05_MCNP/02.output_determination/MCNP_neutron_output/LB6411_energy_Rphi.txt', delimiter='\\s+', header=None)\n",
    "df_lb6411.columns = ['energy', 'response']\n",
    "%matplotlib widget\n",
    "\n",
    "X = df_lb6411['energy'].values\n",
    "y = df_lb6411['response'].values\n",
    "plt.plot(X, y, color='#b03412')\n",
    "plt.xlim(-0.1, 3.1)\n",
    "plt.show()"
   ]
  },
  {
   "cell_type": "code",
   "execution_count": 59,
   "metadata": {},
   "outputs": [
    {
     "data": {
      "application/vnd.jupyter.widget-view+json": {
       "model_id": "9180e351701349949ed18037dbe70215",
       "version_major": 2,
       "version_minor": 0
      },
      "text/plain": [
       "Canvas(toolbar=Toolbar(toolitems=[('Home', 'Reset original view', 'home', 'home'), ('Back', 'Back to previous …"
      ]
     },
     "metadata": {},
     "output_type": "display_data"
    }
   ],
   "source": [
    "data_flux = pd.read_csv('/Users/hkromer/02_PhD/04_Publiations/08.Defense/Figures/flux_plot.data', index_col=0)\n",
    "%matplotlib widget\n",
    "fs = 21\n",
    "fig, ax = plt.subplots(figsize=(10,5))\n",
    "X = data_flux['energy'].values\n",
    "y = data_flux['flux'].values\n",
    "\n",
    "plt.plot(X, y, marker='o', color='#1269b0')\n",
    "ax = plt.gca()\n",
    "ax.set_yscale('log')\n",
    "plt.ylim(1e-7, 3e-4)\n",
    "plt.yticks([1e-7, 1e-4], [r'\\textbf{10$^{-7}$}', r'\\textbf{10$^{-4}$}'])\n",
    "# Only show ticks on the left and bottom spines\n",
    "ax.spines['top'].set_visible(False)\n",
    "ax.set_xlabel(r\"\\textbf{Neutron energy [MeV]}\", color='gray',fontsize=fs)\n",
    "ax.set_ylabel(r\"\\textbf{Flux per source}\" + '\\n' + r\"\\textbf{ particle }\" + r\"$\\left[ cm^{-2} \\cdot MeV^{-1} \\right]$\", color='#1269b0', rotation=0, fontsize=fs)\n",
    "ax.yaxis.set_label_coords(0.1,1.02)\n",
    "ax.tick_params('x', colors='gray', labelsize=fs-2)\n",
    "ax.tick_params('y', colors='#1269b0', labelsize=fs-2)\n",
    "\n",
    "\n",
    "ax2 = ax.twinx()\n",
    "X = df_lb6411['energy'].values\n",
    "y = df_lb6411['response'].values\n",
    "ax2.plot(X, y, marker='s', color='#b03412')\n",
    "\n",
    "ax2.tick_params('y', colors='#b03412', labelsize=fs-2)\n",
    "ax2.spines['top'].set_visible(False)\n",
    "plt.xlim(-0.1, 3.2)\n",
    "plt.ylim(0, 1.5)\n",
    "plt.yticks([0, 1.4], [r'\\textbf{0}', r'\\textbf{1.4}'])\n",
    "plt.xticks([0, 3], [r'\\textbf{0}', r'\\textbf{3}'])\n",
    "plt.tight_layout()\n",
    "plt.savefig('/Users/hkromer/02_PhD/04_Publiations/08.Defense/Figures/flux_plot.pdf')\n",
    "plt.show()"
   ]
  },
  {
   "cell_type": "code",
   "execution_count": null,
   "metadata": {},
   "outputs": [],
   "source": [
    "\n",
    "# DD\n",
    "data_DD = pd.read_csv('/Users/hkromer/02_PhD/02_Data/04.xs/xs_DD.dat', skiprows=10, delimiter=r'\\s+')\n",
    "data_DD = data_DD.iloc[:-2,0:2]\n",
    "data_DD.columns = ['energy_MeV', 'xs_barn']\n",
    "for col in data_DD.columns:\n",
    "    data_DD[col] = data_DD[col].astype(float)\n",
    "data_DD['xs_mb'] = data_DD['xs_barn'] * (1000) # barn to mbarn\n",
    "\n",
    "# DT\n",
    "data_DT = pd.read_csv('/Users/hkromer/02_PhD/02_Data/04.xs/xs_DT.dat', skiprows=10, delimiter=r'\\s+')\n",
    "data_DT = data_DT.iloc[:-2,0:2]\n",
    "data_DT.columns = ['energy_MeV', 'xs_barn']\n",
    "for col in data_DT.columns:\n",
    "    data_DT[col] = data_DT[col].astype(float)\n",
    "# PLOT\n",
    "fig, ax1 = plt.subplots(figsize=(8, 6))\n",
    "\n",
    "fs = 20\n",
    "markersize = 8\n",
    "\n",
    "colors = ['gray', 'gray']\n",
    "# D-D\n",
    "p1=ax1.plot(data_DT['energy_MeV'].values*1000, data_DT['xs_barn'].values, '-', color='#b03412', label='D-T', linewidth=2.5)\n",
    "\n",
    "ax1.set_xlabel(r\"\\textbf{Deuteron energy [keV]}\", color='gray',fontsize=fs)\n",
    "ax1.set_ylabel(r\"\\textbf{Reaction cross section [b]}\", color='gray',fontsize=fs)\n",
    "plt.xticks([0, 80, 150, 300], [r'\\textbf{0}', r'\\textbf{80}', r'\\textbf{150}', r'\\textbf{300}']) \n",
    "\n",
    "ax1.tick_params('x', labelcolor=colors[0], colors='black', labelsize=fs-2)\n",
    "ax1.tick_params(axis='y', labelcolor=colors[0], labelsize=fs-2)\n",
    "# minor ticks x\n",
    "# minor_locator = AutoMinorLocator(2)\n",
    "# ax1.xaxis.set_minor_locator(minor_locator)\n",
    "# minor ticks y\n",
    "minor_locator = AutoMinorLocator(2)\n",
    "ax1.yaxis.set_minor_locator(minor_locator)\n",
    "# ax1.set_xticks(np.arange(0,210,30))\n",
    "# ax1.set_yticks(np.arange(0.5,2.5+0.5,0.5))\n",
    "# leg1.set_title(r\"\\textbf{Deuterium ion energy [keV]}\", prop = {'size': fs-4})\n",
    "ax1.grid(which=\"minor\",ls=\"--\", color='0.85')\n",
    "ax1.grid(which=\"major\",ls=\"-\", color='0.65')\n",
    "\n",
    "ax1.set_ylim(1e-6,1e1)\n",
    "\n",
    "ax1.set_yscale('log')\n",
    "p2=ax1.plot(data_DD['energy_MeV'].values*1000,data_DD['xs_mb'].values*1e-3, '-', color='#1269b0', label='D-D', linewidth=2.5)\n",
    "\n",
    "E_fill = [0.08*1000, 0.15*1000] # deuteron energy range to fill in keV\n",
    "ax1.fill_between(E_fill, -20, 120, facecolor='green', alpha=0.4)\n",
    "s = r'\\textbf{Compact fast}' + '\\n' + r'\\textbf{neutron generators}'\n",
    "props = dict(boxstyle='round', facecolor='white', alpha=1)\n",
    "ax1.text(75, 2e-4, s, fontsize=14, color='green', bbox=props)\n",
    "\n",
    "leg = ax1.legend(loc='center right', fontsize=fs-4, facecolor='white', framealpha=1)\n",
    "frame = leg.get_frame()\n",
    "frame.set_edgecolor('black')\n",
    "plt.xlim(0,300)\n",
    "locs, labels = plt.xticks() \n",
    "# ax1.grid(None)\n",
    "plt.tight_layout()\n",
    "# plt.savefig(f'{outputfolder}/{figname}.pdf')\n",
    "plt.show()"
   ]
  }
 ],
 "metadata": {
  "kernelspec": {
   "display_name": "Python 3",
   "language": "python",
   "name": "python3"
  },
  "language_info": {
   "codemirror_mode": {
    "name": "ipython",
    "version": 3
   },
   "file_extension": ".py",
   "mimetype": "text/x-python",
   "name": "python",
   "nbconvert_exporter": "python",
   "pygments_lexer": "ipython3",
   "version": "3.8.1"
  }
 },
 "nbformat": 4,
 "nbformat_minor": 4
}
