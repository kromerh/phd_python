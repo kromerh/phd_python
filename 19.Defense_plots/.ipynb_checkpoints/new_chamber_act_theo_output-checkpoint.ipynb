{
 "cells": [
  {
   "cell_type": "code",
   "execution_count": 1,
   "metadata": {},
   "outputs": [],
   "source": [
    "import numpy as np\n",
    "import pandas as pd\n",
    "import os\n",
    "import matplotlib\n",
    "from matplotlib import pyplot as plt\n",
    "# -------------------------------------------------------------------\n",
    "# plot ratio actual / theoretical yield\n",
    "# -------------------------------------------------------------------\n",
    "# without and with leakage current correction\n",
    "\n",
    "plt.rc('text', usetex=True)\n",
    "plt.rc('font', weight='bold')\n",
    "matplotlib.rcParams['mathtext.fontset'] = 'custom'\n",
    "matplotlib.rcParams['mathtext.rm'] = 'Arial'\n",
    "matplotlib.rcParams['mathtext.it'] = 'Arial:italic'\n",
    "matplotlib.rcParams['mathtext.bf'] = 'Arial:bold'\n",
    "matplotlib.rcParams['mathtext.tt'] = 'Arial'\n",
    "matplotlib.rcParams['mathtext.cal'] = 'Arial'\n",
    "matplotlib.rcParams['text.latex.preamble'] = [r'\\usepackage{sfmath} \\boldmath']"
   ]
  },
  {
   "cell_type": "code",
   "execution_count": 2,
   "metadata": {},
   "outputs": [],
   "source": [
    "path = '/Users/hkromer/02_PhD/04_Publiations/08.Defense/Figures/'\n",
    "df1 = pd.read_csv(f'{path}new_chamber_actual_over_theo_output_df1.csv', index_col=0)\n",
    "df2 = pd.read_csv(f'{path}new_chamber_actual_over_theo_output_df2.csv', index_col=0)\n",
    "data = pd.read_csv(f'{path}new_chamber_actual_over_theo_output_new_chamber.csv', index_col=0)\n",
    "data_robert = pd.read_csv(f'{path}new_chamber_actual_over_theo_output_robert.csv', index_col=0)"
   ]
  },
  {
   "cell_type": "code",
   "execution_count": 8,
   "metadata": {},
   "outputs": [
    {
     "data": {
      "application/vnd.jupyter.widget-view+json": {
       "model_id": "2c0b8c60b64a402cbb36356e6c977eab",
       "version_major": 2,
       "version_minor": 0
      },
      "text/plain": [
       "Canvas(toolbar=Toolbar(toolitems=[('Home', 'Reset original view', 'home', 'home'), ('Back', 'Back to previous …"
      ]
     },
     "metadata": {},
     "output_type": "display_data"
    }
   ],
   "source": [
    "%matplotlib widget\n",
    "fig = plt.figure(figsize=(8.5,5))\n",
    "fs = 22\n",
    "# axis 1\n",
    "ax1 = fig.add_subplot(1, 1, 1)\n",
    "# Hide the right and top spines\n",
    "# ax1.spines['right'].set_visible(False)\n",
    "# ax1.spines['top'].set_visible(False)\n",
    "\n",
    "ax1.plot(df1['beam_power'], df1['output_fraction'], 'v',color=\"darkorange\", markersize=10, label='-80 kV \\n (rotating target)', alpha=0.65, markeredgewidth=1.5, markeredgecolor='darkorange')\n",
    "ax1.plot(df2['beam_power'], df2['output_fraction'], 'o',color=\"darkblue\", markersize=10, label = '-90 kV \\n (rotating target)', alpha=0.65, markeredgewidth=1.5, markeredgecolor='darkblue')\n",
    "\n",
    "\n",
    "plt.ylim(0,0.3)\n",
    "plt.xlim(10,95)\n",
    "ax1.yaxis.set_ticks(np.arange(0.0,0.25+0.1,0.1))\n",
    "ax1.xaxis.set_ticks(np.arange(20,100,10))\n",
    "\n",
    "# tick font size\n",
    "ax1.tick_params('x', colors='gray', labelsize=fs-2)\t\n",
    "ax1.tick_params('y', colors='gray', labelsize=fs-2)\t\n",
    "\n",
    "ax1.set_ylabel(r'\\textbf{Source efficiency}', color='gray', rotation=0, fontsize=fs)\n",
    "ax1.yaxis.set_label_coords(0.15,1.1)\n",
    "ax1.set_xlabel(r'\\textbf{Beam power [W]}', color='gray', fontsize=fs, labelpad=2)\n",
    "\n",
    "col = '12perc'\n",
    "marker = 's'\n",
    "plot_adams, = ax1.plot(data_robert['power'].values, data_robert['expr'].values,  color='darkred', linestyle='None', markeredgecolor='darkred', label=\"Adams et al. (2015) \\n (non-rotating target)\", markersize=10, alpha=0.65, markeredgewidth=1.5, marker=marker)\n",
    "\n",
    "\n",
    "handles, labels = ax1.get_legend_handles_labels()\n",
    "# leg1 = plt.legend(handles=[handles[2], handles[0], handles[1]], labels=[labels[2], labels[0], labels[1]], bbox_to_anchor=(1.0005,1.02),loc=\"upper left\",  fontsize=fs-4)\n",
    "# leg1.set_title(r\"Gen. I neutron generator\", prop = {'size': fs-4})\n",
    "\n",
    "# leg2 = ax1.legend([plot_adams],['Adams et al. (2015)'], loc='lower right', fontsize=fs-4)\n",
    "\n",
    "plot_new, = ax1.plot(data['power'], data['output_fraction'], 'd', color='darkgreen', markersize=10, label = '90', alpha=0.85, markeredgewidth=1.5, markeredgecolor='darkgreen')\n",
    "# leg3 = ax1.legend([plot_new],['Gen. II neutron generator \\n -50 to -140 kV'], bbox_to_anchor=(1.0005,0.4),loc=\"upper left\", fontsize=fs-4)\n",
    "\n",
    "x = 43.764280 # power\n",
    "hv = -80 # hv\n",
    "y = 0.188420 # ratio\n",
    "ax1.text(x-2.5,y+0.055,f\"{hv} kV\", fontsize=18, fontweight='bold', color='darkgreen')\n",
    "#     ax1.arrow(x,y+2.5,0,-1, color='red', length_includes_head=True, head_width=0.6) \n",
    "ax1.annotate(s=None, fontsize=18, xy=(x,y+0.01), xytext=(x,y+0.05),\n",
    "        arrowprops=dict(arrowstyle='simple, head_length=0.6,head_width=0.6,tail_width=0.2', color='black', alpha=0.6), va='center', color=\"darkgreen\", alpha=0.6)\n",
    "\n",
    "hv = -100 # hv\n",
    "x = 57.159928 # power\n",
    "y = 0.228735 # ratio\n",
    "ax1.text(x-3,y+0.055,f\"{hv} kV\", fontsize=18, fontweight='bold', color='darkgreen')\n",
    "#     ax1.arrow(x,y+2.5,0,-1, color='red', length_includes_head=True, head_width=0.6) \n",
    "ax1.annotate(s=None, fontsize=18, xy=(x,y+0.01), xytext=(x,y+0.05),\n",
    "        arrowprops=dict(arrowstyle='simple, head_length=0.6,head_width=0.6,tail_width=0.2', color='black', alpha=0.6), va='center', color=\"darkgreen\", alpha=0.6)\n",
    "\n",
    "hv = -120 # hv\n",
    "x = 69.06193 # power\n",
    "y = 0.257449 # ratio\n",
    "ax1.text(x-3,y+0.055,f\"{hv} kV\", fontsize=18, fontweight='bold', color='darkgreen')\n",
    "#     ax1.arrow(x,y+2.5,0,-1, color='red', length_includes_head=True, head_width=0.6) \n",
    "ax1.annotate(s=None, fontsize=18, xy=(x,y+0.01), xytext=(x,y+0.05),\n",
    "        arrowprops=dict(arrowstyle='simple, head_length=0.6,head_width=0.6,tail_width=0.2', color='black', alpha=0.6), va='center', color=\"darkgreen\", alpha=0.6)\n",
    "\n",
    "hv = -140 # hv\n",
    "x = 81.546383 # power\n",
    "y = 0.234587 # ratio\n",
    "ax1.text(x-3,y+0.06,f\"{hv} kV\", fontsize=18, fontweight='bold', color='darkgreen')\n",
    "#     ax1.arrow(x,y+2.5,0,-1, color='red', length_includes_head=True, head_width=0.6) \n",
    "ax1.annotate(s=None, fontsize=18, xy=(x,y+0.01), xytext=(x,y+0.055),\n",
    "        arrowprops=dict(arrowstyle='simple, head_length=0.6,head_width=0.6,tail_width=0.2', color='black', alpha=0.6), va='center', color=\"darkgreen\", alpha=0.6)\n",
    "\n",
    "\n",
    "\n",
    "# Manually add the first legend back\n",
    "# ax1.add_artist(leg1)\n",
    "# ax1.add_artist(leg2)\n",
    "\n",
    "ax1.spines['top'].set_visible(False)\n",
    "ax1.spines['right'].set_visible(False)\n",
    "plt.tight_layout()\n",
    "plt.savefig(f'{path}/new_chamber_actual_over_theo_output.pdf', dpi=900)\n",
    "plt.savefig(f'{path}/new_chamber_actual_over_theo_output.png', dpi=900)\n",
    "\n",
    "plt.show()"
   ]
  },
  {
   "cell_type": "code",
   "execution_count": null,
   "metadata": {},
   "outputs": [],
   "source": []
  }
 ],
 "metadata": {
  "kernelspec": {
   "display_name": "Python 3",
   "language": "python",
   "name": "python3"
  },
  "language_info": {
   "codemirror_mode": {
    "name": "ipython",
    "version": 3
   },
   "file_extension": ".py",
   "mimetype": "text/x-python",
   "name": "python",
   "nbconvert_exporter": "python",
   "pygments_lexer": "ipython3",
   "version": "3.8.1"
  }
 },
 "nbformat": 4,
 "nbformat_minor": 4
}
