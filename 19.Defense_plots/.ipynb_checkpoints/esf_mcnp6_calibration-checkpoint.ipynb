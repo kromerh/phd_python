{
 "cells": [
  {
   "cell_type": "code",
   "execution_count": 1,
   "metadata": {},
   "outputs": [],
   "source": [
    "outputfolder = '/Users/hkromer/02_PhD/04_Publiations/08.Defense/Figures/'\n",
    "import numpy as np\n",
    "import pandas as pd\n",
    "import matplotlib\n",
    "import os\n",
    "from matplotlib.ticker import AutoMinorLocator\n",
    "import numpy as np\n",
    "import pandas as pd\n",
    "import matplotlib.pyplot as plt\n",
    "%matplotlib widget\n",
    "\n",
    "os.environ[\"PATH\"] += os.pathsep + '/usr/local/texlive/2018/bin/x86_64-darwin'\n",
    "plt.rc('text', usetex=True)\n",
    "plt.rc('font', weight='bold')\n",
    "matplotlib.rcParams['mathtext.fontset'] = 'custom'\n",
    "matplotlib.rcParams['mathtext.rm'] = 'Arial'\n",
    "matplotlib.rcParams['mathtext.it'] = 'Arial:italic'\n",
    "matplotlib.rcParams['mathtext.bf'] = 'Arial:bold'\n",
    "matplotlib.rcParams['mathtext.tt'] = 'Arial'\n",
    "matplotlib.rcParams['mathtext.cal'] = 'Arial'\n",
    "matplotlib.rcParams['text.latex.preamble'] = [r'\\usepackage{sfmath} \\boldmath']"
   ]
  },
  {
   "cell_type": "code",
   "execution_count": 2,
   "metadata": {},
   "outputs": [],
   "source": [
    "figname = 'mcnp6_calib_esf'"
   ]
  },
  {
   "cell_type": "code",
   "execution_count": 3,
   "metadata": {},
   "outputs": [
    {
     "data": {
      "text/html": [
       "<div>\n",
       "<style scoped>\n",
       "    .dataframe tbody tr th:only-of-type {\n",
       "        vertical-align: middle;\n",
       "    }\n",
       "\n",
       "    .dataframe tbody tr th {\n",
       "        vertical-align: top;\n",
       "    }\n",
       "\n",
       "    .dataframe thead th {\n",
       "        text-align: right;\n",
       "    }\n",
       "</style>\n",
       "<table border=\"1\" class=\"dataframe\">\n",
       "  <thead>\n",
       "    <tr style=\"text-align: right;\">\n",
       "      <th></th>\n",
       "      <th>x</th>\n",
       "      <th>y</th>\n",
       "    </tr>\n",
       "  </thead>\n",
       "  <tbody>\n",
       "    <tr>\n",
       "      <th>0</th>\n",
       "      <td>0.165891</td>\n",
       "      <td>0.2</td>\n",
       "    </tr>\n",
       "    <tr>\n",
       "      <th>1</th>\n",
       "      <td>0.412775</td>\n",
       "      <td>0.7</td>\n",
       "    </tr>\n",
       "    <tr>\n",
       "      <th>2</th>\n",
       "      <td>0.695014</td>\n",
       "      <td>1.2</td>\n",
       "    </tr>\n",
       "    <tr>\n",
       "      <th>3</th>\n",
       "      <td>0.985494</td>\n",
       "      <td>1.7</td>\n",
       "    </tr>\n",
       "    <tr>\n",
       "      <th>4</th>\n",
       "      <td>1.283761</td>\n",
       "      <td>2.2</td>\n",
       "    </tr>\n",
       "  </tbody>\n",
       "</table>\n",
       "</div>"
      ],
      "text/plain": [
       "          x    y\n",
       "0  0.165891  0.2\n",
       "1  0.412775  0.7\n",
       "2  0.695014  1.2\n",
       "3  0.985494  1.7\n",
       "4  1.283761  2.2"
      ]
     },
     "execution_count": 3,
     "metadata": {},
     "output_type": "execute_result"
    }
   ],
   "source": [
    "data_gauss = pd.read_csv('/Users/hkromer/02_PhD/04_Publiations/08.Defense/Figures/calibration_curve_gauss.data', index_col=0)\n",
    "data_tophat = pd.read_csv('/Users/hkromer/02_PhD/04_Publiations/08.Defense/Figures/calibration_curve_tophat.data', index_col=0)\n",
    "\n",
    "data_tophat.head()"
   ]
  },
  {
   "cell_type": "code",
   "execution_count": 5,
   "metadata": {},
   "outputs": [
    {
     "data": {
      "application/vnd.jupyter.widget-view+json": {
       "model_id": "f31bc57e21504211b3658e10c868bd86",
       "version_major": 2,
       "version_minor": 0
      },
      "text/plain": [
       "Canvas(toolbar=Toolbar(toolitems=[('Home', 'Reset original view', 'home', 'home'), ('Back', 'Back to previous …"
      ]
     },
     "metadata": {},
     "output_type": "display_data"
    }
   ],
   "source": [
    "%matplotlib widget\n",
    "\n",
    "fs = 21\n",
    "# fig, ax = plt.subplots(figsize=(8,8))\n",
    "X = data_gauss['x'].values\n",
    "y = data_gauss['y'].values\n",
    "plt.plot(X, y, color=\"#1269b0\", lw=2.5, label=r'Gauss')\n",
    "\n",
    "X = data_tophat['x'].values\n",
    "y = data_tophat['y'].values\n",
    "plt.plot(X, y, color=\"#b03412\", lw=2.5,label=r'Tophat')\n",
    "ax = plt.gca()\n",
    "ax.spines['top'].set_visible(False)\n",
    "ax.spines['right'].set_visible(False)\n",
    "ax.set_xlabel(r\"\\textbf{FWHM seen by detector [mm]}\", color='gray',fontsize=fs)\n",
    "ax.set_ylabel(r\"\\textbf{Emitting spot FWHM [mm]}\", color='gray', rotation=0, fontsize=fs)\n",
    "ax.yaxis.set_label_coords(0.1,1.1)\n",
    "\n",
    "ax.tick_params('x', colors='k', labelsize=fs-2)\n",
    "ax.tick_params('y', colors='k', labelsize=fs-2)\n",
    "ylim = ax.get_ylim()\n",
    "xlim = ax.get_xlim()\n",
    "# gauss\n",
    "plt.plot([2.5, 2.5], [-10, 4.1], ls=':', color='red')\n",
    "plt.plot([-5, 2.5], [2.95, 2.95], ls=':', color='red')\n",
    "\n",
    "# tophat\n",
    "# plt.plot([2.5, 2.5], [-10, 4.1], ls=':', color='red')\n",
    "plt.plot([-5, 2.5], [4.1, 4.1], ls=':', color='red')\n",
    "plt.scatter([xlim[0]], [2.95], color='#1269b0')\n",
    "plt.scatter([xlim[0]], [4.1], color='#b03412')\n",
    "\n",
    "ax.text(-0.1, 3.1, r'\\textbf{3.0 mm}', fontsize=fs-4, color='#1269b0')\n",
    "ax.text(-0.1, 4.2, r'\\textbf{4.1 mm}', fontsize=fs-4, color='#b03412')\n",
    "# plt.xticks([-6, 0, 6], [r'\\textbf{-6}', r'\\textbf{0}', r'\\textbf{6}'])\n",
    "plt.yticks([0,  4], [r'\\textbf{0}',  r'\\textbf{4}'])\n",
    "plt.legend(loc='upper left', fontsize=fs-6)\n",
    "plt.ylim([ylim[0], 7])\n",
    "plt.xlim(xlim)\n",
    "plt.tight_layout()\n",
    "plt.savefig(f\"{outputfolder}/esf_calibr_plot.pdf\")\n",
    "plt.show()"
   ]
  },
  {
   "cell_type": "code",
   "execution_count": 88,
   "metadata": {},
   "outputs": [
    {
     "data": {
      "application/vnd.jupyter.widget-view+json": {
       "model_id": "36e6b04eb66347e5913477ff3b1b809d",
       "version_major": 2,
       "version_minor": 0
      },
      "text/plain": [
       "Canvas(toolbar=Toolbar(toolitems=[('Home', 'Reset original view', 'home', 'home'), ('Back', 'Back to previous …"
      ]
     },
     "metadata": {},
     "output_type": "display_data"
    }
   ],
   "source": [
    "import scipy.stats as st\n",
    "%matplotlib widget\n",
    "\n",
    "xs = np.linspace(-7, 7, 100)\n",
    "\n",
    "# tophat\n",
    "ys = np.zeros(xs.shape[0])\n",
    "m = ((xs <= 2.5) & (xs >= -2.5))\n",
    "ys[m] = 0.162\n",
    "\n",
    "# gauss\n",
    "pdf_normal = st.norm.pdf(xs, loc=0, scale=2.5)\n",
    "\n",
    "lw = 6\n",
    "\n",
    "plt.plot(xs, pdf_normal, color=\"#1269b0\", lw=lw, label=r'Gauss')\n",
    "plt.plot(xs, ys, color=\"#b03412\", lw=lw, label=r'Tophat')\n",
    "# plt.legend(loc='upper right', fontsize=fs-6)\n",
    "ax = plt.gca()\n",
    "plt.yticks([])\n",
    "plt.xticks([])\n",
    "ax.spines['top'].set_visible(False)\n",
    "ax.spines['right'].set_visible(False)\n",
    "ax.spines['left'].set_visible(False)\n",
    "plt.savefig(f\"{outputfolder}/esf_calibr_plot_gauss_tophat.pdf\")\n",
    "\n",
    "plt.show()"
   ]
  },
  {
   "cell_type": "code",
   "execution_count": 89,
   "metadata": {},
   "outputs": [
    {
     "data": {
      "application/vnd.jupyter.widget-view+json": {
       "model_id": "c2259c7d76e34954abecf5fbf9b87a46",
       "version_major": 2,
       "version_minor": 0
      },
      "text/plain": [
       "Canvas(toolbar=Toolbar(toolitems=[('Home', 'Reset original view', 'home', 'home'), ('Back', 'Back to previous …"
      ]
     },
     "metadata": {},
     "output_type": "display_data"
    }
   ],
   "source": [
    "import scipy.stats as st\n",
    "%matplotlib widget\n",
    "\n",
    "xs = np.linspace(-7, 7, 100)\n",
    "\n",
    "# tophat\n",
    "ys = np.zeros(xs.shape[0])\n",
    "m = ((xs <= 2.5) & (xs >= -2.5))\n",
    "ys[m] = 0.162\n",
    "\n",
    "# gauss\n",
    "pdf_normal = st.norm.pdf(xs, loc=0, scale=2.5)\n",
    "\n",
    "lw = 6\n",
    "\n",
    "plt.plot(xs, pdf_normal, color=\"#D3D3D3\", lw=lw, label=r'Gauss')\n",
    "plt.plot(xs, ys, color=\"#A9A9A9\", lw=lw, label=r'Tophat')\n",
    "# plt.legend(loc='upper right', fontsize=fs-6)\n",
    "ax = plt.gca()\n",
    "plt.yticks([])\n",
    "plt.xticks([])\n",
    "ax.spines['top'].set_visible(False)\n",
    "ax.spines['right'].set_visible(False)\n",
    "ax.spines['left'].set_visible(False)\n",
    "plt.savefig(f\"{outputfolder}/esf_calibr_plot_gauss_tophat_gray.pdf\")\n",
    "\n",
    "plt.show()"
   ]
  },
  {
   "cell_type": "code",
   "execution_count": null,
   "metadata": {},
   "outputs": [],
   "source": []
  }
 ],
 "metadata": {
  "kernelspec": {
   "display_name": "Python 3",
   "language": "python",
   "name": "python3"
  },
  "language_info": {
   "codemirror_mode": {
    "name": "ipython",
    "version": 3
   },
   "file_extension": ".py",
   "mimetype": "text/x-python",
   "name": "python",
   "nbconvert_exporter": "python",
   "pygments_lexer": "ipython3",
   "version": "3.8.1"
  }
 },
 "nbformat": 4,
 "nbformat_minor": 4
}
