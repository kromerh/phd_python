{
 "cells": [
  {
   "cell_type": "code",
   "execution_count": 9,
   "metadata": {},
   "outputs": [],
   "source": [
    "outputfolder = '/Users/hkromer/02_PhD/04_Publiations/08.Defense/Figures/'\n",
    "import numpy as np\n",
    "import pandas as pd\n",
    "import matplotlib\n",
    "import os\n",
    "from matplotlib.ticker import AutoMinorLocator\n",
    "import numpy as np\n",
    "import pandas as pd\n",
    "import seaborn as sns\n",
    "import matplotlib.pyplot as plt\n",
    "%matplotlib widget\n",
    "\n",
    "os.environ[\"PATH\"] += os.pathsep + '/usr/local/texlive/2018/bin/x86_64-darwin'\n",
    "plt.rc('text', usetex=True)\n",
    "plt.rc('font', weight='bold')\n",
    "matplotlib.rcParams['mathtext.fontset'] = 'custom'\n",
    "matplotlib.rcParams['mathtext.rm'] = 'Arial'\n",
    "matplotlib.rcParams['mathtext.it'] = 'Arial:italic'\n",
    "matplotlib.rcParams['mathtext.bf'] = 'Arial:bold'\n",
    "matplotlib.rcParams['mathtext.tt'] = 'Arial'\n",
    "matplotlib.rcParams['mathtext.cal'] = 'Arial'\n",
    "matplotlib.rcParams['text.latex.preamble'] = [r'\\usepackage{sfmath} \\boldmath']"
   ]
  },
  {
   "cell_type": "code",
   "execution_count": 14,
   "metadata": {},
   "outputs": [
    {
     "name": "stdout",
     "output_type": "stream",
     "text": [
      "<class 'pandas.core.frame.DataFrame'>\n",
      "Int64Index: 345 entries, 0 to 344\n",
      "Data columns (total 2 columns):\n",
      " #   Column  Non-Null Count  Dtype  \n",
      "---  ------  --------------  -----  \n",
      " 0   0       202 non-null    float64\n",
      " 1   label   345 non-null    object \n",
      "dtypes: float64(1), object(1)\n",
      "memory usage: 8.1+ KB\n"
     ]
    }
   ],
   "source": [
    "df = pd.read_csv('/Users/hkromer/02_PhD/04_Publiations/08.Defense/Figures/ess_countrate_suppression_proof.data', index_col=0)\n",
    "df.info()"
   ]
  },
  {
   "cell_type": "code",
   "execution_count": 29,
   "metadata": {},
   "outputs": [
    {
     "data": {
      "application/vnd.jupyter.widget-view+json": {
       "model_id": "ab6da3504d24400eac6bba309fd77e2c",
       "version_major": 2,
       "version_minor": 0
      },
      "text/plain": [
       "Canvas(toolbar=Toolbar(toolitems=[('Home', 'Reset original view', 'home', 'home'), ('Back', 'Back to previous …"
      ]
     },
     "metadata": {},
     "output_type": "display_data"
    }
   ],
   "source": [
    "%matplotlib widget\n",
    "\n",
    "fig, ax = plt.subplots(figsize=(9,4))\n",
    "fs = 20\n",
    "\n",
    "# Make a dictionary with one specific color per group:\n",
    "my_pal = {\"no lead\": \"#95d0fc\", \"lead\": \"#a83c09\"}\n",
    "sns.violinplot(x='label', y='0', data=df, ax=ax, width=0.25, inner='quartile', bw=0.2, palette=my_pal)\n",
    "\n",
    "\n",
    "# plt.title('Reference detectors')\n",
    "# ax.set(yscale=\"log\")\n",
    "ax.set_ylabel('Normalized countrate in the detector \\n [1/(30s) * 1/(30s)]')\n",
    "ax.set_xlabel(r'\\textbf{Lead shielding}')\n",
    "plt.ylim(0.07, 0.11)\n",
    "plt.xticks([0, 1], [r'\\textbf{No}', r'\\textbf{Yes}'])\n",
    "ax.spines['top'].set_visible(False)\n",
    "ax.spines['right'].set_visible(False)\n",
    "ax.tick_params('x', colors='k', labelsize=fs-2)\n",
    "ax.tick_params('y', colors='k', labelsize=fs-2)\n",
    "plt.tight_layout()\n",
    "plt.show()"
   ]
  },
  {
   "cell_type": "code",
   "execution_count": 114,
   "metadata": {},
   "outputs": [
    {
     "data": {
      "application/vnd.jupyter.widget-view+json": {
       "model_id": "31c7ee063b6447d4aa75ca77c7b0bab7",
       "version_major": 2,
       "version_minor": 0
      },
      "text/plain": [
       "Canvas(toolbar=Toolbar(toolitems=[('Home', 'Reset original view', 'home', 'home'), ('Back', 'Back to previous …"
      ]
     },
     "metadata": {},
     "output_type": "display_data"
    }
   ],
   "source": [
    "%matplotlib widget\n",
    "\n",
    "fig, ax = plt.subplots(figsize=(7,6))\n",
    "fs = 20\n",
    "df['plotx'] = 1\n",
    "# Make a dictionary with one specific color per group:\n",
    "my_pal = {\"no lead\": \"#1269b0\", \"lead\": \"#b03412\"}\n",
    "\n",
    "p = sns.violinplot(x='plotx', y='0', data=df, ax=ax, hue='label', width=0.25, inner='quartile', bw=0.2, palette=my_pal, split=True)\n",
    "\n",
    "\n",
    "# plt.title('Reference detectors')\n",
    "# ax.set(yscale=\"log\")\n",
    "# ax.set_ylabel('Normalized countrate in the detector \\n [1/(30s) * 1/(30s)]')\n",
    "ax.set_ylabel(r\"\\textbf{Normalized countrate [-]}\", color='gray', rotation=0, fontsize=fs)\n",
    "ax.yaxis.set_label_coords(0.1,1.1)\n",
    "ax.set_xlabel(None)\n",
    "# plt.ylim(0.07, 0.11)\n",
    "plt.xticks([])\n",
    "ax.spines['top'].set_visible(False)\n",
    "ax.spines['right'].set_visible(False)\n",
    "ax.tick_params('x', colors='k', labelsize=fs-2)\n",
    "ax.tick_params('y', colors='k', labelsize=fs-2)\n",
    "\n",
    "# LEGEND\n",
    "handles, labels = ax.get_legend_handles_labels()\n",
    "labels = ['No', 'Yes']\n",
    "leg = ax.legend(handles=handles, labels=labels)\n",
    "leg.set_title(r\"\\textbf{Lead shielding}\", prop={'size': 13})\n",
    "plt.tight_layout()\n",
    "plt.yticks([0.075, 0.110])\n",
    "plt.setp(ax.collections, alpha=.5)\n",
    "plt.savefig(f\"{outputfolder}/ess_proof_suppression.pdf\")\n",
    "ylim = ax.get_ylim()\n",
    "plt.show()"
   ]
  },
  {
   "cell_type": "code",
   "execution_count": 94,
   "metadata": {},
   "outputs": [],
   "source": [
    "lead = df.loc[ df.loc[:, 'label'] == 'lead']\n",
    "no_lead = df.loc[ df.loc[:, 'label'] == 'no lead']"
   ]
  },
  {
   "cell_type": "code",
   "execution_count": 115,
   "metadata": {},
   "outputs": [
    {
     "data": {
      "application/vnd.jupyter.widget-view+json": {
       "model_id": "7297bf57b77e4885b375d27d86a8f5ff",
       "version_major": 2,
       "version_minor": 0
      },
      "text/plain": [
       "Canvas(toolbar=Toolbar(toolitems=[('Home', 'Reset original view', 'home', 'home'), ('Back', 'Back to previous …"
      ]
     },
     "metadata": {},
     "output_type": "display_data"
    },
    {
     "name": "stderr",
     "output_type": "stream",
     "text": [
      "/Users/hkromer/anaconda3/envs/py3.7/lib/python3.8/site-packages/numpy/lib/histograms.py:839: RuntimeWarning: invalid value encountered in greater_equal\n",
      "  keep = (tmp_a >= first_edge)\n",
      "/Users/hkromer/anaconda3/envs/py3.7/lib/python3.8/site-packages/numpy/lib/histograms.py:840: RuntimeWarning: invalid value encountered in less_equal\n",
      "  keep &= (tmp_a <= last_edge)\n",
      "/Users/hkromer/anaconda3/envs/py3.7/lib/python3.8/site-packages/numpy/lib/histograms.py:839: RuntimeWarning: invalid value encountered in greater_equal\n",
      "  keep = (tmp_a >= first_edge)\n",
      "/Users/hkromer/anaconda3/envs/py3.7/lib/python3.8/site-packages/numpy/lib/histograms.py:840: RuntimeWarning: invalid value encountered in less_equal\n",
      "  keep &= (tmp_a <= last_edge)\n",
      "/Users/hkromer/anaconda3/envs/py3.7/lib/python3.8/site-packages/numpy/lib/histograms.py:839: RuntimeWarning: invalid value encountered in greater_equal\n",
      "  keep = (tmp_a >= first_edge)\n",
      "/Users/hkromer/anaconda3/envs/py3.7/lib/python3.8/site-packages/numpy/lib/histograms.py:840: RuntimeWarning: invalid value encountered in less_equal\n",
      "  keep &= (tmp_a <= last_edge)\n"
     ]
    }
   ],
   "source": [
    "%matplotlib widget\n",
    "\n",
    "fig, ax = plt.subplots(figsize=(7,4))\n",
    "fs = 20\n",
    "df['plotx'] = 1\n",
    "# Make a dictionary with one specific color per group:\n",
    "# p = sns.violinplot(x='plotx', y='0', data=df, ax=ax, hue='label', width=0.25, inner='quartile', bw=0.2, palette=my_pal, split=True)\n",
    "p = plt.hist(no_lead['0'].values, bins=20, density=True, histtype='step', label='No',  color=my_pal['no lead'], lw=3)\n",
    "p = plt.hist(lead['0'].values, bins=20, density=True, histtype='step', label='Yes',  color=my_pal['lead'], lw=3)\n",
    "plt.hist(no_lead['0'].values, bins=20, density=True,   color=my_pal['no lead'], alpha=0.2)\n",
    "plt.hist(lead['0'].values, bins=20, density=True,  color=my_pal['lead'], alpha=0.2)\n",
    "\n",
    "# p = plt.hist(no_lead['0'].values, bins=20, density=True, label='No',  color=my_pal['no lead'])\n",
    "# p = plt.hist(lead['0'].values, bins=20, density=True,  label='Yes',  color=my_pal['lead'])\n",
    "\n",
    "# plt.title('Reference detectors')\n",
    "# ax.set(yscale=\"log\")\n",
    "# ax.set_ylabel('Normalized countrate in the detector \\n [1/(30s) * 1/(30s)]')\n",
    "ax.set_ylabel(r\"\\textbf{Density [-]}\", color='gray', rotation=0, fontsize=fs)\n",
    "ax.yaxis.set_label_coords(0.025,1.1)\n",
    "ax.set_xlabel(r\"\\textbf{Normalized countrate [-]}\", color='gray',)\n",
    "# plt.ylim(0.07, 0.11)\n",
    "# plt.xticks([])\n",
    "ax.spines['top'].set_visible(False)\n",
    "ax.spines['right'].set_visible(False)\n",
    "ax.tick_params('x', colors='k', labelsize=fs-2)\n",
    "ax.tick_params('y', colors='k', labelsize=fs-2)\n",
    "\n",
    "# LEGEND\n",
    "handles, labels = ax.get_legend_handles_labels()\n",
    "# labels = ['No', 'Yes']\n",
    "leg = ax.legend(handles=handles, labels=labels)\n",
    "leg.set_title(r\"\\textbf{Lead shielding}\", prop={'size': 13})\n",
    "plt.xticks([0.075, 0.110])\n",
    "plt.xlim(ylim)\n",
    "plt.tight_layout()\n",
    "plt.savefig(f\"{outputfolder}/ess_proof_suppression_hist.pdf\")\n",
    "plt.show()"
   ]
  },
  {
   "cell_type": "code",
   "execution_count": null,
   "metadata": {},
   "outputs": [],
   "source": []
  }
 ],
 "metadata": {
  "kernelspec": {
   "display_name": "Python 3",
   "language": "python",
   "name": "python3"
  },
  "language_info": {
   "codemirror_mode": {
    "name": "ipython",
    "version": 3
   },
   "file_extension": ".py",
   "mimetype": "text/x-python",
   "name": "python",
   "nbconvert_exporter": "python",
   "pygments_lexer": "ipython3",
   "version": "3.8.1"
  }
 },
 "nbformat": 4,
 "nbformat_minor": 4
}
