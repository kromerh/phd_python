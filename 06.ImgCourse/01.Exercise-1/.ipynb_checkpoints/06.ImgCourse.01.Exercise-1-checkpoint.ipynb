{
 "cells": [
  {
   "cell_type": "markdown",
   "metadata": {},
   "source": [
    "# Radiation-based imaging methods\n",
    "\n",
    "\n",
    "# Exercise session 2 - 2019-03-06\n",
    "\n",
    "## Solutions"
   ]
  },
  {
   "cell_type": "markdown",
   "metadata": {},
   "source": [
    "### Contact:\n",
    "\n",
    "- Lecturer: Dr. Robert Adams, adams@lke.mavt.ethz.ch\n",
    "- Teaching assistant: Heiko Kromer, heiko.kromer@psi.ch\n",
    "- Teaching assistant: Benoit Soubelet, benoit.soubelet@psi.ch"
   ]
  },
  {
   "cell_type": "markdown",
   "metadata": {},
   "source": [
    "## Exercise 1 - Valley of minimal error\n",
    "\n",
    "*Derive the valley of minimal error for density gauging (gamma densitometry) and show that it has a minimum at µx=2. Remember that the variance of Poisson noise is equal to its mean value.*\n",
    "\n",
    "### Solution\n",
    "\n",
    "This problem is typical for a density measurement, i.e. the density of sintered materials. The objective is to optimize the setup with respect to x or t.\n",
    "\n",
    "...See handwritten notes...\n",
    "\n",
    "$$\\Delta \\mu = \\frac{1}{x*C} * \\Delta C = \\frac{1}{x*\\sqrt{C}}$$\n",
    "\n",
    "The relative error is hence $\\Delta \\mu/\\mu$ and reads:\n",
    "\n",
    "$$\\frac{\\Delta \\mu}{\\mu}=\\frac{1}{\\mu*x}*\\frac{1}{\\sqrt{C_0*exp[-\\mu*x]}}=\\frac{1}{\\mu*x}*\\sqrt{\\frac{exp[\\mu*x]}{I_0*t}}$$\n",
    "\n",
    "We can rewrite this:\n",
    "\n",
    "$$\\frac{\\Delta \\mu}{\\mu} = f(y) = \\frac{1}{y}*\\sqrt{\\frac{exp[y]}{a}}$$\n",
    "\n",
    "Where $a=I_0*t$, and $y=\\mu*x$.\n",
    "Finding the minimum of this function with respect to $y=\\mu*x$ will yield an extreme value (minimum or maximum)."
   ]
  },
  {
   "cell_type": "markdown",
   "metadata": {},
   "source": [
    "#### Finding the minimum of the function $f(y)$"
   ]
  },
  {
   "cell_type": "code",
   "execution_count": 117,
   "metadata": {},
   "outputs": [],
   "source": [
    "from sympy import *\n",
    "import numpy as np\n",
    "import matplotlib.pyplot as plt\n",
    "import matplotlib.ticker as mticker\n",
    "init_printing()  # sympy inline printing"
   ]
  },
  {
   "cell_type": "code",
   "execution_count": 97,
   "metadata": {},
   "outputs": [],
   "source": [
    "y,a = symbols('y a')  # initialize symbols\n",
    "\n",
    "def f(y,a): \n",
    "    return (1/y)*sqrt((exp(y)/a))\n",
    "\n",
    "# differentiate\n",
    "diff1 = diff(f(y,a),y)\n",
    "diff2 = diff(f(y,a),y,2)"
   ]
  },
  {
   "cell_type": "code",
   "execution_count": 98,
   "metadata": {},
   "outputs": [
    {
     "name": "stdout",
     "output_type": "stream",
     "text": [
      "The first derivative of f(y,a) wrt y is: sqrt(exp(y)/a)/(2*y) - sqrt(exp(y)/a)/y**2\n"
     ]
    },
    {
     "data": {
      "image/png": "[encoded data removed]",
      "text/latex": [
       "$$\\frac{\\sqrt{\\frac{e^{y}}{a}}}{2 y} - \\frac{\\sqrt{\\frac{e^{y}}{a}}}{y^{2}}$$"
      ],
      "text/plain": [
       "     ____        ____\n",
       "    ╱  y        ╱  y \n",
       "   ╱  ℯ        ╱  ℯ  \n",
       "  ╱   ──      ╱   ── \n",
       "╲╱    a     ╲╱    a  \n",
       "───────── - ─────────\n",
       "   2⋅y           2   \n",
       "                y    "
      ]
     },
     "execution_count": 98,
     "metadata": {},
     "output_type": "execute_result"
    }
   ],
   "source": [
    "print(f'The first derivative of f(y,a) wrt y is: {diff1}')\n",
    "diff1"
   ]
  },
  {
   "cell_type": "code",
   "execution_count": 99,
   "metadata": {},
   "outputs": [
    {
     "name": "stdout",
     "output_type": "stream",
     "text": [
      "The second derivative of f(y,a) wrt y is: sqrt(exp(y)/a)*(1/4 - 1/y + 2/y**2)/y\n"
     ]
    },
    {
     "data": {
      "image/png": "[encoded data removed]",
      "text/latex": [
       "$$\\frac{\\sqrt{\\frac{e^{y}}{a}} \\left(\\frac{1}{4} - \\frac{1}{y} + \\frac{2}{y^{2}}\\right)}{y}$$"
      ],
      "text/plain": [
       "     ____             \n",
       "    ╱  y              \n",
       "   ╱  ℯ   ⎛1   1   2 ⎞\n",
       "  ╱   ── ⋅⎜─ - ─ + ──⎟\n",
       "╲╱    a   ⎜4   y    2⎟\n",
       "          ⎝        y ⎠\n",
       "──────────────────────\n",
       "          y           "
      ]
     },
     "execution_count": 99,
     "metadata": {},
     "output_type": "execute_result"
    }
   ],
   "source": [
    "print(f'The second derivative of f(y,a) wrt y is: {diff2}')\n",
    "diff2"
   ]
  },
  {
   "cell_type": "code",
   "execution_count": 100,
   "metadata": {},
   "outputs": [
    {
     "data": {
      "image/png": "[encoded data removed]",
      "text/latex": [
       "$$\\left\\{2\\right\\}$$"
      ],
      "text/plain": [
       "{2}"
      ]
     },
     "execution_count": 100,
     "metadata": {},
     "output_type": "execute_result"
    }
   ],
   "source": [
    "min_or_max = solveset(Eq(diff1, 0), y)\n",
    "min_or_max"
   ]
  },
  {
   "cell_type": "code",
   "execution_count": 101,
   "metadata": {},
   "outputs": [
    {
     "data": {
      "image/png": "[encoded data removed]",
      "text/latex": [
       "$$\\frac{e \\sqrt{\\frac{1}{a}}}{8}$$"
      ],
      "text/plain": [
       "      ___\n",
       "     ╱ 1 \n",
       "ℯ⋅  ╱  ─ \n",
       "  ╲╱   a \n",
       "─────────\n",
       "    8    "
      ]
     },
     "execution_count": 101,
     "metadata": {},
     "output_type": "execute_result"
    }
   ],
   "source": [
    "diff2.subs(y,2)"
   ]
  },
  {
   "cell_type": "markdown",
   "metadata": {},
   "source": [
    "This is a positive number since $a=I_0*t$ is positive. Hence the $y=\\mu*x=2$ is the minimum!"
   ]
  },
  {
   "cell_type": "markdown",
   "metadata": {},
   "source": [
    "#### Plot the valley of minimal error\n"
   ]
  },
  {
   "cell_type": "code",
   "execution_count": 129,
   "metadata": {},
   "outputs": [
    {
     "data": {
      "image/png": "[encoded data removed]",
      "text/plain": [
       "<Figure size 432x288 with 1 Axes>"
      ]
     },
     "metadata": {
      "needs_background": "light"
     },
     "output_type": "display_data"
    }
   ],
   "source": [
    "x = np.linspace(0.001,10,100)\n",
    "a = np.asarray([1e3, 1e4, 1e5, 1e6])\n",
    "\n",
    "def f(y,a): \n",
    "    return (1/y)*np.sqrt((np.exp(y)/a))\n",
    "\n",
    "\n",
    "# plot\n",
    "for a_i in a:\n",
    "    plt.plot(x, f(x,a_i)*100, label='a=%.1E'%a_i)\n",
    "\n",
    "\n",
    "plt.plot([2, 2], [0, 10],'k--')\n",
    "plt.ylim(0,10)\n",
    "plt.xlim(0.10)\n",
    "plt.ylabel('f(y,a) [%]')\n",
    "plt.xlabel('y [-]')\n",
    "plt.title('Exercise 1 - Valley of minimal error')\n",
    "plt.legend(loc=1)\n",
    "plt.grid()\n",
    "plt.show()"
   ]
  },
  {
   "cell_type": "code",
   "execution_count": null,
   "metadata": {},
   "outputs": [],
   "source": []
  }
 ],
 "metadata": {
  "kernelspec": {
   "display_name": "Python 3",
   "language": "python",
   "name": "python3"
  },
  "language_info": {
   "codemirror_mode": {
    "name": "ipython",
    "version": 3
   },
   "file_extension": ".py",
   "mimetype": "text/x-python",
   "name": "python",
   "nbconvert_exporter": "python",
   "pygments_lexer": "ipython3",
   "version": "3.7.1"
  }
 },
 "nbformat": 4,
 "nbformat_minor": 2
}
