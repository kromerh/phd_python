{
 "cells": [
  {
   "cell_type": "markdown",
   "metadata": {},
   "source": [
    "# COMSOL file 002.justfluid.001_out.np12.mph\n",
    "\n",
    "- /Users/hkromer/02_PhD/02_Data/01_COMSOL/cfd/02.justFluid/002.justfluid.001_out.np12.mph\n",
    "\n",
    "The objective is to find out if the fluid flow is fully developed after some distance Z from the point of perturbation where the fluid is no longer flowing down into the target but upwards. \n",
    "\n",
    "- laminar flow\n",
    "- 2D axissymmetric study\n",
    "\n",
    "\n",
    "<img src=\"02.justfluid.001.vel_magnitude.png\" style=\"width: 15%\">"
   ]
  },
  {
   "cell_type": "code",
   "execution_count": null,
   "metadata": {},
   "outputs": [],
   "source": [
    "import numpy as np\n",
    "import pandas as pd\n",
    "import os\n",
    "import matplotlib\n",
    "import matplotlib.pyplot as plt\n",
    "from scipy import interpolate\n",
    "from matplotlib.ticker import AutoMinorLocator"
   ]
  },
  {
   "cell_type": "code",
   "execution_count": null,
   "metadata": {},
   "outputs": [],
   "source": [
    "os.environ[\"PATH\"] += os.pathsep + '/usr/local/texlive/2018/bin/x86_64-darwin'\n",
    "plt.rc('text', usetex=True)\n",
    "plt.rc('font', weight='bold')\n",
    "matplotlib.rcParams['mathtext.fontset'] = 'custom'\n",
    "matplotlib.rcParams['mathtext.rm'] = 'Arial'\n",
    "matplotlib.rcParams['mathtext.it'] = 'Arial:italic'\n",
    "matplotlib.rcParams['mathtext.bf'] = 'Arial:bold'\n",
    "matplotlib.rcParams['mathtext.tt'] = 'Arial'\n",
    "matplotlib.rcParams['mathtext.cal'] = 'Arial'\n",
    "matplotlib.rcParams['text.latex.preamble'] = [r'\\usepackage{sfmath} \\boldmath']"
   ]
  },
  {
   "cell_type": "code",
   "execution_count": null,
   "metadata": {},
   "outputs": [],
   "source": [
    "fname = '/Users/hkromer/02_PhD/02_Data/01_COMSOL/cfd/02.justFluid/02.justFluid.001.vel_magn.different_z.csv'\n",
    "folder = '/Users/hkromer/02_PhD/02_Data/01_COMSOL/cfd/02.justFluid/'"
   ]
  },
  {
   "cell_type": "code",
   "execution_count": null,
   "metadata": {},
   "outputs": [],
   "source": [
    "df = pd.read_csv(fname, skiprows=8)\n",
    "df.columns = ['r', 'z', 'U']   # r coordinate, z coordinate, velocity magnitude in m/s\n",
    "df.head()"
   ]
  },
  {
   "cell_type": "markdown",
   "metadata": {},
   "source": [
    "Group by z values and plot U vs r"
   ]
  },
  {
   "cell_type": "code",
   "execution_count": null,
   "metadata": {},
   "outputs": [],
   "source": [
    "df['z'] = df['z'].astype(int)\n",
    "z_values = np.array(df['z'].unique(), dtype=int)\n",
    "print(z_values)\n",
    "\n",
    "for z in z_values:\n",
    "    this_df = df[ df['z'] == z ]\n",
    "    this_df = this_df.sort_values(by=['r'])\n",
    "    plt.plot(this_df['r'].values, this_df['U'].values, color='darkblue')\n",
    "    plt.scatter(this_df['r'].values, this_df['U'].values, color='darkblue')\n",
    "    plt.title(f'Velocity magnitude at z = {z} mm')\n",
    "    plt.xlabel('r coordinate [mm]')\n",
    "    plt.ylabel('Velocity magnitude [m/s]')\n",
    "    plt.grid()\n",
    "    plt.show()\n",
    "    \n",
    "    "
   ]
  },
  {
   "cell_type": "markdown",
   "metadata": {},
   "source": [
    "Group by z values and plot U vs r difference relative to the z = 50 mm case"
   ]
  },
  {
   "cell_type": "code",
   "execution_count": null,
   "metadata": {},
   "outputs": [],
   "source": [
    "\n",
    "ref_df = df[ df['z'] == 175 ]\n",
    "ref_df = ref_df.sort_values(by=['r'])\n",
    "# interpolate\n",
    "x = ref_df['r'].values\n",
    "\n",
    "print(ref_df.head())\n",
    "    \n",
    "    \n",
    "z_values = z_values[z_values < 175]\n",
    "\n",
    "for z in z_values:\n",
    "    this_df = df[ df['z'] == z ]\n",
    "    this_df = this_df.sort_values(by=['r'])\n",
    "    \n",
    "    # interpolate the velocity magnitudes \n",
    "    interpU = interpolate.interp1d(this_df['r'].values, this_df['U'].values, fill_value='extrapolate')\n",
    "    \n",
    "    y0 = ref_df['U'].values\n",
    "    y = interpU(x)\n",
    "    \n",
    "    rel_diff = 100.0*(np.abs(y-y0)/y0)\n",
    "    \n",
    "    plt.plot(x, rel_diff, color='darkblue')\n",
    "    plt.scatter(x, rel_diff, color='darkblue')\n",
    "    plt.title(f'Relative difference velocity magnitude at z = {z} mm')\n",
    "    plt.xlabel('r coordinate [mm]')\n",
    "    plt.ylabel('Velocity magnitude [%]')\n",
    "    plt.ylim(0, 10)\n",
    "    plt.grid()\n",
    "    plt.show()\n",
    "    "
   ]
  },
  {
   "cell_type": "markdown",
   "metadata": {},
   "source": [
    "## Plot selected z values"
   ]
  },
  {
   "cell_type": "code",
   "execution_count": null,
   "metadata": {},
   "outputs": [],
   "source": [
    "folder = '/Users/hkromer/polybox/Thesis/Chapters/RotatingIonBeamTarget/Figures/justfluid_fully_developed_flow/'\n",
    "ref_df = df[ df['z'] == 175 ]\n",
    "ref_df = ref_df.sort_values(by=['r'])\n",
    "# interpolate\n",
    "x = ref_df['r'].values\n",
    "\n",
    " \n",
    "    \n",
    "z_values = [20, 40, 50]\n",
    "ys = []\n",
    "for z in z_values:\n",
    "    this_df = df[ df['z'] == z ]\n",
    "    this_df = this_df.sort_values(by=['r'])\n",
    "    # interpolate the velocity magnitudes \n",
    "    interpU = interpolate.interp1d(this_df['r'].values, this_df['U'].values, fill_value='extrapolate')\n",
    "    \n",
    "    y0 = ref_df['U'].values\n",
    "    y = interpU(x)\n",
    "    \n",
    "    rel_diff = 100.0*(np.abs(y-y0)/y0)\n",
    "    ys.append(rel_diff)\n",
    "\n",
    "plt.figure(figsize=(10,10))\n",
    "fs = 16+10\n",
    "ls = 16+10\n",
    "msize = 80\n",
    "\n",
    "ax1 = plt.subplot(311)\n",
    "plt.plot(x, ys[0], label=f'$z_0+{z_values[0]}$ mm', color='darkblue')\n",
    "plt.scatter(x, ys[0], color='darkblue', s=msize)\n",
    "# plt.setp(ax1.get_xticklabels(), fontsize=6)\n",
    "plt.setp(ax1.get_xticklabels(), visible=False)\n",
    "# plt.title(f'Relative difference velocity magnitude')\n",
    "plt.ylim(0, 10)\n",
    "plt.grid()\n",
    "legend = plt.legend(loc=(0.4,0.5), fontsize=fs-6)\n",
    "plt.setp(legend.get_title(),fontsize=fs)\n",
    "ax1.tick_params(axis = 'both', which = 'major', labelsize = ls)\n",
    "# minor ticks x\n",
    "minor_locator = AutoMinorLocator(2)\n",
    "ax1.xaxis.set_minor_locator(minor_locator)\n",
    "# minor ticks y\n",
    "minor_locator = AutoMinorLocator(2)\n",
    "ax1.yaxis.set_minor_locator(minor_locator)\n",
    "\n",
    "# share x only\n",
    "ax2 = plt.subplot(312, sharex=ax1)\n",
    "plt.plot(x, ys[1], label=f'$z_0+{z_values[1]}$ mm', color='darkblue')\n",
    "plt.scatter(x, ys[1], color='darkblue', s=msize)\n",
    "plt.ylim(0, 10)\n",
    "plt.ylabel(r'\\textbf{Relative difference in velocity magnitude [\\%]}', fontsize=fs)\n",
    "# make these tick labels invisible\n",
    "plt.setp(ax2.get_xticklabels(), visible=False)\n",
    "plt.grid()\n",
    "\n",
    "legend = plt.legend(loc=(0.4,0.5), fontsize=fs-6)\n",
    "plt.setp(legend.get_title(),fontsize=fs)\n",
    "\n",
    "ax2.tick_params(axis = 'both', which = 'major', labelsize = ls)\n",
    "# minor ticks x\n",
    "minor_locator = AutoMinorLocator(2)\n",
    "ax2.xaxis.set_minor_locator(minor_locator)\n",
    "# minor ticks y\n",
    "minor_locator = AutoMinorLocator(2)\n",
    "ax2.yaxis.set_minor_locator(minor_locator)\n",
    "\n",
    "# share x and y\n",
    "ax3 = plt.subplot(313, sharex=ax1, sharey=ax1)\n",
    "plt.plot(x, ys[2], label=f'$z_0+{z_values[2]}$ mm', color='darkblue')\n",
    "plt.scatter(x, ys[2], color='darkblue', s=msize)\n",
    "plt.ylim(0, 10)\n",
    "\n",
    "legend = plt.legend(loc=(0.4,0.5), fontsize=fs-6)\n",
    "plt.setp(legend.get_title(),fontsize=fs)\n",
    "\n",
    "ax3.tick_params(axis = 'both', which = 'major', labelsize = ls)\n",
    "# minor ticks x\n",
    "minor_locator = AutoMinorLocator(2)\n",
    "ax3.xaxis.set_minor_locator(minor_locator)\n",
    "# minor ticks y\n",
    "minor_locator = AutoMinorLocator(2)\n",
    "ax3.yaxis.set_minor_locator(minor_locator)\n",
    "plt.grid()\n",
    "for ax in [ax1, ax2, ax3]:\n",
    "    ax.grid(b=True, which='major', linestyle='-')\n",
    "    ax.grid(b=True, which='minor', linestyle='--')\n",
    "\n",
    "for ax in [ax1, ax2, ax3]:\n",
    "    ax.plot((15.0, 15.0), (-10, 100), 'k--', linewidth=3, color='black')#, label='wall-fluid interface')  # Cu-water interface\n",
    "    ax.plot((17.0, 17.0), (-10, 100), 'k--', linewidth=3, color='black')#, label='wall-fluid interface')  # Cu-water interface\n",
    "\n",
    "plt.xlabel(r'\\textbf{r coordinate [mm]}',fontsize=fs)\n",
    "plt.ylim(0, 10)\n",
    "# plt.tight_layout()\n",
    "# plt.savefig(f'{folder}/justfluid_fully_developed_flow.png', dpi=600)\n",
    "plt.savefig(f'{folder}/justfluid_fully_developed_flow.pdf', dpi=600)\n",
    "plt.show()"
   ]
  },
  {
   "cell_type": "code",
   "execution_count": null,
   "metadata": {},
   "outputs": [],
   "source": []
  },
  {
   "cell_type": "code",
   "execution_count": null,
   "metadata": {},
   "outputs": [],
   "source": []
  },
  {
   "cell_type": "code",
   "execution_count": null,
   "metadata": {},
   "outputs": [],
   "source": []
  },
  {
   "cell_type": "code",
   "execution_count": null,
   "metadata": {},
   "outputs": [],
   "source": []
  },
  {
   "cell_type": "code",
   "execution_count": null,
   "metadata": {},
   "outputs": [],
   "source": []
  },
  {
   "cell_type": "code",
   "execution_count": null,
   "metadata": {},
   "outputs": [],
   "source": []
  }
 ],
 "metadata": {
  "kernelspec": {
   "display_name": "Python 3",
   "language": "python",
   "name": "python3"
  },
  "language_info": {
   "codemirror_mode": {
    "name": "ipython",
    "version": 3
   },
   "file_extension": ".py",
   "mimetype": "text/x-python",
   "name": "python",
   "nbconvert_exporter": "python",
   "pygments_lexer": "ipython3",
   "version": "3.7.4"
  }
 },
 "nbformat": 4,
 "nbformat_minor": 4
}
