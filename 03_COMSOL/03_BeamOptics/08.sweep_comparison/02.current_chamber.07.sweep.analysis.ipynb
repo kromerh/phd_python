{
 "cells": [
  {
   "cell_type": "markdown",
   "metadata": {},
   "source": [
    "# COMSOL Study Analysis: Parameter sweeps\n",
    "\n",
    "\n",
    "## Particle positions at surface of target\n",
    "\n",
    "\n",
    "- current chamber\n",
    "- microwave extraction aperture (1 mm diameter)\n",
    "- surface mesh\n",
    "- 5000 particles\n",
    "\n",
    "- COMSOL files 07.sweep. See notion card for the details of sweeps\n",
    "- FWHM and plots are in /Users/hkromer/02_PhD/02_Data/01_COMSOL/01_IonOptics/02.current_chamber/07.sweep/particleData/plots/2D_histograms_lastTimestep/\n",
    "\n",
    "\n",
    "- last accessed: 2019-02-12\n",
    "\n",
    "\n",
    "\n"
   ]
  },
  {
   "cell_type": "markdown",
   "metadata": {},
   "source": [
    "### Import statements"
   ]
  },
  {
   "cell_type": "code",
   "execution_count": 2,
   "metadata": {},
   "outputs": [],
   "source": [
    "import pandas as pd\n",
    "import numpy as np\n",
    "import os\n",
    "import sys\n",
    "import re\n",
    "import matplotlib.pyplot as plt\n",
    "from scipy.optimize import minimize\n",
    "from scipy.stats import kde\n",
    "from scipy import optimize\n",
    "from matplotlib.ticker import NullFormatter\n",
    "from matplotlib import pyplot, transforms\n",
    "\n",
    "pd.set_option(\"display.max_columns\", 300)"
   ]
  },
  {
   "cell_type": "markdown",
   "metadata": {},
   "source": [
    "### Specify path to datafile"
   ]
  },
  {
   "cell_type": "code",
   "execution_count": 49,
   "metadata": {},
   "outputs": [],
   "source": [
    "file_path = '/Users/hkromer/02_PhD/02_Data/01_COMSOL/01_IonOptics/02.current_chamber/07.sweep/particleData/plots/2D_histograms_lastTimestep/df_FWHMs.csv'\n",
    "\n",
    "fig_save_path = '/Users/hkromer/02_PhD/02_Data/01_COMSOL/01_IonOptics/02.current_chamber/07.sweep/particleData/plots/2D_histograms_lastTimestep/sweep_analysis/'"
   ]
  },
  {
   "cell_type": "code",
   "execution_count": 50,
   "metadata": {},
   "outputs": [
    {
     "name": "stdout",
     "output_type": "stream",
     "text": [
      "       FWHM_y    FWHM_x      FWHM  hat_x_width  hat_y_width  \\\n",
      "ID                                                            \n",
      "001  2.460711  2.042375  2.251543     2.150993     2.121303   \n",
      "001  1.606303  1.319134  1.462718     1.420075     2.000000   \n",
      "001  1.952440  1.613644  1.783042     1.745072     2.000000   \n",
      "002  1.049686  0.840581  0.945134     2.000000     1.995816   \n",
      "002  1.346404 -1.097006  1.221705     1.065264     1.999999   \n",
      "\n",
      "                               runfile run_type sweep_variable  \\\n",
      "ID                                                               \n",
      "001  07.sweep.001.particleData.txt.csv       TD       V_HV=-60   \n",
      "001  07.sweep.001.particleData.txt.csv       TD      V_HV=-100   \n",
      "001  07.sweep.001.particleData.txt.csv       TD       V_HV=-80   \n",
      "002  07.sweep.002.particleData.txt.csv       TD      V_HV=-150   \n",
      "002  07.sweep.002.particleData.txt.csv       TD      V_HV=-120   \n",
      "\n",
      "                              filename  \n",
      "ID                                      \n",
      "001  07.sweep.001.particleData.txt.csv  \n",
      "001  07.sweep.001.particleData.txt.csv  \n",
      "001  07.sweep.001.particleData.txt.csv  \n",
      "002  07.sweep.002.particleData.txt.csv  \n",
      "002  07.sweep.002.particleData.txt.csv  \n"
     ]
    }
   ],
   "source": [
    "df = pd.read_csv(file_path)\n",
    "\n",
    "def extract_ID(row):\n",
    "    ID = re.findall(r'\\.(\\d\\d\\d)\\.particleData', row)[0]\n",
    "    return ID\n",
    "\n",
    "df['ID'] = df['id'].apply(lambda x: extract_ID(x))\n",
    "df['filename'] = df['id']\n",
    "df = df.drop('id', axis='columns').set_index('ID')\n",
    "\n",
    "\n",
    "print(df.head())"
   ]
  },
  {
   "cell_type": "markdown",
   "metadata": {},
   "source": [
    "## Processing the sweeps separately"
   ]
  },
  {
   "cell_type": "markdown",
   "metadata": {},
   "source": [
    "### 001 & 002: Target high voltage\n",
    "\n",
    "Also give the sweep info what the parameter is (x value for the plots)"
   ]
  },
  {
   "cell_type": "code",
   "execution_count": 68,
   "metadata": {},
   "outputs": [],
   "source": [
    "ID_process = ['001', '002']\n",
    "sweep_info = 'High voltage [kV]'\n",
    "y_label = 'FWHM [mm]'\n",
    "fig_title = 'FWHM versus target high voltage'"
   ]
  },
  {
   "cell_type": "markdown",
   "metadata": {},
   "source": [
    "### Extract FWHM and make plot for these IDs"
   ]
  },
  {
   "cell_type": "code",
   "execution_count": 69,
   "metadata": {},
   "outputs": [
    {
     "data": {
      "image/png": "[encoded data removed]",
      "text/plain": [
       "<Figure size 432x288 with 1 Axes>"
      ]
     },
     "metadata": {
      "needs_background": "light"
     },
     "output_type": "display_data"
    },
    {
     "name": "stdout",
     "output_type": "stream",
     "text": [
      "       FWHM_y    FWHM_x      FWHM  hat_x_width  hat_y_width  \\\n",
      "ID                                                            \n",
      "001  2.460711  2.042375  2.251543     2.150993     2.121303   \n",
      "001  1.952440  1.613644  1.783042     1.745072     2.000000   \n",
      "001  1.606303  1.319134  1.462718     1.420075     2.000000   \n",
      "002  1.346404  1.097006  1.221705     1.065264     1.999999   \n",
      "002  1.049686  0.840581  0.945134     2.000000     1.995816   \n",
      "\n",
      "                               runfile run_type sweep_variable  \\\n",
      "ID                                                               \n",
      "001  07.sweep.001.particleData.txt.csv       TD       V_HV=-60   \n",
      "001  07.sweep.001.particleData.txt.csv       TD       V_HV=-80   \n",
      "001  07.sweep.001.particleData.txt.csv       TD      V_HV=-100   \n",
      "002  07.sweep.002.particleData.txt.csv       TD      V_HV=-120   \n",
      "002  07.sweep.002.particleData.txt.csv       TD      V_HV=-150   \n",
      "\n",
      "                              filename  sweep_val sweep_short  \n",
      "ID                                                             \n",
      "001  07.sweep.001.particleData.txt.csv      -60.0        V_HV  \n",
      "001  07.sweep.001.particleData.txt.csv      -80.0        V_HV  \n",
      "001  07.sweep.001.particleData.txt.csv     -100.0        V_HV  \n",
      "002  07.sweep.002.particleData.txt.csv     -120.0        V_HV  \n",
      "002  07.sweep.002.particleData.txt.csv     -150.0        V_HV  \n"
     ]
    }
   ],
   "source": [
    "df_data = df.loc[ID_process, :]\n",
    "\n",
    "# convert FWHMs to absolute values\n",
    "df_data['FWHM_y'] = np.abs(df_data['FWHM_y'])\n",
    "df_data['FWHM_x'] = np.abs(df_data['FWHM_x'])\n",
    "\n",
    "def extract_sweep_val(row):\n",
    "    sweep_val = re.findall(r'=(.*)$', row)[0]\n",
    "    return sweep_val\n",
    "\n",
    "def extract_sweep_short(row):\n",
    "    s = re.findall(r'(.*)=', row)[0]\n",
    "    return s\n",
    "\n",
    "df_data['sweep_val'] = df_data['sweep_variable'].apply(lambda x: extract_sweep_val(x)).astype(float)\n",
    "df_data['sweep_short'] = df_data['sweep_variable'].apply(lambda x: extract_sweep_short(x))\n",
    "df_data = df_data.sort_values(by='sweep_val', ascending=False)\n",
    "\n",
    "_ = df_data.plot(kind='line', style='.-', x='sweep_val', y=['FWHM_x', 'FWHM_y'], ms=10)\n",
    "_ = plt.xlim(np.min(df_data['sweep_val'])*1.05, np.max(df_data['sweep_val'])*0.9)\n",
    "_ = plt.grid()\n",
    "_ = plt.xlabel(sweep_info)\n",
    "_ = plt.ylabel(y_label)\n",
    "_ = plt.title(fig_title)\n",
    "\n",
    "\n",
    "# save figure\n",
    "directory = f'{fig_save_path}/'\n",
    "if not os.path.exists(directory):\n",
    "    os.makedirs(directory)\n",
    "\n",
    "filename =  f'{fig_save_path}/{ID_process[0]}.{df_data.sweep_short.unique()[0]}'\n",
    "\n",
    "plt.savefig(filename + '.png', dpi=600)\n",
    "plt.show()\n",
    "print(df_data)"
   ]
  },
  {
   "cell_type": "markdown",
   "metadata": {},
   "source": [
    "\n",
    "## 003 & 004: Distance extr electrode back to front of ion source\n",
    "\n",
    "Also give the sweep info what the parameter is (x value for the plots)"
   ]
  },
  {
   "cell_type": "code",
   "execution_count": 70,
   "metadata": {},
   "outputs": [],
   "source": [
    "ID_process = ['003', '004']\n",
    "sweep_info = 'Distance back of electrode to front of ion source [mm]'\n",
    "y_label = 'FWHM [mm]'\n",
    "fig_title = 'FWHM versus distance extraction electrode'"
   ]
  },
  {
   "cell_type": "code",
   "execution_count": 71,
   "metadata": {},
   "outputs": [
    {
     "data": {
      "image/png": "[encoded data removed]",
      "text/plain": [
       "<Figure size 432x288 with 1 Axes>"
      ]
     },
     "metadata": {
      "needs_background": "light"
     },
     "output_type": "display_data"
    },
    {
     "name": "stdout",
     "output_type": "stream",
     "text": [
      "       FWHM_y    FWHM_x      FWHM  hat_x_width  hat_y_width  \\\n",
      "ID                                                            \n",
      "004  1.129293  0.915245  1.022269     0.924039     1.999999   \n",
      "004  1.264301  1.029461  1.146881     1.090463     2.000276   \n",
      "004  1.421878  1.161582  1.291730     1.254325     2.000000   \n",
      "003  1.607993  1.313439  1.460716     1.305500     2.000000   \n",
      "003  1.830787  1.508010  1.669398     1.585371     2.000031   \n",
      "003  2.080365  1.712578  1.896472     1.989868     2.000051   \n",
      "\n",
      "                               runfile run_type  sweep_variable  \\\n",
      "ID                                                                \n",
      "004  07.sweep.004.particleData.txt.csv       TD  Extr.offset=13   \n",
      "004  07.sweep.004.particleData.txt.csv       TD  Extr.offset=12   \n",
      "004  07.sweep.004.particleData.txt.csv       TD  Extr.offset=11   \n",
      "003  07.sweep.003.particleData.txt.csv       TD  Extr.offset=10   \n",
      "003  07.sweep.003.particleData.txt.csv       TD   Extr.offset=9   \n",
      "003  07.sweep.003.particleData.txt.csv       TD   Extr.offset=8   \n",
      "\n",
      "                              filename  sweep_val  sweep_short  \n",
      "ID                                                              \n",
      "004  07.sweep.004.particleData.txt.csv       13.0  Extr.offset  \n",
      "004  07.sweep.004.particleData.txt.csv       12.0  Extr.offset  \n",
      "004  07.sweep.004.particleData.txt.csv       11.0  Extr.offset  \n",
      "003  07.sweep.003.particleData.txt.csv       10.0  Extr.offset  \n",
      "003  07.sweep.003.particleData.txt.csv        9.0  Extr.offset  \n",
      "003  07.sweep.003.particleData.txt.csv        8.0  Extr.offset  \n"
     ]
    }
   ],
   "source": [
    "df_data = df.loc[ID_process, :]\n",
    "\n",
    "# convert FWHMs to absolute values\n",
    "df_data['FWHM_y'] = np.abs(df_data['FWHM_y'])\n",
    "df_data['FWHM_x'] = np.abs(df_data['FWHM_x'])\n",
    "\n",
    "def extract_sweep_val(row):\n",
    "    sweep_val = re.findall(r'=(.*)$', row)[0]\n",
    "    return sweep_val\n",
    "\n",
    "def extract_sweep_short(row):\n",
    "    s = re.findall(r'(.*)=', row)[0]\n",
    "    return s\n",
    "\n",
    "df_data['sweep_val'] = df_data['sweep_variable'].apply(lambda x: extract_sweep_val(x)).astype(float)\n",
    "df_data['sweep_short'] = df_data['sweep_variable'].apply(lambda x: extract_sweep_short(x))\n",
    "df_data = df_data.sort_values(by='sweep_val', ascending=False)\n",
    "\n",
    "_ = df_data.plot(kind='line', style='.-', x='sweep_val', y=['FWHM_x', 'FWHM_y'], ms=10)\n",
    "_ = plt.xlim(np.min(df_data['sweep_val'])*0.95, np.max(df_data['sweep_val'])*1.05)\n",
    "_ = plt.grid()\n",
    "_ = plt.xlabel(sweep_info)\n",
    "_ = plt.ylabel(y_label)\n",
    "_ = plt.title(fig_title)\n",
    "\n",
    "\n",
    "# save figure\n",
    "directory = f'{fig_save_path}/'\n",
    "if not os.path.exists(directory):\n",
    "    os.makedirs(directory)\n",
    "\n",
    "filename =  f'{fig_save_path}/{ID_process[0]}.{df_data.sweep_short.unique()[0]}'\n",
    "\n",
    "plt.savefig(filename + '.png', dpi=600)\n",
    "plt.show()\n",
    "print(df_data)"
   ]
  },
  {
   "cell_type": "code",
   "execution_count": null,
   "metadata": {},
   "outputs": [],
   "source": []
  },
  {
   "cell_type": "markdown",
   "metadata": {},
   "source": [
    "\n",
    "## 005 & 006: Distance between target surface and ion source aperture\n",
    "\n",
    "Also give the sweep info what the parameter is (x value for the plots)"
   ]
  },
  {
   "cell_type": "code",
   "execution_count": 72,
   "metadata": {},
   "outputs": [],
   "source": [
    "ID_process = ['005', '006']\n",
    "sweep_info = 'Distance between target surface and ion source aperture [mm]'\n",
    "y_label = 'FWHM [mm]'\n",
    "fig_title = 'FWHM versus distance target surface'"
   ]
  },
  {
   "cell_type": "code",
   "execution_count": 73,
   "metadata": {},
   "outputs": [
    {
     "data": {
      "image/png": "[encoded data removed]",
      "text/plain": [
       "<Figure size 432x288 with 1 Axes>"
      ]
     },
     "metadata": {
      "needs_background": "light"
     },
     "output_type": "display_data"
    },
    {
     "name": "stdout",
     "output_type": "stream",
     "text": [
      "       FWHM_y    FWHM_x      FWHM  hat_x_width  hat_y_width  \\\n",
      "ID                                                            \n",
      "006  7.250730  0.535999  3.893365     2.778354     2.513405   \n",
      "006  2.479692  2.068675  2.274183     2.295297     2.409998   \n",
      "006  2.246626  1.848196  2.047411     1.988669     2.070089   \n",
      "005  2.055727  1.665151  1.860439     1.804630     2.005561   \n",
      "005  1.810021  1.448348  1.629185     1.625121     1.999607   \n",
      "005  1.603819  1.315915  1.459867     1.332952     2.000000   \n",
      "\n",
      "                               runfile run_type       sweep_variable  \\\n",
      "ID                                                                     \n",
      "006  07.sweep.006.particleData.txt.csv       TD  Target.L_offset=120   \n",
      "006  07.sweep.006.particleData.txt.csv       TD  Target.L_offset=110   \n",
      "006  07.sweep.006.particleData.txt.csv       TD  Target.L_offset=100   \n",
      "005  07.sweep.005.particleData.txt.csv       TD   Target.L_offset=90   \n",
      "005  07.sweep.005.particleData.txt.csv       TD   Target.L_offset=80   \n",
      "005  07.sweep.005.particleData.txt.csv       TD   Target.L_offset=70   \n",
      "\n",
      "                              filename  sweep_val      sweep_short  \n",
      "ID                                                                  \n",
      "006  07.sweep.006.particleData.txt.csv      120.0  Target.L_offset  \n",
      "006  07.sweep.006.particleData.txt.csv      110.0  Target.L_offset  \n",
      "006  07.sweep.006.particleData.txt.csv      100.0  Target.L_offset  \n",
      "005  07.sweep.005.particleData.txt.csv       90.0  Target.L_offset  \n",
      "005  07.sweep.005.particleData.txt.csv       80.0  Target.L_offset  \n",
      "005  07.sweep.005.particleData.txt.csv       70.0  Target.L_offset  \n"
     ]
    }
   ],
   "source": [
    "df_data = df.loc[ID_process, :]\n",
    "\n",
    "# convert FWHMs to absolute values\n",
    "df_data['FWHM_y'] = np.abs(df_data['FWHM_y'])\n",
    "df_data['FWHM_x'] = np.abs(df_data['FWHM_x'])\n",
    "\n",
    "def extract_sweep_val(row):\n",
    "    sweep_val = re.findall(r'=(.*)$', row)[0]\n",
    "    return sweep_val\n",
    "\n",
    "def extract_sweep_short(row):\n",
    "    s = re.findall(r'(.*)=', row)[0]\n",
    "    return s\n",
    "\n",
    "df_data['sweep_val'] = df_data['sweep_variable'].apply(lambda x: extract_sweep_val(x)).astype(float)\n",
    "df_data['sweep_short'] = df_data['sweep_variable'].apply(lambda x: extract_sweep_short(x))\n",
    "df_data = df_data.sort_values(by='sweep_val', ascending=False)\n",
    "\n",
    "_ = df_data.plot(kind='line', style='.-', x='sweep_val', y=['FWHM_x', 'FWHM_y'], ms=10)\n",
    "_ = plt.xlim(np.min(df_data['sweep_val'])*0.95, np.max(df_data['sweep_val'])*1.05)\n",
    "_ = plt.grid()\n",
    "_ = plt.xlabel(sweep_info)\n",
    "_ = plt.ylabel(y_label)\n",
    "_ = plt.title(fig_title)\n",
    "\n",
    "\n",
    "# save figure\n",
    "directory = f'{fig_save_path}/'\n",
    "if not os.path.exists(directory):\n",
    "    os.makedirs(directory)\n",
    "\n",
    "filename =  f'{fig_save_path}/{ID_process[0]}.{df_data.sweep_short.unique()[0]}'\n",
    "\n",
    "plt.savefig(filename + '.png', dpi=600)\n",
    "plt.show()\n",
    "print(df_data)"
   ]
  },
  {
   "cell_type": "code",
   "execution_count": null,
   "metadata": {},
   "outputs": [],
   "source": []
  },
  {
   "cell_type": "markdown",
   "metadata": {},
   "source": [
    "\n",
    "## 007 & 008: High voltage of extraction electrode \n",
    "\n",
    "Also give the sweep info what the parameter is (x value for the plots)"
   ]
  },
  {
   "cell_type": "code",
   "execution_count": 74,
   "metadata": {},
   "outputs": [],
   "source": [
    "ID_process = ['007', '008']\n",
    "sweep_info = 'High voltage of extraction electrode [kV]'\n",
    "y_label = 'FWHM [mm]'\n",
    "fig_title = 'FWHM versus extraction electrode voltage'"
   ]
  },
  {
   "cell_type": "code",
   "execution_count": 75,
   "metadata": {},
   "outputs": [
    {
     "data": {
      "image/png": "[encoded data removed]",
      "text/plain": [
       "<Figure size 432x288 with 1 Axes>"
      ]
     },
     "metadata": {
      "needs_background": "light"
     },
     "output_type": "display_data"
    },
    {
     "name": "stdout",
     "output_type": "stream",
     "text": [
      "       FWHM_y    FWHM_x      FWHM  hat_x_width  hat_y_width  \\\n",
      "ID                                                            \n",
      "007  1.048314  0.841661  0.944987     2.000000     1.995832   \n",
      "007  1.344276  1.096502  1.220389     1.072634     1.999999   \n",
      "007  1.606607  1.319418  1.463012     1.404328     2.000012   \n",
      "008  1.840673  1.519625  1.680149     1.706082     2.000023   \n",
      "008  2.060251  1.703700  1.881976     1.965838     1.999518   \n",
      "008  2.265256  1.876972  2.071114     2.025801     2.000243   \n",
      "\n",
      "                               runfile run_type     sweep_variable  \\\n",
      "ID                                                                   \n",
      "007  07.sweep.007.particleData.txt.csv       TD    V_extraction=-2   \n",
      "007  07.sweep.007.particleData.txt.csv       TD  V_extraction=-2.5   \n",
      "007  07.sweep.007.particleData.txt.csv       TD    V_extraction=-3   \n",
      "008  07.sweep.008.particleData.txt.csv       TD  V_extraction=-3.5   \n",
      "008  07.sweep.008.particleData.txt.csv       TD    V_extraction=-4   \n",
      "008  07.sweep.008.particleData.txt.csv       TD  V_extraction=-4.5   \n",
      "\n",
      "                              filename  sweep_val   sweep_short  \n",
      "ID                                                               \n",
      "007  07.sweep.007.particleData.txt.csv       -2.0  V_extraction  \n",
      "007  07.sweep.007.particleData.txt.csv       -2.5  V_extraction  \n",
      "007  07.sweep.007.particleData.txt.csv       -3.0  V_extraction  \n",
      "008  07.sweep.008.particleData.txt.csv       -3.5  V_extraction  \n",
      "008  07.sweep.008.particleData.txt.csv       -4.0  V_extraction  \n",
      "008  07.sweep.008.particleData.txt.csv       -4.5  V_extraction  \n"
     ]
    }
   ],
   "source": [
    "df_data = df.loc[ID_process, :]\n",
    "\n",
    "# convert FWHMs to absolute values\n",
    "df_data['FWHM_y'] = np.abs(df_data['FWHM_y'])\n",
    "df_data['FWHM_x'] = np.abs(df_data['FWHM_x'])\n",
    "\n",
    "def extract_sweep_val(row):\n",
    "    sweep_val = re.findall(r'=(.*)$', row)[0]\n",
    "    return sweep_val\n",
    "\n",
    "def extract_sweep_short(row):\n",
    "    s = re.findall(r'(.*)=', row)[0]\n",
    "    return s\n",
    "\n",
    "df_data['sweep_val'] = df_data['sweep_variable'].apply(lambda x: extract_sweep_val(x)).astype(float)\n",
    "df_data['sweep_short'] = df_data['sweep_variable'].apply(lambda x: extract_sweep_short(x))\n",
    "df_data = df_data.sort_values(by='sweep_val', ascending=False)\n",
    "\n",
    "_ = df_data.plot(kind='line', style='.-', x='sweep_val', y=['FWHM_x', 'FWHM_y'], ms=10)\n",
    "_ = plt.xlim(np.min(df_data['sweep_val'])*1.05, np.max(df_data['sweep_val'])*0.95)\n",
    "_ = plt.grid()\n",
    "_ = plt.xlabel(sweep_info)\n",
    "_ = plt.ylabel(y_label)\n",
    "_ = plt.title(fig_title)\n",
    "\n",
    "\n",
    "# save figure\n",
    "directory = f'{fig_save_path}/'\n",
    "if not os.path.exists(directory):\n",
    "    os.makedirs(directory)\n",
    "\n",
    "filename =  f'{fig_save_path}/{ID_process[0]}.{df_data.sweep_short.unique()[0]}'\n",
    "\n",
    "plt.savefig(filename + '.png', dpi=600)\n",
    "plt.show()\n",
    "print(df_data)"
   ]
  },
  {
   "cell_type": "code",
   "execution_count": null,
   "metadata": {},
   "outputs": [],
   "source": []
  }
 ],
 "metadata": {
  "kernelspec": {
   "display_name": "Python 3",
   "language": "python",
   "name": "python3"
  },
  "language_info": {
   "codemirror_mode": {
    "name": "ipython",
    "version": 3
   },
   "file_extension": ".py",
   "mimetype": "text/x-python",
   "name": "python",
   "nbconvert_exporter": "python",
   "pygments_lexer": "ipython3",
   "version": "3.7.1"
  }
 },
 "nbformat": 4,
 "nbformat_minor": 2
}
