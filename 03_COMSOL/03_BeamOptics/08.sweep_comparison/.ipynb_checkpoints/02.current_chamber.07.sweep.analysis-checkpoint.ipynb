{
 "cells": [
  {
   "cell_type": "code",
   "execution_count": null,
   "metadata": {},
   "outputs": [],
   "source": [
    "# COMSOL Study: Parameter sweeps\n",
    "\n",
    "\n",
    "## Particle positions at surface of target\n",
    "\n",
    "\n",
    "- current chamber\n",
    "- microwave extraction aperture (1 mm diameter)\n",
    "- surface mesh\n",
    "- 5000 particles\n",
    "\n",
    "- COMSOL files 07.sweep. See notion card for the details of sweeps\n",
    "- only **last timestep** is imported\n",
    "\n",
    "- last accessed: 2019-02-12\n",
    "\n",
    "\n",
    "\n"
   ]
  }
 ],
 "metadata": {
  "kernelspec": {
   "display_name": "Python 3",
   "language": "python",
   "name": "python3"
  },
  "language_info": {
   "codemirror_mode": {
    "name": "ipython",
    "version": 3
   },
   "file_extension": ".py",
   "mimetype": "text/x-python",
   "name": "python",
   "nbconvert_exporter": "python",
   "pygments_lexer": "ipython3",
   "version": "3.7.1"
  }
 },
 "nbformat": 4,
 "nbformat_minor": 2
}
