{
 "cells": [
  {
   "cell_type": "markdown",
   "metadata": {},
   "source": [
    "# COMSOL Study Analysis: Parameter sweeps\n",
    "\n",
    "\n",
    "## Particle positions at surface of target\n",
    "\n",
    "\n",
    "- current chamber\n",
    "- microwave extraction aperture (1 mm diameter)\n",
    "- surface mesh\n",
    "- 5000 particles\n",
    "\n",
    "- COMSOL files 07.sweep. See notion card for the details of sweeps\n",
    "- FWHM and plots are in /Users/hkromer/02_PhD/02_Data/01_COMSOL/01_IonOptics/02.current_chamber/07.sweep/particleData/plots/2D_histograms_lastTimestep/\n",
    "\n",
    "\n",
    "- last accessed: 2019-02-12\n",
    "\n",
    "\n",
    "\n"
   ]
  },
  {
   "cell_type": "markdown",
   "metadata": {},
   "source": [
    "### Import statements"
   ]
  },
  {
   "cell_type": "code",
   "execution_count": null,
   "metadata": {},
   "outputs": [],
   "source": [
    "import pandas as pd\n",
    "import numpy as np\n",
    "import os\n",
    "import sys\n",
    "import re\n",
    "import matplotlib.pyplot as plt\n",
    "from scipy.optimize import minimize\n",
    "from scipy.stats import kde\n",
    "from scipy import optimize\n",
    "from matplotlib.ticker import NullFormatter\n",
    "from matplotlib import pyplot, transforms\n",
    "\n",
    "pd.set_option(\"display.max_columns\", 300)"
   ]
  },
  {
   "cell_type": "markdown",
   "metadata": {},
   "source": [
    "### Specify path to datafile"
   ]
  },
  {
   "cell_type": "code",
   "execution_count": null,
   "metadata": {},
   "outputs": [],
   "source": [
    "file_path = '/Users/hkromer/02_PhD/02_Data/01_COMSOL/01_IonOptics/02.current_chamber/07.sweep/particleData/plots/2D_histograms_lastTimestep/df_FWHMs.csv'\n",
    "\n",
    "fig_save_path = '/Users/hkromer/02_PhD/02_Data/01_COMSOL/01_IonOptics/02.current_chamber/07.sweep/particleData/plots/2D_histograms_lastTimestep/sweep_analysis/'"
   ]
  },
  {
   "cell_type": "code",
   "execution_count": null,
   "metadata": {},
   "outputs": [],
   "source": [
    "df = pd.read_csv(file_path)\n",
    "\n",
    "def extract_ID(row):\n",
    "    ID = re.findall(r'\\.(\\d\\d\\d)\\.particleData', row)[0]\n",
    "    return ID\n",
    "\n",
    "df['ID'] = df['id'].apply(lambda x: extract_ID(x))\n",
    "df['filename'] = df['id']\n",
    "df = df.drop('id', axis='columns').set_index('ID')\n",
    "\n",
    "\n",
    "print(df.head())"
   ]
  },
  {
   "cell_type": "markdown",
   "metadata": {},
   "source": [
    "## Processing the sweeps separately"
   ]
  },
  {
   "cell_type": "markdown",
   "metadata": {},
   "source": [
    "### 001 & 002: Target high voltage\n",
    "\n",
    "Also give the sweep info what the parameter is (x value for the plots)"
   ]
  },
  {
   "cell_type": "code",
   "execution_count": null,
   "metadata": {},
   "outputs": [],
   "source": [
    "ID_process = ['001', '002']\n",
    "sweep_info = 'High voltage [kV]'\n",
    "y_label = 'FWHM [mm]'\n",
    "fig_title = 'FWHM versus target high voltage'"
   ]
  },
  {
   "cell_type": "markdown",
   "metadata": {},
   "source": [
    "### Extract FWHM and make plot for these IDs"
   ]
  },
  {
   "cell_type": "code",
   "execution_count": null,
   "metadata": {},
   "outputs": [],
   "source": [
    "df_data = df.loc[ID_process, :]\n",
    "\n",
    "# convert FWHMs to absolute values\n",
    "df_data['FWHM_y'] = np.abs(df_data['FWHM_y'])\n",
    "df_data['FWHM_x'] = np.abs(df_data['FWHM_x'])\n",
    "\n",
    "def extract_sweep_val(row):\n",
    "    sweep_val = re.findall(r'=(.*)$', row)[0]\n",
    "    return sweep_val\n",
    "\n",
    "def extract_sweep_short(row):\n",
    "    s = re.findall(r'(.*)=', row)[0]\n",
    "    return s\n",
    "\n",
    "df_data['sweep_val'] = df_data['sweep_variable'].apply(lambda x: extract_sweep_val(x)).astype(float)\n",
    "df_data['sweep_short'] = df_data['sweep_variable'].apply(lambda x: extract_sweep_short(x))\n",
    "df_data = df_data.sort_values(by='sweep_val', ascending=False)\n",
    "\n",
    "_ = df_data.plot(kind='line', style='.-', x='sweep_val', y=['FWHM_x', 'FWHM_y'], ms=10)\n",
    "_ = plt.xlim(np.min(df_data['sweep_val'])*1.05, np.max(df_data['sweep_val'])*0.9)\n",
    "_ = plt.grid()\n",
    "_ = plt.xlabel(sweep_info)\n",
    "_ = plt.ylabel(y_label)\n",
    "_ = plt.title(fig_title)\n",
    "\n",
    "\n",
    "# save figure\n",
    "directory = f'{fig_save_path}/'\n",
    "if not os.path.exists(directory):\n",
    "    os.makedirs(directory)\n",
    "\n",
    "filename =  f'{fig_save_path}/{ID_process[0]}.{df_data.sweep_short.unique()[0]}'\n",
    "\n",
    "plt.savefig(filename + '.png', dpi=600)\n",
    "plt.show()\n",
    "print(df_data)"
   ]
  },
  {
   "cell_type": "markdown",
   "metadata": {},
   "source": [
    "\n",
    "## 003 & 004: Distance extr electrode back to front of ion source\n",
    "\n",
    "Also give the sweep info what the parameter is (x value for the plots)"
   ]
  },
  {
   "cell_type": "code",
   "execution_count": null,
   "metadata": {},
   "outputs": [],
   "source": [
    "ID_process = ['003', '004']\n",
    "sweep_info = 'Distance back of electrode to front of ion source [mm]'\n",
    "y_label = 'FWHM [mm]'\n",
    "fig_title = 'FWHM versus distance extraction electrode'"
   ]
  },
  {
   "cell_type": "code",
   "execution_count": null,
   "metadata": {},
   "outputs": [],
   "source": [
    "df_data = df.loc[ID_process, :]\n",
    "\n",
    "# convert FWHMs to absolute values\n",
    "df_data['FWHM_y'] = np.abs(df_data['FWHM_y'])\n",
    "df_data['FWHM_x'] = np.abs(df_data['FWHM_x'])\n",
    "\n",
    "def extract_sweep_val(row):\n",
    "    sweep_val = re.findall(r'=(.*)$', row)[0]\n",
    "    return sweep_val\n",
    "\n",
    "def extract_sweep_short(row):\n",
    "    s = re.findall(r'(.*)=', row)[0]\n",
    "    return s\n",
    "\n",
    "df_data['sweep_val'] = df_data['sweep_variable'].apply(lambda x: extract_sweep_val(x)).astype(float)\n",
    "df_data['sweep_short'] = df_data['sweep_variable'].apply(lambda x: extract_sweep_short(x))\n",
    "df_data = df_data.sort_values(by='sweep_val', ascending=False)\n",
    "\n",
    "_ = df_data.plot(kind='line', style='.-', x='sweep_val', y=['FWHM_x', 'FWHM_y'], ms=10)\n",
    "_ = plt.xlim(np.min(df_data['sweep_val'])*0.95, np.max(df_data['sweep_val'])*1.05)\n",
    "_ = plt.grid()\n",
    "_ = plt.xlabel(sweep_info)\n",
    "_ = plt.ylabel(y_label)\n",
    "_ = plt.title(fig_title)\n",
    "\n",
    "\n",
    "# save figure\n",
    "directory = f'{fig_save_path}/'\n",
    "if not os.path.exists(directory):\n",
    "    os.makedirs(directory)\n",
    "\n",
    "filename =  f'{fig_save_path}/{ID_process[0]}.{df_data.sweep_short.unique()[0]}'\n",
    "\n",
    "plt.savefig(filename + '.png', dpi=600)\n",
    "plt.show()\n",
    "print(df_data)"
   ]
  },
  {
   "cell_type": "code",
   "execution_count": null,
   "metadata": {},
   "outputs": [],
   "source": []
  },
  {
   "cell_type": "markdown",
   "metadata": {},
   "source": [
    "\n",
    "## 005 & 006: Distance between target surface and ion source aperture\n",
    "\n",
    "Also give the sweep info what the parameter is (x value for the plots)"
   ]
  },
  {
   "cell_type": "code",
   "execution_count": null,
   "metadata": {},
   "outputs": [],
   "source": [
    "ID_process = ['005', '006']\n",
    "sweep_info = 'Distance between target surface and ion source aperture [mm]'\n",
    "y_label = 'FWHM [mm]'\n",
    "fig_title = 'FWHM versus distance target surface'"
   ]
  },
  {
   "cell_type": "code",
   "execution_count": null,
   "metadata": {},
   "outputs": [],
   "source": [
    "df_data = df.loc[ID_process, :]\n",
    "\n",
    "# convert FWHMs to absolute values\n",
    "df_data['FWHM_y'] = np.abs(df_data['FWHM_y'])\n",
    "df_data['FWHM_x'] = np.abs(df_data['FWHM_x'])\n",
    "\n",
    "def extract_sweep_val(row):\n",
    "    sweep_val = re.findall(r'=(.*)$', row)[0]\n",
    "    return sweep_val\n",
    "\n",
    "def extract_sweep_short(row):\n",
    "    s = re.findall(r'(.*)=', row)[0]\n",
    "    return s\n",
    "\n",
    "df_data['sweep_val'] = df_data['sweep_variable'].apply(lambda x: extract_sweep_val(x)).astype(float)\n",
    "df_data['sweep_short'] = df_data['sweep_variable'].apply(lambda x: extract_sweep_short(x))\n",
    "df_data = df_data.sort_values(by='sweep_val', ascending=False)\n",
    "\n",
    "_ = df_data.plot(kind='line', style='.-', x='sweep_val', y=['FWHM_x', 'FWHM_y'], ms=10)\n",
    "_ = plt.xlim(np.min(df_data['sweep_val'])*0.95, np.max(df_data['sweep_val'])*1.05)\n",
    "_ = plt.grid()\n",
    "_ = plt.xlabel(sweep_info)\n",
    "_ = plt.ylabel(y_label)\n",
    "_ = plt.title(fig_title)\n",
    "\n",
    "\n",
    "# save figure\n",
    "directory = f'{fig_save_path}/'\n",
    "if not os.path.exists(directory):\n",
    "    os.makedirs(directory)\n",
    "\n",
    "filename =  f'{fig_save_path}/{ID_process[0]}.{df_data.sweep_short.unique()[0]}'\n",
    "\n",
    "plt.savefig(filename + '.png', dpi=600)\n",
    "plt.show()\n",
    "print(df_data)"
   ]
  },
  {
   "cell_type": "code",
   "execution_count": null,
   "metadata": {},
   "outputs": [],
   "source": []
  },
  {
   "cell_type": "markdown",
   "metadata": {},
   "source": [
    "\n",
    "## 007 & 008: High voltage of extraction electrode \n",
    "\n",
    "Also give the sweep info what the parameter is (x value for the plots)"
   ]
  },
  {
   "cell_type": "code",
   "execution_count": null,
   "metadata": {},
   "outputs": [],
   "source": [
    "ID_process = ['007', '008']\n",
    "sweep_info = 'High voltage of extraction electrode [kV]'\n",
    "y_label = 'FWHM [mm]'\n",
    "fig_title = 'FWHM versus extraction electrode voltage'"
   ]
  },
  {
   "cell_type": "code",
   "execution_count": null,
   "metadata": {},
   "outputs": [],
   "source": [
    "df_data = df.loc[ID_process, :]\n",
    "\n",
    "# convert FWHMs to absolute values\n",
    "df_data['FWHM_y'] = np.abs(df_data['FWHM_y'])\n",
    "df_data['FWHM_x'] = np.abs(df_data['FWHM_x'])\n",
    "\n",
    "def extract_sweep_val(row):\n",
    "    sweep_val = re.findall(r'=(.*)$', row)[0]\n",
    "    return sweep_val\n",
    "\n",
    "def extract_sweep_short(row):\n",
    "    s = re.findall(r'(.*)=', row)[0]\n",
    "    return s\n",
    "\n",
    "df_data['sweep_val'] = df_data['sweep_variable'].apply(lambda x: extract_sweep_val(x)).astype(float)\n",
    "df_data['sweep_short'] = df_data['sweep_variable'].apply(lambda x: extract_sweep_short(x))\n",
    "df_data = df_data.sort_values(by='sweep_val', ascending=False)\n",
    "\n",
    "_ = df_data.plot(kind='line', style='.-', x='sweep_val', y=['FWHM_x', 'FWHM_y'], ms=10)\n",
    "_ = plt.xlim(np.min(df_data['sweep_val'])*1.05, np.max(df_data['sweep_val'])*0.95)\n",
    "_ = plt.grid()\n",
    "_ = plt.xlabel(sweep_info)\n",
    "_ = plt.ylabel(y_label)\n",
    "_ = plt.title(fig_title)\n",
    "\n",
    "\n",
    "# save figure\n",
    "directory = f'{fig_save_path}/'\n",
    "if not os.path.exists(directory):\n",
    "    os.makedirs(directory)\n",
    "\n",
    "filename =  f'{fig_save_path}/{ID_process[0]}.{df_data.sweep_short.unique()[0]}'\n",
    "\n",
    "plt.savefig(filename + '.png', dpi=600)\n",
    "plt.show()\n",
    "print(df_data)"
   ]
  },
  {
   "cell_type": "code",
   "execution_count": null,
   "metadata": {},
   "outputs": [],
   "source": []
  }
 ],
 "metadata": {
  "kernelspec": {
   "display_name": "Python 3",
   "language": "python",
   "name": "python3"
  },
  "language_info": {
   "codemirror_mode": {
    "name": "ipython",
    "version": 3
   },
   "file_extension": ".py",
   "mimetype": "text/x-python",
   "name": "python",
   "nbconvert_exporter": "python",
   "pygments_lexer": "ipython3",
   "version": "3.8.1"
  }
 },
 "nbformat": 4,
 "nbformat_minor": 4
}
