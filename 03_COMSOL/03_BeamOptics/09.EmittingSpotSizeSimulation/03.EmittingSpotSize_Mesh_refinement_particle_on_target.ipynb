{
 "cells": [
  {
   "cell_type": "markdown",
   "metadata": {},
   "source": [
    "# COMSOL Simulation of the emitting spot size\n",
    "\n",
    "- Original datafile in: /Users/hkromer/02_PhD/02_Data/01_COMSOL/01_IonOptics/02.current_chamber/02.MR/temporal_refinement/data\n",
    "\n",
    "- Settings in COMSOL were: -100 kV, 1mA ion beam current"
   ]
  },
  {
   "cell_type": "code",
   "execution_count": 13,
   "metadata": {},
   "outputs": [],
   "source": [
    "import pandas as pd\n",
    "import numpy as np\n",
    "import os\n",
    "import sys\n",
    "import re\n",
    "import matplotlib.pyplot as plt\n",
    "from scipy.optimize import minimize\n",
    "from scipy.optimize import curve_fit\n",
    "\n",
    "from scipy.stats import kde\n",
    "from scipy import optimize\n",
    "\n",
    "from matplotlib.ticker import NullFormatter\n",
    "from matplotlib import pyplot, transforms\n",
    "import matplotlib\n",
    "from matplotlib.ticker import AutoMinorLocator\n",
    "%matplotlib inline\n",
    "import os\n",
    "os.environ[\"PATH\"] += os.pathsep + '/usr/local/texlive/2018/bin/x86_64-darwin'\n",
    "plt.rc('text', usetex=True)\n",
    "plt.rc('font', weight='bold')\n",
    "matplotlib.rcParams['mathtext.fontset'] = 'custom'\n",
    "matplotlib.rcParams['mathtext.rm'] = 'Arial'\n",
    "matplotlib.rcParams['mathtext.it'] = 'Arial:italic'\n",
    "matplotlib.rcParams['mathtext.bf'] = 'Arial:bold'\n",
    "matplotlib.rcParams['mathtext.tt'] = 'Arial'\n",
    "matplotlib.rcParams['mathtext.cal'] = 'Arial'\n",
    "matplotlib.rcParams['text.latex.preamble'] = [r'\\usepackage{sfmath} \\boldmath']\n",
    "\n",
    "pd.set_option(\"display.max_columns\", 300)\n",
    "\n",
    "\n",
    "folder = '/Users/hkromer/02_PhD/02_Data/01_COMSOL/01_IonOptics/02.current_chamber/02.MR/temporal_refinement/data/'\n",
    "\n",
    "# temporal resolution\n",
    "outfolder = '/Users/hkromer/02_PhD/02_Data/01_COMSOL/01_IonOptics/02.current_chamber/02.MR/temporal_refinement/data/temporal_resolution'\n",
    "files = os.listdir(folder)\n",
    "files = [f for f in files if \"hmesh\" not in f]\n",
    "\n",
    "files = [f for f in files if \"particleData\" in f]\n",
    "fignames = files \n",
    "files = [f'{folder}/{f}' for f in files if \"particleData\" in f]\n",
    "\n",
    "\n",
    "# # number of mesh elements\n",
    "# outfolder = '/Users/hkromer/02_PhD/02_Data/01_COMSOL/01_IonOptics/02.current_chamber/02.MR/temporal_refinement/data/temporal_resolution'\n",
    "# files = os.listdir(folder)\n",
    "# files = [f for f in files if \"hmesh\" in f]\n",
    "\n",
    "# files = [f for f in files if \"particleData\" in f]\n",
    "# fignames = files \n",
    "# print(fignames)\n",
    "# files = [f'{folder}/{f}' for f in files if \"particleData\" in f]\n",
    "\n",
    "\n",
    "%matplotlib inline"
   ]
  },
  {
   "cell_type": "code",
   "execution_count": 14,
   "metadata": {},
   "outputs": [],
   "source": [
    "# for fname, figname in zip(files, fignames):\n",
    "#     print(fname, figname)\n",
    "#     data = pd.read_csv(fname, skiprows=7, index_col=0)\n",
    "#     cols = [c for c in data.columns if \"2.5E\" in c]\n",
    "#     data = data[cols]\n",
    "#     new_cols = []\n",
    "#     for c in cols:\n",
    "#         if 'qx' in c:\n",
    "#             new_cols.append('qx')\n",
    "#         if 'qy' in c:\n",
    "#             new_cols.append('qy')\n",
    "#         if 'qz' in c:\n",
    "#             new_cols.append('qz')\n",
    "#     data.columns = new_cols\n",
    "#     nbins = 200\n",
    "#     lim = 3\n",
    "# #     print(data[pd.isnull(data).any(axis=1)])\n",
    "#     x = data['qy'].values\n",
    "#     y = data['qz'].values\n",
    "#     my_data = np.vstack([x, y])\n",
    "#     k = kde.gaussian_kde(my_data)\n",
    "\n",
    "#     xi, yi = np.mgrid[-lim:lim:nbins*1j, -lim:lim:nbins*1j]\n",
    "#     zi = k(np.vstack([xi.flatten(), yi.flatten()]))\n",
    "#     # zi = zi/np.max(zi)\n",
    "#     # plot\n",
    "#     fs = 20\n",
    "\n",
    "#     f = plt.figure(1, figsize=(9, 9))\n",
    "\n",
    "#     nullfmt = NullFormatter()         # no labels\n",
    "#     # definitions for the axes\n",
    "#     left, width = 0.12, 0.65\n",
    "#     bottom, height = 0.12, 0.65\n",
    "#     rect_scatter = [left, bottom, width, height]\n",
    "#     axScatter = plt.axes(rect_scatter)\n",
    "#     p = axScatter.pcolormesh(xi, yi, zi.reshape(xi.shape), shading='gouraud', cmap=plt.cm.jet)\n",
    "#     plt.axis('equal')\n",
    "#     plt.xlabel(r'\\textbf{y [mm]}', fontsize=fs)\n",
    "#     plt.ylabel(r'\\textbf{z [mm]}', fontsize=fs)\n",
    "#     axScatter.tick_params('x', colors='black', labelsize=fs-2)\n",
    "#     axScatter.tick_params('y', colors='black', labelsize=fs-2)\n",
    "#     plt.yticks(np.arange(-3,4,1))\n",
    "#     plt.xticks(np.arange(-3,4,1))\n",
    "\n",
    "\n",
    "#     left = 0.8\n",
    "#     bottom = 0.12\n",
    "#     width = 0.05\n",
    "#     height = 0.65\n",
    "#     cax = f.add_axes([left, bottom, width, height])\n",
    "#     cbar = f.colorbar(p, cax, ticks=[0,0.05,0.1,0.15])\n",
    "#     print(np.max(zi))\n",
    "#     cbar.ax.tick_params(labelsize=fs-2)\n",
    "#     plt.savefig(f'{outfolder}/{figname}.pdf')\n",
    "\n",
    "#     plt.show()\n",
    "    \n",
    "#     # query from the estimated pdf\n",
    "#     qry_eval = np.linspace(-lim,lim,100)\n",
    "#     eval_x = [k.evaluate([x,0])[0] for x in qry_eval] # for z = 0 in the upper plot\n",
    "#     eval_y = [k.evaluate([0,y])[0] for y in qry_eval] # for y = 0 in the upper plot\n",
    "\n",
    "#     # fit FWHM\n",
    "#     def gauss(x, a, x0, sigma):\n",
    "#         return a * np.exp(-(x-x0)**2/(2*sigma**2))\n",
    "\n",
    "\n",
    "#     p0 = [1, 1, 1] # Initial guess for the parameters\n",
    "#     # fit for parallel to x axis\n",
    "#     X = qry_eval\n",
    "#     Y = eval_x\n",
    "#     popt, pcov = curve_fit(gauss, X, Y, p0, maxfev=30000)\n",
    "#     A_x, x0_x, sigma_x = popt\n",
    "#     Y_fit_x = gauss(X, *popt)\n",
    "#     FWHM_x = 2 * sigma_x * np.sqrt(2 * np.log(2))  # FWHM\n",
    "#     print(f'FWHM in x: {FWHM_x}')\n",
    "\n",
    "#     # fit for parallel to y axis\n",
    "#     X = qry_eval\n",
    "#     Y = eval_y\n",
    "#     popt, pcov = curve_fit(gauss, X, Y, p0, maxfev=30000)\n",
    "#     A_y, x0_y, sigma_y = popt\n",
    "#     FWHM_y = 2 * sigma_y * np.sqrt(2 * np.log(2))  # FWHM\n",
    "#     print(f'FWHM in y: {FWHM_y}')\n",
    "#     Y_fit_y = gauss(X, *popt)\n",
    "#     print(gauss(x0_y, *popt), A_y)\n",
    "\n",
    "#     f = plt.figure(1, figsize=(8, 6.4))\n",
    "#     ylims = (-0.01, 0.20)\n",
    "#     # top plot\n",
    "#     plt.subplot(2, 1, 1)\n",
    "#     plt.plot(qry_eval, eval_x, color='darkblue', linewidth=2.0, label='z=0')\n",
    "#     plt.plot(qry_eval, Y_fit_x, color='darkred',linewidth=2.0, label='Gaussian fit')\n",
    "#     plt.plot([-FWHM_x/2,FWHM_x/2],[A_x/2,A_x/2], '--', color='black')\n",
    "#     plt.text(-0.5, .12, r'\\textbf{FWHM = 2.14 mm}', fontsize=14)\n",
    "#     plt.xlabel(r'\\textbf{y [mm]}', fontsize=fs)\n",
    "#     plt.ylabel(r'\\textbf{Estimated PDF [-]}', fontsize=fs)\n",
    "#     ax = plt.gca()\n",
    "#     ax.tick_params('x', colors='black', labelsize=fs-2)\n",
    "#     ax.tick_params('y', colors='black', labelsize=fs-2)\n",
    "#     minor_locator = AutoMinorLocator(2)\n",
    "#     ax.xaxis.set_minor_locator(minor_locator)\n",
    "#     minor_locator = AutoMinorLocator(2)\n",
    "#     ax.yaxis.set_minor_locator(minor_locator)\n",
    "#     ax.grid(b=True, which='major', linestyle='-')\n",
    "#     ax.grid(b=True, which='minor', linestyle='--')\n",
    "#     plt.yticks(np.arange(0,0.3,0.1))\n",
    "#     plt.xticks(np.arange(-3,4,1))\n",
    "#     leg1 = plt.legend(loc=\"best\",  fontsize=12)\n",
    "#     plt.ylim(ylims)\n",
    "#     # bottom plot\n",
    "#     plt.subplot(2, 1, 2)\n",
    "#     plt.plot(qry_eval, eval_y, color='darkorange', linewidth=2.0, label='y=0')\n",
    "#     plt.plot(qry_eval, Y_fit_y, color='darkred',linewidth=2.0, label='Gaussian fit')\n",
    "#     plt.plot([-FWHM_y/2+x0_y,FWHM_y/2+x0_y],[gauss(-FWHM_y/2+x0_y,*popt),gauss(FWHM_y/2+x0_y,*popt)], '--', color='black')\n",
    "#     plt.text(-0.5, .12, r'\\textbf{FWHM = 2.60 mm}', fontsize=14)\n",
    "#     plt.xlabel(r'\\textbf{z [mm]}', fontsize=fs)\n",
    "#     plt.ylabel(r'\\textbf{Estimated PDF [-]}', fontsize=fs)\n",
    "#     ax = plt.gca()\n",
    "#     ax.tick_params('x', colors='black', labelsize=fs-2)\n",
    "#     ax.tick_params('y', colors='black', labelsize=fs-2)\n",
    "#     minor_locator = AutoMinorLocator(2)\n",
    "#     ax.xaxis.set_minor_locator(minor_locator)\n",
    "#     minor_locator = AutoMinorLocator(2)\n",
    "#     ax.yaxis.set_minor_locator(minor_locator)\n",
    "#     ax.grid(b=True, which='major', linestyle='-')\n",
    "#     ax.grid(b=True, which='minor', linestyle='--')\n",
    "#     plt.yticks(np.arange(0,0.3,0.1))\n",
    "#     plt.xticks(np.arange(-3,4,1))\n",
    "#     leg1 = plt.legend(loc=\"best\",  fontsize=12)\n",
    "#     # leg1.set_title(r\"Experiment number\", prop = {'size': 12})\n",
    "#     plt.tight_layout()\n",
    "#     plt.ylim(ylims)\n",
    "#     plt.savefig(f'{outfolder}{figname}_YZ.pdf')\n",
    "#     plt.show()"
   ]
  },
  {
   "cell_type": "markdown",
   "metadata": {},
   "source": [
    "### Plot for thesis, run 003"
   ]
  },
  {
   "cell_type": "code",
   "execution_count": 15,
   "metadata": {},
   "outputs": [
    {
     "data": {
      "text/plain": [
       "(200, 200)"
      ]
     },
     "execution_count": 15,
     "metadata": {},
     "output_type": "execute_result"
    }
   ],
   "source": [
    "zi.reshape(xi.shape).shape"
   ]
  },
  {
   "cell_type": "code",
   "execution_count": 20,
   "metadata": {},
   "outputs": [
    {
     "name": "stdout",
     "output_type": "stream",
     "text": [
      "[[8.53398842e-77 7.31004131e-76 6.11846493e-75 ... 2.54427347e-50\n",
      "  6.13495797e-51 1.44932160e-51]\n",
      " [9.82623122e-76 8.37889348e-75 6.98129818e-74 ... 2.45717025e-49\n",
      "  5.95655884e-50 1.41461337e-50]\n",
      " [1.09768888e-74 9.31744182e-74 7.72786733e-73 ... 2.30024754e-48\n",
      "  5.60597160e-49 1.33840024e-49]\n",
      " ...\n",
      " [6.27782097e-75 5.25793447e-74 4.30990635e-73 ... 1.16095390e-48\n",
      "  2.78517704e-49 6.54365065e-50]\n",
      " [5.50927222e-76 4.64308347e-75 3.83098105e-74 ... 1.24035348e-49\n",
      "  2.96034355e-50 6.91906482e-51]\n",
      " [4.69922314e-77 3.98652423e-76 3.31199710e-75 ... 1.28434703e-50\n",
      "  3.04984507e-51 7.09185972e-52]]\n",
      "0.182604184208831\n"
     ]
    },
    {
     "data": {
      "image/png": "[encoded data removed]",
      "text/plain": [
       "<Figure size 648x648 with 2 Axes>"
      ]
     },
     "metadata": {
      "needs_background": "light"
     },
     "output_type": "display_data"
    },
    {
     "name": "stdout",
     "output_type": "stream",
     "text": [
      "FWHM in x: 2.047426372960409\n",
      "FWHM in y: 2.4457000425067448\n",
      "0.1997933760759989 0.1997933760759989\n"
     ]
    },
    {
     "data": {
      "image/png": "[encoded data removed]",
      "text/plain": [
       "<Figure size 648x540 with 2 Axes>"
      ]
     },
     "metadata": {
      "needs_background": "light"
     },
     "output_type": "display_data"
    }
   ],
   "source": [
    "fname = '/Users/hkromer/02_PhD/02_Data/01_COMSOL/01_IonOptics/02.current_chamber/02.MR/temporal_refinement/data//02.MR.102.temporal_refinement.002.particleData.csv'\n",
    "figname = '02_MR_102_temporal_refinement_002_particleData'\n",
    "\n",
    "figname = '02.MR.102.temporal_refinement.003_80kV_5k_12mmEE.particleData.csv'\n",
    "fname = f'/Users/hkromer/02_PhD/02_Data/01_COMSOL/01_IonOptics/02.current_chamber/02.MR/temporal_refinement/data/{figname}'\n",
    "outfolder = '/Users/hkromer/polybox/Thesis/Chapters/DetailedNeutronGeneratorCharacterization/Figures/COMSOL_ion_beam'\n",
    "\n",
    "data = pd.read_csv(fname, skiprows=7, index_col=0)\n",
    "cols = [c for c in data.columns if \"2.5E\" in c]\n",
    "data = data[cols]\n",
    "new_cols = []\n",
    "for c in cols:\n",
    "    if 'qx' in c:\n",
    "        new_cols.append('qx')\n",
    "    if 'qy' in c:\n",
    "        new_cols.append('qy')\n",
    "    if 'qz' in c:\n",
    "        new_cols.append('qz')\n",
    "data.columns = new_cols\n",
    "nbins = 200\n",
    "lim = 3\n",
    "#     print(data[pd.isnull(data).any(axis=1)])\n",
    "x = data['qy'].values\n",
    "y = data['qz'].values\n",
    "my_data = np.vstack([x, y])\n",
    "k = kde.gaussian_kde(my_data)\n",
    "\n",
    "xi, yi = np.mgrid[-lim:lim:nbins*1j, -lim:lim:nbins*1j]\n",
    "zi = k(np.vstack([xi.flatten(), yi.flatten()]))\n",
    "print(zi.reshape(xi.shape))\n",
    "# plot\n",
    "fs = 26\n",
    "\n",
    "f = plt.figure(1, figsize=(9, 9))\n",
    "\n",
    "nullfmt = NullFormatter()         # no labels\n",
    "# definitions for the axes\n",
    "left, width = 0.12, 0.65\n",
    "bottom, height = 0.12, 0.65\n",
    "rect_scatter = [left, bottom, width, height]\n",
    "axScatter = plt.axes(rect_scatter)\n",
    "p = axScatter.pcolormesh(xi, yi, zi.reshape(xi.shape), shading='gouraud', cmap=plt.cm.jet)\n",
    "plt.axis('equal')\n",
    "plt.xlabel(r'\\textbf{y [mm]}', fontsize=fs)\n",
    "plt.ylabel(r'\\textbf{z [mm]}', fontsize=fs)\n",
    "axScatter.tick_params('x', colors='black', labelsize=fs-2)\n",
    "axScatter.tick_params('y', colors='black', labelsize=fs-2)\n",
    "plt.yticks(np.arange(-3,4,1))\n",
    "plt.xticks(np.arange(-3,4,1))\n",
    "\n",
    "\n",
    "left = 0.8\n",
    "bottom = 0.12\n",
    "width = 0.05\n",
    "height = 0.65\n",
    "cax = f.add_axes([left, bottom, width, height])\n",
    "cbar = f.colorbar(p, cax, ticks=[0,0.05,0.1,0.15])\n",
    "print(np.max(zi))\n",
    "cbar.ax.tick_params(labelsize=fs-2)\n",
    "plt.savefig(f'{outfolder}/{figname}.pdf')\n",
    "\n",
    "plt.show()\n",
    "\n",
    "# query from the estimated pdf\n",
    "qry_eval = np.linspace(-lim,lim,100)\n",
    "eval_x = [k.evaluate([x,0])[0] for x in qry_eval] # for z = 0 in the upper plot\n",
    "eval_y = [k.evaluate([0,y])[0] for y in qry_eval] # for y = 0 in the upper plot\n",
    "\n",
    "# fit FWHM\n",
    "def gauss(x, a, x0, sigma):\n",
    "    return a * np.exp(-(x-x0)**2/(2*sigma**2))\n",
    "\n",
    "\n",
    "p0 = [1, 1, 1] # Initial guess for the parameters\n",
    "# fit for parallel to x axis\n",
    "X = qry_eval\n",
    "Y = eval_x\n",
    "popt, pcov = curve_fit(gauss, X, Y, p0, maxfev=30000)\n",
    "A_x, x0_x, sigma_x = popt\n",
    "Y_fit_x = gauss(X, *popt)\n",
    "FWHM_x = 2 * sigma_x * np.sqrt(2 * np.log(2))  # FWHM\n",
    "print(f'FWHM in x: {FWHM_x}')\n",
    "\n",
    "# fit for parallel to y axis\n",
    "X = qry_eval\n",
    "Y = eval_y\n",
    "popt, pcov = curve_fit(gauss, X, Y, p0, maxfev=30000)\n",
    "A_y, x0_y, sigma_y = popt\n",
    "FWHM_y = 2 * sigma_y * np.sqrt(2 * np.log(2))  # FWHM\n",
    "print(f'FWHM in y: {FWHM_y}')\n",
    "Y_fit_y = gauss(X, *popt)\n",
    "print(gauss(x0_y, *popt), A_y)\n",
    "\n",
    "f = plt.figure(1, figsize=(9, 7.5))\n",
    "ylims = (-0.01, 0.20)\n",
    "# top plot\n",
    "plt.subplot(2, 1, 1)\n",
    "plt.plot(qry_eval, eval_x, color='darkblue', linewidth=2.0, label='z=0.56 mm')\n",
    "plt.plot(qry_eval, Y_fit_x, color='darkred',linewidth=2.0, label='Gaussian fit')\n",
    "plt.plot([-FWHM_x/2,FWHM_x/2],[A_x/2,A_x/2], '--', color='black')\n",
    "plt.text(-1.1, 0.05, r'\\textbf{FWHM = 2.05 mm}', fontsize=fs-4)\n",
    "plt.xlabel(r'\\textbf{y [mm]}', fontsize=fs)\n",
    "plt.ylabel(r'\\textbf{Estimated PDF [-]}', fontsize=fs-2)\n",
    "ax = plt.gca()\n",
    "ax.tick_params('x', colors='black', labelsize=fs-2)\n",
    "ax.tick_params('y', colors='black', labelsize=fs-2)\n",
    "minor_locator = AutoMinorLocator(2)\n",
    "ax.xaxis.set_minor_locator(minor_locator)\n",
    "minor_locator = AutoMinorLocator(2)\n",
    "ax.yaxis.set_minor_locator(minor_locator)\n",
    "ax.grid(b=True, which='major', linestyle='-')\n",
    "ax.grid(b=True, which='minor', linestyle='--')\n",
    "plt.yticks(np.arange(0,0.3,0.1))\n",
    "plt.xticks(np.arange(-3,4,1))\n",
    "leg1 = plt.legend(loc=\"upper left\",  fontsize=fs-6)\n",
    "plt.ylim(ylims)\n",
    "# bottom plot\n",
    "plt.subplot(2, 1, 2)\n",
    "plt.plot(qry_eval, eval_y, color='darkorange', linewidth=2.0, label='y=0 mm')\n",
    "plt.plot(qry_eval, Y_fit_y, color='darkred',linewidth=2.0, label='Gaussian fit')\n",
    "plt.plot([-FWHM_y/2+x0_y,FWHM_y/2+x0_y],[gauss(-FWHM_y/2+x0_y,*popt),gauss(FWHM_y/2+x0_y,*popt)], '--', color='black')\n",
    "plt.text(-0.6, 0.05, r'\\textbf{FWHM = 2.45 mm}', fontsize=fs-4)\n",
    "plt.xlabel(r'\\textbf{z [mm]}', fontsize=fs)\n",
    "plt.ylabel(r'\\textbf{Estimated PDF [-]}', fontsize=fs-2)\n",
    "ax = plt.gca()\n",
    "ax.tick_params('x', colors='black', labelsize=fs-2)\n",
    "ax.tick_params('y', colors='black', labelsize=fs-2)\n",
    "minor_locator = AutoMinorLocator(2)\n",
    "ax.xaxis.set_minor_locator(minor_locator)\n",
    "minor_locator = AutoMinorLocator(2)\n",
    "ax.yaxis.set_minor_locator(minor_locator)\n",
    "ax.grid(b=True, which='major', linestyle='-')\n",
    "ax.grid(b=True, which='minor', linestyle='--')\n",
    "plt.yticks(np.arange(0,0.3,0.1))\n",
    "plt.xticks(np.arange(-3,4,1))\n",
    "leg1 = plt.legend(loc=\"upper left\",  fontsize=fs-6)\n",
    "# leg1.set_title(r\"Experiment number\", prop = {'size': 12})\n",
    "plt.tight_layout()\n",
    "plt.ylim(ylims[0], 0.22)\n",
    "plt.savefig(f'{outfolder}/{figname}_YZ.pdf')\n",
    "plt.show()"
   ]
  },
  {
   "cell_type": "markdown",
   "metadata": {},
   "source": [
    "### One file plot"
   ]
  },
  {
   "cell_type": "code",
   "execution_count": 11,
   "metadata": {},
   "outputs": [
    {
     "name": "stdout",
     "output_type": "stream",
     "text": [
      "0.182604184208831\n"
     ]
    },
    {
     "data": {
      "image/png": "[encoded data removed]",
      "text/plain": [
       "<Figure size 648x648 with 2 Axes>"
      ]
     },
     "metadata": {
      "needs_background": "light"
     },
     "output_type": "display_data"
    },
    {
     "name": "stdout",
     "output_type": "stream",
     "text": [
      "FWHM in x: 2.122369567225395\n",
      "FWHM in y: 2.4457000425067448\n",
      "0.1997933760759989 0.1997933760759989\n"
     ]
    },
    {
     "data": {
      "application/vnd.jupyter.widget-view+json": {
       "model_id": "6eec5b514bcb4198a211131d39253cd3",
       "version_major": 2,
       "version_minor": 0
      },
      "text/plain": [
       "Canvas(toolbar=Toolbar(toolitems=[('Home', 'Reset original view', 'home', 'home'), ('Back', 'Back to previous …"
      ]
     },
     "metadata": {},
     "output_type": "display_data"
    }
   ],
   "source": [
    "figname = '02.MR.102.temporal_refinement.003_80kV_5k_12mmEE.particleData.csv'\n",
    "fname = f'/Users/hkromer/02_PhD/02_Data/01_COMSOL/01_IonOptics/02.current_chamber/02.MR/temporal_refinement/data/{figname}'\n",
    "outfolder = '/Users/hkromer/02_PhD/02_Data/01_COMSOL/01_IonOptics/02.current_chamber/02.MR/temporal_refinement/data/single_files'\n",
    "outfolder = '/Users/hkromer/02_PhD/02_Data/01_COMSOL/01_IonOptics/02.current_chamber/02.MR/temporal_refinement/data/single_files'\n",
    "\n",
    "data = pd.read_csv(fname, skiprows=7, index_col=0)\n",
    "cols = [c for c in data.columns if \"2.5E\" in c]\n",
    "data = data[cols]\n",
    "new_cols = []\n",
    "for c in cols:\n",
    "    if 'qx' in c:\n",
    "        new_cols.append('qx')\n",
    "    if 'qy' in c:\n",
    "        new_cols.append('qy')\n",
    "    if 'qz' in c:\n",
    "        new_cols.append('qz')\n",
    "data.columns = new_cols\n",
    "nbins = 200\n",
    "lim = 3\n",
    "#     print(data[pd.isnull(data).any(axis=1)])\n",
    "x = data['qy'].values\n",
    "y = data['qz'].values\n",
    "my_data = np.vstack([x, y])\n",
    "k = kde.gaussian_kde(my_data)\n",
    "\n",
    "xi, yi = np.mgrid[-lim:lim:nbins*1j, -lim:lim:nbins*1j]\n",
    "zi = k(np.vstack([xi.flatten(), yi.flatten()]))\n",
    "# zi = zi/np.max(zi)\n",
    "# plot\n",
    "fs = 20\n",
    "\n",
    "f = plt.figure(1, figsize=(9, 9))\n",
    "\n",
    "nullfmt = NullFormatter()         # no labels\n",
    "# definitions for the axes\n",
    "left, width = 0.12, 0.65\n",
    "bottom, height = 0.12, 0.65\n",
    "rect_scatter = [left, bottom, width, height]\n",
    "axScatter = plt.axes(rect_scatter)\n",
    "p = axScatter.pcolormesh(xi, yi, zi.reshape(xi.shape), shading='gouraud', cmap=plt.cm.jet)\n",
    "plt.axis('equal')\n",
    "plt.xlabel(r'\\textbf{y [mm]}', fontsize=fs)\n",
    "plt.ylabel(r'\\textbf{z [mm]}', fontsize=fs)\n",
    "axScatter.tick_params('x', colors='black', labelsize=fs-2)\n",
    "axScatter.tick_params('y', colors='black', labelsize=fs-2)\n",
    "plt.yticks(np.arange(-3,4,1))\n",
    "plt.xticks(np.arange(-3,4,1))\n",
    "\n",
    "\n",
    "left = 0.8\n",
    "bottom = 0.12\n",
    "width = 0.05\n",
    "height = 0.65\n",
    "cax = f.add_axes([left, bottom, width, height])\n",
    "cbar = f.colorbar(p, cax, ticks=[0,0.05,0.1,0.15])\n",
    "print(np.max(zi))\n",
    "cbar.ax.tick_params(labelsize=fs-2)\n",
    "plt.savefig(f'{outfolder}/{figname}.pdf')\n",
    "\n",
    "plt.show()\n",
    "\n",
    "\n",
    "# query from the estimated pdf\n",
    "qry_eval = np.linspace(-lim,lim,100)\n",
    "eval_y = [k.evaluate([0,y])[0] for y in qry_eval] # for y = 0 in the upper plot\n",
    "# maximum \n",
    "idx_max = np.argmax(eval_y)\n",
    "y_max = qry_eval[idx_max]\n",
    "eval_x = [k.evaluate([x,y_max])[0] for x in qry_eval] # for z = 0 in the upper plot\n",
    "\n",
    "# fit FWHM\n",
    "def gauss(x, a, x0, sigma):\n",
    "    return a * np.exp(-(x-x0)**2/(2*sigma**2))\n",
    "\n",
    "\n",
    "p0 = [1, 1, 1] # Initial guess for the parameters\n",
    "# fit for parallel to x axis\n",
    "X = qry_eval\n",
    "Y = eval_x\n",
    "popt, pcov = curve_fit(gauss, X, Y, p0, maxfev=30000)\n",
    "A_x, x0_x, sigma_x = popt\n",
    "Y_fit_x = gauss(X, *popt)\n",
    "FWHM_x = 2 * sigma_x * np.sqrt(2 * np.log(2))  # FWHM\n",
    "print(f'FWHM in x: {FWHM_x}')\n",
    "\n",
    "# fit for parallel to y axis\n",
    "X = qry_eval\n",
    "Y = eval_y\n",
    "popt, pcov = curve_fit(gauss, X, Y, p0, maxfev=30000)\n",
    "A_y, x0_y, sigma_y = popt\n",
    "FWHM_y = 2 * sigma_y * np.sqrt(2 * np.log(2))  # FWHM\n",
    "print(f'FWHM in y: {FWHM_y}')\n",
    "Y_fit_y = gauss(X, *popt)\n",
    "print(gauss(x0_y, *popt), A_y)\n",
    "\n",
    "f = plt.figure(1, figsize=(8, 6.4))\n",
    "ylims = (-0.01, 0.22)\n",
    "# top plot\n",
    "plt.subplot(2, 1, 1)\n",
    "plt.plot(qry_eval, eval_x, color='darkblue', linewidth=2.0, label='z=0.56 mm')\n",
    "plt.plot(qry_eval, Y_fit_x, '-.',color='darkred',linewidth=2.0, label='Gaussian fit')\n",
    "\n",
    "# plot for defense\n",
    "df_cut = pd.DataFrame()\n",
    "df_cut['y'] = qry_eval\n",
    "df_cut['eval_y'] = eval_x\n",
    "df_cut['Y_fit_y'] = Y_fit_x\n",
    "df_cut.to_csv('/Users/hkromer/02_PhD/04_Publiations/08.Defense/Figures/COMSOL_ion_spot_y.data')\n",
    "\n",
    "\n",
    "plt.plot([-FWHM_x/2,FWHM_x/2],[A_x/2,A_x/2], '--', color='black')\n",
    "plt.text(-0.7, .04, r'\\textbf{FWHM = 2.05 mm}', fontsize=14)\n",
    "plt.xlabel(r'\\textbf{y [mm]}', fontsize=fs)\n",
    "plt.ylabel(r'\\textbf{Estimated PDF [-]}', fontsize=fs)\n",
    "ax = plt.gca()\n",
    "ax.tick_params('x', colors='black', labelsize=fs-2)\n",
    "ax.tick_params('y', colors='black', labelsize=fs-2)\n",
    "minor_locator = AutoMinorLocator(2)\n",
    "ax.xaxis.set_minor_locator(minor_locator)\n",
    "minor_locator = AutoMinorLocator(2)\n",
    "ax.yaxis.set_minor_locator(minor_locator)\n",
    "ax.grid(b=True, which='major', linestyle='-')\n",
    "ax.grid(b=True, which='minor', linestyle='--')\n",
    "plt.yticks(np.arange(0,0.3,0.1))\n",
    "plt.xticks(np.arange(-3,4,1))\n",
    "leg1 = plt.legend(loc=\"best\",  fontsize=12)\n",
    "plt.ylim(ylims)\n",
    "# bottom plot\n",
    "plt.subplot(2, 1, 2)\n",
    "plt.plot(qry_eval, eval_y, color='darkorange', linewidth=2.0, label='y=0 mm')\n",
    "plt.plot(qry_eval, Y_fit_y, '-.',color='darkred',linewidth=2.0, label='Gaussian fit')\n",
    "\n",
    "# plot for defense\n",
    "df_cut = pd.DataFrame()\n",
    "df_cut['z'] = qry_eval\n",
    "df_cut['eval_z'] = eval_y\n",
    "df_cut['Y_fit_z'] = Y_fit_y\n",
    "df_cut.to_csv('/Users/hkromer/02_PhD/04_Publiations/08.Defense/Figures/COMSOL_ion_spot_z.data')\n",
    "\n",
    "\n",
    "plt.plot([-FWHM_y/2+x0_y,FWHM_y/2+x0_y],[gauss(-FWHM_y/2+x0_y,*popt),gauss(FWHM_y/2+x0_y,*popt)], '--', color='black')\n",
    "plt.text(-0.3, .04, r'\\textbf{FWHM = 2.45 mm}', fontsize=14)\n",
    "plt.xlabel(r'\\textbf{z [mm]}', fontsize=fs)\n",
    "plt.ylabel(r'\\textbf{Estimated PDF [-]}', fontsize=fs)\n",
    "ax = plt.gca()\n",
    "ax.tick_params('x', colors='black', labelsize=fs-2)\n",
    "ax.tick_params('y', colors='black', labelsize=fs-2)\n",
    "minor_locator = AutoMinorLocator(2)\n",
    "ax.xaxis.set_minor_locator(minor_locator)\n",
    "minor_locator = AutoMinorLocator(2)\n",
    "ax.yaxis.set_minor_locator(minor_locator)\n",
    "ax.grid(b=True, which='major', linestyle='-')\n",
    "ax.grid(b=True, which='minor', linestyle='--')\n",
    "plt.yticks(np.arange(0,0.3,0.1))\n",
    "plt.xticks(np.arange(-3,4,1))\n",
    "leg1 = plt.legend(loc=\"best\",  fontsize=12)\n",
    "# leg1.set_title(r\"Experiment number\", prop = {'size': 12})\n",
    "plt.tight_layout()\n",
    "plt.ylim(ylims)\n",
    "plt.savefig(f'{outfolder}/{figname}_YZ.pdf')\n",
    "plt.savefig(f'{outfolder}/{figname}_1200.png',dpi=1200)\n",
    "plt.show()"
   ]
  },
  {
   "cell_type": "markdown",
   "metadata": {},
   "source": [
    "# Beam halo"
   ]
  },
  {
   "cell_type": "code",
   "execution_count": 5,
   "metadata": {},
   "outputs": [
    {
     "data": {
      "text/html": [
       "<div>\n",
       "<style scoped>\n",
       "    .dataframe tbody tr th:only-of-type {\n",
       "        vertical-align: middle;\n",
       "    }\n",
       "\n",
       "    .dataframe tbody tr th {\n",
       "        vertical-align: top;\n",
       "    }\n",
       "\n",
       "    .dataframe thead th {\n",
       "        text-align: right;\n",
       "    }\n",
       "</style>\n",
       "<table border=\"1\" class=\"dataframe\">\n",
       "  <thead>\n",
       "    <tr style=\"text-align: right;\">\n",
       "      <th></th>\n",
       "      <th>z</th>\n",
       "      <th>eval_z</th>\n",
       "      <th>Y_fit_z</th>\n",
       "    </tr>\n",
       "  </thead>\n",
       "  <tbody>\n",
       "    <tr>\n",
       "      <th>0</th>\n",
       "      <td>-3.000000</td>\n",
       "      <td>6.832900e-28</td>\n",
       "      <td>0.000712</td>\n",
       "    </tr>\n",
       "    <tr>\n",
       "      <th>1</th>\n",
       "      <td>-2.939394</td>\n",
       "      <td>2.314440e-26</td>\n",
       "      <td>0.000865</td>\n",
       "    </tr>\n",
       "    <tr>\n",
       "      <th>2</th>\n",
       "      <td>-2.878788</td>\n",
       "      <td>7.033530e-25</td>\n",
       "      <td>0.001047</td>\n",
       "    </tr>\n",
       "    <tr>\n",
       "      <th>3</th>\n",
       "      <td>-2.818182</td>\n",
       "      <td>1.917854e-23</td>\n",
       "      <td>0.001263</td>\n",
       "    </tr>\n",
       "    <tr>\n",
       "      <th>4</th>\n",
       "      <td>-2.757576</td>\n",
       "      <td>4.692495e-22</td>\n",
       "      <td>0.001518</td>\n",
       "    </tr>\n",
       "  </tbody>\n",
       "</table>\n",
       "</div>"
      ],
      "text/plain": [
       "          z        eval_z   Y_fit_z\n",
       "0 -3.000000  6.832900e-28  0.000712\n",
       "1 -2.939394  2.314440e-26  0.000865\n",
       "2 -2.878788  7.033530e-25  0.001047\n",
       "3 -2.818182  1.917854e-23  0.001263\n",
       "4 -2.757576  4.692495e-22  0.001518"
      ]
     },
     "execution_count": 5,
     "metadata": {},
     "output_type": "execute_result"
    }
   ],
   "source": [
    "data_y = pd.read_csv('/Users/hkromer/02_PhD/04_Publiations/08.Defense/Figures/COMSOL_ion_spot_y.data', index_col=0)\n",
    "data_z = pd.read_csv('/Users/hkromer/02_PhD/04_Publiations/08.Defense/Figures/COMSOL_ion_spot_z.data', index_col=0)\n",
    "data_z.head()"
   ]
  },
  {
   "cell_type": "code",
   "execution_count": 6,
   "metadata": {},
   "outputs": [
    {
     "data": {
      "application/vnd.jupyter.widget-view+json": {
       "model_id": "e56a24b8e60c42999d31945c40d0695c",
       "version_major": 2,
       "version_minor": 0
      },
      "text/plain": [
       "Canvas(toolbar=Toolbar(toolitems=[('Home', 'Reset original view', 'home', 'home'), ('Back', 'Back to previous …"
      ]
     },
     "metadata": {},
     "output_type": "display_data"
    },
    {
     "name": "stdout",
     "output_type": "stream",
     "text": [
      "0.22741970750785767\n"
     ]
    },
    {
     "name": "stderr",
     "output_type": "stream",
     "text": [
      "<ipython-input-6-e04c422dc084>:28: IntegrationWarning: The occurrence of roundoff error is detected, which prevents \n",
      "  the requested tolerance from being achieved.  The error may be \n",
      "  underestimated.\n",
      "  val_tot = quad(func=interp1d(qry_eval, eval_x, kind='quadratic'), a=np.min(qry_eval), b=np.max(qry_eval), limit=10000)\n"
     ]
    },
    {
     "name": "stdout",
     "output_type": "stream",
     "text": [
      "0.3161928604211718\n"
     ]
    }
   ],
   "source": [
    "\n",
    "from scipy.integrate import quad\n",
    "from scipy.interpolate import interp1d\n",
    "\n",
    "\n",
    "f, axs = plt.subplots(2,1, figsize=(8, 6))\n",
    "\n",
    "qry_eval = data_y['y'].values\n",
    "eval_x = data_y['eval_y'].values\n",
    "v1 = -1\n",
    "v2 = 1\n",
    "val = quad(func=interp1d(qry_eval, eval_x, kind='quadratic'), a=v1, b=v2, limit=10000)\n",
    "val_tot = quad(func=interp1d(qry_eval, eval_x, kind='quadratic'), a=np.min(qry_eval), b=np.max(qry_eval), limit=10000)\n",
    "axs[0].plot(qry_eval, eval_x, lw=3)\n",
    "axs[0].fill_between(qry_eval, 0, eval_x, where=(qry_eval>=v1)&(qry_eval<=v2), alpha=0.2)\n",
    "axs[0].annotate(f\"area = {(val[0]/val_tot[0])*100.0:.1f}\\%\", (-0.5, 0.10), fontweight='bold', fontsize=14)\n",
    "axs[0].set_ylabel('PDF', fontweight='bold', fontsize=14)\n",
    "axs[0].set_xlabel('y [mm]', fontweight='bold', fontsize=14)\n",
    "axs[0].grid()\n",
    "print(1-(val[0]/val_tot[0]))\n",
    "\n",
    "qry_eval = data_z['z'].values\n",
    "eval_x = data_z['eval_z'].values\n",
    "max_val = qry_eval[np.argmax(eval_x)]\n",
    "v1 = max_val-1\n",
    "v2 = max_val+1\n",
    "val = quad(func=interp1d(qry_eval, eval_x, kind='quadratic'), a=v1, b=v2, limit=10000)\n",
    "val_tot = quad(func=interp1d(qry_eval, eval_x, kind='quadratic'), a=np.min(qry_eval), b=np.max(qry_eval), limit=10000)\n",
    "axs[1].plot(qry_eval, eval_x, color='darkorange', lw=3)\n",
    "axs[1].fill_between(qry_eval, 0, eval_x, where=(qry_eval>=v1)&(qry_eval<=v2), alpha=0.2, color='darkorange')\n",
    "axs[1].annotate(f\"area = {(val[0]/val_tot[0])*100.0:.1f}\\%\", (0, 0.10), fontweight='bold', fontsize=14)\n",
    "axs[1].set_ylabel('PDF', fontweight='bold', fontsize=14)\n",
    "axs[1].set_xlabel('z [mm]', fontweight='bold', fontsize=14)\n",
    "axs[1].grid()\n",
    "\n",
    "plt.tight_layout()\n",
    "plt.show()\n",
    "print(1-(val[0]/val_tot[0]))"
   ]
  },
  {
   "cell_type": "code",
   "execution_count": null,
   "metadata": {},
   "outputs": [],
   "source": []
  },
  {
   "cell_type": "code",
   "execution_count": null,
   "metadata": {},
   "outputs": [],
   "source": []
  },
  {
   "cell_type": "markdown",
   "metadata": {},
   "source": [
    "# Presentation"
   ]
  },
  {
   "cell_type": "code",
   "execution_count": 7,
   "metadata": {},
   "outputs": [
    {
     "data": {
      "text/html": [
       "<div>\n",
       "<style scoped>\n",
       "    .dataframe tbody tr th:only-of-type {\n",
       "        vertical-align: middle;\n",
       "    }\n",
       "\n",
       "    .dataframe tbody tr th {\n",
       "        vertical-align: top;\n",
       "    }\n",
       "\n",
       "    .dataframe thead th {\n",
       "        text-align: right;\n",
       "    }\n",
       "</style>\n",
       "<table border=\"1\" class=\"dataframe\">\n",
       "  <thead>\n",
       "    <tr style=\"text-align: right;\">\n",
       "      <th></th>\n",
       "      <th>qx</th>\n",
       "      <th>qy</th>\n",
       "      <th>qz</th>\n",
       "    </tr>\n",
       "    <tr>\n",
       "      <th>% Index</th>\n",
       "      <th></th>\n",
       "      <th></th>\n",
       "      <th></th>\n",
       "    </tr>\n",
       "  </thead>\n",
       "  <tbody>\n",
       "    <tr>\n",
       "      <th>1</th>\n",
       "      <td>70.037710</td>\n",
       "      <td>1.227586</td>\n",
       "      <td>-0.078608</td>\n",
       "    </tr>\n",
       "    <tr>\n",
       "      <th>2</th>\n",
       "      <td>70.038617</td>\n",
       "      <td>1.242259</td>\n",
       "      <td>-0.030855</td>\n",
       "    </tr>\n",
       "    <tr>\n",
       "      <th>3</th>\n",
       "      <td>70.039506</td>\n",
       "      <td>1.256456</td>\n",
       "      <td>0.017032</td>\n",
       "    </tr>\n",
       "    <tr>\n",
       "      <th>4</th>\n",
       "      <td>70.037677</td>\n",
       "      <td>1.227051</td>\n",
       "      <td>-0.052801</td>\n",
       "    </tr>\n",
       "    <tr>\n",
       "      <th>5</th>\n",
       "      <td>70.038585</td>\n",
       "      <td>1.241741</td>\n",
       "      <td>-0.005365</td>\n",
       "    </tr>\n",
       "  </tbody>\n",
       "</table>\n",
       "</div>"
      ],
      "text/plain": [
       "                qx        qy        qz\n",
       "% Index                               \n",
       "1        70.037710  1.227586 -0.078608\n",
       "2        70.038617  1.242259 -0.030855\n",
       "3        70.039506  1.256456  0.017032\n",
       "4        70.037677  1.227051 -0.052801\n",
       "5        70.038585  1.241741 -0.005365"
      ]
     },
     "execution_count": 7,
     "metadata": {},
     "output_type": "execute_result"
    }
   ],
   "source": [
    "data.head()"
   ]
  },
  {
   "cell_type": "code",
   "execution_count": 8,
   "metadata": {},
   "outputs": [
    {
     "data": {
      "text/html": [
       "<div>\n",
       "<style scoped>\n",
       "    .dataframe tbody tr th:only-of-type {\n",
       "        vertical-align: middle;\n",
       "    }\n",
       "\n",
       "    .dataframe tbody tr th {\n",
       "        vertical-align: top;\n",
       "    }\n",
       "\n",
       "    .dataframe thead th {\n",
       "        text-align: right;\n",
       "    }\n",
       "</style>\n",
       "<table border=\"1\" class=\"dataframe\">\n",
       "  <thead>\n",
       "    <tr style=\"text-align: right;\">\n",
       "      <th></th>\n",
       "      <th>qx</th>\n",
       "      <th>qy</th>\n",
       "      <th>qz</th>\n",
       "    </tr>\n",
       "    <tr>\n",
       "      <th>% Index</th>\n",
       "      <th></th>\n",
       "      <th></th>\n",
       "      <th></th>\n",
       "    </tr>\n",
       "  </thead>\n",
       "  <tbody>\n",
       "    <tr>\n",
       "      <th>4996</th>\n",
       "      <td>70.002426</td>\n",
       "      <td>-0.311508</td>\n",
       "      <td>1.660632</td>\n",
       "    </tr>\n",
       "    <tr>\n",
       "      <th>4997</th>\n",
       "      <td>70.002971</td>\n",
       "      <td>-0.344740</td>\n",
       "      <td>1.694553</td>\n",
       "    </tr>\n",
       "    <tr>\n",
       "      <th>4998</th>\n",
       "      <td>70.002690</td>\n",
       "      <td>-0.328011</td>\n",
       "      <td>1.627643</td>\n",
       "    </tr>\n",
       "    <tr>\n",
       "      <th>4999</th>\n",
       "      <td>70.003265</td>\n",
       "      <td>-0.361386</td>\n",
       "      <td>1.661086</td>\n",
       "    </tr>\n",
       "    <tr>\n",
       "      <th>5000</th>\n",
       "      <td>70.003102</td>\n",
       "      <td>-0.352239</td>\n",
       "      <td>1.628124</td>\n",
       "    </tr>\n",
       "  </tbody>\n",
       "</table>\n",
       "</div>"
      ],
      "text/plain": [
       "                qx        qy        qz\n",
       "% Index                               \n",
       "4996     70.002426 -0.311508  1.660632\n",
       "4997     70.002971 -0.344740  1.694553\n",
       "4998     70.002690 -0.328011  1.627643\n",
       "4999     70.003265 -0.361386  1.661086\n",
       "5000     70.003102 -0.352239  1.628124"
      ]
     },
     "execution_count": 8,
     "metadata": {},
     "output_type": "execute_result"
    }
   ],
   "source": [
    "df = data.copy()\n",
    "# for the defense plots\n",
    "df.to_csv('/Users/hkromer/02_PhD/04_Publiations/08.Defense/Figures/COMSOL_ion_spot.data')\n",
    "df.tail()"
   ]
  },
  {
   "cell_type": "code",
   "execution_count": 9,
   "metadata": {},
   "outputs": [
    {
     "name": "stdout",
     "output_type": "stream",
     "text": [
      "[0.08010215956154754, 0.16020431912426072, 0.3204086382508527]\n"
     ]
    }
   ],
   "source": [
    "import scipy\n",
    "\n",
    "x = df[\"qy\"].values\n",
    "y = df[\"qz\"].values\n",
    "%matplotlib widget\n",
    "\n",
    "# Make a 2d normed histogram\n",
    "H,xedges,yedges=np.histogram2d(x,y,bins=40,normed=True)\n",
    "\n",
    "norm=H.sum() # Find the norm of the sum\n",
    "# Set contour levels\n",
    "contour1=0.95\n",
    "contour2=0.50\n",
    "# contour3=0.99\n",
    "\n",
    "# Set target levels as percentage of norm\n",
    "target1 = norm*contour1\n",
    "target2 = norm*contour2\n",
    "# target3 = norm*contour3\n",
    "\n",
    "# Take histogram bin membership as proportional to Likelihood\n",
    "# This is true when data comes from a Markovian process\n",
    "def objective(limit, target):\n",
    "    w = np.where(H>limit)\n",
    "    count = H[w]\n",
    "    return count.sum() - target\n",
    "\n",
    "# Find levels by summing histogram to objective\n",
    "level1= scipy.optimize.bisect(objective, H.min(), H.max(), args=(target1,))\n",
    "level2= scipy.optimize.bisect(objective, H.min(), H.max(), args=(target2,))\n",
    "# level3= scipy.optimize.bisect(objective, H.min(), H.max(), args=(target3,))\n",
    "\n",
    "# For nice contour shading with seaborn, define top level\n",
    "level4=H.max()\n",
    "# levels=[level1,level2,level3,level4]\n",
    "levels=[level1,level2, level4]\n",
    "print(levels)"
   ]
  },
  {
   "cell_type": "code",
   "execution_count": 10,
   "metadata": {},
   "outputs": [
    {
     "data": {
      "application/vnd.jupyter.widget-view+json": {
       "model_id": "318402e9c3284ba6a2ade3049c3155f7",
       "version_major": 2,
       "version_minor": 0
      },
      "text/plain": [
       "Canvas(toolbar=Toolbar(toolitems=[('Home', 'Reset original view', 'home', 'home'), ('Back', 'Back to previous …"
      ]
     },
     "metadata": {},
     "output_type": "display_data"
    }
   ],
   "source": [
    "import seaborn as sns\n",
    "import matplotlib.pyplot as plt\n",
    "%matplotlib widget\n",
    "\n",
    "fig, ax = plt.subplots(figsize=(6,6))\n",
    "sns.kdeplot(df[\"qy\"].values, df[\"qz\"].values, cmap='magma', shade=True)\n",
    "\n",
    "ax.set_facecolor('black')\n",
    "# ax.set_xlim(-2,2)\n",
    "# ax.set_ylim(-3,3)\n",
    "contours = ax.contour(xi, yi, zi.reshape(xi.shape), [level2], colors='black')\n",
    "ax.clabel(contours, inline=True, fontsize=12, fmt='0.50')\n",
    "contours = ax.contour(xi, yi, zi.reshape(xi.shape), [level1], colors='black')\n",
    "ax.clabel(contours, inline=True, fontsize=12, fmt='0.95')\n",
    "ax.set_yticks(np.arange(-3,4,1))\n",
    "ax.set_xticks(np.arange(-3,4,1))\n",
    "plt.xlim(-2.5,2.5)\n",
    "plt.ylim(-2.5,2.5)\n",
    "ax.collections[0].set_alpha(0)\n",
    "plt.show()"
   ]
  },
  {
   "cell_type": "code",
   "execution_count": 11,
   "metadata": {},
   "outputs": [
    {
     "data": {
      "application/vnd.jupyter.widget-view+json": {
       "model_id": "3a3ed28ce42f471cb037b0db867aae21",
       "version_major": 2,
       "version_minor": 0
      },
      "text/plain": [
       "Canvas(toolbar=Toolbar(toolitems=[('Home', 'Reset original view', 'home', 'home'), ('Back', 'Back to previous …"
      ]
     },
     "metadata": {},
     "output_type": "display_data"
    }
   ],
   "source": [
    "%matplotlib widget\n",
    "fig, ax = plt.subplots(figsize=(6,6))\n",
    "\n",
    "sns.kdeplot(df[\"qy\"].values, df[\"qz\"].values, cmap='viridis')\n",
    "plt.hist2d(df[\"qy\"].values, df[\"qz\"].values, bins=20, cmin=1e-100, cmap=\"jet\", alpha=0.4)\n",
    "# ax.collections[0].set_alpha(0)\n",
    "ax.set_facecolor('lightblue')\n",
    "\n",
    "ax = plt.gca()\n",
    "ax.set_yticks(np.arange(-3,4,1))\n",
    "ax.set_xticks(np.arange(-3,4,1))\n",
    "plt.xlim(-2.5,2.5)\n",
    "plt.ylim(-2.5,2.5)\n",
    "plt.show()"
   ]
  },
  {
   "cell_type": "code",
   "execution_count": 12,
   "metadata": {},
   "outputs": [
    {
     "data": {
      "application/vnd.jupyter.widget-view+json": {
       "model_id": "ae23f47c68094372bfc20fdc917f7523",
       "version_major": 2,
       "version_minor": 0
      },
      "text/plain": [
       "Canvas(toolbar=Toolbar(toolitems=[('Home', 'Reset original view', 'home', 'home'), ('Back', 'Back to previous …"
      ]
     },
     "metadata": {},
     "output_type": "display_data"
    },
    {
     "name": "stderr",
     "output_type": "stream",
     "text": [
      "/Users/hkromer/anaconda3/envs/phd/lib/python3.8/site-packages/seaborn/distributions.py:434: UserWarning: The following kwargs were not used by contour: 'normed'\n",
      "  cset = contour_func(xx, yy, z, n_levels, **kwargs)\n"
     ]
    }
   ],
   "source": [
    "\n",
    "\n",
    "# levels=[level1,level4]\n",
    "# # Pass levels to normed kde plot\n",
    "fig,ax=plt.subplots()\n",
    "sns.kdeplot(x,y, shade=True,ax=ax,n_levels=levels,cmap=\"Reds_d\",normed=True)\n",
    "contours = plt.contour(xi, yi, zi.reshape(xi.shape), [level2], colors='black')\n",
    "plt.clabel(contours, inline=True, fontsize=8, fmt='0.5')\n",
    "ax.set_aspect('equal')\n",
    "plt.show()"
   ]
  },
  {
   "cell_type": "code",
   "execution_count": 13,
   "metadata": {},
   "outputs": [
    {
     "ename": "ModuleNotFoundError",
     "evalue": "No module named 'chainconsumer'",
     "output_type": "error",
     "traceback": [
      "\u001b[0;31m---------------------------------------------------------------------------\u001b[0m",
      "\u001b[0;31mModuleNotFoundError\u001b[0m                       Traceback (most recent call last)",
      "\u001b[0;32m<ipython-input-13-ce26980746cc>\u001b[0m in \u001b[0;36m<module>\u001b[0;34m\u001b[0m\n\u001b[0;32m----> 1\u001b[0;31m \u001b[0;32mfrom\u001b[0m \u001b[0mchainconsumer\u001b[0m \u001b[0;32mimport\u001b[0m \u001b[0mChainConsumer\u001b[0m\u001b[0;34m\u001b[0m\u001b[0;34m\u001b[0m\u001b[0m\n\u001b[0m\u001b[1;32m      2\u001b[0m \u001b[0;32mimport\u001b[0m \u001b[0mseaborn\u001b[0m \u001b[0;32mas\u001b[0m \u001b[0msns\u001b[0m\u001b[0;34m\u001b[0m\u001b[0;34m\u001b[0m\u001b[0m\n\u001b[1;32m      3\u001b[0m \u001b[0;32mimport\u001b[0m \u001b[0mmatplotlib\u001b[0m\u001b[0;34m.\u001b[0m\u001b[0mpyplot\u001b[0m \u001b[0;32mas\u001b[0m \u001b[0mplt\u001b[0m\u001b[0;34m\u001b[0m\u001b[0;34m\u001b[0m\u001b[0m\n\u001b[1;32m      4\u001b[0m \u001b[0mget_ipython\u001b[0m\u001b[0;34m(\u001b[0m\u001b[0;34m)\u001b[0m\u001b[0;34m.\u001b[0m\u001b[0mrun_line_magic\u001b[0m\u001b[0;34m(\u001b[0m\u001b[0;34m'matplotlib'\u001b[0m\u001b[0;34m,\u001b[0m \u001b[0;34m'widget'\u001b[0m\u001b[0;34m)\u001b[0m\u001b[0;34m\u001b[0m\u001b[0;34m\u001b[0m\u001b[0m\n\u001b[1;32m      5\u001b[0m \u001b[0;34m\u001b[0m\u001b[0m\n",
      "\u001b[0;31mModuleNotFoundError\u001b[0m: No module named 'chainconsumer'"
     ]
    }
   ],
   "source": [
    "from chainconsumer import ChainConsumer\n",
    "import seaborn as sns\n",
    "import matplotlib.pyplot as plt\n",
    "%matplotlib widget\n",
    "\n",
    "params = ['qy', 'qz']\n",
    "\n",
    "c = ChainConsumer()\n",
    "c.add_chain(df, kde=1.0, color='b')\n",
    "c.configure(contour_labels=\"confidence\")\n",
    "c.plotter.plot(figsize=2.0)"
   ]
  },
  {
   "cell_type": "code",
   "execution_count": null,
   "metadata": {},
   "outputs": [],
   "source": []
  },
  {
   "cell_type": "code",
   "execution_count": null,
   "metadata": {},
   "outputs": [],
   "source": []
  },
  {
   "cell_type": "code",
   "execution_count": null,
   "metadata": {},
   "outputs": [],
   "source": []
  },
  {
   "cell_type": "markdown",
   "metadata": {},
   "source": [
    "# Beam halo"
   ]
  },
  {
   "cell_type": "code",
   "execution_count": null,
   "metadata": {},
   "outputs": [],
   "source": [
    "from scipy.integrate import simps\n",
    "from scipy.integrate import trapz\n",
    "qry_eval = np.linspace(-lim,lim,100) # evaluation points\n",
    "\n",
    "# total sum!\n",
    "integrals = [] # laist of the integrals\n",
    "for x in (qry_eval-qry_eval[idx_max]):\n",
    "    vals = []\n",
    "    for y in qry_eval:\n",
    "        val = k.evaluate([x,y])[0] \n",
    "        vals.append(val)\n",
    "#     integral = trapz(vals, qry_eval)\n",
    "\n",
    "    integral = np.asarray(vals).sum()\n",
    "    integrals.append(integral)\n",
    "total_sum = np.asarray(integrals).sum()\n",
    "\n",
    "# total integral\n",
    "integrals = [] # list of the integrals\n",
    "for x in (qry_eval-qry_eval[idx_max]):\n",
    "    vals = []\n",
    "    for y in qry_eval:\n",
    "        val = k.evaluate([x,y])[0] \n",
    "        vals.append(val)\n",
    "    integral = trapz(vals, qry_eval)\n",
    "    integrals.append(integral)\n",
    "total_integral = np.asarray(integrals).sum()\n",
    "\n",
    "total_sum, total_integral"
   ]
  },
  {
   "cell_type": "code",
   "execution_count": null,
   "metadata": {},
   "outputs": [],
   "source": [
    "# integral and sum in the center only\n",
    "r = 2/2 # mm\n",
    "integrals = [] # list of the integrals\n",
    "for x in (qry_eval-qry_eval[idx_max]):\n",
    "    vals = []\n",
    "    for y in qry_eval:\n",
    "        if np.sqrt(x**2+y**2) <= r:\n",
    "            val = k.evaluate([x,y])[0] \n",
    "            vals.append(val)\n",
    "#     integral = trapz(vals, qry_eval)\n",
    "\n",
    "    integral = np.asarray(vals).sum()\n",
    "    integrals.append(integral)\n",
    "sum_in_circle = np.asarray(integrals).sum()\n",
    "\n",
    "integrals = [] # list of the integrals\n",
    "for x in (qry_eval-qry_eval[idx_max]):\n",
    "    vals = []\n",
    "    x_int = []\n",
    "    for y in qry_eval:\n",
    "        if np.sqrt(x**2+y**2) <= r:\n",
    "            val = k.evaluate([x,y])[0] \n",
    "            vals.append(val)\n",
    "            x_int.append(y)\n",
    "    integral = trapz(vals, np.asarray(x_int))\n",
    "\n",
    "#     integral = np.asarray(vals).sum()\n",
    "    integrals.append(integral)\n",
    "integral_in_circle = np.asarray(integrals).sum()\n",
    "\n",
    "sum_in_circle, integral_in_circle"
   ]
  },
  {
   "cell_type": "code",
   "execution_count": null,
   "metadata": {},
   "outputs": [],
   "source": [
    "sum_in_circle/total_sum, integral_in_circle/total_integral"
   ]
  },
  {
   "cell_type": "markdown",
   "metadata": {},
   "source": [
    "## Reverse x and y\n"
   ]
  },
  {
   "cell_type": "code",
   "execution_count": null,
   "metadata": {},
   "outputs": [],
   "source": [
    "from scipy.integrate import simps\n",
    "from scipy.integrate import trapz\n",
    "qry_eval = np.linspace(-lim,lim,100) # evaluation points\n",
    "\n",
    "# total sum!\n",
    "integrals = [] # list of the integrals\n",
    "for x in (qry_eval-qry_eval[idx_max]):\n",
    "    vals = []\n",
    "    for y in qry_eval:\n",
    "        val = k.evaluate([y,x])[0] \n",
    "        vals.append(val)\n",
    "#     integral = trapz(vals, qry_eval)\n",
    "\n",
    "    integral = np.asarray(vals).sum()\n",
    "    integrals.append(integral)\n",
    "total_sum = np.asarray(integrals).sum()\n",
    "\n",
    "# total integral\n",
    "integrals = [] # list of the integrals\n",
    "for x in (qry_eval-qry_eval[idx_max]):\n",
    "    vals = []\n",
    "    for y in qry_eval:\n",
    "        val = k.evaluate([y,x])[0] \n",
    "        vals.append(val)\n",
    "    integral = trapz(vals, qry_eval)\n",
    "    integrals.append(integral)\n",
    "total_integral = np.asarray(integrals).sum()\n",
    "\n",
    "total_sum, total_integral"
   ]
  },
  {
   "cell_type": "code",
   "execution_count": null,
   "metadata": {},
   "outputs": [],
   "source": [
    "# integral and sum in the center only\n",
    "r = 2./2 # mm\n",
    "integrals = [] # list of the integrals\n",
    "for x in (qry_eval-qry_eval[idx_max]):\n",
    "    vals = []\n",
    "    for y in qry_eval:\n",
    "        if np.sqrt(x**2+y**2) <= r:\n",
    "            val = k.evaluate([y,x])[0] \n",
    "            vals.append(val)\n",
    "#     integral = trapz(vals, qry_eval)\n",
    "\n",
    "    integral = np.asarray(vals).sum()\n",
    "    integrals.append(integral)\n",
    "sum_in_circle = np.asarray(integrals).sum()\n",
    "\n",
    "integrals = [] # list of the integrals\n",
    "for x in (qry_eval-qry_eval[idx_max]):\n",
    "    vals = []\n",
    "    x_int = []\n",
    "    for y in qry_eval:\n",
    "        if np.sqrt(x**2+y**2) <= r:\n",
    "            val = k.evaluate([y,x])[0] \n",
    "            vals.append(val)\n",
    "            x_int.append(y)\n",
    "    integral = trapz(vals, np.asarray(x_int))\n",
    "\n",
    "#     integral = np.asarray(vals).sum()\n",
    "    integrals.append(integral)\n",
    "integral_in_circle = np.asarray(integrals).sum()\n",
    "\n",
    "sum_in_circle, integral_in_circle"
   ]
  },
  {
   "cell_type": "code",
   "execution_count": null,
   "metadata": {},
   "outputs": [],
   "source": [
    "sum_in_circle/total_sum, integral_in_circle/total_integral"
   ]
  },
  {
   "cell_type": "code",
   "execution_count": null,
   "metadata": {},
   "outputs": [],
   "source": [
    "x = qry_eval-qry_eval[idx_max]\n",
    "y = np.asarray(eval_y)\n",
    "\n",
    "total = np.sum(y)\n",
    "\n",
    "ii = np.where((x <= 1) & (x >= -1))[0]\n",
    "np.sum(y[ii])/total"
   ]
  },
  {
   "cell_type": "code",
   "execution_count": null,
   "metadata": {},
   "outputs": [],
   "source": [
    "x = qry_eval\n",
    "y = np.asarray(eval_x)\n",
    "\n",
    "total = np.sum(y)\n",
    "\n",
    "ii = np.where((x <= 1) & (x >= -1))[0]\n",
    "\n",
    "\n",
    "plt.plot(x, y)\n",
    "plt.plot(x[ii], y[ii])\n",
    "np.sum(y[ii])/total"
   ]
  },
  {
   "cell_type": "code",
   "execution_count": null,
   "metadata": {},
   "outputs": [],
   "source": [
    "lim = 3\n",
    "nbins = 200\n",
    "xi, yi = np.mgrid[-lim:lim:nbins*1j, -lim:lim:nbins*1j] # x and y are in the plot\n",
    "data_x = data['qy'].values # in the plot\n",
    "data_y = data['qz'].values # in the plot\n",
    "data_y"
   ]
  },
  {
   "cell_type": "code",
   "execution_count": null,
   "metadata": {},
   "outputs": [],
   "source": [
    "# loop through the samples and increase counts in the zi by one if the sample is in this range\n",
    "zi = np.zeros(xi.shape) # initialize the values to 0\n",
    "for x, y in zip(data_x, data_y):\n",
    "    print(x,y)\n"
   ]
  },
  {
   "cell_type": "code",
   "execution_count": null,
   "metadata": {},
   "outputs": [],
   "source": [
    "nbins = 300\n",
    "\n",
    "xi = np.linspace(-3,3,nbins)\n",
    "yi = np.linspace(-3,3,nbins)\n",
    "zi = np.zeros([nbins,nbins]) # initialize the values to 0\n",
    "\n",
    "# x, y = data_x[0], data_y[0]\n",
    "for x, y in zip(data_x, data_y):\n",
    "    closest_x = np.argmin(np.abs(x-xi))\n",
    "    closest_y = np.argmin(np.abs(y-yi))\n",
    "    zi[closest_y][closest_x] = zi[closest_y][closest_x] + 1"
   ]
  },
  {
   "cell_type": "code",
   "execution_count": null,
   "metadata": {},
   "outputs": [],
   "source": [
    "fig, ax = plt.subplots(figsize=(8,8))\n",
    "p = ax.pcolormesh(xi, yi, zi, shading='gouraud', cmap=plt.cm.jet)\n"
   ]
  },
  {
   "cell_type": "code",
   "execution_count": null,
   "metadata": {},
   "outputs": [],
   "source": [
    "fig, ax = plt.subplots(figsize=(8,8))\n",
    "ax.bar(df['Date'], df['Value_change'].values, width=0.8, align='center', color='darkblue')\n",
    "plt.show()"
   ]
  },
  {
   "cell_type": "code",
   "execution_count": null,
   "metadata": {},
   "outputs": [],
   "source": [
    "zi[149][:]"
   ]
  },
  {
   "cell_type": "code",
   "execution_count": null,
   "metadata": {},
   "outputs": [],
   "source": [
    "np.argmin(np.abs(xi-0))"
   ]
  },
  {
   "cell_type": "markdown",
   "metadata": {},
   "source": [
    "# Alternate plot"
   ]
  },
  {
   "cell_type": "code",
   "execution_count": null,
   "metadata": {},
   "outputs": [],
   "source": [
    "import pandas as pd\n",
    "import numpy as np\n",
    "import os\n",
    "import sys\n",
    "import re\n",
    "import matplotlib.pyplot as plt\n",
    "from scipy.optimize import minimize\n",
    "from scipy.optimize import curve_fit\n",
    "\n",
    "from scipy.stats import kde\n",
    "from scipy import optimize\n",
    "\n",
    "from matplotlib.ticker import NullFormatter\n",
    "from matplotlib import pyplot, transforms\n",
    "import matplotlib\n",
    "from matplotlib.ticker import AutoMinorLocator\n",
    "%matplotlib inline\n",
    "import os\n",
    "os.environ[\"PATH\"] += os.pathsep + '/usr/local/texlive/2018/bin/x86_64-darwin'\n",
    "plt.rc('text', usetex=True)\n",
    "plt.rc('font', weight='bold')\n",
    "matplotlib.rcParams['mathtext.fontset'] = 'custom'\n",
    "matplotlib.rcParams['mathtext.rm'] = 'Arial'\n",
    "matplotlib.rcParams['mathtext.it'] = 'Arial:italic'\n",
    "matplotlib.rcParams['mathtext.bf'] = 'Arial:bold'\n",
    "matplotlib.rcParams['mathtext.tt'] = 'Arial'\n",
    "matplotlib.rcParams['mathtext.cal'] = 'Arial'\n",
    "matplotlib.rcParams['text.latex.preamble'] = [r'\\usepackage{sfmath} \\boldmath']\n",
    "\n",
    "pd.set_option(\"display.max_columns\", 300)\n",
    "\n",
    "fname = '/Users/hkromer/02_PhD/02_Data/01_COMSOL/01_IonOptics/03.new_chamber/07.final_design/07.final_design.no_extraction/HV/4mm_fillet/particleData/50kparticles.txt'\n",
    "\n",
    "data = pd.read_csv(fname, skiprows=8, index_col=0, delimiter='\\s+', header=None)\n",
    "data.columns = ['qx', 'qy', 'qz']\n"
   ]
  },
  {
   "cell_type": "code",
   "execution_count": null,
   "metadata": {},
   "outputs": [],
   "source": [
    "# create data\n",
    "x = np.random.normal(size=50000)\n",
    "y = x * 3 + np.random.normal(size=50000)\n",
    " \n",
    "# Big bins\n",
    "plt.hist2d(x, y, bins=(50, 50), cmap=plt.cm.jet)\n",
    "plt.show()\n",
    " \n",
    "# Small bins\n",
    "plt.hist2d(x, y, bins=(300, 300), cmap=plt.cm.jet)\n",
    "plt.show()\n",
    " \n",
    "# If you do not set the same values for X and Y, the bins aren't square !\n",
    "plt.hist2d(x, y, bins=(300, 30), cmap=plt.cm.jet)\n",
    " \n",
    "plt.show()\n"
   ]
  },
  {
   "cell_type": "code",
   "execution_count": null,
   "metadata": {},
   "outputs": [],
   "source": [
    "x = data['qz'].values\n",
    "y = data['qy'].values\n",
    "\n",
    "p = plt.hist2d(x, y, bins=(50, 50), cmap=plt.cm.jet)\n",
    "plt.show()"
   ]
  },
  {
   "cell_type": "code",
   "execution_count": null,
   "metadata": {},
   "outputs": [],
   "source": [
    "p[1]"
   ]
  },
  {
   "cell_type": "code",
   "execution_count": null,
   "metadata": {},
   "outputs": [],
   "source": [
    "nbins = 200\n",
    "lim = 3\n",
    "#     print(data[pd.isnull(data).any(axis=1)])\n",
    "x = data['qy'].values\n",
    "y = data['qz'].values\n",
    "my_data = np.vstack([x, y])\n",
    "k = kde.gaussian_kde(my_data)\n",
    "\n",
    "xi, yi = np.mgrid[-lim:lim:nbins*1j, -lim:lim:nbins*1j]\n",
    "zi = k(np.vstack([xi.flatten(), yi.flatten()]))\n",
    "print(zi.reshape(xi.shape))\n",
    "# plot\n",
    "fs = 20\n",
    "\n",
    "f = plt.figure(1, figsize=(9, 9))\n",
    "\n",
    "nullfmt = NullFormatter()         # no labels\n",
    "# definitions for the axes\n",
    "left, width = 0.12, 0.65\n",
    "bottom, height = 0.12, 0.65\n",
    "rect_scatter = [left, bottom, width, height]\n",
    "axScatter = plt.axes(rect_scatter)\n",
    "p = axScatter.pcolormesh(xi, yi, zi.reshape(xi.shape), shading='gouraud', cmap=plt.cm.jet)\n",
    "plt.axis('equal')\n",
    "plt.xlabel(r'\\textbf{y [mm]}', fontsize=fs)\n",
    "plt.ylabel(r'\\textbf{z [mm]}', fontsize=fs)\n",
    "axScatter.tick_params('x', colors='black', labelsize=fs-2)\n",
    "axScatter.tick_params('y', colors='black', labelsize=fs-2)\n",
    "plt.yticks(np.arange(-3,4,1))\n",
    "plt.xticks(np.arange(-3,4,1))\n",
    "\n",
    "\n",
    "left = 0.8\n",
    "bottom = 0.12\n",
    "width = 0.05\n",
    "height = 0.65\n",
    "cax = f.add_axes([left, bottom, width, height])\n",
    "cbar = f.colorbar(p, cax, ticks=[0,0.05,0.1,0.15])\n",
    "print(np.max(zi))\n",
    "cbar.ax.tick_params(labelsize=fs-2)\n",
    "# plt.savefig(f'{outfolder}/{figname}.pdf')\n",
    "\n",
    "plt.show()"
   ]
  },
  {
   "cell_type": "code",
   "execution_count": null,
   "metadata": {},
   "outputs": [],
   "source": []
  },
  {
   "cell_type": "code",
   "execution_count": null,
   "metadata": {},
   "outputs": [],
   "source": []
  }
 ],
 "metadata": {
  "kernelspec": {
   "display_name": "Python 3",
   "language": "python",
   "name": "python3"
  },
  "language_info": {
   "codemirror_mode": {
    "name": "ipython",
    "version": 3
   },
   "file_extension": ".py",
   "mimetype": "text/x-python",
   "name": "python",
   "nbconvert_exporter": "python",
   "pygments_lexer": "ipython3",
   "version": "3.8.3"
  }
 },
 "nbformat": 4,
 "nbformat_minor": 4
}
