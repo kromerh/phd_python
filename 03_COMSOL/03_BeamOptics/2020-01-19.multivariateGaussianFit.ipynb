{
 "cells": [
  {
   "cell_type": "markdown",
   "metadata": {},
   "source": [
    "# Fitting of multivariate Gaussian on the spot size dataset"
   ]
  },
  {
   "cell_type": "code",
   "execution_count": 1,
   "metadata": {},
   "outputs": [],
   "source": [
    "import numpy as np"
   ]
  },
  {
   "cell_type": "code",
   "execution_count": null,
   "metadata": {},
   "outputs": [],
   "source": []
  },
  {
   "cell_type": "code",
   "execution_count": null,
   "metadata": {},
   "outputs": [],
   "source": [
    "# compute mu_j\n",
    "def compute_mu_j(m, X):\n",
    "    \"\"\"\n",
    "    m: number of samples\n",
    "    X: vector with the all datapoints, in this case the y and z position. numpy array\n",
    "    \"\"\"\n",
    "    # number of features, in this case it is 2, because y and z position of datapoint\n",
    "    num_featurs = np.shape(X)\n",
    "    # initialize mu_j\n",
    "    mu_j = "
   ]
  }
 ],
 "metadata": {
  "kernelspec": {
   "display_name": "Python 3",
   "language": "python",
   "name": "python3"
  },
  "language_info": {
   "codemirror_mode": {
    "name": "ipython",
    "version": 3
   },
   "file_extension": ".py",
   "mimetype": "text/x-python",
   "name": "python",
   "nbconvert_exporter": "python",
   "pygments_lexer": "ipython3",
   "version": "3.7.4"
  }
 },
 "nbformat": 4,
 "nbformat_minor": 4
}
