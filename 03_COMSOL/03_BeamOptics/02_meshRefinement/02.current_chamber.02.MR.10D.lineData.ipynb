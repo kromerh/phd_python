{
 "cells": [
  {
   "cell_type": "markdown",
   "metadata": {},
   "source": [
    "###### COMSOL Study: Mesh refinement for current vacuum chamber\n",
    "## Electric field strength along x axis\n",
    "- current chamber\n",
    "- COMSOL files 02.MR.10D - current vacuum chamber with microwave ion source (1 mm aperture)\n",
    "- Mesh is mesh surface contraints\n",
    "- last accessed: 2019-02-06"
   ]
  },
  {
   "cell_type": "markdown",
   "metadata": {},
   "source": [
    "## Import statements"
   ]
  },
  {
   "cell_type": "code",
   "execution_count": 1,
   "metadata": {},
   "outputs": [],
   "source": [
    "import pandas as pd\n",
    "import numpy as np\n",
    "import os\n",
    "import re\n",
    "import matplotlib.pyplot as plt\n",
    "import sys\n",
    "from scipy.interpolate import interp1d"
   ]
  },
  {
   "cell_type": "markdown",
   "metadata": {},
   "source": [
    "### Specify path to datafile\n"
   ]
  },
  {
   "cell_type": "code",
   "execution_count": 2,
   "metadata": {},
   "outputs": [],
   "source": [
    "remote_path = '/Users/hkromer/02_PhD/02_Data/01_COMSOL/01_IonOptics/\\\n",
    "02.current_chamber/02.MR/lineData/10D'\n",
    "files_along_x = f'{remote_path}'"
   ]
  },
  {
   "cell_type": "markdown",
   "metadata": {},
   "source": [
    "### Parameter Settings"
   ]
  },
  {
   "cell_type": "code",
   "execution_count": 3,
   "metadata": {},
   "outputs": [],
   "source": [
    "ylimit = 7.5  # ylimit for the plot\n",
    "X_max = 72.9 # maximum x point to interpolate the data (target surface)\n",
    "hmax_reference = 1. # reference hmax which will be used as the reference for the electric field strength (relative differences will be plotted)  check in NOTION"
   ]
  },
  {
   "cell_type": "markdown",
   "metadata": {},
   "source": [
    "### Load the files"
   ]
  },
  {
   "cell_type": "code",
   "execution_count": 4,
   "metadata": {},
   "outputs": [
    {
     "name": "stdout",
     "output_type": "stream",
     "text": [
      "Processing file: 02.MR.106.lineData.csv\n",
      "Processing file: 02.MR.101.lineData.csv\n",
      "Processing file: 02.MR.103.lineData.csv\n",
      "Processing file: 02.MR.104.lineData.csv\n",
      "Processing file: 02.MR.105.lineData.csv\n",
      "Processing file: 02.MR.102.lineData.csv\n",
      "           ElField                  ID  hmax  index  run         x  y  z\n",
      "126  402165.311084  02.MR.101.lineData     1    129  101  6.892251  0  0\n",
      "72   510149.571988  02.MR.101.lineData     1    184  101  3.055187  0  0\n",
      "71   520094.304528  02.MR.101.lineData     1    183  101  2.998338  0  0\n",
      "70   521733.232150  02.MR.101.lineData     1    186  101  2.988316  0  0\n",
      "69   525540.627915  02.MR.101.lineData     1    187  101  2.962361  0  0\n"
     ]
    }
   ],
   "source": [
    "files = os.listdir(files_along_x)\n",
    "# files = [f for f in files if f.endswith('.csv')]\n",
    "files = [f for f in files if f.endswith('.csv')]\n",
    "# print(files)\n",
    "# sys.exit()\n",
    "\n",
    "# process files\n",
    "# (1): load x value and value of electric field (es.normE) as well as potential field (V)\n",
    "df = pd.DataFrame()\n",
    "for file in files:\n",
    "\tprint('Processing file: {}'.format(file))\n",
    "\tif len(df) < 1:\n",
    "\t\tdf = pd.read_csv('{}/{}'.format(files_along_x, file),\n",
    "\t\t\theader=None, skiprows=9)\n",
    "\t\t# print(df)\n",
    "\t\tcolname = ['x', 'y', 'z', 'ElField']  # mm, mm, mm, mm, kV/mm\n",
    "\t\tdf.columns = colname\n",
    "\t\tfname = re.findall(r'(.+).csv', file)[0]\n",
    "\t\trun = re.findall(r'\\.(\\d\\d\\d)\\.', file)[0]\n",
    "\t\t# print(run)\n",
    "\t\t# hmax = re.findall(r'hmax(\\d*)', file)[0]\n",
    "\t\thmax = run\n",
    "\t\tdf['ID'] = fname\n",
    "\t\tdf['run'] = run\n",
    "\t\tdf['hmax'] = int(hmax[-1])\n",
    "\t\tdf = df.sort_values(by=['x'])\n",
    "\t\tdf = df.reset_index()\n",
    "\telse:\n",
    "\t\tthis_df = pd.read_csv('{}/{}'.format(files_along_x, file),\n",
    "\t\t\theader=None, skiprows=9)\n",
    "\t\tcolname = ['x', 'y', 'z', 'ElField']  # mm, mm, mm, kV/mm\n",
    "\t\tthis_df.columns = colname\n",
    "\t\tfname = re.findall(r'(.+).csv', file)[0]\n",
    "\t\trun = re.findall(r'\\.(\\d\\d\\d)\\.', file)[0]\n",
    "\t\thmax = run\n",
    "\t\t# hmax = re.findall(r'hmax(\\d*)', file)[0]\n",
    "\t\tthis_df['ID'] = fname\n",
    "\t\tthis_df['run'] = run\n",
    "\t\tthis_df['hmax'] = int(hmax[-1])\n",
    "\t\t# print(df.head())\n",
    "\t\t# print(this_df.head())\n",
    "\t\tthis_df = this_df.sort_values(by=['x'])\n",
    "\t\tthis_df = this_df.reset_index()\n",
    "\t\tdf = df.append(this_df, sort=True)\n",
    "\n",
    "\n",
    "df = df.sort_values(by=['ID'])\n",
    "print(df.head())\n",
    "# asser that no nonzero entries in the df\n",
    "assert len(df[df.isnull().any(axis=1)]) == 0\n",
    "\n"
   ]
  },
  {
   "cell_type": "code",
   "execution_count": 5,
   "metadata": {},
   "outputs": [],
   "source": [
    "# check if the min and max of the x are the same\n",
    "def minMaxX(df):\n",
    "\tmy_ID = df.ID.unique()[0]\n",
    "\tprint('Processing ID: {}'.format(my_ID))\n",
    "\tprint(np.max(df['x']), np.min(df['x']))\n",
    "\n",
    "\n",
    "# df.groupby('ID').apply(lambda x: minMaxX(x))\n",
    "\n",
    "\n",
    "# group by ID and compute the differences in the profile\n",
    "# reference dataframe with the finest mesh\n",
    "\n",
    "# comment one of them !\n",
    "# ref_df = df[ df['ID'] == '101_mr_0.5' ]   # new target\n",
    "ref_df = df[df['hmax'] == hmax_reference]\n",
    "\n",
    "E_ref_interp = interp1d(ref_df['x'], ref_df['ElField'],\n",
    "\tfill_value='extrapolate')\n",
    "\n",
    "\n",
    "# PLOT ACCELERATOR COLUMN\n",
    "\n",
    "my_plots = []\n",
    "\n",
    "X = np.linspace(0, X_max, 400)  # query points\n",
    "E_ref = E_ref_interp(X)\n",
    "\n",
    "f, ax = plt.subplots(figsize=(6, 8))\n",
    "f.suptitle('Mesh refinement in accelerator column')\n",
    "\n",
    "\n",
    "def plotDifferences(df):\n",
    "\tmy_ID = df.ID.unique()[0]\n",
    "\thmax = df.hmax.unique()[0]\n",
    "\tif my_ID != ref_df.ID.unique()[0]:\n",
    "\n",
    "\t\t# el field interpolation\n",
    "\t\tE_interp = interp1d(df['x'], df['ElField'], fill_value='extrapolate')\n",
    "\n",
    "\t\tthis_E = E_interp(X)\n",
    "\n",
    "\t\tdiff_E = np.abs(np.abs(this_E - E_ref) / E_ref)\n",
    "\n",
    "\t\t# get label\n",
    "\t\tlbl = hmax\n",
    "\n",
    "\t\tthis_plot1, = ax.plot(X, 100 * diff_E, label=lbl)\n",
    "\t\tax.set_xlabel('x position [mm]')\n",
    "\t\tax.set_ylim(0, ylimit)\n",
    "\t\tax.set_ylabel('rel. diff. electric field [%]')\n",
    "\t\tax.grid(True)\n",
    "\n",
    "\t\tmy_plots.append(this_plot1)\n",
    "\n",
    "\n",
    "# print(df)\n",
    "df.groupby('ID').apply(lambda x: plotDifferences(x))\n",
    "\n",
    "# legend\n",
    "handles, labels = ax.get_legend_handles_labels()\n",
    "# sort both labels and handles by labels\n",
    "# print(labels)\n",
    "labels, handles = zip(*sorted(zip(labels, handles), key=lambda t: t[0]))\n",
    "ax.legend(handles[0:], labels[0:], title='hmax')\n",
    "\n",
    "filename = '{}/mr_accelerator_column'.format(files_along_x)\n",
    "# plt.savefig(filename + '.eps', dpi=1200)\n",
    "# plt.savefig(filename + '.svg', dpi=1200)\n",
    "plt.savefig(filename + '.png', dpi=600)\n",
    "plt.close('all')\n",
    "\n",
    "\n",
    "# PLOT ION EXTRACTION REGION\n",
    "\n",
    "X = np.linspace(0, 11, 200)  # query points\n",
    "\n",
    "E_ref = E_ref_interp(X)\n",
    "\n",
    "f, ax = plt.subplots(figsize=(6, 8))\n",
    "f.suptitle('Mesh refinement in extraction region column')\n",
    "\n",
    "\n",
    "def plotDifferences(df):\n",
    "\tmy_ID = df.ID.unique()[0]\n",
    "\thmax = df.hmax.unique()[0]\n",
    "\tif my_ID != ref_df.ID.unique()[0]:\n",
    "\t\t# el field interpolation\n",
    "\t\tE_interp = interp1d(df['x'], df['ElField'], fill_value='extrapolate')\n",
    "\n",
    "\t\tthis_E = E_interp(X)\n",
    "\n",
    "\t\tdiff_E = np.abs(np.abs(this_E - E_ref) / E_ref)\n",
    "\n",
    "\t\t# get label\n",
    "\t\tlbl = hmax\n",
    "\n",
    "\t\tax.plot(X, 100 * diff_E, label=lbl)\n",
    "\t\tax.set_xlabel('x position [mm]')\n",
    "\t\tax.set_ylim(0, ylimit)\n",
    "\t\tax.set_ylabel('rel. diff. electric field [%]')\n",
    "\t\tax.grid(True)\n",
    "\n",
    "\n",
    "df.groupby('ID').apply(lambda x: plotDifferences(x))\n",
    "\n",
    "\n",
    "# legend\n",
    "handles, labels = ax.get_legend_handles_labels()\n",
    "# sort both labels and handles by labels\n",
    "labels, handles = zip(*sorted(zip(labels, handles), key=lambda t: t[0]))\n",
    "ax.legend(handles[0:], labels[0:], title='hmax')\n",
    "\n",
    "# plt.show()\n",
    "filename = '{}/mr_extraction_region'.format(files_along_x)\n",
    "# plt.savefig(filename + '.eps', dpi=1200)\n",
    "# plt.savefig(filename + '.svg', dpi=1200)\n",
    "plt.savefig(filename + '.png', dpi=600)\n",
    "plt.close('all')"
   ]
  },
  {
   "cell_type": "code",
   "execution_count": null,
   "metadata": {},
   "outputs": [],
   "source": []
  },
  {
   "cell_type": "code",
   "execution_count": null,
   "metadata": {},
   "outputs": [],
   "source": []
  },
  {
   "cell_type": "code",
   "execution_count": null,
   "metadata": {},
   "outputs": [],
   "source": []
  },
  {
   "cell_type": "code",
   "execution_count": null,
   "metadata": {},
   "outputs": [],
   "source": []
  }
 ],
 "metadata": {
  "kernelspec": {
   "display_name": "Python 3",
   "language": "python",
   "name": "python3"
  },
  "language_info": {
   "codemirror_mode": {
    "name": "ipython",
    "version": 3
   },
   "file_extension": ".py",
   "mimetype": "text/x-python",
   "name": "python",
   "nbconvert_exporter": "python",
   "pygments_lexer": "ipython3",
   "version": "3.7.1"
  }
 },
 "nbformat": 4,
 "nbformat_minor": 2
}
