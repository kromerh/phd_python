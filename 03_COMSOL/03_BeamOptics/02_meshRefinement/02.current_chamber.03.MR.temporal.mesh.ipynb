{
 "cells": [
  {
   "cell_type": "markdown",
   "metadata": {},
   "source": [
    "# Check the influence of the mesh sizein the bidirectionally coupled solver \n",
    "\n",
    "- runs: 001, 002, 003, 004\n",
    "- time stepping: 2e-10s\n",
    "- particle positions are recorded for every 1e-8s\n",
    "- output folder from COMSOL is /Users/hkromer/02_PhD/02_Data/01_COMSOL/01_IonOptics/02.current_chamber/02.MR/temporal_refinement/data/mesh_resolution/\n",
    "- COMSOL mph files are /Users/hkromer/02_PhD/02_Data/01_COMSOL/01_IonOptics/02.current_chamber/02.MR/temporal_refinement/02.MR.102.temporal_refinement.003.hmesh_save1e8.002.mph and so on"
   ]
  },
  {
   "cell_type": "markdown",
   "metadata": {},
   "source": [
    "## Check the qrmax function from COMSOL for the three runs\n",
    "\n",
    "- is computed by COMSOL as maximum(sqrt(qy^2+qz^2))"
   ]
  },
  {
   "cell_type": "code",
   "execution_count": null,
   "metadata": {},
   "outputs": [],
   "source": [
    "import pandas as pd\n",
    "import numpy as np\n",
    "import matplotlib.pyplot as plt\n",
    "import os\n",
    "import re\n",
    "%matplotlib inline"
   ]
  },
  {
   "cell_type": "code",
   "execution_count": null,
   "metadata": {},
   "outputs": [],
   "source": [
    "# thesis folder\n",
    "savefolder = '/Users/hkromer/polybox/Thesis/Chapters/DetailedNeutronGeneratorCharacterization/Figures/'\n",
    "figname = 'COMSOL_mesh_refinement'\n",
    "figname = f'{savefolder}/{figname}/{figname}.pdf'\n",
    "\n",
    "figname2 = 'COMSOL_mesh_refinement_x_avg'\n",
    "figname2 = f'{savefolder}/{figname2}/{figname2}.pdf'"
   ]
  },
  {
   "cell_type": "code",
   "execution_count": null,
   "metadata": {},
   "outputs": [],
   "source": [
    "import matplotlib\n",
    "from matplotlib.ticker import AutoMinorLocator\n",
    "import os\n",
    "os.environ[\"PATH\"] += os.pathsep + '/usr/local/texlive/2018/bin/x86_64-darwin'\n",
    "plt.rc('text', usetex=True)\n",
    "plt.rc('font', weight='bold')\n",
    "matplotlib.rcParams['font.weight']= 'bold'\n",
    "matplotlib.rcParams['mathtext.fontset'] = 'custom'\n",
    "matplotlib.rcParams['mathtext.rm'] = 'Arial'\n",
    "matplotlib.rcParams['mathtext.it'] = 'Arial:italic'\n",
    "matplotlib.rcParams['mathtext.bf'] = 'Arial:bold'\n",
    "matplotlib.rcParams['mathtext.tt'] = 'Arial'\n",
    "matplotlib.rcParams['mathtext.cal'] = 'Arial'\n",
    "matplotlib.rcParams['text.latex.preamble'] = [r'\\usepackage{sfmath} \\boldmath']\n",
    "plt.rcParams[\"axes.labelweight\"] = \"heavy\"\n"
   ]
  },
  {
   "cell_type": "code",
   "execution_count": null,
   "metadata": {},
   "outputs": [],
   "source": [
    "path = '/Users/hkromer/02_PhD/02_Data/01_COMSOL/01_IonOptics/02.current_chamber/02.MR/temporal_refinement/data/mesh_resolution/'\n",
    "files = [f for f in os.listdir(path) if 'save1e8' in f]\n",
    "data = pd.DataFrame()\n",
    "\n",
    "plt.figure(figsize=(9,7))\n",
    "colors = ['darkblue', 'darkred', 'darkorange', 'darkgreen']\n",
    "markers = ['o','d','s','p']\n",
    "for file,c,m in zip(files, colors,markers):\n",
    "    # get the run id\n",
    "    run = re.findall(r'save1e8\\.(\\d*)\\.', file)[0]\n",
    "    mesh_elements = re.findall(r'\\.(\\d*)\\.csv', file)[0]\n",
    "    data_t = pd.read_csv(f'{path}/{file}', skiprows=4)\n",
    "    data_t.columns = ['time', 'qrmax', 'x_avg'] # time in seconds, beam radius in mm\n",
    "    data_t['run'] = run\n",
    "    data_t['mesh_elements'] = mesh_elements\n",
    "    data = data.append(data_t)\n",
    "#     print(data_t.head())\n",
    "    \n",
    "    # plot\n",
    "    data_t['time'] = data_t['time'] * 1e6 # convert to mus\n",
    "    plt.plot(data_t['time'].values, data_t['qrmax'].values, color=c, label=run, marker=m, markersize=10)\n",
    "    plt.xlabel('Time [1e-6 s]')\n",
    "    plt.ylabel('Maximum beam radius [mm]')\n",
    "    plt.legend()\n",
    "\n",
    "data"
   ]
  },
  {
   "cell_type": "code",
   "execution_count": null,
   "metadata": {},
   "outputs": [],
   "source": [
    "len(data['x_avg'].unique()), len(data['time'].unique()) "
   ]
  },
  {
   "cell_type": "markdown",
   "metadata": {},
   "source": [
    "This is not very insightful, how does the difference change over the different time steppings?"
   ]
  },
  {
   "cell_type": "code",
   "execution_count": null,
   "metadata": {},
   "outputs": [],
   "source": [
    "# group by time step and compute difference\n",
    "def compute_difference(df):\n",
    "    assert len(df) == 4\n",
    "\n",
    "    ref = df[df['run']=='004'].loc[:,'qrmax'].values[0] # reference qr for run 004    \n",
    "\n",
    "    \n",
    "    s_diff = np.abs(df['qrmax'] - ref)\n",
    "    s_rel_diff_qrmax = np.abs(df['qrmax'] - ref)/(ref)\n",
    "    \n",
    "    out_df = pd.DataFrame()\n",
    "\n",
    "    out_df['rel_diff_qrmax']=s_rel_diff_qrmax\n",
    "    out_df['diff_qrmax']=s_diff\n",
    "    out_df['run']=df['run']\n",
    "    out_df['mesh_elements']=df['mesh_elements']\n",
    "    \n",
    "\n",
    "\n",
    "#     df = df.reset_index()\n",
    "\n",
    "\n",
    "    return out_df\n",
    "\n",
    "    \n",
    "# make sure the time steps have the same accuracy\n",
    "data['time'] = np.round(data['time'],9) \n",
    "data_agg = data.groupby('time').apply(lambda x: compute_difference(x)).reset_index()\n",
    "# data_agg\n",
    "\n",
    "\n",
    "data_agg = data_agg.reset_index(drop=True)\n",
    "ref_data = data[data['run']=='004']\n",
    "s = ref_data.set_index('time')['x_avg']\n",
    "data_agg['x_avg'] = data_agg['time'].map(s)\n",
    "data_agg"
   ]
  },
  {
   "cell_type": "code",
   "execution_count": null,
   "metadata": {},
   "outputs": [],
   "source": [
    "# plot for each time\n",
    "fig, ax1 = plt.subplots(figsize=(8, 6))\n",
    "runs = data_agg['run'].unique()\n",
    "fs = 20\n",
    "markersize = 8\n",
    "colors = ['darkorange', 'darkblue', 'darkred']\n",
    "markers = ['s', 'd', 'o']\n",
    "linestyles = ['--', '-' , \"dotted\", (0, (3, 5, 1, 5))]\n",
    "runs = runs[runs != '004']\n",
    "\n",
    "for run,c,m,linest in zip(runs, colors,markers,linestyles):\n",
    "#     print(run)\n",
    "\n",
    "    data_plot = data_agg[data_agg['run'] == run]\n",
    "    data_plot['time'] = data_plot['time'] * 1e6 # convert to mus\n",
    "\n",
    "    mesh_elements = data_plot['mesh_elements'].unique()[0]\n",
    "    Y = 100.0 * data_plot['rel_diff_qrmax'].values\n",
    "#     print(mesh_elements)\n",
    "    ax1.plot(data_plot['time'].values, Y, color=c, linestyle=linest, label=mesh_elements, marker=m, markersize=markersize)\n",
    "\n",
    "ylims = ax1.get_ylim()\n",
    "\n",
    "\n",
    "ax1.plot((0.0, 0.0), (-100, 100), 'k--', linewidth=2, color='black')  # Plasma meniscus\n",
    "ax1.plot((0.25, 0.25), (-100, 100), 'k--', linewidth=2, color='black')  # Target surface\n",
    "ax1.set_xlabel(r\"\\textbf{Travel time [$\\mu$s]}\", fontsize=fs)\n",
    "ax1.set_ylabel(r\"\\textbf{Relative difference\" + \"\\n\"+  r\"\\textbf{maximum beam radius [\\%]}\", fontsize=fs)\n",
    "ax1.tick_params('x', colors='black', labelsize=fs)\n",
    "ax1.tick_params(axis='y', labelsize=fs-2)\n",
    "ax1.set_ylim(ylims[0],ylims[1])\n",
    "ax1.text(-0.008, 10, s=r'\\textbf{Plasma meniscus}', color='black',  fontsize=fs-4, rotation=90) # PLASMA\n",
    "ax1.text(0.24, 10, s=r'\\textbf{Target surface}', color='black',  fontsize=fs-4, rotation=90) # target\n",
    "\n",
    "\n",
    "# ax1.set_yticks(np.arange(2.0,3.1,0.2))\n",
    "# minor ticks x\n",
    "minor_locator = AutoMinorLocator(2)\n",
    "ax1.xaxis.set_minor_locator(minor_locator)\n",
    "# minor ticks y\n",
    "minor_locator = AutoMinorLocator(2)\n",
    "ax1.yaxis.set_minor_locator(minor_locator)\n",
    "\n",
    "hs, ls = ax1.get_legend_handles_labels()\n",
    "\n",
    "leg1 = plt.legend([hs[0],hs[2],hs[1]],[ls[0],ls[2],ls[1]], loc=(0.69,0.74), fontsize=fs-6)\n",
    "# leg1 = plt.legend(loc='best', fontsize=fs-6)\n",
    "leg1.set_title(r\"\\textbf{Mesh elements}\", prop = {'size': fs-4})\n",
    "ax1.grid(b=True, which='major', linestyle='-')\n",
    "ax1.grid(b=True, which='minor', linestyle='--')\n",
    "\n",
    "\n",
    "plt.tight_layout()\n",
    "plt.savefig(figname)\n",
    "plt.show()\n",
    "# "
   ]
  },
  {
   "cell_type": "markdown",
   "metadata": {},
   "source": [
    "### Plot with the x_avg on the x axis\n"
   ]
  },
  {
   "cell_type": "code",
   "execution_count": null,
   "metadata": {},
   "outputs": [],
   "source": [
    "# plot for each time\n",
    "fig, ax1 = plt.subplots(figsize=(8, 6))\n",
    "runs = data_agg['run'].unique()\n",
    "fs = 20\n",
    "markersize = 8\n",
    "colors = ['darkorange', 'darkblue', 'darkred']\n",
    "markers = ['s', 'd', 'o']\n",
    "linestyles = ['--', '-' , \"dotted\", (0, (3, 5, 1, 5))]\n",
    "runs = runs[runs!='004']\n",
    "\n",
    "for run,c,m,linest in zip(runs, colors,markers,linestyles):\n",
    "\n",
    "    data_plot = data_agg[data_agg['run'] == run]\n",
    "#         data_plot['time'] = data_plot['time'] * 1e6 # convert to mus\n",
    "\n",
    "    mesh_elements = data_plot['mesh_elements'].unique()[0]\n",
    "    Y = 100.0 * data_plot['rel_diff_qrmax'].values\n",
    "\n",
    "    ax1.plot(data_plot['x_avg'].values, Y, color=c, linestyle=linest, label=mesh_elements, marker=m, markersize=markersize)\n",
    "\n",
    "\n",
    "ylims = ax1.get_ylim()\n",
    "\n",
    "\n",
    "ax1.plot((-1.4, -1.4), (-100, 100), 'k--', linewidth=2, color='black')  # Plasma meniscus\n",
    "ax1.plot((71, 71), (-100, 100), 'k--', linewidth=2, color='black')  # Target surface\n",
    "ax1.set_xlabel(r\"\\textbf{Average x position with shortest timestepping [mm]}\", fontsize=fs)\n",
    "ax1.set_ylabel(r\"\\textbf{Relative difference\" + \"\\n\"+  r\"\\textbf{maximum beam radius [\\%]}\", fontsize=fs)\n",
    "ax1.tick_params('x', colors='black', labelsize=fs)\n",
    "ax1.tick_params(axis='y', labelsize=fs-2)\n",
    "ax1.set_ylim(ylims[0],ylims[1])\n",
    "ax1.text(-4, 10, s=r'\\textbf{Plasma meniscus}', color='black',  fontsize=fs-4, rotation=90) # PLASMA\n",
    "ax1.text(68, 10, s=r'\\textbf{Target surface}', color='black',  fontsize=fs-4, rotation=90) # target\n",
    "\n",
    "\n",
    "# ax1.set_yticks(np.arange(2.0,3.1,0.2))\n",
    "# minor ticks x\n",
    "minor_locator = AutoMinorLocator(2)\n",
    "ax1.xaxis.set_minor_locator(minor_locator)\n",
    "# minor ticks y\n",
    "minor_locator = AutoMinorLocator(2)\n",
    "ax1.yaxis.set_minor_locator(minor_locator)\n",
    "\n",
    "hs, ls = ax1.get_legend_handles_labels()\n",
    "\n",
    "leg1 = plt.legend([hs[0],hs[2],hs[1]],[ls[0],ls[2],ls[1]], loc=(0.69,0.74), fontsize=fs-6)\n",
    "# leg1 = plt.legend(loc='best', fontsize=fs-6)\n",
    "leg1.set_title(r\"\\textbf{Mesh elements}\", prop = {'size': fs-4})\n",
    "ax1.grid(b=True, which='major', linestyle='-')\n",
    "ax1.grid(b=True, which='minor', linestyle='--')\n",
    "\n",
    "\n",
    "plt.tight_layout()\n",
    "plt.savefig(figname2)\n",
    "plt.show()\n"
   ]
  },
  {
   "cell_type": "code",
   "execution_count": null,
   "metadata": {},
   "outputs": [],
   "source": []
  },
  {
   "cell_type": "code",
   "execution_count": null,
   "metadata": {},
   "outputs": [],
   "source": []
  },
  {
   "cell_type": "code",
   "execution_count": null,
   "metadata": {},
   "outputs": [],
   "source": []
  },
  {
   "cell_type": "code",
   "execution_count": null,
   "metadata": {},
   "outputs": [],
   "source": []
  },
  {
   "cell_type": "code",
   "execution_count": null,
   "metadata": {},
   "outputs": [],
   "source": []
  },
  {
   "cell_type": "code",
   "execution_count": null,
   "metadata": {},
   "outputs": [],
   "source": []
  },
  {
   "cell_type": "code",
   "execution_count": null,
   "metadata": {},
   "outputs": [],
   "source": []
  },
  {
   "cell_type": "code",
   "execution_count": null,
   "metadata": {},
   "outputs": [],
   "source": []
  },
  {
   "cell_type": "code",
   "execution_count": null,
   "metadata": {},
   "outputs": [],
   "source": []
  },
  {
   "cell_type": "code",
   "execution_count": null,
   "metadata": {},
   "outputs": [],
   "source": []
  },
  {
   "cell_type": "code",
   "execution_count": null,
   "metadata": {},
   "outputs": [],
   "source": []
  }
 ],
 "metadata": {
  "kernelspec": {
   "display_name": "Python 3",
   "language": "python",
   "name": "python3"
  },
  "language_info": {
   "codemirror_mode": {
    "name": "ipython",
    "version": 3
   },
   "file_extension": ".py",
   "mimetype": "text/x-python",
   "name": "python",
   "nbconvert_exporter": "python",
   "pygments_lexer": "ipython3",
   "version": "3.7.4"
  }
 },
 "nbformat": 4,
 "nbformat_minor": 4
}
