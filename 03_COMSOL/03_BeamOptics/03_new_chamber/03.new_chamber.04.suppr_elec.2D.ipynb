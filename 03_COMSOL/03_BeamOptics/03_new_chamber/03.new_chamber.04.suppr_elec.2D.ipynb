{
 "cells": [
  {
   "cell_type": "markdown",
   "metadata": {},
   "source": [
    "# Design check of suppression electrode\n",
    "\n",
    "- 2D axissymmetric study\n",
    "- Ring around the hole where the beam passes through\n",
    "- Target HV is -100 kV\n",
    "- Parameter study:\n",
    "    - Distance between the two rings where the beam passes through\n",
    "    D.hole = 3 to 12 mm\n",
    "    - Distance between the surface of the target and the inner surface of the suppression electrode\n",
    "    D.electrode_target = 5 to 35 mm\n",
    "    - Length of the bottom piece of the suppression electrode down towards the pump\n",
    "    L.suppr_bottom = 15 to 100 mm\n",
    "    - Done for 500, 750, 1250, and 1500 V negative bias of the suppression electrode\n",
    "    "
   ]
  },
  {
   "cell_type": "code",
   "execution_count": 95,
   "metadata": {},
   "outputs": [],
   "source": [
    "import os\n",
    "import pandas as pd\n",
    "import numpy as np\n",
    "import matplotlib.pyplot as plt\n",
    "import sys\n",
    "import re\n",
    "from itertools import islice"
   ]
  },
  {
   "cell_type": "code",
   "execution_count": 56,
   "metadata": {},
   "outputs": [
    {
     "data": {
      "text/plain": [
       "['04.suppr_elec.2D.001.Vbias_1000V.csv',\n",
       " '04.suppr_elec.2D.001.Vbias_1250V.csv',\n",
       " '04.suppr_elec.2D.001.Vbias_750V.csv',\n",
       " '04.suppr_elec.2D.001.Vbias_500V.csv',\n",
       " '04.suppr_elec.2D.001.Vbias_1500V.csv']"
      ]
     },
     "execution_count": 56,
     "metadata": {},
     "output_type": "execute_result"
    }
   ],
   "source": [
    "folder = '/Users/hkromer/02_PhD/02_Data/01_COMSOL/01_IonOptics/03.new_chamber/04.suppr_elec/data.esEx/'\n",
    "\n",
    "files = [f for f in os.listdir(folder) if f.endswith('.csv')]\n",
    "files"
   ]
  },
  {
   "cell_type": "code",
   "execution_count": 57,
   "metadata": {},
   "outputs": [],
   "source": [
    "def file_read_from_head(fname, nlines):\n",
    "    c = []    \n",
    "    with open(fname) as f:\n",
    "        for line in islice(f, nlines):\n",
    "            c.append(line.rstrip())\n",
    "    f.close()\n",
    "    return c\n",
    "    \n"
   ]
  },
  {
   "cell_type": "markdown",
   "metadata": {},
   "source": [
    "The structure of the data file is:\n",
    "\n",
    "- first column is the x value in mm\n",
    "- rest 320 columns are es.Ex in kV/mm for various combinations of\n",
    "    - D.hole, D.electrode_target, L_suppr_bottom<br>\n",
    "    \n",
    "    \n",
    "    \n",
    "    \n",
    "- it is for example \"es.Ex (kV/mm) @ D.hole=3, D.electrode_target=5\" one column or\n",
    "- \"es.Ex (kV/mm) @ D.hole=4.2857, D.electrode_target=5, L.suppr_bottom=36.25\" is another one"
   ]
  },
  {
   "cell_type": "code",
   "execution_count": 58,
   "metadata": {},
   "outputs": [],
   "source": [
    "lst_df = []\n",
    "\n",
    "for file in files:\n",
    "    V_bias = re.findall(r'Vbias_(\\d*)V', file)[0]\n",
    "    file = f'{folder}{file}'\n",
    "    \n",
    "    df_t = pd.read_csv(file, skiprows=8, header=None)\n",
    "    num_cols = len(df_t.columns)  # number of columns in the dataframe\n",
    "    \n",
    "    # find column headers\n",
    "    c = file_read_from_head(file, 8)[-1]\n",
    "    \n",
    "    # split on the es.Ex\n",
    "    c_list = c.split('es.Ex')\n",
    "    \n",
    "    c_list[0] = 'x_mm'\n",
    "    assert len(c_list) == num_cols\n",
    "    \n",
    "\n",
    "\n",
    "    df_t.columns = c_list\n",
    "    \n",
    "\n",
    "    df_t['V_bias'] = V_bias    \n",
    "    \n",
    "    lst_df.append(df_t)"
   ]
  },
  {
   "cell_type": "markdown",
   "metadata": {},
   "source": [
    "## Check which parameter values there are"
   ]
  },
  {
   "cell_type": "code",
   "execution_count": 98,
   "metadata": {},
   "outputs": [
    {
     "name": "stdout",
     "output_type": "stream",
     "text": [
      "[ 3.  4.  5.  6.  8.  9. 10. 12.]\n"
     ]
    }
   ],
   "source": [
    "df = lst_df[0]\n",
    "cols = df.columns\n",
    "\n",
    "Dhole_values = []\n",
    "DelTarget_values = []\n",
    "LsupprBottom = []\n",
    "\n",
    "cols= cols[1:-1]\n",
    "# print(cols)\n",
    "\n",
    "for c in cols:\n",
    "    Dhole_values.append(float(re.findall(r'D.hole=(\\d+)', c)[0]))\n",
    "    DelTarget_values.append(float(re.findall(r'D.electrode_target=(\\d+)', c)[0]))\n",
    "    LsupprBottom.append(float(re.findall(r'L.suppr_bottom=(.*[^,])', c)[0]))\n",
    "    \n",
    "def returnListAsUniqueArray(in_list):\n",
    "    t = np.asarray(in_list)\n",
    "    retu\n",
    "Dhole_values = np.asarray(Dhole_values)\n",
    "Dhole_values = np.unique(Dhole_values)\n",
    "\n",
    "Dhole_values = np.asarray(Dhole_values)\n",
    "Dhole_values = np.unique(Dhole_values)\n"
   ]
  },
  {
   "cell_type": "code",
   "execution_count": null,
   "metadata": {},
   "outputs": [],
   "source": [
    "    my_filter = 'D.hole=3'df_filtered = df_t.loc[:,df_t.columns.str.contains(my_filter)]\n",
    "    print(len(df_filtered.head()))\n",
    "    sys.exit()\n"
   ]
  },
  {
   "cell_type": "code",
   "execution_count": null,
   "metadata": {},
   "outputs": [],
   "source": []
  }
 ],
 "metadata": {
  "kernelspec": {
   "display_name": "Python 3",
   "language": "python",
   "name": "python3"
  },
  "language_info": {
   "codemirror_mode": {
    "name": "ipython",
    "version": 3
   },
   "file_extension": ".py",
   "mimetype": "text/x-python",
   "name": "python",
   "nbconvert_exporter": "python",
   "pygments_lexer": "ipython3",
   "version": "3.7.2"
  }
 },
 "nbformat": 4,
 "nbformat_minor": 2
}
