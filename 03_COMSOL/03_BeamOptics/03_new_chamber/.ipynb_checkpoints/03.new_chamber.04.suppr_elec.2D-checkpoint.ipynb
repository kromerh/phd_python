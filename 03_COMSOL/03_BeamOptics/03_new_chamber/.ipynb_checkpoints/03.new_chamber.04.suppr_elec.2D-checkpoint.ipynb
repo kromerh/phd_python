{
 "cells": [
  {
   "cell_type": "markdown",
   "metadata": {},
   "source": [
    "# Design check of suppression electrode\n",
    "\n",
    "- 2D axissymmetric study\n",
    "- Ring around the hole where the beam passes through\n",
    "- Target HV is -100 kV\n",
    "- Parameter study:\n",
    "    - Distance between the two rings where the beam passes through\n",
    "    D.hole = 3 to 12 mm\n",
    "    - Distance between the surface of the target and the inner surface of the suppression electrode\n",
    "    D.electrode_target = 5 to 35 mm\n",
    "    - Length of the bottom piece of the suppression electrode down towards the pump\n",
    "    L.suppr_bottom = 15 to 100 mm\n",
    "    - Done for 500, 750, 1250, and 1500 V negative bias of the suppression electrode\n",
    "    "
   ]
  },
  {
   "cell_type": "code",
   "execution_count": 1,
   "metadata": {},
   "outputs": [],
   "source": [
    "import os\n",
    "import pandas as pd\n",
    "import numpy as np\n",
    "import matplotlib.pyplot as plt\n",
    "import sys\n",
    "import re\n",
    "from itertools import islice"
   ]
  },
  {
   "cell_type": "code",
   "execution_count": 2,
   "metadata": {},
   "outputs": [
    {
     "data": {
      "text/plain": [
       "['04.suppr_elec.2D.001.Vbias_1000V.csv',\n",
       " '04.suppr_elec.2D.001.Vbias_1250V.csv',\n",
       " '04.suppr_elec.2D.001.Vbias_750V.csv',\n",
       " '04.suppr_elec.2D.001.Vbias_500V.csv',\n",
       " '04.suppr_elec.2D.001.Vbias_1500V.csv']"
      ]
     },
     "execution_count": 2,
     "metadata": {},
     "output_type": "execute_result"
    }
   ],
   "source": [
    "folder = '/Users/hkromer/02_PhD/02_Data/01_COMSOL/01_IonOptics/03.new_chamber/04.suppr_elec/data.esEx/'\n",
    "\n",
    "files = [f for f in os.listdir(folder) if f.endswith('.csv')]\n",
    "files"
   ]
  },
  {
   "cell_type": "code",
   "execution_count": 3,
   "metadata": {},
   "outputs": [],
   "source": [
    "def file_read_from_head(fname, nlines):\n",
    "    c = []    \n",
    "    with open(fname) as f:\n",
    "        for line in islice(f, nlines):\n",
    "            c.append(line.rstrip())\n",
    "    f.close()\n",
    "    return c\n",
    "    \n"
   ]
  },
  {
   "cell_type": "markdown",
   "metadata": {},
   "source": [
    "The structure of the data file is:\n",
    "\n",
    "- first column is the x value in mm\n",
    "- rest 320 columns are es.Ex in kV/mm for various combinations of\n",
    "    - D.hole, D.electrode_target, L_suppr_bottom<br>\n",
    "    \n",
    "    \n",
    "    \n",
    "    \n",
    "- it is for example \"es.Ex (kV/mm) @ D.hole=3, D.electrode_target=5\" one column or\n",
    "- \"es.Ex (kV/mm) @ D.hole=4.2857, D.electrode_target=5, L.suppr_bottom=36.25\" is another one"
   ]
  },
  {
   "cell_type": "code",
   "execution_count": 4,
   "metadata": {},
   "outputs": [],
   "source": [
    "lst_df = []\n",
    "\n",
    "for file in files:\n",
    "    V_bias = re.findall(r'Vbias_(\\d*)V', file)[0]\n",
    "    file = f'{folder}{file}'\n",
    "    \n",
    "    df_t = pd.read_csv(file, skiprows=8, header=None)\n",
    "    num_cols = len(df_t.columns)  # number of columns in the dataframe\n",
    "    \n",
    "    # find column headers\n",
    "    c = file_read_from_head(file, 8)[-1]\n",
    "    \n",
    "    # split on the es.Ex\n",
    "    c_list = c.split('es.Ex')\n",
    "    \n",
    "    c_list[0] = 'x_mm'\n",
    "    assert len(c_list) == num_cols\n",
    "    \n",
    "\n",
    "\n",
    "    df_t.columns = c_list\n",
    "    \n",
    "\n",
    "    df_t['V_bias'] = V_bias    \n",
    "    \n",
    "    lst_df.append(df_t)"
   ]
  },
  {
   "cell_type": "markdown",
   "metadata": {},
   "source": [
    "## one df: Check which parameter values there are"
   ]
  },
  {
   "cell_type": "code",
   "execution_count": 215,
   "metadata": {},
   "outputs": [
    {
     "name": "stdout",
     "output_type": "stream",
     "text": [
      "['750']\n",
      "Dhole_values: [ 3.      4.2857  5.5714  6.8571  8.1429  9.4286 10.714  12.    ] mm\n",
      "DelTarget_values: [ 5.      9.2857 13.571  17.857  22.143  26.429  30.714  35.    ] mm\n",
      "LsupprBottom: [ 15.    36.25  57.5   78.75 100.  ] mm\n"
     ]
    }
   ],
   "source": [
    "df = lst_df[2]\n",
    "print(df['V_bias'].unique())\n",
    "cols = df.columns\n",
    "\n",
    "Dhole_values = []\n",
    "DelTarget_values = []\n",
    "LsupprBottom = []\n",
    "\n",
    "cols = [c for c in cols if 'kV/mm' in c]\n",
    "# print(cols)\n",
    "\n",
    "for c in cols:\n",
    "    Dhole_values.append(float(re.findall(r'D.hole=(.*[^,]), D.e', c)[0]))\n",
    "    DelTarget_values.append(float(re.findall(r'D.electrode_target=(.*[^,]), L.s', c)[0]))\n",
    "    LsupprBottom.append(float(re.findall(r'L.suppr_bottom=(.*[^,])', c)[0]))\n",
    "\n",
    "# print(cols)\n",
    "    \n",
    "def returnListAsUniqueArray(in_list):\n",
    "    t = np.asarray(in_list)\n",
    "    return np.unique(t)\n",
    "\n",
    "Dhole_values = returnListAsUniqueArray(Dhole_values)\n",
    "DelTarget_values = returnListAsUniqueArray(DelTarget_values)\n",
    "LsupprBottom = returnListAsUniqueArray(LsupprBottom)\n",
    "\n",
    "print(f'Dhole_values: {Dhole_values} mm')\n",
    "print(f'DelTarget_values: {DelTarget_values} mm')\n",
    "print(f'LsupprBottom: {LsupprBottom} mm')\n"
   ]
  },
  {
   "cell_type": "markdown",
   "metadata": {},
   "source": [
    "## Construct binary filter if suppression or no suppression"
   ]
  },
  {
   "cell_type": "code",
   "execution_count": 216,
   "metadata": {},
   "outputs": [
    {
     "name": "stdout",
     "output_type": "stream",
     "text": [
      "[85.5  85.75 86.   86.25 86.5  86.75 87.   87.25 87.5  87.75]\n",
      "       Dhole  DelecTarget  LsupprBott  supressed V_bias\n",
      "30    3.0000      30.7140       15.00        0.0    750\n",
      "35    3.0000      35.0000       15.00        0.0    750\n",
      "70    4.2857      30.7140       15.00        0.0    750\n",
      "75    4.2857      35.0000       15.00        0.0    750\n",
      "110   5.5714      30.7140       15.00        0.0    750\n",
      "115   5.5714      35.0000       15.00        0.0    750\n",
      "150   6.8571      30.7140       15.00        0.0    750\n",
      "155   6.8571      35.0000       15.00        0.0    750\n",
      "190   8.1429      30.7140       15.00        0.0    750\n",
      "195   8.1429      35.0000       15.00        0.0    750\n",
      "200   9.4286       5.0000       15.00        0.0    750\n",
      "201   9.4286       5.0000       36.25        0.0    750\n",
      "202   9.4286       5.0000       57.50        0.0    750\n",
      "203   9.4286       5.0000       78.75        0.0    750\n",
      "204   9.4286       5.0000      100.00        0.0    750\n",
      "230   9.4286      30.7140       15.00        0.0    750\n",
      "235   9.4286      35.0000       15.00        0.0    750\n",
      "240  10.7140       5.0000       15.00        0.0    750\n",
      "241  10.7140       5.0000       36.25        0.0    750\n",
      "242  10.7140       5.0000       57.50        0.0    750\n",
      "243  10.7140       5.0000       78.75        0.0    750\n",
      "244  10.7140       5.0000      100.00        0.0    750\n",
      "270  10.7140      30.7140       15.00        0.0    750\n",
      "275  10.7140      35.0000       15.00        0.0    750\n",
      "280  12.0000       5.0000       15.00        0.0    750\n",
      "281  12.0000       5.0000       36.25        0.0    750\n",
      "282  12.0000       5.0000       57.50        0.0    750\n",
      "283  12.0000       5.0000       78.75        0.0    750\n",
      "284  12.0000       5.0000      100.00        0.0    750\n",
      "285  12.0000       9.2857       15.00        0.0    750\n",
      "286  12.0000       9.2857       36.25        0.0    750\n",
      "287  12.0000       9.2857       57.50        0.0    750\n",
      "288  12.0000       9.2857       78.75        0.0    750\n",
      "289  12.0000       9.2857      100.00        0.0    750\n",
      "310  12.0000      30.7140       15.00        0.0    750\n",
      "315  12.0000      35.0000       15.00        0.0    750\n"
     ]
    }
   ],
   "source": [
    "df = lst_df[2]\n",
    "x_target = 87.94  # x position of the target\n",
    "\n",
    "# check if the last 10 values at the target surface are larger than 0, if so, then electrons are not suppressed\n",
    "x_range = -10\n",
    "df = df[ df['x_mm'] < x_target ]\n",
    "df = df.iloc[x_range:,:]\n",
    "\n",
    "print(df['x_mm'].values)\n",
    "df_t =  df.loc[:,cols] > 0 \n",
    "a = df_t.sum()\n",
    "# print(a[ a == 5 ])\n",
    "\n",
    "df_suppr = pd.DataFrame()\n",
    "\n",
    "def processCols(row):\n",
    "#     print(row)\n",
    "    n = row.name\n",
    "    \n",
    "    Dhole = (float(re.findall(r'D.hole=(.*[^,]), D.e', n)[0]))\n",
    "    DelecTarget = (float(re.findall(r'D.electrode_target=(.*[^,]), L.s', n)[0]))\n",
    "    LsupprBott = (float(re.findall(r'L.suppr_bottom=(.*[^,])', n)[0]))\n",
    "    \n",
    "    suppr_bool = np.sum(row.values)\n",
    "#     suppressed = -1\n",
    "    if suppr_bool > 0:\n",
    "        supressed = 0\n",
    "    else:\n",
    "        supressed = 1\n",
    "#     print(suppressed)\n",
    "#     print(type(Dhole),type(DelecTarget),type(LsupprBott),type(supp_bool))\n",
    "    s = pd.Series([Dhole, DelecTarget, LsupprBott, supressed], index=['Dhole', 'DelecTarget', 'LsupprBott', 'supressed'])\n",
    "\n",
    "    return s\n",
    "\n",
    "\n",
    "df_suppr = df_t.apply(lambda x: processCols(x), axis=0)\n",
    "df_suppr= df_suppr.T.reset_index(drop=True)\n",
    "\n",
    "df_suppr['V_bias'] = df['V_bias'].unique()[0]\n",
    "# df_suppr[['Dhole', 'DelecTarget', 'LsupprBott', 'supp_bool']]\n",
    "print(df_suppr)"
   ]
  },
  {
   "cell_type": "markdown",
   "metadata": {},
   "source": [
    "## Do it in a loop for all dfs"
   ]
  },
  {
   "cell_type": "code",
   "execution_count": 250,
   "metadata": {},
   "outputs": [
    {
     "data": {
      "text/html": [
       "<div>\n",
       "<style scoped>\n",
       "    .dataframe tbody tr th:only-of-type {\n",
       "        vertical-align: middle;\n",
       "    }\n",
       "\n",
       "    .dataframe tbody tr th {\n",
       "        vertical-align: top;\n",
       "    }\n",
       "\n",
       "    .dataframe thead th {\n",
       "        text-align: right;\n",
       "    }\n",
       "</style>\n",
       "<table border=\"1\" class=\"dataframe\">\n",
       "  <thead>\n",
       "    <tr style=\"text-align: right;\">\n",
       "      <th></th>\n",
       "      <th>Dhole</th>\n",
       "      <th>DelecTarget</th>\n",
       "      <th>LsupprBott</th>\n",
       "      <th>supressed</th>\n",
       "      <th>V_bias</th>\n",
       "    </tr>\n",
       "  </thead>\n",
       "  <tbody>\n",
       "    <tr>\n",
       "      <th>0</th>\n",
       "      <td>3.0</td>\n",
       "      <td>5.0</td>\n",
       "      <td>15.00</td>\n",
       "      <td>1.0</td>\n",
       "      <td>1000.0</td>\n",
       "    </tr>\n",
       "    <tr>\n",
       "      <th>1</th>\n",
       "      <td>3.0</td>\n",
       "      <td>5.0</td>\n",
       "      <td>36.25</td>\n",
       "      <td>1.0</td>\n",
       "      <td>1000.0</td>\n",
       "    </tr>\n",
       "    <tr>\n",
       "      <th>2</th>\n",
       "      <td>3.0</td>\n",
       "      <td>5.0</td>\n",
       "      <td>57.50</td>\n",
       "      <td>1.0</td>\n",
       "      <td>1000.0</td>\n",
       "    </tr>\n",
       "    <tr>\n",
       "      <th>3</th>\n",
       "      <td>3.0</td>\n",
       "      <td>5.0</td>\n",
       "      <td>78.75</td>\n",
       "      <td>1.0</td>\n",
       "      <td>1000.0</td>\n",
       "    </tr>\n",
       "    <tr>\n",
       "      <th>4</th>\n",
       "      <td>3.0</td>\n",
       "      <td>5.0</td>\n",
       "      <td>100.00</td>\n",
       "      <td>1.0</td>\n",
       "      <td>1000.0</td>\n",
       "    </tr>\n",
       "  </tbody>\n",
       "</table>\n",
       "</div>"
      ],
      "text/plain": [
       "   Dhole  DelecTarget  LsupprBott  supressed  V_bias\n",
       "0    3.0          5.0       15.00        1.0  1000.0\n",
       "1    3.0          5.0       36.25        1.0  1000.0\n",
       "2    3.0          5.0       57.50        1.0  1000.0\n",
       "3    3.0          5.0       78.75        1.0  1000.0\n",
       "4    3.0          5.0      100.00        1.0  1000.0"
      ]
     },
     "execution_count": 250,
     "metadata": {},
     "output_type": "execute_result"
    }
   ],
   "source": [
    "lst_df_suppr = []\n",
    "x_target = 87.94  # x position of the target\n",
    "x_range = -10\n",
    "\n",
    "def processCols(row):\n",
    "#     print(row)\n",
    "    n = row.name\n",
    "\n",
    "    Dhole = (float(re.findall(r'D.hole=(.*[^,]), D.e', n)[0]))\n",
    "    DelecTarget = (float(re.findall(r'D.electrode_target=(.*[^,]), L.s', n)[0]))\n",
    "    LsupprBott = (float(re.findall(r'L.suppr_bottom=(.*[^,])', n)[0]))\n",
    "\n",
    "    suppr_bool = np.sum(row.values)\n",
    "#     suppressed = -1\n",
    "    if suppr_bool > 0:\n",
    "        supressed = 0\n",
    "    else:\n",
    "        supressed = 1\n",
    "#     print(suppressed)\n",
    "#     print(type(Dhole),type(DelecTarget),type(LsupprBott),type(supp_bool))\n",
    "    s = pd.Series([Dhole, DelecTarget, LsupprBott, supressed], index=['Dhole', 'DelecTarget', 'LsupprBott', 'supressed'])\n",
    "\n",
    "    return s\n",
    "\n",
    "for df in lst_df:\n",
    "\n",
    "    # check if the last 10 values at the target surface are larger than 0, if so, then electrons are not suppressed\n",
    "\n",
    "    df = df[ df['x_mm'] < x_target ]\n",
    "    df = df.iloc[x_range:,:]\n",
    "\n",
    "#     print(df['x_mm'].values)\n",
    "    df_t =  df.loc[:,cols] > 0 \n",
    "    a = df_t.sum()\n",
    "    # print(a[ a == 5 ])\n",
    "\n",
    "    df_suppr = pd.DataFrame()\n",
    "\n",
    "\n",
    "    df_suppr = df_t.apply(lambda x: processCols(x), axis=0)\n",
    "    df_suppr= df_suppr.T.reset_index(drop=True)\n",
    "\n",
    "    df_suppr['V_bias'] = float(df['V_bias'].unique()[0])\n",
    "\n",
    "\n",
    "    lst_df_suppr.append(df_suppr)\n",
    "    \n",
    "df_suppr = pd.concat(lst_df_suppr)\n",
    "df_suppr.head()"
   ]
  },
  {
   "cell_type": "code",
   "execution_count": 251,
   "metadata": {},
   "outputs": [
    {
     "name": "stdout",
     "output_type": "stream",
     "text": [
      "<class 'pandas.core.frame.DataFrame'>\n",
      "Int64Index: 1600 entries, 0 to 319\n",
      "Data columns (total 5 columns):\n",
      "Dhole          1600 non-null float64\n",
      "DelecTarget    1600 non-null float64\n",
      "LsupprBott     1600 non-null float64\n",
      "supressed      1600 non-null float64\n",
      "V_bias         1600 non-null float64\n",
      "dtypes: float64(5)\n",
      "memory usage: 75.0 KB\n"
     ]
    }
   ],
   "source": [
    "df_suppr.info()"
   ]
  },
  {
   "cell_type": "code",
   "execution_count": 262,
   "metadata": {},
   "outputs": [
    {
     "data": {
      "text/html": [
       "<div>\n",
       "<style scoped>\n",
       "    .dataframe tbody tr th:only-of-type {\n",
       "        vertical-align: middle;\n",
       "    }\n",
       "\n",
       "    .dataframe tbody tr th {\n",
       "        vertical-align: top;\n",
       "    }\n",
       "\n",
       "    .dataframe thead th {\n",
       "        text-align: right;\n",
       "    }\n",
       "</style>\n",
       "<table border=\"1\" class=\"dataframe\">\n",
       "  <thead>\n",
       "    <tr style=\"text-align: right;\">\n",
       "      <th></th>\n",
       "      <th>Dhole</th>\n",
       "      <th>DelecTarget</th>\n",
       "      <th>LsupprBott</th>\n",
       "      <th>supressed</th>\n",
       "      <th>V_bias</th>\n",
       "    </tr>\n",
       "  </thead>\n",
       "  <tbody>\n",
       "    <tr>\n",
       "      <th>count</th>\n",
       "      <td>1600.000000</td>\n",
       "      <td>1600.000000</td>\n",
       "      <td>1600.000000</td>\n",
       "      <td>1600.00000</td>\n",
       "      <td>1600.000000</td>\n",
       "    </tr>\n",
       "    <tr>\n",
       "      <th>mean</th>\n",
       "      <td>7.499963</td>\n",
       "      <td>19.999963</td>\n",
       "      <td>57.500000</td>\n",
       "      <td>0.90250</td>\n",
       "      <td>1000.000000</td>\n",
       "    </tr>\n",
       "    <tr>\n",
       "      <th>std</th>\n",
       "      <td>2.946833</td>\n",
       "      <td>9.822916</td>\n",
       "      <td>30.061434</td>\n",
       "      <td>0.29673</td>\n",
       "      <td>353.663928</td>\n",
       "    </tr>\n",
       "    <tr>\n",
       "      <th>min</th>\n",
       "      <td>3.000000</td>\n",
       "      <td>5.000000</td>\n",
       "      <td>15.000000</td>\n",
       "      <td>0.00000</td>\n",
       "      <td>500.000000</td>\n",
       "    </tr>\n",
       "    <tr>\n",
       "      <th>25%</th>\n",
       "      <td>5.249975</td>\n",
       "      <td>12.499675</td>\n",
       "      <td>36.250000</td>\n",
       "      <td>1.00000</td>\n",
       "      <td>750.000000</td>\n",
       "    </tr>\n",
       "    <tr>\n",
       "      <th>50%</th>\n",
       "      <td>7.500000</td>\n",
       "      <td>20.000000</td>\n",
       "      <td>57.500000</td>\n",
       "      <td>1.00000</td>\n",
       "      <td>1000.000000</td>\n",
       "    </tr>\n",
       "    <tr>\n",
       "      <th>75%</th>\n",
       "      <td>9.749950</td>\n",
       "      <td>27.500250</td>\n",
       "      <td>78.750000</td>\n",
       "      <td>1.00000</td>\n",
       "      <td>1250.000000</td>\n",
       "    </tr>\n",
       "    <tr>\n",
       "      <th>max</th>\n",
       "      <td>12.000000</td>\n",
       "      <td>35.000000</td>\n",
       "      <td>100.000000</td>\n",
       "      <td>1.00000</td>\n",
       "      <td>1500.000000</td>\n",
       "    </tr>\n",
       "  </tbody>\n",
       "</table>\n",
       "</div>"
      ],
      "text/plain": [
       "             Dhole  DelecTarget   LsupprBott   supressed       V_bias\n",
       "count  1600.000000  1600.000000  1600.000000  1600.00000  1600.000000\n",
       "mean      7.499963    19.999963    57.500000     0.90250  1000.000000\n",
       "std       2.946833     9.822916    30.061434     0.29673   353.663928\n",
       "min       3.000000     5.000000    15.000000     0.00000   500.000000\n",
       "25%       5.249975    12.499675    36.250000     1.00000   750.000000\n",
       "50%       7.500000    20.000000    57.500000     1.00000  1000.000000\n",
       "75%       9.749950    27.500250    78.750000     1.00000  1250.000000\n",
       "max      12.000000    35.000000   100.000000     1.00000  1500.000000"
      ]
     },
     "execution_count": 262,
     "metadata": {},
     "output_type": "execute_result"
    }
   ],
   "source": [
    "df_suppr.describe()"
   ]
  },
  {
   "cell_type": "code",
   "execution_count": 263,
   "metadata": {},
   "outputs": [
    {
     "data": {
      "text/plain": [
       "array([1000., 1250.,  750.,  500., 1500.])"
      ]
     },
     "execution_count": 263,
     "metadata": {},
     "output_type": "execute_result"
    }
   ],
   "source": [
    "df_suppr.V_bias.unique()"
   ]
  },
  {
   "cell_type": "code",
   "execution_count": 273,
   "metadata": {},
   "outputs": [
    {
     "data": {
      "text/html": [
       "<div>\n",
       "<style scoped>\n",
       "    .dataframe tbody tr th:only-of-type {\n",
       "        vertical-align: middle;\n",
       "    }\n",
       "\n",
       "    .dataframe tbody tr th {\n",
       "        vertical-align: top;\n",
       "    }\n",
       "\n",
       "    .dataframe thead th {\n",
       "        text-align: right;\n",
       "    }\n",
       "</style>\n",
       "<table border=\"1\" class=\"dataframe\">\n",
       "  <thead>\n",
       "    <tr style=\"text-align: right;\">\n",
       "      <th></th>\n",
       "      <th>Dhole</th>\n",
       "      <th>DelecTarget</th>\n",
       "      <th>LsupprBott</th>\n",
       "      <th>supressed</th>\n",
       "      <th>V_bias</th>\n",
       "    </tr>\n",
       "  </thead>\n",
       "  <tbody>\n",
       "    <tr>\n",
       "      <th>0</th>\n",
       "      <td>3.0</td>\n",
       "      <td>5.0</td>\n",
       "      <td>15.00</td>\n",
       "      <td>1.0</td>\n",
       "      <td>750.0</td>\n",
       "    </tr>\n",
       "    <tr>\n",
       "      <th>1</th>\n",
       "      <td>3.0</td>\n",
       "      <td>5.0</td>\n",
       "      <td>36.25</td>\n",
       "      <td>1.0</td>\n",
       "      <td>750.0</td>\n",
       "    </tr>\n",
       "    <tr>\n",
       "      <th>2</th>\n",
       "      <td>3.0</td>\n",
       "      <td>5.0</td>\n",
       "      <td>57.50</td>\n",
       "      <td>1.0</td>\n",
       "      <td>750.0</td>\n",
       "    </tr>\n",
       "    <tr>\n",
       "      <th>3</th>\n",
       "      <td>3.0</td>\n",
       "      <td>5.0</td>\n",
       "      <td>78.75</td>\n",
       "      <td>1.0</td>\n",
       "      <td>750.0</td>\n",
       "    </tr>\n",
       "    <tr>\n",
       "      <th>4</th>\n",
       "      <td>3.0</td>\n",
       "      <td>5.0</td>\n",
       "      <td>100.00</td>\n",
       "      <td>1.0</td>\n",
       "      <td>750.0</td>\n",
       "    </tr>\n",
       "  </tbody>\n",
       "</table>\n",
       "</div>"
      ],
      "text/plain": [
       "   Dhole  DelecTarget  LsupprBott  supressed  V_bias\n",
       "0    3.0          5.0       15.00        1.0   750.0\n",
       "1    3.0          5.0       36.25        1.0   750.0\n",
       "2    3.0          5.0       57.50        1.0   750.0\n",
       "3    3.0          5.0       78.75        1.0   750.0\n",
       "4    3.0          5.0      100.00        1.0   750.0"
      ]
     },
     "execution_count": 273,
     "metadata": {},
     "output_type": "execute_result"
    }
   ],
   "source": [
    "df = df_suppr[ df_suppr['V_bias'] == 750 ]\n",
    "Dhole_values = df['Dhole'].unique()\n",
    "x = df['Dhole'].values\n",
    "y = df['DelecTarget'].values\n",
    "z = df['supressed'].values\n",
    "# df_1 = df[ df['LsupprBott'] == 15 ]\n",
    "df.head()"
   ]
  },
  {
   "cell_type": "code",
   "execution_count": 267,
   "metadata": {},
   "outputs": [
    {
     "data": {
      "text/plain": [
       "<matplotlib.axes._subplots.AxesSubplot at 0x1a2019d470>"
      ]
     },
     "execution_count": 267,
     "metadata": {},
     "output_type": "execute_result"
    },
    {
     "data": {
      "image/png": "[encoded data removed]",
      "text/plain": [
       "<Figure size 432x288 with 2 Axes>"
      ]
     },
     "metadata": {
      "needs_background": "light"
     },
     "output_type": "display_data"
    }
   ],
   "source": [
    "# pivot table\n",
    "res = pd.pivot_table(df, values='supressed', index=['DelecTarget'], columns=['Dhole'])\n",
    "sns.heatmap(res, annot=True)"
   ]
  },
  {
   "cell_type": "code",
   "execution_count": 248,
   "metadata": {},
   "outputs": [
    {
     "data": {
      "text/html": [
       "<div>\n",
       "<style scoped>\n",
       "    .dataframe tbody tr th:only-of-type {\n",
       "        vertical-align: middle;\n",
       "    }\n",
       "\n",
       "    .dataframe tbody tr th {\n",
       "        vertical-align: top;\n",
       "    }\n",
       "\n",
       "    .dataframe thead th {\n",
       "        text-align: right;\n",
       "    }\n",
       "</style>\n",
       "<table border=\"1\" class=\"dataframe\">\n",
       "  <thead>\n",
       "    <tr style=\"text-align: right;\">\n",
       "      <th>DelecTarget</th>\n",
       "      <th>5.0</th>\n",
       "      <th>9.2857</th>\n",
       "      <th>13.571</th>\n",
       "      <th>17.857</th>\n",
       "      <th>22.143</th>\n",
       "      <th>26.429</th>\n",
       "      <th>30.714</th>\n",
       "      <th>35.0</th>\n",
       "    </tr>\n",
       "    <tr>\n",
       "      <th>Dhole</th>\n",
       "      <th></th>\n",
       "      <th></th>\n",
       "      <th></th>\n",
       "      <th></th>\n",
       "      <th></th>\n",
       "      <th></th>\n",
       "      <th></th>\n",
       "      <th></th>\n",
       "    </tr>\n",
       "  </thead>\n",
       "  <tbody>\n",
       "    <tr>\n",
       "      <th>3.0000</th>\n",
       "      <td>1.0</td>\n",
       "      <td>1.0</td>\n",
       "      <td>1.0</td>\n",
       "      <td>1.0</td>\n",
       "      <td>1.0</td>\n",
       "      <td>1.0</td>\n",
       "      <td>0.8</td>\n",
       "      <td>0.8</td>\n",
       "    </tr>\n",
       "    <tr>\n",
       "      <th>4.2857</th>\n",
       "      <td>1.0</td>\n",
       "      <td>1.0</td>\n",
       "      <td>1.0</td>\n",
       "      <td>1.0</td>\n",
       "      <td>1.0</td>\n",
       "      <td>1.0</td>\n",
       "      <td>0.8</td>\n",
       "      <td>0.8</td>\n",
       "    </tr>\n",
       "    <tr>\n",
       "      <th>5.5714</th>\n",
       "      <td>1.0</td>\n",
       "      <td>1.0</td>\n",
       "      <td>1.0</td>\n",
       "      <td>1.0</td>\n",
       "      <td>1.0</td>\n",
       "      <td>1.0</td>\n",
       "      <td>0.8</td>\n",
       "      <td>0.8</td>\n",
       "    </tr>\n",
       "    <tr>\n",
       "      <th>6.8571</th>\n",
       "      <td>1.0</td>\n",
       "      <td>1.0</td>\n",
       "      <td>1.0</td>\n",
       "      <td>1.0</td>\n",
       "      <td>1.0</td>\n",
       "      <td>1.0</td>\n",
       "      <td>0.8</td>\n",
       "      <td>0.8</td>\n",
       "    </tr>\n",
       "    <tr>\n",
       "      <th>8.1429</th>\n",
       "      <td>1.0</td>\n",
       "      <td>1.0</td>\n",
       "      <td>1.0</td>\n",
       "      <td>1.0</td>\n",
       "      <td>1.0</td>\n",
       "      <td>1.0</td>\n",
       "      <td>0.8</td>\n",
       "      <td>0.8</td>\n",
       "    </tr>\n",
       "  </tbody>\n",
       "</table>\n",
       "</div>"
      ],
      "text/plain": [
       "DelecTarget  5.0000   9.2857   13.5710  17.8570  22.1430  26.4290  30.7140  \\\n",
       "Dhole                                                                        \n",
       "3.0000           1.0      1.0      1.0      1.0      1.0      1.0      0.8   \n",
       "4.2857           1.0      1.0      1.0      1.0      1.0      1.0      0.8   \n",
       "5.5714           1.0      1.0      1.0      1.0      1.0      1.0      0.8   \n",
       "6.8571           1.0      1.0      1.0      1.0      1.0      1.0      0.8   \n",
       "8.1429           1.0      1.0      1.0      1.0      1.0      1.0      0.8   \n",
       "\n",
       "DelecTarget  35.0000  \n",
       "Dhole                 \n",
       "3.0000           0.8  \n",
       "4.2857           0.8  \n",
       "5.5714           0.8  \n",
       "6.8571           0.8  \n",
       "8.1429           0.8  "
      ]
     },
     "execution_count": 248,
     "metadata": {},
     "output_type": "execute_result"
    }
   ],
   "source": [
    "res.head()"
   ]
  },
  {
   "cell_type": "code",
   "execution_count": 249,
   "metadata": {},
   "outputs": [
    {
     "data": {
      "text/plain": [
       "array([1., 0.])"
      ]
     },
     "execution_count": 249,
     "metadata": {},
     "output_type": "execute_result"
    }
   ],
   "source": [
    "df_suppr['supressed'].unique()"
   ]
  },
  {
   "cell_type": "code",
   "execution_count": 274,
   "metadata": {},
   "outputs": [
    {
     "data": {
      "text/plain": [
       "array([1., 0.])"
      ]
     },
     "execution_count": 274,
     "metadata": {},
     "output_type": "execute_result"
    }
   ],
   "source": [
    "df['supressed'].unique()"
   ]
  },
  {
   "cell_type": "code",
   "execution_count": 275,
   "metadata": {},
   "outputs": [
    {
     "data": {
      "text/html": [
       "<div>\n",
       "<style scoped>\n",
       "    .dataframe tbody tr th:only-of-type {\n",
       "        vertical-align: middle;\n",
       "    }\n",
       "\n",
       "    .dataframe tbody tr th {\n",
       "        vertical-align: top;\n",
       "    }\n",
       "\n",
       "    .dataframe thead th {\n",
       "        text-align: right;\n",
       "    }\n",
       "</style>\n",
       "<table border=\"1\" class=\"dataframe\">\n",
       "  <thead>\n",
       "    <tr style=\"text-align: right;\">\n",
       "      <th></th>\n",
       "      <th>Dhole</th>\n",
       "      <th>DelecTarget</th>\n",
       "      <th>LsupprBott</th>\n",
       "      <th>supressed</th>\n",
       "      <th>V_bias</th>\n",
       "    </tr>\n",
       "  </thead>\n",
       "  <tbody>\n",
       "    <tr>\n",
       "      <th>0</th>\n",
       "      <td>3.0</td>\n",
       "      <td>5.0</td>\n",
       "      <td>15.00</td>\n",
       "      <td>1.0</td>\n",
       "      <td>750.0</td>\n",
       "    </tr>\n",
       "    <tr>\n",
       "      <th>1</th>\n",
       "      <td>3.0</td>\n",
       "      <td>5.0</td>\n",
       "      <td>36.25</td>\n",
       "      <td>1.0</td>\n",
       "      <td>750.0</td>\n",
       "    </tr>\n",
       "    <tr>\n",
       "      <th>2</th>\n",
       "      <td>3.0</td>\n",
       "      <td>5.0</td>\n",
       "      <td>57.50</td>\n",
       "      <td>1.0</td>\n",
       "      <td>750.0</td>\n",
       "    </tr>\n",
       "    <tr>\n",
       "      <th>3</th>\n",
       "      <td>3.0</td>\n",
       "      <td>5.0</td>\n",
       "      <td>78.75</td>\n",
       "      <td>1.0</td>\n",
       "      <td>750.0</td>\n",
       "    </tr>\n",
       "    <tr>\n",
       "      <th>4</th>\n",
       "      <td>3.0</td>\n",
       "      <td>5.0</td>\n",
       "      <td>100.00</td>\n",
       "      <td>1.0</td>\n",
       "      <td>750.0</td>\n",
       "    </tr>\n",
       "  </tbody>\n",
       "</table>\n",
       "</div>"
      ],
      "text/plain": [
       "   Dhole  DelecTarget  LsupprBott  supressed  V_bias\n",
       "0    3.0          5.0       15.00        1.0   750.0\n",
       "1    3.0          5.0       36.25        1.0   750.0\n",
       "2    3.0          5.0       57.50        1.0   750.0\n",
       "3    3.0          5.0       78.75        1.0   750.0\n",
       "4    3.0          5.0      100.00        1.0   750.0"
      ]
     },
     "execution_count": 275,
     "metadata": {},
     "output_type": "execute_result"
    }
   ],
   "source": [
    "df.head()"
   ]
  },
  {
   "cell_type": "code",
   "execution_count": 294,
   "metadata": {},
   "outputs": [
    {
     "data": {
      "image/png": "[encoded data removed]",
      "text/plain": [
       "<Figure size 1440x720 with 11 Axes>"
      ]
     },
     "metadata": {
      "needs_background": "light"
     },
     "output_type": "display_data"
    }
   ],
   "source": [
    "grouped = df.groupby('LsupprBott')\n",
    "rowlength = int(np.ceil(grouped.ngroups/2))                         # fix up if odd number of groups\n",
    "\n",
    "fig, axs = plt.subplots(figsize=(20,10), \n",
    "                        nrows=2, ncols=rowlength,     # fix as above\n",
    "                        gridspec_kw=dict(hspace=0.4)) # Much control of gridspec\n",
    "\n",
    "targets = zip(grouped.groups.keys(), axs.flatten())\n",
    "\n",
    "for i, (key, ax) in enumerate(targets):\n",
    "\n",
    "    g = grouped.get_group(key)\n",
    "    res = pd.pivot_table(g, values='supressed', index=['DelecTarget'], columns=['Dhole'])\n",
    "    sns.heatmap(res,annot=True, ax=ax)\n",
    "#     ax.set_title(f'LsupprBottom={key}, Vbias={V_bias}V')\n",
    "    ax.set_title(f'LsupprBottom={key})\n"
   ]
  },
  {
   "cell_type": "code",
   "execution_count": null,
   "metadata": {},
   "outputs": [],
   "source": [
    "\n",
    "for i, (key, ax) in enumerate(targets):\n",
    "    ax.plot(grouped.get_group(key))\n",
    "    ax.set_title('LsupprBottom=%d'%key)\n",
    "plt.show()"
   ]
  }
 ],
 "metadata": {
  "kernelspec": {
   "display_name": "Python 3",
   "language": "python",
   "name": "python3"
  },
  "language_info": {
   "codemirror_mode": {
    "name": "ipython",
    "version": 3
   },
   "file_extension": ".py",
   "mimetype": "text/x-python",
   "name": "python",
   "nbconvert_exporter": "python",
   "pygments_lexer": "ipython3",
   "version": "3.7.2"
  }
 },
 "nbformat": 4,
 "nbformat_minor": 2
}
