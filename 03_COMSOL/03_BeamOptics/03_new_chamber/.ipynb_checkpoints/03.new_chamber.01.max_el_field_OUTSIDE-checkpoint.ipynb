{
 "cells": [
  {
   "cell_type": "markdown",
   "metadata": {},
   "source": [
    "# Dimensioning of the steel chamber\n",
    "## Maximum electric field\n",
    "\n",
    "- distance between the target bottom cap and the bottom of the chamber i.e. the turbopump mesh\n",
    "- filename: /Users/hkromer/02_PhD/02_Data/01_COMSOL/01_IonOptics/03.new_chamber/02.sweeps.target_pos/only_es/02.sweeps.target_pos.010.only_es_out.mph"
   ]
  },
  {
   "cell_type": "code",
   "execution_count": 1,
   "metadata": {},
   "outputs": [],
   "source": [
    "import pandas as pd\n",
    "import matplotlib.pyplot as plt"
   ]
  },
  {
   "cell_type": "code",
   "execution_count": 2,
   "metadata": {},
   "outputs": [],
   "source": [
    "folder = '/Users/hkromer/02_PhD/02_Data/01_COMSOL/01_IonOptics/03.new_chamber/02.sweeps.target_pos/only_es/'\n",
    "data = '02.sweeps.target_pos.010.only_es.csv'"
   ]
  },
  {
   "cell_type": "code",
   "execution_count": 15,
   "metadata": {},
   "outputs": [
    {
     "data": {
      "text/html": [
       "<div>\n",
       "<style scoped>\n",
       "    .dataframe tbody tr th:only-of-type {\n",
       "        vertical-align: middle;\n",
       "    }\n",
       "\n",
       "    .dataframe tbody tr th {\n",
       "        vertical-align: top;\n",
       "    }\n",
       "\n",
       "    .dataframe thead th {\n",
       "        text-align: right;\n",
       "    }\n",
       "</style>\n",
       "<table border=\"1\" class=\"dataframe\">\n",
       "  <thead>\n",
       "    <tr style=\"text-align: right;\">\n",
       "      <th></th>\n",
       "      <th>z_target</th>\n",
       "      <th>E_max_kV_mm</th>\n",
       "      <th>distance</th>\n",
       "    </tr>\n",
       "  </thead>\n",
       "  <tbody>\n",
       "    <tr>\n",
       "      <th>0</th>\n",
       "      <td>-55.0000</td>\n",
       "      <td>9.1534</td>\n",
       "      <td>20.0000</td>\n",
       "    </tr>\n",
       "    <tr>\n",
       "      <th>1</th>\n",
       "      <td>-43.3330</td>\n",
       "      <td>7.5170</td>\n",
       "      <td>31.6670</td>\n",
       "    </tr>\n",
       "    <tr>\n",
       "      <th>2</th>\n",
       "      <td>-31.6670</td>\n",
       "      <td>6.9837</td>\n",
       "      <td>43.3330</td>\n",
       "    </tr>\n",
       "    <tr>\n",
       "      <th>3</th>\n",
       "      <td>-20.0000</td>\n",
       "      <td>6.6390</td>\n",
       "      <td>55.0000</td>\n",
       "    </tr>\n",
       "    <tr>\n",
       "      <th>4</th>\n",
       "      <td>-8.3333</td>\n",
       "      <td>6.5182</td>\n",
       "      <td>66.6667</td>\n",
       "    </tr>\n",
       "  </tbody>\n",
       "</table>\n",
       "</div>"
      ],
      "text/plain": [
       "   z_target  E_max_kV_mm  distance\n",
       "0  -55.0000       9.1534   20.0000\n",
       "1  -43.3330       7.5170   31.6670\n",
       "2  -31.6670       6.9837   43.3330\n",
       "3  -20.0000       6.6390   55.0000\n",
       "4   -8.3333       6.5182   66.6667"
      ]
     },
     "execution_count": 15,
     "metadata": {},
     "output_type": "execute_result"
    }
   ],
   "source": [
    "df = pd.read_csv(f'{folder}/{data}')\n",
    "df['distance'] = df['z_target'] + 75 # distance between target bottom cap and TMP mesh\n",
    "df.head()"
   ]
  },
  {
   "cell_type": "code",
   "execution_count": 26,
   "metadata": {},
   "outputs": [
    {
     "data": {
      "image/png": "[encoded data removed]",
      "text/plain": [
       "<Figure size 432x288 with 1 Axes>"
      ]
     },
     "metadata": {
      "needs_background": "light"
     },
     "output_type": "display_data"
    }
   ],
   "source": [
    "plt.plot(df['distance'], df['E_max_kV_mm'], linestyle='--', marker='o', color='darkblue', label=\"ES simulation\")\n",
    "x_lim = plt.gca().get_xlim()\n",
    "y_lim = plt.gca().get_ylim()\n",
    "plt.plot([-10,140], [8.0, 8.0], linestyle='-.', color = 'red', label=\"limit in one publication\")\n",
    "plt.xlim(x_lim)\n",
    "plt.ylim(y_lim)\n",
    "plt.grid()\n",
    "plt.ylabel(\"E_max [kV/mm]\")\n",
    "plt.legend()\n",
    "plt.xlabel(\"Distance target bottom cap to TMP mesh [mm]\")\n",
    "plt.savefig(f'{folder}/E_max.vs.distance_target_bottom_cap_to_tmp.png', dpi=600)\n",
    "plt.show()\n",
    "plt.close()\n"
   ]
  },
  {
   "cell_type": "code",
   "execution_count": null,
   "metadata": {},
   "outputs": [],
   "source": []
  }
 ],
 "metadata": {
  "kernelspec": {
   "display_name": "Python 3",
   "language": "python",
   "name": "python3"
  },
  "language_info": {
   "codemirror_mode": {
    "name": "ipython",
    "version": 3
   },
   "file_extension": ".py",
   "mimetype": "text/x-python",
   "name": "python",
   "nbconvert_exporter": "python",
   "pygments_lexer": "ipython3",
   "version": "3.7.2"
  }
 },
 "nbformat": 4,
 "nbformat_minor": 2
}
