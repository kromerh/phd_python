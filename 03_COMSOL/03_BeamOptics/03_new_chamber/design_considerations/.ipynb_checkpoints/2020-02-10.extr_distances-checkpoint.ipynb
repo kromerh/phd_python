{
 "cells": [
  {
   "cell_type": "markdown",
   "metadata": {},
   "source": [
    "# Different extraction distances\n",
    "\n",
    "- COMSOL files in /Users/hkromer/02_PhD/02_Data/01_COMSOL/01_IonOptics/03.new_chamber/02.sweeps.target_pos/2020-02-10.extr_distances/02.sweeps.target_pos.010.extr_distances_01.mph and 02\n",
    "\n",
    "- HV is -100 kV, extraction voltages is -3 kV\n",
    "\n",
    "- only for 90 cm (run010)\n",
    "\n",
    "- extraction offsets are 8, 9, 10, 11, 12, 13, 14, 15 mm\n",
    "\n",
    "- 1 mA ion beam current\n",
    "\n",
    "- datafiles are in /Users/hkromer/02_PhD/02_Data/01_COMSOL/01_IonOptics/03.new_chamber/02.sweeps.target_pos/2020-02-10.extr_distances/particleData\n",
    "\n",
    "\n",
    "| run | distance centerline target to ion source aperture  |   \n",
    "|---|---|\n",
    "| **010**  | **90 cm**  | \n",
    "| 011  | 100 cm  |   \n",
    "| 012  | 120 cm  |  "
   ]
  },
  {
   "cell_type": "code",
   "execution_count": 1,
   "metadata": {},
   "outputs": [
    {
     "data": {
      "text/plain": [
       "['010_02.csv', '010_01.csv']"
      ]
     },
     "execution_count": 1,
     "metadata": {},
     "output_type": "execute_result"
    }
   ],
   "source": [
    "import pandas as pd\n",
    "import numpy as np\n",
    "import os\n",
    "import sys\n",
    "import re\n",
    "import matplotlib.pyplot as plt\n",
    "from scipy.optimize import minimize\n",
    "from scipy.optimize import curve_fit\n",
    "\n",
    "from scipy.stats import kde\n",
    "from scipy import optimize\n",
    "\n",
    "from matplotlib.ticker import NullFormatter\n",
    "from matplotlib import pyplot, transforms\n",
    "import matplotlib\n",
    "from matplotlib.ticker import AutoMinorLocator\n",
    "%matplotlib inline\n",
    "import os\n",
    "os.environ[\"PATH\"] += os.pathsep + '/usr/local/texlive/2018/bin/x86_64-darwin'\n",
    "plt.rc('text', usetex=True)\n",
    "plt.rc('font', weight='bold')\n",
    "matplotlib.rcParams['mathtext.fontset'] = 'custom'\n",
    "matplotlib.rcParams['mathtext.rm'] = 'Arial'\n",
    "matplotlib.rcParams['mathtext.it'] = 'Arial:italic'\n",
    "matplotlib.rcParams['mathtext.bf'] = 'Arial:bold'\n",
    "matplotlib.rcParams['mathtext.tt'] = 'Arial'\n",
    "matplotlib.rcParams['mathtext.cal'] = 'Arial'\n",
    "matplotlib.rcParams['text.latex.preamble'] = [r'\\usepackage{sfmath} \\boldmath']\n",
    "\n",
    "\n",
    "folder = '/Users/hkromer/02_PhD/02_Data/01_COMSOL/01_IonOptics/03.new_chamber/02.sweeps.target_pos/2020-02-10.extr_distances/particleData/'\n",
    "outfolder = '/Users/hkromer/polybox/Thesis/Chapters/FurtherNeutronGeneratorUpgrades/Figures/COMSOL_beam_spot_design_stage_extraction_offsets/'\n",
    "files = os.listdir(folder)\n",
    "main_figname = 'FWHM_vs_x'\n",
    "\n",
    "\n",
    "\n",
    "fignames = [f.replace('.csv', '') for f in files]\n",
    "datafiles = [f\"{folder}{f}\" for f in files]\n",
    "\n",
    "files"
   ]
  },
  {
   "cell_type": "markdown",
   "metadata": {},
   "source": [
    "## 01: distances 8, 9, 10, 11 mm"
   ]
  },
  {
   "cell_type": "code",
   "execution_count": 2,
   "metadata": {},
   "outputs": [
    {
     "data": {
      "text/plain": [
       "('010_01.csv',\n",
       " ['/Users/hkromer/02_PhD/02_Data/01_COMSOL/01_IonOptics/03.new_chamber/02.sweeps.target_pos/2020-02-10.extr_distances/particleData/010_01.csv'])"
      ]
     },
     "execution_count": 2,
     "metadata": {},
     "output_type": "execute_result"
    }
   ],
   "source": [
    "files = os.listdir(folder)[1]\n",
    "# what are the sweep values\n",
    "sweep_vals = ['8', '9', '10', '11']\n",
    "\n",
    "fignames = [f.replace('.csv', '') for f in files]\n",
    "datafiles = [f\"{folder}{files}\"]\n",
    "files, datafiles"
   ]
  },
  {
   "cell_type": "code",
   "execution_count": 3,
   "metadata": {},
   "outputs": [
    {
     "ename": "NameError",
     "evalue": "name 'preprocess_COMSOL_sweep' is not defined",
     "output_type": "error",
     "traceback": [
      "\u001b[0;31m---------------------------------------------------------------------------\u001b[0m",
      "\u001b[0;31mNameError\u001b[0m                                 Traceback (most recent call last)",
      "\u001b[0;32m<ipython-input-3-60f9d2ef2e08>\u001b[0m in \u001b[0;36m<module>\u001b[0;34m\u001b[0m\n\u001b[1;32m      1\u001b[0m \u001b[0mfname\u001b[0m \u001b[0;34m=\u001b[0m \u001b[0mdatafiles\u001b[0m\u001b[0;34m[\u001b[0m\u001b[0;36m0\u001b[0m\u001b[0;34m]\u001b[0m\u001b[0;34m\u001b[0m\u001b[0;34m\u001b[0m\u001b[0m\n\u001b[1;32m      2\u001b[0m \u001b[0;31m#     print(fname)\u001b[0m\u001b[0;34m\u001b[0m\u001b[0;34m\u001b[0m\u001b[0;34m\u001b[0m\u001b[0m\n\u001b[0;32m----> 3\u001b[0;31m \u001b[0mdic_dfs\u001b[0m \u001b[0;34m=\u001b[0m \u001b[0mpreprocess_COMSOL_sweep\u001b[0m\u001b[0;34m(\u001b[0m\u001b[0mfname\u001b[0m\u001b[0;34m,\u001b[0m \u001b[0msweep_vals\u001b[0m\u001b[0;34m)\u001b[0m\u001b[0;34m\u001b[0m\u001b[0;34m\u001b[0m\u001b[0m\n\u001b[0m\u001b[1;32m      4\u001b[0m \u001b[0;32mfor\u001b[0m \u001b[0mkey\u001b[0m \u001b[0;32min\u001b[0m \u001b[0mdic_dfs\u001b[0m\u001b[0;34m:\u001b[0m\u001b[0;34m\u001b[0m\u001b[0;34m\u001b[0m\u001b[0m\n\u001b[1;32m      5\u001b[0m     \u001b[0mdata\u001b[0m \u001b[0;34m=\u001b[0m \u001b[0mdic_dfs\u001b[0m\u001b[0;34m[\u001b[0m\u001b[0mkey\u001b[0m\u001b[0;34m]\u001b[0m\u001b[0;34m\u001b[0m\u001b[0;34m\u001b[0m\u001b[0m\n",
      "\u001b[0;31mNameError\u001b[0m: name 'preprocess_COMSOL_sweep' is not defined"
     ]
    }
   ],
   "source": [
    "fname = datafiles[0]\n",
    "#     print(fname)\n",
    "dic_dfs = preprocess_COMSOL_sweep(fname, sweep_vals)\n",
    "for key in dic_dfs:\n",
    "    data = dic_dfs[key]\n",
    "    figname = f\"{files}_{key}\"\n",
    "#     make_plot_KDE(data, outfolder, figname, axis_lim=3)"
   ]
  },
  {
   "cell_type": "markdown",
   "metadata": {},
   "source": [
    "## 02: distances 12, 13, 14, 15 mm"
   ]
  },
  {
   "cell_type": "code",
   "execution_count": 4,
   "metadata": {},
   "outputs": [
    {
     "data": {
      "text/plain": [
       "('010_02.csv',\n",
       " ['/Users/hkromer/02_PhD/02_Data/01_COMSOL/01_IonOptics/03.new_chamber/02.sweeps.target_pos/2020-02-10.extr_distances/particleData/010_02.csv'])"
      ]
     },
     "execution_count": 4,
     "metadata": {},
     "output_type": "execute_result"
    }
   ],
   "source": [
    "files = os.listdir(folder)[0]\n",
    "# what are the sweep values\n",
    "sweep_vals = ['12', '13', '14', '15']\n",
    "\n",
    "fignames = [f.replace('.csv', '') for f in files]\n",
    "datafiles = [f\"{folder}{files}\"]\n",
    "files, datafiles"
   ]
  },
  {
   "cell_type": "code",
   "execution_count": 5,
   "metadata": {},
   "outputs": [
    {
     "ename": "NameError",
     "evalue": "name 'preprocess_COMSOL_sweep' is not defined",
     "output_type": "error",
     "traceback": [
      "\u001b[0;31m---------------------------------------------------------------------------\u001b[0m",
      "\u001b[0;31mNameError\u001b[0m                                 Traceback (most recent call last)",
      "\u001b[0;32m<ipython-input-5-60f9d2ef2e08>\u001b[0m in \u001b[0;36m<module>\u001b[0;34m\u001b[0m\n\u001b[1;32m      1\u001b[0m \u001b[0mfname\u001b[0m \u001b[0;34m=\u001b[0m \u001b[0mdatafiles\u001b[0m\u001b[0;34m[\u001b[0m\u001b[0;36m0\u001b[0m\u001b[0;34m]\u001b[0m\u001b[0;34m\u001b[0m\u001b[0;34m\u001b[0m\u001b[0m\n\u001b[1;32m      2\u001b[0m \u001b[0;31m#     print(fname)\u001b[0m\u001b[0;34m\u001b[0m\u001b[0;34m\u001b[0m\u001b[0;34m\u001b[0m\u001b[0m\n\u001b[0;32m----> 3\u001b[0;31m \u001b[0mdic_dfs\u001b[0m \u001b[0;34m=\u001b[0m \u001b[0mpreprocess_COMSOL_sweep\u001b[0m\u001b[0;34m(\u001b[0m\u001b[0mfname\u001b[0m\u001b[0;34m,\u001b[0m \u001b[0msweep_vals\u001b[0m\u001b[0;34m)\u001b[0m\u001b[0;34m\u001b[0m\u001b[0;34m\u001b[0m\u001b[0m\n\u001b[0m\u001b[1;32m      4\u001b[0m \u001b[0;32mfor\u001b[0m \u001b[0mkey\u001b[0m \u001b[0;32min\u001b[0m \u001b[0mdic_dfs\u001b[0m\u001b[0;34m:\u001b[0m\u001b[0;34m\u001b[0m\u001b[0;34m\u001b[0m\u001b[0m\n\u001b[1;32m      5\u001b[0m     \u001b[0mdata\u001b[0m \u001b[0;34m=\u001b[0m \u001b[0mdic_dfs\u001b[0m\u001b[0;34m[\u001b[0m\u001b[0mkey\u001b[0m\u001b[0;34m]\u001b[0m\u001b[0;34m\u001b[0m\u001b[0;34m\u001b[0m\u001b[0m\n",
      "\u001b[0;31mNameError\u001b[0m: name 'preprocess_COMSOL_sweep' is not defined"
     ]
    }
   ],
   "source": [
    "fname = datafiles[0]\n",
    "#     print(fname)\n",
    "dic_dfs = preprocess_COMSOL_sweep(fname, sweep_vals)\n",
    "for key in dic_dfs:\n",
    "    data = dic_dfs[key]\n",
    "    figname = f\"{files}_{key}\"\n",
    "#     make_plot_KDE(data, outfolder, figname, axis_lim=3)"
   ]
  },
  {
   "cell_type": "markdown",
   "metadata": {},
   "source": [
    "## Function to process the COMSOL output (column headers with commas are a problem)"
   ]
  },
  {
   "cell_type": "code",
   "execution_count": 6,
   "metadata": {},
   "outputs": [],
   "source": [
    "def preprocess_COMSOL_sweep(fname, sweep_vals):\n",
    "    \"\"\"\n",
    "    fname: csv file of COMSOL output to read\n",
    "    sweep_vals: what are the sweep values in a list\n",
    "    \n",
    "    Returns a dictionary with the dataframes qx qy qz for each file\n",
    "    \"\"\"\n",
    "    \n",
    "    # read the data and format the , correctly\n",
    "    data = pd.read_csv(fname, skiprows=7, index_col=0, nrows=10)\n",
    "    col_str = ''.join(data.columns.tolist())\n",
    "    col_str = col_str.replace('q', ' ,q')\n",
    "    col_list = col_str.split(',')\n",
    "    col_list = col_list[1:]\n",
    "\n",
    "\n",
    "    # read the data again, use the columns found before as the headers\n",
    "    data = pd.read_csv(fname, skiprows=8, index_col=0, header=None)\n",
    "    data.columns = col_list\n",
    "\n",
    "    # filter the columns\n",
    "    d_sweep = {}\n",
    "    # dictionary of the dataframes, each dataframe is a separate sweep value\n",
    "    dic_dfs = {}\n",
    "    for val in sweep_vals:\n",
    "        cols = [c for c in data.columns if val in c]\n",
    "        d_sweep[val] = cols\n",
    "\n",
    "    # add each dataframe to a separate place in the dictionary\n",
    "    for key in d_sweep.keys():\n",
    "        this_data = data.loc[:,d_sweep[key]]\n",
    "        # rename the columns in qx, qy, qz\n",
    "        new_cols = []\n",
    "        for c in cols:\n",
    "            if 'qx' in c:\n",
    "                new_cols.append('qx')\n",
    "            if 'qy' in c:\n",
    "                new_cols.append('qy')\n",
    "            if 'qz' in c:\n",
    "                new_cols.append('qz')\n",
    "        this_data.columns = new_cols\n",
    "        dic_dfs[key] = this_data\n",
    "        \n",
    "    return dic_dfs"
   ]
  },
  {
   "cell_type": "markdown",
   "metadata": {},
   "source": [
    "## Function to make the KDE plot"
   ]
  },
  {
   "cell_type": "code",
   "execution_count": 7,
   "metadata": {},
   "outputs": [],
   "source": [
    "def make_plot_KDE(data, outfolder, figname, axis_lim):\n",
    "    \"\"\"\n",
    "    Makes the gaussian kde and the y z plot.\n",
    "    data is the dataframe with qx, qy, qz as headers and reach row is one sample data with the respecitve positions\n",
    "    \"\"\"\n",
    "    nbins = 200\n",
    "    lim = axis_lim\n",
    "    data.to_csv(f\"{outfolder}/{figname}.csv\")\n",
    "    #     print(data[pd.isnull(data).any(axis=1)])\n",
    "    x = data['qy'].values\n",
    "    y = data['qz'].values\n",
    "    my_data = np.vstack([x, y])\n",
    "    k = kde.gaussian_kde(my_data)\n",
    "\n",
    "    xi, yi = np.mgrid[-lim:lim:nbins*1j, -lim:lim:nbins*1j]\n",
    "    zi = k(np.vstack([xi.flatten(), yi.flatten()]))\n",
    "#     print(zi.reshape(xi.shape))\n",
    "    # plot\n",
    "    fs = 20\n",
    "\n",
    "    f = plt.figure(1, figsize=(9, 9))\n",
    "\n",
    "    nullfmt = NullFormatter()         # no labels\n",
    "    # definitions for the axes\n",
    "    left, width = 0.12, 0.65\n",
    "    bottom, height = 0.12, 0.65\n",
    "    rect_scatter = [left, bottom, width, height]\n",
    "    axScatter = plt.axes(rect_scatter)\n",
    "    p = axScatter.pcolormesh(xi, yi, zi.reshape(xi.shape), shading='gouraud', cmap=plt.cm.jet)\n",
    "    plt.axis('equal')\n",
    "    plt.xlabel(r'\\textbf{y [mm]}', fontsize=fs)\n",
    "    plt.ylabel(r'\\textbf{z [mm]}', fontsize=fs)\n",
    "    axScatter.tick_params('x', colors='black', labelsize=fs-2)\n",
    "    axScatter.tick_params('y', colors='black', labelsize=fs-2)\n",
    "    plt.yticks(np.arange(-lim,lim+1,1))\n",
    "    plt.xticks(np.arange(-lim,lim+1,1))\n",
    "\n",
    "\n",
    "    left = 0.8\n",
    "    bottom = 0.12\n",
    "    width = 0.05\n",
    "    height = 0.65\n",
    "    cax = f.add_axes([left, bottom, width, height])\n",
    "    cbar = f.colorbar(p, cax, ticks=[0,0.05,0.1,0.15,0.20,0.25,0.30,0.35,0.40])\n",
    "#     print(np.max(zi))\n",
    "    cbar.ax.tick_params(labelsize=fs-2)\n",
    "    plt.savefig(f'{outfolder}/{figname}.pdf')\n",
    "\n",
    "    plt.show()\n",
    "\n",
    "    # query from the estimated pdf\n",
    "    qry_eval = np.linspace(-lim,lim,100)\n",
    "    eval_x = [k.evaluate([x,0])[0] for x in qry_eval] # for z = 0 in the upper plot\n",
    "    eval_y = [k.evaluate([0,y])[0] for y in qry_eval] # for y = 0 in the upper plot\n",
    "\n",
    "    # fit FWHM\n",
    "    def gauss(x, a, x0, sigma):\n",
    "        return a * np.exp(-(x-x0)**2/(2*sigma**2))\n",
    "\n",
    "\n",
    "    p0 = [1, 1, 1] # Initial guess for the parameters\n",
    "    # fit for parallel to x axis\n",
    "    X = qry_eval\n",
    "    Y = eval_x\n",
    "    popt, pcov = curve_fit(gauss, X, Y, p0, maxfev=30000)\n",
    "    A_x, x0_x, sigma_x = popt\n",
    "    Y_fit_x = gauss(X, *popt)\n",
    "    FWHM_x = 2 * sigma_x * np.sqrt(2 * np.log(2))  # FWHM\n",
    "    print(f'FWHM in x: {FWHM_x}')\n",
    "\n",
    "    # fit for parallel to y axis\n",
    "    X = qry_eval\n",
    "    Y = eval_y\n",
    "    popt, pcov = curve_fit(gauss, X, Y, p0, maxfev=30000)\n",
    "    A_y, x0_y, sigma_y = popt\n",
    "    FWHM_y = 2 * sigma_y * np.sqrt(2 * np.log(2))  # FWHM\n",
    "    print(f'FWHM in y: {FWHM_y}')\n",
    "    Y_fit_y = gauss(X, *popt)\n",
    "#     print(gauss(x0_y, *popt), A_y)\n",
    "\n",
    "    f = plt.figure(1, figsize=(8, 6.4))\n",
    "    ylims = (-0.01, 0.30)\n",
    "    # top plot\n",
    "    plt.subplot(2, 1, 1)\n",
    "    plt.plot(qry_eval, eval_x, color='darkblue', linewidth=2.0, label='z=0')\n",
    "    plt.plot(qry_eval, Y_fit_x, color='darkred',linewidth=2.0, label='Gaussian fit')\n",
    "    plt.plot([-FWHM_x/2,FWHM_x/2],[A_x/2,A_x/2], '--', color='black')    \n",
    "    plt.text(-0.7, .06, f'FWHM = {FWHM_x:.2f} mm', fontsize=14)\n",
    "    plt.xlabel(r'\\textbf{y [mm]}', fontsize=fs)\n",
    "    plt.ylabel(r'\\textbf{Estimated PDF [-]}', fontsize=fs)\n",
    "    ax = plt.gca()\n",
    "    ax.tick_params('x', colors='black', labelsize=fs-2)\n",
    "    ax.tick_params('y', colors='black', labelsize=fs-2)\n",
    "    minor_locator = AutoMinorLocator(2)\n",
    "    ax.xaxis.set_minor_locator(minor_locator)\n",
    "    minor_locator = AutoMinorLocator(2)\n",
    "    ax.yaxis.set_minor_locator(minor_locator)\n",
    "    ax.grid(b=True, which='major', linestyle='-')\n",
    "    ax.grid(b=True, which='minor', linestyle='--')\n",
    "    plt.yticks(np.arange(0,0.4,0.1))\n",
    "    plt.xticks(np.arange(-3,4,1))\n",
    "    leg1 = plt.legend(loc=\"best\",  fontsize=12)\n",
    "    plt.ylim(ylims)\n",
    "    # bottom plot\n",
    "    plt.subplot(2, 1, 2)\n",
    "    plt.plot(qry_eval, eval_y, color='darkorange', linewidth=2.0, label='y=0')\n",
    "    plt.plot(qry_eval, Y_fit_y, color='darkred',linewidth=2.0, label='Gaussian fit')\n",
    "    plt.plot([-FWHM_y/2+x0_y,FWHM_y/2+x0_y],[gauss(-FWHM_y/2+x0_y,*popt),gauss(FWHM_y/2+x0_y,*popt)], '--', color='black')\n",
    "    plt.text(-0.3, .06, f'FWHM = {FWHM_y:.2f} mm', fontsize=14)\n",
    "    plt.xlabel(r'\\textbf{z [mm]}', fontsize=fs)\n",
    "    plt.ylabel(r'\\textbf{Estimated PDF [-]}', fontsize=fs)\n",
    "    ax = plt.gca()\n",
    "    ax.tick_params('x', colors='black', labelsize=fs-2)\n",
    "    ax.tick_params('y', colors='black', labelsize=fs-2)\n",
    "    minor_locator = AutoMinorLocator(2)\n",
    "    ax.xaxis.set_minor_locator(minor_locator)\n",
    "    minor_locator = AutoMinorLocator(2)\n",
    "    ax.yaxis.set_minor_locator(minor_locator)\n",
    "    ax.grid(b=True, which='major', linestyle='-')\n",
    "    ax.grid(b=True, which='minor', linestyle='--')\n",
    "    plt.yticks(np.arange(0,0.4,0.1))\n",
    "    plt.xticks(np.arange(-3,4,1))\n",
    "    leg1 = plt.legend(loc=\"best\",  fontsize=12)\n",
    "    # leg1.set_title(r\"Experiment number\", prop = {'size': 12})\n",
    "    plt.tight_layout()\n",
    "    plt.ylim(ylims)\n",
    "    plt.savefig(f'{outfolder}/{figname}_YZ.pdf')\n",
    "    plt.show()"
   ]
  },
  {
   "cell_type": "code",
   "execution_count": null,
   "metadata": {},
   "outputs": [],
   "source": []
  },
  {
   "cell_type": "code",
   "execution_count": 8,
   "metadata": {},
   "outputs": [],
   "source": [
    "def get_FWHM(x, k, r, ax):\n",
    "    \"\"\"\n",
    "    Get the FWHMs parallel to the axis: ax\n",
    "    \"\"\"\n",
    "    assert ax in ['x', 'y']\n",
    "    if ax == 'x':\n",
    "        y = [k.evaluate([y,r])[0] for y in x]\n",
    "    else:\n",
    "        y = [k.evaluate([r,y])[0] for y in x]\n",
    "    \n",
    "    if np.max(y) > 1e-4:\n",
    "        def find_nearest(array, value):\n",
    "\n",
    "            array = np.asarray(array)\n",
    "            dis = (np.abs(array - value))\n",
    "#             if len(dis) < 5:\n",
    "#                 print(y, array, value)\n",
    "            idx = dis.argmin()\n",
    "\n",
    "            return idx, array[idx]\n",
    "\n",
    "        Y_max = np.max(y)\n",
    "        Y_max_half = Y_max/2.0\n",
    "    #     print(Y_max, Y_max_half)\n",
    "        # x point on positive and side\n",
    "        idx_0 = find_nearest(x, Y_max)[0]\n",
    "        idx_pos_max_half = find_nearest(y[idx_0:], Y_max_half)[0]\n",
    "        idx_neg_max_half = find_nearest(y[:idx_0], Y_max_half)[0]\n",
    "    #     print(find_nearest(eval_x[idx_0:], Y_max_half))\n",
    "        # FWHM\n",
    "        FWHM = x[idx_pos_max_half+idx_0]-x[idx_neg_max_half]\n",
    "\n",
    "    #     return x[idx_neg_max_half], x[idx_pos_max_half+idx_0], FWHM\n",
    "        return FWHM\n",
    "    else:\n",
    "        return 0\n",
    "\n",
    "def get_max_FWHMs(data, nbins=400, eval_points=300, lim=4):\n",
    "    \"\"\"\n",
    "    returns the maximum values for the FWHM paralell to x and y direction. X is corresponding to parallel to y, z is parallel to y\n",
    "    \"\"\"\n",
    "    x = data['qy'].values\n",
    "    y = data['qz'].values\n",
    "    my_data = np.vstack([x, y])\n",
    "    k = kde.gaussian_kde(my_data)\n",
    "\n",
    "    xi, yi = np.mgrid[-lim:lim:nbins*1j, -lim:lim:nbins*1j]\n",
    "    zi = k(np.vstack([xi.flatten(), yi.flatten()]))\n",
    "\n",
    "    eval_points \n",
    "    qry_eval = np.linspace(-lim,lim,eval_points)\n",
    "\n",
    "    df = pd.DataFrame({'qry_eval': qry_eval})\n",
    "    df['FWHM_z'] = df['qry_eval'].apply(lambda r: get_FWHM(qry_eval, k, r, ax='y'))\n",
    "    df['FWHM_y'] = df['qry_eval'].apply(lambda r: get_FWHM(qry_eval, k, r, ax='x'))\n",
    "    FWHM_y = np.max(df['FWHM_y'] )\n",
    "    FWHM_z = np.max(df['FWHM_z'] )\n",
    "    \n",
    "    return pd.Series([FWHM_y, FWHM_z], index=['FWHM_y', 'FWHM_z'])"
   ]
  },
  {
   "cell_type": "code",
   "execution_count": 9,
   "metadata": {},
   "outputs": [
    {
     "data": {
      "text/plain": [
       "'010_02.csv'"
      ]
     },
     "execution_count": 9,
     "metadata": {},
     "output_type": "execute_result"
    }
   ],
   "source": [
    "files"
   ]
  },
  {
   "cell_type": "code",
   "execution_count": 10,
   "metadata": {},
   "outputs": [
    {
     "name": "stdout",
     "output_type": "stream",
     "text": [
      "010_01.csv\n",
      "/Users/hkromer/02_PhD/02_Data/01_COMSOL/01_IonOptics/03.new_chamber/02.sweeps.target_pos/2020-02-10.extr_distances/particleData/010_01.csv 8\n",
      "/Users/hkromer/02_PhD/02_Data/01_COMSOL/01_IonOptics/03.new_chamber/02.sweeps.target_pos/2020-02-10.extr_distances/particleData/010_01.csv 9\n",
      "/Users/hkromer/02_PhD/02_Data/01_COMSOL/01_IonOptics/03.new_chamber/02.sweeps.target_pos/2020-02-10.extr_distances/particleData/010_01.csv 10\n",
      "/Users/hkromer/02_PhD/02_Data/01_COMSOL/01_IonOptics/03.new_chamber/02.sweeps.target_pos/2020-02-10.extr_distances/particleData/010_01.csv 11\n"
     ]
    }
   ],
   "source": [
    "file = os.listdir(folder)[1]\n",
    "print(file)\n",
    "# what are the sweep values\n",
    "sweep_vals = ['8', '9', '10', '11']\n",
    "\n",
    "fignames = [f.replace('.csv', '') for f in files]\n",
    "datafiles = [f\"{folder}{file}\"]\n",
    "# files, datafiles\n",
    "fname = datafiles[0]\n",
    "#     print(fname)\n",
    "dic_dfs = preprocess_COMSOL_sweep(fname, sweep_vals)\n",
    "d_FWHM = {}\n",
    "df = pd.DataFrame()\n",
    "\n",
    "for key in dic_dfs:\n",
    "    print(fname, key)\n",
    "    \n",
    "    data = dic_dfs[key]\n",
    "    s = get_max_FWHMs(data, nbins=400, eval_points=300, lim=4)\n",
    "    df[f\"{key}\"] = s\n",
    "    \n",
    "df = df.T\n",
    "d_FWHM[file] = df"
   ]
  },
  {
   "cell_type": "code",
   "execution_count": 11,
   "metadata": {},
   "outputs": [
    {
     "name": "stdout",
     "output_type": "stream",
     "text": [
      "010_02.csv\n",
      "/Users/hkromer/02_PhD/02_Data/01_COMSOL/01_IonOptics/03.new_chamber/02.sweeps.target_pos/2020-02-10.extr_distances/particleData/010_02.csv 12\n",
      "/Users/hkromer/02_PhD/02_Data/01_COMSOL/01_IonOptics/03.new_chamber/02.sweeps.target_pos/2020-02-10.extr_distances/particleData/010_02.csv 13\n",
      "/Users/hkromer/02_PhD/02_Data/01_COMSOL/01_IonOptics/03.new_chamber/02.sweeps.target_pos/2020-02-10.extr_distances/particleData/010_02.csv 14\n",
      "/Users/hkromer/02_PhD/02_Data/01_COMSOL/01_IonOptics/03.new_chamber/02.sweeps.target_pos/2020-02-10.extr_distances/particleData/010_02.csv 15\n"
     ]
    }
   ],
   "source": [
    "file = os.listdir(folder)[0]\n",
    "print(file)\n",
    "# what are the sweep values\n",
    "sweep_vals = ['12', '13', '14', '15']\n",
    "\n",
    "fignames = [f.replace('.csv', '') for f in files]\n",
    "datafiles = [f\"{folder}{file}\"]\n",
    "# files, datafiles\n",
    "fname = datafiles[0]\n",
    "#     print(fname)\n",
    "dic_dfs = preprocess_COMSOL_sweep(fname, sweep_vals)\n",
    "df = pd.DataFrame()\n",
    "\n",
    "for key in dic_dfs:\n",
    "    print(fname, key)\n",
    "    \n",
    "    data = dic_dfs[key]\n",
    "    s = get_max_FWHMs(data, nbins=400, eval_points=300, lim=4)\n",
    "    df[f\"{key}\"] = s\n",
    "    \n",
    "df = df.T\n",
    "d_FWHM[file] = df"
   ]
  },
  {
   "cell_type": "code",
   "execution_count": 12,
   "metadata": {},
   "outputs": [
    {
     "data": {
      "text/plain": [
       "{'010_01.csv':       FWHM_y    FWHM_z\n",
       " 8   2.648829  4.387960\n",
       " 9   2.327759  3.879599\n",
       " 10  2.060201  3.451505\n",
       " 11  1.792642  3.076923,\n",
       " '010_02.csv':       FWHM_y    FWHM_z\n",
       " 12  1.578595  2.702341\n",
       " 13  1.418060  2.434783\n",
       " 14  1.257525  2.193980\n",
       " 15  1.150502  1.979933}"
      ]
     },
     "execution_count": 12,
     "metadata": {},
     "output_type": "execute_result"
    }
   ],
   "source": [
    "d_FWHM"
   ]
  },
  {
   "cell_type": "code",
   "execution_count": 13,
   "metadata": {},
   "outputs": [],
   "source": [
    "df = pd.concat([d_FWHM['010_01.csv'],d_FWHM['010_02.csv']],\n",
    "          ignore_index=False)\n",
    "\n",
    "df.to_csv(f\"{outfolder}/FWHM_data.csv\")"
   ]
  },
  {
   "cell_type": "code",
   "execution_count": 33,
   "metadata": {},
   "outputs": [
    {
     "data": {
      "image/png": "[encoded data removed]",
      "text/plain": [
       "<Figure size 576x432 with 1 Axes>"
      ]
     },
     "metadata": {
      "needs_background": "light"
     },
     "output_type": "display_data"
    }
   ],
   "source": [
    "from matplotlib.ticker import NullFormatter\n",
    "from matplotlib import pyplot, transforms\n",
    "import matplotlib\n",
    "from matplotlib.ticker import AutoMinorLocator\n",
    "%matplotlib inline\n",
    "import os\n",
    "import copy\n",
    "os.environ[\"PATH\"] += os.pathsep + '/usr/local/texlive/2018/bin/x86_64-darwin'\n",
    "plt.rc('text', usetex=True)\n",
    "plt.rc('font', weight='bold')\n",
    "matplotlib.rcParams['mathtext.fontset'] = 'custom'\n",
    "matplotlib.rcParams['mathtext.rm'] = 'Arial'\n",
    "matplotlib.rcParams['mathtext.it'] = 'Arial:italic'\n",
    "matplotlib.rcParams['mathtext.bf'] = 'Arial:bold'\n",
    "matplotlib.rcParams['mathtext.tt'] = 'Arial'\n",
    "matplotlib.rcParams['mathtext.cal'] = 'Arial'\n",
    "matplotlib.rcParams['text.latex.preamble'] = [r'\\usepackage{sfmath} \\boldmath']\n",
    "\n",
    "# plot for each time\n",
    "fig, ax1 = plt.subplots(figsize=(8, 6))\n",
    "fs = 30\n",
    "\n",
    "ls_y = '-'\n",
    "ls_z = '-'\n",
    "m_y = 'o'\n",
    "m_z = 's'\n",
    "\n",
    "df['x'] = df.index\n",
    "x = df['x'].astype(float).values # offset in mm\n",
    "c = 'darkblue' # color\n",
    "y = df['FWHM_z'].values\n",
    "\n",
    "lbl = 'z'\n",
    "ax1.plot(x, y, linestyle=ls_y, marker=m_y, color=c, label=lbl, markersize=10) # y\n",
    "\n",
    "y = df['FWHM_y'].values\n",
    "lbl = 'y'\n",
    "c = 'darkorange' # color\n",
    "\n",
    "ax1.plot(x, y, linestyle=ls_z, marker=m_z, color=c, label=lbl, markersize=10) # z\n",
    "\n",
    "ax1.set_xlabel(r\"\\textbf{Offset [mm]}\", fontsize=fs)\n",
    "ax1.set_ylabel(r\"\\textbf{FWHM [mm]}\", fontsize=fs)\n",
    "\n",
    "ax1.tick_params(axis='y', labelsize=fs-2)\n",
    "ax1.tick_params(axis='x', labelsize=fs-2)\n",
    "# ax1.set_ylim(6, 9.5)\n",
    "# ax1.set_xlim(10, 140)\n",
    "\n",
    "# minor ticks x\n",
    "minor_locator = AutoMinorLocator(2)\n",
    "ax1.xaxis.set_minor_locator(minor_locator)\n",
    "# minor ticks y\n",
    "minor_locator = AutoMinorLocator(2)\n",
    "ax1.yaxis.set_minor_locator(minor_locator)\n",
    "\n",
    "my_handles, my_labels = ax1.get_legend_handles_labels()\n",
    "\n",
    "\n",
    "# my_handles = [my_handles[0], my_handles[1], my_handles[2]]\n",
    "# my_labels = ['90', '100', '120']\n",
    "# l1 = plt.legend(my_handles, my_labels, loc=(0.56, 0.75), markerscale=0, fontsize=14)\n",
    "# l1.set_title(r\"\\textbf{Distance aperture to target [cm]}\", prop = {'size': 13})\n",
    "# leg1 = plt.legend(loc='best', fontsize=fs-6)\n",
    "# # change color of legend\n",
    "\n",
    "\n",
    "from matplotlib.lines import Line2D\n",
    "\n",
    "legend_elements = [Line2D([0], [0], marker='o', color='black', label='y',\n",
    "                          markerfacecolor='black', markersize=10),\n",
    "                   Line2D([0], [0], marker='s', color='black', label='z',\n",
    "                          markerfacecolor='black', markersize=10)\n",
    "                   ]\n",
    "\n",
    "# l2 = plt.legend(handles=legend_elements,loc=(0.31, 0.81), handlelength=0, fontsize=14)\n",
    "l2 = plt.legend(loc='upper right', fontsize=fs-4)\n",
    "l2.set_title(r\"\\textbf{FWHM along axis}\", prop = {'size': fs-4})\n",
    "\n",
    "# plt.gca().add_artist(l1)\n",
    "\n",
    "\n",
    "\n",
    "ax1.grid(b=True, which='major', linestyle='-')\n",
    "ax1.grid(b=True, which='minor', linestyle='--')\n",
    "\n",
    "\n",
    "ax1.set_xticks(np.arange(8,16,1))\n",
    "plt.ylim(1, 6)\n",
    "plt.xlim(7.75,15.255)\n",
    "plt.tight_layout()\n",
    "plt.savefig(f\"{outfolder}{main_figname}.pdf\")\n",
    "plt.show()"
   ]
  },
  {
   "cell_type": "code",
   "execution_count": 30,
   "metadata": {},
   "outputs": [
    {
     "data": {
      "text/plain": [
       "FWHM_y     0.12987\n",
       "FWHM_z    0.124031\n",
       "dtype: object"
      ]
     },
     "execution_count": 30,
     "metadata": {},
     "output_type": "execute_result"
    }
   ],
   "source": [
    "(df.loc['9',['FWHM_y', 'FWHM_z']]-df.loc['10',['FWHM_y', 'FWHM_z']])/df.loc['10',['FWHM_y', 'FWHM_z']]"
   ]
  },
  {
   "cell_type": "code",
   "execution_count": null,
   "metadata": {},
   "outputs": [],
   "source": []
  }
 ],
 "metadata": {
  "kernelspec": {
   "display_name": "Python 3",
   "language": "python",
   "name": "python3"
  },
  "language_info": {
   "codemirror_mode": {
    "name": "ipython",
    "version": 3
   },
   "file_extension": ".py",
   "mimetype": "text/x-python",
   "name": "python",
   "nbconvert_exporter": "python",
   "pygments_lexer": "ipython3",
   "version": "3.8.1"
  }
 },
 "nbformat": 4,
 "nbformat_minor": 4
}
