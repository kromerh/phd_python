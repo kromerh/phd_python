{
 "cells": [
  {
   "cell_type": "code",
   "execution_count": 5,
   "metadata": {},
   "outputs": [
    {
     "ename": "FileNotFoundError",
     "evalue": "[Errno 2] No such file or directory: '/Users/hkromer/02_PhD/02_Data/01_COMSOL/01_IonOptics/03.new_chamber/07.final_design/07.final_design.no_extraction/V_bias/particleData/'",
     "output_type": "error",
     "traceback": [
      "\u001b[0;31m---------------------------------------------------------------------------\u001b[0m",
      "\u001b[0;31mFileNotFoundError\u001b[0m                         Traceback (most recent call last)",
      "\u001b[0;32m<ipython-input-5-7af2af2f8009>\u001b[0m in \u001b[0;36m<module>\u001b[0;34m\u001b[0m\n\u001b[1;32m     31\u001b[0m \u001b[0mfolder\u001b[0m \u001b[0;34m=\u001b[0m \u001b[0;34m'/Users/hkromer/02_PhD/02_Data/01_COMSOL/01_IonOptics/03.new_chamber/07.final_design/07.final_design.no_extraction/V_bias/particleData/'\u001b[0m\u001b[0;34m\u001b[0m\u001b[0;34m\u001b[0m\u001b[0m\n\u001b[1;32m     32\u001b[0m \u001b[0moutfolder\u001b[0m \u001b[0;34m=\u001b[0m \u001b[0;34m'/Users/hkromer/polybox/Thesis/Chapters/FurtherNeutronGeneratorUpgrades/Figures/COMSOL_final_WITH_extraction_V_bias/'\u001b[0m\u001b[0;34m\u001b[0m\u001b[0;34m\u001b[0m\u001b[0m\n\u001b[0;32m---> 33\u001b[0;31m \u001b[0mfiles\u001b[0m \u001b[0;34m=\u001b[0m \u001b[0mos\u001b[0m\u001b[0;34m.\u001b[0m\u001b[0mlistdir\u001b[0m\u001b[0;34m(\u001b[0m\u001b[0mfolder\u001b[0m\u001b[0;34m)\u001b[0m\u001b[0;34m\u001b[0m\u001b[0;34m\u001b[0m\u001b[0m\n\u001b[0m\u001b[1;32m     34\u001b[0m \u001b[0mfiles\u001b[0m\u001b[0;34m\u001b[0m\u001b[0;34m\u001b[0m\u001b[0m\n",
      "\u001b[0;31mFileNotFoundError\u001b[0m: [Errno 2] No such file or directory: '/Users/hkromer/02_PhD/02_Data/01_COMSOL/01_IonOptics/03.new_chamber/07.final_design/07.final_design.no_extraction/V_bias/particleData/'"
     ]
    }
   ],
   "source": [
    "import pandas as pd\n",
    "import numpy as np\n",
    "import os\n",
    "import sys\n",
    "import re\n",
    "import matplotlib.pyplot as plt\n",
    "from scipy.optimize import minimize\n",
    "from scipy.optimize import curve_fit\n",
    "\n",
    "from scipy.stats import kde\n",
    "from scipy import optimize\n",
    "\n",
    "from matplotlib.ticker import NullFormatter\n",
    "from matplotlib import pyplot, transforms\n",
    "import matplotlib\n",
    "from matplotlib.ticker import AutoMinorLocator\n",
    "%matplotlib inline\n",
    "import os\n",
    "os.environ[\"PATH\"] += os.pathsep + '/usr/local/texlive/2018/bin/x86_64-darwin'\n",
    "plt.rc('text', usetex=True)\n",
    "plt.rc('font', weight='bold')\n",
    "matplotlib.rcParams['mathtext.fontset'] = 'custom'\n",
    "matplotlib.rcParams['mathtext.rm'] = 'Arial'\n",
    "matplotlib.rcParams['mathtext.it'] = 'Arial:italic'\n",
    "matplotlib.rcParams['mathtext.bf'] = 'Arial:bold'\n",
    "matplotlib.rcParams['mathtext.tt'] = 'Arial'\n",
    "matplotlib.rcParams['mathtext.cal'] = 'Arial'\n",
    "matplotlib.rcParams['text.latex.preamble'] = [r'\\usepackage{sfmath} \\boldmath']\n",
    "\n",
    "\n",
    "folder = '/Users/hkromer/02_PhD/02_Data/01_COMSOL/01_IonOptics/03.new_chamber/07.final_design/07.final_design.no_extraction/V_bias/particleData/'\n",
    "outfolder = '/Users/hkromer/polybox/Thesis/Chapters/FurtherNeutronGeneratorUpgrades/Figures/COMSOL_final_WITH_extraction_V_bias/'\n",
    "files = os.listdir(folder)\n",
    "files"
   ]
  },
  {
   "cell_type": "code",
   "execution_count": 6,
   "metadata": {},
   "outputs": [],
   "source": [
    "def preprocess_COMSOL_sweep(fname, sweep_vals):\n",
    "    \"\"\"\n",
    "    fname: csv file of COMSOL output to read\n",
    "    sweep_vals: what are the sweep values in a list\n",
    "    \n",
    "    Returns a dictionary with the dataframes qx qy qz for each file\n",
    "    \"\"\"\n",
    "    \n",
    "    # read the data and format the , correctly\n",
    "    data = pd.read_csv(fname, skiprows=8, index_col=0, nrows=10, delimiter=r'\\s+', header=None)\n",
    "    with open(fname, 'r') as file:\n",
    "        for line in file:\n",
    "            if 'Index' in line:\n",
    "                cols = line.rstrip().split(',')\n",
    "                break\n",
    "        file.close()\n",
    "    col_str = ''.join(cols)\n",
    "    col_str = col_str.replace('q', ' ,q')\n",
    "    col_list = col_str.split(',')\n",
    "    col_list = col_list[1:]\n",
    "\n",
    "    \n",
    "\n",
    "    # read the data again, use the columns found before as the headers\n",
    "    data = pd.read_csv(fname, skiprows=8, index_col=0, header=None, delimiter=r'\\s+')\n",
    "    data.columns = col_list\n",
    "\n",
    "    # filter the columns\n",
    "    d_sweep = {}\n",
    "    # dictionary of the dataframes, each dataframe is a separate sweep value\n",
    "    dic_dfs = {}\n",
    "    for val in sweep_vals:\n",
    "        # find the \n",
    "        cols = [c for c in data.columns if val == re.findall(r'=(\\S*)', c)[1]]\n",
    "        d_sweep[val] = cols\n",
    "    # add each dataframe to a separate place in the dictionary\n",
    "    for key in d_sweep.keys():\n",
    "        this_data = data.loc[:,d_sweep[key]]\n",
    "        # rename the columns in qx, qy, qz\n",
    "        new_cols = []\n",
    "        for c in cols:\n",
    "            if 'qx' in c:\n",
    "                new_cols.append('qx')\n",
    "            if 'qy' in c:\n",
    "                new_cols.append('qy')\n",
    "            if 'qz' in c:\n",
    "                new_cols.append('qz')\n",
    "        this_data.columns = new_cols\n",
    "\n",
    "        dic_dfs[key] = this_data\n",
    "\n",
    "    return dic_dfs"
   ]
  },
  {
   "cell_type": "code",
   "execution_count": 7,
   "metadata": {},
   "outputs": [],
   "source": [
    "def make_plot_KDE(data, outfolder, figname, axis_lim):\n",
    "    \"\"\"\n",
    "    Makes the gaussian kde and the y z plot.\n",
    "    data is the dataframe with qx, qy, qz as headers and reach row is one sample data with the respecitve positions\n",
    "    \"\"\"\n",
    "    nbins = 200\n",
    "    lim = axis_lim\n",
    "    #     print(data[pd.isnull(data).any(axis=1)])\n",
    "    # save as csv\n",
    "    data.to_csv(f'{outfolder}/{figname}.csv')\n",
    "    x = data['qy'].values\n",
    "    y = data['qz'].values\n",
    "    my_data = np.vstack([x, y])\n",
    "    k = kde.gaussian_kde(my_data)\n",
    "\n",
    "    xi, yi = np.mgrid[-lim:lim:nbins*1j, -lim:lim:nbins*1j]\n",
    "    zi = k(np.vstack([xi.flatten(), yi.flatten()]))\n",
    "#     print(zi.reshape(xi.shape))\n",
    "    # plot\n",
    "    fs = 20\n",
    "\n",
    "    f = plt.figure(1, figsize=(9, 9))\n",
    "\n",
    "    nullfmt = NullFormatter()         # no labels\n",
    "    # definitions for the axes\n",
    "    left, width = 0.12, 0.65\n",
    "    bottom, height = 0.12, 0.65\n",
    "    rect_scatter = [left, bottom, width, height]\n",
    "    axScatter = plt.axes(rect_scatter)\n",
    "    p = axScatter.pcolormesh(xi, yi, zi.reshape(xi.shape), shading='gouraud', cmap=plt.cm.jet)\n",
    "    plt.axis('equal')\n",
    "    plt.xlabel(r'\\textbf{y [mm]}', fontsize=fs)\n",
    "    plt.ylabel(r'\\textbf{z [mm]}', fontsize=fs)\n",
    "    axScatter.tick_params('x', colors='black', labelsize=fs-2)\n",
    "    axScatter.tick_params('y', colors='black', labelsize=fs-2)\n",
    "    plt.yticks(np.arange(-lim,lim+1,1))\n",
    "    plt.xticks(np.arange(-lim,lim+1,1))\n",
    "\n",
    "\n",
    "    left = 0.8\n",
    "    bottom = 0.12\n",
    "    width = 0.05\n",
    "    height = 0.65\n",
    "    cax = f.add_axes([left, bottom, width, height])\n",
    "    cbar = f.colorbar(p, cax, ticks=[0,0.05,0.1,0.15,0.20,0.25,0.30,0.35,0.40])\n",
    "#     print(np.max(zi))\n",
    "    cbar.ax.tick_params(labelsize=fs-2)\n",
    "    plt.savefig(f'{outfolder}/{figname}.pdf')\n",
    "\n",
    "    plt.show()\n",
    "\n",
    "    # query from the estimated pdf\n",
    "    qry_eval = np.linspace(-lim,lim,100)\n",
    "    eval_x = [k.evaluate([x,0])[0] for x in qry_eval] # for z = 0 in the upper plot\n",
    "    eval_y = [k.evaluate([0,y])[0] for y in qry_eval] # for y = 0 in the upper plot\n",
    "\n",
    "    # fit FWHM\n",
    "    def gauss(x, a, x0, sigma):\n",
    "        return a * np.exp(-(x-x0)**2/(2*sigma**2))\n",
    "\n",
    "\n",
    "    p0 = [1, 1, 1] # Initial guess for the parameters\n",
    "    # fit for parallel to x axis\n",
    "    X = qry_eval\n",
    "    Y = eval_x\n",
    "    popt, pcov = curve_fit(gauss, X, Y, p0, maxfev=30000)\n",
    "    A_x, x0_x, sigma_x = popt\n",
    "    Y_fit_x = gauss(X, *popt)\n",
    "    FWHM_x = 2 * sigma_x * np.sqrt(2 * np.log(2))  # FWHM\n",
    "    print(f'FWHM in x: {FWHM_x}')\n",
    "\n",
    "    # fit for parallel to y axis\n",
    "    X = qry_eval\n",
    "    Y = eval_y\n",
    "    popt, pcov = curve_fit(gauss, X, Y, p0, maxfev=30000)\n",
    "    A_y, x0_y, sigma_y = popt\n",
    "    FWHM_y = 2 * sigma_y * np.sqrt(2 * np.log(2))  # FWHM\n",
    "    print(f'FWHM in y: {FWHM_y}')\n",
    "    Y_fit_y = gauss(X, *popt)\n",
    "#     print(gauss(x0_y, *popt), A_y)\n",
    "\n",
    "    f = plt.figure(1, figsize=(8, 6.4))\n",
    "    ylims = (-0.01, 0.30)\n",
    "    # top plot\n",
    "    plt.subplot(2, 1, 1)\n",
    "    plt.plot(qry_eval, eval_x, color='darkblue', linewidth=2.0, label='z=0')\n",
    "    plt.plot(qry_eval, Y_fit_x, color='darkred',linewidth=2.0, label='Gaussian fit')\n",
    "    plt.plot([-FWHM_x/2,FWHM_x/2],[A_x/2,A_x/2], '--', color='black')\n",
    "    plt.text(-0.7, .06, f'FWHM = {FWHM_x:.2f} mm', fontsize=14)\n",
    "    plt.xlabel(r'\\textbf{y [mm]}', fontsize=fs)\n",
    "    plt.ylabel(r'\\textbf{Estimated PDF [-]}', fontsize=fs)\n",
    "    ax = plt.gca()\n",
    "    ax.tick_params('x', colors='black', labelsize=fs-2)\n",
    "    ax.tick_params('y', colors='black', labelsize=fs-2)\n",
    "    minor_locator = AutoMinorLocator(2)\n",
    "    ax.xaxis.set_minor_locator(minor_locator)\n",
    "    minor_locator = AutoMinorLocator(2)\n",
    "    ax.yaxis.set_minor_locator(minor_locator)\n",
    "    ax.grid(b=True, which='major', linestyle='-')\n",
    "    ax.grid(b=True, which='minor', linestyle='--')\n",
    "    plt.yticks(np.arange(0,0.4,0.1))\n",
    "    plt.xticks(np.arange(-3,4,1))\n",
    "    leg1 = plt.legend(loc=\"best\",  fontsize=12)\n",
    "    plt.ylim(ylims)\n",
    "    # bottom plot\n",
    "    plt.subplot(2, 1, 2)\n",
    "    plt.plot(qry_eval, eval_y, color='darkorange', linewidth=2.0, label='y=0')\n",
    "    plt.plot(qry_eval, Y_fit_y, color='darkred',linewidth=2.0, label='Gaussian fit')\n",
    "    plt.plot([-FWHM_y/2+x0_y,FWHM_y/2+x0_y],[gauss(-FWHM_y/2+x0_y,*popt),gauss(FWHM_y/2+x0_y,*popt)], '--', color='black')\n",
    "  \n",
    "    plt.text(-0.3, .06, f'FWHM = {FWHM_y:.2f} mm', fontsize=14)\n",
    "    plt.xlabel(r'\\textbf{z [mm]}', fontsize=fs)\n",
    "    plt.ylabel(r'\\textbf{Estimated PDF [-]}', fontsize=fs)\n",
    "    ax = plt.gca()\n",
    "    ax.tick_params('x', colors='black', labelsize=fs-2)\n",
    "    ax.tick_params('y', colors='black', labelsize=fs-2)\n",
    "    minor_locator = AutoMinorLocator(2)\n",
    "    ax.xaxis.set_minor_locator(minor_locator)\n",
    "    minor_locator = AutoMinorLocator(2)\n",
    "    ax.yaxis.set_minor_locator(minor_locator)\n",
    "    ax.grid(b=True, which='major', linestyle='-')\n",
    "    ax.grid(b=True, which='minor', linestyle='--')\n",
    "    plt.yticks(np.arange(0,0.4,0.1))\n",
    "    plt.xticks(np.arange(-3,4,1))\n",
    "    leg1 = plt.legend(loc=\"best\",  fontsize=12)\n",
    "    # leg1.set_title(r\"Experiment number\", prop = {'size': 12})\n",
    "    plt.tight_layout()\n",
    "    plt.ylim(ylims)\n",
    "    plt.savefig(f'{outfolder}/{figname}_YZ.pdf')\n",
    "    plt.show()"
   ]
  },
  {
   "cell_type": "markdown",
   "metadata": {},
   "source": [
    "# File 01"
   ]
  },
  {
   "cell_type": "code",
   "execution_count": 8,
   "metadata": {},
   "outputs": [
    {
     "ename": "NameError",
     "evalue": "name 'files' is not defined",
     "output_type": "error",
     "traceback": [
      "\u001b[0;31m---------------------------------------------------------------------------\u001b[0m",
      "\u001b[0;31mNameError\u001b[0m                                 Traceback (most recent call last)",
      "\u001b[0;32m<ipython-input-8-ded678552710>\u001b[0m in \u001b[0;36m<module>\u001b[0;34m\u001b[0m\n\u001b[1;32m      3\u001b[0m \u001b[0msweep_vals\u001b[0m \u001b[0;34m=\u001b[0m \u001b[0;34m[\u001b[0m\u001b[0;34m'0'\u001b[0m\u001b[0;34m,\u001b[0m \u001b[0;34m'0.2'\u001b[0m\u001b[0;34m,\u001b[0m \u001b[0;34m'0.8'\u001b[0m\u001b[0;34m]\u001b[0m\u001b[0;34m\u001b[0m\u001b[0;34m\u001b[0m\u001b[0m\n\u001b[1;32m      4\u001b[0m \u001b[0;34m\u001b[0m\u001b[0m\n\u001b[0;32m----> 5\u001b[0;31m \u001b[0mfignames\u001b[0m \u001b[0;34m=\u001b[0m \u001b[0;34m[\u001b[0m\u001b[0mf\u001b[0m\u001b[0;34m.\u001b[0m\u001b[0mreplace\u001b[0m\u001b[0;34m(\u001b[0m\u001b[0;34m'.txt'\u001b[0m\u001b[0;34m,\u001b[0m \u001b[0;34m''\u001b[0m\u001b[0;34m)\u001b[0m \u001b[0;32mfor\u001b[0m \u001b[0mf\u001b[0m \u001b[0;32min\u001b[0m \u001b[0mfiles\u001b[0m\u001b[0;34m]\u001b[0m\u001b[0;34m\u001b[0m\u001b[0;34m\u001b[0m\u001b[0m\n\u001b[0m\u001b[1;32m      6\u001b[0m \u001b[0mdatafiles\u001b[0m \u001b[0;34m=\u001b[0m \u001b[0;34m[\u001b[0m\u001b[0;34mf\"{folder}{f}\"\u001b[0m \u001b[0;32mfor\u001b[0m \u001b[0mf\u001b[0m \u001b[0;32min\u001b[0m \u001b[0mfiles\u001b[0m\u001b[0;34m]\u001b[0m\u001b[0;34m\u001b[0m\u001b[0;34m\u001b[0m\u001b[0m\n\u001b[1;32m      7\u001b[0m \u001b[0mprint\u001b[0m\u001b[0;34m(\u001b[0m\u001b[0mdatafiles\u001b[0m \u001b[0;34m)\u001b[0m\u001b[0;34m\u001b[0m\u001b[0;34m\u001b[0m\u001b[0m\n",
      "\u001b[0;31mNameError\u001b[0m: name 'files' is not defined"
     ]
    }
   ],
   "source": [
    "ii = 1\n",
    "\n",
    "sweep_vals = ['0', '0.2', '0.8']\n",
    "\n",
    "fignames = [f.replace('.txt', '') for f in files]\n",
    "datafiles = [f\"{folder}{f}\" for f in files]\n",
    "print(datafiles )\n",
    "fname = datafiles[ii]\n",
    "fname"
   ]
  },
  {
   "cell_type": "code",
   "execution_count": 9,
   "metadata": {},
   "outputs": [
    {
     "ename": "NameError",
     "evalue": "name 'fname' is not defined",
     "output_type": "error",
     "traceback": [
      "\u001b[0;31m---------------------------------------------------------------------------\u001b[0m",
      "\u001b[0;31mNameError\u001b[0m                                 Traceback (most recent call last)",
      "\u001b[0;32m<ipython-input-9-65e9911f3e55>\u001b[0m in \u001b[0;36m<module>\u001b[0;34m\u001b[0m\n\u001b[0;32m----> 1\u001b[0;31m \u001b[0mdic_dfs\u001b[0m \u001b[0;34m=\u001b[0m \u001b[0mpreprocess_COMSOL_sweep\u001b[0m\u001b[0;34m(\u001b[0m\u001b[0mfname\u001b[0m\u001b[0;34m,\u001b[0m \u001b[0msweep_vals\u001b[0m\u001b[0;34m)\u001b[0m\u001b[0;34m\u001b[0m\u001b[0;34m\u001b[0m\u001b[0m\n\u001b[0m\u001b[1;32m      2\u001b[0m \u001b[0;32mfor\u001b[0m \u001b[0mkey\u001b[0m \u001b[0;32min\u001b[0m \u001b[0mdic_dfs\u001b[0m\u001b[0;34m:\u001b[0m\u001b[0;34m\u001b[0m\u001b[0;34m\u001b[0m\u001b[0m\n\u001b[1;32m      3\u001b[0m     \u001b[0mdata\u001b[0m \u001b[0;34m=\u001b[0m \u001b[0mdic_dfs\u001b[0m\u001b[0;34m[\u001b[0m\u001b[0mkey\u001b[0m\u001b[0;34m]\u001b[0m\u001b[0;34m\u001b[0m\u001b[0;34m\u001b[0m\u001b[0m\n\u001b[1;32m      4\u001b[0m     \u001b[0mfigname\u001b[0m \u001b[0;34m=\u001b[0m \u001b[0;34mf\"{files[ii]}_{key}\"\u001b[0m\u001b[0;34m\u001b[0m\u001b[0;34m\u001b[0m\u001b[0m\n\u001b[1;32m      5\u001b[0m     \u001b[0mmake_plot_KDE\u001b[0m\u001b[0;34m(\u001b[0m\u001b[0mdata\u001b[0m\u001b[0;34m,\u001b[0m \u001b[0moutfolder\u001b[0m\u001b[0;34m,\u001b[0m \u001b[0mfigname\u001b[0m\u001b[0;34m,\u001b[0m \u001b[0maxis_lim\u001b[0m\u001b[0;34m=\u001b[0m\u001b[0;36m3\u001b[0m\u001b[0;34m)\u001b[0m\u001b[0;34m\u001b[0m\u001b[0;34m\u001b[0m\u001b[0m\n",
      "\u001b[0;31mNameError\u001b[0m: name 'fname' is not defined"
     ]
    }
   ],
   "source": [
    "dic_dfs = preprocess_COMSOL_sweep(fname, sweep_vals)\n",
    "for key in dic_dfs:\n",
    "    data = dic_dfs[key]\n",
    "    figname = f\"{files[ii]}_{key}\"\n",
    "    make_plot_KDE(data, outfolder, figname, axis_lim=3)"
   ]
  },
  {
   "cell_type": "code",
   "execution_count": null,
   "metadata": {},
   "outputs": [],
   "source": []
  },
  {
   "cell_type": "markdown",
   "metadata": {},
   "source": [
    "# File 02"
   ]
  },
  {
   "cell_type": "code",
   "execution_count": 10,
   "metadata": {},
   "outputs": [
    {
     "ename": "NameError",
     "evalue": "name 'files' is not defined",
     "output_type": "error",
     "traceback": [
      "\u001b[0;31m---------------------------------------------------------------------------\u001b[0m",
      "\u001b[0;31mNameError\u001b[0m                                 Traceback (most recent call last)",
      "\u001b[0;32m<ipython-input-10-d730d20b9934>\u001b[0m in \u001b[0;36m<module>\u001b[0;34m\u001b[0m\n\u001b[1;32m      3\u001b[0m \u001b[0msweep_vals\u001b[0m \u001b[0;34m=\u001b[0m \u001b[0;34m[\u001b[0m\u001b[0;34m'1'\u001b[0m\u001b[0;34m,\u001b[0m \u001b[0;34m'1.4'\u001b[0m\u001b[0;34m,\u001b[0m \u001b[0;34m'2'\u001b[0m\u001b[0;34m]\u001b[0m\u001b[0;34m\u001b[0m\u001b[0;34m\u001b[0m\u001b[0m\n\u001b[1;32m      4\u001b[0m \u001b[0;34m\u001b[0m\u001b[0m\n\u001b[0;32m----> 5\u001b[0;31m \u001b[0mfignames\u001b[0m \u001b[0;34m=\u001b[0m \u001b[0;34m[\u001b[0m\u001b[0mf\u001b[0m\u001b[0;34m.\u001b[0m\u001b[0mreplace\u001b[0m\u001b[0;34m(\u001b[0m\u001b[0;34m'.txt'\u001b[0m\u001b[0;34m,\u001b[0m \u001b[0;34m''\u001b[0m\u001b[0;34m)\u001b[0m \u001b[0;32mfor\u001b[0m \u001b[0mf\u001b[0m \u001b[0;32min\u001b[0m \u001b[0mfiles\u001b[0m\u001b[0;34m]\u001b[0m\u001b[0;34m\u001b[0m\u001b[0;34m\u001b[0m\u001b[0m\n\u001b[0m\u001b[1;32m      6\u001b[0m \u001b[0mdatafiles\u001b[0m \u001b[0;34m=\u001b[0m \u001b[0;34m[\u001b[0m\u001b[0;34mf\"{folder}{f}\"\u001b[0m \u001b[0;32mfor\u001b[0m \u001b[0mf\u001b[0m \u001b[0;32min\u001b[0m \u001b[0mfiles\u001b[0m\u001b[0;34m]\u001b[0m\u001b[0;34m\u001b[0m\u001b[0;34m\u001b[0m\u001b[0m\n\u001b[1;32m      7\u001b[0m \u001b[0mprint\u001b[0m\u001b[0;34m(\u001b[0m\u001b[0mdatafiles\u001b[0m \u001b[0;34m)\u001b[0m\u001b[0;34m\u001b[0m\u001b[0;34m\u001b[0m\u001b[0m\n",
      "\u001b[0;31mNameError\u001b[0m: name 'files' is not defined"
     ]
    }
   ],
   "source": [
    "ii = 0\n",
    "\n",
    "sweep_vals = ['1', '1.4', '2']\n",
    "\n",
    "fignames = [f.replace('.txt', '') for f in files]\n",
    "datafiles = [f\"{folder}{f}\" for f in files]\n",
    "print(datafiles )\n",
    "fname = datafiles[ii]\n",
    "fname"
   ]
  },
  {
   "cell_type": "code",
   "execution_count": 11,
   "metadata": {},
   "outputs": [
    {
     "ename": "NameError",
     "evalue": "name 'fname' is not defined",
     "output_type": "error",
     "traceback": [
      "\u001b[0;31m---------------------------------------------------------------------------\u001b[0m",
      "\u001b[0;31mNameError\u001b[0m                                 Traceback (most recent call last)",
      "\u001b[0;32m<ipython-input-11-65e9911f3e55>\u001b[0m in \u001b[0;36m<module>\u001b[0;34m\u001b[0m\n\u001b[0;32m----> 1\u001b[0;31m \u001b[0mdic_dfs\u001b[0m \u001b[0;34m=\u001b[0m \u001b[0mpreprocess_COMSOL_sweep\u001b[0m\u001b[0;34m(\u001b[0m\u001b[0mfname\u001b[0m\u001b[0;34m,\u001b[0m \u001b[0msweep_vals\u001b[0m\u001b[0;34m)\u001b[0m\u001b[0;34m\u001b[0m\u001b[0;34m\u001b[0m\u001b[0m\n\u001b[0m\u001b[1;32m      2\u001b[0m \u001b[0;32mfor\u001b[0m \u001b[0mkey\u001b[0m \u001b[0;32min\u001b[0m \u001b[0mdic_dfs\u001b[0m\u001b[0;34m:\u001b[0m\u001b[0;34m\u001b[0m\u001b[0;34m\u001b[0m\u001b[0m\n\u001b[1;32m      3\u001b[0m     \u001b[0mdata\u001b[0m \u001b[0;34m=\u001b[0m \u001b[0mdic_dfs\u001b[0m\u001b[0;34m[\u001b[0m\u001b[0mkey\u001b[0m\u001b[0;34m]\u001b[0m\u001b[0;34m\u001b[0m\u001b[0;34m\u001b[0m\u001b[0m\n\u001b[1;32m      4\u001b[0m     \u001b[0mfigname\u001b[0m \u001b[0;34m=\u001b[0m \u001b[0;34mf\"{files[ii]}_{key}\"\u001b[0m\u001b[0;34m\u001b[0m\u001b[0;34m\u001b[0m\u001b[0m\n\u001b[1;32m      5\u001b[0m     \u001b[0mmake_plot_KDE\u001b[0m\u001b[0;34m(\u001b[0m\u001b[0mdata\u001b[0m\u001b[0;34m,\u001b[0m \u001b[0moutfolder\u001b[0m\u001b[0;34m,\u001b[0m \u001b[0mfigname\u001b[0m\u001b[0;34m,\u001b[0m \u001b[0maxis_lim\u001b[0m\u001b[0;34m=\u001b[0m\u001b[0;36m3\u001b[0m\u001b[0;34m)\u001b[0m\u001b[0;34m\u001b[0m\u001b[0;34m\u001b[0m\u001b[0m\n",
      "\u001b[0;31mNameError\u001b[0m: name 'fname' is not defined"
     ]
    }
   ],
   "source": [
    "dic_dfs = preprocess_COMSOL_sweep(fname, sweep_vals)\n",
    "for key in dic_dfs:\n",
    "    data = dic_dfs[key]\n",
    "    figname = f\"{files[ii]}_{key}\"\n",
    "    make_plot_KDE(data, outfolder, figname, axis_lim=3)"
   ]
  },
  {
   "cell_type": "markdown",
   "metadata": {},
   "source": [
    "# Load data and plot FWHM vs extraction"
   ]
  },
  {
   "cell_type": "code",
   "execution_count": 12,
   "metadata": {},
   "outputs": [],
   "source": [
    "import pandas as pd\n",
    "import numpy as np\n",
    "import os\n",
    "import sys\n",
    "import re\n",
    "import matplotlib.pyplot as plt\n",
    "from scipy.optimize import minimize\n",
    "from scipy.optimize import curve_fit\n",
    "\n",
    "from scipy.stats import kde\n",
    "from scipy import optimize\n",
    "\n",
    "from matplotlib.ticker import NullFormatter\n",
    "from matplotlib import pyplot, transforms\n",
    "import matplotlib\n",
    "from matplotlib.ticker import AutoMinorLocator\n",
    "%matplotlib inline\n",
    "import os\n",
    "os.environ[\"PATH\"] += os.pathsep + '/usr/local/texlive/2018/bin/x86_64-darwin'\n",
    "plt.rc('text', usetex=True)\n",
    "plt.rc('font', weight='bold')\n",
    "matplotlib.rcParams['mathtext.fontset'] = 'custom'\n",
    "matplotlib.rcParams['mathtext.rm'] = 'Arial'\n",
    "matplotlib.rcParams['mathtext.it'] = 'Arial:italic'\n",
    "matplotlib.rcParams['mathtext.bf'] = 'Arial:bold'\n",
    "matplotlib.rcParams['mathtext.tt'] = 'Arial'\n",
    "matplotlib.rcParams['mathtext.cal'] = 'Arial'\n",
    "matplotlib.rcParams['text.latex.preamble'] = [r'\\usepackage{sfmath} \\boldmath']\n",
    "import re\n"
   ]
  },
  {
   "cell_type": "code",
   "execution_count": 13,
   "metadata": {},
   "outputs": [
    {
     "data": {
      "text/plain": [
       "['07.final_design.no_extraction.4mmFillet.100kV.0.2mesh.refined.WITHEXTRACTION_01.txt_0.8.csv',\n",
       " '07.final_design.no_extraction.4mmFillet.100kV.0.2mesh.refined.WITHEXTRACTION_01.txt_0.csv',\n",
       " '07.final_design.no_extraction.4mmFillet.100kV.0.2mesh.refined.WITHEXTRACTION_02.txt_2.csv',\n",
       " '07.final_design.no_extraction.4mmFillet.100kV.0.2mesh.refined.WITHEXTRACTION_02.txt_1.csv',\n",
       " '07.final_design.no_extraction.4mmFillet.100kV.0.2mesh.refined.WITHEXTRACTION_02.txt_1.4.csv',\n",
       " '07.final_design.no_extraction.4mmFillet.100kV.0.2mesh.refined.WITHEXTRACTION_01.txt_0.2.csv']"
      ]
     },
     "execution_count": 13,
     "metadata": {},
     "output_type": "execute_result"
    }
   ],
   "source": [
    "folder = '/Users/hkromer/polybox/Thesis/Chapters/FurtherNeutronGeneratorUpgrades/Figures/COMSOL_final_WITH_extraction_V_bias/'\n",
    "files = [f for f in os.listdir(folder) if f.endswith('csv')]\n",
    "files"
   ]
  },
  {
   "cell_type": "code",
   "execution_count": 14,
   "metadata": {},
   "outputs": [],
   "source": [
    "bias = [re.findall(r'.txt_(.*?).csv', f)[0] for f in files] # bias in kV\n",
    "bias = np.asarray(bias, dtype=np.float64)\n"
   ]
  },
  {
   "cell_type": "code",
   "execution_count": 15,
   "metadata": {},
   "outputs": [],
   "source": [
    "def get_FWHM(x, k, r, ax):\n",
    "    \"\"\"\n",
    "    Get the FWHMs parallel to the axis: ax\n",
    "    \"\"\"\n",
    "    assert ax in ['x', 'y']\n",
    "    if ax == 'x':\n",
    "        y = [k.evaluate([y,r])[0] for y in x]\n",
    "    else:\n",
    "        y = [k.evaluate([r,y])[0] for y in x]\n",
    "    \n",
    "    if np.max(y) > 1e-4:\n",
    "        def find_nearest(array, value):\n",
    "\n",
    "            array = np.asarray(array)\n",
    "            dis = (np.abs(array - value))\n",
    "#             if len(dis) < 5:\n",
    "#                 print(y, array, value)\n",
    "            idx = dis.argmin()\n",
    "\n",
    "            return idx, array[idx]\n",
    "\n",
    "        Y_max = np.max(y)\n",
    "        Y_max_half = Y_max/2.0\n",
    "    #     print(Y_max, Y_max_half)\n",
    "        # x point on positive and side\n",
    "        idx_0 = find_nearest(x, Y_max)[0]\n",
    "        idx_pos_max_half = find_nearest(y[idx_0:], Y_max_half)[0]\n",
    "        idx_neg_max_half = find_nearest(y[:idx_0], Y_max_half)[0]\n",
    "    #     print(find_nearest(eval_x[idx_0:], Y_max_half))\n",
    "        # FWHM\n",
    "        FWHM = x[idx_pos_max_half+idx_0]-x[idx_neg_max_half]\n",
    "\n",
    "    #     return x[idx_neg_max_half], x[idx_pos_max_half+idx_0], FWHM\n",
    "        return FWHM\n",
    "    else:\n",
    "        return 0\n",
    "\n",
    "def get_max_FWHMs(data, nbins=400, eval_points=300, lim=4):\n",
    "    \"\"\"\n",
    "    returns the maximum values for the FWHM paralell to x and y direction. X is corresponding to parallel to y, z is parallel to y\n",
    "    \"\"\"\n",
    "    x = data['qy'].values\n",
    "    y = data['qz'].values\n",
    "    my_data = np.vstack([x, y])\n",
    "    k = kde.gaussian_kde(my_data)\n",
    "\n",
    "    xi, yi = np.mgrid[-lim:lim:nbins*1j, -lim:lim:nbins*1j]\n",
    "    zi = k(np.vstack([xi.flatten(), yi.flatten()]))\n",
    "\n",
    "    eval_points \n",
    "    qry_eval = np.linspace(-lim,lim,eval_points)\n",
    "\n",
    "    df = pd.DataFrame({'qry_eval': qry_eval})\n",
    "    df['FWHM_z'] = df['qry_eval'].apply(lambda r: get_FWHM(qry_eval, k, r, ax='y'))\n",
    "    df['FWHM_y'] = df['qry_eval'].apply(lambda r: get_FWHM(qry_eval, k, r, ax='x'))\n",
    "    FWHM_y = np.max(df['FWHM_y'] )\n",
    "    FWHM_z = np.max(df['FWHM_z'] )\n",
    "    \n",
    "    return pd.Series([FWHM_y, FWHM_z], index=['FWHM_y', 'FWHM_z'])"
   ]
  },
  {
   "cell_type": "code",
   "execution_count": 16,
   "metadata": {},
   "outputs": [],
   "source": [
    "df_fwhm = pd.DataFrame()\n",
    "for file in files:\n",
    "    data = pd.read_csv(f\"{folder}/{file}\")\n",
    "    s = get_max_FWHMs(data, nbins=400, eval_points=300, lim=4)\n",
    "    df_fwhm[file] = s"
   ]
  },
  {
   "cell_type": "code",
   "execution_count": 17,
   "metadata": {},
   "outputs": [],
   "source": [
    "df_fwhm.columns = bias\n",
    "df_fwhm = df_fwhm.T\n",
    "df_fwhm = df_fwhm.sort_index()"
   ]
  },
  {
   "cell_type": "code",
   "execution_count": 20,
   "metadata": {},
   "outputs": [
    {
     "data": {
      "text/html": [
       "<div>\n",
       "<style scoped>\n",
       "    .dataframe tbody tr th:only-of-type {\n",
       "        vertical-align: middle;\n",
       "    }\n",
       "\n",
       "    .dataframe tbody tr th {\n",
       "        vertical-align: top;\n",
       "    }\n",
       "\n",
       "    .dataframe thead th {\n",
       "        text-align: right;\n",
       "    }\n",
       "</style>\n",
       "<table border=\"1\" class=\"dataframe\">\n",
       "  <thead>\n",
       "    <tr style=\"text-align: right;\">\n",
       "      <th></th>\n",
       "      <th>FWHM_y</th>\n",
       "      <th>FWHM_z</th>\n",
       "    </tr>\n",
       "  </thead>\n",
       "  <tbody>\n",
       "    <tr>\n",
       "      <th>0.0</th>\n",
       "      <td>1.846154</td>\n",
       "      <td>2.836120</td>\n",
       "    </tr>\n",
       "    <tr>\n",
       "      <th>0.2</th>\n",
       "      <td>1.846154</td>\n",
       "      <td>2.836120</td>\n",
       "    </tr>\n",
       "    <tr>\n",
       "      <th>0.8</th>\n",
       "      <td>1.846154</td>\n",
       "      <td>2.836120</td>\n",
       "    </tr>\n",
       "    <tr>\n",
       "      <th>1.0</th>\n",
       "      <td>1.846154</td>\n",
       "      <td>2.809365</td>\n",
       "    </tr>\n",
       "    <tr>\n",
       "      <th>1.4</th>\n",
       "      <td>1.819398</td>\n",
       "      <td>2.809365</td>\n",
       "    </tr>\n",
       "    <tr>\n",
       "      <th>2.0</th>\n",
       "      <td>1.819398</td>\n",
       "      <td>2.809365</td>\n",
       "    </tr>\n",
       "  </tbody>\n",
       "</table>\n",
       "</div>"
      ],
      "text/plain": [
       "       FWHM_y    FWHM_z\n",
       "0.0  1.846154  2.836120\n",
       "0.2  1.846154  2.836120\n",
       "0.8  1.846154  2.836120\n",
       "1.0  1.846154  2.809365\n",
       "1.4  1.819398  2.809365\n",
       "2.0  1.819398  2.809365"
      ]
     },
     "execution_count": 20,
     "metadata": {},
     "output_type": "execute_result"
    }
   ],
   "source": [
    "df_fwhm"
   ]
  },
  {
   "cell_type": "code",
   "execution_count": null,
   "metadata": {},
   "outputs": [],
   "source": []
  },
  {
   "cell_type": "code",
   "execution_count": 22,
   "metadata": {},
   "outputs": [],
   "source": [
    "OUTFOLDER = '/Users/hkromer/polybox/Thesis/Chapters/FurtherNeutronGeneratorUpgrades/Figures/COMSOL_suppression_FWHM_V_Bias/'\n",
    "FIGNAME = 'COMSOL_suppression_FWHM_V_Bias'\n",
    "df_fwhm.to_csv(f\"{OUTFOLDER}/FWHM_DATA.csv\")\n",
    "# df_fwhm = pd.read_csv(f\"{OUTFOLDER}/FWHM_DATA.csv\", index_col=0)"
   ]
  },
  {
   "cell_type": "code",
   "execution_count": 23,
   "metadata": {},
   "outputs": [
    {
     "data": {
      "image/png": "[encoded data removed]",
      "text/plain": [
       "<Figure size 576x432 with 1 Axes>"
      ]
     },
     "metadata": {
      "needs_background": "light"
     },
     "output_type": "display_data"
    }
   ],
   "source": [
    "# plot for each time\n",
    "fig, ax1 = plt.subplots(figsize=(8, 6))\n",
    "fs = 26\n",
    "\n",
    "\n",
    "x = df_fwhm.index.values\n",
    "c = 'darkblue' # color\n",
    "y = df_fwhm['FWHM_z'].values\n",
    "ax1.plot(x, y, linestyle='-', marker='o', color=c, markersize=10) # y\n",
    "\n",
    "\n",
    "x = df_fwhm.index.values\n",
    "c = 'darkorange' # color\n",
    "y = df_fwhm['FWHM_y'].values\n",
    "ax1.plot(x, y, linestyle='-', marker='s', color=c, markersize=10) # y\n",
    "\n",
    "from matplotlib.lines import Line2D\n",
    "\n",
    "legend_elements = [Line2D([0], [0], marker='o', color='darkblue', label='z',\n",
    "                          markerfacecolor='darkblue', markersize=10),\n",
    "                   Line2D([0], [0], marker='s', color='darkorange', label='y',\n",
    "                          markerfacecolor='darkorange', markersize=10)\n",
    "                   ]\n",
    "\n",
    "# l2 = plt.legend(handles=legend_elements,loc=(0.31, 0.81), handlelength=0, fontsize=14)\n",
    "l2 = plt.legend(handles=legend_elements, loc='lower left', fontsize=fs-6)\n",
    "l2.set_title(r\"\\textbf{Extend along axis}\", prop = {'size': fs-6})\n",
    "\n",
    "ax1.set_xlabel(r\"\\textbf{Bias voltage [-kV]}\", fontsize=fs)\n",
    "ax1.set_ylabel(r\"\\textbf{Top-hat extend [mm]}\", fontsize=fs)\n",
    "\n",
    "ax1.tick_params(axis='y', labelsize=fs-2)\n",
    "ax1.tick_params(axis='x', labelsize=fs-2)\n",
    "\n",
    "# minor ticks x\n",
    "minor_locator = AutoMinorLocator(2)\n",
    "ax1.xaxis.set_minor_locator(minor_locator)\n",
    "# minor ticks y\n",
    "minor_locator = AutoMinorLocator(2)\n",
    "ax1.yaxis.set_minor_locator(minor_locator)\n",
    "\n",
    "ax1.grid(b=True, which='major', linestyle='-')\n",
    "ax1.grid(b=True, which='minor', linestyle='--')\n",
    "\n",
    "\n",
    "plt.ylim(0, 5)\n",
    "plt.xlim(-0.1,2.1)\n",
    "ax1.set_xticks(np.arange(0, 2.2, 0.4))\n",
    "plt.tight_layout()\n",
    "plt.savefig(f\"{OUTFOLDER}{FIGNAME}.pdf\")\n",
    "plt.show()"
   ]
  },
  {
   "cell_type": "code",
   "execution_count": null,
   "metadata": {},
   "outputs": [],
   "source": []
  }
 ],
 "metadata": {
  "kernelspec": {
   "display_name": "Python 3",
   "language": "python",
   "name": "python3"
  },
  "language_info": {
   "codemirror_mode": {
    "name": "ipython",
    "version": 3
   },
   "file_extension": ".py",
   "mimetype": "text/x-python",
   "name": "python",
   "nbconvert_exporter": "python",
   "pygments_lexer": "ipython3",
   "version": "3.8.3"
  }
 },
 "nbformat": 4,
 "nbformat_minor": 4
}
