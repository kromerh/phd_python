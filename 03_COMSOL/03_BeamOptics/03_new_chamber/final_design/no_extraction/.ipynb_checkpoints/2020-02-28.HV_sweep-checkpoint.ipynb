{
 "cells": [
  {
   "cell_type": "markdown",
   "metadata": {},
   "source": [
    "# Different HVs\n",
    "\n",
    "- COMSOL files in /Users/hkromer/02_PhD/02_Data/01_COMSOL/01_IonOptics/03.new_chamber/07.final_design/07.final_design.no_extraction/HV/refined_4mm/07.final_design.no_extraction.4mmFillet.100kV.0.2mesh.refined.0.5mA_out.mph\n",
    "\n",
    "- HV is 60, 100, 130 kV\n",
    "\n",
    "- bias voltage is -1.4 kV\n",
    "\n",
    "- 0.5 mA ion beam current\n"
   ]
  },
  {
   "cell_type": "code",
   "execution_count": null,
   "metadata": {},
   "outputs": [],
   "source": []
  }
 ],
 "metadata": {
  "kernelspec": {
   "display_name": "Python 3",
   "language": "python",
   "name": "python3"
  },
  "language_info": {
   "codemirror_mode": {
    "name": "ipython",
    "version": 3
   },
   "file_extension": ".py",
   "mimetype": "text/x-python",
   "name": "python",
   "nbconvert_exporter": "python",
   "pygments_lexer": "ipython3",
   "version": "3.8.1"
  }
 },
 "nbformat": 4,
 "nbformat_minor": 4
}
