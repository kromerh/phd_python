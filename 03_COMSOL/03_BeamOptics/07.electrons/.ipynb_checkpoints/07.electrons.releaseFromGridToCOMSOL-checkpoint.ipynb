{
 "cells": [
  {
   "cell_type": "markdown",
   "metadata": {},
   "source": [
    "# Preparation of the electron starting positions into COMSOL\n",
    "\n",
    "## COMSOL feature: Release from Datafile\n",
    "\n",
    "### ParticleTracingModuleUsersGuide.pdf, page 110 ff\n",
    "\n",
    "\n",
    "Use a Release from Data File node to release particles by specifying the initial position, velocity, and values of auxiliary dependent variables using data from a text file.\n",
    "Go to Release for information about the following sections: Release Times, Release Current Magnitude, Mass Flow Rate, Released Particle Properties, Initial Particle Temperature, Initial Multiplication Factor, and Advanced Settings.\n",
    "\n",
    "Formatting Guidelines for Files Containing Particle Data\n",
    "The imported data file should be a text file (*.txt) arranged in a spreadsheet format; that is, each row corresponds to a distinct particle and should have the same number of columns as all other rows. Columns can be separated by spaces, tabs, or a combination of the two. Begin a line with the percent (“%”) character to include comments or empty lines in the data file.\n",
    "For example, a data file containing the following text would insert particles at the positions (0.1, 0.2, 0.6) and (0.2, 0.4, 0.8) in a three-dimensional geometry:\n",
    "\n",
    "```\n",
    "  % Initial particle positions\n",
    "  % qx0 qy0 qz0\n",
    "  0.1 0.2 0.6\n",
    "  0.2 0.4 0.8\n",
    "```\n",
    "\n",
    "INITIAL POSITION\n",
    "Browse your computer to select a text file, then click Import to import the data. To remove the imported data, click Discard. Enter the Index of first column containing position data i to indicate which column represents the first coordinate of the particle position vectors. The default value, 0, indicates the first column.\n",
    "\n",
    "INITIAL VELOCITY\n",
    "Select an option from the Initial velocity list: Expression (the default), From file, Kinetic energy and direction, Constant speed, spherical, Constant speed, hemispherical, Constant speed, cone, Constant speed, Lambertian (3D only), or Maxwellian.\n",
    "• For From file, enter the Index of first column containing velocity data i. The default is 3. The columns are zero-indexed; that is, an index of 0 corresponds to the first column.\n",
    "• For all other options, the settings are the same as for the Release node.\n",
    "INITIAL PARTICLE MASS\n",
    "This section is only available for The Particle Tracing for Fluid Flow Interface and is only shown when the Compute particle mass check box is selected in the physics interface Additional Variables section.\n",
    "\n",
    "INITIAL VALUE OF AUXILIARY DEPENDENT VARIABLES\n",
    "This section is available if an Auxiliary Dependent Variable has been added to the model.\n",
    "For each of the active Auxiliary Dependent Variable nodes in the model, choose an option from the Distribution function list: From file, None (the default), Normal, Lognormal, Uniform, or List of Values.\n",
    "• When From file is selected, enter the Index of column containing data. The default value is 3. The columns are zero-indexed; that is, an index of 0 corresponds to the first column.\n",
    "• For all other options, the settings are the same as for the Release node\n",
    "\n",
    "\n",
    "\n"
   ]
  },
  {
   "cell_type": "markdown",
   "metadata": {},
   "source": [
    "## Workflow\n",
    "\n",
    "1. Import the particle positions from the deuterium ion beam (particle tracing simulations)\n",
    "\n",
    "2. Extract last timestep\n",
    "\n",
    "3. Verify that the particles have reached the target (take only those with a threshold, i.e. x > SOMEVALUE but also x < SOMEOTHERVALUE)\n",
    "\n",
    "4. Export in txt with the correct format"
   ]
  },
  {
   "cell_type": "markdown",
   "metadata": {},
   "source": [
    "### Import statements"
   ]
  },
  {
   "cell_type": "code",
   "execution_count": null,
   "metadata": {},
   "outputs": [],
   "source": [
    "import pandas as pd\n",
    "import numpy as np"
   ]
  },
  {
   "cell_type": "markdown",
   "metadata": {},
   "source": [
    "### 1. Import the particle positions from the deuterium ion beam (particle tracing simulations)"
   ]
  },
  {
   "cell_type": "code",
   "execution_count": null,
   "metadata": {},
   "outputs": [],
   "source": []
  }
 ],
 "metadata": {
  "kernelspec": {
   "display_name": "Python 3",
   "language": "python",
   "name": "python3"
  },
  "language_info": {
   "codemirror_mode": {
    "name": "ipython",
    "version": 3
   },
   "file_extension": ".py",
   "mimetype": "text/x-python",
   "name": "python",
   "nbconvert_exporter": "python",
   "pygments_lexer": "ipython3",
   "version": "3.7.1"
  }
 },
 "nbformat": 4,
 "nbformat_minor": 2
}
