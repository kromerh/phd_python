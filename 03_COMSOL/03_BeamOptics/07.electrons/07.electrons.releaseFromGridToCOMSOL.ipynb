{
 "cells": [
  {
   "cell_type": "markdown",
   "metadata": {},
   "source": [
    "# Preparation of the electron starting positions into COMSOL\n",
    "\n",
    "## COMSOL feature: Release from Datafile\n",
    "\n",
    "### ParticleTracingModuleUsersGuide.pdf, page 110 ff\n",
    "\n",
    "\n",
    "Use a Release from Data File node to release particles by specifying the initial position, velocity, and values of auxiliary dependent variables using data from a text file.\n",
    "Go to Release for information about the following sections: Release Times, Release Current Magnitude, Mass Flow Rate, Released Particle Properties, Initial Particle Temperature, Initial Multiplication Factor, and Advanced Settings.\n",
    "\n",
    "Formatting Guidelines for Files Containing Particle Data\n",
    "The imported data file should be a text file (*.txt) arranged in a spreadsheet format; that is, each row corresponds to a distinct particle and should have the same number of columns as all other rows. Columns can be separated by spaces, tabs, or a combination of the two. Begin a line with the percent (“%”) character to include comments or empty lines in the data file.\n",
    "For example, a data file containing the following text would insert particles at the positions (0.1, 0.2, 0.6) and (0.2, 0.4, 0.8) in a three-dimensional geometry:\n",
    "\n",
    "```\n",
    "  % Initial particle positions\n",
    "  % qx0 qy0 qz0\n",
    "  0.1 0.2 0.6\n",
    "  0.2 0.4 0.8\n",
    "```\n",
    "\n",
    "INITIAL POSITION\n",
    "Browse your computer to select a text file, then click Import to import the data. To remove the imported data, click Discard. Enter the Index of first column containing position data i to indicate which column represents the first coordinate of the particle position vectors. The default value, 0, indicates the first column.\n",
    "\n",
    "INITIAL VELOCITY\n",
    "Select an option from the Initial velocity list: Expression (the default), From file, Kinetic energy and direction, Constant speed, spherical, Constant speed, hemispherical, Constant speed, cone, Constant speed, Lambertian (3D only), or Maxwellian.\n",
    "• For From file, enter the Index of first column containing velocity data i. The default is 3. The columns are zero-indexed; that is, an index of 0 corresponds to the first column.\n",
    "• For all other options, the settings are the same as for the Release node.\n",
    "INITIAL PARTICLE MASS\n",
    "This section is only available for The Particle Tracing for Fluid Flow Interface and is only shown when the Compute particle mass check box is selected in the physics interface Additional Variables section.\n",
    "\n",
    "INITIAL VALUE OF AUXILIARY DEPENDENT VARIABLES\n",
    "This section is available if an Auxiliary Dependent Variable has been added to the model.\n",
    "For each of the active Auxiliary Dependent Variable nodes in the model, choose an option from the Distribution function list: From file, None (the default), Normal, Lognormal, Uniform, or List of Values.\n",
    "• When From file is selected, enter the Index of column containing data. The default value is 3. The columns are zero-indexed; that is, an index of 0 corresponds to the first column.\n",
    "• For all other options, the settings are the same as for the Release node\n",
    "\n",
    "\n",
    "\n"
   ]
  },
  {
   "cell_type": "markdown",
   "metadata": {},
   "source": [
    "## Workflow\n",
    "\n",
    "1. Import the particle positions from the deuterium ion beam (particle tracing simulations)\n",
    "\n",
    "2. Extract last timestep\n",
    "\n",
    "3. Verify that the particles have reached the target (take only those with a threshold, i.e. x > SOMEVALUE but also x < SOMEOTHERVALUE)\n",
    "\n",
    "4. Export in txt with the correct format"
   ]
  },
  {
   "cell_type": "markdown",
   "metadata": {},
   "source": [
    "### Import statements"
   ]
  },
  {
   "cell_type": "code",
   "execution_count": 74,
   "metadata": {},
   "outputs": [],
   "source": [
    "import pandas as pd\n",
    "import numpy as np\n",
    "import re\n",
    "import matplotlib.pyplot as plt\n",
    "%matplotlib inline"
   ]
  },
  {
   "cell_type": "markdown",
   "metadata": {},
   "source": [
    "### 1. Import the particle positions from the deuterium ion beam (charged particle tracing simulations)\n",
    "\n",
    "### 2. Extract last timestep\n",
    "\n",
    "### 3. Verify that the particles have reached the target (take only those with a threshold, i.e. x > SOMEVALUE but also x < SOMEOTHERVALUE)"
   ]
  },
  {
   "cell_type": "code",
   "execution_count": 75,
   "metadata": {},
   "outputs": [],
   "source": [
    "file_cpt = '/Users/hkromer/02_PhD/02_Data/01_COMSOL/01_IonOptics/02.current_chamber/06.suppr_electrode/particleData/06.suppr_electrode.025.particleData.csv'\n",
    "file_export = '/Users/hkromer/02_PhD/02_Data/01_COMSOL/01_IonOptics/02.current_chamber/06.suppr_electrode/releaseParticleData/06.suppr_electrode.025.releaseParticleData.txt'\n",
    "\n",
    "assert file_export.endswith('txt')\n",
    "unit = 1 # keep units in mm"
   ]
  },
  {
   "cell_type": "code",
   "execution_count": 76,
   "metadata": {},
   "outputs": [
    {
     "name": "stdout",
     "output_type": "stream",
     "text": [
      "100.0% of the initial 5000 particles have arrived at the target (x > 50.0 mm and x < 90.0 mm).\n"
     ]
    },
    {
     "data": {
      "image/png": "[encoded data removed]",
      "text/plain": [
       "<Figure size 432x288 with 1 Axes>"
      ]
     },
     "metadata": {
      "needs_background": "light"
     },
     "output_type": "display_data"
    },
    {
     "data": {
      "image/png": "[encoded data removed]",
      "text/plain": [
       "<Figure size 432x288 with 1 Axes>"
      ]
     },
     "metadata": {
      "needs_background": "light"
     },
     "output_type": "display_data"
    },
    {
     "data": {
      "image/png": "[encoded data removed]",
      "text/plain": [
       "<Figure size 432x288 with 1 Axes>"
      ]
     },
     "metadata": {
      "needs_background": "light"
     },
     "output_type": "display_data"
    }
   ],
   "source": [
    "df_cpt = pd.read_csv(file_cpt, skiprows=8, header=None)\n",
    "\n",
    "# find column headers\n",
    "c = []\n",
    "with open(file_cpt, 'r') as myfile:\n",
    "    for line in myfile:\n",
    "        if 'Index' in line:\n",
    "            l = line.rstrip().split(',')\n",
    "            c.append(l)\n",
    "\n",
    "myfile.close()\n",
    "cols = c[0]\n",
    "# print(c)\n",
    "# get the time stepping\n",
    "# extract t=... from the cols\n",
    "my_cols = []\n",
    "for ii in range(0,len(cols)):\n",
    "    col = cols[ii]\n",
    "\n",
    "    t0 = re.findall(r'(t=.*)', col)\n",
    "    if len(t0) > 0:\n",
    "        my_cols.append(t0[0])\n",
    "    else:\n",
    "        my_cols.append('noTimestamp')\n",
    "\n",
    "# timeStep = my_cols[4]\n",
    "time_cols = (pd.Series(item for item in my_cols)).unique()[1:] # drop the timestamp\n",
    "\n",
    "#set column header of df\n",
    "cols[0] = 'particleindex'\n",
    "df_cpt.columns = cols\n",
    "\n",
    "# check which particles have arrived at the target\n",
    "# get the latest timestamp\n",
    "df_last = df_cpt.filter(regex=time_cols[-1], axis=1)\n",
    "\n",
    "# length: total number of particles\n",
    "n_total = len(df_last)\n",
    "\n",
    "# only those particles that have made it to the target: 10 mm in +x direction\n",
    "# for dist in [1,5,10,80]:\n",
    "dist_min = 50.0\n",
    "dist_max = 90.0  # needs to be adjusted for the 10.run\n",
    "df_arrived = df_last[ (df_last.iloc[:,0] > dist_min) &(df_last.iloc[:,0] < dist_max) ]\n",
    "cols = df_arrived.columns\n",
    "\n",
    "assert 'qx' in cols[0]\n",
    "assert 'qy' in cols[1]\n",
    "assert 'qz' in cols[2]\n",
    "\n",
    "df_arrived.columns = ['qx', 'qy', 'qz']\n",
    "n_arrived = len(df_arrived)\n",
    "# print(df_last)\n",
    "# print(df_last)\n",
    "# percent of those that have arrived\n",
    "perc_arrived = round((n_arrived / n_total)*100.0,2)\n",
    "\n",
    "print('{}% of the initial {} particles have arrived at the target (x > {} mm and x < {} mm).'.format(perc_arrived, n_total, dist_min, dist_max))\n",
    "if perc_arrived < 10:\n",
    "    print('{}% smaller than 10 %, avoid this file).'.format(perc_arrived))\n",
    "\n",
    "\n",
    "df_arrived.plot(kind='box', y='qx')\n",
    "plt.title('Particle position x for last timestep')\n",
    "plt.ylabel('x [mm]')\n",
    "df_arrived.plot(kind='box', y='qy')\n",
    "plt.title('Particle position y for last timestep')\n",
    "plt.ylabel('y [mm]')\n",
    "df_arrived.plot(kind='box', y='qz')\n",
    "plt.title('Particle position z for last timestep')\n",
    "plt.ylabel('z [mm]')\n",
    "plt.show()\n",
    "\n",
    "# index of the particle that have arrived at the target\n",
    "idx_arrived = df_arrived.index.tolist()\n",
    "\n",
    "\n",
    "# select only the last timestep\n",
    "df_cpt = df_cpt.filter(regex=time_cols[-1], axis=1)"
   ]
  },
  {
   "cell_type": "code",
   "execution_count": 77,
   "metadata": {},
   "outputs": [
    {
     "name": "stdout",
     "output_type": "stream",
     "text": [
      "There are 5000 particles in the dataframe for the export of particle postition available.\n",
      "         qx0       qy0       qz0\n",
      "0  87.947338 -0.541718  0.242257\n",
      "1  87.947103 -0.532975  0.222742\n",
      "2  87.946843 -0.523144  0.201606\n",
      "3  87.946584 -0.513162  0.180164\n",
      "4  87.947229 -0.537688  0.234789\n",
      "            qx0       qy0       qz0\n",
      "4995  87.941197  0.218784  0.627190\n",
      "4996  87.941223  0.221198  0.583829\n",
      "4997  87.941063  0.206191  0.574830\n",
      "4998  87.941009  0.200917  0.600054\n",
      "4999  87.940963  0.196298  0.583988\n"
     ]
    }
   ],
   "source": [
    "print(f'There are {len(df_cpt)} particles in the dataframe for the export of particle postition available.')\n",
    "\n",
    "cols = df_cpt.columns\n",
    "\n",
    "assert 'qx' in cols[0]\n",
    "assert 'qy' in cols[1]\n",
    "assert 'qz' in cols[2]\n",
    "\n",
    "df_cpt.columns = ['qx0', 'qy0', 'qz0']\n",
    "\n",
    "print(df_cpt.head())\n",
    "print(df_cpt.tail())"
   ]
  },
  {
   "cell_type": "markdown",
   "metadata": {},
   "source": [
    "### 4. Export in txt with the correct format"
   ]
  },
  {
   "cell_type": "code",
   "execution_count": 78,
   "metadata": {},
   "outputs": [
    {
     "name": "stdout",
     "output_type": "stream",
     "text": [
      "         qx0       qy0       qz0\n",
      "0  87.947338 -0.541718  0.242257\n",
      "1  87.947103 -0.532975  0.222742\n",
      "2  87.946843 -0.523144  0.201606\n",
      "3  87.946584 -0.513162  0.180164\n",
      "4  87.947229 -0.537688  0.234789\n",
      "            qx0       qy0       qz0\n",
      "4995  87.941197  0.218784  0.627190\n",
      "4996  87.941223  0.221198  0.583829\n",
      "4997  87.941063  0.206191  0.574830\n",
      "4998  87.941009  0.200917  0.600054\n",
      "4999  87.940963  0.196298  0.583988\n"
     ]
    }
   ],
   "source": [
    "# conversion to m\n",
    "\n",
    "df_cpt = df_cpt.multiply(unit)\n",
    "\n",
    "print(df_cpt.head())\n",
    "print(df_cpt.tail())\n",
    "\n",
    "df_cpt.to_csv(file_export, index=False, sep=' ', header=None)"
   ]
  },
  {
   "cell_type": "code",
   "execution_count": null,
   "metadata": {},
   "outputs": [],
   "source": []
  }
 ],
 "metadata": {
  "kernelspec": {
   "display_name": "Python 3",
   "language": "python",
   "name": "python3"
  },
  "language_info": {
   "codemirror_mode": {
    "name": "ipython",
    "version": 3
   },
   "file_extension": ".py",
   "mimetype": "text/x-python",
   "name": "python",
   "nbconvert_exporter": "python",
   "pygments_lexer": "ipython3",
   "version": "3.7.1"
  }
 },
 "nbformat": 4,
 "nbformat_minor": 2
}
