{
 "cells": [
  {
   "cell_type": "markdown",
   "metadata": {},
   "source": [
    "# Wall temperature violation"
   ]
  },
  {
   "cell_type": "markdown",
   "metadata": {},
   "source": [
    "## Figure 4 from thermal analysis paper\n",
    "\n",
    "- Path to original figure data: smb://fs03/LTH_Neutimag/hkromer/02_Simulations/01_Python/COMSOL_new_target/max_temp_vs_rotational_speed/temp_along_z_at_beamspot_violated.py\n",
    "\n",
    "- Path to the data: /Users/hkromer/02_PhD/02_Data/01_COMSOL/cfd/temperature_violation/\n",
    "\n"
   ]
  },
  {
   "cell_type": "code",
   "execution_count": 8,
   "metadata": {},
   "outputs": [],
   "source": [
    "import numpy as np\n",
    "import pandas as pd\n",
    "import os\n",
    "import matplotlib\n",
    "from matplotlib import pyplot as plt\n",
    "from matplotlib.ticker import AutoMinorLocator\n"
   ]
  },
  {
   "cell_type": "code",
   "execution_count": 9,
   "metadata": {},
   "outputs": [],
   "source": [
    "os.environ[\"PATH\"] += os.pathsep + '/usr/local/texlive/2018/bin/x86_64-darwin'\n",
    "plt.rc('text', usetex=True)\n",
    "plt.rc('font', weight='bold')\n",
    "matplotlib.rcParams['mathtext.fontset'] = 'custom'\n",
    "matplotlib.rcParams['mathtext.rm'] = 'Arial'\n",
    "matplotlib.rcParams['mathtext.it'] = 'Arial:italic'\n",
    "matplotlib.rcParams['mathtext.bf'] = 'Arial:bold'\n",
    "matplotlib.rcParams['mathtext.tt'] = 'Arial'\n",
    "matplotlib.rcParams['mathtext.cal'] = 'Arial'\n",
    "matplotlib.rcParams['text.latex.preamble'] = [r'\\usepackage{sfmath} \\boldmath']"
   ]
  },
  {
   "cell_type": "code",
   "execution_count": 10,
   "metadata": {},
   "outputs": [
    {
     "data": {
      "text/plain": [
       "['/Users/hkromer/02_PhD/02_Data/01_COMSOL/cfd/temperature_violation//run40_lam_2_1_300_T_along_z_at_beamspot.txt',\n",
       " '/Users/hkromer/02_PhD/02_Data/01_COMSOL/cfd/temperature_violation//run40_lam_2_2_300_T_along_z_at_beamspot.txt']"
      ]
     },
     "execution_count": 10,
     "metadata": {},
     "output_type": "execute_result"
    }
   ],
   "source": [
    "folder = '/Users/hkromer/02_PhD/02_Data/01_COMSOL/cfd/temperature_violation/'\n",
    "output_folder = f'/Users/hkromer/02_PhD/04_Publiations/05_Latex/Thesis/Figures/03.RotatingTarget/wall_temperature_violation/'\n",
    "# datafile from COMSOL\n",
    "path_to_data = [0,0]  # 25 rpm, 200 rpm\n",
    "path_to_data[0] = f\"{folder}/run40_lam_2_1_300_T_along_z_at_beamspot.txt\"\n",
    "path_to_data[1] = f\"{folder}/run40_lam_2_2_300_T_along_z_at_beamspot.txt\"\n",
    "path_to_data"
   ]
  },
  {
   "cell_type": "code",
   "execution_count": 28,
   "metadata": {},
   "outputs": [
    {
     "data": {
      "image/png": "[encoded data removed]",
      "text/plain": [
       "<Figure size 345.6x216 with 1 Axes>"
      ]
     },
     "metadata": {
      "needs_background": "light"
     },
     "output_type": "display_data"
    }
   ],
   "source": [
    "# p = 300 W\n",
    "# r_beam = 2 mm\n",
    "# d_Cu = 3 mm\n",
    "# 3l/min water flowrate at 20 degC\n",
    "# rotational speed in rpm         maximum surface temperature in degC\n",
    "\n",
    "# import data\n",
    "lst_df = []\n",
    "ii = 0\n",
    "for path in path_to_data:\n",
    "\tdf = pd.read_csv(path, delimiter=r\"\\s+\", skiprows=13)\n",
    "\t# if ii == 0:\t\n",
    "\t\t# df['z_mm'][df['z_mm'] <= 3] = df['z_mm'] * 3  # make the reference point the outer surface of the target\n",
    "\t\t# df['z_mm'][df['z_mm'] > 3] = df['z_mm'] / 3  # make the reference point the outer surface of the target\n",
    "\t# else:\n",
    "\t\t# df['z_mm'] = df['z_mm']  # make the reference point the outer surface of the target\n",
    "\t# df = df[ df['z_mm'] >= 2.0 ]  # select only a depth beyond 2 mm\n",
    "\tlst_df.append(df)\n",
    "\tii = ii + 1\n",
    "\t\n",
    "\n",
    "\n",
    "\n",
    "\n",
    "# -------------------------------------------------------------------\n",
    "# plot\n",
    "# -------------------------------------------------------------------\n",
    "plt.rc('text', usetex=True)\n",
    "plt.rc('font', weight='bold')\n",
    "matplotlib.rcParams['mathtext.fontset'] = 'custom'\n",
    "matplotlib.rcParams['mathtext.rm'] = 'Arial'\n",
    "matplotlib.rcParams['mathtext.it'] = 'Arial:italic'\n",
    "matplotlib.rcParams['mathtext.bf'] = 'Arial:bold'\n",
    "matplotlib.rcParams['mathtext.tt'] = 'Arial'\n",
    "matplotlib.rcParams['mathtext.cal'] = 'Arial'\n",
    "matplotlib.rcParams['text.latex.preamble'] = [r'\\usepackage{sfmath} \\boldmath']\n",
    "\n",
    "fig = plt.figure(figsize=(8*0.60,5*0.60))\n",
    "\n",
    "####################\n",
    "# axis 1\n",
    "####################\n",
    "ax1 = fig.add_subplot(1, 1, 1)\n",
    "\n",
    "# plot\n",
    "lst_plot = []\n",
    "lbl = [r'1 mm', r'3 mm']\n",
    "ii = 0\n",
    "colors = ['darkorange', 'darkblue']\n",
    "lst_marker = ['s','o','p']\n",
    "for df in lst_df:\n",
    "\t_, = ax1.plot(df['z_mm'], df['T_degC'], '-',marker=lst_marker[ii], color=colors[ii], linewidth=1.5, label=lbl[ii])\n",
    "\tii = ii + 1\n",
    "\tlst_plot.append(_)\n",
    "# vertical line\n",
    "ax1.plot((3.0, 3.0), (0, 240), 'k--', linewidth=2)#, label='wall-fluid interface')  # Cu-water interface\n",
    "ax1.plot((1.0, 1.0), (0, 240), 'k--', linewidth=2)  # Cu-water interface\n",
    "# ax1.plot((5.0, 5.0), (0, 120), 'k-', linewidth=2)  # water-Cu interface\n",
    "# axes label\n",
    "ax1.set_ylabel(r'\\textbf{Temperature [$^{\\circ}$C]}', fontsize=12, labelpad=10)\n",
    "ax1.set_xlabel(r'\\textbf{Depth in target [mm]}', fontsize=12, labelpad=10)\n",
    "# limits\n",
    "plt.ylim(10,240)\n",
    "plt.xlim(0.5,3.5)\n",
    "# ticks\n",
    "# ax1.xaxis.set_ticks([25, 200, 300,500,750,1000])\n",
    "# ax1.yaxis.set_ticks([170, 175, 180, 185])\n",
    "# minor ticks x\n",
    "# minor_locator = AutoMinorLocator(2)\n",
    "# ax1.xaxis.set_minor_locator(minor_locator)\n",
    "# minor ticks y\n",
    "minor_locator = AutoMinorLocator(2)\n",
    "ax1.yaxis.set_minor_locator(minor_locator)\n",
    "# tick font size\n",
    "ax1.tick_params('x', colors='black', labelsize=12)\t\n",
    "ax1.tick_params('y', colors='black', labelsize=12)\t\n",
    "# grid\n",
    "ax1.grid(b=True, which='major', linestyle='-')#, color='gray')\n",
    "ax1.grid(b=True, which='minor', linestyle='--')#, color='gray')\n",
    "ax1.text(0.75, 180, s=r'Cu', color='darkorange', weight='bold')\n",
    "ax1.text(1.2, 180, s=r'water', color='darkorange', weight='bold')\n",
    "\n",
    "ax1.text(2.6, 110, s=r'Cu', color='darkblue', weight='bold')\n",
    "ax1.text(3.1, 110, s=r'water', color='darkblue', weight='bold')\n",
    "# ####################\n",
    "# # other axis\n",
    "# ####################\n",
    "# ax2 = ax1.twinx()\n",
    "# # plot\n",
    "# ax2.plot(df['vol_flow_rate_lpmin'], df['Re_number'], '--', marker='D', color='darkred', linewidth=2)\n",
    "\n",
    "# ax2.yaxis.set_ticks([1000,2000,4000,6000])\n",
    "# #ax2.yaxis.set_major_formatter(ticker.FormatStrFormatter('%.1e'))\n",
    "# # Use the pyplot interface to change just one subplot...\n",
    "# # cur_axes = plt.gca()\n",
    "# # plt.yticks([0, 1.4e7], [r\"\\textbf{0}\", r\"\\textbf{1.4e7}\"])\n",
    "# # ax2.spines['top'].set_visible(False)\n",
    "\n",
    "# annotations\n",
    "# ax1.text(2.08, 62, r'\\textbf{Copper}', fontsize=12, color='black')\n",
    "# ax1.text(3.58, 62, r'\\textbf{Water}', fontsize=12, color='black')\n",
    "\n",
    "fig.subplots_adjust(left=0.15, right=0.97, top=0.97, bottom=0.18)\n",
    "\n",
    "l2 = plt.legend(loc=(0.54,0.650), fontsize=10)\n",
    "l2.set_title(r\"Copper thickness\", prop = {'size': 10})\n",
    "#y label coordinates\n",
    "# # # ax1.yaxis.set_label_coords(-0.11,0.5)\n",
    "plt.savefig(f'{output_folder}/temperature_along_z_at_beamspot_violated.pdf', dpi=1200)\n",
    "plt.savefig(f'{output_folder}/temperature_along_z_at_beamspot_violated.png', dpi=1200)\n",
    "plt.show()\n",
    "\n",
    "\n"
   ]
  },
  {
   "cell_type": "code",
   "execution_count": null,
   "metadata": {},
   "outputs": [],
   "source": []
  }
 ],
 "metadata": {
  "kernelspec": {
   "display_name": "Python 3",
   "language": "python",
   "name": "python3"
  },
  "language_info": {
   "codemirror_mode": {
    "name": "ipython",
    "version": 3
   },
   "file_extension": ".py",
   "mimetype": "text/x-python",
   "name": "python",
   "nbconvert_exporter": "python",
   "pygments_lexer": "ipython3",
   "version": "3.7.2"
  }
 },
 "nbformat": 4,
 "nbformat_minor": 2
}
