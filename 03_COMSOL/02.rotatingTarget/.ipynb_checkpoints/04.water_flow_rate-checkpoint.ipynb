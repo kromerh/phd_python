{
 "cells": [
  {
   "cell_type": "markdown",
   "metadata": {},
   "source": [
    "# Coolant flow rate\n",
    "\n",
    "## Figure 6 from thermal analysis paper\n",
    "\n",
    "- Path to original figure script: smb://fs03/LTH_Neutimag/hkromer/02_Simulations/01_Python/COMSOL_new_target/surface_temperature_vs_coolant_flow_rate/40_surface_temperature_vs_coolant_flow_rate_plot.py\n",
    "\n",
    "- Path to the datafile: /Users/hkromer/02_PhD/02_Data/01_COMSOL/cfd/water_flow_rate/surface_temperature_vs_coolant_flow_rate/run40_lowRe_pureCu/COMSOL_run40_lowRe_massFlowRate.m"
   ]
  },
  {
   "cell_type": "code",
   "execution_count": 1,
   "metadata": {},
   "outputs": [],
   "source": [
    "import numpy as np\n",
    "import pandas as pd\n",
    "import os\n",
    "import matplotlib\n",
    "from matplotlib import pyplot as plt\n",
    "from matplotlib.ticker import AutoMinorLocator\n",
    "import glob\n",
    "import re\n",
    "import copy"
   ]
  },
  {
   "cell_type": "code",
   "execution_count": 2,
   "metadata": {},
   "outputs": [],
   "source": [
    "os.environ[\"PATH\"] += os.pathsep + '/usr/local/texlive/2018/bin/x86_64-darwin'\n",
    "plt.rc('text', usetex=True)\n",
    "plt.rc('font', weight='bold')\n",
    "matplotlib.rcParams['mathtext.fontset'] = 'custom'\n",
    "matplotlib.rcParams['mathtext.rm'] = 'Arial'\n",
    "matplotlib.rcParams['mathtext.it'] = 'Arial:italic'\n",
    "matplotlib.rcParams['mathtext.bf'] = 'Arial:bold'\n",
    "matplotlib.rcParams['mathtext.tt'] = 'Arial'\n",
    "matplotlib.rcParams['mathtext.cal'] = 'Arial'\n",
    "matplotlib.rcParams['text.latex.preamble'] = [r'\\usepackage{sfmath} \\boldmath']"
   ]
  },
  {
   "cell_type": "code",
   "execution_count": null,
   "metadata": {},
   "outputs": [],
   "source": [
    "# datafile from COMSOL\n",
    "path_to_data = \"/Users/hkromer/02_PhD/02_Data/01_COMSOL/cfd/water_flow_rate/surface_temperature_vs_coolant_flow_rate/run40_lowRe_pureCu/COMSOL_run40_lowRe_massFlowRate.m\"\n",
    "output_folder = '/Users/hkromer/02_PhD/04_Publiations/05_Latex/Thesis/Figures/03.RotatingTarget/coolant_flow_rate/'"
   ]
  }
 ],
 "metadata": {
  "kernelspec": {
   "display_name": "Python 3",
   "language": "python",
   "name": "python3"
  },
  "language_info": {
   "codemirror_mode": {
    "name": "ipython",
    "version": 3
   },
   "file_extension": ".py",
   "mimetype": "text/x-python",
   "name": "python",
   "nbconvert_exporter": "python",
   "pygments_lexer": "ipython3",
   "version": "3.7.2"
  }
 },
 "nbformat": 4,
 "nbformat_minor": 2
}
