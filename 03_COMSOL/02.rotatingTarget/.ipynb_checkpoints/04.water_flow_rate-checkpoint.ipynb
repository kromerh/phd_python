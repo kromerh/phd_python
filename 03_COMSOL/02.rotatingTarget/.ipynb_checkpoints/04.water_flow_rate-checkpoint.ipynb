{
 "cells": [
  {
   "cell_type": "markdown",
   "metadata": {},
   "source": [
    "# Coolant flow rate\n",
    "\n",
    "## Figure 6 from thermal analysis paper\n",
    "\n",
    "- Path to original figure script: smb://fs03/LTH_Neutimag/hkromer/02_Simulations/01_Python/COMSOL_new_target/surface_temperature_vs_coolant_flow_rate/40_surface_temperature_vs_coolant_flow_rate_plot.py\n",
    "\n",
    "- Path to the datafile: /Users/hkromer/02_PhD/02_Data/01_COMSOL/cfd/water_flow_rate/surface_temperature_vs_coolant_flow_rate/run40_lowRe_pureCu/COMSOL_run40_lowRe_massFlowRate.m"
   ]
  },
  {
   "cell_type": "code",
   "execution_count": null,
   "metadata": {},
   "outputs": [],
   "source": [
    "import numpy as np\n",
    "import pandas as pd\n",
    "import os\n",
    "import matplotlib\n",
    "from matplotlib import pyplot as plt\n",
    "from matplotlib.ticker import AutoMinorLocator\n",
    "import glob\n",
    "import re\n",
    "import copy"
   ]
  },
  {
   "cell_type": "code",
   "execution_count": null,
   "metadata": {},
   "outputs": [],
   "source": [
    "os.environ[\"PATH\"] += os.pathsep + '/usr/local/texlive/2018/bin/x86_64-darwin'\n",
    "plt.rc('text', usetex=True)\n",
    "plt.rc('font', weight='bold')\n",
    "matplotlib.rcParams['mathtext.fontset'] = 'custom'\n",
    "matplotlib.rcParams['mathtext.rm'] = 'Arial'\n",
    "matplotlib.rcParams['mathtext.it'] = 'Arial:italic'\n",
    "matplotlib.rcParams['mathtext.bf'] = 'Arial:bold'\n",
    "matplotlib.rcParams['mathtext.tt'] = 'Arial'\n",
    "matplotlib.rcParams['mathtext.cal'] = 'Arial'\n",
    "matplotlib.rcParams['text.latex.preamble'] = [r'\\usepackage{sfmath} \\boldmath']"
   ]
  },
  {
   "cell_type": "code",
   "execution_count": null,
   "metadata": {},
   "outputs": [],
   "source": [
    "# datafile from COMSOL\n",
    "path_to_data = \"/Users/hkromer/02_PhD/02_Data/01_COMSOL/cfd/water_flow_rate/surface_temperature_vs_coolant_flow_rate/run40_lowRe_pureCu/COMSOL_run40_lowRe_massFlowRate.m\"\n",
    "output_folder = '/Users/hkromer/02_PhD/04_Publiations/05_Latex/Thesis/Figures/03.RotatingTarget/coolant_flow_rate/'"
   ]
  },
  {
   "cell_type": "code",
   "execution_count": null,
   "metadata": {},
   "outputs": [],
   "source": [
    "\n",
    "# % Model:              run40_lam_7_3_m_1.mph\n",
    "# % Version:            COMSOL 5.2.0.220\n",
    "# % Date:               Dec 19 2016, 13:10\n",
    "# % Table:              Table 1 - Volume Maximum 1 (T)\n",
    "# % p_beam = 200 W\n",
    "# % v_rotation = 25 rpm\n",
    "# % d_Cu = 3 mm, material CuOFE\n",
    "# % d_Ti = 5 µm\n",
    "# % d_water = 2.675 mm\n",
    "# %volumetric flow rate l/min\t% mass flow rate (kg/s)  %  maximum surface temperature (K)  % Reynolds number\n",
    "# vol_flow_rate_lpmin\tmass_flow_rate_kgps\tmax_surf_temp_K\tRe_number\n",
    "\n",
    "# import data\n",
    "df = pd.read_csv(path_to_data, delimiter=\"\\t\", skiprows=10)\n",
    "\n",
    "# convert Temperature to degC\n",
    "df['max_surf_temp_C'] = df['max_surf_temp_K'] - 273.15\n",
    "\n",
    "\n",
    "# df.to_csv('df.csv')\n",
    "\n",
    "fig = plt.figure(figsize=(8*0.70,5*0.75))\n",
    "\n",
    "####################\n",
    "# axis 1\n",
    "####################\n",
    "ax1 = fig.add_subplot(1, 1, 1)\n",
    "\n",
    "# plot\n",
    "ax1.plot(df['vol_flow_rate_lpmin'], df['max_surf_temp_C'], 's-',color=\"darkblue\", linewidth=1)\n",
    "# axes label\n",
    "ax1.set_ylabel(r'\\textbf{Maximum target temperature [$^{\\circ}$C]}', fontsize=12)\n",
    "ax1.set_xlabel(r'\\textbf{Volumetric flow rate [l/min]}', fontsize=12, labelpad=2)\n",
    "# ticks\n",
    "\n",
    "# ax1.xaxis.set_ticks(df['vol_flow_rate_lpmin'].values)\n",
    "ax1.xaxis.set_ticks(np.arange(2,24,2))\n",
    "ax1.yaxis.set_ticks(np.arange(100,260+40,40))\n",
    "# minor ticks x\n",
    "minor_locator = AutoMinorLocator(2)\n",
    "ax1.xaxis.set_minor_locator(minor_locator)\n",
    "# minor ticks y\n",
    "minor_locator = AutoMinorLocator(2)\n",
    "ax1.yaxis.set_minor_locator(minor_locator)\n",
    "# tick font size\n",
    "ax1.tick_params('x', colors='black', labelsize=12)\t\n",
    "ax1.tick_params('y', colors='black', labelsize=12)\t\n",
    "# grid\n",
    "ax1.grid(b=True, which='major', linestyle='-')#, color='gray')\n",
    "ax1.grid(b=True, which='minor', linestyle='--')#, color='gray')\n",
    "\n",
    "\n",
    "# ####################\n",
    "# # other axis\n",
    "# ####################\n",
    "# ax2 = ax1.twinx()\n",
    "# # plot\n",
    "# ax2.plot(df['vol_flow_rate_lpmin'], df['Re_number'], '--', marker='D', color='darkred', linewidth=2)\n",
    "\n",
    "# ax2.yaxis.set_ticks([1000,2000,4000,6000])\n",
    "# #ax2.yaxis.set_major_formatter(ticker.FormatStrFormatter('%.1e'))\n",
    "# # Use the pyplot interface to change just one subplot...\n",
    "# # cur_axes = plt.gca()\n",
    "# # plt.yticks([0, 1.4e7], [r\"\\textbf{0}\", r\"\\textbf{1.4e7}\"])\n",
    "# # ax2.spines['top'].set_visible(False)\n",
    "plt.gca().fill_between([0,25],\n",
    "                        240, 260,\n",
    "                        facecolor='red',\n",
    "                        alpha=0.25)\n",
    "plt.ylim(90,260)\n",
    "plt.xlim(2,22)\n",
    "ax1.text(4.25, 245,r\"\\textbf{T$_{outgas}$}\", fontsize=12, color='red')\n",
    "fig.subplots_adjust(left=0.18, right=0.95, top=0.88, bottom=0.18)\n",
    "\n",
    "#y label coordinates\n",
    "ax1.yaxis.set_label_coords(-0.11,0.5)\n",
    "plt.savefig(f'{output_folder}maximum_target_temperature_vs_coolant_flow_rate.pdf', dpi=1200)\n",
    "plt.savefig(f'{output_folder}maximum_target_temperature_vs_coolant_flow_rate.png', dpi=1200)\n",
    "plt.show()\n"
   ]
  },
  {
   "cell_type": "code",
   "execution_count": null,
   "metadata": {},
   "outputs": [],
   "source": [
    "s = 'Dear student, We are not online at the moment, please come back between 2pm-5pm either on April 9th or April 10th. You will get the chance to chat and/or have 1:1 video meetings with our talent partners. Each participant will have a time slot of max. 15min to discuss questions regarding our company,'\n",
    "len(s)"
   ]
  },
  {
   "cell_type": "code",
   "execution_count": null,
   "metadata": {},
   "outputs": [],
   "source": [
    "d = {'name': 'insult', 'confirmationStatus': 'NONE', 'slots': {'name': {'name': 'name', 'value': 'heiko', 'confirmationStatus': 'NONE', 'source': 'USER'}}} "
   ]
  },
  {
   "cell_type": "code",
   "execution_count": null,
   "metadata": {},
   "outputs": [],
   "source": [
    "print(d)"
   ]
  },
  {
   "cell_type": "code",
   "execution_count": null,
   "metadata": {},
   "outputs": [],
   "source": [
    "d['slots']['name']['value']"
   ]
  },
  {
   "cell_type": "code",
   "execution_count": null,
   "metadata": {},
   "outputs": [],
   "source": []
  }
 ],
 "metadata": {
  "kernelspec": {
   "display_name": "Python 3",
   "language": "python",
   "name": "python3"
  },
  "language_info": {
   "codemirror_mode": {
    "name": "ipython",
    "version": 3
   },
   "file_extension": ".py",
   "mimetype": "text/x-python",
   "name": "python",
   "nbconvert_exporter": "python",
   "pygments_lexer": "ipython3",
   "version": "3.7.3"
  }
 },
 "nbformat": 4,
 "nbformat_minor": 4
}
