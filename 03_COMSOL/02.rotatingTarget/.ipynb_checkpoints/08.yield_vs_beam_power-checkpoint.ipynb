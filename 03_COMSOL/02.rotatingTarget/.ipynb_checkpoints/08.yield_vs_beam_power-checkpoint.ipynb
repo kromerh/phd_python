{
 "cells": [
  {
   "cell_type": "markdown",
   "metadata": {},
   "source": [
    "# Neutron yield per W versus beam power\n",
    "\n",
    "## Figure 11 from thermal analysis paper\n",
    "\n",
    "- Path to original figure script: /Users/hkromer/02_PhD/04_Publiations/01_PaperDrafts/2018/01_RotatingTarget/Figures/Figure_11_act_nsW_vs_beam_power_noLeakageCurrent/Figure_11_act_nsW_vs_beam_power_noLeakageCurrent.py\n",
    "\n",
    "- Path to the datafile: /Users/hkromer/polybox/Thesis/Figures/03.RotatingTarget/neutron_yield_vs_beam_power/data/df.csv"
   ]
  },
  {
   "cell_type": "code",
   "execution_count": 1,
   "metadata": {},
   "outputs": [],
   "source": [
    "import numpy as np\n",
    "import pandas as pd\n",
    "import os\n",
    "import matplotlib\n",
    "from matplotlib import pyplot as plt\n",
    "from matplotlib.ticker import AutoMinorLocator\n",
    "import glob\n",
    "import re\n",
    "import copy"
   ]
  },
  {
   "cell_type": "code",
   "execution_count": 2,
   "metadata": {},
   "outputs": [],
   "source": [
    "os.environ[\"PATH\"] += os.pathsep + '/usr/local/texlive/2018/bin/x86_64-darwin'\n",
    "plt.rc('text', usetex=True)\n",
    "plt.rc('font', weight='bold')\n",
    "matplotlib.rcParams['mathtext.fontset'] = 'custom'\n",
    "matplotlib.rcParams['mathtext.rm'] = 'Arial'\n",
    "matplotlib.rcParams['mathtext.it'] = 'Arial:italic'\n",
    "matplotlib.rcParams['mathtext.bf'] = 'Arial:bold'\n",
    "matplotlib.rcParams['mathtext.tt'] = 'Arial'\n",
    "matplotlib.rcParams['mathtext.cal'] = 'Arial'\n",
    "matplotlib.rcParams['text.latex.preamble'] = [r'\\usepackage{sfmath} \\boldmath']"
   ]
  },
  {
   "cell_type": "code",
   "execution_count": 5,
   "metadata": {},
   "outputs": [],
   "source": [
    "# datafile from COMSOL\n",
    "path_to_data = '/Users/hkromer/polybox/Thesis/Chapters/RotatingIonBeamTarget/Figures/neutron_yield_vs_beam_power/data/'\n",
    "output_folder = '/Users/hkromer/polybox/Thesis/Chapters/RotatingIonBeamTarget/Figures/neutron_yield_vs_beam_power/'"
   ]
  },
  {
   "cell_type": "code",
   "execution_count": 6,
   "metadata": {},
   "outputs": [
    {
     "data": {
      "text/html": [
       "<div>\n",
       "<style scoped>\n",
       "    .dataframe tbody tr th:only-of-type {\n",
       "        vertical-align: middle;\n",
       "    }\n",
       "\n",
       "    .dataframe tbody tr th {\n",
       "        vertical-align: top;\n",
       "    }\n",
       "\n",
       "    .dataframe thead th {\n",
       "        text-align: right;\n",
       "    }\n",
       "</style>\n",
       "<table border=\"1\" class=\"dataframe\">\n",
       "  <thead>\n",
       "    <tr style=\"text-align: right;\">\n",
       "      <th></th>\n",
       "      <th>HV_voltage</th>\n",
       "      <th>HV_current</th>\n",
       "      <th>beam_power</th>\n",
       "      <th>beam_power_leakage_current</th>\n",
       "      <th>dose_corr</th>\n",
       "      <th>output</th>\n",
       "      <th>output_theoretical_per_mA</th>\n",
       "      <th>output_theoretical</th>\n",
       "      <th>output_theoretical_leakage_current</th>\n",
       "      <th>output_fraction</th>\n",
       "      <th>output_fraction_leakage_current</th>\n",
       "    </tr>\n",
       "    <tr>\n",
       "      <th>time</th>\n",
       "      <th></th>\n",
       "      <th></th>\n",
       "      <th></th>\n",
       "      <th></th>\n",
       "      <th></th>\n",
       "      <th></th>\n",
       "      <th></th>\n",
       "      <th></th>\n",
       "      <th></th>\n",
       "      <th></th>\n",
       "      <th></th>\n",
       "    </tr>\n",
       "  </thead>\n",
       "  <tbody>\n",
       "    <tr>\n",
       "      <th>2017-12-21 13:59:00</th>\n",
       "      <td>0.505932</td>\n",
       "      <td>0.010508</td>\n",
       "      <td>0.005317</td>\n",
       "      <td>-0.070573</td>\n",
       "      <td>2.910625</td>\n",
       "      <td>8.763032e+04</td>\n",
       "      <td>0.000000e+00</td>\n",
       "      <td>0.000000e+00</td>\n",
       "      <td>-0.000000e+00</td>\n",
       "      <td>inf</td>\n",
       "      <td>-inf</td>\n",
       "    </tr>\n",
       "    <tr>\n",
       "      <th>2017-12-21 14:00:00</th>\n",
       "      <td>12.223167</td>\n",
       "      <td>0.073667</td>\n",
       "      <td>0.900440</td>\n",
       "      <td>-0.933035</td>\n",
       "      <td>2.218085</td>\n",
       "      <td>6.677997e+04</td>\n",
       "      <td>2.709777e+04</td>\n",
       "      <td>1.996203e+03</td>\n",
       "      <td>-2.068463e+03</td>\n",
       "      <td>33.453505</td>\n",
       "      <td>-32.284823</td>\n",
       "    </tr>\n",
       "    <tr>\n",
       "      <th>2017-12-21 14:01:00</th>\n",
       "      <td>42.134333</td>\n",
       "      <td>0.211167</td>\n",
       "      <td>8.897367</td>\n",
       "      <td>2.577217</td>\n",
       "      <td>-3.294699</td>\n",
       "      <td>-9.919365e+04</td>\n",
       "      <td>1.436727e+07</td>\n",
       "      <td>3.033889e+06</td>\n",
       "      <td>8.787982e+05</td>\n",
       "      <td>-0.032695</td>\n",
       "      <td>-0.112874</td>\n",
       "    </tr>\n",
       "    <tr>\n",
       "      <th>2017-12-21 14:02:00</th>\n",
       "      <td>70.723729</td>\n",
       "      <td>0.350678</td>\n",
       "      <td>24.801253</td>\n",
       "      <td>14.192694</td>\n",
       "      <td>24.205141</td>\n",
       "      <td>7.287452e+05</td>\n",
       "      <td>7.641474e+07</td>\n",
       "      <td>2.679697e+07</td>\n",
       "      <td>1.533476e+07</td>\n",
       "      <td>0.027195</td>\n",
       "      <td>0.047522</td>\n",
       "    </tr>\n",
       "    <tr>\n",
       "      <th>2017-12-21 14:03:00</th>\n",
       "      <td>80.377333</td>\n",
       "      <td>0.378667</td>\n",
       "      <td>30.436217</td>\n",
       "      <td>18.379617</td>\n",
       "      <td>132.888918</td>\n",
       "      <td>4.001707e+06</td>\n",
       "      <td>1.100317e+08</td>\n",
       "      <td>4.166532e+07</td>\n",
       "      <td>2.516057e+07</td>\n",
       "      <td>0.096044</td>\n",
       "      <td>0.159047</td>\n",
       "    </tr>\n",
       "  </tbody>\n",
       "</table>\n",
       "</div>"
      ],
      "text/plain": [
       "                     HV_voltage  HV_current  beam_power  \\\n",
       "time                                                      \n",
       "2017-12-21 13:59:00    0.505932    0.010508    0.005317   \n",
       "2017-12-21 14:00:00   12.223167    0.073667    0.900440   \n",
       "2017-12-21 14:01:00   42.134333    0.211167    8.897367   \n",
       "2017-12-21 14:02:00   70.723729    0.350678   24.801253   \n",
       "2017-12-21 14:03:00   80.377333    0.378667   30.436217   \n",
       "\n",
       "                     beam_power_leakage_current   dose_corr        output  \\\n",
       "time                                                                        \n",
       "2017-12-21 13:59:00                   -0.070573    2.910625  8.763032e+04   \n",
       "2017-12-21 14:00:00                   -0.933035    2.218085  6.677997e+04   \n",
       "2017-12-21 14:01:00                    2.577217   -3.294699 -9.919365e+04   \n",
       "2017-12-21 14:02:00                   14.192694   24.205141  7.287452e+05   \n",
       "2017-12-21 14:03:00                   18.379617  132.888918  4.001707e+06   \n",
       "\n",
       "                     output_theoretical_per_mA  output_theoretical  \\\n",
       "time                                                                 \n",
       "2017-12-21 13:59:00               0.000000e+00        0.000000e+00   \n",
       "2017-12-21 14:00:00               2.709777e+04        1.996203e+03   \n",
       "2017-12-21 14:01:00               1.436727e+07        3.033889e+06   \n",
       "2017-12-21 14:02:00               7.641474e+07        2.679697e+07   \n",
       "2017-12-21 14:03:00               1.100317e+08        4.166532e+07   \n",
       "\n",
       "                     output_theoretical_leakage_current  output_fraction  \\\n",
       "time                                                                       \n",
       "2017-12-21 13:59:00                       -0.000000e+00              inf   \n",
       "2017-12-21 14:00:00                       -2.068463e+03        33.453505   \n",
       "2017-12-21 14:01:00                        8.787982e+05        -0.032695   \n",
       "2017-12-21 14:02:00                        1.533476e+07         0.027195   \n",
       "2017-12-21 14:03:00                        2.516057e+07         0.096044   \n",
       "\n",
       "                     output_fraction_leakage_current  \n",
       "time                                                  \n",
       "2017-12-21 13:59:00                             -inf  \n",
       "2017-12-21 14:00:00                       -32.284823  \n",
       "2017-12-21 14:01:00                        -0.112874  \n",
       "2017-12-21 14:02:00                         0.047522  \n",
       "2017-12-21 14:03:00                         0.159047  "
      ]
     },
     "execution_count": 6,
     "metadata": {},
     "output_type": "execute_result"
    }
   ],
   "source": [
    "df = pd.read_csv(f'{path_to_data}/df.csv', index_col=0)\n",
    "df.head()"
   ]
  },
  {
   "cell_type": "code",
   "execution_count": 7,
   "metadata": {},
   "outputs": [
    {
     "data": {
      "image/png": "[encoded data removed]",
      "text/plain": [
       "<Figure size 345.6x216 with 1 Axes>"
      ]
     },
     "metadata": {
      "needs_background": "light"
     },
     "output_type": "display_data"
    }
   ],
   "source": [
    "# -------------------------------------------------------------------\n",
    "# plot measured output (n/s/W) vs beam power\n",
    "# -------------------------------------------------------------------\n",
    "\n",
    "fig = plt.figure(figsize=(8*0.60,5*0.60))\n",
    "\n",
    "# axis 1\n",
    "ax1 = fig.add_subplot(1, 1, 1)\n",
    "# Hide the right and top spines\n",
    "# ax1.spines['right'].set_visible(False)\n",
    "# ax1.spines['top'].set_visible(False)\n",
    "\n",
    "# take only reasonable data\n",
    "df1 = df[ ((df.index >= \"2017-12-21 14:03\") & (df.index <= \"2017-12-21 15:06\"))]\n",
    "df2 = df[((df.index >= \"2017-12-21 15:15\") & (df.index <= \"2017-12-21 16:14\"))]\n",
    "# print(df2.head())\n",
    "\n",
    "ax1.plot(df1['beam_power'], (df1['output'] / df1['beam_power']) / 1e5,  'v',color=\"darkorange\", markersize=5, label='80', alpha=0.65, markeredgewidth=1.5, markeredgecolor='darkorange')\n",
    "ax1.plot(df2['beam_power'], (df2['output'] / df2['beam_power']) / 1e5,  'o',color=\"darkblue\", markersize=5, label = '90', alpha=0.65, markeredgewidth=1.5, markeredgecolor='darkblue')\n",
    "plt.ylim(1.0,3.5)\n",
    "# minor ticks x\n",
    "minor_locator = AutoMinorLocator(2)\n",
    "ax1.xaxis.set_minor_locator(minor_locator)\n",
    "# minor ticks y\n",
    "minor_locator = AutoMinorLocator(2)\n",
    "ax1.yaxis.set_minor_locator(minor_locator)\n",
    "# tick font size\n",
    "ax1.tick_params('x', colors='black', labelsize=12)\t\n",
    "ax1.tick_params('y', colors='black', labelsize=12)\t\n",
    "ax1.set_ylabel(r'\\textbf{Neutron yield [$\\cdot 10^5$ n/s/W]}', fontsize=12)\n",
    "ax1.set_xlabel(r'\\textbf{Beam power [W]}', fontsize=12, labelpad=2)\n",
    "\n",
    "# ax1.text(70, 1e7, r\"Data averaged over 1 min\"  \"\\n\"  r\"ca 250 rpm\" \"\\n\" r\"0.4 - 1.0 mA (DF 1 - 60 \\% )\",  bbox={'facecolor':'white', 'alpha':0.9, 'pad':10})\n",
    "\n",
    "ax1.grid(b=True, which='major', linestyle='-')#, color='gray')\n",
    "ax1.grid(b=True, which='minor', linestyle='--')#, color='gray')\n",
    "l1 = plt.legend(loc=\"best\",  fontsize=10)\n",
    "l1.set_title(r\"High voltage [-kV]\", prop = {'size': 10})\n",
    "\n",
    "plt.tight_layout()\n",
    "plt.savefig(f'{output_folder}neutron_yield_vs_beam_power.pdf', dpi=900)\n",
    "plt.show()\n"
   ]
  },
  {
   "cell_type": "markdown",
   "metadata": {},
   "source": [
    "# Comparison with Roberts Data\n",
    "- Roberts datafiles in: /Users/hkromer/02_PhD/02_Data/07.neutron_output/data_from_Robert/\n"
   ]
  },
  {
   "cell_type": "code",
   "execution_count": 13,
   "metadata": {},
   "outputs": [],
   "source": [
    "# output (neutrons/s)\n",
    "output_data_file = '/Users/hkromer/02_PhD/02_Data/07.neutron_output/data_from_Robert/output_neutronsPerSecond.csv'\n",
    "output_data = pd.read_csv(output_data_file)\n",
    "# output per unit power (neutrons/s/W)\n",
    "output_vs_power_file = '/Users/hkromer/02_PhD/02_Data/07.neutron_output/data_from_Robert/output_vs_power_neutronsPerSecondPerWatt.csv'\n",
    "output_vs_power = pd.read_csv(output_vs_power_file)\n",
    "#hv=60:5:125; % high voltage values in kV\n",
    "hv = np.arange(60, 130, 5)\n",
    "power = output_data / output_vs_power # beam power in W\n",
    "neutron_yield_file = '/Users/hkromer/02_PhD/02_Data/07.neutron_output/data_from_Robert/output_vs_power.csv'\n",
    "neutron_yield = pd.read_csv(neutron_yield_file, delimiter='\\t')\n",
    "neutron_yield = neutron_yield.multiply(1e5)"
   ]
  },
  {
   "cell_type": "code",
   "execution_count": 14,
   "metadata": {},
   "outputs": [
    {
     "data": {
      "text/html": [
       "<div>\n",
       "<style scoped>\n",
       "    .dataframe tbody tr th:only-of-type {\n",
       "        vertical-align: middle;\n",
       "    }\n",
       "\n",
       "    .dataframe tbody tr th {\n",
       "        vertical-align: top;\n",
       "    }\n",
       "\n",
       "    .dataframe thead th {\n",
       "        text-align: right;\n",
       "    }\n",
       "</style>\n",
       "<table border=\"1\" class=\"dataframe\">\n",
       "  <thead>\n",
       "    <tr style=\"text-align: right;\">\n",
       "      <th></th>\n",
       "      <th>3perc</th>\n",
       "      <th>6perc</th>\n",
       "      <th>9perc</th>\n",
       "      <th>12perc</th>\n",
       "    </tr>\n",
       "  </thead>\n",
       "  <tbody>\n",
       "    <tr>\n",
       "      <th>0</th>\n",
       "      <td>47600</td>\n",
       "      <td>70800</td>\n",
       "      <td>80700</td>\n",
       "      <td>59700</td>\n",
       "    </tr>\n",
       "    <tr>\n",
       "      <th>1</th>\n",
       "      <td>59900</td>\n",
       "      <td>89300</td>\n",
       "      <td>101000</td>\n",
       "      <td>76800</td>\n",
       "    </tr>\n",
       "    <tr>\n",
       "      <th>2</th>\n",
       "      <td>74000</td>\n",
       "      <td>106000</td>\n",
       "      <td>107000</td>\n",
       "      <td>117000</td>\n",
       "    </tr>\n",
       "    <tr>\n",
       "      <th>3</th>\n",
       "      <td>84700</td>\n",
       "      <td>130000</td>\n",
       "      <td>112000</td>\n",
       "      <td>131000</td>\n",
       "    </tr>\n",
       "    <tr>\n",
       "      <th>4</th>\n",
       "      <td>105000</td>\n",
       "      <td>135000</td>\n",
       "      <td>123000</td>\n",
       "      <td>121000</td>\n",
       "    </tr>\n",
       "  </tbody>\n",
       "</table>\n",
       "</div>"
      ],
      "text/plain": [
       "    3perc   6perc   9perc  12perc\n",
       "0   47600   70800   80700   59700\n",
       "1   59900   89300  101000   76800\n",
       "2   74000  106000  107000  117000\n",
       "3   84700  130000  112000  131000\n",
       "4  105000  135000  123000  121000"
      ]
     },
     "execution_count": 14,
     "metadata": {},
     "output_type": "execute_result"
    }
   ],
   "source": [
    "output_vs_power.head()"
   ]
  },
  {
   "cell_type": "code",
   "execution_count": 20,
   "metadata": {},
   "outputs": [
    {
     "data": {
      "text/plain": [
       "<matplotlib.legend.Legend at 0x1236bae10>"
      ]
     },
     "execution_count": 20,
     "metadata": {},
     "output_type": "execute_result"
    },
    {
     "data": {
      "image/png": "[encoded data removed]",
      "text/plain": [
       "<Figure size 432x288 with 1 Axes>"
      ]
     },
     "metadata": {
      "needs_background": "light"
     },
     "output_type": "display_data"
    }
   ],
   "source": [
    "cols = power.columns.tolist()\n",
    "markers = ['o', 's', \"^\", \"v\"]\n",
    "for col, marker in zip(cols, markers):\n",
    "    plt.scatter(power.loc[:,col], output_vs_power.loc[:,col]/1e5, marker=marker, label=col)\n",
    "\n",
    "plt.xlim(0, 70)\n",
    "plt.legend(loc='best')\n"
   ]
  },
  {
   "cell_type": "code",
   "execution_count": 23,
   "metadata": {},
   "outputs": [
    {
     "data": {
      "image/png": "[encoded data removed]",
      "text/plain": [
       "<Figure size 345.6x216 with 1 Axes>"
      ]
     },
     "metadata": {
      "needs_background": "light"
     },
     "output_type": "display_data"
    }
   ],
   "source": [
    "# -------------------------------------------------------------------\n",
    "# plot measured output (n/s/W) vs beam power\n",
    "# -------------------------------------------------------------------\n",
    "\n",
    "fig = plt.figure(figsize=(8*0.60,5*0.60))\n",
    "\n",
    "# axis 1\n",
    "ax1 = fig.add_subplot(1, 1, 1)\n",
    "# Hide the right and top spines\n",
    "# ax1.spines['right'].set_visible(False)\n",
    "# ax1.spines['top'].set_visible(False)\n",
    "\n",
    "# take only reasonable data\n",
    "df1 = df[ ((df.index >= \"2017-12-21 14:03\") & (df.index <= \"2017-12-21 15:06\"))]\n",
    "df2 = df[((df.index >= \"2017-12-21 15:15\") & (df.index <= \"2017-12-21 16:14\"))]\n",
    "# print(df2.head())\n",
    "\n",
    "ax1.plot(df1['beam_power'], (df1['output'] / df1['beam_power']) / 1e5,  'v',color=\"darkorange\", markersize=5, label='80', alpha=0.65, markeredgewidth=1.5, markeredgecolor='darkorange')\n",
    "ax1.plot(df2['beam_power'], (df2['output'] / df2['beam_power']) / 1e5,  'o',color=\"darkblue\", markersize=5, label = '90', alpha=0.65, markeredgewidth=1.5, markeredgecolor='darkblue')\n",
    "plt.ylim(1.0,4.0)\n",
    "plt.xlim(10,95)\n",
    "# minor ticks x\n",
    "minor_locator = AutoMinorLocator(2)\n",
    "ax1.xaxis.set_minor_locator(minor_locator)\n",
    "# minor ticks y\n",
    "minor_locator = AutoMinorLocator(2)\n",
    "ax1.yaxis.set_minor_locator(minor_locator)\n",
    "# tick font size\n",
    "ax1.tick_params('x', colors='black', labelsize=12)\t\n",
    "ax1.tick_params('y', colors='black', labelsize=12)\t\n",
    "ax1.set_ylabel(r'\\textbf{Neutron yield [$\\cdot 10^5$ n/s/W]}', fontsize=12)\n",
    "ax1.set_xlabel(r'\\textbf{Beam power [W]}', fontsize=12, labelpad=2)\n",
    "\n",
    "# ax1.text(70, 1e7, r\"Data averaged over 1 min\"  \"\\n\"  r\"ca 250 rpm\" \"\\n\" r\"0.4 - 1.0 mA (DF 1 - 60 \\% )\",  bbox={'facecolor':'white', 'alpha':0.9, 'pad':10})\n",
    "\n",
    "ax1.grid(b=True, which='major', linestyle='-')#, color='gray')\n",
    "ax1.grid(b=True, which='minor', linestyle='--')#, color='gray')\n",
    "leg1 = plt.legend(loc=\"best\",  fontsize=10)\n",
    "leg1.set_title(r\"High voltage [-kV]\", prop = {'size': 10})\n",
    "\n",
    "col = '12perc'\n",
    "marker = 's'\n",
    "plot_adams, = ax1.plot(power.loc[:,col], output_vs_power.loc[:,col]/1e5, color='darkred', linestyle='None', markeredgecolor='darkred', markersize=5, alpha=0.65, markeredgewidth=1.5, marker=marker)\n",
    "leg2 = ax1.legend([plot_adams],['Adams et al. (2015)'], loc='upper right')\n",
    "# Manually add the first legend back\n",
    "ax1.add_artist(leg1)\n",
    "plt.tight_layout()\n",
    "plt.savefig(f'{output_folder}neutron_yield_vs_beam_power_comparison_Robert.pdf', dpi=900)\n",
    "plt.show()\n"
   ]
  },
  {
   "cell_type": "code",
   "execution_count": null,
   "metadata": {},
   "outputs": [],
   "source": []
  }
 ],
 "metadata": {
  "kernelspec": {
   "display_name": "Python 3",
   "language": "python",
   "name": "python3"
  },
  "language_info": {
   "codemirror_mode": {
    "name": "ipython",
    "version": 3
   },
   "file_extension": ".py",
   "mimetype": "text/x-python",
   "name": "python",
   "nbconvert_exporter": "python",
   "pygments_lexer": "ipython3",
   "version": "3.7.2"
  }
 },
 "nbformat": 4,
 "nbformat_minor": 2
}
