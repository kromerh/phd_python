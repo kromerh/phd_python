{
 "cells": [
  {
   "cell_type": "markdown",
   "metadata": {},
   "source": [
    "# Neutron yield per W versus beam power\n",
    "\n",
    "## Figure 11 from thermal analysis paper\n",
    "\n",
    "- Path to original figure script: /Users/hkromer/02_PhD/04_Publiations/01_PaperDrafts/2018/01_RotatingTarget/Figures/Figure_11_act_nsW_vs_beam_power_noLeakageCurrent/Figure_11_act_nsW_vs_beam_power_noLeakageCurrent.py\n",
    "\n",
    "- Path to the datafile: /Users/hkromer/polybox/Thesis/Figures/03.RotatingTarget/neutron_yield_vs_beam_power/data/df.csv"
   ]
  },
  {
   "cell_type": "code",
   "execution_count": null,
   "metadata": {},
   "outputs": [],
   "source": [
    "import numpy as np\n",
    "import pandas as pd\n",
    "import os\n",
    "import matplotlib\n",
    "from matplotlib import pyplot as plt\n",
    "from matplotlib.ticker import AutoMinorLocator\n",
    "import glob\n",
    "import re\n",
    "import copy"
   ]
  },
  {
   "cell_type": "code",
   "execution_count": null,
   "metadata": {},
   "outputs": [],
   "source": [
    "os.environ[\"PATH\"] += os.pathsep + '/usr/local/texlive/2018/bin/x86_64-darwin'\n",
    "plt.rc('text', usetex=True)\n",
    "plt.rc('font', weight='bold')\n",
    "matplotlib.rcParams['mathtext.fontset'] = 'custom'\n",
    "matplotlib.rcParams['mathtext.rm'] = 'Arial'\n",
    "matplotlib.rcParams['mathtext.it'] = 'Arial:italic'\n",
    "matplotlib.rcParams['mathtext.bf'] = 'Arial:bold'\n",
    "matplotlib.rcParams['mathtext.tt'] = 'Arial'\n",
    "matplotlib.rcParams['mathtext.cal'] = 'Arial'\n",
    "matplotlib.rcParams['text.latex.preamble'] = [r'\\usepackage{sfmath} \\boldmath']"
   ]
  },
  {
   "cell_type": "code",
   "execution_count": null,
   "metadata": {},
   "outputs": [],
   "source": [
    "# datafile from COMSOL\n",
    "path_to_data = '/Users/hkromer/polybox/Thesis/Chapters/RotatingIonBeamTarget/Figures/neutron_yield_vs_beam_power/data/'\n",
    "output_folder = '/Users/hkromer/polybox/Thesis/Chapters/RotatingIonBeamTarget/Figures/neutron_yield_vs_beam_power/'"
   ]
  },
  {
   "cell_type": "code",
   "execution_count": null,
   "metadata": {},
   "outputs": [],
   "source": [
    "df = pd.read_csv(f'{path_to_data}/df.csv', index_col=0)\n",
    "df.head()"
   ]
  },
  {
   "cell_type": "code",
   "execution_count": null,
   "metadata": {},
   "outputs": [],
   "source": [
    "# -------------------------------------------------------------------\n",
    "# plot measured output (n/s/W) vs beam power\n",
    "# -------------------------------------------------------------------\n",
    "\n",
    "fig = plt.figure(figsize=(8*0.60,5*0.60))\n",
    "\n",
    "# axis 1\n",
    "ax1 = fig.add_subplot(1, 1, 1)\n",
    "# Hide the right and top spines\n",
    "# ax1.spines['right'].set_visible(False)\n",
    "# ax1.spines['top'].set_visible(False)\n",
    "\n",
    "# take only reasonable data\n",
    "df1 = df[ ((df.index >= \"2017-12-21 14:03\") & (df.index <= \"2017-12-21 15:06\"))]\n",
    "df2 = df[((df.index >= \"2017-12-21 15:15\") & (df.index <= \"2017-12-21 16:14\"))]\n",
    "# print(df2.head())\n",
    "\n",
    "ax1.plot(df1['beam_power'], (df1['output'] / df1['beam_power']) / 1e5,  'v',color=\"darkorange\", markersize=5, label='80', alpha=0.65, markeredgewidth=1.5, markeredgecolor='darkorange')\n",
    "ax1.plot(df2['beam_power'], (df2['output'] / df2['beam_power']) / 1e5,  'o',color=\"darkblue\", markersize=5, label = '90', alpha=0.65, markeredgewidth=1.5, markeredgecolor='darkblue')\n",
    "plt.ylim(1.0,3.5)\n",
    "# minor ticks x\n",
    "minor_locator = AutoMinorLocator(2)\n",
    "ax1.xaxis.set_minor_locator(minor_locator)\n",
    "# minor ticks y\n",
    "minor_locator = AutoMinorLocator(2)\n",
    "ax1.yaxis.set_minor_locator(minor_locator)\n",
    "# tick font size\n",
    "ax1.tick_params('x', colors='black', labelsize=12)\t\n",
    "ax1.tick_params('y', colors='black', labelsize=12)\t\n",
    "ax1.set_ylabel(r'\\textbf{Neutron yield [$\\cdot 10^5$ n/s/W]}', fontsize=12)\n",
    "ax1.set_xlabel(r'\\textbf{Beam power [W]}', fontsize=12, labelpad=2)\n",
    "\n",
    "# ax1.text(70, 1e7, r\"Data averaged over 1 min\"  \"\\n\"  r\"ca 250 rpm\" \"\\n\" r\"0.4 - 1.0 mA (DF 1 - 60 \\% )\",  bbox={'facecolor':'white', 'alpha':0.9, 'pad':10})\n",
    "\n",
    "ax1.grid(b=True, which='major', linestyle='-')#, color='gray')\n",
    "ax1.grid(b=True, which='minor', linestyle='--')#, color='gray')\n",
    "l1 = plt.legend(loc=\"best\",  fontsize=10)\n",
    "l1.set_title(r\"High voltage [-kV]\", prop = {'size': 10})\n",
    "\n",
    "plt.tight_layout()\n",
    "plt.savefig(f'{output_folder}neutron_yield_vs_beam_power.pdf', dpi=900)\n",
    "plt.show()\n"
   ]
  },
  {
   "cell_type": "markdown",
   "metadata": {},
   "source": [
    "# Comparison with Roberts Data\n",
    "- Roberts datafiles in: /Users/hkromer/02_PhD/02_Data/07.neutron_output/data_from_Robert/\n"
   ]
  },
  {
   "cell_type": "code",
   "execution_count": null,
   "metadata": {},
   "outputs": [],
   "source": [
    "# output (neutrons/s)\n",
    "output_data_file = '/Users/hkromer/02_PhD/02_Data/07.neutron_output/data_from_Robert/output_neutronsPerSecond.csv'\n",
    "output_data = pd.read_csv(output_data_file)\n",
    "# output per unit power (neutrons/s/W)\n",
    "output_vs_power_file = '/Users/hkromer/02_PhD/02_Data/07.neutron_output/data_from_Robert/output_vs_power_neutronsPerSecondPerWatt.csv'\n",
    "output_vs_power = pd.read_csv(output_vs_power_file)\n",
    "#hv=60:5:125; % high voltage values in kV\n",
    "hv = np.arange(60, 130, 5)\n",
    "power = output_data / output_vs_power # beam power in W\n",
    "neutron_yield_file = '/Users/hkromer/02_PhD/02_Data/07.neutron_output/data_from_Robert/output_vs_power.csv'\n",
    "neutron_yield = pd.read_csv(neutron_yield_file, delimiter='\\t')\n",
    "neutron_yield = neutron_yield.multiply(1e5)"
   ]
  },
  {
   "cell_type": "code",
   "execution_count": null,
   "metadata": {},
   "outputs": [],
   "source": [
    "output_vs_power.head()"
   ]
  },
  {
   "cell_type": "code",
   "execution_count": null,
   "metadata": {},
   "outputs": [],
   "source": [
    "cols = power.columns.tolist()\n",
    "markers = ['o', 's', \"^\", \"v\"]\n",
    "for col, marker in zip(cols, markers):\n",
    "    plt.scatter(power.loc[:,col], output_vs_power.loc[:,col]/1e5, marker=marker, label=col)\n",
    "\n",
    "plt.xlim(0, 70)\n",
    "plt.legend(loc='best')\n"
   ]
  },
  {
   "cell_type": "code",
   "execution_count": null,
   "metadata": {},
   "outputs": [],
   "source": [
    "# -------------------------------------------------------------------\n",
    "# plot measured output (n/s/W) vs beam power\n",
    "# -------------------------------------------------------------------\n",
    "\n",
    "fig = plt.figure(figsize=(8*0.60,5*0.60))\n",
    "\n",
    "# axis 1\n",
    "ax1 = fig.add_subplot(1, 1, 1)\n",
    "# Hide the right and top spines\n",
    "# ax1.spines['right'].set_visible(False)\n",
    "# ax1.spines['top'].set_visible(False)\n",
    "\n",
    "# take only reasonable data\n",
    "df1 = df[ ((df.index >= \"2017-12-21 14:03\") & (df.index <= \"2017-12-21 15:06\"))]\n",
    "df2 = df[((df.index >= \"2017-12-21 15:15\") & (df.index <= \"2017-12-21 16:14\"))]\n",
    "# print(df2.head())\n",
    "\n",
    "ax1.plot(df1['beam_power'], (df1['output'] / df1['beam_power']) / 1e5,  'v',color=\"darkorange\", markersize=5, label='80', alpha=0.65, markeredgewidth=1.5, markeredgecolor='darkorange')\n",
    "ax1.plot(df2['beam_power'], (df2['output'] / df2['beam_power']) / 1e5,  'o',color=\"darkblue\", markersize=5, label = '90', alpha=0.65, markeredgewidth=1.5, markeredgecolor='darkblue')\n",
    "plt.ylim(1.0,4.0)\n",
    "plt.xlim(10,95)\n",
    "ax1.xaxis.set_ticks(np.arange(20,100,10))\n",
    "# minor ticks x\n",
    "minor_locator = AutoMinorLocator(2)\n",
    "ax1.xaxis.set_minor_locator(minor_locator)\n",
    "# minor ticks y\n",
    "minor_locator = AutoMinorLocator(2)\n",
    "ax1.yaxis.set_minor_locator(minor_locator)\n",
    "# tick font size\n",
    "ax1.tick_params('x', colors='black', labelsize=12)\t\n",
    "ax1.tick_params('y', colors='black', labelsize=12)\t\n",
    "ax1.set_ylabel(r'\\textbf{Neutron yield [$\\times 10^5$ n/s/W]}', fontsize=12)\n",
    "ax1.set_xlabel(r'\\textbf{Beam power [W]}', fontsize=12, labelpad=2)\n",
    "\n",
    "# ax1.text(70, 1e7, r\"Data averaged over 1 min\"  \"\\n\"  r\"ca 250 rpm\" \"\\n\" r\"0.4 - 1.0 mA (DF 1 - 60 \\% )\",  bbox={'facecolor':'white', 'alpha':0.9, 'pad':10})\n",
    "\n",
    "ax1.grid(b=True, which='major', linestyle='-')#, color='gray')\n",
    "ax1.grid(b=True, which='minor', linestyle='--')#, color='gray')\n",
    "leg1 = plt.legend(loc=\"best\",  fontsize=10)\n",
    "leg1.set_title(r\"High voltage [-kV]\", prop = {'size': 10})\n",
    "\n",
    "col = '12perc'\n",
    "marker = 's'\n",
    "plot_adams, = ax1.plot(power.loc[:,col], output_vs_power.loc[:,col]/1e5, color='darkred', linestyle='None', markeredgecolor='darkred', markersize=5, alpha=0.65, markeredgewidth=1.5, marker=marker)\n",
    "leg2 = ax1.legend([plot_adams],['Adams et al. (2015)'], loc='upper right')\n",
    "# Manually add the first legend back\n",
    "ax1.add_artist(leg1)\n",
    "plt.tight_layout()\n",
    "plt.savefig(f'{output_folder}neutron_yield_vs_beam_power_comparison_Robert.pdf', dpi=900)\n",
    "plt.show()\n"
   ]
  },
  {
   "cell_type": "code",
   "execution_count": null,
   "metadata": {},
   "outputs": [],
   "source": []
  }
 ],
 "metadata": {
  "kernelspec": {
   "display_name": "Python 3",
   "language": "python",
   "name": "python3"
  },
  "language_info": {
   "codemirror_mode": {
    "name": "ipython",
    "version": 3
   },
   "file_extension": ".py",
   "mimetype": "text/x-python",
   "name": "python",
   "nbconvert_exporter": "python",
   "pygments_lexer": "ipython3",
   "version": "3.7.3"
  }
 },
 "nbformat": 4,
 "nbformat_minor": 4
}
