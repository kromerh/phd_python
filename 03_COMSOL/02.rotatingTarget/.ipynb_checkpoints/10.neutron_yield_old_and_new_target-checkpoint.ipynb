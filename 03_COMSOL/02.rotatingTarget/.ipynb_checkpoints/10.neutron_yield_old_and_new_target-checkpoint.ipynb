{
 "cells": [
  {
   "cell_type": "markdown",
   "metadata": {},
   "source": [
    "# Neutron yield comparison between old and new target\n",
    "\n",
    "## Figure 13 from thermal analysis paper\n",
    "\n",
    "- Path to original figure script: /Users/hkromer/02_PhD/04_Publiations/01_PaperDrafts/2018/01_RotatingTarget/Figures/Figure_13_comparison_neutron_output_old_new_Target/Figure_13_comparison_neutron_output_old_new_Target.py\n",
    "\n",
    "- Path to the datafile: /Users/hkromer/02_PhD/04_Publiations/01_PaperDrafts/2018/01_RotatingTarget/Figures/Figure_13_comparison_neutron_output_old_new_Target/df.csv\n",
    "\n",
    "\n",
    "- Neutron output scripts are stored in: /Users/hkromer/02_PhD/01.github/phd/05_MCNP/02.output_determination/MCNP_neutron_output/"
   ]
  },
  {
   "cell_type": "code",
   "execution_count": 1,
   "metadata": {},
   "outputs": [],
   "source": [
    "import numpy as np\n",
    "import pandas as pd\n",
    "import os\n",
    "import matplotlib\n",
    "from matplotlib import pyplot as plt\n",
    "from matplotlib.ticker import AutoMinorLocator\n",
    "import glob\n",
    "import re\n",
    "import copy\n",
    "from datetime import datetime\n",
    "import sys\n",
    "sys.path.append('/Users/hkromer/02_PhD/01.github/phd/05_MCNP/02.output_determination/MCNP_neutron_output/')\n",
    "from fun_getNeutronOutputPer100muSv import *\n",
    "from scipy.interpolate import interp1d"
   ]
  },
  {
   "cell_type": "code",
   "execution_count": 2,
   "metadata": {},
   "outputs": [],
   "source": [
    "os.environ[\"PATH\"] += os.pathsep + '/usr/local/texlive/2018/bin/x86_64-darwin'\n",
    "plt.rc('text', usetex=True)\n",
    "plt.rc('font', weight='bold')\n",
    "matplotlib.rcParams['mathtext.fontset'] = 'custom'\n",
    "matplotlib.rcParams['mathtext.rm'] = 'Arial'\n",
    "matplotlib.rcParams['mathtext.it'] = 'Arial:italic'\n",
    "matplotlib.rcParams['mathtext.bf'] = 'Arial:bold'\n",
    "matplotlib.rcParams['mathtext.tt'] = 'Arial'\n",
    "matplotlib.rcParams['mathtext.cal'] = 'Arial'\n",
    "matplotlib.rcParams['text.latex.preamble'] = [r'\\usepackage{sfmath} \\boldmath']"
   ]
  },
  {
   "cell_type": "code",
   "execution_count": 3,
   "metadata": {},
   "outputs": [],
   "source": [
    "# datafile from COMSOL\n",
    "path_to_data = '/Users/hkromer/polybox/Thesis/Figures/03.RotatingTarget/neutron_yield_old_vs_new_target/data/'\n",
    "output_folder = '/Users/hkromer/polybox/Thesis/Figures/03.RotatingTarget/neutron_yield_old_vs_new_target/'"
   ]
  },
  {
   "cell_type": "markdown",
   "metadata": {},
   "source": [
    "## Old Target"
   ]
  },
  {
   "cell_type": "code",
   "execution_count": 4,
   "metadata": {},
   "outputs": [
    {
     "name": "stdout",
     "output_type": "stream",
     "text": [
      "Old Target neutron output: 6.657e+06 n/s\n",
      "Old Target neutron output per mA: 2.110e+07 n/s/mA\n",
      "Old Target average high voltage: 100.31 kV\n",
      "Old Target neutron output per W: 2.103e+05 n/s/W\n"
     ]
    },
    {
     "name": "stderr",
     "output_type": "stream",
     "text": [
      "/Users/hkromer/anaconda3/lib/python3.7/site-packages/ipykernel_launcher.py:32: SettingWithCopyWarning: \n",
      "A value is trying to be set on a copy of a slice from a DataFrame.\n",
      "Try using .loc[row_indexer,col_indexer] = value instead\n",
      "\n",
      "See the caveats in the documentation: http://pandas.pydata.org/pandas-docs/stable/indexing.html#indexing-view-versus-copy\n"
     ]
    }
   ],
   "source": [
    "# -------------------------------------------------------------------------------------------\n",
    "# old target, run from 2017-09-20\n",
    "# -------------------------------------------------------------------------------------------\n",
    "fname_path = '/Users/hkromer/polybox/Thesis/Figures/03.RotatingTarget/neutron_yield_old_vs_new_target/data/2017-9-20_NG_data.txt'\n",
    "LB6411_distance = 50\n",
    "\n",
    "df = pd.read_csv(fname_path, delimiter=',', header=None)\n",
    "cols = ['Date','Time','High Voltage mean (kV)','Current HV (mA)','pressure (V)','pressure (mbar)', 'BS (V)', 'BS filtered(dose)']\n",
    "df.columns = cols\n",
    "\n",
    "df['Time'] = df['Time'].apply(lambda x: datetime.strptime(x, '%H:%M:%S'))\n",
    "df['Time'] = df['Time'].apply(lambda x: datetime.strftime(x, '%H:%M:%S'))\n",
    "df = df.set_index(['Time'])\n",
    "df.index = pd.to_datetime(df.index)\n",
    "\n",
    "\n",
    "df_m_HV = pd.DataFrame()\n",
    "df_m_HV['HV_voltage'] = df['High Voltage mean (kV)'].resample('1Min').mean()\n",
    "df_m_HV['HV_current'] = df['Current HV (mA)'].resample('1Min').mean()\n",
    "df_m_HV['dose'] = df['BS filtered(dose)'].resample('1Min').mean()\n",
    "\n",
    "df_m_HV.index = df_m_HV.index.strftime('%H:%M:%S')\n",
    "\n",
    "df = df_m_HV\n",
    "\n",
    "#def getNeutronOutputPer100muSv(HV=100, LB6411_distance=70, newTarget=1):\n",
    "neutronOutputPer100muSv = getNeutronOutputPer100muSv(HV=100, LB6411_distance=LB6411_distance, newTarget=0)\n",
    "\n",
    "df['Neutron_output'] = (df['dose']/100) * neutronOutputPer100muSv\n",
    "\n",
    "df=df[ (df.index > '20:13:00') & (df.index < '20:40:29') ]\n",
    "df['Time'] = df.index\n",
    "# print(df)\n",
    "df.reset_index(inplace=True)\n",
    "\n",
    "# average neutron output (maximum)\n",
    "avg_output_oldTarget = np.mean(df['Neutron_output'].values)\n",
    "\n",
    "avg_mA = np.mean(df['HV_current'])\n",
    "avg_output_per_mA_oldTarget = avg_output_oldTarget/avg_mA\n",
    "\n",
    "avg_voltage_oldTarget=np.mean(df['HV_voltage'])\n",
    "\n",
    "avg_power_oldTarget = avg_mA * avg_voltage_oldTarget\n",
    "avg_output_per_W_oldTarget = avg_output_oldTarget/avg_power_oldTarget\n",
    "\n",
    "print('Old Target neutron output: {:.3e} n/s'.format(avg_output_oldTarget))\n",
    "print('Old Target neutron output per mA: {:.3e} n/s/mA'.format(avg_output_per_mA_oldTarget))\n",
    "print('Old Target average high voltage: {:.2f} kV'.format(avg_voltage_oldTarget))\n",
    "print('Old Target neutron output per W: {:.3e} n/s/W'.format(avg_output_per_W_oldTarget))"
   ]
  },
  {
   "cell_type": "markdown",
   "metadata": {},
   "source": [
    "## New Target"
   ]
  },
  {
   "cell_type": "code",
   "execution_count": 12,
   "metadata": {},
   "outputs": [
    {
     "data": {
      "text/html": [
       "<div>\n",
       "<style scoped>\n",
       "    .dataframe tbody tr th:only-of-type {\n",
       "        vertical-align: middle;\n",
       "    }\n",
       "\n",
       "    .dataframe tbody tr th {\n",
       "        vertical-align: top;\n",
       "    }\n",
       "\n",
       "    .dataframe thead th {\n",
       "        text-align: right;\n",
       "    }\n",
       "</style>\n",
       "<table border=\"1\" class=\"dataframe\">\n",
       "  <thead>\n",
       "    <tr style=\"text-align: right;\">\n",
       "      <th></th>\n",
       "      <th>time</th>\n",
       "      <th>HV_voltage</th>\n",
       "      <th>HV_current</th>\n",
       "      <th>beam_power</th>\n",
       "      <th>beam_power_leakage_current</th>\n",
       "      <th>dose_corr</th>\n",
       "      <th>HV_voltage_output</th>\n",
       "      <th>neutronOutputPer100muSv</th>\n",
       "      <th>neutron_output</th>\n",
       "    </tr>\n",
       "  </thead>\n",
       "  <tbody>\n",
       "    <tr>\n",
       "      <th>0</th>\n",
       "      <td>13:59:00</td>\n",
       "      <td>0.505932</td>\n",
       "      <td>0.010508</td>\n",
       "      <td>0.005317</td>\n",
       "      <td>-0.070573</td>\n",
       "      <td>2.910625</td>\n",
       "      <td>80.000000</td>\n",
       "      <td>3.010704e+06</td>\n",
       "      <td>8.763032e+04</td>\n",
       "    </tr>\n",
       "    <tr>\n",
       "      <th>1</th>\n",
       "      <td>14:00:00</td>\n",
       "      <td>12.223167</td>\n",
       "      <td>0.073667</td>\n",
       "      <td>0.900440</td>\n",
       "      <td>-0.933035</td>\n",
       "      <td>2.218085</td>\n",
       "      <td>80.000000</td>\n",
       "      <td>3.010704e+06</td>\n",
       "      <td>6.677997e+04</td>\n",
       "    </tr>\n",
       "    <tr>\n",
       "      <th>2</th>\n",
       "      <td>14:01:00</td>\n",
       "      <td>42.134333</td>\n",
       "      <td>0.211167</td>\n",
       "      <td>8.897367</td>\n",
       "      <td>2.577217</td>\n",
       "      <td>-3.294699</td>\n",
       "      <td>80.000000</td>\n",
       "      <td>3.010704e+06</td>\n",
       "      <td>-9.919365e+04</td>\n",
       "    </tr>\n",
       "    <tr>\n",
       "      <th>3</th>\n",
       "      <td>14:02:00</td>\n",
       "      <td>70.723729</td>\n",
       "      <td>0.350678</td>\n",
       "      <td>24.801253</td>\n",
       "      <td>14.192694</td>\n",
       "      <td>24.205141</td>\n",
       "      <td>80.000000</td>\n",
       "      <td>3.010704e+06</td>\n",
       "      <td>7.287452e+05</td>\n",
       "    </tr>\n",
       "    <tr>\n",
       "      <th>4</th>\n",
       "      <td>14:03:00</td>\n",
       "      <td>80.377333</td>\n",
       "      <td>0.378667</td>\n",
       "      <td>30.436217</td>\n",
       "      <td>18.379617</td>\n",
       "      <td>132.888918</td>\n",
       "      <td>80.377333</td>\n",
       "      <td>3.011317e+06</td>\n",
       "      <td>4.001707e+06</td>\n",
       "    </tr>\n",
       "  </tbody>\n",
       "</table>\n",
       "</div>"
      ],
      "text/plain": [
       "       time  HV_voltage  HV_current  beam_power  beam_power_leakage_current  \\\n",
       "0  13:59:00    0.505932    0.010508    0.005317                   -0.070573   \n",
       "1  14:00:00   12.223167    0.073667    0.900440                   -0.933035   \n",
       "2  14:01:00   42.134333    0.211167    8.897367                    2.577217   \n",
       "3  14:02:00   70.723729    0.350678   24.801253                   14.192694   \n",
       "4  14:03:00   80.377333    0.378667   30.436217                   18.379617   \n",
       "\n",
       "    dose_corr  HV_voltage_output  neutronOutputPer100muSv  neutron_output  \n",
       "0    2.910625          80.000000             3.010704e+06    8.763032e+04  \n",
       "1    2.218085          80.000000             3.010704e+06    6.677997e+04  \n",
       "2   -3.294699          80.000000             3.010704e+06   -9.919365e+04  \n",
       "3   24.205141          80.000000             3.010704e+06    7.287452e+05  \n",
       "4  132.888918          80.377333             3.011317e+06    4.001707e+06  "
      ]
     },
     "execution_count": 12,
     "metadata": {},
     "output_type": "execute_result"
    }
   ],
   "source": [
    "df = pd.read_csv(f'{path_to_data}/df.csv', index_col=0)\n",
    "df.reset_index(inplace=True)\n",
    "\n",
    "\n",
    "df['time'] = pd.to_datetime(df['time'])\n",
    "df['time'] =  df['time'].apply(lambda x: datetime.strftime(x, '%H:%M:%S'))\n",
    "df.head()"
   ]
  },
  {
   "cell_type": "code",
   "execution_count": null,
   "metadata": {},
   "outputs": [],
   "source": []
  },
  {
   "cell_type": "code",
   "execution_count": 13,
   "metadata": {},
   "outputs": [
    {
     "name": "stdout",
     "output_type": "stream",
     "text": [
      "New Target neutron output: 2.920e+07 n/s\n",
      "New Target neutron output per mA: 2.972e+07 n/s/mA\n",
      "New Target voltage in kV: 90.23 kV\n",
      "New Target current: 0.98 mA\n",
      "New Target neutron output per W: 3.293e+05 n/s/W\n"
     ]
    },
    {
     "ename": "NameError",
     "evalue": "name 'avg_output_oldTarget' is not defined",
     "output_type": "error",
     "traceback": [
      "\u001b[0;31m---------------------------------------------------------------------------\u001b[0m",
      "\u001b[0;31mNameError\u001b[0m                                 Traceback (most recent call last)",
      "\u001b[0;32m<ipython-input-13-d8b325cb595e>\u001b[0m in \u001b[0;36m<module>\u001b[0;34m\u001b[0m\n\u001b[1;32m     25\u001b[0m \u001b[0mX_lbl\u001b[0m \u001b[0;34m=\u001b[0m \u001b[0;34m[\u001b[0m\u001b[0;34mr'Pure titanium'\u001b[0m \u001b[0;34m+\u001b[0m \u001b[0;34m'\\n'\u001b[0m \u001b[0;34m+\u001b[0m \u001b[0;34mr'non rotating target'\u001b[0m \u001b[0;34m+\u001b[0m \u001b[0;34m'\\n'\u001b[0m \u001b[0;34m+\u001b[0m \u001b[0;34mr'-100 kV'\u001b[0m\u001b[0;34m,\u001b[0m \u001b[0;34mr'Titanium-copper'\u001b[0m \u001b[0;34m+\u001b[0m \u001b[0;34m'\\n'\u001b[0m \u001b[0;34m+\u001b[0m \u001b[0;34mr'rotating target'\u001b[0m \u001b[0;34m+\u001b[0m \u001b[0;34m'\\n'\u001b[0m \u001b[0;34m+\u001b[0m \u001b[0;34mr'-90 kV'\u001b[0m\u001b[0;34m]\u001b[0m\u001b[0;34m\u001b[0m\u001b[0;34m\u001b[0m\u001b[0m\n\u001b[1;32m     26\u001b[0m \u001b[0mY_axis_norm\u001b[0m \u001b[0;34m=\u001b[0m \u001b[0;36m1e7\u001b[0m\u001b[0;34m\u001b[0m\u001b[0;34m\u001b[0m\u001b[0m\n\u001b[0;32m---> 27\u001b[0;31m \u001b[0mY\u001b[0m \u001b[0;34m=\u001b[0m \u001b[0mnp\u001b[0m\u001b[0;34m.\u001b[0m\u001b[0masarray\u001b[0m\u001b[0;34m(\u001b[0m\u001b[0;34m[\u001b[0m\u001b[0mavg_output_oldTarget\u001b[0m\u001b[0;34m,\u001b[0m \u001b[0mavg_output_newTarget\u001b[0m\u001b[0;34m]\u001b[0m\u001b[0;34m)\u001b[0m\u001b[0;34m/\u001b[0m\u001b[0mY_axis_norm\u001b[0m\u001b[0;34m\u001b[0m\u001b[0;34m\u001b[0m\u001b[0m\n\u001b[0m\u001b[1;32m     28\u001b[0m \u001b[0;31m# Y_axis_norm_per_W = 1e5\u001b[0m\u001b[0;34m\u001b[0m\u001b[0;34m\u001b[0m\u001b[0;34m\u001b[0m\u001b[0m\n\u001b[1;32m     29\u001b[0m \u001b[0;34m\u001b[0m\u001b[0m\n",
      "\u001b[0;31mNameError\u001b[0m: name 'avg_output_oldTarget' is not defined"
     ]
    },
    {
     "data": {
      "image/png": "[encoded data removed]",
      "text/plain": [
       "<Figure size 345.6x252 with 1 Axes>"
      ]
     },
     "metadata": {
      "needs_background": "light"
     },
     "output_type": "display_data"
    }
   ],
   "source": [
    "\n",
    "\n",
    "avg_output_newTarget = df['neutron_output'][ df.time == '16:13:00' ].values[0]\n",
    "\n",
    "avg_current = df['HV_current'][ df.time == '16:13:00' ].values[0]\n",
    "avg_output_per_mA_newTarget = avg_output_newTarget/avg_current\n",
    "\n",
    "avg_power_newTarget = (df['HV_current'][ df.time == '16:13:00' ].values[0]) * (df['HV_voltage'][ df.time == '16:13:00' ].values[0])\n",
    "avg_output_per_W_newTarget = avg_output_newTarget/avg_power_newTarget\n",
    "\n",
    "avg_voltage_newTarget = df['HV_voltage'][ df.time == '16:13:00' ].values[0]\n",
    "\n",
    "print('New Target neutron output: {:.3e} n/s'.format(avg_output_newTarget))\n",
    "print('New Target neutron output per mA: {:.3e} n/s/mA'.format(avg_output_per_mA_newTarget))\n",
    "print('New Target voltage in kV: {:.2f} kV'.format(avg_voltage_newTarget))\n",
    "print('New Target current: {:.2f} mA'.format(avg_current))\n",
    "\n",
    "print('New Target neutron output per W: {:.3e} n/s/W'.format(avg_output_per_W_newTarget))\n",
    "\n",
    "\n",
    "# plot bar plot with operating power\n",
    "fig, ax = plt.subplots(1, figsize=(8*0.60,5*0.7))\t\n",
    "\n",
    "X = np.asarray([0.0, 1.0])\n",
    "X_lbl = [r'Pure titanium' + '\\n' + r'non rotating target' + '\\n' + r'-100 kV', r'Titanium-copper' + '\\n' + r'rotating target' + '\\n' + r'-90 kV']\n",
    "Y_axis_norm = 1e7\n",
    "Y = np.asarray([avg_output_oldTarget, avg_output_newTarget])/Y_axis_norm\n",
    "# Y_axis_norm_per_W = 1e5\n",
    "\n",
    "Y_W = np.asarray([avg_power_oldTarget, avg_power_newTarget])\n",
    "print(Y_W)\n",
    "barwidth = 0.2\n",
    "colors = ['darkblue', 'darkblue']\n",
    "\n",
    "# minor ticks y\n",
    "minor_locator = AutoMinorLocator(2)\n",
    "ax.yaxis.set_minor_locator(minor_locator)\n",
    "\n",
    "ax.yaxis.grid(b=True, which='major', linestyle='-')#, color='gray')\n",
    "ax.yaxis.grid(b=True, which='minor', linestyle='--')#, color='gray')\n",
    "\n",
    "\n",
    "pBar = ax.bar(X,Y, width=barwidth, color=colors, edgecolor='black', alpha=0.75,  hatch = '/')\n",
    "# ax.text(0+barwidth-barwidth/2,1.5,r'-100 kV')\n",
    "\n",
    "ax2 = ax.twinx()\n",
    "colors_2 = ['darkorange', 'darkorange']\n",
    "pBar_W = ax2.bar(X+barwidth*2,Y_W, width=barwidth, color=colors_2, edgecolor='black', alpha=0.75)\n",
    "# ax2.text(1+barwidth-barwidth/2,3.5,r'-90 kV')\n",
    "\n",
    "# print(ticks_label)\n",
    "ax.xaxis.set_ticks(X+barwidth)\n",
    "ax.xaxis.set_ticklabels(X_lbl)\n",
    "ax.tick_params('x', colors='black', labelsize=12)\t\n",
    "ax.tick_params('y', colors=colors[0], labelsize=12)\t\n",
    "ax2.tick_params('y', colors=colors_2[0], labelsize=12)\t\n",
    "\n",
    "ax2.spines['right'].set_color(colors_2[0])\n",
    "ax.spines['left'].set_color(colors[0])\n",
    "# ax2.tick_params(axis='y',colors=colors_2[0])\n",
    "\n",
    "ax.yaxis.set_ticks([0,1,2,3,4])\n",
    "ax.set_ylim(0,4)\n",
    "ax2.yaxis.set_ticks(np.arange(0,125,25))\n",
    "ax2.set_ylim(0,100)\n",
    "\n",
    "ax.set_ylabel(r'\\textbf{Neutron yield [$\\cdot 10^7$ n/s]}', fontsize=12, color=colors[0])\n",
    "ax2.set_ylabel(r'\\textbf{Beam power [W]}', fontsize=12, color=colors_2[0])\n",
    "\n",
    "def autolabel(rect,lbl,c,ax):\n",
    "    \"\"\"\n",
    "    Attach a text label above a bar displaying its height\n",
    "    \"\"\"\n",
    "    height = rect.get_height()\n",
    "    ax.text(rect.get_x() + rect.get_width()/2., 1.03*height,lbl,color=c,\n",
    "            ha='center', va='bottom')\n",
    "\n",
    "autolabel(pBar[1],r'\\textbf{$\\times$440\\%}',colors[0],ax)\n",
    "autolabel(pBar_W[1],r'\\textbf{$\\times$280\\%}',colors_2[0],ax2)\n",
    "plt.tight_layout()\n",
    "plt.savefig(f'{output_folder}neutron_yield_old_vs_new_target.pdf')\n",
    "plt.show()"
   ]
  },
  {
   "cell_type": "code",
   "execution_count": null,
   "metadata": {
    "slideshow": {
     "slide_type": "notes"
    }
   },
   "outputs": [],
   "source": []
  },
  {
   "cell_type": "code",
   "execution_count": null,
   "metadata": {},
   "outputs": [],
   "source": []
  },
  {
   "cell_type": "code",
   "execution_count": null,
   "metadata": {},
   "outputs": [],
   "source": []
  }
 ],
 "metadata": {
  "kernelspec": {
   "display_name": "Python 3",
   "language": "python",
   "name": "python3"
  },
  "language_info": {
   "codemirror_mode": {
    "name": "ipython",
    "version": 3
   },
   "file_extension": ".py",
   "mimetype": "text/x-python",
   "name": "python",
   "nbconvert_exporter": "python",
   "pygments_lexer": "ipython3",
   "version": "3.7.2"
  }
 },
 "nbformat": 4,
 "nbformat_minor": 2
}
