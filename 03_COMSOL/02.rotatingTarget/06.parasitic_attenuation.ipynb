{
 "cells": [
  {
   "cell_type": "markdown",
   "metadata": {},
   "source": [
    "# Estimate the parasitic neutron attenuation in the target\n",
    "\n",
    "- import kaeri data\n",
    "- calculate (averaged) cross sections\n",
    "- calculate attenuation coefficient\n",
    "- compute fraction of attenuated neutrons"
   ]
  },
  {
   "cell_type": "code",
   "execution_count": null,
   "metadata": {},
   "outputs": [],
   "source": [
    "import numpy as np\n",
    "import pandas as pd\n",
    "import os\n",
    "import matplotlib\n",
    "from matplotlib import pyplot as plt\n",
    "from matplotlib.ticker import AutoMinorLocator"
   ]
  },
  {
   "cell_type": "code",
   "execution_count": null,
   "metadata": {},
   "outputs": [],
   "source": [
    "import os\n",
    "import matplotlib\n",
    "os.environ[\"PATH\"] += os.pathsep + '/usr/local/texlive/2018/bin/x86_64-darwin'\n",
    "plt.rc('text', usetex=True)\n",
    "plt.rc('font', weight='bold')\n",
    "matplotlib.rcParams['mathtext.fontset'] = 'custom'\n",
    "matplotlib.rcParams['mathtext.rm'] = 'Arial'\n",
    "matplotlib.rcParams['mathtext.it'] = 'Arial:italic'\n",
    "matplotlib.rcParams['mathtext.bf'] = 'Arial:bold'\n",
    "matplotlib.rcParams['mathtext.tt'] = 'Arial'\n",
    "matplotlib.rcParams['mathtext.cal'] = 'Arial'\n",
    "matplotlib.rcParams['text.latex.preamble'] = [r'\\usepackage{sfmath} \\boldmath']"
   ]
  },
  {
   "cell_type": "markdown",
   "metadata": {},
   "source": [
    "## import kaeri data\n",
    "\n",
    "List of the isotopes\n",
    "- copper: Cu-63 (69.15%), Cu-65 (30.85%), density 8.96 g/cm3\n",
    "- water: H-1, O-16, density 1 g/cm3\n",
    "- titanium: Ti-46 (8.25%), Ti-47 (7.44%), Ti-48 (73.72%), Ti-49 (5.41%), Ti-50 (5.18%), density 4.506 g/cm3"
   ]
  },
  {
   "cell_type": "code",
   "execution_count": null,
   "metadata": {},
   "outputs": [],
   "source": [
    "properties_Cu = {'material': 'copper',\n",
    "                 'isotopes': ['Cu-63', 'Cu-65'],\n",
    "                 'density': 8.96,\n",
    "                 'abundances': [69.15/100, 30.85/100],\n",
    "                 'Mol': 63.546\n",
    "             }\n",
    "\n",
    "properties_H2O = {'material': 'water',\n",
    "                 'isotopes': ['H-1', 'O-16'],\n",
    "                 'density': 1,\n",
    "                 'abundances': [2, 1],\n",
    "                 'Mol': 18.01528\n",
    "             }\n",
    "\n",
    "properties_Ti = {'material': 'titanium',\n",
    "                 'isotopes': ['Ti-46', 'Ti-47', 'Ti-48', 'Ti-49', 'Ti-50'],\n",
    "                 'density': 4.506,\n",
    "                 'abundances': [8.25/100, 7.44/100, 73.72/100, 5.41/100, 5.18/100],\n",
    "                 'Mol': 47.867\n",
    "             }\n",
    "properties = {'Cu': properties_Cu,\n",
    "             'H2O': properties_H2O,\n",
    "             'Ti': properties_Ti}\n",
    "\n"
   ]
  },
  {
   "cell_type": "code",
   "execution_count": null,
   "metadata": {},
   "outputs": [],
   "source": [
    "# get the microscopic attenuation coefficient\n",
    "path = '/Users/hkromer/02_PhD/02_Data/04.xs/'\n",
    "\n",
    "for material in properties.keys():\n",
    "    abundances = properties[material]['abundances']\n",
    "    isotopes = properties[material]['isotopes']\n",
    "\n",
    "    xs = []\n",
    "\n",
    "    for a, i in zip(abundances, isotopes):\n",
    "        sig = pd.read_csv(f'{path}/{i}.n_tot.txt', skiprows=1, header=0, delimiter=' ')\n",
    "        cols = ['E', 'xs']\n",
    "        # energy in eV, xs in 1e-24cm**2\n",
    "        sig.columns = cols\n",
    "        # select only range from 2 to 3 MeV\n",
    "        sig = sig[ (sig['E'] >= 2e6) & ((sig['E'] <= 3e6)) ]\n",
    "\n",
    "        sig_av = sig['xs'].mean() # average in 2-3 MeV range\n",
    "        sig_av = sig_av * 1e-24 # convert to cm2\n",
    "        print(material, sig_av)\n",
    "        xs.append(sig_av)\n",
    "\n",
    "    xs = np.array(xs)\n",
    "    ab = np.array(abundances)\n",
    "\n",
    "    sigma = np.sum(xs * ab)\n",
    "    \n",
    "    properties[material]['sigma'] = sigma\n",
    "    \n"
   ]
  },
  {
   "cell_type": "code",
   "execution_count": null,
   "metadata": {},
   "outputs": [],
   "source": [
    "# calculates the macroscopic cross section (attenuation coefficient)\n",
    "def Sigma(rho, Mol, sigma):\n",
    "    N_avog = 6.022e23\n",
    "    return (N_avog*rho/Mol)*sigma\n",
    "\n",
    "for material in properties.keys():\n",
    "    xs = properties[material]['sigma']\n",
    "    rho = properties[material]['density']\n",
    "    Mol = properties[material]['Mol']\n",
    "    \n",
    "    properties[material]['att_coeff'] = Sigma(rho, Mol, xs)\n",
    "    \n"
   ]
  },
  {
   "cell_type": "code",
   "execution_count": null,
   "metadata": {},
   "outputs": [],
   "source": [
    "properties['Ti']"
   ]
  },
  {
   "cell_type": "code",
   "execution_count": null,
   "metadata": {},
   "outputs": [],
   "source": [
    "properties['Cu']"
   ]
  },
  {
   "cell_type": "code",
   "execution_count": null,
   "metadata": {},
   "outputs": [],
   "source": [
    "properties['H2O']"
   ]
  },
  {
   "cell_type": "markdown",
   "metadata": {},
   "source": [
    "## Compute fraction of attenuated neutrons"
   ]
  },
  {
   "cell_type": "code",
   "execution_count": null,
   "metadata": {},
   "outputs": [],
   "source": [
    "# copper thicknesses\n",
    "d_Cus = np.arange(1, 8, 1)\n",
    "d_walls = np.arange(1, 4, 1)\n",
    "d_waters = np.arange(1, 5, 1)\n"
   ]
  },
  {
   "cell_type": "markdown",
   "metadata": {},
   "source": [
    "Make a plot for each water thickness. The different lines are for different wall thicknesses. The x axis is the copper layer thickness (the outer copper layer), the y axis is the fraction of attenuated neutrons."
   ]
  },
  {
   "cell_type": "code",
   "execution_count": null,
   "metadata": {},
   "outputs": [],
   "source": [
    "def fracAttNeutrons(prop, d_water, d_Cu, d_wall, d_Ti):  # d are in mm! \n",
    "    # prop is the properties dictionary \n",
    "    # Cu\n",
    "    f_Cu = np.exp(-prop['Cu']['att_coeff'] * (d_Cu/10)*2)\n",
    "    f_wall = np.exp(-prop['Cu']['att_coeff'] * (d_wall/10)*4)\n",
    "    f_Ti = np.exp(-prop['Ti']['att_coeff'] * (d_Ti/10)*2)\n",
    "    f_water = np.exp(-prop['H2O']['att_coeff'] * (d_water/10)*4)\n",
    "    return (1-(f_Cu * f_wall * f_Ti * f_water))*100\n",
    "\n",
    "folder = '/Users/hkromer/polybox/Thesis/Chapters/RotatingIonBeamTarget/Figures/parasitic_attenuation/'\n",
    "colors = ['darkblue', 'darkred', 'darkorange']\n",
    "markers = ['o', 's', 'p']\n",
    "fs = 16+10\n",
    "ls = 16+10\n",
    "d_Ti = 5e-3\n",
    "\n",
    "for d_water in d_waters:\n",
    "    plt.figure(figsize=(10,8))\n",
    "    for c, m, d_wall  in zip(colors, markers, d_walls):\n",
    "        # plot\n",
    "        plt.plot(d_Cus, fracAttNeutrons(properties, d_water, d_Cus, d_wall, d_Ti), marker=m, markersize=15, c=c, label=f'{d_wall}')\n",
    "    if int(d_water) == 2:\n",
    "        plt.plot([3], [fracAttNeutrons(properties, 2, 3, 1, 5e-3)], marker='.', linestyle='None', color='red', markersize=80, label='proposed')\n",
    "        xlims = plt.gca().get_xlim()\n",
    "        plt.plot([-10, 3],[fracAttNeutrons(properties, 2, 3, 1, 5e-3), fracAttNeutrons(properties, 2, 3, 1, 5e-3)], color='red', linestyle='dashed', label=None)\n",
    "        plt.plot([3, 3],[-10, fracAttNeutrons(properties, 2, 3, 1, 5e-3)], color='red', linestyle='dashed', label=None)\n",
    "        plt.xlim(xlims)\n",
    "    ax = plt.gca()\n",
    "#     ylim = ax.get_ylim()\n",
    "#     plt.ylim(ylim)\n",
    "    ax.tick_params(axis = 'both', which = 'major', labelsize = ls)\n",
    "#     ax.text(-17.5, 365, r'\\textbf{Cu}', color='black', fontsize=fs)\n",
    "#     ax.text(-16.75, 365, r'\\textbf{Water}', color='black', fontsize=fs)\n",
    "    plt.grid()\n",
    "    plt.xlabel(r'\\textbf{CuOFE thickness [mm]}', fontsize=fs)\n",
    "    plt.ylabel(r'\\textbf{1-} $\\frac{\\textrm{\\textbf{I}}}{\\textrm{\\textbf{I}}_{\\textrm{\\textbf{0}}}}$ [\\%]', fontsize=fs)\n",
    "    plt.ylim(0, 75)\n",
    "    handles,labels = ax.get_legend_handles_labels()\n",
    "\n",
    "    if len(handles) > 3:\n",
    "        handles = [handles[0], handles[1], handles[2], handles[3]]\n",
    "        labels = [labels[0], labels[1], labels[2], labels[3]]\n",
    "    else:\n",
    "        handles = [handles[0], handles[1], handles[2]]\n",
    "        labels = [labels[0], labels[1], labels[2]]\n",
    "\n",
    "    legend = ax.legend(handles,labels,title=r'\\textbf{Pipe wall thickness [mm]}',loc='lower right', fontsize=fs)\n",
    "#     plt.title('Water layer thickness ' + str(d_water) + r' mm', fontsize=fs)\n",
    "\n",
    "    plt.setp(legend.get_title(),fontsize=fs)\n",
    "    plt.tight_layout()\n",
    "    plt.savefig(f'{folder}/parasitic_attenuation_d_water_{d_water}mm.pdf', dpi=600)\n",
    "    \n",
    "    plt.show()\n",
    "    plt.close()\n",
    "    \n",
    "fracAttNeutrons(properties, 2, 3, 1, 5e-3)"
   ]
  },
  {
   "cell_type": "code",
   "execution_count": null,
   "metadata": {},
   "outputs": [],
   "source": [
    "u = 1.66054e-27 # kg\n",
    "m_Ti = 47.867 * u # kg\n",
    "m_e = 9.10938356e-31 # kg\n",
    "m_Ti/m_e"
   ]
  },
  {
   "cell_type": "code",
   "execution_count": null,
   "metadata": {},
   "outputs": [],
   "source": []
  },
  {
   "cell_type": "code",
   "execution_count": null,
   "metadata": {},
   "outputs": [],
   "source": []
  },
  {
   "cell_type": "code",
   "execution_count": null,
   "metadata": {},
   "outputs": [],
   "source": []
  },
  {
   "cell_type": "code",
   "execution_count": null,
   "metadata": {},
   "outputs": [],
   "source": []
  },
  {
   "cell_type": "code",
   "execution_count": null,
   "metadata": {},
   "outputs": [],
   "source": []
  },
  {
   "cell_type": "code",
   "execution_count": null,
   "metadata": {},
   "outputs": [],
   "source": []
  }
 ],
 "metadata": {
  "kernelspec": {
   "display_name": "Python 3",
   "language": "python",
   "name": "python3"
  },
  "language_info": {
   "codemirror_mode": {
    "name": "ipython",
    "version": 3
   },
   "file_extension": ".py",
   "mimetype": "text/x-python",
   "name": "python",
   "nbconvert_exporter": "python",
   "pygments_lexer": "ipython3",
   "version": "3.7.3"
  }
 },
 "nbformat": 4,
 "nbformat_minor": 4
}
