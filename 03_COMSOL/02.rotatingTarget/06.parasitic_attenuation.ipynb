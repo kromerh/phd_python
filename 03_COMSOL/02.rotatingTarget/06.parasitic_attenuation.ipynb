{
 "cells": [
  {
   "cell_type": "markdown",
   "metadata": {},
   "source": [
    "# Estimate the parasitic neutron attenuation in the target\n",
    "\n",
    "- import kaeri data\n",
    "- calculate (averaged) cross sections\n",
    "- calculate attenuation coefficient\n",
    "- compute fraction of attenuated neutrons"
   ]
  },
  {
   "cell_type": "code",
   "execution_count": 12,
   "metadata": {},
   "outputs": [],
   "source": [
    "import numpy as np\n",
    "import pandas as pd"
   ]
  },
  {
   "cell_type": "markdown",
   "metadata": {},
   "source": [
    "## import kaeri data\n",
    "\n",
    "List of the isotopes\n",
    "- copper: Cu-63 (69.15%), Cu-65 (30.85%), density 8.96 g/cm3\n",
    "- water: H-1, O-16, density 1 g/cm3\n",
    "- titanium: Ti-46 (8.25%), Ti-47 (7.44%), Ti-48 (73.72%), Ti-49 (5.41%), Ti-50 (5.18%), density 4.506 g/cm3"
   ]
  },
  {
   "cell_type": "code",
   "execution_count": 48,
   "metadata": {},
   "outputs": [
    {
     "name": "stdout",
     "output_type": "stream",
     "text": [
      "{'material': 'copper', 'isotopes': ['Cu-63', 'Cu-65'], 'density': 8.96, 'abundances': [0.6915, 0.3085], 'Mol': 63.546}\n"
     ]
    }
   ],
   "source": [
    "properties_Cu = {'material': 'copper',\n",
    "                 'isotopes': ['Cu-63', 'Cu-65'],\n",
    "                 'density': 8.96,\n",
    "                 'abundances': [69.15/100, 30.85/100],\n",
    "                 'Mol': 63.546\n",
    "             }\n",
    "\n",
    "properties_H2O = {'material': 'water',\n",
    "                 'isotopes': ['H-1', 'O-16'],\n",
    "                 'density': 1,\n",
    "                 'abundances': [2, 1],\n",
    "                 'Mol': 18.01528\n",
    "             }\n",
    "\n",
    "properties_Ti = {'material': 'titanium',\n",
    "                 'isotopes': ['Ti-46', 'Ti-47', 'Ti-48', 'Ti-49', 'Ti-50'],\n",
    "                 'density': 4.506,\n",
    "                 'abundances': [8.25/100, 7.44/100, 73.72/100, 5.41/100, 5.18/100],\n",
    "                 'Mol': 47.867\n",
    "             }\n",
    "properties = {'Cu': properties_Cu,\n",
    "             'H2O': properties_H2O,\n",
    "             'Ti': properties_Ti}\n",
    "\n"
   ]
  },
  {
   "cell_type": "code",
   "execution_count": 55,
   "metadata": {},
   "outputs": [
    {
     "name": "stdout",
     "output_type": "stream",
     "text": [
      "Cu 3.151426410256411e-24\n",
      "Cu 3.133873571428572e-24\n",
      "H2O 2.569463333333333e-24\n",
      "H2O 8.43850466666667e-25\n",
      "Ti 3.659402222222222e-24\n",
      "Ti 3.7341725000000005e-24\n",
      "Ti 3.443489266055046e-24\n",
      "Ti 3.828247999999999e-24\n",
      "Ti 3.85398125e-24\n"
     ]
    }
   ],
   "source": [
    "# get the microscopic attenuation coefficient\n",
    "path = '/Users/hkromer/02_PhD/02_Data/04.xs/'\n",
    "\n",
    "for material in properties.keys():\n",
    "    abundances = properties[material]['abundances']\n",
    "    isotopes = properties[material]['isotopes']\n",
    "\n",
    "    xs = []\n",
    "\n",
    "    for a, i in zip(abundances, isotopes):\n",
    "        sig = pd.read_csv(f'{path}/{i}.n_tot.txt', skiprows=1, header=0, delimiter=' ')\n",
    "        cols = ['E', 'xs']\n",
    "        # energy in eV, xs in 1e-24cm**2\n",
    "        sig.columns = cols\n",
    "        # select only range from 2 to 3 MeV\n",
    "        sig = sig[ (sig['E'] >= 2e6) & ((sig['E'] <= 3e6)) ]\n",
    "\n",
    "        sig_av = sig['xs'].mean() # average in 2-3 MeV range\n",
    "        sig_av = sig_av * 1e-24 # convert to cm2\n",
    "        print(material, sig_av)\n",
    "        xs.append(sig_av)\n",
    "\n",
    "    xs = np.array(xs)\n",
    "    ab = np.array(abundances)\n",
    "\n",
    "    sigma = np.sum(xs * ab)\n",
    "    \n",
    "    properties[material]['sigma'] = sigma\n",
    "    \n"
   ]
  },
  {
   "cell_type": "code",
   "execution_count": 58,
   "metadata": {},
   "outputs": [],
   "source": [
    "# calculates the macroscopic cross section (attenuation coefficient)\n",
    "def Sigma(rho, Mol, sigma):\n",
    "    N_avog = 6.022e23\n",
    "    return (N_avog*rho/Mol)*sigma\n",
    "\n",
    "for material in properties.keys():\n",
    "    xs = properties[material]['sigma']\n",
    "    rho = properties[material]['density']\n",
    "    Mol = properties[material]['Mol']\n",
    "    \n",
    "    properties[material]['att_coeff'] = Sigma(rho, Mol, xs)\n",
    "    \n"
   ]
  },
  {
   "cell_type": "code",
   "execution_count": 61,
   "metadata": {},
   "outputs": [
    {
     "data": {
      "text/plain": [
       "{'material': 'titanium',\n",
       " 'isotopes': ['Ti-46', 'Ti-47', 'Ti-48', 'Ti-49', 'Ti-50'],\n",
       " 'density': 4.506,\n",
       " 'abundances': [0.0825, 0.07440000000000001, 0.7372, 0.0541, 0.0518],\n",
       " 'Mol': 47.867,\n",
       " 'sigma': 3.525007849819113e-24,\n",
       " 'att_coeff': 0.19982775880226003}"
      ]
     },
     "execution_count": 61,
     "metadata": {},
     "output_type": "execute_result"
    }
   ],
   "source": [
    "properties['Ti']"
   ]
  },
  {
   "cell_type": "code",
   "execution_count": 62,
   "metadata": {},
   "outputs": [
    {
     "data": {
      "text/plain": [
       "{'material': 'copper',\n",
       " 'isotopes': ['Cu-63', 'Cu-65'],\n",
       " 'density': 8.96,\n",
       " 'abundances': [0.6915, 0.3085],\n",
       " 'Mol': 63.546,\n",
       " 'sigma': 3.146011359478023e-24,\n",
       " 'att_coeff': 0.267128871124412}"
      ]
     },
     "execution_count": 62,
     "metadata": {},
     "output_type": "execute_result"
    }
   ],
   "source": [
    "properties['Cu']"
   ]
  },
  {
   "cell_type": "code",
   "execution_count": 63,
   "metadata": {},
   "outputs": [
    {
     "data": {
      "text/plain": [
       "{'material': 'water',\n",
       " 'isotopes': ['H-1', 'O-16'],\n",
       " 'density': 1,\n",
       " 'abundances': [2, 1],\n",
       " 'Mol': 18.01528,\n",
       " 'sigma': 5.9827771333333334e-24,\n",
       " 'att_coeff': 0.19998736570807302}"
      ]
     },
     "execution_count": 63,
     "metadata": {},
     "output_type": "execute_result"
    }
   ],
   "source": [
    "properties['H2O']"
   ]
  },
  {
   "cell_type": "code",
   "execution_count": null,
   "metadata": {},
   "outputs": [],
   "source": []
  }
 ],
 "metadata": {
  "kernelspec": {
   "display_name": "Python 3",
   "language": "python",
   "name": "python3"
  },
  "language_info": {
   "codemirror_mode": {
    "name": "ipython",
    "version": 3
   },
   "file_extension": ".py",
   "mimetype": "text/x-python",
   "name": "python",
   "nbconvert_exporter": "python",
   "pygments_lexer": "ipython3",
   "version": "3.7.2"
  }
 },
 "nbformat": 4,
 "nbformat_minor": 2
}
