{
 "cells": [
  {
   "cell_type": "markdown",
   "metadata": {},
   "source": [
    "# Rotational velocity\n",
    "\n",
    "## Figure 7 from thermal analysis paper\n",
    "\n",
    "- Path to original figure script: /Users/hkromer/02_PhD/02_Data/01_COMSOL/cfd/rotational_velocity/max_temp_vs_rotational_speed/max_temp_vs_rotational_speed.py\n",
    "\n",
    "- Path to the datafile: /Users/hkromer/02_PhD/02_Data/01_COMSOL/cfd/rotational_velocity/max_temp_vs_rotational_speed/Temp_vs_rotation/results_T_vs_rot.txt"
   ]
  },
  {
   "cell_type": "code",
   "execution_count": 4,
   "metadata": {},
   "outputs": [],
   "source": [
    "import numpy as np\n",
    "import pandas as pd\n",
    "import os\n",
    "import matplotlib\n",
    "from matplotlib import pyplot as plt\n",
    "from matplotlib.ticker import AutoMinorLocator\n",
    "import glob\n",
    "import re\n",
    "import copy"
   ]
  },
  {
   "cell_type": "code",
   "execution_count": 5,
   "metadata": {},
   "outputs": [],
   "source": [
    "os.environ[\"PATH\"] += os.pathsep + '/usr/local/texlive/2018/bin/x86_64-darwin'\n",
    "plt.rc('text', usetex=True)\n",
    "plt.rc('font', weight='bold')\n",
    "matplotlib.rcParams['mathtext.fontset'] = 'custom'\n",
    "matplotlib.rcParams['mathtext.rm'] = 'Arial'\n",
    "matplotlib.rcParams['mathtext.it'] = 'Arial:italic'\n",
    "matplotlib.rcParams['mathtext.bf'] = 'Arial:bold'\n",
    "matplotlib.rcParams['mathtext.tt'] = 'Arial'\n",
    "matplotlib.rcParams['mathtext.cal'] = 'Arial'\n",
    "matplotlib.rcParams['text.latex.preamble'] = [r'\\usepackage{sfmath} \\boldmath']"
   ]
  },
  {
   "cell_type": "code",
   "execution_count": 6,
   "metadata": {},
   "outputs": [],
   "source": [
    "# datafile from COMSOL\n",
    "path_to_data = '/Users/hkromer/02_PhD/02_Data/01_COMSOL/cfd/rotational_velocity/max_temp_vs_rotational_speed/Temp_vs_rotation/results_T_vs_rot.txt'\n",
    "output_folder = '/Users/hkromer/02_PhD/04_Publiations/05_Latex/Thesis/Figures/03.RotatingTarget/rotational_velocity/'"
   ]
  },
  {
   "cell_type": "code",
   "execution_count": 8,
   "metadata": {},
   "outputs": [
    {
     "data": {
      "image/png": "[encoded data removed]",
      "text/plain": [
       "<Figure size 403.2x270 with 1 Axes>"
      ]
     },
     "metadata": {
      "needs_background": "light"
     },
     "output_type": "display_data"
    }
   ],
   "source": [
    "# p = 300 W\n",
    "# r_beam = 2 mm\n",
    "# d_Cu = 3 mm\n",
    "# 3l/min water flowrate at 20 degC\n",
    "# rotational speed in rpm         maximum surface temperature in degC\n",
    "\n",
    "# import data\n",
    "df = pd.read_csv(path_to_data, delimiter=\"\\t\", skiprows=5)\n",
    "\n",
    "\n",
    "fig = plt.figure(figsize=(8*0.70,5*0.75))\n",
    "\n",
    "####################\n",
    "# axis 1\n",
    "####################\n",
    "ax1 = fig.add_subplot(1, 1, 1)\n",
    "\n",
    "# plot\n",
    "ax1.plot(df['vrot_rpm'], df['maxT_degC'], 's-',color=\"darkblue\", linewidth=1)\n",
    "# axes label\n",
    "ax1.set_ylabel(r'\\textbf{Maximum target temperature [$^{\\circ}$C]}', fontsize=12, labelpad=10)\n",
    "ax1.set_xlabel(r'\\textbf{Target rotational speed [rpm]}', fontsize=12, labelpad=10)\n",
    "\n",
    "# ticks\n",
    "ax1.xaxis.set_ticks([25, 200, 300,500,750,1000])\n",
    "ax1.xaxis.set_ticks(np.arange(0,1250,250))\n",
    "ax1.yaxis.set_ticks(np.arange(100,260+40,40))\n",
    "# minor ticks x\n",
    "minor_locator = AutoMinorLocator(2)\n",
    "ax1.xaxis.set_minor_locator(minor_locator)\n",
    "# minor ticks y\n",
    "minor_locator = AutoMinorLocator(2)\n",
    "ax1.yaxis.set_minor_locator(minor_locator)\n",
    "# tick font size\n",
    "ax1.tick_params('x', colors='black', labelsize=12)\t\n",
    "ax1.tick_params('y', colors='black', labelsize=12)\t\n",
    "# grid\n",
    "ax1.grid(b=True, which='major', linestyle='-')#, color='gray')\n",
    "ax1.grid(b=True, which='minor', linestyle='--')#, color='gray')\n",
    "\n",
    "# ####################\n",
    "# # other axis\n",
    "# ####################\n",
    "# ax2 = ax1.twinx()\n",
    "# # plot\n",
    "# ax2.plot(df['vol_flow_rate_lpmin'], df['Re_number'], '--', marker='D', color='darkred', linewidth=2)\n",
    "\n",
    "# ax2.yaxis.set_ticks([1000,2000,4000,6000])\n",
    "# #ax2.yaxis.set_major_formatter(ticker.FormatStrFormatter('%.1e'))\n",
    "# # Use the pyplot interface to change just one subplot...\n",
    "# # cur_axes = plt.gca()\n",
    "# # plt.yticks([0, 1.4e7], [r\"\\textbf{0}\", r\"\\textbf{1.4e7}\"])\n",
    "# # ax2.spines['top'].set_visible(False)\n",
    "plt.gca().fill_between([-50,1050],\n",
    "                        240, 260,\n",
    "                        facecolor='red',\n",
    "                        alpha=0.25)\n",
    "plt.ylim(90,260)\n",
    "plt.xlim(-50,1050)\n",
    "ax1.text(250.25, 245,r\"\\textbf{T$_{outgas}$}\", fontsize=12, color='red')\n",
    "\n",
    "fig.subplots_adjust(left=0.15, right=0.97, top=0.88, bottom=0.18)\n",
    "\n",
    "#y label coordinates\n",
    "# ax1.yaxis.set_label_coords(-0.11,0.5)\n",
    "plt.savefig(f'{output_folder}maximum_target_temperature_vs_rotational_velocity.pdf', dpi=1200)\n",
    "plt.savefig(f'{output_folder}maximum_target_temperature_vs_rotational_velocity.png', dpi=1200)\n",
    "plt.show()"
   ]
  },
  {
   "cell_type": "code",
   "execution_count": 9,
   "metadata": {},
   "outputs": [
    {
     "name": "stdout",
     "output_type": "stream",
     "text": [
      "30\n"
     ]
    }
   ],
   "source": [
    "s = 'Marco Weibel (Maschinenbauinge'\n",
    "print(len(s))"
   ]
  },
  {
   "cell_type": "code",
   "execution_count": null,
   "metadata": {},
   "outputs": [],
   "source": []
  }
 ],
 "metadata": {
  "kernelspec": {
   "display_name": "Python 3",
   "language": "python",
   "name": "python3"
  },
  "language_info": {
   "codemirror_mode": {
    "name": "ipython",
    "version": 3
   },
   "file_extension": ".py",
   "mimetype": "text/x-python",
   "name": "python",
   "nbconvert_exporter": "python",
   "pygments_lexer": "ipython3",
   "version": "3.7.2"
  }
 },
 "nbformat": 4,
 "nbformat_minor": 2
}
