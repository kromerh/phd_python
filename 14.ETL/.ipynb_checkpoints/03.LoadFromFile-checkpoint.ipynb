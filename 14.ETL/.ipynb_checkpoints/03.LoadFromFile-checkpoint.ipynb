{
 "cells": [
  {
   "cell_type": "code",
   "execution_count": 1,
   "metadata": {},
   "outputs": [],
   "source": [
    "import numpy as np\n",
    "import pandas as pd\n",
    "import matplotlib.pyplot as plt\n",
    "import matplotlib.dates as md\n",
    "import seaborn as sns\n"
   ]
  },
  {
   "cell_type": "code",
   "execution_count": 16,
   "metadata": {},
   "outputs": [],
   "source": [
    "class NGDataObjectFromFile():\n",
    "    def get_data(self, path):\n",
    "        \"\"\"\n",
    "        Takes the path to the csv file as input and puts out a pandas dataframe\n",
    "        File must have the structure of columns: \n",
    "            - time (index) (datetime)\n",
    "            - HV_voltage (float)\n",
    "            - HV_current (float)\n",
    "            - dose_corrected (float)\n",
    "            - neutron_output (float)\n",
    "            - date (string, object)\n",
    "        \"\"\"\n",
    "        data = pd.read_csv(path)\n",
    "        data['time'] = pd.to_datetime(data['time'])\n",
    "        data = data.set_index('time', drop=True)\n",
    "        \n",
    "        return data"
   ]
  },
  {
   "cell_type": "code",
   "execution_count": 17,
   "metadata": {},
   "outputs": [],
   "source": [
    "fname = '/Users/hkromer/02_PhD/02_Data/02.NG_logs/heiko_data/data_combined.csv'\n",
    "\n",
    "\n",
    "NGdata = NGDataObjectFromFile()\n",
    "\n",
    "data = NGdata.get_data(fname)"
   ]
  },
  {
   "cell_type": "markdown",
   "metadata": {},
   "source": [
    "# Plot when the neutron generator was first operated with the new target (loading)"
   ]
  },
  {
   "cell_type": "code",
   "execution_count": 20,
   "metadata": {},
   "outputs": [
    {
     "data": {
      "text/html": [
       "<div>\n",
       "<style scoped>\n",
       "    .dataframe tbody tr th:only-of-type {\n",
       "        vertical-align: middle;\n",
       "    }\n",
       "\n",
       "    .dataframe tbody tr th {\n",
       "        vertical-align: top;\n",
       "    }\n",
       "\n",
       "    .dataframe thead th {\n",
       "        text-align: right;\n",
       "    }\n",
       "</style>\n",
       "<table border=\"1\" class=\"dataframe\">\n",
       "  <thead>\n",
       "    <tr style=\"text-align: right;\">\n",
       "      <th></th>\n",
       "      <th>HV_voltage</th>\n",
       "      <th>HV_current</th>\n",
       "      <th>dose_corrected</th>\n",
       "      <th>neutron_output</th>\n",
       "      <th>date</th>\n",
       "    </tr>\n",
       "    <tr>\n",
       "      <th>time</th>\n",
       "      <th></th>\n",
       "      <th></th>\n",
       "      <th></th>\n",
       "      <th></th>\n",
       "      <th></th>\n",
       "    </tr>\n",
       "  </thead>\n",
       "  <tbody>\n",
       "    <tr>\n",
       "      <td>2017-12-21 23:58:20</td>\n",
       "      <td>0.0</td>\n",
       "      <td>0.0</td>\n",
       "      <td>0.0</td>\n",
       "      <td>0.0</td>\n",
       "      <td>2017-12-21</td>\n",
       "    </tr>\n",
       "    <tr>\n",
       "      <td>2017-12-21 23:58:30</td>\n",
       "      <td>0.0</td>\n",
       "      <td>0.0</td>\n",
       "      <td>0.0</td>\n",
       "      <td>0.0</td>\n",
       "      <td>2017-12-21</td>\n",
       "    </tr>\n",
       "    <tr>\n",
       "      <td>2017-12-21 23:58:40</td>\n",
       "      <td>0.0</td>\n",
       "      <td>0.0</td>\n",
       "      <td>0.0</td>\n",
       "      <td>0.0</td>\n",
       "      <td>2017-12-21</td>\n",
       "    </tr>\n",
       "    <tr>\n",
       "      <td>2017-12-21 23:58:50</td>\n",
       "      <td>0.0</td>\n",
       "      <td>0.0</td>\n",
       "      <td>0.0</td>\n",
       "      <td>0.0</td>\n",
       "      <td>2017-12-21</td>\n",
       "    </tr>\n",
       "    <tr>\n",
       "      <td>2017-12-21 23:59:00</td>\n",
       "      <td>0.0</td>\n",
       "      <td>0.0</td>\n",
       "      <td>0.0</td>\n",
       "      <td>0.0</td>\n",
       "      <td>2017-12-21</td>\n",
       "    </tr>\n",
       "  </tbody>\n",
       "</table>\n",
       "</div>"
      ],
      "text/plain": [
       "                     HV_voltage  HV_current  dose_corrected  neutron_output  \\\n",
       "time                                                                          \n",
       "2017-12-21 23:58:20         0.0         0.0             0.0             0.0   \n",
       "2017-12-21 23:58:30         0.0         0.0             0.0             0.0   \n",
       "2017-12-21 23:58:40         0.0         0.0             0.0             0.0   \n",
       "2017-12-21 23:58:50         0.0         0.0             0.0             0.0   \n",
       "2017-12-21 23:59:00         0.0         0.0             0.0             0.0   \n",
       "\n",
       "                           date  \n",
       "time                             \n",
       "2017-12-21 23:58:20  2017-12-21  \n",
       "2017-12-21 23:58:30  2017-12-21  \n",
       "2017-12-21 23:58:40  2017-12-21  \n",
       "2017-12-21 23:58:50  2017-12-21  \n",
       "2017-12-21 23:59:00  2017-12-21  "
      ]
     },
     "execution_count": 20,
     "metadata": {},
     "output_type": "execute_result"
    }
   ],
   "source": [
    "range_start = '2017-11-17 00:00:00'\n",
    "range_end = '2017-12-24 23:59:00'\n",
    "\n",
    "this_data = data.loc[range_start:range_end,:]\n",
    "\n",
    "# plot\n"
   ]
  },
  {
   "cell_type": "code",
   "execution_count": null,
   "metadata": {},
   "outputs": [],
   "source": []
  }
 ],
 "metadata": {
  "kernelspec": {
   "display_name": "Python 3",
   "language": "python",
   "name": "python3"
  },
  "language_info": {
   "codemirror_mode": {
    "name": "ipython",
    "version": 3
   },
   "file_extension": ".py",
   "mimetype": "text/x-python",
   "name": "python",
   "nbconvert_exporter": "python",
   "pygments_lexer": "ipython3",
   "version": "3.7.4"
  }
 },
 "nbformat": 4,
 "nbformat_minor": 4
}
