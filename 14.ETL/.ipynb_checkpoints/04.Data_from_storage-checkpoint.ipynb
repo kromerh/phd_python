{
 "cells": [
  {
   "cell_type": "markdown",
   "metadata": {},
   "source": [
    "# Read from the storage database"
   ]
  },
  {
   "cell_type": "code",
   "execution_count": 4,
   "metadata": {},
   "outputs": [],
   "source": [
    "import numpy as np\n",
    "import pandas as pd\n",
    "import pymysql\n",
    "import sqlalchemy as sql\n",
    "import matplotlib.pyplot as plt\n",
    "import matplotlib.dates as md\n",
    "import seaborn as sns\n",
    "\n",
    "class NGDataObject():\n",
    "    \n",
    "    def __init__(self, host, database, user, password):\n",
    "        self.password = password\n",
    "        self.host = host\n",
    "        self.database = database\n",
    "        self.user = user\n",
    "        \n",
    "    def get_from_database(self, query):\n",
    "        \"\"\"\n",
    "        Connects to the storage database and retrieves the data for the given date.\n",
    "        INPUT:\n",
    "            - query: SQL query as string\n",
    "        OUTPUT:\n",
    "            - pandas dataframe\n",
    "        \"\"\"\n",
    "        connect_string = 'mysql+pymysql://%(user)s:%(pw)s@%(host)s/%(db)s'% {\n",
    "            \"user\": self.user, \n",
    "            \"pw\": self.password, \n",
    "            \"host\": self.host, \n",
    "            \"db\": self.database}\n",
    "        \n",
    "        sql_engine = sql.create_engine(connect_string)\n",
    "\n",
    "        df = pd.read_sql(query, sql_engine)\n",
    "        \n",
    "        # convert to datetime\n",
    "        df['time'] = pd.to_datetime(df['time'])\n",
    "        # set index as time\n",
    "        df.set_index('time', drop=True, inplace=True)\n",
    "        return df\n",
    "        \n",
    "    \n",
    "            \n",
    "    def resample_10_seconds(self, df, cols):\n",
    "        \"\"\"\n",
    "        Takes the a grouped df (grouped by day) and resamples the columns cols in 10s\n",
    "        OUTPUT:\n",
    "            - dataframe \n",
    "        \"\"\"\n",
    "\n",
    "        d = {}\n",
    "        range_start = f'{day} 00:00:00'\n",
    "        range_end = f'{day} 23:59:00'\n",
    "        # resample 24 hours in steps of 10 s\n",
    "        s = pd.date_range(start=range_start, end=range_end, freq='10S')\n",
    "        df_out = pd.DataFrame(pd.Series(s, name='time')).set_index('time')\n",
    "        for col in cols:\n",
    "            d[col] = df[col].resample('10S').mean()\n",
    "\n",
    "        this_d = pd.DataFrame(d)\n",
    "\n",
    "        df_out = df_out.merge(this_d, left_on=df_out.index, right_on=this_d.index, how='outer')\n",
    "        df_out = df_out.set_index('key_0')\n",
    "        return df_out\n",
    "     "
   ]
  },
  {
   "cell_type": "markdown",
   "metadata": {},
   "source": [
    "# ETL settings"
   ]
  },
  {
   "cell_type": "code",
   "execution_count": 17,
   "metadata": {},
   "outputs": [],
   "source": [
    "# for which day to plot\n",
    "day = \"2019-12-19\" # day to extract from the db\n",
    "# short description of what the operation purpose was that day\n",
    "operation = 'no_extraction'\n",
    "# path where to store the output figures\n",
    "path = f'/Users/hkromer/02_PhD/02_Data/02.NG_logs/{day}.{operation}'"
   ]
  },
  {
   "cell_type": "code",
   "execution_count": null,
   "metadata": {},
   "outputs": [],
   "source": [
    "\n",
    "\n",
    "# read password and user to database\n",
    "credentials_file = '/Users/hkromer/02_PhD/01.github/dash_NG/credentials.pw'\n",
    "credentials = pd.read_csv(credentials_file, header=0)\n",
    "user = credentials['username'].values[0]\n",
    "pw = credentials['password'].values[0]\n",
    "host=\"twofast-RPi3-0\"  # your host\n",
    "user=user  # username\n",
    "passwd=pw  # password\n",
    "db=\"NG_twofast_DB\" # name of the database\n",
    "\n",
    "\n",
    "\n",
    "\n",
    "# connect to DB\n",
    "con = NGDataObject(host = host, database=db, user=user, password=pw)\n",
    "\n",
    "# get dose\n",
    "query = \"SELECT * FROM data_dose WHERE DATE(time) = '%(t)s'\" % {\"t\": day}\n",
    "data_dose = con.get_from_database(query=query)\n",
    "data_dose_rs = con.resample_10_seconds(df=data_dose, cols=['dose', 'dose_voltage', 'dose_corrected'])\n",
    "\n",
    "# get HV\n",
    "query = \"SELECT * FROM data_HV WHERE DATE(time) = '%(t)s'\" % {\"t\": day}\n",
    "data_hv = con.get_from_database(query=query)\n",
    "data_hv_rs = con.resample_10_seconds(df=data_hv, cols=['HV_voltage', 'HV_current'])\n",
    "\n",
    "# get pressure\n",
    "query = \"SELECT * FROM data_pressure WHERE DATE(time) = '%(t)s'\" % {\"t\": day}\n",
    "data_pressure = con.get_from_database(query=query)\n",
    "data_pressure_rs = con.resample_10_seconds(df=data_pressure, cols=['pressure_IS', 'pressure_VC', 'pressure_IS_corrected'])"
   ]
  },
  {
   "cell_type": "markdown",
   "metadata": {},
   "source": [
    "# Plots"
   ]
  },
  {
   "cell_type": "code",
   "execution_count": null,
   "metadata": {},
   "outputs": [],
   "source": [
    "data_dose.head()"
   ]
  },
  {
   "cell_type": "markdown",
   "metadata": {},
   "source": [
    "## Plot dose whole day"
   ]
  },
  {
   "cell_type": "code",
   "execution_count": null,
   "metadata": {},
   "outputs": [],
   "source": [
    "fig, ax = plt.subplots(figsize=(15,6))\n",
    "sns.set()\n",
    "sns.set_context(\"notebook\", font_scale=1.5, rc={\"lines.linewidth\": 2.5})\n",
    "sns.lineplot(x=data_dose.index, y='dose_corrected', data=data_dose, ax=ax)\n",
    "ax.xaxis.set_major_formatter(md.DateFormatter('%H:%M:%S'))\n",
    "# ax.set(yscale=\"log\")\n",
    "ax.set_ylabel('Dose [muSv/h]')\n",
    "ax.set_xlabel(f'Time, {day}')\n",
    "plt.savefig(f'{path}_dose_only.png', dpi=600, format='png')"
   ]
  },
  {
   "cell_type": "markdown",
   "metadata": {},
   "source": [
    "## Plot pressure and HV "
   ]
  },
  {
   "cell_type": "code",
   "execution_count": null,
   "metadata": {},
   "outputs": [],
   "source": [
    "# select a subset of the day\n",
    "time_start = f'{day} 10:30:00'\n",
    "time_end = f'{day} 16:00:00'\n",
    "\n",
    "df_hv = data_hv.loc[time_start:time_end,:]\n",
    "# scale current by 100\n",
    "df_hv['HV_current_x100'] = df_hv['HV_current']*100.0\n",
    "df_pressure = data_pressure.loc[time_start:time_end,:]\n",
    "\n",
    "fig, ax = plt.subplots(figsize=(15,6))\n",
    "\n",
    "sns.set_context(\"notebook\", font_scale=1.5, rc={\"lines.linewidth\": 2.5})\n",
    "sns.lineplot(x=df_pressure.index, y='pressure_IS_corrected', data=df_pressure, color='darkgreen', ax=ax, label='pressure')\n",
    "plt.legend(loc='upper left')\n",
    "\n",
    "ax2 = ax.twinx()\n",
    "sns.lineplot(x=df_hv.index, y='HV_voltage', data=df_hv, ax=ax2, color='darkred', label='voltage [-kV]')\n",
    "sns.lineplot(x=df_hv.index, y='HV_current_x100', data=df_hv, ax=ax2, color='darkorange', label='current [100 mA]')\n",
    "plt.legend(loc='upper right')\n",
    "\n",
    "ax.set(yscale=\"log\")\n",
    "ax.set_ylabel('Pressure [mbar]')\n",
    "ax2.set_ylabel('HV')\n",
    "\n",
    "ax.set_xlabel(f'Time, {day}')\n",
    "ax.xaxis.set_major_formatter(md.DateFormatter('%H:%M:%S'))\n",
    "ax.set_ylim(1e-6, 1e-3)\n",
    "\n",
    "plt.savefig(f'{path}_pressure_hv.png', dpi=600, format='png')\n",
    "plt.show()"
   ]
  },
  {
   "cell_type": "markdown",
   "metadata": {},
   "source": [
    "## Plot dose and HV "
   ]
  },
  {
   "cell_type": "code",
   "execution_count": null,
   "metadata": {},
   "outputs": [],
   "source": [
    "# select a subset of the day\n",
    "time_start = f'{day} 10:30:00'\n",
    "time_end = f'{day} 16:00:00'\n",
    "\n",
    "df_hv = data_hv.loc[time_start:time_end,:]\n",
    "# scale current by 100\n",
    "df_hv['HV_current_x100'] = df_hv['HV_current']*100.0\n",
    "df_dose = data_dose_rs.loc[time_start:time_end,:]\n",
    "\n",
    "fig, ax = plt.subplots(figsize=(15,6))\n",
    "\n",
    "sns.set_context(\"notebook\", font_scale=1.5, rc={\"lines.linewidth\": 2.5})\n",
    "sns.lineplot(x=df_dose.index, y='dose_corrected', data=df_dose, color='darkblue', ax=ax, label='dose')\n",
    "plt.legend(loc='upper left')\n",
    "\n",
    "ax2 = ax.twinx()\n",
    "sns.lineplot(x=df_hv.index, y='HV_voltage', data=df_hv, ax=ax2, color='darkred', label='voltage [-kV]', alpha=0.75)\n",
    "sns.lineplot(x=df_hv.index, y='HV_current_x100', data=df_hv, ax=ax2, color='darkorange', label='current [100 mA]', alpha=0.75)\n",
    "plt.legend(loc='upper right')\n",
    "\n",
    "# ax.set(yscale=\"log\")\n",
    "ax.set_ylabel('Dose [muSv/h]')\n",
    "ax2.set_ylabel('HV')\n",
    "\n",
    "ax.set_xlabel(f'Time, {day}')\n",
    "ax.xaxis.set_major_formatter(md.DateFormatter('%H:%M:%S'))\n",
    "ax.set_ylim(0, 500)\n",
    "\n",
    "plt.savefig(f'{path}_dose_hv.png', dpi=600, format='png')\n",
    "plt.show()"
   ]
  },
  {
   "cell_type": "code",
   "execution_count": null,
   "metadata": {},
   "outputs": [],
   "source": []
  }
 ],
 "metadata": {
  "kernelspec": {
   "display_name": "Python 3",
   "language": "python",
   "name": "python3"
  },
  "language_info": {
   "codemirror_mode": {
    "name": "ipython",
    "version": 3
   },
   "file_extension": ".py",
   "mimetype": "text/x-python",
   "name": "python",
   "nbconvert_exporter": "python",
   "pygments_lexer": "ipython3",
   "version": "3.7.4"
  }
 },
 "nbformat": 4,
 "nbformat_minor": 4
}
