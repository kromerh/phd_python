{
 "cells": [
  {
   "cell_type": "code",
   "execution_count": 1,
   "metadata": {},
   "outputs": [],
   "source": [
    "import numpy as np\n",
    "import pandas as pd\n",
    "import matplotlib.pyplot as plt\n",
    "import matplotlib.dates as md\n",
    "import seaborn as sns\n"
   ]
  },
  {
   "cell_type": "code",
   "execution_count": 16,
   "metadata": {},
   "outputs": [],
   "source": [
    "class NGDataObjectFromFile():\n",
    "    def get_data(self, path):\n",
    "        \"\"\"\n",
    "        Takes the path to the csv file as input and puts out a pandas dataframe\n",
    "        File must have the structure of columns: \n",
    "            - time (index) (datetime)\n",
    "            - HV_voltage (float)\n",
    "            - HV_current (float)\n",
    "            - dose_corrected (float)\n",
    "            - neutron_output (float)\n",
    "            - date (string, object)\n",
    "        \"\"\"\n",
    "        data = pd.read_csv(path)\n",
    "        data['time'] = pd.to_datetime(data['time'])\n",
    "        data = data.set_index('time', drop=True)\n",
    "        \n",
    "        return data"
   ]
  },
  {
   "cell_type": "code",
   "execution_count": 21,
   "metadata": {},
   "outputs": [
    {
     "data": {
      "text/html": [
       "<div>\n",
       "<style scoped>\n",
       "    .dataframe tbody tr th:only-of-type {\n",
       "        vertical-align: middle;\n",
       "    }\n",
       "\n",
       "    .dataframe tbody tr th {\n",
       "        vertical-align: top;\n",
       "    }\n",
       "\n",
       "    .dataframe thead th {\n",
       "        text-align: right;\n",
       "    }\n",
       "</style>\n",
       "<table border=\"1\" class=\"dataframe\">\n",
       "  <thead>\n",
       "    <tr style=\"text-align: right;\">\n",
       "      <th></th>\n",
       "      <th>HV_voltage</th>\n",
       "      <th>HV_current</th>\n",
       "      <th>dose_corrected</th>\n",
       "      <th>neutron_output</th>\n",
       "      <th>date</th>\n",
       "    </tr>\n",
       "    <tr>\n",
       "      <th>time</th>\n",
       "      <th></th>\n",
       "      <th></th>\n",
       "      <th></th>\n",
       "      <th></th>\n",
       "      <th></th>\n",
       "    </tr>\n",
       "  </thead>\n",
       "  <tbody>\n",
       "    <tr>\n",
       "      <td>2017-12-01 00:00:00</td>\n",
       "      <td>0.0</td>\n",
       "      <td>0.0</td>\n",
       "      <td>0.0</td>\n",
       "      <td>-0.0</td>\n",
       "      <td>2017-12-1</td>\n",
       "    </tr>\n",
       "    <tr>\n",
       "      <td>2017-12-01 00:00:10</td>\n",
       "      <td>0.0</td>\n",
       "      <td>0.0</td>\n",
       "      <td>0.0</td>\n",
       "      <td>-0.0</td>\n",
       "      <td>2017-12-1</td>\n",
       "    </tr>\n",
       "    <tr>\n",
       "      <td>2017-12-01 00:00:20</td>\n",
       "      <td>0.0</td>\n",
       "      <td>0.0</td>\n",
       "      <td>0.0</td>\n",
       "      <td>-0.0</td>\n",
       "      <td>2017-12-1</td>\n",
       "    </tr>\n",
       "    <tr>\n",
       "      <td>2017-12-01 00:00:30</td>\n",
       "      <td>0.0</td>\n",
       "      <td>0.0</td>\n",
       "      <td>0.0</td>\n",
       "      <td>-0.0</td>\n",
       "      <td>2017-12-1</td>\n",
       "    </tr>\n",
       "    <tr>\n",
       "      <td>2017-12-01 00:00:40</td>\n",
       "      <td>0.0</td>\n",
       "      <td>0.0</td>\n",
       "      <td>0.0</td>\n",
       "      <td>-0.0</td>\n",
       "      <td>2017-12-1</td>\n",
       "    </tr>\n",
       "  </tbody>\n",
       "</table>\n",
       "</div>"
      ],
      "text/plain": [
       "                     HV_voltage  HV_current  dose_corrected  neutron_output  \\\n",
       "time                                                                          \n",
       "2017-12-01 00:00:00         0.0         0.0             0.0            -0.0   \n",
       "2017-12-01 00:00:10         0.0         0.0             0.0            -0.0   \n",
       "2017-12-01 00:00:20         0.0         0.0             0.0            -0.0   \n",
       "2017-12-01 00:00:30         0.0         0.0             0.0            -0.0   \n",
       "2017-12-01 00:00:40         0.0         0.0             0.0            -0.0   \n",
       "\n",
       "                          date  \n",
       "time                            \n",
       "2017-12-01 00:00:00  2017-12-1  \n",
       "2017-12-01 00:00:10  2017-12-1  \n",
       "2017-12-01 00:00:20  2017-12-1  \n",
       "2017-12-01 00:00:30  2017-12-1  \n",
       "2017-12-01 00:00:40  2017-12-1  "
      ]
     },
     "execution_count": 21,
     "metadata": {},
     "output_type": "execute_result"
    }
   ],
   "source": [
    "fname = '/Users/hkromer/02_PhD/02_Data/02.NG_logs/heiko_data/data_combined.csv'\n",
    "\n",
    "\n",
    "NGdata = NGDataObjectFromFile()\n",
    "\n",
    "data = NGdata.get_data(fname)\n",
    "data.head()"
   ]
  },
  {
   "cell_type": "markdown",
   "metadata": {},
   "source": [
    "# Plot when the neutron generator was first operated with the new target (loading)"
   ]
  },
  {
   "cell_type": "code",
   "execution_count": 28,
   "metadata": {},
   "outputs": [
    {
     "data": {
      "image/png": "[encoded data removed]",
      "text/plain": [
       "<Figure size 1080x432 with 1 Axes>"
      ]
     },
     "metadata": {
      "needs_background": "light"
     },
     "output_type": "display_data"
    }
   ],
   "source": [
    "range_start = '2017-11-16 00:00:00'\n",
    "range_end = '2017-12-30 23:59:00'\n",
    "\n",
    "this_data = data.loc[range_start:range_end,:]\n",
    "\n",
    "# plot\n",
    "fig, ax = plt.subplots(figsize=(15,6))\n",
    "\n",
    "sns.set_context(\"notebook\", font_scale=1.5, rc={\"lines.linewidth\": 2.5})\n",
    "# neutron output\n",
    "sns.lineplot(x=this_data.index, y='neutron_output', data=this_data, ax=ax, label='neutron output')\n",
    "\n",
    "ax.set(yscale=\"log\")\n",
    "ax.set_ylabel('Neutron output')\n",
    "\n",
    "ax.set_xlabel(f'Time')\n",
    "# ax.xaxis.set_major_formatter(md.DateFormatter('%H:%M:%S'))\n",
    "# ax.set_ylim(1e-7, 1e-5)\n",
    "\n",
    "# plt.savefig(f'{path}pressure_hv_day.png', dpi=1200, format='png')\n",
    "plt.show()"
   ]
  },
  {
   "cell_type": "code",
   "execution_count": 29,
   "metadata": {},
   "outputs": [
    {
     "data": {
      "text/plain": [
       "<matplotlib.axes._subplots.AxesSubplot at 0x7fa0b1adaf10>"
      ]
     },
     "execution_count": 29,
     "metadata": {},
     "output_type": "execute_result"
    },
    {
     "data": {
      "image/png": "[encoded data removed]",
      "text/plain": [
       "<Figure size 432x288 with 1 Axes>"
      ]
     },
     "metadata": {
      "needs_background": "light"
     },
     "output_type": "display_data"
    }
   ],
   "source": [
    "sns.boxplot(x=this_data['neutron_output'])"
   ]
  },
  {
   "cell_type": "code",
   "execution_count": 27,
   "metadata": {},
   "outputs": [
    {
     "data": {
      "text/html": [
       "<div>\n",
       "<style scoped>\n",
       "    .dataframe tbody tr th:only-of-type {\n",
       "        vertical-align: middle;\n",
       "    }\n",
       "\n",
       "    .dataframe tbody tr th {\n",
       "        vertical-align: top;\n",
       "    }\n",
       "\n",
       "    .dataframe thead th {\n",
       "        text-align: right;\n",
       "    }\n",
       "</style>\n",
       "<table border=\"1\" class=\"dataframe\">\n",
       "  <thead>\n",
       "    <tr style=\"text-align: right;\">\n",
       "      <th></th>\n",
       "      <th>HV_voltage</th>\n",
       "      <th>HV_current</th>\n",
       "      <th>dose_corrected</th>\n",
       "      <th>neutron_output</th>\n",
       "    </tr>\n",
       "  </thead>\n",
       "  <tbody>\n",
       "    <tr>\n",
       "      <td>count</td>\n",
       "      <td>43175.000000</td>\n",
       "      <td>43175.000000</td>\n",
       "      <td>43175.0</td>\n",
       "      <td>43175.0</td>\n",
       "    </tr>\n",
       "    <tr>\n",
       "      <td>mean</td>\n",
       "      <td>7.571981</td>\n",
       "      <td>0.102718</td>\n",
       "      <td>0.0</td>\n",
       "      <td>0.0</td>\n",
       "    </tr>\n",
       "    <tr>\n",
       "      <td>std</td>\n",
       "      <td>22.312385</td>\n",
       "      <td>0.300339</td>\n",
       "      <td>0.0</td>\n",
       "      <td>0.0</td>\n",
       "    </tr>\n",
       "    <tr>\n",
       "      <td>min</td>\n",
       "      <td>0.000000</td>\n",
       "      <td>0.000000</td>\n",
       "      <td>0.0</td>\n",
       "      <td>-0.0</td>\n",
       "    </tr>\n",
       "    <tr>\n",
       "      <td>25%</td>\n",
       "      <td>0.000000</td>\n",
       "      <td>0.000000</td>\n",
       "      <td>0.0</td>\n",
       "      <td>0.0</td>\n",
       "    </tr>\n",
       "    <tr>\n",
       "      <td>50%</td>\n",
       "      <td>0.000000</td>\n",
       "      <td>0.000000</td>\n",
       "      <td>0.0</td>\n",
       "      <td>-0.0</td>\n",
       "    </tr>\n",
       "    <tr>\n",
       "      <td>75%</td>\n",
       "      <td>0.000000</td>\n",
       "      <td>0.000000</td>\n",
       "      <td>0.0</td>\n",
       "      <td>0.0</td>\n",
       "    </tr>\n",
       "    <tr>\n",
       "      <td>max</td>\n",
       "      <td>101.315000</td>\n",
       "      <td>1.436000</td>\n",
       "      <td>0.0</td>\n",
       "      <td>-0.0</td>\n",
       "    </tr>\n",
       "  </tbody>\n",
       "</table>\n",
       "</div>"
      ],
      "text/plain": [
       "         HV_voltage    HV_current  dose_corrected  neutron_output\n",
       "count  43175.000000  43175.000000         43175.0         43175.0\n",
       "mean       7.571981      0.102718             0.0             0.0\n",
       "std       22.312385      0.300339             0.0             0.0\n",
       "min        0.000000      0.000000             0.0            -0.0\n",
       "25%        0.000000      0.000000             0.0             0.0\n",
       "50%        0.000000      0.000000             0.0            -0.0\n",
       "75%        0.000000      0.000000             0.0             0.0\n",
       "max      101.315000      1.436000             0.0            -0.0"
      ]
     },
     "execution_count": 27,
     "metadata": {},
     "output_type": "execute_result"
    }
   ],
   "source": [
    "this_data.describe()"
   ]
  },
  {
   "cell_type": "code",
   "execution_count": null,
   "metadata": {},
   "outputs": [],
   "source": []
  }
 ],
 "metadata": {
  "kernelspec": {
   "display_name": "Python 3",
   "language": "python",
   "name": "python3"
  },
  "language_info": {
   "codemirror_mode": {
    "name": "ipython",
    "version": 3
   },
   "file_extension": ".py",
   "mimetype": "text/x-python",
   "name": "python",
   "nbconvert_exporter": "python",
   "pygments_lexer": "ipython3",
   "version": "3.7.4"
  }
 },
 "nbformat": 4,
 "nbformat_minor": 4
}
