{
 "cells": [
  {
   "cell_type": "code",
   "execution_count": null,
   "metadata": {},
   "outputs": [],
   "source": [
    "import numpy as np\n",
    "import pandas as pd\n",
    "import matplotlib.pyplot as plt\n",
    "import matplotlib\n",
    "import os\n",
    "os.environ[\"PATH\"] += os.pathsep + '/usr/local/texlive/2018/bin/x86_64-darwin'\n",
    "plt.rc('text', usetex=True)\n",
    "plt.rc('font', weight='bold')\n",
    "import re"
   ]
  },
  {
   "cell_type": "markdown",
   "metadata": {},
   "source": [
    "## Import Data"
   ]
  },
  {
   "cell_type": "code",
   "execution_count": null,
   "metadata": {},
   "outputs": [],
   "source": [
    "fnames = ['/Users/hkromer/02_PhD/02_Data/08.Microwave.PermanentMagnets/Messung01_magneticField.txt', '/Users/hkromer/02_PhD/02_Data/08.Microwave.PermanentMagnets/Messung02_magneticField.txt']"
   ]
  },
  {
   "cell_type": "code",
   "execution_count": null,
   "metadata": {},
   "outputs": [],
   "source": [
    "dfs = []\n",
    "for fname in fnames:\n",
    "    df = pd.read_csv(fname, skiprows=0, delimiter='\\t')\n",
    "    df.iloc[:,1] = df.iloc[:,1] * 1000 # convert to Gauss\n",
    "    dfs.append(df)\n"
   ]
  },
  {
   "cell_type": "markdown",
   "metadata": {},
   "source": [
    "## Plot"
   ]
  },
  {
   "cell_type": "code",
   "execution_count": null,
   "metadata": {},
   "outputs": [],
   "source": [
    "plt.plot(dfs[0].iloc[:,0], dfs[0].iloc[:,1], marker='o',label='Messung 01', alpha=0.4)\n",
    "\n",
    "plt.plot(dfs[1].iloc[:,0], dfs[1].iloc[:,1], marker='s', label='Messung 02', alpha=0.4)\n",
    "xlim = plt.gca().get_xlim()\n",
    "plt.plot([-10,200], [875, 875], color='red', linestyle='dashed', label='ECR, 875 Gauss')\n",
    "plt.legend()\n",
    "plt.grid()\n",
    "plt.xlabel('Distance from iron frontplate [mm]')\n",
    "plt.ylabel('Magnetic field (Bz) [Gauss]')\n",
    "ylim = plt.gca().get_ylim()\n",
    "plt.ylim(0, ylim[1])\n",
    "plt.xlim(xlim)\n",
    "plt.show()"
   ]
  },
  {
   "cell_type": "code",
   "execution_count": null,
   "metadata": {},
   "outputs": [],
   "source": [
    "dfs[1]"
   ]
  },
  {
   "cell_type": "markdown",
   "metadata": {},
   "source": [
    "# COMSOL Model\n",
    "- Iron frontplate is at position 0 mm\n",
    "- Plasma cup extends into the minus direction\n",
    "- Data is in /Users/hkromer/02_PhD/02_Data/01_COMSOL/04.Microwave/BfieldData/02.damaged.Br1.10.relPermIron1000.1mmHole.csv and /Users/hkromer/02_PhD/02_Data/01_COMSOL/04.Microwave/BfieldData/02.damaged.Br1.03.relPermIron1000.1mmHole.csv\n",
    "    - the data is for X {-100, 10, 1}, Y {-5, 5, 0.2}, Z {-5, 5, 0.2}\n",
    "    - header: X,Y,Z, mfnc.normB (mT)\n",
    "- From the manufacturer the magnetic flux density in the magnets is typically 1.10T, but certified to be higher than 1.03T\n",
    "- Original simulation are in /Users/hkromer/02_PhD/02_Data/01_COMSOL/04.Microwave/03.undamaged.Br1.10.relPermIron1000.1mmHole_out.mph and /Users/hkromer/02_PhD/02_Data/01_COMSOL/04.Microwave/03.undamaged.Br1.03.relPermIron1000.1mmHole_out.mph\n",
    "\n",
    "## Treat each y and z value separately\n",
    "- for each x value find the minimum and maximum B field (depending on the y, z values)\n",
    "- store in a new column\n",
    "- plot this around the centerline (y=z=0)\n",
    "\n",
    "## Transform\n",
    "\n",
    "In the measurement the x=0mm is the frontplate, same is for the COMSOL. But in the COMSOL simulation the x goes in - direction, so everything has to be multiplied with -1.\n",
    "\n",
    "The values at x =0 is not physical\n",
    "\n",
    "## Take experimental error into account\n",
    "- assumption is that ±1.5mm for the position for x<40 mm, and ±3mm for further away"
   ]
  },
  {
   "cell_type": "code",
   "execution_count": null,
   "metadata": {},
   "outputs": [],
   "source": [
    "fnames = ['/Users/hkromer/02_PhD/02_Data/01_COMSOL/04.Microwave/BfieldData/02.damaged.Br1.03.relPermIron1000.1mmHole.csv', '/Users/hkromer/02_PhD/02_Data/01_COMSOL/04.Microwave/BfieldData/02.damaged.Br1.10.relPermIron1000.1mmHole.newIron.csv']\n",
    "output_folder ='/Users/hkromer/polybox/Thesis/Chapters/FurtherNeutronGeneratorUpgrades/Figures/Magnetic_fiel_measurement_simulation/'\n",
    "dfs_comsol = []\n",
    "dfs_comsol_maxmin = []\n",
    "dfs_comsol_centerline = []\n",
    "dfs_comsol_2mmline = []\n",
    "\n",
    "\n",
    "def find_max_Bfield(df):\n",
    "    mymax = df['normB_Gauss'].max()\n",
    "    mymin = df['normB_Gauss'].min()\n",
    "    return pd.Series({'normB_Gauss_max': mymax, 'normB_Gauss_min': mymin})\n",
    "\n",
    "\n",
    "# load the files and append into a list of dataframes\n",
    "for fname in fnames:\n",
    "    df_comsol = pd.read_csv(fname, skiprows=8)\n",
    "    df_comsol.columns = ['x', 'y', 'z', 'normB_mT']\n",
    "    df_comsol['normB_Gauss'] = df_comsol['normB_mT'] * 10\n",
    "    print(df_comsol.info())\n",
    "    dfs_comsol.append(df_comsol)\n",
    "    \n",
    "    \n",
    "\n",
    "    df_comsol = df_comsol.sort_values(by=['x'])\n",
    "\n",
    "\n",
    "    df_comsol_maxmin = df_comsol.groupby('x').apply(lambda x: find_max_Bfield(x))\n",
    "    # transform\n",
    "    df_comsol_maxmin['x'] = df_comsol_maxmin.index * -1.0\n",
    "    df_comsol_maxmin.set_index('x', inplace=True) \n",
    "    df_comsol_maxmin.drop([0.0, -1.0], inplace=True)\n",
    "    dfs_comsol_maxmin.append(df_comsol_maxmin)\n",
    "    print(df_comsol_maxmin.describe())\n",
    "    \n",
    "    df_comsol_centerline = df_comsol[ (df_comsol['y']==0) & (df_comsol['z']==0) ]\n",
    "    df_comsol_centerline['x'] = df_comsol_centerline['x'] * -1.0\n",
    "    df_comsol_centerline.set_index('x', inplace=True) \n",
    "    dfs_comsol_centerline.append(df_comsol_centerline)\n",
    "    \n",
    "    df_comsol_2mmline = df_comsol[ (df_comsol['y']==-5) & (df_comsol['z']==5) ]\n",
    "    df_comsol_2mmline['x'] = df_comsol_2mmline['x'] * -1.0\n",
    "    df_comsol_2mmline.set_index('x', inplace=True) \n",
    "    dfs_comsol_2mmline.append(df_comsol_2mmline)"
   ]
  },
  {
   "cell_type": "markdown",
   "metadata": {},
   "source": [
    "## Experiment and Simulation in comparison"
   ]
  },
  {
   "cell_type": "code",
   "execution_count": null,
   "metadata": {},
   "outputs": [],
   "source": [
    "smallerror = 1.5\n",
    "bigerror = 3\n",
    "def add_error(row, smallerror, bigerror):\n",
    "    if row < 40:\n",
    "        return pd.Series({'x_plus': row+smallerror, 'x_minus': row-smallerror})\n",
    "    else:\n",
    "        return pd.Series({'x_plus': row+bigerror, 'x_minus': row-bigerror})\n",
    "\n",
    "    \n",
    "a = dfs[1].iloc[:,0].apply(lambda x: add_error(x, smallerror, bigerror))\n",
    "df_error = pd.concat([a, dfs[1]], axis=1)"
   ]
  },
  {
   "cell_type": "code",
   "execution_count": null,
   "metadata": {},
   "outputs": [],
   "source": [
    "# take error into account\n",
    "from scipy.interpolate import interp1d\n",
    "f1 = interp1d(df_error['x_plus'], df_error.iloc[:,3], kind='cubic', fill_value=\"extrapolate\")\n",
    "f2 = interp1d(df_error['x_minus'], df_error.iloc[:,3], kind='cubic', fill_value=\"extrapolate\")"
   ]
  },
  {
   "cell_type": "code",
   "execution_count": null,
   "metadata": {},
   "outputs": [],
   "source": [
    "import os, matplotlib\n",
    "os.environ[\"PATH\"] += os.pathsep + '/usr/local/texlive/2018/bin/x86_64-darwin'\n",
    "plt.rc('text', usetex=True)\n",
    "plt.rc('font', weight='bold')\n",
    "matplotlib.rcParams['mathtext.fontset'] = 'custom'\n",
    "matplotlib.rcParams['mathtext.rm'] = 'Arial'\n",
    "matplotlib.rcParams['mathtext.it'] = 'Arial:italic'\n",
    "matplotlib.rcParams['mathtext.bf'] = 'Arial:bold'\n",
    "matplotlib.rcParams['mathtext.tt'] = 'Arial'\n",
    "matplotlib.rcParams['mathtext.cal'] = 'Arial'\n",
    "matplotlib.rcParams['text.latex.preamble'] = [r'\\usepackage{sfmath} \\boldmath']\n",
    "\n",
    "fig = plt.figure(figsize=(8,6))\n",
    "fs = 20\n",
    "# plt.plot(dfs[0].iloc[:,0], dfs[0].iloc[:,1], marker='o',label='Messung 01', alpha=0.75)\n",
    "\n",
    "\n",
    "\n",
    "plt.plot(dfs_comsol_centerline[1].index, dfs_comsol_centerline[1].loc[:,'normB_Gauss'], color='darkorange', label='Simulation at y=z=0 mm',  linewidth=2)\n",
    "plt.plot([38.5, 38.5], [200, 1200], '--', color='black')\n",
    "plt.plot([0, 0], [200, 1200], '--', color='black')\n",
    "# plt.plot(dfs_comsol_2mmline[1].index, dfs_comsol_2mmline[1].loc[:,'normB_Gauss'], color='darkred', label='Simulation, 1.10 T 2mm line',  linewidth=1)\n",
    "# plt.plot(dfs_comsol_centerline[0].index, dfs_comsol_centerline[0].loc[:,'normB_Gauss'], color='darkgreen', label='Simulation 1.03 T centerline',  linewidth=1)\n",
    "# plt.plot(dfs_comsol_maxmin[1].index, dfs_comsol_maxmin[1].loc[:,'normB_Gauss_min'], color='darkred', label='Simulation 1.10 T max',  linewidth=1)\n",
    "# plt.plot(dfs_comsol_maxmin[0].index, dfs_comsol_maxmin[0].loc[:,'normB_Gauss_min'], color='darkorange', label='Simulation 1.03 T min',  linewidth=1)\n",
    "# plt.fill_between(dfs_comsol_maxmin[0].index, dfs_comsol_maxmin[1].loc[:,'normB_Gauss_min'], dfs_comsol_maxmin[0].loc[:,'normB_Gauss_min'], alpha=0.3,color='darkred')\n",
    "\n",
    "plt.plot(dfs[1].iloc[:,0], dfs[1].iloc[:,1], marker='o', color='darkblue', markeredgecolor='darkblue', markersize=8, label='Experiment')\n",
    "plt.fill_between(dfs[1].iloc[:,0], f1(dfs[1].iloc[:,0]), f2(dfs[1].iloc[:,0]), alpha=0.25, color='darkblue', linewidth=0)\n",
    "\n",
    "\n",
    "xlim = plt.gca().get_xlim()\n",
    "plt.plot([-10,200], [875, 875], color='red', linestyle='dashed', label='ECR (875 G)')\n",
    "plt.legend(fontsize=fs-6)\n",
    "plt.grid()\n",
    "plt.xlabel(r'\\textbf{Distance from ferritic frontplate [mm]}', fontsize=fs, labelpad=2)\n",
    "plt.ylabel(r'\\textbf{Magnetic field density [G]}', fontsize=fs, labelpad=2)\n",
    "ylim = plt.gca().get_ylim()\n",
    "plt.gca().tick_params('x', colors='black', labelsize=fs-2)\t\n",
    "plt.gca().tick_params('y', colors='black', labelsize=fs-2)\n",
    "plt.text(36, 400, 'Bottom of plasma cup', fontsize=14, rotation=90)\n",
    "plt.text(1, 400, 'Plasma aperture', fontsize=14, rotation=90)\n",
    "\n",
    "plt.ylim(200, 1200)\n",
    "plt.xlim(-2,85)\n",
    "plt.tight_layout()\n",
    "plt.savefig(f'{output_folder}Magnetic_fiel_measurement_simulation.pdf', dpi=900)\n",
    "plt.show()"
   ]
  },
  {
   "cell_type": "markdown",
   "metadata": {},
   "source": []
  },
  {
   "cell_type": "markdown",
   "metadata": {},
   "source": [
    "## Plot"
   ]
  },
  {
   "cell_type": "code",
   "execution_count": null,
   "metadata": {},
   "outputs": [],
   "source": [
    "plt.plot(df_comsol_maxmin.index, df_comsol_maxmin['normB_Gauss_max'], color='red', label='max', alpha=0.4)\n",
    "plt.plot(df_comsol_maxmin.index, df_comsol_maxmin['normB_Gauss_min'], color='red', label='min', alpha=0.4)\n",
    "\n",
    "xlim = plt.gca().get_xlim()\n",
    "plt.plot([-10,200], [875, 875], color='red', linestyle='dashed', label='ECR, 875 Gauss')\n",
    "plt.legend()\n",
    "plt.grid()\n",
    "plt.xlabel('Distance from iron frontplate [mm]')\n",
    "plt.ylabel('Magnetic field (Bz) [Gauss]')\n",
    "\n",
    "# plt.ylim(0, ylim[1])\n",
    "plt.xlim(xlim)\n",
    "plt.show()"
   ]
  },
  {
   "cell_type": "markdown",
   "metadata": {},
   "source": [
    "## Experiment and Simulation in comparison"
   ]
  },
  {
   "cell_type": "code",
   "execution_count": null,
   "metadata": {},
   "outputs": [],
   "source": [
    "plt.figure(figsize=(20,10))\n",
    "plt.plot(dfs[0].iloc[:,0], dfs[0].iloc[:,1], marker='o',label='Messung 01', alpha=0.75)\n",
    "\n",
    "plt.plot(dfs[1].iloc[:,0], dfs[1].iloc[:,1], marker='s', label='Messung 02', alpha=0.75)\n",
    "\n",
    "xlim = plt.gca().get_xlim()\n",
    "plt.plot(df_comsol_maxmin.index, df_comsol_maxmin['normB_Gauss_max'], color='red', label='max', alpha=0.4)\n",
    "plt.plot(df_comsol_maxmin.index, df_comsol_maxmin['normB_Gauss_min'], color='green', label='min', alpha=0.4)\n",
    "# plt.plot([-10,200], [875, 875], color='red', linestyle='dashed', label='ECR, 875 Gauss')\n",
    "plt.legend()\n",
    "plt.grid()\n",
    "plt.xlabel('Distance from iron frontplate [mm]')\n",
    "plt.ylabel('Magnetic field (Bz) [Gauss]')\n",
    "ylim = plt.gca().get_ylim()\n",
    "plt.ylim(0, 1200)\n",
    "plt.xlim(xlim)\n",
    "plt.show()"
   ]
  },
  {
   "cell_type": "markdown",
   "metadata": {},
   "source": [
    "## compare different relative iron plate values"
   ]
  },
  {
   "cell_type": "code",
   "execution_count": null,
   "metadata": {},
   "outputs": [],
   "source": [
    "path = '/Users/hkromer/02_PhD/02_Data/01_COMSOL/04.Microwave/BfieldData/'\n",
    "fnames = os.listdir(path)\n",
    "fnames = [f'{path}{f}' for f in fnames if f.endswith('csv')]\n",
    "fnames"
   ]
  },
  {
   "cell_type": "code",
   "execution_count": null,
   "metadata": {},
   "outputs": [],
   "source": [
    "dfs = []\n",
    "def find_max_Bfield(df):\n",
    "    mymax = df['normB_Gauss'].max()\n",
    "    mymin = df['normB_Gauss'].min()\n",
    "    return pd.Series({'normB_Gauss_max': mymax, 'normB_Gauss_min': mymin})\n",
    "\n",
    "for fname in fnames:\n",
    "    ID = re.findall(r'Iron(\\d+)\\.', fname)[0]\n",
    "    df_comsol = pd.read_csv(fname, skiprows=8)\n",
    "    df_comsol.columns = ['x', 'y', 'z', 'normB_mT']\n",
    "    df_comsol['normB_Gauss'] = df_comsol['normB_mT'] * 10\n",
    "    df_comsol = df_comsol.sort_values(by=['x'])\n",
    "\n",
    "    df_comsol_maxmin = df_comsol.groupby('x').apply(lambda x: find_max_Bfield(x))\n",
    "    df_comsol_maxmin['ID'] = ID\n",
    "    dfs.append(df_comsol_maxmin)"
   ]
  },
  {
   "cell_type": "code",
   "execution_count": null,
   "metadata": {},
   "outputs": [],
   "source": [
    "for df_comsol_maxmin in dfs:\n",
    "    ID = df_comsol_maxmin.ID.unique()[0]\n",
    "    plt.plot(df_comsol_maxmin.index, df_comsol_maxmin['normB_Gauss_max'], label=f'{ID}_max', alpha=0.4)\n",
    "\n",
    "xlim = plt.gca().get_xlim()\n",
    "# plt.plot([-10,200], [875, 875], color='red', linestyle='dashed', label='ECR, 875 Gauss')\n",
    "plt.legend()\n",
    "plt.grid()\n",
    "plt.xlabel('Distance from iron frontplate [mm]')\n",
    "plt.ylabel('Magnetic field (Bz) [Gauss]')\n",
    "\n",
    "# plt.ylim(0, ylim[1])\n",
    "plt.xlim(xlim)\n",
    "plt.show()"
   ]
  },
  {
   "cell_type": "code",
   "execution_count": null,
   "metadata": {},
   "outputs": [],
   "source": [
    "for df_comsol_maxmin in dfs:\n",
    "    ID = df_comsol_maxmin.ID.unique()[0]\n",
    "    plt.plot(df_comsol_maxmin.index, df_comsol_maxmin['normB_Gauss_min'], label=f'{ID}_min', alpha=0.4)\n",
    "\n",
    "xlim = plt.gca().get_xlim()\n",
    "# plt.plot([-10,200], [875, 875], color='red', linestyle='dashed', label='ECR, 875 Gauss')\n",
    "plt.legend()\n",
    "plt.grid()\n",
    "plt.xlabel('Distance from iron frontplate [mm]')\n",
    "plt.ylabel('Magnetic field (Bz) [Gauss]')\n",
    "\n",
    "plt.ylim(915,917)\n",
    "plt.xlim(xlim)\n",
    "plt.show()"
   ]
  },
  {
   "cell_type": "code",
   "execution_count": null,
   "metadata": {},
   "outputs": [],
   "source": []
  },
  {
   "cell_type": "code",
   "execution_count": null,
   "metadata": {},
   "outputs": [],
   "source": []
  },
  {
   "cell_type": "code",
   "execution_count": null,
   "metadata": {},
   "outputs": [],
   "source": []
  },
  {
   "cell_type": "code",
   "execution_count": null,
   "metadata": {},
   "outputs": [],
   "source": []
  },
  {
   "cell_type": "code",
   "execution_count": null,
   "metadata": {},
   "outputs": [],
   "source": []
  },
  {
   "cell_type": "code",
   "execution_count": null,
   "metadata": {},
   "outputs": [],
   "source": []
  },
  {
   "cell_type": "code",
   "execution_count": null,
   "metadata": {},
   "outputs": [],
   "source": []
  },
  {
   "cell_type": "code",
   "execution_count": null,
   "metadata": {},
   "outputs": [],
   "source": []
  },
  {
   "cell_type": "code",
   "execution_count": null,
   "metadata": {},
   "outputs": [],
   "source": []
  }
 ],
 "metadata": {
  "kernelspec": {
   "display_name": "Python 3",
   "language": "python",
   "name": "python3"
  },
  "language_info": {
   "codemirror_mode": {
    "name": "ipython",
    "version": 3
   },
   "file_extension": ".py",
   "mimetype": "text/x-python",
   "name": "python",
   "nbconvert_exporter": "python",
   "pygments_lexer": "ipython3",
   "version": "3.8.1"
  }
 },
 "nbformat": 4,
 "nbformat_minor": 4
}
