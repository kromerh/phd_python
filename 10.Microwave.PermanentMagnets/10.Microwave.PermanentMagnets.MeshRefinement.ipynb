{
 "cells": [
  {
   "cell_type": "code",
   "execution_count": 53,
   "metadata": {},
   "outputs": [],
   "source": [
    "import pandas as pd\n",
    "import matplotlib.pyplot as plt\n",
    "from matplotlib.ticker import AutoMinorLocator\n",
    "import numpy as np\n",
    "import matplotlib\n",
    "import os\n",
    "os.environ[\"PATH\"] += os.pathsep + '/usr/local/texlive/2018/bin/x86_64-darwin'\n",
    "plt.rc('text', usetex=True)\n",
    "plt.rc('font', weight='bold')"
   ]
  },
  {
   "cell_type": "code",
   "execution_count": 65,
   "metadata": {},
   "outputs": [
    {
     "data": {
      "text/html": [
       "<div>\n",
       "<style scoped>\n",
       "    .dataframe tbody tr th:only-of-type {\n",
       "        vertical-align: middle;\n",
       "    }\n",
       "\n",
       "    .dataframe tbody tr th {\n",
       "        vertical-align: top;\n",
       "    }\n",
       "\n",
       "    .dataframe thead th {\n",
       "        text-align: right;\n",
       "    }\n",
       "</style>\n",
       "<table border=\"1\" class=\"dataframe\">\n",
       "  <thead>\n",
       "    <tr style=\"text-align: right;\">\n",
       "      <th></th>\n",
       "      <th>n_mesh</th>\n",
       "      <th>magneticEnergy</th>\n",
       "      <th>ndof</th>\n",
       "    </tr>\n",
       "  </thead>\n",
       "  <tbody>\n",
       "    <tr>\n",
       "      <th>4</th>\n",
       "      <td>5.0</td>\n",
       "      <td>55.931999</td>\n",
       "      <td>308613</td>\n",
       "    </tr>\n",
       "    <tr>\n",
       "      <th>3</th>\n",
       "      <td>2.0</td>\n",
       "      <td>55.938486</td>\n",
       "      <td>569614</td>\n",
       "    </tr>\n",
       "    <tr>\n",
       "      <th>2</th>\n",
       "      <td>1.0</td>\n",
       "      <td>55.995147</td>\n",
       "      <td>2367556</td>\n",
       "    </tr>\n",
       "    <tr>\n",
       "      <th>1</th>\n",
       "      <td>0.8</td>\n",
       "      <td>56.016187</td>\n",
       "      <td>4241628</td>\n",
       "    </tr>\n",
       "    <tr>\n",
       "      <th>0</th>\n",
       "      <td>0.5</td>\n",
       "      <td>56.059478</td>\n",
       "      <td>15968812</td>\n",
       "    </tr>\n",
       "  </tbody>\n",
       "</table>\n",
       "</div>"
      ],
      "text/plain": [
       "   n_mesh  magneticEnergy      ndof\n",
       "4     5.0       55.931999    308613\n",
       "3     2.0       55.938486    569614\n",
       "2     1.0       55.995147   2367556\n",
       "1     0.8       56.016187   4241628\n",
       "0     0.5       56.059478  15968812"
      ]
     },
     "execution_count": 65,
     "metadata": {},
     "output_type": "execute_result"
    }
   ],
   "source": [
    "fname = '/Users/hkromer/02_PhD/02_Data/01_COMSOL/04.Microwave/03.undamaged.Br1.03.relPermIron1000.1mmHole.MR.everywhere.csv'\n",
    "output_folder = '/Users/hkromer/02_PhD/02_Data/01_COMSOL/04.Microwave/'\n",
    "df = pd.read_csv(fname, skiprows=4)\n",
    "df.columns = ['n_mesh', 'magneticEnergy', 'ndof']\n",
    "# drop the n_mesh = 10 value because of weird mesh\n",
    "df = df[df['n_mesh'] != 10]\n",
    "df.sort_values(by='n_mesh', ascending=False, inplace=True)\n",
    "df"
   ]
  },
  {
   "cell_type": "code",
   "execution_count": 66,
   "metadata": {},
   "outputs": [
    {
     "data": {
      "image/png": "[encoded data removed]",
      "text/plain": [
       "<Figure size 345.6x216 with 1 Axes>"
      ]
     },
     "metadata": {
      "needs_background": "light"
     },
     "output_type": "display_data"
    }
   ],
   "source": [
    "plt.rc('text', usetex=True)\n",
    "plt.rc('font', weight='bold')\n",
    "matplotlib.rcParams['mathtext.fontset'] = 'custom'\n",
    "matplotlib.rcParams['mathtext.rm'] = 'Arial'\n",
    "matplotlib.rcParams['mathtext.it'] = 'Arial:italic'\n",
    "matplotlib.rcParams['mathtext.bf'] = 'Arial:bold'\n",
    "matplotlib.rcParams['mathtext.tt'] = 'Arial'\n",
    "matplotlib.rcParams['mathtext.cal'] = 'Arial'\n",
    "matplotlib.rcParams['text.latex.preamble'] = [r'\\usepackage{sfmath} \\boldmath']\n",
    "\n",
    "fig = plt.figure(figsize=(8*0.60,5*0.60))\n",
    "\n",
    "plt.plot(df['ndof']/1e7, df['magneticEnergy'], marker='o', color='darkblue',  markersize=5, alpha=0.65, markeredgewidth=1.5, markeredgecolor='darkblue')\n",
    "\n",
    "xlim = plt.gca().get_xlim()\n",
    "\n",
    "# plt.legend()\n",
    "\n",
    "plt.xlabel(r'\\textbf{Number of degrees of freedom [$\\cdot 10^7$]}', fontsize=12, labelpad=2)\n",
    "plt.ylabel(r'\\textbf{Magnetic energy [J]}', fontsize=12, labelpad=2)\n",
    "ylim = plt.gca().get_ylim()\n",
    "plt.ylim(55.9, 56.2)\n",
    "plt.yticks(np.arange(55.9,56.2, 0.1))\n",
    "minor_locator = AutoMinorLocator(2)\n",
    "plt.gca().yaxis.set_minor_locator(minor_locator)\n",
    "plt.gca().grid(b=True, which='major', linestyle='-')#, color='gray')\n",
    "plt.gca().grid(b=True, which='minor', linestyle='--')#, color='gray')\n",
    "plt.gca().tick_params('x', colors='black', labelsize=12)\t\n",
    "plt.gca().tick_params('y', colors='black', labelsize=12)\n",
    "# plt.xlim(-2,85)\n",
    "plt.tight_layout()\n",
    "plt.savefig(f'{output_folder}mesh_refinement.pdf', dpi=900)\n",
    "plt.show()"
   ]
  },
  {
   "cell_type": "code",
   "execution_count": null,
   "metadata": {},
   "outputs": [],
   "source": []
  },
  {
   "cell_type": "code",
   "execution_count": null,
   "metadata": {},
   "outputs": [],
   "source": []
  },
  {
   "cell_type": "code",
   "execution_count": null,
   "metadata": {},
   "outputs": [],
   "source": []
  },
  {
   "cell_type": "code",
   "execution_count": null,
   "metadata": {},
   "outputs": [],
   "source": []
  }
 ],
 "metadata": {
  "kernelspec": {
   "display_name": "Python 3",
   "language": "python",
   "name": "python3"
  },
  "language_info": {
   "codemirror_mode": {
    "name": "ipython",
    "version": 3
   },
   "file_extension": ".py",
   "mimetype": "text/x-python",
   "name": "python",
   "nbconvert_exporter": "python",
   "pygments_lexer": "ipython3",
   "version": "3.7.2"
  }
 },
 "nbformat": 4,
 "nbformat_minor": 2
}
