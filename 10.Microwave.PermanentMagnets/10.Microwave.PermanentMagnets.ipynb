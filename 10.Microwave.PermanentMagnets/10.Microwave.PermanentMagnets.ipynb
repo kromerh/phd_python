{
 "cells": [
  {
   "cell_type": "code",
   "execution_count": 1,
   "metadata": {},
   "outputs": [],
   "source": [
    "import numpy as np\n",
    "import pandas as pd\n",
    "import matplotlib.pyplot as plt"
   ]
  },
  {
   "cell_type": "markdown",
   "metadata": {},
   "source": [
    "## Import Data"
   ]
  },
  {
   "cell_type": "code",
   "execution_count": 2,
   "metadata": {},
   "outputs": [],
   "source": [
    "fnames = ['/Users/hkromer/02_PhD/02_Data/08.Microwave.PermanentMagnets/Messung01_magneticField.txt', '/Users/hkromer/02_PhD/02_Data/08.Microwave.PermanentMagnets/Messung02_magneticField.txt']"
   ]
  },
  {
   "cell_type": "code",
   "execution_count": 3,
   "metadata": {},
   "outputs": [],
   "source": [
    "dfs = []\n",
    "for fname in fnames:\n",
    "    df = pd.read_csv(fname, skiprows=0, delimiter='\\t')\n",
    "    df.iloc[:,1] = df.iloc[:,1] * 1000 # convert to Gauss\n",
    "    dfs.append(df)\n"
   ]
  },
  {
   "cell_type": "markdown",
   "metadata": {},
   "source": [
    "## Plot"
   ]
  },
  {
   "cell_type": "code",
   "execution_count": 19,
   "metadata": {},
   "outputs": [
    {
     "data": {
      "image/png": "[encoded data removed]",
      "text/plain": [
       "<Figure size 432x288 with 1 Axes>"
      ]
     },
     "metadata": {
      "needs_background": "light"
     },
     "output_type": "display_data"
    }
   ],
   "source": [
    "plt.plot(dfs[0].iloc[:,0], dfs[0].iloc[:,1], marker='o',label='Messung 01', alpha=0.4)\n",
    "\n",
    "plt.plot(dfs[1].iloc[:,0], dfs[1].iloc[:,1], marker='s', label='Messung 02', alpha=0.4)\n",
    "xlim = plt.gca().get_xlim()\n",
    "plt.plot([-10,200], [875, 875], color='red', linestyle='dashed', label='ECR, 875 Gauss')\n",
    "plt.legend()\n",
    "plt.grid()\n",
    "plt.xlabel('Distance from iron frontplate [mm]')\n",
    "plt.ylabel('Magnetic field (Bz) [Gauss]')\n",
    "ylim = plt.gca().get_ylim()\n",
    "plt.ylim(0, ylim[1])\n",
    "plt.xlim(xlim)\n",
    "plt.show()"
   ]
  },
  {
   "cell_type": "markdown",
   "metadata": {},
   "source": [
    "# COMSOL Model\n",
    "- Iron frontplate is at position 0 mm\n",
    "- Plasma cup extends into the minus direction\n",
    "- Data is in /Users/hkromer/02_PhD/02_Data/01_COMSOL/04.Microwave/02.damaged.magneticFieldGrid.csv\n",
    "    - the data is for X {-100, 10, 1}, Y {-5, 5, 0.2}, Z {-5, 5, 0.2}\n",
    "    - header: X,Y,Z, mfnc.normB (mT)\n",
    "- Original simulation is in /Users/hkromer/02_PhD/02_Data/01_COMSOL/04.Microwave/02.damaged.mph"
   ]
  },
  {
   "cell_type": "code",
   "execution_count": 81,
   "metadata": {},
   "outputs": [
    {
     "name": "stdout",
     "output_type": "stream",
     "text": [
      "<class 'pandas.core.frame.DataFrame'>\n",
      "RangeIndex: 288711 entries, 0 to 288710\n",
      "Data columns (total 5 columns):\n",
      "x              288711 non-null float64\n",
      "y              288711 non-null float64\n",
      "z              288711 non-null float64\n",
      "normB_mT       288711 non-null float64\n",
      "normB_Gauss    288711 non-null float64\n",
      "dtypes: float64(5)\n",
      "memory usage: 11.0 MB\n",
      "None\n"
     ]
    },
    {
     "data": {
      "text/html": [
       "<div>\n",
       "<style scoped>\n",
       "    .dataframe tbody tr th:only-of-type {\n",
       "        vertical-align: middle;\n",
       "    }\n",
       "\n",
       "    .dataframe tbody tr th {\n",
       "        vertical-align: top;\n",
       "    }\n",
       "\n",
       "    .dataframe thead th {\n",
       "        text-align: right;\n",
       "    }\n",
       "</style>\n",
       "<table border=\"1\" class=\"dataframe\">\n",
       "  <thead>\n",
       "    <tr style=\"text-align: right;\">\n",
       "      <th></th>\n",
       "      <th>x</th>\n",
       "      <th>y</th>\n",
       "      <th>z</th>\n",
       "      <th>normB_mT</th>\n",
       "      <th>normB_Gauss</th>\n",
       "    </tr>\n",
       "  </thead>\n",
       "  <tbody>\n",
       "    <tr>\n",
       "      <th>0</th>\n",
       "      <td>-100.0</td>\n",
       "      <td>-5.0</td>\n",
       "      <td>-5.0</td>\n",
       "      <td>24.162996</td>\n",
       "      <td>241.629962</td>\n",
       "    </tr>\n",
       "    <tr>\n",
       "      <th>1</th>\n",
       "      <td>-99.0</td>\n",
       "      <td>-5.0</td>\n",
       "      <td>-5.0</td>\n",
       "      <td>23.210859</td>\n",
       "      <td>232.108592</td>\n",
       "    </tr>\n",
       "    <tr>\n",
       "      <th>2</th>\n",
       "      <td>-98.0</td>\n",
       "      <td>-5.0</td>\n",
       "      <td>-5.0</td>\n",
       "      <td>22.273074</td>\n",
       "      <td>222.730743</td>\n",
       "    </tr>\n",
       "    <tr>\n",
       "      <th>3</th>\n",
       "      <td>-97.0</td>\n",
       "      <td>-5.0</td>\n",
       "      <td>-5.0</td>\n",
       "      <td>21.351533</td>\n",
       "      <td>213.515326</td>\n",
       "    </tr>\n",
       "    <tr>\n",
       "      <th>4</th>\n",
       "      <td>-96.0</td>\n",
       "      <td>-5.0</td>\n",
       "      <td>-5.0</td>\n",
       "      <td>20.056738</td>\n",
       "      <td>200.567377</td>\n",
       "    </tr>\n",
       "  </tbody>\n",
       "</table>\n",
       "</div>"
      ],
      "text/plain": [
       "       x    y    z   normB_mT  normB_Gauss\n",
       "0 -100.0 -5.0 -5.0  24.162996   241.629962\n",
       "1  -99.0 -5.0 -5.0  23.210859   232.108592\n",
       "2  -98.0 -5.0 -5.0  22.273074   222.730743\n",
       "3  -97.0 -5.0 -5.0  21.351533   213.515326\n",
       "4  -96.0 -5.0 -5.0  20.056738   200.567377"
      ]
     },
     "execution_count": 81,
     "metadata": {},
     "output_type": "execute_result"
    }
   ],
   "source": [
    "fname = '/Users/hkromer/02_PhD/02_Data/01_COMSOL/04.Microwave/02.damaged.magneticFieldGrid.csv'\n",
    "df_comsol = pd.read_csv(fname, skiprows=8)\n",
    "df_comsol.columns = ['x', 'y', 'z', 'normB_mT']\n",
    "df_comsol['normB_Gauss'] = df_comsol['normB_mT'] * 10\n",
    "print(df_comsol.info())\n",
    "df_comsol.head()"
   ]
  },
  {
   "cell_type": "markdown",
   "metadata": {},
   "source": [
    "## Treat each y and z value separately\n",
    "- for each x value find the minimum and maximum B field (depending on the y, z values)\n",
    "- store in a new column\n",
    "- plot this around the centerline (y=z=0)"
   ]
  },
  {
   "cell_type": "code",
   "execution_count": 82,
   "metadata": {},
   "outputs": [],
   "source": [
    "df_comsol = df_comsol.sort_values(by=['x'])\n",
    "def find_max_Bfield(df):\n",
    "    mymax = df['normB_Gauss'].max()\n",
    "    mymin = df['normB_Gauss'].min()\n",
    "    return pd.Series({'normB_Gauss_max': mymax, 'normB_Gauss_min': mymin})\n",
    "\n",
    "df_comsol_maxmin = df_comsol.groupby('x').apply(lambda x: find_max_Bfield(x))"
   ]
  },
  {
   "cell_type": "code",
   "execution_count": 83,
   "metadata": {},
   "outputs": [
    {
     "data": {
      "text/html": [
       "<div>\n",
       "<style scoped>\n",
       "    .dataframe tbody tr th:only-of-type {\n",
       "        vertical-align: middle;\n",
       "    }\n",
       "\n",
       "    .dataframe tbody tr th {\n",
       "        vertical-align: top;\n",
       "    }\n",
       "\n",
       "    .dataframe thead th {\n",
       "        text-align: right;\n",
       "    }\n",
       "</style>\n",
       "<table border=\"1\" class=\"dataframe\">\n",
       "  <thead>\n",
       "    <tr style=\"text-align: right;\">\n",
       "      <th></th>\n",
       "      <th>normB_Gauss_max</th>\n",
       "      <th>normB_Gauss_min</th>\n",
       "    </tr>\n",
       "  </thead>\n",
       "  <tbody>\n",
       "    <tr>\n",
       "      <th>count</th>\n",
       "      <td>111.000000</td>\n",
       "      <td>111.000000</td>\n",
       "    </tr>\n",
       "    <tr>\n",
       "      <th>mean</th>\n",
       "      <td>695.315641</td>\n",
       "      <td>601.475512</td>\n",
       "    </tr>\n",
       "    <tr>\n",
       "      <th>std</th>\n",
       "      <td>429.937382</td>\n",
       "      <td>321.236672</td>\n",
       "    </tr>\n",
       "    <tr>\n",
       "      <th>min</th>\n",
       "      <td>116.394143</td>\n",
       "      <td>4.549748</td>\n",
       "    </tr>\n",
       "    <tr>\n",
       "      <th>25%</th>\n",
       "      <td>390.846491</td>\n",
       "      <td>289.817222</td>\n",
       "    </tr>\n",
       "    <tr>\n",
       "      <th>50%</th>\n",
       "      <td>814.418478</td>\n",
       "      <td>756.780883</td>\n",
       "    </tr>\n",
       "    <tr>\n",
       "      <th>75%</th>\n",
       "      <td>870.910922</td>\n",
       "      <td>860.219425</td>\n",
       "    </tr>\n",
       "    <tr>\n",
       "      <th>max</th>\n",
       "      <td>3308.209273</td>\n",
       "      <td>986.652316</td>\n",
       "    </tr>\n",
       "  </tbody>\n",
       "</table>\n",
       "</div>"
      ],
      "text/plain": [
       "       normB_Gauss_max  normB_Gauss_min\n",
       "count       111.000000       111.000000\n",
       "mean        695.315641       601.475512\n",
       "std         429.937382       321.236672\n",
       "min         116.394143         4.549748\n",
       "25%         390.846491       289.817222\n",
       "50%         814.418478       756.780883\n",
       "75%         870.910922       860.219425\n",
       "max        3308.209273       986.652316"
      ]
     },
     "execution_count": 83,
     "metadata": {},
     "output_type": "execute_result"
    }
   ],
   "source": [
    "df_comsol_maxmin.describe()"
   ]
  },
  {
   "cell_type": "markdown",
   "metadata": {},
   "source": [
    "## Transform\n",
    "\n",
    "In the measurement the x=0mm is the frontplate, same is for the COMSOL. But in the COMSOL simulation the x goes in - direction, so everything has to be multiplied with -1.\n",
    "\n",
    "The values at x =0 is not physical"
   ]
  },
  {
   "cell_type": "code",
   "execution_count": 84,
   "metadata": {},
   "outputs": [],
   "source": [
    "df_comsol_maxmin['x'] = df_comsol_maxmin.index * -1.0\n",
    "df_comsol_maxmin.set_index('x', inplace=True) \n",
    "\n",
    "df_comsol_maxmin.drop([0.0, -1.0], inplace=True)"
   ]
  },
  {
   "cell_type": "code",
   "execution_count": 85,
   "metadata": {},
   "outputs": [
    {
     "data": {
      "text/html": [
       "<div>\n",
       "<style scoped>\n",
       "    .dataframe tbody tr th:only-of-type {\n",
       "        vertical-align: middle;\n",
       "    }\n",
       "\n",
       "    .dataframe tbody tr th {\n",
       "        vertical-align: top;\n",
       "    }\n",
       "\n",
       "    .dataframe thead th {\n",
       "        text-align: right;\n",
       "    }\n",
       "</style>\n",
       "<table border=\"1\" class=\"dataframe\">\n",
       "  <thead>\n",
       "    <tr style=\"text-align: right;\">\n",
       "      <th></th>\n",
       "      <th>normB_Gauss_max</th>\n",
       "      <th>normB_Gauss_min</th>\n",
       "    </tr>\n",
       "    <tr>\n",
       "      <th>x</th>\n",
       "      <th></th>\n",
       "      <th></th>\n",
       "    </tr>\n",
       "  </thead>\n",
       "  <tbody>\n",
       "    <tr>\n",
       "      <th>11.0</th>\n",
       "      <td>974.334013</td>\n",
       "      <td>964.857987</td>\n",
       "    </tr>\n",
       "    <tr>\n",
       "      <th>10.0</th>\n",
       "      <td>982.688483</td>\n",
       "      <td>971.354745</td>\n",
       "    </tr>\n",
       "    <tr>\n",
       "      <th>9.0</th>\n",
       "      <td>990.876993</td>\n",
       "      <td>977.568430</td>\n",
       "    </tr>\n",
       "    <tr>\n",
       "      <th>8.0</th>\n",
       "      <td>997.856086</td>\n",
       "      <td>982.237224</td>\n",
       "    </tr>\n",
       "    <tr>\n",
       "      <th>7.0</th>\n",
       "      <td>1005.035475</td>\n",
       "      <td>985.245513</td>\n",
       "    </tr>\n",
       "    <tr>\n",
       "      <th>6.0</th>\n",
       "      <td>1010.487596</td>\n",
       "      <td>986.652316</td>\n",
       "    </tr>\n",
       "    <tr>\n",
       "      <th>5.0</th>\n",
       "      <td>1015.904626</td>\n",
       "      <td>984.232839</td>\n",
       "    </tr>\n",
       "    <tr>\n",
       "      <th>4.0</th>\n",
       "      <td>1020.169095</td>\n",
       "      <td>973.227202</td>\n",
       "    </tr>\n",
       "    <tr>\n",
       "      <th>3.0</th>\n",
       "      <td>1024.471110</td>\n",
       "      <td>946.629181</td>\n",
       "    </tr>\n",
       "    <tr>\n",
       "      <th>2.0</th>\n",
       "      <td>1027.695208</td>\n",
       "      <td>882.607068</td>\n",
       "    </tr>\n",
       "    <tr>\n",
       "      <th>1.0</th>\n",
       "      <td>1079.257860</td>\n",
       "      <td>737.168605</td>\n",
       "    </tr>\n",
       "    <tr>\n",
       "      <th>-2.0</th>\n",
       "      <td>1984.980059</td>\n",
       "      <td>55.551423</td>\n",
       "    </tr>\n",
       "    <tr>\n",
       "      <th>-3.0</th>\n",
       "      <td>601.933526</td>\n",
       "      <td>182.621707</td>\n",
       "    </tr>\n",
       "    <tr>\n",
       "      <th>-4.0</th>\n",
       "      <td>439.144681</td>\n",
       "      <td>254.641239</td>\n",
       "    </tr>\n",
       "    <tr>\n",
       "      <th>-5.0</th>\n",
       "      <td>405.986670</td>\n",
       "      <td>299.899184</td>\n",
       "    </tr>\n",
       "    <tr>\n",
       "      <th>-6.0</th>\n",
       "      <td>397.512156</td>\n",
       "      <td>326.188873</td>\n",
       "    </tr>\n",
       "    <tr>\n",
       "      <th>-7.0</th>\n",
       "      <td>393.773829</td>\n",
       "      <td>348.626075</td>\n",
       "    </tr>\n",
       "    <tr>\n",
       "      <th>-8.0</th>\n",
       "      <td>391.640777</td>\n",
       "      <td>362.031056</td>\n",
       "    </tr>\n",
       "    <tr>\n",
       "      <th>-9.0</th>\n",
       "      <td>390.052205</td>\n",
       "      <td>368.421675</td>\n",
       "    </tr>\n",
       "    <tr>\n",
       "      <th>-10.0</th>\n",
       "      <td>389.164875</td>\n",
       "      <td>373.079951</td>\n",
       "    </tr>\n",
       "  </tbody>\n",
       "</table>\n",
       "</div>"
      ],
      "text/plain": [
       "       normB_Gauss_max  normB_Gauss_min\n",
       "x                                      \n",
       " 11.0       974.334013       964.857987\n",
       " 10.0       982.688483       971.354745\n",
       " 9.0        990.876993       977.568430\n",
       " 8.0        997.856086       982.237224\n",
       " 7.0       1005.035475       985.245513\n",
       " 6.0       1010.487596       986.652316\n",
       " 5.0       1015.904626       984.232839\n",
       " 4.0       1020.169095       973.227202\n",
       " 3.0       1024.471110       946.629181\n",
       " 2.0       1027.695208       882.607068\n",
       " 1.0       1079.257860       737.168605\n",
       "-2.0       1984.980059        55.551423\n",
       "-3.0        601.933526       182.621707\n",
       "-4.0        439.144681       254.641239\n",
       "-5.0        405.986670       299.899184\n",
       "-6.0        397.512156       326.188873\n",
       "-7.0        393.773829       348.626075\n",
       "-8.0        391.640777       362.031056\n",
       "-9.0        390.052205       368.421675\n",
       "-10.0       389.164875       373.079951"
      ]
     },
     "execution_count": 85,
     "metadata": {},
     "output_type": "execute_result"
    }
   ],
   "source": [
    "\n",
    "# df_comsol_maxmin[df_comsol_maxmin['normB_Gauss_max']==df_comsol_maxmin.max().max()]\n",
    "df_comsol_maxmin.tail(20)"
   ]
  },
  {
   "cell_type": "markdown",
   "metadata": {},
   "source": [
    "## Plot"
   ]
  },
  {
   "cell_type": "code",
   "execution_count": 86,
   "metadata": {},
   "outputs": [
    {
     "data": {
      "image/png": "[encoded data removed]",
      "text/plain": [
       "<Figure size 432x288 with 1 Axes>"
      ]
     },
     "metadata": {
      "needs_background": "light"
     },
     "output_type": "display_data"
    }
   ],
   "source": [
    "plt.plot(df_comsol_maxmin.index, df_comsol_maxmin['normB_Gauss_max'], color='red', label='max', alpha=0.4)\n",
    "plt.plot(df_comsol_maxmin.index, df_comsol_maxmin['normB_Gauss_min'], color='red', label='min', alpha=0.4)\n",
    "\n",
    "xlim = plt.gca().get_xlim()\n",
    "plt.plot([-10,200], [875, 875], color='red', linestyle='dashed', label='ECR, 875 Gauss')\n",
    "plt.legend()\n",
    "plt.grid()\n",
    "plt.xlabel('Distance from iron frontplate [mm]')\n",
    "plt.ylabel('Magnetic field (Bz) [Gauss]')\n",
    "\n",
    "# plt.ylim(0, ylim[1])\n",
    "plt.xlim(xlim)\n",
    "plt.show()"
   ]
  },
  {
   "cell_type": "markdown",
   "metadata": {},
   "source": [
    "## Experiment and Simulation in comparison"
   ]
  },
  {
   "cell_type": "code",
   "execution_count": 91,
   "metadata": {},
   "outputs": [
    {
     "data": {
      "image/png": "[encoded data removed]",
      "text/plain": [
       "<Figure size 432x288 with 1 Axes>"
      ]
     },
     "metadata": {
      "needs_background": "light"
     },
     "output_type": "display_data"
    }
   ],
   "source": [
    "plt.plot(dfs[0].iloc[:,0], dfs[0].iloc[:,1], marker='o',label='Messung 01', alpha=0.4)\n",
    "\n",
    "plt.plot(dfs[1].iloc[:,0], dfs[1].iloc[:,1], marker='s', label='Messung 02', alpha=0.4)\n",
    "\n",
    "xlim = plt.gca().get_xlim()\n",
    "plt.plot(df_comsol_maxmin.index, df_comsol_maxmin['normB_Gauss_max'], color='red', label='max', alpha=0.4)\n",
    "plt.plot(df_comsol_maxmin.index, df_comsol_maxmin['normB_Gauss_min'], color='red', label='min', alpha=0.4)\n",
    "plt.plot([-10,200], [875, 875], color='red', linestyle='dashed', label='ECR, 875 Gauss')\n",
    "plt.legend()\n",
    "plt.grid()\n",
    "plt.xlabel('Distance from iron frontplate [mm]')\n",
    "plt.ylabel('Magnetic field (Bz) [Gauss]')\n",
    "ylim = plt.gca().get_ylim()\n",
    "plt.ylim(0, 1100)\n",
    "plt.xlim(xlim)\n",
    "plt.show()"
   ]
  },
  {
   "cell_type": "code",
   "execution_count": null,
   "metadata": {},
   "outputs": [],
   "source": []
  }
 ],
 "metadata": {
  "kernelspec": {
   "display_name": "Python 3",
   "language": "python",
   "name": "python3"
  },
  "language_info": {
   "codemirror_mode": {
    "name": "ipython",
    "version": 3
   },
   "file_extension": ".py",
   "mimetype": "text/x-python",
   "name": "python",
   "nbconvert_exporter": "python",
   "pygments_lexer": "ipython3",
   "version": "3.7.2"
  }
 },
 "nbformat": 4,
 "nbformat_minor": 2
}
