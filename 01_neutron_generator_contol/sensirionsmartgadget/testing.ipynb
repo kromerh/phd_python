{
 "cells": [
  {
   "cell_type": "code",
   "execution_count": null,
   "metadata": {},
   "outputs": [],
   "source": [
    "import pandas as pd\n",
    "import sqlalchemy as sql\n",
    "import datetime\n",
    "import pymysql\n",
    "\n",
    "# read password and user to database\n",
    "credentials_file = r'./credentials.pw'\n",
    "\n",
    "credentials = pd.read_csv(credentials_file, header=0)\n",
    "user = credentials['username'].values[0]\n",
    "pw = credentials['password'].values[0]\n",
    "\n",
    "host=\"twofast-rpi3-0\"  # your host\n",
    "user='reader' # username\n",
    "passwd='heiko'  # password\n",
    "db=\"NG_twofast_DB\" # name of the database\n",
    "connect_string = 'mysql+pymysql://%(user)s:%(pw)s@%(host)s:3306/%(db)s'% {\"user\": user, \"pw\": pw, \"host\": host, \"db\": db}\n",
    "sql_engine = sql.create_engine(connect_string)\n",
    "\n",
    "\n",
    "\n",
    "def truncateTable(tableName):\n",
    "    sql_engine.execute(\"TRUNCATE TABLE %(tbl)s\" % {\"tbl\": tableName})\n",
    "    \n",
    "\n",
    "def switchDLLstateInControlTable(sql_engine):\n",
    "    timeExecuted = datetime.datetime.now().strftime('%Y-%m-%d %H:%M:%S')\n",
    "    sql_engine.execute(\"UPDATE microwave_generator_control SET DLL_on = 1 - DLL_on, time = '%(timeExecuted)s' WHERE id = 1\" % {\"timeExecuted\": timeExecuted})\n",
    "\n",
    "def initializeDLLstateValue(sql_engine):\n",
    "    sql_engine.execute(\"INSERT INTO microwave_generator_control (DLL_on) VALUES (0)\")\n",
    "    \n",
    "def getState(sql_engine):\n",
    "    \"\"\"\n",
    "    Reads the last 10 entries of the two temperatures and returns it in a dataframe\n",
    "    \"\"\"\n",
    "    query = \"SELECT * FROM microwave_generator_state ORDER BY id DESC LIMIT 10\"\n",
    "    df = pd.read_sql(query, sql_engine)\n",
    "\n",
    "    # columns: time (timestamp), relais_5 (tinyint), relais_24 (tinyint), rf_status (tinyint), id (primary key)\n",
    "    return df"
   ]
  },
  {
   "cell_type": "code",
   "execution_count": 5,
   "metadata": {},
   "outputs": [],
   "source": [
    "import pandas as pd\n",
    "import sqlalchemy as sql\n",
    "import datetime\n",
    "import pymysql\n",
    "\n",
    "host=\"twofast-rpi3-0\"  # your host\n",
    "user='reader' # username\n",
    "pw='heiko'  # password\n",
    "db=\"NG_twofast_DB\" # name of the database\n",
    "connect_string = 'mysql+pymysql://%(user)s:%(pw)s@%(host)s:3306/%(db)s'% {\"user\": user, \"pw\": pw, \"host\": host, \"db\": db}\n",
    "sql_engine = sql.create_engine(connect_string)\n",
    "\n",
    "def insert_to_db(sql_engine, temp, humid):\n",
    "    sql_engine.execute(\"INSERT INTO temp_humid_sensor (temp, humid) VALUES (%(temp)s, %(humid)s)\" % {\"temp\":temp, \"humid\":humid})\n",
    "\n",
    "temp = 10\n",
    "humid = 11\n",
    "insert_to_db(sql_engine, temp, humid)"
   ]
  },
  {
   "cell_type": "code",
   "execution_count": null,
   "metadata": {},
   "outputs": [],
   "source": []
  }
 ],
 "metadata": {
  "kernelspec": {
   "display_name": "Python 3",
   "language": "python",
   "name": "python3"
  },
  "language_info": {
   "codemirror_mode": {
    "name": "ipython",
    "version": 3
   },
   "file_extension": ".py",
   "mimetype": "text/x-python",
   "name": "python",
   "nbconvert_exporter": "python",
   "pygments_lexer": "ipython3",
   "version": "3.7.3"
  }
 },
 "nbformat": 4,
 "nbformat_minor": 4
}
