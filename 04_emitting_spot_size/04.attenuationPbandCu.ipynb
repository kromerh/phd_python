{
 "cells": [
  {
   "cell_type": "markdown",
   "metadata": {},
   "source": [
    "# Attenuation of fast neutrons in lead and copper "
   ]
  },
  {
   "cell_type": "markdown",
   "metadata": {},
   "source": [
    "## Copper"
   ]
  },
  {
   "cell_type": "code",
   "execution_count": 65,
   "metadata": {},
   "outputs": [
    {
     "data": {
      "text/plain": [
       "0.0278541890528905"
      ]
     },
     "execution_count": 65,
     "metadata": {},
     "output_type": "execute_result"
    }
   ],
   "source": [
    "import pandas as pd\n",
    "import numpy as np\n",
    "import matplotlib.pyplot as plt\n",
    "from scipy import interpolate\n",
    "\n",
    "# attenuation data\n",
    "fname = '/Users/hkromer/02_PhD/02_Data/04.xs/Cu-65.n_tot.txt'\n",
    "data = pd.read_csv(fname, skiprows=1, delimiter=r'\\s', engine='python')\n",
    "data.columns = ['energy', 'xs_b'] # eV, barn\n",
    "data['xs_cm2'] = data['xs_b'] * 1e-24\n",
    "data['energy_MeV'] = data['energy'] / 1e6\n",
    "\n",
    "RHO = 8.96 # g/cm3\n",
    "MOL = 63.546 # g/mol\n",
    "NA = 6.23e23 # 1/mol\n",
    "\n",
    "# interpolate\n",
    "interp = interpolate.interp1d(data['energy_MeV'], data['xs_cm2'])\n",
    "\n",
    "# compute Sigma for Cu\n",
    "f_SIGMA = lambda x: NA * RHO * interp(x)/ MOL\n",
    "\n",
    "# compute I/I0 for Cu, x: thickness, y: energy\n",
    "f_IoI0 = lambda x, y: np.exp(-x * f_SIGMA(y))\n",
    "\n",
    "# 1mm thickness, 2.8 MeV\n",
    "1-f_IoI0(0.1, 2.8)"
   ]
  },
  {
   "cell_type": "code",
   "execution_count": 63,
   "metadata": {},
   "outputs": [
    {
     "data": {
      "text/plain": [
       "0.9736532937024304"
      ]
     },
     "execution_count": 63,
     "metadata": {},
     "output_type": "execute_result"
    }
   ],
   "source": [
    "np.exp(-0.1 * 0.267)"
   ]
  },
  {
   "cell_type": "code",
   "execution_count": null,
   "metadata": {},
   "outputs": [],
   "source": []
  }
 ],
 "metadata": {
  "kernelspec": {
   "display_name": "Python 3",
   "language": "python",
   "name": "python3"
  },
  "language_info": {
   "codemirror_mode": {
    "name": "ipython",
    "version": 3
   },
   "file_extension": ".py",
   "mimetype": "text/x-python",
   "name": "python",
   "nbconvert_exporter": "python",
   "pygments_lexer": "ipython3",
   "version": "3.7.4"
  }
 },
 "nbformat": 4,
 "nbformat_minor": 4
}
