{
 "cells": [
  {
   "cell_type": "code",
   "execution_count": 1,
   "metadata": {},
   "outputs": [],
   "source": [
    "import pandas as pd\n",
    "import numpy as np\n",
    "import matplotlib.pyplot as plt\n",
    "import seaborn as sns\n",
    "from scipy.optimize import curve_fit\n"
   ]
  },
  {
   "cell_type": "markdown",
   "metadata": {},
   "source": [
    "# Load data"
   ]
  },
  {
   "cell_type": "code",
   "execution_count": 2,
   "metadata": {},
   "outputs": [],
   "source": [
    "data_gauss = pd.read_csv('/Users/hkromer/02_PhD/df_MCNP_results_gauss.csv', index_col=0)\n",
    "data_tophat = pd.read_csv('/Users/hkromer/02_PhD/df_MCNP_results_radial.csv', index_col=0)\n",
    "df_fit = pd.read_csv('/Users/hkromer/02_PhD/02_Data/09.NeutronEmittingSpot/05.new_chamber/experiment_fit.csv', index_col=0)\n",
    "df_exp = pd.read_csv('/Users/hkromer/02_PhD/02_Data/09.NeutronEmittingSpot/05.new_chamber/experiment.csv', index_col=0)"
   ]
  },
  {
   "cell_type": "markdown",
   "metadata": {},
   "source": [
    "# Compute FWHM"
   ]
  },
  {
   "cell_type": "code",
   "execution_count": 3,
   "metadata": {},
   "outputs": [],
   "source": [
    "def get_esf_fit(x, y):\n",
    "    \"\"\"\n",
    "    Computes the fit to the esf (logistic fit). Needs the x and y values. Returns the fit\n",
    "    \"\"\"\n",
    "    def fitfunc(x, *p):\n",
    "        a, b, c, d = p\n",
    "        z = np.exp( -( (x-b)/(c) ) )\n",
    "        # z = np.exp( -( (x-p[1])/(p[2]) ) )\n",
    "        return (a / ( 1 + z )) + d\n",
    "        # return (p[0] / ( 1 + z )) + p[3]\n",
    "    m = [1e-2, 5e-2, 1e-1, 5e-1, 0, 1, 5, 1e1]\n",
    "    p0 = [1,1,1,1]\n",
    "    popt, pcov = curve_fit(fitfunc, x, y, p0=p0, maxfev=1000000)\n",
    "    # print(popt)\n",
    "    FWHM = 3.53*popt[2]  # 3.53 * c in fermi function\n",
    "    # print(FWHM)\n",
    "    X_fit = np.linspace(-10, 10, 1000)\n",
    "    Y_fit = fitfunc(X_fit, *popt)\n",
    "    \n",
    "    return X_fit, Y_fit, FWHM"
   ]
  },
  {
   "cell_type": "code",
   "execution_count": 4,
   "metadata": {},
   "outputs": [
    {
     "data": {
      "text/plain": [
       "1.5384787016413026"
      ]
     },
     "execution_count": 4,
     "metadata": {},
     "output_type": "execute_result"
    }
   ],
   "source": [
    "X_fit, Y_fit, FWHM_experiment = get_esf_fit(df_exp[\"X\"].values, df_exp[\"Y\"].values)\n",
    "FWHM_experiment"
   ]
  },
  {
   "cell_type": "markdown",
   "metadata": {},
   "source": [
    "# Find closest simulation to the experimental one"
   ]
  },
  {
   "cell_type": "code",
   "execution_count": 5,
   "metadata": {},
   "outputs": [],
   "source": [
    "def scale_vals(array, vals_norm):\n",
    "    \n",
    "    # vals_norm = 10\n",
    "    norm_cps = array[:-vals_norm].mean()\n",
    "    array = array / norm_cps\n",
    "\n",
    "    return array"
   ]
  },
  {
   "cell_type": "markdown",
   "metadata": {},
   "source": [
    "## Gauss"
   ]
  },
  {
   "cell_type": "code",
   "execution_count": 6,
   "metadata": {},
   "outputs": [
    {
     "name": "stderr",
     "output_type": "stream",
     "text": [
      "<ipython-input-6-c00ce3d5b676>:8: SettingWithCopyWarning: \n",
      "A value is trying to be set on a copy of a slice from a DataFrame.\n",
      "Try using .loc[row_indexer,col_indexer] = value instead\n",
      "\n",
      "See the caveats in the documentation: https://pandas.pydata.org/pandas-docs/stable/user_guide/indexing.html#returning-a-view-versus-a-copy\n",
      "  df[colname] = scale_vals(df[colname].values, vals_norm=10)\n"
     ]
    }
   ],
   "source": [
    "fwhms = []\n",
    "rads = []\n",
    "\n",
    "colname = 'entering_tracks'\n",
    "\n",
    "for rad in data_gauss['radius'].unique():\n",
    "    df = data_gauss.loc[ data_gauss['radius'] == rad ]\n",
    "    df[colname] = scale_vals(df[colname].values, vals_norm=10)\n",
    "    X_fit, Y_fit, FWHM = get_esf_fit(df['x_pos'].values, df[colname].values)\n",
    "    fwhms.append(FWHM)\n",
    "    rads.append(rad)\n",
    "fwhms = np.asarray(fwhms, dtype=float)\n",
    "rads = np.asarray(rads, dtype=float)"
   ]
  },
  {
   "cell_type": "code",
   "execution_count": 7,
   "metadata": {},
   "outputs": [
    {
     "data": {
      "text/plain": [
       "(1.5208637246476335, 0.17)"
      ]
     },
     "execution_count": 7,
     "metadata": {},
     "output_type": "execute_result"
    }
   ],
   "source": [
    "# closest value\n",
    "idx = np.argmin(np.abs(fwhms-FWHM_experiment))\n",
    "fwhms[idx], rads[idx]"
   ]
  },
  {
   "cell_type": "markdown",
   "metadata": {},
   "source": [
    "## Tophat"
   ]
  },
  {
   "cell_type": "code",
   "execution_count": 8,
   "metadata": {},
   "outputs": [
    {
     "name": "stderr",
     "output_type": "stream",
     "text": [
      "<ipython-input-8-c867625bdd31>:8: SettingWithCopyWarning: \n",
      "A value is trying to be set on a copy of a slice from a DataFrame.\n",
      "Try using .loc[row_indexer,col_indexer] = value instead\n",
      "\n",
      "See the caveats in the documentation: https://pandas.pydata.org/pandas-docs/stable/user_guide/indexing.html#returning-a-view-versus-a-copy\n",
      "  df[colname] = scale_vals(df[colname].values, vals_norm=10)\n"
     ]
    },
    {
     "data": {
      "text/plain": [
       "(1.52313252478264, 2.6)"
      ]
     },
     "execution_count": 8,
     "metadata": {},
     "output_type": "execute_result"
    }
   ],
   "source": [
    "fwhms = []\n",
    "rads = []\n",
    "\n",
    "colname = 'entering_tracks'\n",
    "\n",
    "for rad in data_tophat['diameter'].unique():\n",
    "    df = data_tophat.loc[ data_tophat['diameter'] == rad ]\n",
    "    df[colname] = scale_vals(df[colname].values, vals_norm=10)\n",
    "    X_fit, Y_fit, FWHM = get_esf_fit(df['x_pos'].values, df[colname].values)\n",
    "    fwhms.append(FWHM)\n",
    "    rads.append(rad)\n",
    "    \n",
    "fwhms = np.asarray(fwhms, dtype=float)\n",
    "rads = np.asarray(rads, dtype=float)\n",
    "# closest value\n",
    "idx = np.argmin(np.abs(fwhms-FWHM_experiment))\n",
    "fwhms[idx], rads[idx]"
   ]
  },
  {
   "cell_type": "code",
   "execution_count": 14,
   "metadata": {},
   "outputs": [],
   "source": [
    "# See above\n",
    "val_gauss = 0.17 # fwhm in cm\n",
    "\n",
    "val_tophat = 2.6 # diameter in mm\n",
    "\n",
    "\n",
    "data_gauss_0 = data_gauss.loc[ data_gauss['radius'] == val_gauss ]\n",
    "data_gauss_0 = data_gauss_0.sort_values(by='x_pos')\n",
    "\n",
    "\n",
    "data_tophat_0 = data_tophat.loc[ data_tophat['diameter'] == val_tophat ]\n",
    "data_tophat_0 = data_tophat_0.sort_values(by='x_pos')\n"
   ]
  },
  {
   "cell_type": "code",
   "execution_count": 15,
   "metadata": {},
   "outputs": [
    {
     "data": {
      "application/vnd.jupyter.widget-view+json": {
       "model_id": "a5d4e80e0a0b401c91966911587fe479",
       "version_major": 2,
       "version_minor": 0
      },
      "text/plain": [
       "Canvas(toolbar=Toolbar(toolitems=[('Home', 'Reset original view', 'home', 'home'), ('Back', 'Back to previous …"
      ]
     },
     "metadata": {},
     "output_type": "display_data"
    }
   ],
   "source": [
    "%matplotlib widget\n",
    "\n",
    "data_gauss_1 = data_gauss_0.copy()\n",
    "data_tophat_1 = data_tophat_0.copy()\n",
    "\n",
    "vals_norm = 10\n",
    "norm_cps = data_gauss_1['entering_tracks'].values[:-vals_norm].mean()\n",
    "data_gauss_1['entering_tracks'] = data_gauss_1['entering_tracks'].values / norm_cps\n",
    "\n",
    "norm_cps = data_tophat_1['entering_tracks'].values[:-vals_norm].mean()\n",
    "data_tophat_1['entering_tracks'] = data_tophat_1['entering_tracks'].values / norm_cps\n",
    "\n",
    "scale_cps = data_gauss_1['entering_tracks'].values[0:vals_norm].mean()\n",
    "data_gauss_1['entering_tracks'] = data_gauss_1['entering_tracks'].values - scale_cps\n",
    "\n",
    "scale_cps = data_tophat_1['entering_tracks'].values[0:vals_norm].mean()\n",
    "data_tophat_1['entering_tracks'] = data_tophat_1['entering_tracks'].values - scale_cps\n",
    "\n",
    "# HEAD\n",
    "sns.set(context='paper', font_scale=1.5)\n",
    "fig, ax = plt.subplots(figsize=(8,6))\n",
    "\n",
    "# GAUSS\n",
    "X = data_gauss_1['x_pos'].values\n",
    "Y = data_gauss_1['entering_tracks'].values\n",
    "\n",
    "# plt.plot(X, Y, marker='o', markersize=2, color='darkblue', label='Gauss')\n",
    "plt.plot(X, Y, color='darkblue', label='Gauss', lw=2.5)\n",
    "\n",
    "\n",
    "# TOPHAT\n",
    "X = data_tophat_1['x_pos'].values\n",
    "Y = data_tophat_1['entering_tracks'].values\n",
    "\n",
    "plt.plot(X, Y,color='darkorange', label='Tophat', lw=2.5)\n",
    "\n",
    "\n",
    "# LAYOUT\n",
    "plt.ylabel('Simulated entering tracks in detector (normalized) [-]')\n",
    "plt.xlabel('Edge position [mm]')\n",
    "plt.legend()\n",
    "plt.tight_layout()\n",
    "plt.show()"
   ]
  },
  {
   "cell_type": "markdown",
   "metadata": {},
   "source": [
    "# Experiment"
   ]
  },
  {
   "cell_type": "code",
   "execution_count": 16,
   "metadata": {},
   "outputs": [
    {
     "data": {
      "application/vnd.jupyter.widget-view+json": {
       "model_id": "2eb56b3490684d20a24f1c072bbcd3c2",
       "version_major": 2,
       "version_minor": 0
      },
      "text/plain": [
       "Canvas(toolbar=Toolbar(toolitems=[('Home', 'Reset original view', 'home', 'home'), ('Back', 'Back to previous …"
      ]
     },
     "metadata": {},
     "output_type": "display_data"
    }
   ],
   "source": [
    "%matplotlib widget\n",
    "\n",
    "plt.plot(df_fit['X_fit'].values, df_fit['Y_fit'].values, color='red', label='Logistic fit')\n",
    "lbl = 'Experiment'\n",
    "plt.scatter(df_exp[\"X\"].values, df_exp[\"Y\"].values, marker='o', color='blue', label=lbl, s=40)\n",
    "plt.errorbar(df_exp[\"X\"].values, df_exp[\"Y\"].values, xerr=None, yerr=df_exp[\"Y_err\"].values, ls='none', color='blue', capsize=5)\n",
    "plt.legend()\n",
    "plt.show()\n"
   ]
  },
  {
   "cell_type": "markdown",
   "metadata": {},
   "source": [
    "# Both - unscaled"
   ]
  },
  {
   "cell_type": "code",
   "execution_count": 30,
   "metadata": {},
   "outputs": [
    {
     "data": {
      "application/vnd.jupyter.widget-view+json": {
       "model_id": "c7f0d2ee675542bd86e1212ff35de657",
       "version_major": 2,
       "version_minor": 0
      },
      "text/plain": [
       "Canvas(toolbar=Toolbar(toolitems=[('Home', 'Reset original view', 'home', 'home'), ('Back', 'Back to previous …"
      ]
     },
     "metadata": {},
     "output_type": "display_data"
    }
   ],
   "source": [
    "%matplotlib widget\n",
    "\n",
    "# scale the simulation to the experiment\n",
    "def rescale_linear(array, new_min, new_max):\n",
    "    \"\"\"Rescale an arrary linearly.\"\"\"\n",
    "    minimum, maximum = np.min(array), np.max(array)\n",
    "    m = (new_max - new_min) / (maximum - minimum)\n",
    "    b = new_min - m * minimum\n",
    "    return m * array + b\n",
    "    \n",
    "# maximum, minimum from the logistic fit\n",
    "exp_max = np.max(df_fit['Y_fit'].values)\n",
    "exp_min = np.min(df_fit['Y_fit'].values)\n",
    "\n",
    "data_gauss_1 = data_gauss_0.copy()\n",
    "data_tophat_1 = data_tophat_0.copy()\n",
    "\n",
    "vals_norm = 10\n",
    "norm_cps = data_gauss_1['entering_tracks'].values[:-vals_norm].mean()\n",
    "data_gauss_1['entering_tracks'] = data_gauss_1['entering_tracks'].values / norm_cps\n",
    "\n",
    "norm_cps = data_tophat_1['entering_tracks'].values[:-vals_norm].mean()\n",
    "data_tophat_1['entering_tracks'] = data_tophat_1['entering_tracks'].values / norm_cps\n",
    "\n",
    "scale_cps = data_gauss_1['entering_tracks'].values[0:vals_norm].mean()\n",
    "data_gauss_1['entering_tracks'] = data_gauss_1['entering_tracks'].values - scale_cps\n",
    "\n",
    "scale_cps = data_tophat_1['entering_tracks'].values[0:vals_norm].mean()\n",
    "data_tophat_1['entering_tracks'] = data_tophat_1['entering_tracks'].values - scale_cps\n",
    "\n",
    "\n",
    "\n",
    "# HEAD\n",
    "sns.set(context='paper', font_scale=1.5)\n",
    "fig, ax = plt.subplots(figsize=(8,6))\n",
    "\n",
    "# GAUSS\n",
    "X = data_gauss_1['x_pos'].values\n",
    "Y = data_gauss_1['entering_tracks'].values\n",
    "\n",
    "# plt.plot(X, Y, marker='o', markersize=2, color='darkblue', label='Gauss')\n",
    "plt.plot(X, Y, color='darkblue', label='Gauss', ls='--', lw=2.5, alpha=0.7)\n",
    "\n",
    "\n",
    "# TOPHAT\n",
    "X = data_tophat_1['x_pos'].values\n",
    "Y = data_tophat_1['entering_tracks'].values\n",
    "\n",
    "plt.plot(X, Y,color='darkorange', label='Tophat', ls='--', lw=2.5, alpha=0.7)\n",
    "\n",
    "# EXPERIMENT\n",
    "plt.plot(df_fit['X_fit'].values, df_fit['Y_fit'].values, color='red', label='Logistic fit', lw=2)\n",
    "lbl = 'Experiment'\n",
    "plt.scatter(df_exp[\"X\"].values, df_exp[\"Y\"].values, marker='o', color='blue', label=lbl, s=40, alpha=0.3)\n",
    "plt.errorbar(df_exp[\"X\"].values, df_exp[\"Y\"].values, xerr=None, yerr=df_exp[\"Y_err\"].values, ls='none', color='blue', capsize=5, alpha=0.1)\n",
    "plt.legend()\n",
    "plt.show()\n",
    "\n",
    "# LAYOUT\n",
    "plt.ylabel('Normalized counts in detector [-]')\n",
    "plt.xlabel('Edge position [mm]')\n",
    "plt.legend()\n",
    "plt.xlim([-6, 6])\n",
    "plt.ylim([-0.1, 0.9])\n",
    "plt.tight_layout()\n",
    "plt.show()"
   ]
  },
  {
   "cell_type": "markdown",
   "metadata": {},
   "source": [
    "# Both - scaled"
   ]
  },
  {
   "cell_type": "code",
   "execution_count": 29,
   "metadata": {},
   "outputs": [
    {
     "data": {
      "application/vnd.jupyter.widget-view+json": {
       "model_id": "7078acb4ee52466d9781d76a6d6c600a",
       "version_major": 2,
       "version_minor": 0
      },
      "text/plain": [
       "Canvas(toolbar=Toolbar(toolitems=[('Home', 'Reset original view', 'home', 'home'), ('Back', 'Back to previous …"
      ]
     },
     "metadata": {},
     "output_type": "display_data"
    }
   ],
   "source": [
    "%matplotlib widget\n",
    "\n",
    "# scale the simulation to the experiment\n",
    "def rescale_linear(array, new_min, new_max):\n",
    "    \"\"\"Rescale an arrary linearly.\"\"\"\n",
    "    minimum, maximum = np.min(array), np.max(array)\n",
    "    m = (new_max - new_min) / (maximum - minimum)\n",
    "    b = new_min - m * minimum\n",
    "    return m * array + b\n",
    "    \n",
    "# maximum, minimum from the logistic fit\n",
    "exp_max = np.max(df_fit['Y_fit'].values)\n",
    "exp_min = np.min(df_fit['Y_fit'].values)\n",
    "\n",
    "data_gauss_1 = data_gauss_0.copy()\n",
    "data_tophat_1 = data_tophat_0.copy()\n",
    "\n",
    "vals_norm = 10\n",
    "norm_cps = data_gauss_1['entering_tracks'].values[:-vals_norm].mean()\n",
    "data_gauss_1['entering_tracks'] = data_gauss_1['entering_tracks'].values / norm_cps\n",
    "\n",
    "norm_cps = data_tophat_1['entering_tracks'].values[:-vals_norm].mean()\n",
    "data_tophat_1['entering_tracks'] = data_tophat_1['entering_tracks'].values / norm_cps\n",
    "\n",
    "scale_cps = data_gauss_1['entering_tracks'].values[0:vals_norm].mean()\n",
    "data_gauss_1['entering_tracks'] = data_gauss_1['entering_tracks'].values - scale_cps\n",
    "\n",
    "scale_cps = data_tophat_1['entering_tracks'].values[0:vals_norm].mean()\n",
    "data_tophat_1['entering_tracks'] = data_tophat_1['entering_tracks'].values - scale_cps\n",
    "\n",
    "\n",
    "# scale to experiment\n",
    "data_tophat_1['entering_tracks_scaled'] = rescale_linear(data_tophat_1['entering_tracks'].values, exp_min, exp_max)\n",
    "data_gauss_1['entering_tracks_scaled'] = rescale_linear(data_gauss_1['entering_tracks'].values, exp_min, exp_max)\n",
    "\n",
    "# HEAD\n",
    "sns.set(context='paper', font_scale=1.5)\n",
    "fig, ax = plt.subplots(figsize=(8,6))\n",
    "\n",
    "# GAUSS\n",
    "X = data_gauss_1['x_pos'].values\n",
    "Y = data_gauss_1['entering_tracks_scaled'].values\n",
    "\n",
    "# plt.plot(X, Y, marker='o', markersize=2, color='darkblue', label='Gauss')\n",
    "plt.plot(X, Y, color='darkblue', label='Gauss', ls='--', lw=2.5, alpha=0.7)\n",
    "\n",
    "\n",
    "# TOPHAT\n",
    "X = data_tophat_1['x_pos'].values\n",
    "Y = data_tophat_1['entering_tracks_scaled'].values\n",
    "\n",
    "plt.plot(X, Y,color='darkorange', label='Tophat', ls='--', lw=2.5, alpha=0.7)\n",
    "\n",
    "# EXPERIMENT\n",
    "plt.plot(df_fit['X_fit'].values, df_fit['Y_fit'].values, color='red', label='Logistic fit', lw=2)\n",
    "lbl = 'Experiment'\n",
    "plt.scatter(df_exp[\"X\"].values, df_exp[\"Y\"].values, marker='o', color='blue', label=lbl, s=40, alpha=0.3)\n",
    "plt.errorbar(df_exp[\"X\"].values, df_exp[\"Y\"].values, xerr=None, yerr=df_exp[\"Y_err\"].values, ls='none', color='blue', capsize=5, alpha=0.1)\n",
    "plt.legend()\n",
    "plt.show()\n",
    "\n",
    "# LAYOUT\n",
    "plt.ylabel('Normalized and scaled counts in detector [-]')\n",
    "plt.xlabel('Edge position [mm]')\n",
    "plt.legend()\n",
    "plt.xlim([-6, 6])\n",
    "plt.ylim([-0.1, 0.7])\n",
    "plt.tight_layout()\n",
    "plt.show()"
   ]
  },
  {
   "cell_type": "code",
   "execution_count": null,
   "metadata": {},
   "outputs": [],
   "source": []
  }
 ],
 "metadata": {
  "kernelspec": {
   "display_name": "Python 3",
   "language": "python",
   "name": "python3"
  },
  "language_info": {
   "codemirror_mode": {
    "name": "ipython",
    "version": 3
   },
   "file_extension": ".py",
   "mimetype": "text/x-python",
   "name": "python",
   "nbconvert_exporter": "python",
   "pygments_lexer": "ipython3",
   "version": "3.8.1"
  }
 },
 "nbformat": 4,
 "nbformat_minor": 4
}
