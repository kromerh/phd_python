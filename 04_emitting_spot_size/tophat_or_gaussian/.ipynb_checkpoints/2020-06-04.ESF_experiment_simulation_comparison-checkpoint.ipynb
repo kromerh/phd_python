{
 "cells": [
  {
   "cell_type": "code",
   "execution_count": 6,
   "metadata": {},
   "outputs": [],
   "source": [
    "import pandas as pd\n",
    "import matplotlib.pyplot as plt\n",
    "import seaborn as sns"
   ]
  },
  {
   "cell_type": "markdown",
   "metadata": {},
   "source": [
    "# Simulation"
   ]
  },
  {
   "cell_type": "code",
   "execution_count": 34,
   "metadata": {},
   "outputs": [],
   "source": [
    "data_gauss = pd.read_csv('/Users/hkromer/02_PhD/df_MCNP_results_gauss.csv', index_col=0)\n",
    "data_tophat = pd.read_csv('/Users/hkromer/02_PhD/df_MCNP_results_radial.csv', index_col=0)\n",
    "\n",
    "# closest value for 2.5 mm FWHM seen by detector is 2.95 mm definition as radius\n",
    "val_gauss = 0.3 # fwhm in cm\n",
    "val_gauss = 0.29 # fwhm in cm\n",
    "\n",
    "val_tophat = 4.2 # diameter in mm\n",
    "val_tophat = 4 # diameter in mm\n",
    "\n",
    "\n",
    "data_gauss_0 = data_gauss.loc[ data_gauss['radius'] == val_gauss ]\n",
    "data_gauss_0 = data_gauss_0.sort_values(by='x_pos')\n",
    "\n",
    "\n",
    "data_tophat_0 = data_tophat.loc[ data_tophat['diameter'] == val_tophat ]\n",
    "data_tophat_0 = data_tophat_0.sort_values(by='x_pos')\n"
   ]
  },
  {
   "cell_type": "code",
   "execution_count": 35,
   "metadata": {},
   "outputs": [
    {
     "data": {
      "application/vnd.jupyter.widget-view+json": {
       "model_id": "068b934222054f09a8cc295207584bf8",
       "version_major": 2,
       "version_minor": 0
      },
      "text/plain": [
       "Canvas(toolbar=Toolbar(toolitems=[('Home', 'Reset original view', 'home', 'home'), ('Back', 'Back to previous …"
      ]
     },
     "metadata": {},
     "output_type": "display_data"
    }
   ],
   "source": [
    "%matplotlib widget\n",
    "\n",
    "data_gauss_1 = data_gauss_0.copy()\n",
    "data_tophat_1 = data_tophat_0.copy()\n",
    "\n",
    "vals_norm = 10\n",
    "norm_cps = data_gauss_1['entering_tracks'].values[:-vals_norm].mean()\n",
    "data_gauss_1['entering_tracks'] = data_gauss_1['entering_tracks'].values / norm_cps\n",
    "\n",
    "norm_cps = data_tophat_1['entering_tracks'].values[:-vals_norm].mean()\n",
    "data_tophat_1['entering_tracks'] = data_tophat_1['entering_tracks'].values / norm_cps\n",
    "\n",
    "scale_cps = data_gauss_1['entering_tracks'].values[0:vals_norm].mean()\n",
    "data_gauss_1['entering_tracks'] = data_gauss_1['entering_tracks'].values - scale_cps\n",
    "\n",
    "scale_cps = data_tophat_1['entering_tracks'].values[0:vals_norm].mean()\n",
    "data_tophat_1['entering_tracks'] = data_tophat_1['entering_tracks'].values - scale_cps\n",
    "\n",
    "# HEAD\n",
    "sns.set(context='paper', font_scale=1.5)\n",
    "fig, ax = plt.subplots(figsize=(8,6))\n",
    "\n",
    "# GAUSS\n",
    "X = data_gauss_1['x_pos'].values\n",
    "Y = data_gauss_1['entering_tracks'].values\n",
    "\n",
    "# plt.plot(X, Y, marker='o', markersize=2, color='darkblue', label='Gauss')\n",
    "plt.plot(X, Y, color='darkblue', label='Gauss', lw=2.5)\n",
    "\n",
    "\n",
    "# TOPHAT\n",
    "X = data_tophat_1['x_pos'].values\n",
    "Y = data_tophat_1['entering_tracks'].values\n",
    "\n",
    "plt.plot(X, Y,color='darkorange', label='Tophat', lw=2.5)\n",
    "\n",
    "\n",
    "# LAYOUT\n",
    "plt.ylabel('Simulated entering tracks in detector (normalized) [-]')\n",
    "plt.xlabel('Edge position [mm]')\n",
    "plt.legend()\n",
    "plt.tight_layout()\n",
    "plt.show()"
   ]
  },
  {
   "cell_type": "markdown",
   "metadata": {},
   "source": [
    "# Experiment"
   ]
  },
  {
   "cell_type": "code",
   "execution_count": 36,
   "metadata": {},
   "outputs": [],
   "source": [
    "df_fit = pd.read_csv('/Users/hkromer/02_PhD/02_Data/09.NeutronEmittingSpot/05.new_chamber/experiment_fit.csv', index_col=0)\n",
    "df_exp = pd.read_csv('/Users/hkromer/02_PhD/02_Data/09.NeutronEmittingSpot/05.new_chamber/experiment.csv', index_col=0)"
   ]
  },
  {
   "cell_type": "code",
   "execution_count": null,
   "metadata": {},
   "outputs": [],
   "source": []
  }
 ],
 "metadata": {
  "kernelspec": {
   "display_name": "Python 3",
   "language": "python",
   "name": "python3"
  },
  "language_info": {
   "codemirror_mode": {
    "name": "ipython",
    "version": 3
   },
   "file_extension": ".py",
   "mimetype": "text/x-python",
   "name": "python",
   "nbconvert_exporter": "python",
   "pygments_lexer": "ipython3",
   "version": "3.8.1"
  }
 },
 "nbformat": 4,
 "nbformat_minor": 4
}
