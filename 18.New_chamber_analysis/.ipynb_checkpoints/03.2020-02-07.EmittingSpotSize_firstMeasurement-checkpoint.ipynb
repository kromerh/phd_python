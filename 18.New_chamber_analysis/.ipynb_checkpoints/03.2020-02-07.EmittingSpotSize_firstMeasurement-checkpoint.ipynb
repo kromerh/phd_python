{
 "cells": [
  {
   "cell_type": "markdown",
   "metadata": {},
   "source": [
    "# Emitting Spot Size measurement on 2020-01-31"
   ]
  },
  {
   "cell_type": "markdown",
   "metadata": {},
   "source": [
    "## Load all the data"
   ]
  },
  {
   "cell_type": "code",
   "execution_count": null,
   "metadata": {},
   "outputs": [],
   "source": [
    "import numpy as np\n",
    "import pandas as pd\n",
    "import pymysql\n",
    "import sqlalchemy as sql\n",
    "import matplotlib.pyplot as plt\n",
    "import matplotlib.dates as md\n",
    "import seaborn as sns\n",
    "sns.set()\n",
    "import getopt\n",
    "import sys\n",
    "import datetime\n",
    "from scipy.interpolate import interp1d\n",
    "from NGDataObject import NGDataObject\n",
    "from scipy.optimize import curve_fit\n",
    "from scipy import optimize\n",
    "\n",
    "#*******************************\n",
    "# CONSTANTS\n",
    "#*******************************\n",
    "# connection to database\n",
    "CREDENTIALS_FILE = '/Users/hkromer/02_PhD/01.github/dash_NG/credentials.pw'\n",
    "DB = \"NG_twofast_DB\" # name of the database\n",
    "HOST = \"twofast-RPi3-0\"  # database host\n",
    "\n",
    "# LOOKUP TABLES\n",
    "LUT_PRESSURE_ION_SOURCE = \"/Users/hkromer/02_PhD/01.github/phd/01_neutron_generator_contol/LUT_pressure_ion_source.txt\""
   ]
  },
  {
   "cell_type": "markdown",
   "metadata": {},
   "source": [
    "### Load from database"
   ]
  },
  {
   "cell_type": "code",
   "execution_count": null,
   "metadata": {},
   "outputs": [],
   "source": [
    "# reference detectors\n",
    "# dose\n",
    "# HV\n",
    "DAY = \"2020-01-31\"\n",
    "# read password and user to connect to database\n",
    "credentials = pd.read_csv(CREDENTIALS_FILE, header=0)\n",
    "user = credentials['username'].values[0]\n",
    "pw = credentials['password'].values[0]\n",
    "\n",
    "\n",
    "#*******************************\n",
    "# GET DATA\n",
    "#*******************************\n",
    "\n",
    "# connect to DB\n",
    "con = NGDataObject(host = HOST, database=DB, user=user, password=pw)\n",
    "\n",
    "# get dose\n",
    "query = \"SELECT * FROM data_dose WHERE DATE(time) = '%(t)s'\" % {\"t\": DAY}\n",
    "data_dose = con.get_from_database(query=query)\n",
    "\n",
    "# get HV\n",
    "query = \"SELECT * FROM data_HV WHERE DATE(time) = '%(t)s'\" % {\"t\": DAY}\n",
    "data_hv = con.get_from_database(query=query)\n",
    "data_hv['HV_current_x100'] = data_hv['HV_current']*100.0\n",
    "\n",
    "# get pressure\n",
    "query = \"SELECT * FROM data_pressure WHERE DATE(time) = '%(t)s'\" % {\"t\": DAY}\n",
    "data_pressure = con.get_from_database(query=query)\n",
    "\n",
    "# get reference detectors\n",
    "query = \"SELECT * FROM data_referenceDetectors WHERE DATE(time) > '2020-01-30 20:00:00'\" \n",
    "data_reference_full = con.get_from_database(query=query)\n",
    "\n",
    "# get microwave power\n",
    "query = \"SELECT * FROM microwave_generator_power WHERE DATE(time) = '%(t)s'\" % {\"t\": DAY}\n",
    "data_microwave_power_full = con.get_from_database(query=query)\n",
    "\n",
    "# get microwave frequency\n",
    "query = \"SELECT * FROM microwave_generator_frequency WHERE DATE(time) = '%(t)s'\" % {\"t\": DAY}\n",
    "data_microwave_frequency_full = con.get_from_database(query=query)\n",
    "\n",
    "# save to file\n",
    "data_reference_full['sum_counts'] = data_reference_full['counts_D1'] + data_reference_full['counts_D2'] + data_reference_full['counts_D3'] + data_reference_full['counts_D4'] \n",
    "\n",
    "path = '/Users/hkromer/02_PhD/02_Data/13.new_chamber/DATA/emitting_spot_size_2020-01-31/'\n",
    "data_dose.to_csv(f'{path}/2020-02-07_dose.csv')\n",
    "data_hv.to_csv(f'{path}/2020-02-07_hv.csv')\n",
    "data_pressure.to_csv(f'{path}/2020-02-07_pressure.csv')\n",
    "data_reference_full.to_csv(f'{path}/2020-02-07_reference_detectors.csv')\n",
    "data_microwave_power_full.to_csv(f'{path}/2020-02-07_microwave_power.csv')\n",
    "data_microwave_frequency_full.to_csv(f'{path}/2020-02-07_microwave_frequency.csv')"
   ]
  },
  {
   "cell_type": "markdown",
   "metadata": {},
   "source": [
    "### Load from stored csv files"
   ]
  },
  {
   "cell_type": "code",
   "execution_count": null,
   "metadata": {},
   "outputs": [],
   "source": [
    "path = '/Users/hkromer/02_PhD/02_Data/13.new_chamber/DATA/emitting_spot_size_2020-01-31/'\n",
    "DAY = \"2020-01-31\"\n",
    "\n",
    "data_dose = pd.read_csv(f'{path}/2020-02-07_dose.csv', index_col=0)\n",
    "data_dose.index = pd.to_datetime(data_dose.index)\n",
    "\n",
    "data_hv = pd.read_csv(f'{path}/2020-02-07_hv.csv', index_col=0)\n",
    "data_hv.index = pd.to_datetime(data_hv.index)\n",
    "\n",
    "data_pressure = pd.read_csv(f'{path}/2020-02-07_pressure.csv', index_col=0)\n",
    "data_pressure.index = pd.to_datetime(data_pressure.index)\n",
    "\n",
    "data_reference_full = pd.read_csv(f'{path}/2020-02-07_reference_detectors.csv', index_col=0)\n",
    "data_reference_full.index = pd.to_datetime(data_reference_full.index)\n",
    "\n",
    "data_microwave_power_full = pd.read_csv(f'{path}/2020-02-07_microwave_power.csv', index_col=0)\n",
    "data_microwave_power_full.index = pd.to_datetime(data_microwave_power_full.index)\n",
    "\n",
    "data_microwave_frequency_full = pd.read_csv(f'{path}/2020-02-07_microwave_frequency.csv', index_col=0)\n",
    "data_microwave_frequency_full.index = pd.to_datetime(data_microwave_frequency_full.index)\n"
   ]
  },
  {
   "cell_type": "markdown",
   "metadata": {},
   "source": [
    "#### Select only relevant time"
   ]
  },
  {
   "cell_type": "code",
   "execution_count": null,
   "metadata": {},
   "outputs": [],
   "source": [
    "start = \"2020-01-31 07:55:00\"\n",
    "end = \"2020-01-31 14:45:00\"\n",
    "\n",
    "data_dose_s = data_dose.loc[start:end, ]\n",
    "data_hv_s = data_hv.loc[start:end, ]\n",
    "data_reference_s = data_reference_full.loc[start:end, ]\n"
   ]
  },
  {
   "cell_type": "markdown",
   "metadata": {},
   "source": [
    "### Counts in emitting spot size detector"
   ]
  },
  {
   "cell_type": "code",
   "execution_count": null,
   "metadata": {},
   "outputs": [],
   "source": [
    "# tungsten counts\n",
    "fname = '/Users/hkromer/02_PhD/02_Data/13.new_chamber/2020-01-31.EmittingSpot/2020-01-31_readout.csv'\n",
    "data_ess = pd.read_csv(fname, index_col='time')\n",
    "data_ess = data_ess[['readtime', 'value']]\n",
    "data_ess.index = pd.to_datetime(data_ess.index)\n",
    "# background measurement \n",
    "fname = '/Users/hkromer/02_PhD/02_Data/13.new_chamber/2020-01-30.EmittingSpot.Leadshield/2020-01-31_readout.csv'\n",
    "data_ess_BG = pd.read_csv(fname, index_col='time')\n",
    "data_ess_BG = data_ess_BG[['readtime', 'value']]\n",
    "data_ess_BG.index = pd.to_datetime(data_ess_BG.index)\n",
    "data_ess_BG.info()"
   ]
  },
  {
   "cell_type": "markdown",
   "metadata": {},
   "source": [
    "#### Background correction of emitting spot size detector and reference detector"
   ]
  },
  {
   "cell_type": "code",
   "execution_count": null,
   "metadata": {},
   "outputs": [],
   "source": [
    "start_BG = \"2020-01-30 20:00:00\"\n",
    "end_BG = \"2020-01-31 08:00:00\"\n",
    "\n",
    "data_ess_BG = data_ess_BG.loc[start_BG:end_BG, ]\n",
    "fig, ax = plt.subplots(figsize=(10,4))\n",
    "sns.set()\n",
    "sns.set_context(\"notebook\", font_scale=1.5, rc={\"lines.linewidth\": 2.5})\n",
    "sns.lineplot(x=data_ess_BG.index, y='value', data=data_ess_BG, ax=ax)\n",
    "\n",
    "ax.xaxis.set_major_formatter(md.DateFormatter('%H:%M'))\n",
    "ax.set_ylabel('Counts in ess detector, BG')\n",
    "ax.set_xlabel(f'Time, {DAY}')\n",
    "plt.show()\n",
    "print(f\"Mean background counts per 30 s interval: {data_ess_BG.value.mean()} 1/(30s)\")\n",
    "counting_time = data_ess_BG['readtime'].value_counts().index[0]/1000\n",
    "counts_per_s_BG = data_ess_BG.value.mean()/counting_time\n",
    "print(f\"Mean background counts per second: {counts_per_s_BG} 1/s\")\n",
    "print(f\"Total counts: {data_ess_BG.value.sum()}\")\n",
    "timedelta = data_ess_BG.index[-1]-data_ess_BG.index[0] \n",
    "print(f\"Total time duration: {timedelta}\")\n",
    "print(f\"Total time duration: {timedelta.seconds} s\")\n",
    "print(f\"Total meas positions expected in that time: {timedelta.seconds/counting_time} \")\n",
    "print(f\"Total measurement points: {data_ess_BG.shape}\")\n",
    "counts_per_s_BG_agg = data_ess_BG.value.sum()/timedelta.seconds\n",
    "print(f\"Total counts per time duration: {counts_per_s_BG_agg} 1/s\")"
   ]
  },
  {
   "cell_type": "code",
   "execution_count": null,
   "metadata": {},
   "outputs": [],
   "source": [
    "start_BG = \"2020-01-30 20:00:00\"\n",
    "end_BG = \"2020-01-31 07:55:00\"\n",
    "\n",
    "data_ref_BG = data_reference_full.loc[start_BG:end_BG, ]\n",
    "fig, ax = plt.subplots(figsize=(10,4))\n",
    "sns.set()\n",
    "sns.set_context(\"notebook\", font_scale=1.5, rc={\"lines.linewidth\": 2.5})\n",
    "sns.lineplot(x=data_ref_BG.index, y='sum_counts', data=data_ref_BG, ax=ax)\n",
    "\n",
    "ax.xaxis.set_major_formatter(md.DateFormatter('%H:%M'))\n",
    "ax.set_ylabel('Counts in reference detector, BG')\n",
    "ax.set_xlabel(f'Time, {DAY}')\n",
    "plt.show()\n",
    "\n",
    "print(f\"Mean background counts per 30 s interval: {data_ref_BG.sum_counts.mean()} 1/(30s)\")\n",
    "ref_counting_time = data_ref_BG['ard_time'].value_counts().index[0]/1000\n",
    "ref_counts_per_s_BG = data_ref_BG.sum_counts.mean()/counting_time\n",
    "print(f\"Mean background counts per second: {ref_counts_per_s_BG} 1/s\")\n",
    "print(f\"Total counts: {data_ref_BG.sum_counts.sum()}\")\n",
    "timedelta = data_ref_BG.index[-1]-data_ref_BG.index[0] \n",
    "print(f\"Total time duration: {timedelta}\")\n",
    "print(f\"Total time duration: {timedelta.seconds} s\")\n",
    "print(f\"Total meas positions expected in that time: {timedelta.seconds/counting_time} \")\n",
    "print(f\"Total measurement points: {data_ref_BG.shape}\")\n",
    "ref_counts_per_s_BG_agg = data_ref_BG.sum_counts.sum()/timedelta.seconds\n",
    "print(f\"Total counts per time duration: {ref_counts_per_s_BG_agg} 1/s\")"
   ]
  },
  {
   "cell_type": "markdown",
   "metadata": {},
   "source": [
    "### Tungsten edge position"
   ]
  },
  {
   "cell_type": "code",
   "execution_count": null,
   "metadata": {},
   "outputs": [],
   "source": [
    "fname = '/Users/hkromer/02_PhD/02_Data/13.new_chamber/2020-01-31.EmittingSpotSize.xlsx' \n",
    "data_pos = pd.read_excel(fname, header=4)\n",
    "data_pos = data_pos[['Time', 'edge_pos', 'Comment']]\n",
    "data_pos = data_pos.iloc[2:,:] # clear rows at beginning and end\n",
    "data_pos['edge_pos'] = data_pos['edge_pos'].astype(np.float64)\n",
    "data_pos['Time'] = data_pos['Time'].apply(lambda x: f'2020-01-31 {x}')\n",
    "data_pos['Time'] = pd.to_datetime(data_pos['Time'])\n",
    "data_pos.set_index('Time', inplace=True, drop=True)"
   ]
  },
  {
   "cell_type": "markdown",
   "metadata": {},
   "source": [
    "## Some plots - database"
   ]
  },
  {
   "cell_type": "code",
   "execution_count": null,
   "metadata": {},
   "outputs": [],
   "source": [
    "fig, ax = plt.subplots(figsize=(10,4))\n",
    "sns.set()\n",
    "sns.set_context(\"notebook\", font_scale=1.5, rc={\"lines.linewidth\": 2.5})\n",
    "sns.lineplot(x=data_dose_s.index, y='dose_corrected', data=data_dose_s, ax=ax, color='darkblue')\n",
    "\n",
    "ax.xaxis.set_major_formatter(md.DateFormatter('%H:%M'))\n",
    "ax.set_ylabel('Dose [muSv/hr]')\n",
    "ax.set_xlabel(f'Time, {DAY}')\n",
    "plt.show()\n",
    "\n",
    "fig, ax = plt.subplots(figsize=(10,4))\n",
    "sns.set()\n",
    "sns.set_context(\"notebook\", font_scale=1.5, rc={\"lines.linewidth\": 2.5})\n",
    "sns.lineplot(x=data_hv_s.index, y='HV_voltage', data=data_hv_s, ax=ax, color='darkred')\n",
    "\n",
    "ax.xaxis.set_major_formatter(md.DateFormatter('%H:%M'))\n",
    "ax.set_ylabel('HV V [kV]')\n",
    "ax.set_xlabel(f'Time, {DAY}')\n",
    "plt.show()\n",
    "\n",
    "fig, ax = plt.subplots(figsize=(10,4))\n",
    "sns.set()\n",
    "sns.set_context(\"notebook\", font_scale=1.5, rc={\"lines.linewidth\": 2.5})\n",
    "sns.lineplot(x=data_hv_s.index, y='HV_current', data=data_hv_s, ax=ax, color='darkorange')\n",
    "\n",
    "ax.xaxis.set_major_formatter(md.DateFormatter('%H:%M'))\n",
    "ax.set_ylabel('HV I [mA] (incl. leakage)')\n",
    "ax.set_xlabel(f'Time, {DAY}')\n",
    "plt.show()\n",
    "\n",
    "fig, ax = plt.subplots(figsize=(10,4))\n",
    "sns.set()\n",
    "sns.set_context(\"notebook\", font_scale=1.5, rc={\"lines.linewidth\": 2.5})\n",
    "sns.lineplot(x=data_reference_s.index, y='sum_counts', data=data_reference_s, ax=ax, color='darkgreen')\n",
    "\n",
    "ax.xaxis.set_major_formatter(md.DateFormatter('%H:%M'))\n",
    "ax.set_ylabel('Counts in reference \\n detectors [1/(30s)]')\n",
    "ax.set_xlabel(f'Time, {DAY}')\n",
    "plt.show()"
   ]
  },
  {
   "cell_type": "markdown",
   "metadata": {},
   "source": [
    "## ESS"
   ]
  },
  {
   "cell_type": "code",
   "execution_count": null,
   "metadata": {},
   "outputs": [],
   "source": [
    "fig, ax = plt.subplots(figsize=(10,4))\n",
    "sns.set()\n",
    "sns.set_context(\"notebook\", font_scale=1.5, rc={\"lines.linewidth\": 2.5})\n",
    "sns.lineplot(x=data_ess.index, y='value', data=data_ess, ax=ax, color='red')\n",
    "\n",
    "ax.xaxis.set_major_formatter(md.DateFormatter('%H:%M'))\n",
    "ax.set_ylabel('Counts in ess \\n detectors [1/(30s)]')\n",
    "ax.set_xlabel(f'Time, {DAY}')\n",
    "plt.show()"
   ]
  },
  {
   "cell_type": "markdown",
   "metadata": {},
   "source": [
    "# Extract data for each tungsten position"
   ]
  },
  {
   "cell_type": "markdown",
   "metadata": {},
   "source": [
    "### Tungsten edge position"
   ]
  },
  {
   "cell_type": "code",
   "execution_count": null,
   "metadata": {},
   "outputs": [],
   "source": [
    "fname = '/Users/hkromer/02_PhD/02_Data/13.new_chamber/2020-01-31.EmittingSpotSize.xlsx' \n",
    "data_pos = pd.read_excel(fname, header=4)\n",
    "data_pos = data_pos[['Time', 'edge_pos', 'Comment', 'analysis']]\n",
    "data_pos = data_pos.iloc[2:,:] # clear rows at beginning and end\n",
    "data_pos['edge_pos'] = data_pos['edge_pos'].astype(np.float64)\n",
    "data_pos['Time'] = data_pos['Time'].apply(lambda x: f'2020-01-31 {x}')\n",
    "data_pos['Time'] = pd.to_datetime(data_pos['Time'])\n",
    "data_pos.set_index('Time', inplace=True, drop=True)\n",
    "data_pos = data_pos[data_pos['analysis'] != 'remove']"
   ]
  },
  {
   "cell_type": "markdown",
   "metadata": {},
   "source": [
    "## Adjust times using analysis column"
   ]
  },
  {
   "cell_type": "code",
   "execution_count": null,
   "metadata": {},
   "outputs": [],
   "source": [
    "# get the new time from the excel\n",
    "data_pos_mod = data_pos[data_pos['analysis'].notnull()]\n",
    "data_pos_mod.loc[:, 'analysis'] = data_pos_mod.loc[:, 'analysis'].apply(lambda x: f'2020-01-31 {x}')\n",
    "data_pos_mod.loc[:, 'new_time'] = pd.to_datetime(data_pos_mod.loc[:,'analysis'])\n",
    "# create dictionary for replacement\n",
    "data_pos_mod = data_pos_mod[['new_time']]\n",
    "dict_replace = data_pos_mod.to_dict()['new_time']"
   ]
  },
  {
   "cell_type": "code",
   "execution_count": null,
   "metadata": {},
   "outputs": [],
   "source": [
    "# replace the column\n",
    "data_pos['time'] = data_pos.index\n",
    "data_pos['time'] = data_pos['time'].replace(dict_replace)\n",
    "# make it new index\n",
    "data_pos = data_pos.set_index('time', drop=True)\n",
    "data_pos = data_pos[['edge_pos']]\n",
    "data_pos['t0'] = data_pos.index\n",
    "data_pos['t1'] = data_pos['t0'].shift(-1)"
   ]
  },
  {
   "cell_type": "code",
   "execution_count": null,
   "metadata": {},
   "outputs": [],
   "source": [
    "# replace in t0\n",
    "dict_replace = {\n",
    "    pd.Timestamp('2020-01-31 13:52:00'): pd.Timestamp('2020-01-31 13:52:30'),\n",
    "    pd.Timestamp('2020-01-31 14:26:00'): pd.Timestamp('2020-01-31 14:28:00')\n",
    "    \n",
    "}\n",
    "data_pos['t0'] = data_pos['t0'].replace(dict_replace)\n",
    "\n",
    "# replace in t1\n",
    "dict_replace = {\n",
    "    pd.Timestamp('2020-01-31 08:45:00'): pd.Timestamp('2020-01-31 08:43:00'),\n",
    "    pd.Timestamp('2020-01-31 13:36:00'): pd.Timestamp('2020-01-31 13:35:00')\n",
    "}\n",
    "data_pos['t1'] = data_pos['t1'].replace(dict_replace)"
   ]
  },
  {
   "cell_type": "code",
   "execution_count": null,
   "metadata": {},
   "outputs": [],
   "source": [
    "# remove first last time\n",
    "\n",
    "# loop through edge position\n",
    "ii = 0\n",
    "for ii in range(0,data_pos.shape[0]):\n",
    "\n",
    "    # get the beginning and end time, t0 and t1\n",
    "    t0 = data_pos.iloc[ii, :].loc['t0']\n",
    "    t1 = data_pos.iloc[ii, :].loc['t1']\n",
    "    pos = data_pos.iloc[ii, :].loc['edge_pos'] # mm\n",
    "    ess_counts = data_ess[(data_ess.index >= t0) & (data_ess.index <= t1)].loc[:,'value']\n",
    "\n",
    "    counts_max = ess_counts.max()\n",
    "    counts_min = ess_counts.min()\n",
    "    counts_std = ess_counts.std()\n",
    "    \n",
    "    if len(ess_counts)>0:\n",
    "\n",
    "        print(f\"{counts_max:.2f}, {counts_min:.2f}, {counts_std:.2f}\")\n",
    "        # check the counts in the ess detector, when not significantly change\n",
    "        fig, ax = plt.subplots(figsize=(8,3))\n",
    "        sns.set()\n",
    "        sns.set_context(\"notebook\", font_scale=1.5, rc={\"lines.linewidth\": 2.5})\n",
    "        sns.lineplot(x=ess_counts.index, y=ess_counts, ax=ax)\n",
    "        ax.xaxis.set_major_formatter(md.DateFormatter('%H:%M'))\n",
    "        ax.set_ylabel('Counts in ess \\n detectors [1/(30s)]')\n",
    "        ax.set_xlabel(f'Time, {DAY}')\n",
    "        plt.title(f\"{t0} \\n {t1}\")\n",
    "        plt.show()\n",
    "    else:\n",
    "        print(f\"No data for ii {ii} t0 {t0} t1 {t1}\")\n",
    "\n"
   ]
  },
  {
   "cell_type": "code",
   "execution_count": null,
   "metadata": {},
   "outputs": [],
   "source": [
    "data_dose"
   ]
  },
  {
   "cell_type": "code",
   "execution_count": null,
   "metadata": {},
   "outputs": [],
   "source": [
    "def get_total_counts(t0, t1, pos):\n",
    "    # total counts counts in the ess detector\n",
    "    data_ess_counts = pd.DataFrame(data_ess[(data_ess.index >= t0) & (data_ess.index <= t1)].loc[:,'value'])\n",
    "    if len(data_ess_counts) > 0:\n",
    "        # counting time in the ess in seconds\n",
    "        ess_time = (data_ess_counts.index[-1]-data_ess_counts.index[0]).seconds\n",
    "        ess_counts = data_ess_counts['value'].sum()\n",
    "        # background counts during this time interval\n",
    "        ess_bg_counts = counts_per_s_BG_agg * ess_time\n",
    "        # background corrected counts\n",
    "        ess_counts_bg_corr = ess_counts - ess_bg_counts\n",
    "        # background corrected cps in ess\n",
    "        ess_cps = ess_counts_bg_corr / ess_time\n",
    "        \n",
    "        t1 = data_ess_counts.index[-1]\n",
    "        t0 = data_ess_counts.index[0]\n",
    "        \n",
    "        # reference detector counts in that interval\n",
    "        ref_data = data_reference_s[(data_reference_s.index >= t0) & (data_reference_s.index <= t1)]\n",
    "        ref_total_counts = ref_data.loc[:, 'sum_counts'].sum()\n",
    "        # reference detector counting time\n",
    "        ref_total_time = (ref_data.index[-1]-ref_data.index[0]).seconds\n",
    "        # correct reference count using its background\n",
    "        ref_bg_counts = ref_counts_per_s_BG_agg * ref_total_time\n",
    "        # correct the reference counts with the background counts\n",
    "        ref_counts_bg_corr = ref_total_counts - ref_bg_counts\n",
    "        # background corrected cps in reference\n",
    "        ref_cps = ref_counts_bg_corr / ref_total_time\n",
    "        \n",
    "        # normalized ess cps (with reference counts)\n",
    "        ess_cps_norm_ref = ess_cps / ref_cps\n",
    "        \n",
    "        # average dose\n",
    "        avg_dose = data_dose[(data_dose.index >= t0) & (data_dose.index <= t1)].loc[:, 'dose_corrected'].mean()\n",
    "        \n",
    "        # counts normalized by average dose\n",
    "        ess_cps_norm_dose = ess_cps / avg_dose\n",
    "        s = pd.Series(\n",
    "            [t0, t1, pos, ess_counts, ess_time,  \n",
    "             ess_counts_bg_corr, ref_total_counts, ref_total_time, ess_cps, ref_cps, ess_cps_norm_ref, avg_dose, ess_cps_norm_dose], \n",
    "            index=['t0', 't1', 'pos', 'ess_total_counts', 'ess_total_time', \n",
    "                   'ess_counts_bg_corr', 'ref_total_counts', 'ref_total_time', 'ess_cps', 'ref_cps', 'ess_cps_norm_ref', 'avg_dose', 'ess_cps_norm_dose']\n",
    "        )\n",
    "        return s\n",
    "    else:\n",
    "        print(f\"No data for t0 {t0}, t1 {t1}, pos {pos})\")\n",
    "        return None\n",
    "# get total counts in the ess in that interval\n",
    "# correct with the background (times measurement time)\n",
    "\n",
    "# get dose in that time interval\n",
    "# get reference counts in that time interval\n",
    "data_result = data_pos.apply(lambda x: get_total_counts(x['t0'], x['t1'], x['edge_pos']), axis=1)\n",
    "data_result"
   ]
  },
  {
   "cell_type": "markdown",
   "metadata": {},
   "source": [
    "## Visualize the ess"
   ]
  },
  {
   "cell_type": "code",
   "execution_count": null,
   "metadata": {},
   "outputs": [],
   "source": [
    "# normalize by the max \n",
    "edge_fully_out = data_result[data_result['pos'] == 25].loc[:,'ess_cps_norm_ref'].values.mean()\n",
    "data_result['ess_cps_norm_ref_scaled'] = data_result['ess_cps_norm_ref']/edge_fully_out\n",
    "\n",
    "edge_fully_out = data_result[data_result['pos'] == 25].loc[:,'ess_cps_norm_dose'].values.mean()\n",
    "data_result['ess_cps_norm_dose_scaled'] = data_result['ess_cps_norm_dose']/edge_fully_out\n"
   ]
  },
  {
   "cell_type": "code",
   "execution_count": null,
   "metadata": {},
   "outputs": [],
   "source": [
    "fig, ax = plt.subplots(figsize=(10,5))\n",
    "sns.set()\n",
    "sns.set_context(\"notebook\", font_scale=1.5, rc={\"lines.linewidth\": 2.5})\n",
    "sns.lineplot(x='pos', y='ess_cps_norm_ref_scaled', data=data_result, ax=ax, marker=\"o\")\n",
    "\n",
    "ax.set_ylabel('ESS cps normalized \\n with ref detectors')\n",
    "ax.set_xlabel(f'Edge position [mm]')\n",
    "\n",
    "plt.show()"
   ]
  },
  {
   "cell_type": "code",
   "execution_count": null,
   "metadata": {},
   "outputs": [],
   "source": [
    "fig, ax = plt.subplots(figsize=(10,5))\n",
    "sns.set()\n",
    "sns.set_context(\"notebook\", font_scale=1.5, rc={\"lines.linewidth\": 2.5})\n",
    "sns.lineplot(x='pos', y='ess_cps_norm_dose_scaled', data=data_result, ax=ax, marker=\"o\")\n",
    "\n",
    "ax.set_ylabel('ESS cps normalized \\n with average dose')\n",
    "ax.set_xlabel(f'Edge position [mm]')\n",
    "\n",
    "plt.show()"
   ]
  },
  {
   "cell_type": "code",
   "execution_count": null,
   "metadata": {},
   "outputs": [],
   "source": [
    "# scale with ref and avg dose\n",
    "data_result['ess_cps_norm_dose_and_ref'] = data_result['ess_cps_norm_ref'] / data_result['avg_dose']\n",
    "edge_fully_out = data_result[data_result['pos'] == 25].loc[:,'ess_cps_norm_dose_and_ref'].values.mean()\n",
    "data_result['ess_cps_norm_dose_and_ref_scaled'] = data_result['ess_cps_norm_dose_and_ref']/edge_fully_out\n",
    "fig, ax = plt.subplots(figsize=(10,5))\n",
    "sns.set()\n",
    "sns.set_context(\"notebook\", font_scale=1.5, rc={\"lines.linewidth\": 2.5})\n",
    "sns.lineplot(x='pos', y='ess_cps_norm_dose_and_ref_scaled', data=data_result, ax=ax, marker=\"o\")\n",
    "\n",
    "ax.set_ylabel('ESS cps normalized \\n with average dose and \\nref detectors')\n",
    "ax.set_xlabel(f'Edge position [mm]')\n",
    "\n",
    "plt.show()"
   ]
  },
  {
   "cell_type": "markdown",
   "metadata": {},
   "source": [
    "# Continue with reference detector normed and fit ESF"
   ]
  },
  {
   "cell_type": "code",
   "execution_count": null,
   "metadata": {},
   "outputs": [],
   "source": [
    "# limit the position\n",
    "pos_min = 14\n",
    "pos_max = 23\n",
    "data_result_s = data_result[(data_result['pos'] > pos_min) & (data_result['pos'] < pos_max)]\n",
    "\n",
    "fig, ax = plt.subplots(figsize=(10,5))\n",
    "sns.set()\n",
    "sns.set_context(\"notebook\", font_scale=1.5, rc={\"lines.linewidth\": 2.5})\n",
    "sns.lineplot(x='pos', y='ess_cps_norm_ref_scaled', data=data_result_s, ax=ax, marker=\"o\")\n",
    "\n",
    "ax.set_ylabel('ESS cps normalized \\n with ref detectors')\n",
    "ax.set_xlabel(f'Edge position [mm]')\n",
    "ax.set_xticks(np.arange(14,23,1))\n",
    "plt.show()"
   ]
  },
  {
   "cell_type": "code",
   "execution_count": null,
   "metadata": {},
   "outputs": [],
   "source": [
    "thresh_out = 21  # edge completely removed\n",
    "thresh_in = 15.5  # edge completely in\n",
    "\n",
    "mu_out = np.mean(data_result.ess_cps_norm_ref_scaled[ data_result.pos > thresh_out ])\n",
    "mu_in = np.mean(data_result.ess_cps_norm_ref_scaled[ data_result.pos < thresh_in ])\n",
    "print(f'Mean of counts when edge is out: {mu_out}')\n",
    "print(f'Mean of counts when edge is in: {mu_in}')"
   ]
  },
  {
   "cell_type": "code",
   "execution_count": null,
   "metadata": {},
   "outputs": [],
   "source": [
    "thresh_out = 21  # edge completely removed\n",
    "thresh_in = 15.5  # edge completely in\n",
    "\n",
    "mu_out = np.mean(data_result.ess_cps_norm_ref_scaled[ data_result.pos > thresh_out ])\n",
    "mu_in = np.mean(data_result.ess_cps_norm_ref_scaled[ data_result.pos < thresh_in ])\n",
    "print(f'Mean of counts when edge is out: {mu_out}')\n",
    "print(f'Mean of counts when edge is in: {mu_in}')\n",
    "\n",
    "# linear fit around the middle region\n",
    "center_estimated = 18.5  # edge pos center estimated in mm\n",
    "pts_fit = 1  # mm left and right of center to take for fit\n",
    "x_fit_range1 = center_estimated + pts_fit\n",
    "x_fit_range2 = center_estimated - pts_fit\n",
    "def fitfunc(p, x):\n",
    "    return p[0] * x + p[1]\n",
    "def errfunc(p, x, y):\n",
    "    return fitfunc(p, x) - y # Distance to the fit function\n",
    "\n",
    "p0 = [1, 1] # Initial guess for the parameters\n",
    "X_f = data_result.pos[ (data_result.pos <= x_fit_range1) & (data_result.pos >= x_fit_range2) ].values\n",
    "Y_f = data_result.ess_cps_norm_ref_scaled[ (data_result.pos <= x_fit_range1) & (data_result.pos >= x_fit_range2) ].values\n",
    "\n",
    "p1, success = optimize.leastsq(errfunc, p0[:], args=(X_f, Y_f))\n",
    "X_fit = np.arange(15.5,21+0.01,0.01)\n",
    "Y_fit = fitfunc(p1,X_fit)\n",
    "\n",
    "# this code plots the centering\n",
    "fig, ax = plt.subplots(figsize=(10,5))\n",
    "sns.set()\n",
    "sns.set_context(\"notebook\", font_scale=1.5, rc={\"lines.linewidth\": 2.5})\n",
    "plt.scatter(data_result.pos, data_result.ess_cps_norm_ref_scaled)\n",
    "plt.plot([data_result.pos.min(), data_result.pos.max()], [mu_in, mu_in], c='red', label='mu edge in or out')\n",
    "plt.plot([data_result.pos.min(), data_result.pos.max()], [mu_out, mu_out], c='red')\n",
    "\n",
    "plt.plot(X_fit, Y_fit, c='green', label='linear fit')\n",
    "plt.xlabel('Edge position [mm]')\n",
    "plt.ylabel('ESS cps normalized \\n with ref detectors')\n",
    "plt.grid(True)\n",
    "plt.legend(loc='best')\n",
    "plt.show()\n",
    "\n",
    "\n",
    "\n",
    "# find where the linear fit intersects the mean curved (edge fully in or fully out curve)\n",
    "def find_nearest(array,value):\n",
    "    idx = (np.abs(array-value)).argmin()\n",
    "    return idx\n",
    "\n",
    "near_mu = np.array([])  # first entry: edge fully in, second entry: edge fully out in mm edge position\n",
    "for mu in [mu_in, mu_out]:\n",
    "    idx = find_nearest(Y_fit, mu)\n",
    "    near_mu = np.append(near_mu,X_fit[idx])\n",
    "\n",
    "# center is in between the two\n",
    "center = np.mean(near_mu)\n",
    "print(near_mu)\n",
    "print(f\"Center point (symmetry) is {center} mm.\")"
   ]
  },
  {
   "cell_type": "code",
   "execution_count": null,
   "metadata": {},
   "outputs": [],
   "source": [
    "data_result['pos_centered'] = data_result['pos'] - center\n",
    "data_result.head()"
   ]
  },
  {
   "cell_type": "code",
   "execution_count": null,
   "metadata": {},
   "outputs": [],
   "source": [
    "m = [1e-2, 5e-2, 1e-1, 5e-1, 0, 1, 5, 1e1]\n",
    "x = data_result['pos_centered'].values\n",
    "x = x[~np.isnan(x)]\n",
    "y = data_result['ess_cps_norm_ref_scaled'].values\n",
    "y = y[~np.isnan(y)]\n",
    "def fitfunc(x, *p):\n",
    "    a, b, c, d = p\n",
    "    z = np.exp( -( (x-b)/(c) ) )\n",
    "    # z = np.exp( -( (x-p[1])/(p[2]) ) )\n",
    "    return (a / ( 1 + z )) + d\n",
    "    # return (p[0] / ( 1 + z )) + p[3]\n",
    "\n",
    "p0 = [1,1,1,1]\n",
    "popt, pcov = curve_fit(fitfunc, x, y, p0=p0, maxfev=1000000)\n",
    "# print(popt)\n",
    "FWHM = 3.53*popt[2]  # 3.53 * c in fermi function\n",
    "# print(FWHM)\n",
    "X = np.arange(-10, 10+0.01, 0.01)\n",
    "Y_fit = fitfunc(X, *popt)\n",
    "    \n",
    "fig, ax = plt.subplots(figsize=(10,5))\n",
    "sns.set()\n",
    "sns.set_context(\"notebook\", font_scale=1.5, rc={\"lines.linewidth\": 2.5})\n",
    "sns.scatterplot(x=data_result['pos_centered'], y=data_result['ess_cps_norm_ref_scaled'], color='darkblue', ax=ax, s=100, label='measurement')\n",
    "sns.lineplot(x=X,y=Y_fit, color='darkred', ax=ax, label='logistic fit')\n",
    "ax.set_ylabel('ESS cps normalized \\n with ref detectors')\n",
    "ax.set_xlabel(f'Edge position [mm]')\n",
    "plt.text(2, 0.8, f'FWHM {FWHM:.2f} mm')\n",
    "# ax.set_xticks(np.arange(-7.5,7.5+2,2))\n",
    "plt.xlim(-7,7)\n",
    "plt.show()"
   ]
  },
  {
   "cell_type": "code",
   "execution_count": null,
   "metadata": {},
   "outputs": [],
   "source": []
  }
 ],
 "metadata": {
  "kernelspec": {
   "display_name": "Python 3",
   "language": "python",
   "name": "python3"
  },
  "language_info": {
   "codemirror_mode": {
    "name": "ipython",
    "version": 3
   },
   "file_extension": ".py",
   "mimetype": "text/x-python",
   "name": "python",
   "nbconvert_exporter": "python",
   "pygments_lexer": "ipython3",
   "version": "3.8.1"
  }
 },
 "nbformat": 4,
 "nbformat_minor": 4
}
