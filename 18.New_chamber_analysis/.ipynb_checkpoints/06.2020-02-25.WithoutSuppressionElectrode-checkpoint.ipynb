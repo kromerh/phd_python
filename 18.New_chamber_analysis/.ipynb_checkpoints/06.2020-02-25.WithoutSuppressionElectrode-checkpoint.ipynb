{
 "cells": [
  {
   "cell_type": "markdown",
   "metadata": {},
   "source": [
    "# Measurement from 2020-12-18 and 19\n",
    "\n",
    "Files are in: /Users/hkromer/02_PhD/02_Data/13.new_chamber/2019-12-18.Testing_without_extraction.xlsx\n",
    "\n",
    "and \n",
    "\n",
    "/Users/hkromer/02_PhD/02_Data/13.new_chamber/2019-12-19.Loading.Testing_without_extraction.xlsx\n",
    "\n",
    "Suppression electrode was already burned."
   ]
  },
  {
   "cell_type": "code",
   "execution_count": null,
   "metadata": {},
   "outputs": [],
   "source": [
    "import numpy as np\n",
    "import pandas as pd\n",
    "import pymysql\n",
    "import sqlalchemy as sql\n",
    "import matplotlib.pyplot as plt\n",
    "import matplotlib.dates as md\n",
    "# import seaborn as sns\n",
    "# sns.set()\n",
    "import getopt\n",
    "import sys\n",
    "import datetime\n",
    "from scipy.interpolate import interp1d\n",
    "from NGDataObject import NGDataObject\n",
    "from scipy.optimize import curve_fit\n",
    "from scipy import optimize\n",
    "\n",
    "#*******************************\n",
    "# CONSTANTS\n",
    "#*******************************\n",
    "# connection to database\n",
    "CREDENTIALS_FILE = '/Users/hkromer/02_PhD/01.github/dash_NG/credentials.pw'\n",
    "DB = \"NG_twofast_DB\" # name of the database\n",
    "HOST = \"twofast-RPi3-0\"  # database host\n",
    "\n",
    "# LOOKUP TABLES\n",
    "LUT_PRESSURE_ION_SOURCE = \"/Users/hkromer/02_PhD/01.github/phd/01_neutron_generator_contol/LUT_pressure_ion_source.txt\""
   ]
  },
  {
   "cell_type": "markdown",
   "metadata": {},
   "source": [
    "# 2019-12-18"
   ]
  },
  {
   "cell_type": "code",
   "execution_count": null,
   "metadata": {},
   "outputs": [],
   "source": [
    "DAY = \"2019-12-18\"\n",
    "PATH = '/Users/hkromer/02_PhD/02_Data/13.new_chamber/2019-12-18.without_suppression_fail/'\n"
   ]
  },
  {
   "cell_type": "markdown",
   "metadata": {},
   "source": [
    "## LOAD FROM DATABASE"
   ]
  },
  {
   "cell_type": "code",
   "execution_count": null,
   "metadata": {},
   "outputs": [],
   "source": [
    "# reference detectors\n",
    "# dose\n",
    "# HV\n",
    "\n",
    "# read password and user to connect to database\n",
    "credentials = pd.read_csv(CREDENTIALS_FILE, header=0)\n",
    "user = credentials['username'].values[0]\n",
    "pw = credentials['password'].values[0]\n",
    "\n",
    "\n",
    "#*******************************\n",
    "# GET DATA\n",
    "#*******************************\n",
    "\n",
    "# connect to DB\n",
    "con = NGDataObject(host = HOST, database=DB, user=user, password=pw)\n",
    "\n",
    "# get dose\n",
    "query = \"SELECT * FROM data_dose WHERE DATE(time) = '%(t)s'\" % {\"t\": DAY}\n",
    "data_dose = con.get_from_database(query=query)\n",
    "\n",
    "# get HV\n",
    "query = \"SELECT * FROM data_HV WHERE DATE(time) = '%(t)s'\" % {\"t\": DAY}\n",
    "data_hv = con.get_from_database(query=query)\n",
    "data_hv['HV_current_x100'] = data_hv['HV_current']*100.0\n",
    "\n",
    "# get pressure\n",
    "query = \"SELECT * FROM data_pressure WHERE DATE(time) = '%(t)s'\" % {\"t\": DAY}\n",
    "data_pressure = con.get_from_database(query=query)\n",
    "\n"
   ]
  },
  {
   "cell_type": "markdown",
   "metadata": {},
   "source": [
    "### Save to file"
   ]
  },
  {
   "cell_type": "code",
   "execution_count": null,
   "metadata": {},
   "outputs": [],
   "source": [
    "data_dose.to_csv(f'{PATH}/{DAY}_dose.csv')\n",
    "data_hv.to_csv(f'{PATH}/{DAY}_hv.csv')\n",
    "data_pressure.to_csv(f'{PATH}/{DAY}_pressure.csv')"
   ]
  },
  {
   "cell_type": "markdown",
   "metadata": {},
   "source": [
    "## Load from csv"
   ]
  },
  {
   "cell_type": "code",
   "execution_count": null,
   "metadata": {},
   "outputs": [],
   "source": [
    "data_dose = pd.read_csv(f'{PATH}/{DAY}_dose.csv', index_col=0)\n",
    "data_hv = pd.read_csv(f'{PATH}/{DAY}_hv.csv', index_col=0)\n",
    "data_pressure = pd.read_csv(f'{PATH}/{DAY}_pressure.csv', index_col=0)\n",
    "\n",
    "for df in [data_dose, data_hv, data_pressure]:\n",
    "    df.index = pd.to_datetime(df.index)\n",
    "    "
   ]
  },
  {
   "cell_type": "code",
   "execution_count": null,
   "metadata": {},
   "outputs": [],
   "source": [
    "time_start = f\"{DAY} 15:30:00\"\n",
    "time_end = f\"{DAY} 19:20:00\"\n",
    "\n",
    "\n",
    "data_dose = data_dose.loc[time_start:time_end, :]\n",
    "data_hv = data_hv.loc[time_start:time_end, :]\n",
    "data_pressure = data_pressure.loc[time_start:time_end, :]"
   ]
  },
  {
   "cell_type": "markdown",
   "metadata": {},
   "source": [
    "## put all on one dataframe"
   ]
  },
  {
   "cell_type": "code",
   "execution_count": null,
   "metadata": {},
   "outputs": [],
   "source": [
    "def resample_30_seconds(df, cols, range_start, range_end):\n",
    "    \"\"\"\n",
    "    Takes the a grouped df (grouped by day) and resamples the columns cols in 10s\n",
    "    OUTPUT:\n",
    "        - dataframe\n",
    "    \"\"\"\n",
    "\n",
    "    d = {}\n",
    "\n",
    "    s = pd.date_range(start=range_start, end=range_end, freq='10S')\n",
    "    df_out = pd.DataFrame(pd.Series(s, name='time')).set_index('time')\n",
    "    for col in cols:\n",
    "        d[col] = df[col].resample('10S').mean()\n",
    "\n",
    "    this_d = pd.DataFrame(d)\n",
    "\n",
    "    df_out = df_out.merge(this_d, left_on=df_out.index, right_on=this_d.index, how='outer')\n",
    "    df_out = df_out.set_index('key_0')\n",
    "    df_out.index.name ='time'    \n",
    "    \n",
    "    return df_out"
   ]
  },
  {
   "cell_type": "code",
   "execution_count": null,
   "metadata": {},
   "outputs": [],
   "source": [
    "data_hv = resample_30_seconds(data_hv, ['HV_current', 'HV_voltage'], time_start, time_end)\n",
    "data_dose = resample_30_seconds(data_dose, ['dose_corrected'], time_start, time_end)\n",
    "\n",
    "data = pd.merge(data_hv, data_dose, left_index=True, right_index=True, how='outer')\n"
   ]
  },
  {
   "cell_type": "code",
   "execution_count": null,
   "metadata": {},
   "outputs": [],
   "source": [
    "# time difference since the start time\n",
    "data['time_delta_minutes'] = data.index\n",
    "data['time_delta_minutes'] = data['time_delta_minutes'].apply(lambda x: (x - data.index[0]).seconds/60)\n"
   ]
  },
  {
   "cell_type": "code",
   "execution_count": null,
   "metadata": {},
   "outputs": [],
   "source": [
    "\n",
    "import os, matplotlib\n",
    "os.environ[\"PATH\"] += os.pathsep + '/usr/local/texlive/2018/bin/x86_64-darwin'\n",
    "plt.rc('text', usetex=True)\n",
    "plt.rc('font', weight='bold')\n",
    "from matplotlib.ticker import AutoMinorLocator\n",
    "matplotlib.rcParams['mathtext.fontset'] = 'custom'\n",
    "matplotlib.rcParams['mathtext.rm'] = 'Arial'\n",
    "matplotlib.rcParams['mathtext.it'] = 'Arial:italic'\n",
    "matplotlib.rcParams['mathtext.bf'] = 'Arial:bold'\n",
    "matplotlib.rcParams['mathtext.tt'] = 'Arial'\n",
    "matplotlib.rcParams['mathtext.cal'] = 'Arial'\n",
    "matplotlib.rcParams['text.latex.preamble'] = [r'\\usepackage{sfmath} \\boldmath']"
   ]
  },
  {
   "cell_type": "code",
   "execution_count": null,
   "metadata": {},
   "outputs": [],
   "source": [
    "OUTPUT_FOLDER = '/Users/hkromer/polybox/Thesis/Chapters/FurtherNeutronGeneratorUpgrades/Figures/First_operation_wo_suppression/'\n",
    "FIGNAME = 'First_operation_wo_suppression'"
   ]
  },
  {
   "cell_type": "code",
   "execution_count": null,
   "metadata": {},
   "outputs": [],
   "source": [
    "fig = plt.figure(figsize=(8,6))\n",
    "fs = 20\n",
    "\n",
    "plt.plot(data['time_delta_minutes'].values, data['HV_voltage'].values, label='Voltage [-kV]', color='darkred')\n",
    "plt.plot(data['time_delta_minutes'].values, data['HV_current'].values * 100, label='Current [0.01 mA]', color='darkorange')\n",
    "\n",
    "ax = plt.gca()\n",
    "\n",
    "_ = plt.xlabel(r'\\textbf{Measurement time [min]}',fontsize=fs)\n",
    "_ = ax.set_ylabel(r'\\textbf{High voltage power supply}', color='black',fontsize=fs)\n",
    "_ = plt.legend(loc=(0.12, 0.84), fontsize=fs-4)\n",
    "# minor ticks x\n",
    "minor_locator = AutoMinorLocator(2)\n",
    "ax.xaxis.set_minor_locator(minor_locator)\n",
    "# minor ticks y\n",
    "minor_locator = AutoMinorLocator(2)\n",
    "ax.yaxis.set_minor_locator(minor_locator)\n",
    "# tick font size\n",
    "ax.tick_params('x', colors='black', labelsize=fs-2)\t\n",
    "ax.tick_params('y', colors='black', labelsize=fs-2)\t\n",
    "# grid\n",
    "ax.grid(b=True, which='major', linestyle='-')#, color='gray')\n",
    "ax.grid(b=True, which='minor', linestyle='--')#, color='gray')\n",
    "\n",
    "\n",
    "ax2 = ax.twinx()\n",
    "# Turns off grid on the secondary (right) Axis.\n",
    "ax2.grid(False)\n",
    "ax2.set_ylabel(r\"\\textbf{Ambient dose rate [muSv/hr]}\", color='darkblue',fontsize=fs)\n",
    "ax2.tick_params(axis='y', labelcolor='darkblue', labelsize=fs-2)\n",
    "plt.plot(data['time_delta_minutes'].values, data['dose_corrected'].values, label='Dose', color='darkblue')\n",
    "\n",
    "_ = ax2.legend(loc=(0.68, 0.025), fontsize=fs-4)\n",
    "ax.set_ylim(0, 145)\n",
    "ax.set_xlim(0, 250)\n",
    "ax2.set_ylim(0, 290)\n",
    "ax2.set_yticks(np.arange(0, 280+40, 40))\n",
    "plt.tight_layout()\n",
    "plt.savefig(f'{OUTPUT_FOLDER}/{FIGNAME}.pdf')\n",
    "plt.show()"
   ]
  },
  {
   "cell_type": "markdown",
   "metadata": {},
   "source": [
    "# 2019-12-19"
   ]
  },
  {
   "cell_type": "code",
   "execution_count": null,
   "metadata": {},
   "outputs": [],
   "source": [
    "DAY = \"2019-12-19\"\n",
    "PATH = '/Users/hkromer/02_PhD/02_Data/13.new_chamber/2019-12-19.without_suppression_fail/'\n"
   ]
  },
  {
   "cell_type": "markdown",
   "metadata": {},
   "source": [
    "## LOAD FROM DATABASE"
   ]
  },
  {
   "cell_type": "code",
   "execution_count": null,
   "metadata": {},
   "outputs": [],
   "source": [
    "# reference detectors\n",
    "# dose\n",
    "# HV\n",
    "\n",
    "# read password and user to connect to database\n",
    "credentials = pd.read_csv(CREDENTIALS_FILE, header=0)\n",
    "user = credentials['username'].values[0]\n",
    "pw = credentials['password'].values[0]\n",
    "\n",
    "\n",
    "#*******************************\n",
    "# GET DATA\n",
    "#*******************************\n",
    "\n",
    "# connect to DB\n",
    "con = NGDataObject(host = HOST, database=DB, user=user, password=pw)\n",
    "\n",
    "# get dose\n",
    "query = \"SELECT * FROM data_dose WHERE DATE(time) = '%(t)s'\" % {\"t\": DAY}\n",
    "data_dose = con.get_from_database(query=query)\n",
    "\n",
    "# get HV\n",
    "query = \"SELECT * FROM data_HV WHERE DATE(time) = '%(t)s'\" % {\"t\": DAY}\n",
    "data_hv = con.get_from_database(query=query)\n",
    "data_hv['HV_current_x100'] = data_hv['HV_current']*100.0\n",
    "\n",
    "# get pressure\n",
    "query = \"SELECT * FROM data_pressure WHERE DATE(time) = '%(t)s'\" % {\"t\": DAY}\n",
    "data_pressure = con.get_from_database(query=query)\n",
    "\n"
   ]
  },
  {
   "cell_type": "markdown",
   "metadata": {},
   "source": [
    "### Save to file"
   ]
  },
  {
   "cell_type": "code",
   "execution_count": null,
   "metadata": {},
   "outputs": [],
   "source": [
    "data_dose.to_csv(f'{PATH}/{DAY}_dose.csv')\n",
    "data_hv.to_csv(f'{PATH}/{DAY}_hv.csv')\n",
    "data_pressure.to_csv(f'{PATH}/{DAY}_pressure.csv')"
   ]
  },
  {
   "cell_type": "markdown",
   "metadata": {},
   "source": [
    "## Load from csv"
   ]
  },
  {
   "cell_type": "code",
   "execution_count": null,
   "metadata": {},
   "outputs": [],
   "source": [
    "DAY = \"2019-12-19\"\n",
    "PATH = '/Users/hkromer/02_PhD/02_Data/13.new_chamber/2019-12-19.without_suppression_fail/'\n",
    "data_dose = pd.read_csv(f'{PATH}/{DAY}_dose.csv', index_col=0)\n",
    "data_hv = pd.read_csv(f'{PATH}/{DAY}_hv.csv', index_col=0)\n",
    "data_pressure = pd.read_csv(f'{PATH}/{DAY}_pressure.csv', index_col=0)\n",
    "\n",
    "for df in [data_dose, data_hv, data_pressure]:\n",
    "    df.index = pd.to_datetime(df.index)\n",
    "    \n",
    "data_dose.head()"
   ]
  },
  {
   "cell_type": "code",
   "execution_count": null,
   "metadata": {},
   "outputs": [],
   "source": [
    "time_start = f\"{DAY} 11:20:00\"\n",
    "time_end = f\"{DAY} 15:30:00\"\n",
    "\n",
    "\n",
    "data_dose = data_dose.loc[time_start:time_end, :]\n",
    "data_hv = data_hv.loc[time_start:time_end, :]\n",
    "data_pressure = data_pressure.loc[time_start:time_end, :]"
   ]
  },
  {
   "cell_type": "markdown",
   "metadata": {},
   "source": [
    "## put all on one dataframe"
   ]
  },
  {
   "cell_type": "code",
   "execution_count": null,
   "metadata": {},
   "outputs": [],
   "source": [
    "def resample_30_seconds(df, cols, range_start, range_end):\n",
    "    \"\"\"\n",
    "    Takes the a grouped df (grouped by day) and resamples the columns cols in 10s\n",
    "    OUTPUT:\n",
    "        - dataframe\n",
    "    \"\"\"\n",
    "\n",
    "    d = {}\n",
    "\n",
    "    s = pd.date_range(start=range_start, end=range_end, freq='10S')\n",
    "    df_out = pd.DataFrame(pd.Series(s, name='time')).set_index('time')\n",
    "    for col in cols:\n",
    "        d[col] = df[col].resample('10S').mean()\n",
    "\n",
    "    this_d = pd.DataFrame(d)\n",
    "\n",
    "    df_out = df_out.merge(this_d, left_on=df_out.index, right_on=this_d.index, how='outer')\n",
    "    df_out = df_out.set_index('key_0')\n",
    "    df_out.index.name ='time'    \n",
    "    \n",
    "    return df_out"
   ]
  },
  {
   "cell_type": "code",
   "execution_count": null,
   "metadata": {},
   "outputs": [],
   "source": [
    "data_hv = resample_30_seconds(data_hv, ['HV_current', 'HV_voltage'], time_start, time_end)\n",
    "data_dose = resample_30_seconds(data_dose, ['dose_corrected'], time_start, time_end)\n",
    "\n",
    "data = pd.merge(data_hv, data_dose, left_index=True, right_index=True, how='outer')\n"
   ]
  },
  {
   "cell_type": "code",
   "execution_count": null,
   "metadata": {},
   "outputs": [],
   "source": [
    "# time difference since the start time\n",
    "data['time_delta_minutes'] = data.index\n",
    "data['time_delta_minutes'] = data['time_delta_minutes'].apply(lambda x: (x - data.index[0]).seconds/60)\n"
   ]
  },
  {
   "cell_type": "code",
   "execution_count": null,
   "metadata": {},
   "outputs": [],
   "source": [
    "\n",
    "import os, matplotlib\n",
    "os.environ[\"PATH\"] += os.pathsep + '/usr/local/texlive/2018/bin/x86_64-darwin'\n",
    "plt.rc('text', usetex=True)\n",
    "plt.rc('font', weight='bold')\n",
    "from matplotlib.ticker import AutoMinorLocator\n",
    "matplotlib.rcParams['mathtext.fontset'] = 'custom'\n",
    "matplotlib.rcParams['mathtext.rm'] = 'Arial'\n",
    "matplotlib.rcParams['mathtext.it'] = 'Arial:italic'\n",
    "matplotlib.rcParams['mathtext.bf'] = 'Arial:bold'\n",
    "matplotlib.rcParams['mathtext.tt'] = 'Arial'\n",
    "matplotlib.rcParams['mathtext.cal'] = 'Arial'\n",
    "matplotlib.rcParams['text.latex.preamble'] = [r'\\usepackage{sfmath} \\boldmath']"
   ]
  },
  {
   "cell_type": "code",
   "execution_count": null,
   "metadata": {},
   "outputs": [],
   "source": [
    "OUTPUT_FOLDER = '/Users/hkromer/polybox/Thesis/Chapters/FurtherNeutronGeneratorUpgrades/Figures/First_operation_wo_suppression/'\n",
    "FIGNAME = 'First_operation_wo_suppression_2'"
   ]
  },
  {
   "cell_type": "code",
   "execution_count": null,
   "metadata": {},
   "outputs": [],
   "source": [
    "fig = plt.figure(figsize=(8,6))\n",
    "fs = 20\n",
    "\n",
    "plt.plot(data['time_delta_minutes'].values, data['HV_voltage'].values, label='Voltage [-kV]', color='darkred')\n",
    "plt.plot(data['time_delta_minutes'].values, data['HV_current'].values * 100, label='Current [0.01 mA]', color='darkorange')\n",
    "\n",
    "ax = plt.gca()\n",
    "\n",
    "_ = plt.xlabel(r'\\textbf{Measurement time [min]}',fontsize=fs)\n",
    "_ = ax.set_ylabel(r'\\textbf{High voltage power supply}', color='black',fontsize=fs)\n",
    "_ = plt.legend(loc=(0.1, 0.82), fontsize=fs-4, framealpha=1)\n",
    "# minor ticks x\n",
    "minor_locator = AutoMinorLocator(2)\n",
    "ax.xaxis.set_minor_locator(minor_locator)\n",
    "# minor ticks y\n",
    "minor_locator = AutoMinorLocator(2)\n",
    "ax.yaxis.set_minor_locator(minor_locator)\n",
    "# tick font size\n",
    "ax.tick_params('x', colors='black', labelsize=fs-2)\t\n",
    "ax.tick_params('y', colors='black', labelsize=fs-2)\t\n",
    "# grid\n",
    "ax.grid(b=True, which='major', linestyle='-')#, color='gray')\n",
    "ax.grid(b=True, which='minor', linestyle='--')#, color='gray')\n",
    "\n",
    "\n",
    "ax2 = ax.twinx()\n",
    "# Turns off grid on the secondary (right) Axis.\n",
    "ax2.grid(False)\n",
    "ax2.set_ylabel(r\"\\textbf{Ambient dose rate [muSv/hr]}\", color='darkblue',fontsize=fs)\n",
    "ax2.tick_params(axis='y', labelcolor='darkblue', labelsize=fs-2)\n",
    "plt.plot(data['time_delta_minutes'].values, data['dose_corrected'].values, label='Dose', color='darkblue')\n",
    "\n",
    "_ = ax2.legend(loc=(0.7, 0.025), fontsize=fs-4)\n",
    "ax.set_ylim(0, 145)\n",
    "ax.set_xlim(0, 250)\n",
    "ax2.set_ylim(0, 580)\n",
    "ax2.set_yticks(np.arange(0, 580+40, 80))\n",
    "plt.tight_layout()\n",
    "plt.savefig(f'{OUTPUT_FOLDER}/{FIGNAME}.pdf')\n",
    "plt.show()"
   ]
  },
  {
   "cell_type": "code",
   "execution_count": null,
   "metadata": {},
   "outputs": [],
   "source": [
    "data"
   ]
  },
  {
   "cell_type": "code",
   "execution_count": null,
   "metadata": {},
   "outputs": [],
   "source": []
  },
  {
   "cell_type": "code",
   "execution_count": null,
   "metadata": {},
   "outputs": [],
   "source": []
  },
  {
   "cell_type": "code",
   "execution_count": null,
   "metadata": {},
   "outputs": [],
   "source": []
  }
 ],
 "metadata": {
  "kernelspec": {
   "display_name": "Python 3",
   "language": "python",
   "name": "python3"
  },
  "language_info": {
   "codemirror_mode": {
    "name": "ipython",
    "version": 3
   },
   "file_extension": ".py",
   "mimetype": "text/x-python",
   "name": "python",
   "nbconvert_exporter": "python",
   "pygments_lexer": "ipython3",
   "version": "3.8.1"
  }
 },
 "nbformat": 4,
 "nbformat_minor": 4
}
