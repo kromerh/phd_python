{
 "cells": [
  {
   "cell_type": "markdown",
   "metadata": {},
   "source": [
    "# Measurements with suppression electrode but without extraction electrode\n",
    "\n",
    "Days were 2020-01-24, 27, and 28\n"
   ]
  },
  {
   "cell_type": "code",
   "execution_count": null,
   "metadata": {},
   "outputs": [],
   "source": [
    "import numpy as np\n",
    "import pandas as pd\n",
    "import pymysql\n",
    "import sqlalchemy as sql\n",
    "import matplotlib.pyplot as plt\n",
    "import matplotlib.dates as md\n",
    "import seaborn as sns\n",
    "sns.set()\n",
    "import getopt\n",
    "import sys\n",
    "import datetime\n",
    "from scipy.interpolate import interp1d\n",
    "from NGDataObject import NGDataObject\n",
    "from scipy.optimize import curve_fit\n",
    "from scipy import optimize\n",
    "\n",
    "#*******************************\n",
    "# CONSTANTS\n",
    "#*******************************\n",
    "# connection to database\n",
    "CREDENTIALS_FILE = '/Users/hkromer/02_PhD/01.github/dash_NG/credentials.pw'\n",
    "DB = \"NG_twofast_DB\" # name of the database\n",
    "HOST = \"twofast-RPi3-0\"  # database host\n",
    "\n",
    "# LOOKUP TABLES\n",
    "LUT_PRESSURE_ION_SOURCE = \"/Users/hkromer/02_PhD/01.github/phd/01_neutron_generator_contol/LUT_pressure_ion_source.txt\""
   ]
  },
  {
   "cell_type": "code",
   "execution_count": null,
   "metadata": {},
   "outputs": [],
   "source": [
    "def load_data_for_day_DATABASE(DAY, PATH):\n",
    "    # reference detectors\n",
    "    # dose\n",
    "    # HV\n",
    "\n",
    "    # read password and user to connect to database\n",
    "    credentials = pd.read_csv(CREDENTIALS_FILE, header=0)\n",
    "    user = credentials['username'].values[0]\n",
    "    pw = credentials['password'].values[0]\n",
    "\n",
    "\n",
    "    #*******************************\n",
    "    # GET DATA\n",
    "    #*******************************\n",
    "\n",
    "    # connect to DB\n",
    "    con = NGDataObject(host = HOST, database=DB, user=user, password=pw)\n",
    "\n",
    "    # get dose\n",
    "    query = \"SELECT * FROM data_dose WHERE DATE(time) = '%(t)s'\" % {\"t\": DAY}\n",
    "    data_dose = con.get_from_database(query=query)\n",
    "\n",
    "    # get HV\n",
    "    query = \"SELECT * FROM data_HV WHERE DATE(time) = '%(t)s'\" % {\"t\": DAY}\n",
    "    data_hv = con.get_from_database(query=query)\n",
    "    data_hv['HV_current_x100'] = data_hv['HV_current']*100.0\n",
    "\n",
    "    # get pressure\n",
    "    query = \"SELECT * FROM data_pressure WHERE DATE(time) = '%(t)s'\" % {\"t\": DAY}\n",
    "    data_pressure = con.get_from_database(query=query)\n",
    "\n",
    "    # get microwave power\n",
    "    query = \"SELECT * FROM microwave_generator_power WHERE DATE(time) = '%(t)s'\" % {\"t\": DAY}\n",
    "    data_microwave_power_full = con.get_from_database(query=query)\n",
    "\n",
    "    # get microwave frequency\n",
    "    query = \"SELECT * FROM microwave_generator_frequency WHERE DATE(time) = '%(t)s'\" % {\"t\": DAY}\n",
    "    data_microwave_frequency_full = con.get_from_database(query=query)\n",
    "\n",
    "    fig, ax = plt.subplots(figsize=(10,4))\n",
    "    sns.set()\n",
    "    sns.set_context(\"notebook\", font_scale=1.5, rc={\"lines.linewidth\": 2.5})\n",
    "    sns.lineplot(x=data_dose.index, y='dose_corrected', data=data_dose, ax=ax, color='darkblue')\n",
    "\n",
    "    ax.xaxis.set_major_formatter(md.DateFormatter('%H:%M'))\n",
    "    ax.set_ylabel('Dose [muSv/hr]')\n",
    "    ax.set_xlabel(f'Time, {DAY}')\n",
    "    plt.show()\n",
    "\n",
    "    fig, ax = plt.subplots(figsize=(10,4))\n",
    "    sns.set()\n",
    "    sns.set_context(\"notebook\", font_scale=1.5, rc={\"lines.linewidth\": 2.5})\n",
    "    sns.lineplot(x=data_hv.index, y='HV_voltage', data=data_hv, ax=ax, color='darkred')\n",
    "\n",
    "    ax.xaxis.set_major_formatter(md.DateFormatter('%H:%M'))\n",
    "    ax.set_ylabel('HV V [kV]')\n",
    "    ax.set_xlabel(f'Time, {DAY}')\n",
    "    plt.show()\n",
    "\n",
    "    fig, ax = plt.subplots(figsize=(10,4))\n",
    "    sns.set()\n",
    "    sns.set_context(\"notebook\", font_scale=1.5, rc={\"lines.linewidth\": 2.5})\n",
    "    sns.lineplot(x=data_hv.index, y='HV_current', data=data_hv, ax=ax, color='darkorange')\n",
    "\n",
    "    ax.xaxis.set_major_formatter(md.DateFormatter('%H:%M'))\n",
    "    ax.set_ylabel('HV I [mA] (incl. leakage)')\n",
    "    ax.set_xlabel(f'Time, {DAY}')\n",
    "    plt.show()\n",
    "\n",
    "\n",
    "    fig, ax = plt.subplots(figsize=(10,4))\n",
    "    sns.set()\n",
    "    sns.set_context(\"notebook\", font_scale=1.5, rc={\"lines.linewidth\": 2.5})\n",
    "    sns.lineplot(x=data_pressure.index, y='pressure_IS_corrected', data=data_pressure, ax=ax, color='darkgreen')\n",
    "\n",
    "    ax.xaxis.set_major_formatter(md.DateFormatter('%H:%M'))\n",
    "    ax.set_ylabel('pressure [mbar]')\n",
    "    ax.set_xlabel(f'Time, {DAY}')\n",
    "    ax.set_yscale('log')\n",
    "    plt.show()\n",
    "\n",
    "    data_dose.to_csv(f'{PATH}/{DAY}_dose.csv')\n",
    "    data_hv.to_csv(f'{PATH}/{DAY}_hv.csv')\n",
    "    data_pressure.to_csv(f'{PATH}/{DAY}_pressure.csv')\n",
    "    data_microwave_power_full.to_csv(f'{PATH}/{DAY}_microwave_power.csv')\n",
    "    data_microwave_frequency_full.to_csv(f'{PATH}/{DAY}_microwave_frequency.csv')\n",
    "    \n",
    "    \n",
    "    return data_dose, data_hv, data_pressure, data_microwave_power_full, data_microwave_frequency_full"
   ]
  },
  {
   "cell_type": "code",
   "execution_count": null,
   "metadata": {},
   "outputs": [],
   "source": [
    "def load_data_for_day_CSV(DAY, PATH):\n",
    "    data_dose = pd.read_csv(f'{PATH}/{DAY}_dose.csv', index_col=0)\n",
    "    data_hv = pd.read_csv(f'{PATH}/{DAY}_hv.csv', index_col=0)\n",
    "    data_pressure = pd.read_csv(f'{PATH}/{DAY}_pressure.csv', index_col=0)\n",
    "    data_microwave_power_full = pd.read_csv(f'{PATH}/{DAY}_microwave_power.csv', index_col=0)\n",
    "    data_microwave_frequency_full = pd.read_csv(f'{PATH}/{DAY}_microwave_frequency.csv', index_col=0)\n",
    "\n",
    "    for df in [data_dose, data_hv, data_pressure, data_microwave_power_full, data_microwave_frequency_full]:\n",
    "        df.index = pd.to_datetime(df.index)\n",
    "        \n",
    "        \n",
    "    return data_dose, data_hv, data_pressure, data_microwave_power_full, data_microwave_frequency_full"
   ]
  },
  {
   "cell_type": "code",
   "execution_count": null,
   "metadata": {},
   "outputs": [],
   "source": [
    "def resample_30_seconds(df, cols, range_start, range_end):\n",
    "    \"\"\"\n",
    "    Takes the a grouped df (grouped by day) and resamples the columns cols in 10s\n",
    "    OUTPUT:\n",
    "        - dataframe\n",
    "    \"\"\"\n",
    "\n",
    "    d = {}\n",
    "\n",
    "    s = pd.date_range(start=range_start, end=range_end, freq='10S')\n",
    "    df_out = pd.DataFrame(pd.Series(s, name='time')).set_index('time')\n",
    "    for col in cols:\n",
    "        d[col] = df[col].resample('10S').mean()\n",
    "\n",
    "    this_d = pd.DataFrame(d)\n",
    "\n",
    "    df_out = df_out.merge(this_d, left_on=df_out.index, right_on=this_d.index, how='outer')\n",
    "    df_out = df_out.set_index('key_0')\n",
    "    df_out.index.name ='time'    \n",
    "    \n",
    "    return df_out\n"
   ]
  },
  {
   "cell_type": "code",
   "execution_count": null,
   "metadata": {},
   "outputs": [],
   "source": [
    "dfs = {} # dictionary with the results from each day"
   ]
  },
  {
   "cell_type": "markdown",
   "metadata": {},
   "source": [
    "## 2020-01-24"
   ]
  },
  {
   "cell_type": "code",
   "execution_count": null,
   "metadata": {},
   "outputs": [],
   "source": [
    "DAY = \"2020-01-24\"\n",
    "PATH = '/Users/hkromer/02_PhD/02_Data/13.new_chamber/2020-01-24.Suppression_without_extraction/'"
   ]
  },
  {
   "cell_type": "code",
   "execution_count": null,
   "metadata": {},
   "outputs": [],
   "source": [
    "# data_dose, data_hv, data_pressure, data_microwave_power_full, data_microwave_frequency_full = load_data_for_day_DATABASE(DAY, PATH)"
   ]
  },
  {
   "cell_type": "code",
   "execution_count": null,
   "metadata": {},
   "outputs": [],
   "source": [
    "data_dose, data_hv, data_pressure, data_microwave_power_full, data_microwave_frequency_full = load_data_for_day_CSV(DAY, PATH)"
   ]
  },
  {
   "cell_type": "markdown",
   "metadata": {},
   "source": [
    "### Subset of the dataset"
   ]
  },
  {
   "cell_type": "code",
   "execution_count": null,
   "metadata": {},
   "outputs": [],
   "source": [
    "time_start = f\"{DAY} 13:00:00\"\n",
    "time_end = f\"{DAY} 17:30:00\"\n",
    "\n",
    "\n",
    "data_dose = data_dose.loc[time_start:time_end, :]\n",
    "data_hv = data_hv.loc[time_start:time_end, :]\n",
    "data_pressure = data_pressure.loc[time_start:time_end, :]\n",
    "data_microwave_power_full = data_microwave_power_full.loc[time_start:time_end, :]\n",
    "data_microwave_frequency_full = data_microwave_frequency_full.loc[time_start:time_end, :]\n"
   ]
  },
  {
   "cell_type": "code",
   "execution_count": null,
   "metadata": {},
   "outputs": [],
   "source": [
    "d_hv = resample_30_seconds(data_hv, ['HV_current', 'HV_voltage'], time_start, time_end) \n",
    "d_dose = resample_30_seconds(data_dose, ['dose_corrected'], time_start, time_end)\n",
    "d_mw_power = resample_30_seconds(data_microwave_power_full, ['FP', 'RP'], time_start, time_end)\n",
    "d_mw_freq = resample_30_seconds(data_microwave_frequency_full, ['frequency'], time_start, time_end)\n",
    "\n",
    "data = pd.merge(d_hv, d_dose, left_index=True, right_index=True, how='outer') # dose is actually not needed\n",
    "data = pd.merge(data, d_mw_power, left_index=True, right_index=True, how='outer') # dose is actually not needed\n",
    "data = pd.merge(data, d_mw_freq, left_index=True, right_index=True, how='outer') # dose is actually not needed\n",
    "\n",
    "dfs[DAY] = data\n",
    "\n",
    "data.head()\n"
   ]
  },
  {
   "cell_type": "code",
   "execution_count": null,
   "metadata": {},
   "outputs": [],
   "source": [
    "fig, ax = plt.subplots(figsize=(10,4))\n",
    "sns.set()\n",
    "sns.set_context(\"notebook\", font_scale=1.5, rc={\"lines.linewidth\": 2.5})\n",
    "sns.lineplot(x=data.index, y='dose_corrected', data=data, ax=ax,  label='dose')\n",
    "sns.lineplot(x=data.index, y='HV_voltage', data=data, ax=ax,  label='voltage')\n",
    "sns.lineplot(x=data.index, y='HV_current', data=data, ax=ax,  label='current')\n",
    "ax2 = ax.twinx()\n",
    "sns.lineplot(x=data.index, y='FP', data=data, ax=ax2, color='red', label='FP')\n",
    "sns.lineplot(x=data.index, y='RP', data=data, ax=ax2,  color='black', label='RP')\n",
    "# sns.lineplot(x=data.index, y='frequency', data=data, ax=ax,  label='frequency')\n",
    "\n",
    "ax.xaxis.set_major_formatter(md.DateFormatter('%H:%M'))\n",
    "\n",
    "ax.set_xlabel(f'Time, {DAY}')\n",
    "plt.show()"
   ]
  },
  {
   "cell_type": "markdown",
   "metadata": {},
   "source": [
    "## 2020-01-27"
   ]
  },
  {
   "cell_type": "code",
   "execution_count": null,
   "metadata": {},
   "outputs": [],
   "source": [
    "DAY = \"2020-01-27\"\n",
    "PATH = '/Users/hkromer/02_PhD/02_Data/13.new_chamber/2020-01-27.Suppression_without_extraction/'"
   ]
  },
  {
   "cell_type": "code",
   "execution_count": null,
   "metadata": {},
   "outputs": [],
   "source": [
    "# data_dose, data_hv, data_pressure, data_microwave_power_full, data_microwave_frequency_full = load_data_for_day_DATABASE(DAY, PATH)"
   ]
  },
  {
   "cell_type": "code",
   "execution_count": null,
   "metadata": {},
   "outputs": [],
   "source": [
    "data_dose, data_hv, data_pressure, data_microwave_power_full, data_microwave_frequency_full = load_data_for_day_CSV(DAY, PATH)"
   ]
  },
  {
   "cell_type": "markdown",
   "metadata": {},
   "source": [
    "### Subset of the dataset"
   ]
  },
  {
   "cell_type": "code",
   "execution_count": null,
   "metadata": {},
   "outputs": [],
   "source": [
    "time_start = f\"{DAY} 15:00:00\"\n",
    "time_end = f\"{DAY} 19:15:00\"\n",
    "\n",
    "\n",
    "data_dose = data_dose.loc[time_start:time_end, :]\n",
    "data_hv = data_hv.loc[time_start:time_end, :]\n",
    "data_pressure = data_pressure.loc[time_start:time_end, :]\n",
    "data_microwave_power_full = data_microwave_power_full.loc[time_start:time_end, :]\n",
    "data_microwave_frequency_full = data_microwave_frequency_full.loc[time_start:time_end, :]\n"
   ]
  },
  {
   "cell_type": "code",
   "execution_count": null,
   "metadata": {},
   "outputs": [],
   "source": [
    "# data_microwave_power.loc[\"2020-01-24 13:29:00\":\"2020-01-24 13:35:00\"]"
   ]
  },
  {
   "cell_type": "code",
   "execution_count": null,
   "metadata": {},
   "outputs": [],
   "source": [
    "d_hv = resample_30_seconds(data_hv, ['HV_current', 'HV_voltage'], time_start, time_end) \n",
    "d_dose = resample_30_seconds(data_dose, ['dose_corrected'], time_start, time_end)\n",
    "d_mw_power = resample_30_seconds(data_microwave_power_full, ['power_setpoint', 'FP', 'RP'], time_start, time_end)\n",
    "d_mw_freq = resample_30_seconds(data_microwave_frequency_full, ['frequency'], time_start, time_end)\n",
    "\n",
    "data = pd.merge(d_hv, d_dose, left_index=True, right_index=True, how='outer') # dose is actually not needed\n",
    "data = pd.merge(data, d_mw_power, left_index=True, right_index=True, how='outer') # dose is actually not needed\n",
    "data = pd.merge(data, d_mw_freq, left_index=True, right_index=True, how='outer') # dose is actually not needed\n",
    "\n",
    "dfs[DAY] = data\n",
    "\n",
    "data.head()\n"
   ]
  },
  {
   "cell_type": "code",
   "execution_count": null,
   "metadata": {},
   "outputs": [],
   "source": [
    "fig, ax = plt.subplots(figsize=(10,4))\n",
    "sns.set()\n",
    "sns.set_context(\"notebook\", font_scale=1.5, rc={\"lines.linewidth\": 2.5})\n",
    "sns.lineplot(x=data.index, y='dose_corrected', data=data, ax=ax,  label='dose')\n",
    "sns.lineplot(x=data.index, y='HV_voltage', data=data, ax=ax,  label='voltage')\n",
    "sns.lineplot(x=data.index, y='HV_current', data=data, ax=ax,  label='current')\n",
    "ax2 = ax.twinx()\n",
    "sns.lineplot(x=data.index, y='FP', data=data, ax=ax2, color='red', label='FP')\n",
    "sns.lineplot(x=data.index, y='RP', data=data, ax=ax2,  color='black', label='RP')\n",
    "# sns.lineplot(x=data.index, y='frequency', data=data, ax=ax,  label='frequency')\n",
    "\n",
    "ax.xaxis.set_major_formatter(md.DateFormatter('%H:%M'))\n",
    "\n",
    "ax.set_xlabel(f'Time, {DAY}')\n",
    "plt.show()"
   ]
  },
  {
   "cell_type": "markdown",
   "metadata": {},
   "source": [
    "## 2020-01-28"
   ]
  },
  {
   "cell_type": "code",
   "execution_count": null,
   "metadata": {},
   "outputs": [],
   "source": [
    "DAY = \"2020-01-28\"\n",
    "PATH = '/Users/hkromer/02_PhD/02_Data/13.new_chamber/2020-01-28.Suppression_without_extraction/'"
   ]
  },
  {
   "cell_type": "code",
   "execution_count": null,
   "metadata": {},
   "outputs": [],
   "source": [
    "# data_dose, data_hv, data_pressure, data_microwave_power_full, data_microwave_frequency_full = load_data_for_day_DATABASE(DAY, PATH)"
   ]
  },
  {
   "cell_type": "code",
   "execution_count": null,
   "metadata": {},
   "outputs": [],
   "source": [
    "data_dose, data_hv, data_pressure, data_microwave_power_full, data_microwave_frequency_full = load_data_for_day_CSV(DAY, PATH)"
   ]
  },
  {
   "cell_type": "markdown",
   "metadata": {},
   "source": [
    "### Subset of the dataset"
   ]
  },
  {
   "cell_type": "code",
   "execution_count": null,
   "metadata": {},
   "outputs": [],
   "source": [
    "time_start = f\"{DAY} 09:45:00\"\n",
    "time_end = f\"{DAY} 19:30:00\"\n",
    "\n",
    "\n",
    "data_dose = data_dose.loc[time_start:time_end, :]\n",
    "data_hv = data_hv.loc[time_start:time_end, :]\n",
    "data_pressure = data_pressure.loc[time_start:time_end, :]\n",
    "data_microwave_power_full = data_microwave_power_full.loc[time_start:time_end, :]\n",
    "data_microwave_frequency_full = data_microwave_frequency_full.loc[time_start:time_end, :]\n"
   ]
  },
  {
   "cell_type": "code",
   "execution_count": null,
   "metadata": {},
   "outputs": [],
   "source": [
    "# data_microwave_power.loc[\"2020-01-24 13:29:00\":\"2020-01-24 13:35:00\"]"
   ]
  },
  {
   "cell_type": "code",
   "execution_count": null,
   "metadata": {},
   "outputs": [],
   "source": [
    "d_hv = resample_30_seconds(data_hv, ['HV_current', 'HV_voltage'], time_start, time_end) \n",
    "d_dose = resample_30_seconds(data_dose, ['dose_corrected'], time_start, time_end)\n",
    "d_mw_power = resample_30_seconds(data_microwave_power_full, ['power_setpoint', 'FP', 'RP'], time_start, time_end)\n",
    "d_mw_freq = resample_30_seconds(data_microwave_frequency_full, ['frequency'], time_start, time_end)\n",
    "\n",
    "data = pd.merge(d_hv, d_dose, left_index=True, right_index=True, how='outer') # dose is actually not needed\n",
    "data = pd.merge(data, d_mw_power, left_index=True, right_index=True, how='outer') # dose is actually not needed\n",
    "data = pd.merge(data, d_mw_freq, left_index=True, right_index=True, how='outer') # dose is actually not needed\n",
    "\n",
    "dfs[DAY] = data\n",
    "data.head()\n"
   ]
  },
  {
   "cell_type": "code",
   "execution_count": null,
   "metadata": {},
   "outputs": [],
   "source": [
    "fig, ax = plt.subplots(figsize=(10,4))\n",
    "sns.set()\n",
    "sns.set_context(\"notebook\", font_scale=1.5, rc={\"lines.linewidth\": 2.5})\n",
    "sns.lineplot(x=data.index, y='dose_corrected', data=data, ax=ax,  label='dose')\n",
    "sns.lineplot(x=data.index, y='HV_voltage', data=data, ax=ax,  label='voltage')\n",
    "sns.lineplot(x=data.index, y='HV_current', data=data, ax=ax,  label='current')\n",
    "ax2 = ax.twinx()\n",
    "sns.lineplot(x=data.index, y='FP', data=data, ax=ax2, color='red', label='FP')\n",
    "sns.lineplot(x=data.index, y='RP', data=data, ax=ax2,  color='black', label='RP')\n",
    "# sns.lineplot(x=data.index, y='frequency', data=data, ax=ax,  label='frequency')\n",
    "\n",
    "ax.xaxis.set_major_formatter(md.DateFormatter('%H:%M'))\n",
    "\n",
    "ax.set_xlabel(f'Time, {DAY}')\n",
    "plt.show()"
   ]
  },
  {
   "cell_type": "markdown",
   "metadata": {},
   "source": []
  },
  {
   "cell_type": "markdown",
   "metadata": {},
   "source": [
    "### Collect all dataframes together"
   ]
  },
  {
   "cell_type": "code",
   "execution_count": null,
   "metadata": {},
   "outputs": [],
   "source": [
    "# Add some zeros before and after the operation, use middle one\n",
    "day = '2020-01-27'\n",
    "# how many periods to add\n",
    "periods = 200\n",
    "\n",
    "this_df = dfs[day]\n",
    "\n",
    "# add at the end\n",
    "range_start = this_df.index[-1]\n",
    "s = pd.date_range(start=range_start, periods=periods, freq='10S')\n",
    "df_out = pd.DataFrame(pd.Series(s[1:], name='time')).set_index('time')\n",
    "num_cols = this_df.shape[1]\n",
    "for ii in range(num_cols):\n",
    "    df_out[ii] = 0\n",
    "df_out.columns = this_df.columns\n",
    "dfs[day] = pd.concat([this_df, df_out])\n",
    "\n",
    "# add at the beginning\n",
    "this_df = dfs[day]\n",
    "\n",
    "range_start = this_df.index[0]\n",
    "s = pd.date_range(start=range_start, periods=periods, freq='-10S')\n",
    "df_out = pd.DataFrame(pd.Series(s[:-1], name='time')).set_index('time')\n",
    "df_out = df_out.iloc[::-1]\n",
    "num_cols = this_df.shape[1]\n",
    "for ii in range(num_cols):\n",
    "    df_out[ii] = -1\n",
    "df_out.columns = this_df.columns\n",
    "dfs[day] = pd.concat([df_out, this_df])\n",
    "\n",
    "dfs[day]"
   ]
  },
  {
   "cell_type": "code",
   "execution_count": null,
   "metadata": {},
   "outputs": [],
   "source": [
    "data = pd.concat(dfs)\n",
    "data.head()"
   ]
  },
  {
   "cell_type": "code",
   "execution_count": null,
   "metadata": {},
   "outputs": [],
   "source": [
    "# compute the measurement time in each dataframe\n",
    "def compute_measurement_time(data):\n",
    "    idx =  data.index.get_level_values(1)\n",
    "    data['time_delta_minutes'] = idx\n",
    "    data['time_delta_minutes'] = data['time_delta_minutes'].apply(lambda x: (x - idx[0]).seconds/60)\n",
    "    return data\n",
    "data_meas_time = data.groupby(data.index.get_level_values(0)).apply(lambda x: compute_measurement_time(x))\n",
    "data_meas_time = data_meas_time.reset_index(drop=True)\n",
    "data_meas_time.head()"
   ]
  },
  {
   "cell_type": "code",
   "execution_count": null,
   "metadata": {},
   "outputs": [],
   "source": [
    "# index where a new measurement started, ignore the first\n",
    "idx_0 = data_meas_time[data_meas_time['time_delta_minutes'] == 0].index[1:]\n",
    "# value before\n",
    "idx_before = idx_0 - 1 \n",
    "\n",
    "# for day 2, take the last value from day 1\n",
    "t_last = data_meas_time.loc[idx_before[0], 'time_delta_minutes']\n",
    "# for that index until the next, add the baseline\n",
    "s = data_meas_time.loc[(data_meas_time.index >= idx_0[0]) & (data_meas_time.index < idx_0[1]),'time_delta_minutes']\n",
    "s = s + t_last\n",
    "data_meas_time.loc[(data_meas_time.index >= idx_0[0]) & (data_meas_time.index < idx_0[1]),'time_delta_minutes'] = s\n",
    "\n",
    "# for day three, do the same\n",
    "t_last = data_meas_time.loc[idx_before[1], 'time_delta_minutes']\n",
    "# for that index until the next, add the baseline\n",
    "s = data_meas_time.loc[(data_meas_time.index >= idx_0[1]),'time_delta_minutes']\n",
    "s = s + t_last\n",
    "data_meas_time.loc[(data_meas_time.index >= idx_0[1]),'time_delta_minutes'] = s\n"
   ]
  },
  {
   "cell_type": "code",
   "execution_count": null,
   "metadata": {},
   "outputs": [],
   "source": [
    "sns.reset_orig()"
   ]
  },
  {
   "cell_type": "code",
   "execution_count": null,
   "metadata": {},
   "outputs": [],
   "source": [
    "\n",
    "import os, matplotlib\n",
    "os.environ[\"PATH\"] += os.pathsep + '/usr/local/texlive/2018/bin/x86_64-darwin'\n",
    "plt.rc('text', usetex=True)\n",
    "plt.rc('font', weight='bold')\n",
    "from matplotlib.ticker import AutoMinorLocator\n",
    "matplotlib.rcParams['mathtext.fontset'] = 'custom'\n",
    "matplotlib.rcParams['mathtext.rm'] = 'Arial'\n",
    "matplotlib.rcParams['mathtext.it'] = 'Arial:italic'\n",
    "matplotlib.rcParams['mathtext.bf'] = 'Arial:bold'\n",
    "matplotlib.rcParams['mathtext.tt'] = 'Arial'\n",
    "matplotlib.rcParams['mathtext.cal'] = 'Arial'\n",
    "matplotlib.rcParams['text.latex.preamble'] = [r'\\usepackage{sfmath} \\boldmath']"
   ]
  },
  {
   "cell_type": "code",
   "execution_count": null,
   "metadata": {},
   "outputs": [],
   "source": [
    "OUTPUT_FOLDER = '/Users/hkromer/polybox/Thesis/Chapters/FurtherNeutronGeneratorUpgrades/Figures/First_operation_WITH_suppression_without_extraction/'\n",
    "FIGNAME = 'First_operation_WITH_suppression_without_extraction'"
   ]
  },
  {
   "cell_type": "code",
   "execution_count": null,
   "metadata": {},
   "outputs": [],
   "source": [
    "data = data_meas_time\n",
    "data[data < 0] = np.nan\n"
   ]
  },
  {
   "cell_type": "code",
   "execution_count": null,
   "metadata": {},
   "outputs": [],
   "source": [
    "fig = plt.figure(figsize=(10,6))\n",
    "fs = 20\n",
    "\n",
    "plt.plot(data['time_delta_minutes'].values, data['HV_voltage'].values, label='Voltage [-kV]', color='darkred')\n",
    "plt.plot(data['time_delta_minutes'].values, data['HV_current'].values * 100, label='Current [0.01 mA]', color='darkorange')\n",
    "# first measurement change\n",
    "t0 = data_meas_time.loc[idx_0, 'time_delta_minutes'].values[0]\n",
    "offset = 16\n",
    "plt.plot([t0+offset, t0+offset], [0, 120], '--k', linewidth=3)\n",
    "\n",
    "# second measurement change\n",
    "t0 = data_meas_time.loc[idx_0, 'time_delta_minutes'].values[1]\n",
    "offset = -15\n",
    "plt.plot([t0+offset, t0+offset], [0, 120], '--k', linewidth=3)\n",
    "ax = plt.gca()\n",
    "\n",
    "_ = plt.xlabel(r'\\textbf{Cumulative measurement time [min]}',fontsize=fs)\n",
    "_ = ax.set_ylabel(r'\\textbf{High voltage power supply}', color='black',fontsize=fs)\n",
    "_ = plt.legend(loc=(0.01, 0.85), fontsize=fs-4, framealpha=1)\n",
    "# minor ticks x\n",
    "minor_locator = AutoMinorLocator(2)\n",
    "ax.xaxis.set_minor_locator(minor_locator)\n",
    "# minor ticks y\n",
    "minor_locator = AutoMinorLocator(2)\n",
    "ax.yaxis.set_minor_locator(minor_locator)\n",
    "# tick font size\n",
    "ax.tick_params('x', colors='black', labelsize=fs-2)\t\n",
    "ax.tick_params('y', colors='black', labelsize=fs-2)\t\n",
    "# grid\n",
    "ax.grid(b=True, which='major', linestyle='-')#, color='gray')\n",
    "ax.grid(b=True, which='minor', linestyle='--')#, color='gray')\n",
    "\n",
    "\n",
    "ax2 = ax.twinx()\n",
    "# Turns off grid on the secondary (right) Axis.\n",
    "ax2.grid(False)\n",
    "ax2.set_ylabel(r\"\\textbf{Ambient dose rate [muSv/hr]}\", color='darkblue',fontsize=fs)\n",
    "ax2.tick_params(axis='y', labelcolor='darkblue', labelsize=fs-2)\n",
    "plt.plot(data['time_delta_minutes'].values, data['dose_corrected'].values, label='Dose', color='darkblue')\n",
    "\n",
    "_ = ax2.legend(loc=\"lower right\", fontsize=fs-4, framealpha=1)\n",
    "ax.set_ylim(0, 120)\n",
    "ax.set_xlim(0, 1200)\n",
    "ax2.set_ylim(0, 720)\n",
    "ax2.set_yticks(np.arange(0, 720+120, 120))\n",
    "plt.tight_layout()\n",
    "plt.savefig(f'{OUTPUT_FOLDER}/{FIGNAME}.pdf')\n",
    "plt.show()"
   ]
  },
  {
   "cell_type": "code",
   "execution_count": null,
   "metadata": {},
   "outputs": [],
   "source": [
    "data = data_meas_time\n",
    "fig = plt.figure(figsize=(8,6))\n",
    "fs = 20\n",
    "\n",
    "\n",
    "plt.plot(data['time_delta_minutes'].values, data['FP'].values, label='FP', color='darkred')\n",
    "\n",
    "ax = plt.gca()\n",
    "\n",
    "_ = plt.xlabel(r'\\textbf{Measurement time [min]}',fontsize=fs)\n",
    "_ = ax.set_ylabel(r'\\textbf{Forward power [W]}', color='black',fontsize=fs)\n",
    "_ = plt.legend(loc=(0.01, 0.85), fontsize=fs-4)\n",
    "# minor ticks x\n",
    "minor_locator = AutoMinorLocator(2)\n",
    "ax.xaxis.set_minor_locator(minor_locator)\n",
    "# minor ticks y\n",
    "minor_locator = AutoMinorLocator(2)\n",
    "ax.yaxis.set_minor_locator(minor_locator)\n",
    "# tick font size\n",
    "ax.tick_params('x', colors='black', labelsize=fs-2)\t\n",
    "ax.tick_params('y', colors='black', labelsize=fs-2)\t\n",
    "# grid\n",
    "ax.grid(b=True, which='major', linestyle='-')#, color='gray')\n",
    "ax.grid(b=True, which='minor', linestyle='--')#, color='gray')\n",
    "\n",
    "\n",
    "ax2 = ax.twinx()\n",
    "# Turns off grid on the secondary (right) Axis.\n",
    "ax2.grid(False)\n",
    "ax2.set_ylabel(r\"\\textbf{Frequency}\", color='darkblue',fontsize=fs)\n",
    "ax2.tick_params(axis='y', labelcolor='darkblue', labelsize=fs-2)\n",
    "\n",
    "plt.plot(data['time_delta_minutes'].values, data['frequency'].values * 0.1, label='freq', color='darkblue')\n",
    "_ = ax2.legend(loc=\"lower right\", fontsize=fs-4, framealpha=1)\n",
    "ax.set_ylim(190, 210)\n",
    "ax.set_xlim(0, 1200)\n",
    "ax2.set_ylim(2446, 2450)\n",
    "# ax2.set_yticks(np.arange(0, 720+120, 120))\n",
    "plt.tight_layout()\n",
    "# plt.savefig(f'{OUTPUT_FOLDER}/{FIGNAME}.pdf')\n",
    "plt.show()"
   ]
  },
  {
   "cell_type": "code",
   "execution_count": null,
   "metadata": {},
   "outputs": [],
   "source": [
    "data['frequency'].describe()"
   ]
  },
  {
   "cell_type": "code",
   "execution_count": null,
   "metadata": {},
   "outputs": [],
   "source": []
  }
 ],
 "metadata": {
  "kernelspec": {
   "display_name": "Python 3",
   "language": "python",
   "name": "python3"
  },
  "language_info": {
   "codemirror_mode": {
    "name": "ipython",
    "version": 3
   },
   "file_extension": ".py",
   "mimetype": "text/x-python",
   "name": "python",
   "nbconvert_exporter": "python",
   "pygments_lexer": "ipython3",
   "version": "3.8.1"
  }
 },
 "nbformat": 4,
 "nbformat_minor": 4
}
