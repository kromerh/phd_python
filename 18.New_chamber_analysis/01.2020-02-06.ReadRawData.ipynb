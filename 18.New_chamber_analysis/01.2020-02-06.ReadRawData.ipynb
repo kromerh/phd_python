{
 "cells": [
  {
   "cell_type": "markdown",
   "metadata": {},
   "source": [
    "# Read the raw data from the DB\n",
    "\n",
    "There was some problem with the storage of data in the February data."
   ]
  },
  {
   "cell_type": "markdown",
   "metadata": {},
   "source": [
    "## Load the data and download it"
   ]
  },
  {
   "cell_type": "code",
   "execution_count": null,
   "metadata": {},
   "outputs": [],
   "source": [
    "import numpy as np\n",
    "import pandas as pd\n",
    "import pymysql\n",
    "import sqlalchemy as sql\n",
    "import matplotlib.pyplot as plt\n",
    "import matplotlib.dates as md\n",
    "import seaborn as sns\n",
    "sns.set()\n",
    "import getopt\n",
    "import sys\n",
    "import datetime\n",
    "from scipy.interpolate import interp1d\n",
    "from NGLiveDataObject import NGLiveDataObject\n",
    "\n",
    "#*******************************\n",
    "# CONSTANTS\n",
    "#*******************************\n",
    "# connection to database\n",
    "CREDENTIALS_FILE = '/Users/hkromer/02_PhD/01.github/dash_NG/credentials.pw'\n",
    "DB = \"NG_twofast_DB\" # name of the database\n",
    "HOST = \"twofast-RPi3-0\"  # database host\n",
    "\n",
    "# LOOKUP TABLES\n",
    "LUT_PRESSURE_ION_SOURCE = \"/Users/hkromer/02_PhD/01.github/phd/01_neutron_generator_contol/LUT_pressure_ion_source.txt\""
   ]
  },
  {
   "cell_type": "code",
   "execution_count": null,
   "metadata": {},
   "outputs": [],
   "source": [
    "# read password and user to connect to database\n",
    "credentials = pd.read_csv(CREDENTIALS_FILE, header=0)\n",
    "user = credentials['username'].values[0]\n",
    "pw = credentials['password'].values[0]\n",
    "\n",
    "\n",
    "#*******************************\n",
    "# GET DATA\n",
    "#*******************************\n",
    "# connect to DB\n",
    "con = NGLiveDataObject(host=HOST, database=DB, user=user, password=pw)\n",
    "\n",
    "# get HV and dose\n",
    "query = \"SELECT * FROM HBox_Uno\"\n",
    "data_HV_full = con.get_from_database(query=query)\n",
    "# for plotting, scale the current\n",
    "data_HV_full['HV_current_x100'] = data_HV_full['HV_current'] * 100.0\n",
    "# convert dose voltage to dose\n",
    "data_HV_full['dose'] = data_HV_full['dose_voltage'] * 3000 / 5.5\n",
    "\n",
    "# get pressure\n",
    "query = \"SELECT * FROM BBox\"\n",
    "data_pressure_full = con.get_from_database(query=query)\n",
    "# correct pressure\n",
    "data_pressure_full = con.correct_pressure(LUT_PRESSURE_ION_SOURCE, data_pressure_full)\n",
    "\n",
    "# get reference detectors\n",
    "query = \"SELECT * FROM referenceDetectors\"\n",
    "data_reference_full = con.get_from_database(query=query)\n",
    "\n",
    "# get microwave power\n",
    "query = \"SELECT * FROM microwave_generator_power\"\n",
    "data_microwave_power_full = con.get_from_database(query=query)\n",
    "\n",
    "# get microwave frequency\n",
    "query = \"SELECT * FROM microwave_generator_frequency\"\n",
    "data_microwave_frequency_full = con.get_from_database(query=query)\n",
    "\n",
    "# save to file\n",
    "path = '/Users/hkromer/02_PhD/02_Data/13.new_chamber/DATA/February_database_live_tables/'\n",
    "data_HV_full.to_csv(f'{path}/2020-02-06_hv.csv')\n",
    "data_pressure_full.to_csv(f'{path}/2020-02-06_pressure.csv')\n",
    "data_reference_full.to_csv(f'{path}/2020-02-06_reference_detectors.csv')\n",
    "data_microwave_power_full.to_csv(f'{path}/2020-02-06_microwave_power.csv')\n",
    "data_microwave_frequency_full.to_csv(f'{path}/2020-02-06_microwave_frequency.csv')"
   ]
  },
  {
   "cell_type": "code",
   "execution_count": null,
   "metadata": {},
   "outputs": [],
   "source": [
    "data_microwave_frequency_full.shape"
   ]
  },
  {
   "cell_type": "code",
   "execution_count": null,
   "metadata": {},
   "outputs": [],
   "source": []
  }
 ],
 "metadata": {
  "kernelspec": {
   "display_name": "Python 3",
   "language": "python",
   "name": "python3"
  },
  "language_info": {
   "codemirror_mode": {
    "name": "ipython",
    "version": 3
   },
   "file_extension": ".py",
   "mimetype": "text/x-python",
   "name": "python",
   "nbconvert_exporter": "python",
   "pygments_lexer": "ipython3",
   "version": "3.8.1"
  }
 },
 "nbformat": 4,
 "nbformat_minor": 4
}
