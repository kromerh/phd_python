{
 "cells": [
  {
   "cell_type": "markdown",
   "metadata": {},
   "source": [
    "# Check for suppression of X-rays\n",
    "\n",
    "For this, the reference detectors were removed from the lead container and afterwards placed inside the lead container.\n",
    "\n",
    "Measurement took place on 2020-01-30:\n",
    "\n",
    "- /Users/hkromer/02_PhD/02_Data/13.new_chamber/2020-01-30.EmittingSpotSize_test.xlsx\n",
    "- /Users/hkromer/02_PhD/02_Data/13.new_chamber/2020-01-30.EmittingSpotSize_test_lead_around_detectors.xlsx"
   ]
  },
  {
   "cell_type": "markdown",
   "metadata": {},
   "source": [
    "# Load data from Database"
   ]
  },
  {
   "cell_type": "code",
   "execution_count": null,
   "metadata": {},
   "outputs": [],
   "source": [
    "import numpy as np\n",
    "import pandas as pd\n",
    "import pymysql\n",
    "import sqlalchemy as sql\n",
    "import matplotlib.pyplot as plt\n",
    "import matplotlib.dates as md\n",
    "import seaborn as sns\n",
    "sns.set()\n",
    "import getopt\n",
    "import sys\n",
    "import datetime\n",
    "from scipy.interpolate import interp1d\n",
    "from NGDataObject import NGDataObject\n",
    "\n",
    "#*******************************\n",
    "# CONSTANTS\n",
    "#*******************************\n",
    "# connection to database\n",
    "CREDENTIALS_FILE = '/Users/hkromer/02_PhD/01.github/dash_NG/credentials.pw'\n",
    "DB = \"NG_twofast_DB\" # name of the database\n",
    "HOST = \"twofast-RPi3-0\"  # database host\n",
    "\n",
    "# LOOKUP TABLES\n",
    "LUT_PRESSURE_ION_SOURCE = \"/Users/hkromer/02_PhD/01.github/phd/01_neutron_generator_contol/LUT_pressure_ion_source.txt\""
   ]
  },
  {
   "cell_type": "code",
   "execution_count": null,
   "metadata": {},
   "outputs": [],
   "source": [
    "DAY = \"2020-01-30\" # day to extract from the db"
   ]
  },
  {
   "cell_type": "code",
   "execution_count": null,
   "metadata": {},
   "outputs": [],
   "source": [
    "# read password and user to connect to database\n",
    "credentials = pd.read_csv(CREDENTIALS_FILE, header=0)\n",
    "user = credentials['username'].values[0]\n",
    "pw = credentials['password'].values[0]\n",
    "\n",
    "\n",
    "#*******************************\n",
    "# GET DATA\n",
    "#*******************************\n",
    "\n",
    "# connect to DB\n",
    "con = NGDataObject(host = HOST, database=DB, user=user, password=pw)\n",
    "\n",
    "# get dose\n",
    "query = \"SELECT * FROM data_dose WHERE DATE(time) = '%(t)s'\" % {\"t\": DAY}\n",
    "data_dose = con.get_from_database(query=query)\n",
    "\n",
    "# get HV\n",
    "query = \"SELECT * FROM data_HV WHERE DATE(time) = '%(t)s'\" % {\"t\": DAY}\n",
    "data_hv = con.get_from_database(query=query)\n",
    "data_hv['HV_current_x100'] = data_hv['HV_current']*100.0\n",
    "\n",
    "# get pressure\n",
    "query = \"SELECT * FROM data_pressure WHERE DATE(time) = '%(t)s'\" % {\"t\": DAY}\n",
    "data_pressure = con.get_from_database(query=query)\n",
    "\n",
    "# get reference detectors\n",
    "query = \"SELECT * FROM data_referenceDetectors WHERE DATE(time) = '%(t)s'\" % {\"t\": DAY}\n",
    "data_reference_full = con.get_from_database(query=query)\n",
    "\n",
    "# get microwave power\n",
    "query = \"SELECT * FROM microwave_generator_power WHERE DATE(time) = '%(t)s'\" % {\"t\": DAY}\n",
    "data_microwave_power_full = con.get_from_database(query=query)\n",
    "\n",
    "# get microwave frequency\n",
    "query = \"SELECT * FROM microwave_generator_frequency WHERE DATE(time) = '%(t)s'\" % {\"t\": DAY}\n",
    "data_microwave_frequency_full = con.get_from_database(query=query)"
   ]
  },
  {
   "cell_type": "code",
   "execution_count": null,
   "metadata": {},
   "outputs": [],
   "source": [
    "# save to file\n",
    "data_reference_full['sum_counts'] = data_reference_full['counts_D1'] + data_reference_full['counts_D2'] + data_reference_full['counts_D3'] + data_reference_full['counts_D4'] \n",
    "\n",
    "path = '/Users/hkromer/02_PhD/02_Data/13.new_chamber/DATA/x_ray_suppression/'\n",
    "data_dose.to_csv(f'{path}/2020-02-06_dose.csv')\n",
    "data_hv.to_csv(f'{path}/2020-02-06_hv.csv')\n",
    "data_pressure.to_csv(f'{path}/2020-02-06_pressure.csv')\n",
    "data_reference_full.to_csv(f'{path}/2020-02-06_reference_detectors.csv')\n",
    "data_microwave_power_full.to_csv(f'{path}/2020-02-06_microwave_power.csv')\n",
    "data_microwave_frequency_full.to_csv(f'{path}/2020-02-06_microwave_frequency.csv')"
   ]
  },
  {
   "cell_type": "markdown",
   "metadata": {},
   "source": [
    "# Influence on the microwave on the count rate in the detector\n",
    "\n",
    "## Microwave on: 13:32 until 14:30\n",
    "## Microwave off: 16:30 until 17:20"
   ]
  },
  {
   "cell_type": "code",
   "execution_count": null,
   "metadata": {},
   "outputs": [],
   "source": [
    "fig, ax = plt.subplots(figsize=(10,4))\n",
    "sns.set()\n",
    "sns.set_context(\"notebook\", font_scale=1.5, rc={\"lines.linewidth\": 2.5})\n",
    "sns.lineplot(x=data_reference_full.index, y='sum_counts', data=data_reference_full, ax=ax)\n",
    "ax.xaxis.set_major_formatter(md.DateFormatter('%H:%M:%S'))\n",
    "# ax.set(yscale=\"log\")\n",
    "ax.set_ylabel('counts reference detector [-]')\n",
    "ax.set_xlabel(f'Time, {DAY}')"
   ]
  },
  {
   "cell_type": "code",
   "execution_count": null,
   "metadata": {},
   "outputs": [],
   "source": [
    "data_microwave_power_full.head()"
   ]
  },
  {
   "cell_type": "code",
   "execution_count": null,
   "metadata": {},
   "outputs": [],
   "source": [
    "fig, ax = plt.subplots(figsize=(10,4))\n",
    "sns.set()\n",
    "sns.set_context(\"notebook\", font_scale=1.5, rc={\"lines.linewidth\": 2.5})\n",
    "sns.lineplot(x=data_microwave_power_full.index, y='FP', data=data_microwave_power_full, ax=ax)\n",
    "ax.xaxis.set_major_formatter(md.DateFormatter('%H:%M:%S'))\n",
    "# ax.set(yscale=\"log\")\n",
    "ax.set_ylabel('Forward power [W]')\n",
    "ax.set_xlabel(f'Time, {DAY}')"
   ]
  },
  {
   "cell_type": "code",
   "execution_count": null,
   "metadata": {},
   "outputs": [],
   "source": [
    "start_mw = '2020-01-30 13:30:00'\n",
    "end_mw = '2020-01-30 14:30:00'\n",
    "data_reference_s = data_reference_full.loc[start_mw:end_mw, :]\n",
    "\n",
    "fig, ax = plt.subplots(figsize=(10,4))\n",
    "sns.set()\n",
    "sns.set_context(\"notebook\", font_scale=1.5, rc={\"lines.linewidth\": 2.5})\n",
    "sns.lineplot(x=data_reference_s.index, y='sum_counts', data=data_reference_s, ax=ax)\n",
    "ax.xaxis.set_major_formatter(md.DateFormatter('%H:%M:%S'))\n",
    "# ax.set(yscale=\"log\")\n",
    "ax.set_ylabel('counts reference detector [-]')\n",
    "ax.set_xlabel(f'Time, {DAY}')"
   ]
  },
  {
   "cell_type": "code",
   "execution_count": null,
   "metadata": {},
   "outputs": [],
   "source": [
    "data_microwave_power_s = data_microwave_power_full.loc[start_mw:end_mw, :]\n",
    "fig, ax = plt.subplots(figsize=(10,4))\n",
    "sns.set()\n",
    "sns.set_context(\"notebook\", font_scale=1.5, rc={\"lines.linewidth\": 2.5})\n",
    "sns.lineplot(x=data_microwave_power_s.index, y='FP', data=data_microwave_power_s, ax=ax)\n",
    "ax.xaxis.set_major_formatter(md.DateFormatter('%H:%M:%S'))\n",
    "# ax.set(yscale=\"log\")\n",
    "ax.set_ylabel('Forward power [W]')\n",
    "ax.set_xlabel(f'Time, {DAY}')"
   ]
  },
  {
   "cell_type": "code",
   "execution_count": null,
   "metadata": {},
   "outputs": [],
   "source": [
    "start_no_mw = '2020-01-30 16:33:00'\n",
    "end_no_mw = '2020-01-30 17:20:00'\n",
    "data_reference_s = data_reference_full.loc[start_no_mw:end_no_mw, :]\n",
    "\n",
    "fig, ax = plt.subplots(figsize=(10,4))\n",
    "sns.set()\n",
    "sns.set_context(\"notebook\", font_scale=1.5, rc={\"lines.linewidth\": 2.5})\n",
    "sns.lineplot(x=data_reference_s.index, y='sum_counts', data=data_reference_s, ax=ax)\n",
    "ax.xaxis.set_major_formatter(md.DateFormatter('%H:%M:%S'))\n",
    "# ax.set(yscale=\"log\")\n",
    "ax.set_ylabel('counts reference detector [-]')\n",
    "ax.set_xlabel(f'Time, {DAY}')"
   ]
  },
  {
   "cell_type": "code",
   "execution_count": null,
   "metadata": {},
   "outputs": [],
   "source": [
    "data_microwave_power_full.loc[start_no_mw:end_no_mw, :]\n"
   ]
  },
  {
   "cell_type": "code",
   "execution_count": null,
   "metadata": {},
   "outputs": [],
   "source": [
    "start_mw = '2020-01-30 13:30:00'\n",
    "end_mw = '2020-01-30 14:30:00'\n",
    "\n",
    "start_no_mw = '2020-01-30 16:33:00'\n",
    "end_no_mw = '2020-01-30 17:20:00'\n",
    "\n",
    "# counts when on and off\n",
    "ref_counts_on = data_reference_full.loc[start_mw:end_mw, :]\n",
    "ref_counts_off = data_reference_full.loc[start_no_mw:end_no_mw, :]\n",
    "\n",
    "ref_counts_on = ref_counts_on.reset_index()\n",
    "ref_counts_off = ref_counts_off.reset_index()\n",
    "\n",
    "fig, ax = plt.subplots(figsize=(10,4))\n",
    "sns.set()\n",
    "sns.set_context(\"notebook\", font_scale=1.5, rc={\"lines.linewidth\": 2.5})\n",
    "sns.lineplot(x=ref_counts_on.index, y='sum_counts', data=ref_counts_on, ax=ax, color='darkred')\n",
    "sns.lineplot(x=ref_counts_off.index, y='sum_counts', data=ref_counts_off, ax=ax, color='darkblue')\n",
    "\n",
    "# ax.set(yscale=\"log\")\n",
    "ax.set_ylabel('counts reference detector [-]')\n",
    "ax.set_xlabel(f'30 seconds readout interval')"
   ]
  },
  {
   "cell_type": "code",
   "execution_count": null,
   "metadata": {},
   "outputs": [],
   "source": [
    "# Combine reference detector counts into one dataframe\n",
    "ref_counts_on['label'] = 'On'\n",
    "ref_counts_off['label'] = 'Off'\n",
    "\n",
    "ref_counts_combined = ref_counts_on.append(ref_counts_off).reset_index()\n",
    "ref_counts_combined"
   ]
  },
  {
   "cell_type": "code",
   "execution_count": null,
   "metadata": {},
   "outputs": [],
   "source": [
    "\n",
    "fig, ax = plt.subplots(figsize=(12,4))\n",
    "sns.set()\n",
    "sns.set_context(\"notebook\", font_scale=1.5, rc={\"lines.linewidth\": 2.5})\n",
    "sns.boxplot(x='label', y='sum_counts', data=ref_counts_combined, ax=ax, width=0.25)\n",
    "\n",
    "\n",
    "# plt.title('Reference detectors')\n",
    "# ax.set(yscale=\"log\")\n",
    "ax.set_ylabel('Counts in reference \\n detectors [1/(30s)]')\n",
    "ax.set_xlabel(f'Microwave')"
   ]
  },
  {
   "cell_type": "code",
   "execution_count": null,
   "metadata": {},
   "outputs": [],
   "source": [
    "print(f'Data points (30 sec intervals) when MW on: {ref_counts_on.shape[0]}, when MW off: {ref_counts_off.shape[0]}')\n",
    "print(f'Mean ON, OFF: {ref_counts_on.sum_counts.mean()}, {ref_counts_off.sum_counts.mean()}')\n",
    "print(f'Std ON, OFF: {ref_counts_on.sum_counts.std()}, {ref_counts_off.sum_counts.std()}')"
   ]
  },
  {
   "cell_type": "code",
   "execution_count": null,
   "metadata": {},
   "outputs": [],
   "source": [
    "def ecdf(data):\n",
    "    \"\"\"Compute ECDF for a one-dimensional array of measurements.\"\"\"\n",
    "    # Number of data points: n\n",
    "    n = len(data)\n",
    "\n",
    "    # x-data for the ECDF: x\n",
    "    x = np.sort(data)\n",
    "\n",
    "    # y-data for the ECDF: y\n",
    "    y = np.arange(1, n+1) / n\n",
    "\n",
    "    return x, y\n",
    "\n",
    "x_ecdf_mw_on, y_ecdf_mw_on = ecdf(ref_counts_on['sum_counts'])\n",
    "x_ecdf_mw_off, y_ecdf_mw_off = ecdf(ref_counts_off['sum_counts'])\n",
    "\n",
    "fig, ax = plt.subplots(figsize=(10,4))\n",
    "sns.set()\n",
    "sns.set_context(\"notebook\", font_scale=1.5, rc={\"lines.linewidth\": 2.5})\n",
    "sns.lineplot(x=x_ecdf_mw_on, y=y_ecdf_mw_on, ax=ax, color='darkred', label='On')\n",
    "sns.lineplot(x=x_ecdf_mw_off, y=y_ecdf_mw_off, ax=ax, color='darkblue', label='Off')\n",
    "\n",
    "# ax.set(yscale=\"log\")\n",
    "ax.set_ylabel('ECDF [-]')\n",
    "ax.set_xlabel(f'Counts')"
   ]
  },
  {
   "cell_type": "markdown",
   "metadata": {},
   "source": [
    "# No lead around the detectors\n",
    "\n",
    "# From 13:30 until 16:35\n"
   ]
  },
  {
   "cell_type": "code",
   "execution_count": null,
   "metadata": {},
   "outputs": [],
   "source": [
    "def resample_30_seconds(df, cols, range_start, range_end):\n",
    "    \"\"\"\n",
    "    Takes the a grouped df (grouped by day) and resamples the columns cols in 10s\n",
    "    OUTPUT:\n",
    "        - dataframe\n",
    "    \"\"\"\n",
    "\n",
    "    d = {}\n",
    "\n",
    "    s = pd.date_range(start=range_start, end=range_end, freq='30S')\n",
    "    df_out = pd.DataFrame(pd.Series(s, name='time')).set_index('time')\n",
    "    for col in cols:\n",
    "        d[col] = df[col].resample('30S').mean()\n",
    "\n",
    "    this_d = pd.DataFrame(d)\n",
    "\n",
    "    df_out = df_out.merge(this_d, left_on=df_out.index, right_on=this_d.index, how='outer')\n",
    "    df_out = df_out.set_index('key_0')\n",
    "    \n",
    "    return df_out"
   ]
  },
  {
   "cell_type": "code",
   "execution_count": null,
   "metadata": {},
   "outputs": [],
   "source": [
    "start = '2020-01-30 14:35:00'\n",
    "end = '2020-01-30 15:59:00'"
   ]
  },
  {
   "cell_type": "markdown",
   "metadata": {},
   "source": [
    "### Plot HV, dose, microwave power, pressure, reference counts"
   ]
  },
  {
   "cell_type": "code",
   "execution_count": null,
   "metadata": {},
   "outputs": [],
   "source": [
    "data_hv_s = data_hv.loc[start:end, :]\n",
    "data_dose_s = data_dose.loc[start:end, :]\n",
    "data_pressure_s = data_pressure.loc[start:end, :]\n",
    "data_reference_s = data_reference_full.loc[start:end, :]\n",
    "data_microwave_frequency_s = data_microwave_frequency_full.loc[start:end, :]\n",
    "data_microwave_power_s = data_microwave_power_full.loc[start:end, :]"
   ]
  },
  {
   "cell_type": "code",
   "execution_count": null,
   "metadata": {},
   "outputs": [],
   "source": [
    "data_dose_s.head()"
   ]
  },
  {
   "cell_type": "code",
   "execution_count": null,
   "metadata": {},
   "outputs": [],
   "source": [
    "fig, ax = plt.subplots(figsize=(10,4))\n",
    "sns.set()\n",
    "sns.set_context(\"notebook\", font_scale=1.5, rc={\"lines.linewidth\": 2.5})\n",
    "sns.lineplot(x=data_hv_s.index, y='HV_voltage', data=data_hv_s, ax=ax)\n",
    "# sns.lineplot(x=data_hv_s_rs.index, y='HV_voltage', data=data_hv_s_rs, ax=ax, color='darkred')\n",
    "ax.xaxis.set_major_formatter(md.DateFormatter('%H:%M'))\n",
    "# ax.set(yscale=\"log\")\n",
    "ax.set_ylabel('HV [kV]')\n",
    "ax.set_xlabel(f'Time, {DAY}')\n"
   ]
  },
  {
   "cell_type": "code",
   "execution_count": null,
   "metadata": {},
   "outputs": [],
   "source": [
    "# remove outliers\n",
    "data_dose_s = data_dose_s[data_dose_s['dose_corrected'] > 580]\n",
    "data_reference_s = data_reference_s[data_reference_s['sum_counts'] > 3600]\n",
    "data_hv_s = data_hv_s[data_hv_s['HV_voltage'] > 99.5]\n",
    "\n",
    "\n",
    "# resample the 30 s\n",
    "data_dose_s_rs = resample_30_seconds(data_dose_s, ['dose_corrected'], start, end)\n",
    "data_dose_s_rs.index = data_dose_s_rs.index.rename('time')\n",
    "\n",
    "data_reference_s_rs = resample_30_seconds(data_reference_s, ['sum_counts'], start, end)\n",
    "data_reference_s_rs.index = data_reference_s_rs.index.rename('time')\n",
    "\n",
    "data_hv_s_rs = resample_30_seconds(data_hv_s, ['HV_voltage', 'HV_current',], start, end)\n",
    "data_hv_s_rs.index = data_hv_s_rs.index.rename('time')"
   ]
  },
  {
   "cell_type": "code",
   "execution_count": null,
   "metadata": {},
   "outputs": [],
   "source": [
    "data_hv_s_rs"
   ]
  },
  {
   "cell_type": "code",
   "execution_count": null,
   "metadata": {},
   "outputs": [],
   "source": [
    "fig, ax = plt.subplots(figsize=(10,4))\n",
    "sns.set()\n",
    "sns.set_context(\"notebook\", font_scale=1.5, rc={\"lines.linewidth\": 2.5})\n",
    "sns.lineplot(x=data_hv_s.index, y='HV_voltage', data=data_hv_s, ax=ax)\n",
    "sns.lineplot(x=data_hv_s_rs.index, y='HV_voltage', data=data_hv_s_rs, ax=ax, color='darkred')\n",
    "ax.xaxis.set_major_formatter(md.DateFormatter('%H:%M'))\n",
    "# ax.set(yscale=\"log\")\n",
    "ax.set_ylabel('HV [kV]')\n",
    "ax.set_xlabel(f'Time, {DAY}')"
   ]
  },
  {
   "cell_type": "code",
   "execution_count": null,
   "metadata": {},
   "outputs": [],
   "source": [
    "fig, ax = plt.subplots(figsize=(10,4))\n",
    "sns.set()\n",
    "sns.set_context(\"notebook\", font_scale=1.5, rc={\"lines.linewidth\": 2.5})\n",
    "sns.lineplot(x=data_hv_s.index, y='HV_current', data=data_hv_s, ax=ax)\n",
    "sns.lineplot(x=data_hv_s_rs.index, y='HV_current', data=data_hv_s_rs, ax=ax, color='darkred')\n",
    "ax.xaxis.set_major_formatter(md.DateFormatter('%H:%M'))\n",
    "# ax.set(yscale=\"log\")\n",
    "ax.set_ylabel('HV [mA]')\n",
    "ax.set_xlabel(f'Time, {DAY}')"
   ]
  },
  {
   "cell_type": "code",
   "execution_count": null,
   "metadata": {},
   "outputs": [],
   "source": [
    "fig, ax = plt.subplots(figsize=(10,4))\n",
    "sns.set()\n",
    "sns.set_context(\"notebook\", font_scale=1.5, rc={\"lines.linewidth\": 2.5})\n",
    "sns.lineplot(x=data_dose_s.index, y='dose_corrected', data=data_dose_s, ax=ax)\n",
    "sns.lineplot(x=data_dose_s_rs.index, y='dose_corrected', data=data_dose_s_rs, ax=ax, color='darkred')\n",
    "ax.xaxis.set_major_formatter(md.DateFormatter('%H:%M'))\n",
    "# ax.set(yscale=\"log\")\n",
    "ax.set_ylabel('dose [muSv/h]')\n",
    "ax.set_xlabel(f'Time, {DAY}')\n",
    "plt.ylim(0,650)"
   ]
  },
  {
   "cell_type": "code",
   "execution_count": null,
   "metadata": {},
   "outputs": [],
   "source": [
    "data_reference_s.head()"
   ]
  },
  {
   "cell_type": "code",
   "execution_count": null,
   "metadata": {},
   "outputs": [],
   "source": [
    "fig, ax = plt.subplots(figsize=(10,4))\n",
    "sns.set()\n",
    "sns.set_context(\"notebook\", font_scale=1.5, rc={\"lines.linewidth\": 2.5})\n",
    "sns.lineplot(x=data_reference_s.index, y='sum_counts', data=data_reference_s, ax=ax)\n",
    "sns.lineplot(x=data_reference_s_rs.index, y='sum_counts', data=data_reference_s_rs, ax=ax, color='darkred')\n",
    "\n",
    "ax.xaxis.set_major_formatter(md.DateFormatter('%H:%M'))\n",
    "# ax.set(yscale=\"log\")\n",
    "ax.set_ylabel('Counts reference detector [1/(30s)]')\n",
    "ax.set_xlabel(f'Time, {DAY}')\n",
    "plt.ylim(0,4500)"
   ]
  },
  {
   "cell_type": "code",
   "execution_count": null,
   "metadata": {},
   "outputs": [],
   "source": [
    "data_reference_s_rs_no_lead = data_reference_s_rs"
   ]
  },
  {
   "cell_type": "markdown",
   "metadata": {},
   "source": [
    "## Normalize the reference counts by the dose"
   ]
  },
  {
   "cell_type": "code",
   "execution_count": null,
   "metadata": {},
   "outputs": [],
   "source": [
    "ref_counts_norm_no_lead = data_reference_s_rs['sum_counts']/data_dose_s_rs['dose_corrected']\n",
    "fig, ax = plt.subplots(figsize=(10,4))\n",
    "sns.set()\n",
    "sns.set_context(\"notebook\", font_scale=1.5, rc={\"lines.linewidth\": 2.5})\n",
    "sns.lineplot(x=ref_counts_norm_no_lead.index, y=ref_counts_norm_no_lead, ax=ax)\n",
    "\n",
    "ax.xaxis.set_major_formatter(md.DateFormatter('%H:%M'))\n",
    "# ax.set(yscale=\"log\")\n",
    "ax.set_ylabel('Counts normalized by dose \\n [1/(30s) * 1/(muSv/h)]')\n",
    "ax.set_xlabel(f'Time, {DAY}')\n",
    "plt.ylim(0,8)"
   ]
  },
  {
   "cell_type": "markdown",
   "metadata": {},
   "source": [
    "## Normalize also by beam power"
   ]
  },
  {
   "cell_type": "code",
   "execution_count": null,
   "metadata": {},
   "outputs": [],
   "source": [
    "data_hv_s_rs['beam_power'] = data_hv_s_rs['HV_voltage'] * data_hv_s_rs['HV_current']\n",
    "ref_counts_norm_beam_no_lead = ref_counts_norm_no_lead/data_hv_s_rs['beam_power']"
   ]
  },
  {
   "cell_type": "code",
   "execution_count": null,
   "metadata": {},
   "outputs": [],
   "source": [
    "fig, ax = plt.subplots(figsize=(10,4))\n",
    "sns.set()\n",
    "sns.set_context(\"notebook\", font_scale=1.5, rc={\"lines.linewidth\": 2.5})\n",
    "sns.lineplot(x=ref_counts_norm_beam_no_lead.index, y=ref_counts_norm_beam_no_lead, ax=ax)\n",
    "\n",
    "ax.xaxis.set_major_formatter(md.DateFormatter('%H:%M'))\n",
    "# ax.set(yscale=\"log\")\n",
    "ax.set_ylabel('Counts normalized by \\n dose and beam power \\n [1/(30s) * 1/(muSv/h) * 1/(W)]')\n",
    "ax.set_xlabel(f'Time, {DAY}')\n",
    "plt.ylim(0,0.125)"
   ]
  },
  {
   "cell_type": "markdown",
   "metadata": {},
   "source": [
    "## Normalize by high voltage"
   ]
  },
  {
   "cell_type": "code",
   "execution_count": null,
   "metadata": {},
   "outputs": [],
   "source": [
    "ref_counts_norm_HV_no_lead = ref_counts_norm_no_lead/data_hv_s_rs['HV_voltage']\n",
    "fig, ax = plt.subplots(figsize=(10,4))\n",
    "sns.set()\n",
    "sns.set_context(\"notebook\", font_scale=1.5, rc={\"lines.linewidth\": 2.5})\n",
    "sns.lineplot(x=ref_counts_norm_HV_no_lead.index, y=ref_counts_norm_HV_no_lead, ax=ax)\n",
    "\n",
    "ax.xaxis.set_major_formatter(md.DateFormatter('%H:%M'))\n",
    "# ax.set(yscale=\"log\")\n",
    "ax.set_ylabel('Counts normalized by \\n dose and HV \\n [1/(30s) * 1/(muSv/h) * 1/(Kv)]')\n",
    "ax.set_xlabel(f'Time, {DAY}')\n",
    "plt.ylim(0,0.1)"
   ]
  },
  {
   "cell_type": "markdown",
   "metadata": {},
   "source": [
    "# Lead around the detectors\n",
    "\n",
    "# From 17:54 until 19:30\n"
   ]
  },
  {
   "cell_type": "code",
   "execution_count": null,
   "metadata": {},
   "outputs": [],
   "source": [
    "start = '2020-01-30 18:01:30'\n",
    "end = '2020-01-30 19:29:00'\n",
    "\n",
    "data_hv_s = data_hv.loc[start:end, :]\n",
    "data_dose_s = data_dose.loc[start:end, :]\n",
    "data_pressure_s = data_pressure.loc[start:end, :]\n",
    "data_reference_s = data_reference_full.loc[start:end, :]\n",
    "data_microwave_frequency_s = data_microwave_frequency_full.loc[start:end, :]\n",
    "data_microwave_power_s = data_microwave_power_full.loc[start:end, :]\n",
    "\n",
    "# remove outliers\n",
    "data_dose_s = data_dose_s[data_dose_s['dose_corrected'] > 540]\n",
    "data_reference_s = data_reference_s[data_reference_s['sum_counts'] > 3000]\n",
    "data_hv_s = data_hv_s[data_hv_s['HV_current'] > 0.5]\n",
    "\n",
    "# resample the 30 s\n",
    "data_dose_s_rs = resample_30_seconds(data_dose_s, ['dose_corrected'], start, end)\n",
    "data_dose_s_rs.index = data_dose_s_rs.index.rename('time')\n",
    "\n",
    "data_reference_s_rs = resample_30_seconds(data_reference_s, ['sum_counts'], start, end)\n",
    "data_reference_s_rs.index = data_reference_s_rs.index.rename('time')\n",
    "\n",
    "data_hv_s_rs = resample_30_seconds(data_hv_s, ['HV_voltage', 'HV_current',], start, end)\n",
    "data_hv_s_rs.index = data_hv_s_rs.index.rename('time')\n",
    "\n",
    "\n",
    "fig, ax = plt.subplots(figsize=(10,4))\n",
    "sns.set()\n",
    "sns.set_context(\"notebook\", font_scale=1.5, rc={\"lines.linewidth\": 2.5})\n",
    "sns.lineplot(x=data_dose_s.index, y='dose_corrected', data=data_dose_s, ax=ax)\n",
    "sns.lineplot(x=data_dose_s_rs.index, y='dose_corrected', data=data_dose_s_rs, ax=ax, color='darkred')\n",
    "ax.xaxis.set_major_formatter(md.DateFormatter('%H:%M'))\n",
    "# ax.set(yscale=\"log\")\n",
    "ax.set_ylabel('dose [muSv/h]')\n",
    "ax.set_xlabel(f'Time, {DAY}')\n",
    "plt.ylim(0,650)\n",
    "plt.show()\n",
    "\n",
    "fig, ax = plt.subplots(figsize=(10,4))\n",
    "sns.set()\n",
    "sns.set_context(\"notebook\", font_scale=1.5, rc={\"lines.linewidth\": 2.5})\n",
    "sns.lineplot(x=data_reference_s.index, y='sum_counts', data=data_reference_s, ax=ax)\n",
    "sns.lineplot(x=data_reference_s_rs.index, y='sum_counts', data=data_reference_s_rs, ax=ax, color='darkred')\n",
    "ax.xaxis.set_major_formatter(md.DateFormatter('%H:%M'))\n",
    "# ax.set(yscale=\"log\")\n",
    "ax.set_ylabel('Counts reference detector [1/(30s)]')\n",
    "ax.set_xlabel(f'Time, {DAY}')\n",
    "plt.ylim(0,4500)\n",
    "plt.show()\n",
    "\n",
    "fig, ax = plt.subplots(figsize=(10,4))\n",
    "sns.set()\n",
    "sns.set_context(\"notebook\", font_scale=1.5, rc={\"lines.linewidth\": 2.5})\n",
    "sns.lineplot(x=data_hv_s.index, y='HV_current', data=data_hv_s, ax=ax)\n",
    "sns.lineplot(x=data_hv_s_rs.index, y='HV_current', data=data_hv_s_rs, ax=ax, color='darkred')\n",
    "ax.xaxis.set_major_formatter(md.DateFormatter('%H:%M'))\n",
    "# ax.set(yscale=\"log\")\n",
    "ax.set_ylabel('HV [mA]')\n",
    "ax.set_xlabel(f'Time, {DAY}')\n",
    "\n",
    "data_reference_s_rs_lead = data_reference_s_rs['sum_counts']\n",
    "\n",
    "ref_counts_norm_lead = data_reference_s_rs['sum_counts']/data_dose_s_rs['dose_corrected']\n",
    "fig, ax = plt.subplots(figsize=(10,4))\n",
    "sns.set()\n",
    "sns.set_context(\"notebook\", font_scale=1.5, rc={\"lines.linewidth\": 2.5})\n",
    "sns.lineplot(x=ref_counts_norm_lead.index, y=ref_counts_norm_lead, ax=ax)\n",
    "\n",
    "ax.xaxis.set_major_formatter(md.DateFormatter('%H:%M'))\n",
    "# ax.set(yscale=\"log\")\n",
    "ax.set_ylabel('Counts normalized by dose \\n [1/(30s) * 1/(muSv/h)]')\n",
    "ax.set_xlabel(f'Time, {DAY}')\n",
    "plt.ylim(0,8)\n",
    "plt.show()\n",
    "\n",
    "data_hv_s_rs['beam_power'] = data_hv_s_rs['HV_voltage'] * data_hv_s_rs['HV_current']\n",
    "ref_counts_norm_beam_lead = ref_counts_norm_lead/data_hv_s_rs['beam_power']\n",
    "\n",
    "fig, ax = plt.subplots(figsize=(10,4))\n",
    "sns.set()\n",
    "sns.set_context(\"notebook\", font_scale=1.5, rc={\"lines.linewidth\": 2.5})\n",
    "sns.lineplot(x=ref_counts_norm_beam_lead.index, y=ref_counts_norm_beam_lead, ax=ax)\n",
    "\n",
    "ax.xaxis.set_major_formatter(md.DateFormatter('%H:%M'))\n",
    "# ax.set(yscale=\"log\")\n",
    "ax.set_ylabel('Counts normalized by \\n dose and beam power \\n [1/(30s) * 1/(muSv/h) * 1/(W)]')\n",
    "ax.set_xlabel(f'Time, {DAY}')\n",
    "plt.ylim(0,0.125)\n",
    "plt.show()\n",
    "\n",
    "\n",
    "ref_counts_norm_HV_lead = ref_counts_norm_lead/data_hv_s_rs['HV_voltage']\n",
    "\n",
    "fig, ax = plt.subplots(figsize=(10,4))\n",
    "sns.set()\n",
    "sns.set_context(\"notebook\", font_scale=1.5, rc={\"lines.linewidth\": 2.5})\n",
    "sns.lineplot(x=ref_counts_norm_HV_lead.index, y=ref_counts_norm_HV_lead, ax=ax)\n",
    "\n",
    "ax.xaxis.set_major_formatter(md.DateFormatter('%H:%M'))\n",
    "# ax.set(yscale=\"log\")\n",
    "ax.set_ylabel('Counts normalized by \\n dose and high voltage \\n [1/(30s) * 1/(muSv/h) * 1/(kV)]')\n",
    "ax.set_xlabel(f'Time, {DAY}')\n",
    "plt.ylim(0,0.1)\n",
    "plt.show()"
   ]
  },
  {
   "cell_type": "markdown",
   "metadata": {},
   "source": [
    "## Plot both"
   ]
  },
  {
   "cell_type": "code",
   "execution_count": null,
   "metadata": {},
   "outputs": [],
   "source": [
    "ref_counts_norm_HV_lead = ref_counts_norm_HV_lead.reset_index(drop=True)\n",
    "ref_counts_norm_HV_no_lead = ref_counts_norm_HV_no_lead.reset_index(drop=True)\n",
    "ref_counts_norm_lead = ref_counts_norm_lead.reset_index(drop=True)\n",
    "ref_counts_norm_no_lead = ref_counts_norm_no_lead.reset_index(drop=True)\n",
    "ref_counts_norm_beam_lead = ref_counts_norm_beam_lead.reset_index(drop=True)\n",
    "ref_counts_norm_beam_no_lead = ref_counts_norm_beam_no_lead.reset_index(drop=True)\n"
   ]
  },
  {
   "cell_type": "code",
   "execution_count": null,
   "metadata": {},
   "outputs": [],
   "source": [
    "fig, ax = plt.subplots(figsize=(10,4))\n",
    "sns.set()\n",
    "sns.set_context(\"notebook\", font_scale=1.5, rc={\"lines.linewidth\": 2.5})\n",
    "sns.lineplot(x=ref_counts_norm_HV_lead.index, y=ref_counts_norm_HV_lead, ax=ax, color='darkred', label=\"lead\")\n",
    "sns.lineplot(x=ref_counts_norm_HV_no_lead.index, y=ref_counts_norm_HV_no_lead, ax=ax, color='darkblue', label=\"no lead\")\n",
    "\n",
    "# ax.set(yscale=\"log\")\n",
    "ax.set_ylabel('Counts normalized by \\n dose and high voltage \\n [1/(30s) * 1/(muSv/h) * 1/(kV)]')\n",
    "ax.set_xlabel(f'30 sec readout interval')\n",
    "plt.ylim(0,0.1)\n",
    "plt.show()"
   ]
  },
  {
   "cell_type": "code",
   "execution_count": null,
   "metadata": {},
   "outputs": [],
   "source": [
    "fig, ax = plt.subplots(figsize=(10,4))\n",
    "sns.set()\n",
    "sns.set_context(\"notebook\", font_scale=1.5, rc={\"lines.linewidth\": 2.5})\n",
    "sns.lineplot(x=ref_counts_norm_lead.index, y=ref_counts_norm_lead, ax=ax, color='darkred', label=\"lead\")\n",
    "sns.lineplot(x=ref_counts_norm_no_lead.index, y=ref_counts_norm_no_lead, ax=ax, color='darkblue', label=\"no lead\")\n",
    "\n",
    "# ax.set(yscale=\"log\")\n",
    "ax.set_ylabel('Counts normalized by dose \\n [1/(30s) * 1/(muSv/h)]')\n",
    "ax.set_xlabel(f'30 sec readout interval')\n",
    "plt.ylim(0,8)\n",
    "plt.show()"
   ]
  },
  {
   "cell_type": "code",
   "execution_count": null,
   "metadata": {},
   "outputs": [],
   "source": [
    "fig, ax = plt.subplots(figsize=(10,4))\n",
    "sns.set()\n",
    "sns.set_context(\"notebook\", font_scale=1.5, rc={\"lines.linewidth\": 2.5})\n",
    "\n",
    "sns.lineplot(x=ref_counts_norm_beam_lead.index, y=ref_counts_norm_beam_lead, ax=ax, color='darkred', label=\"lead\")\n",
    "sns.lineplot(x=ref_counts_norm_beam_no_lead.index, y=ref_counts_norm_beam_no_lead, ax=ax, color='darkblue', label=\"no lead\")\n",
    "\n",
    "# ax.set(yscale=\"log\")\n",
    "ax.set_ylabel('Counts normalized by \\n dose and beam power \\n [1/(30s) * 1/(muSv/h) * 1/(W)]')\n",
    "ax.set_xlabel(f'30 sec readout interval')\n",
    "\n",
    "plt.ylim(0,0.125)\n",
    "plt.show()"
   ]
  },
  {
   "cell_type": "markdown",
   "metadata": {},
   "source": [
    "# Check the emitting spot size detector"
   ]
  },
  {
   "cell_type": "code",
   "execution_count": null,
   "metadata": {},
   "outputs": [],
   "source": [
    "# path to the file that contains the detector data\n",
    "# from 13:30 until 18:40\n",
    "fname_0 = '/Users/hkromer/02_PhD/02_Data/13.new_chamber/2020-01-30.EmittingSpot.Leadshield/2020-01-30_readout - Copy.csv'\n",
    "data_ess_0 = pd.read_csv(fname_0, index_col=0)\n",
    "data_ess_0['time'] = pd.to_datetime(data_ess_0['time'])\n",
    "data_ess_0.set_index('time', inplace=True)\n",
    "# from 18:40 until the next day morning\n",
    "fname = '/Users/hkromer/02_PhD/02_Data/13.new_chamber/2020-01-30.EmittingSpot.Leadshield/2020-01-31_readout.csv'\n",
    "data_ess = pd.read_csv(fname, index_col=0)\n",
    "data_ess['time'] = pd.to_datetime(data_ess['time'])\n",
    "data_ess.set_index('time', inplace=True)\n",
    "data_ess = data_ess_0.append(data_ess)\n",
    "print(data_ess.describe())\n",
    "print(data_ess.info())\n",
    "data_ess"
   ]
  },
  {
   "cell_type": "code",
   "execution_count": null,
   "metadata": {},
   "outputs": [],
   "source": [
    "# plot only when the measurement was performed with and without lead\n",
    "start = \"2020-01-30 13:30:00\"\n",
    "end = \"2020-01-30 19:50:00\"\n",
    "data_ess_s = data_ess.loc[start:end, :]\n",
    "\n",
    "# resample the 30 s\n",
    "data_ess_s_rs = resample_30_seconds(data_ess_s, ['value'], start, end)\n",
    "data_ess_s_rs.index = data_ess_s_rs.index.rename('time')\n",
    "data_ess_s_rs"
   ]
  },
  {
   "cell_type": "code",
   "execution_count": null,
   "metadata": {},
   "outputs": [],
   "source": [
    "fig, ax = plt.subplots(figsize=(10,4))\n",
    "sns.set()\n",
    "sns.set_context(\"notebook\", font_scale=1.5, rc={\"lines.linewidth\": 2.5})\n",
    "sns.lineplot(x=data_ess_s_rs.index, y='value', data=data_ess_s_rs, ax=ax, color='darkred')\n",
    "\n",
    "ax.xaxis.set_major_formatter(md.DateFormatter('%H:%M'))\n",
    "# ax.set(yscale=\"log\")\n",
    "ax.set_ylabel('Counts per 30 s')\n",
    "ax.set_xlabel(f'Time, {DAY}')\n",
    "plt.show()"
   ]
  },
  {
   "cell_type": "markdown",
   "metadata": {},
   "source": [
    "## Divide in lead and no lead split"
   ]
  },
  {
   "cell_type": "code",
   "execution_count": null,
   "metadata": {},
   "outputs": [],
   "source": [
    "# no lead\n",
    "start = '2020-01-30 14:35:00'\n",
    "end = '2020-01-30 15:59:00'\n",
    "data_ess_s_rs_no_lead = data_ess_s_rs.loc[start:end,:]\n",
    "# lead\n",
    "start = '2020-01-30 18:01:30'\n",
    "end = '2020-01-30 19:29:00'\n",
    "data_ess_s_rs_lead = data_ess_s_rs.loc[start:end,:]\n",
    "\n",
    "fig, ax = plt.subplots(figsize=(10,4))\n",
    "sns.set()\n",
    "sns.set_context(\"notebook\", font_scale=1.5, rc={\"lines.linewidth\": 2.5})\n",
    "sns.lineplot(x=data_ess_s_rs_no_lead.index, y='value', data=data_ess_s_rs_no_lead, ax=ax, color='darkblue', label='no lead')\n",
    "sns.lineplot(x=data_ess_s_rs_lead.index, y='value', data=data_ess_s_rs_lead, ax=ax, color='darkred', label='lead')\n",
    "\n",
    "ax.xaxis.set_major_formatter(md.DateFormatter('%H:%M'))\n",
    "# ax.set(yscale=\"log\")\n",
    "ax.set_ylabel('Counts per 30 s')\n",
    "ax.set_xlabel(f'Time, {DAY}')\n",
    "plt.show()\n",
    "\n",
    "\n",
    "# select from no lead only when the tungsten was inserted\n",
    "# no lead\n",
    "start = '2020-01-30 15:20:00'\n",
    "end = '2020-01-30 15:59:00'\n",
    "data_ess_s_rs_no_lead = data_ess_s_rs.loc[start:end,:]\n",
    "\n",
    "# remove breakdown values\n",
    "data_ess_s_rs_no_lead = data_ess_s_rs_no_lead[data_ess_s_rs_no_lead['value'] > 300]\n",
    "data_ess_s_rs_lead = data_ess_s_rs_lead[data_ess_s_rs_lead['value'] > 300]\n",
    "\n",
    "fig, ax = plt.subplots(figsize=(10,4))\n",
    "sns.set()\n",
    "sns.set_context(\"notebook\", font_scale=1.5, rc={\"lines.linewidth\": 2.5})\n",
    "sns.lineplot(x=data_ess_s_rs_no_lead.index, y='value', data=data_ess_s_rs_no_lead, ax=ax, color='darkblue', label='no lead')\n",
    "sns.lineplot(x=data_ess_s_rs_lead.index, y='value', data=data_ess_s_rs_lead, ax=ax, color='darkred', label='lead')\n",
    "\n",
    "ax.xaxis.set_major_formatter(md.DateFormatter('%H:%M'))\n",
    "# ax.set(yscale=\"log\")\n",
    "ax.set_ylabel('Counts per 30 s')\n",
    "ax.set_xlabel(f'Time, {DAY}')\n",
    "plt.ylim(0, 600)\n",
    "plt.show()\n"
   ]
  },
  {
   "cell_type": "markdown",
   "metadata": {},
   "source": [
    "## Normalize with the reference detector counts"
   ]
  },
  {
   "cell_type": "code",
   "execution_count": null,
   "metadata": {},
   "outputs": [],
   "source": [
    "data_ess_s_rs_no_lead_norm = data_ess_s_rs_no_lead['value']/data_reference_s_rs_no_lead['sum_counts']\n",
    "data_ess_s_rs_lead_norm = data_ess_s_rs_lead['value']/data_reference_s_rs_lead\n",
    "\n",
    "fig, ax = plt.subplots(figsize=(10,4))\n",
    "sns.set()\n",
    "sns.set_context(\"notebook\", font_scale=1.5, rc={\"lines.linewidth\": 2.5})\n",
    "sns.lineplot(x=data_ess_s_rs_no_lead_norm.index, y=data_ess_s_rs_no_lead_norm, ax=ax, color='darkblue', label='no lead')\n",
    "sns.lineplot(x=data_ess_s_rs_lead_norm.index, y=data_ess_s_rs_lead_norm, ax=ax, color='darkred', label='lead')\n",
    "\n",
    "ax.xaxis.set_major_formatter(md.DateFormatter('%H:%M'))\n",
    "# ax.set(yscale=\"log\")\n",
    "ax.set_ylabel('Counts per 30 s per \\n ref. detector counts')\n",
    "ax.set_xlabel(f'Time, {DAY}')\n",
    "plt.ylim(0, 0.15)\n",
    "plt.show()\n",
    "\n",
    "data_ess_s_rs_no_lead_norm.reset_index(drop=True, inplace=True)\n",
    "data_ess_s_rs_lead_norm.reset_index(drop=True, inplace=True)\n",
    "\n",
    "fig, ax = plt.subplots(figsize=(10,4))\n",
    "sns.set()\n",
    "sns.set_context(\"notebook\", font_scale=1.5, rc={\"lines.linewidth\": 2.5})\n",
    "sns.lineplot(x=data_ess_s_rs_no_lead_norm.index, y=data_ess_s_rs_no_lead_norm, ax=ax, color='darkblue', label='no lead')\n",
    "sns.lineplot(x=data_ess_s_rs_lead_norm.index, y=data_ess_s_rs_lead_norm, ax=ax, color='darkred', label='lead')\n",
    "\n",
    "# ax.xaxis.set_major_formatter(md.DateFormatter('%H:%M'))\n",
    "# ax.set(yscale=\"log\")\n",
    "ax.set_ylabel('Counts per 30 s per \\n ref. detector counts')\n",
    "ax.set_xlabel(f'30s interval')\n",
    "plt.ylim(0, 0.15)\n",
    "plt.show()\n",
    "\n",
    "print(f\"Mean, std in normed counts in the detector WITHOUT lead: {data_ess_s_rs_no_lead_norm.mean()}, {data_ess_s_rs_no_lead_norm.std()}\")\n",
    "print(f\"Mean, std in normed counts in the detector WITH lead: {data_ess_s_rs_lead_norm.mean()}, {data_ess_s_rs_lead_norm.std()}\")"
   ]
  },
  {
   "cell_type": "code",
   "execution_count": null,
   "metadata": {},
   "outputs": [],
   "source": [
    "# Combine reference detector counts into one dataframe\n",
    "data_ess_s_rs_no_lead_norm = pd.DataFrame(data_ess_s_rs_no_lead_norm)\n",
    "data_ess_s_rs_lead_norm = pd.DataFrame(data_ess_s_rs_lead_norm)\n",
    "data_ess_s_rs_no_lead_norm['label'] = 'no lead'\n",
    "data_ess_s_rs_lead_norm['label'] = 'lead'\n",
    "\n",
    "data_ess_s_rs_norm_combined = data_ess_s_rs_no_lead_norm.append(data_ess_s_rs_lead_norm).reset_index(drop=True)\n",
    "data_ess_s_rs_norm_combined"
   ]
  },
  {
   "cell_type": "code",
   "execution_count": null,
   "metadata": {},
   "outputs": [],
   "source": [
    "fig, ax = plt.subplots(figsize=(12,4))\n",
    "sns.set()\n",
    "sns.set_context(\"notebook\", font_scale=1.5, rc={\"lines.linewidth\": 2.5})\n",
    "sns.boxplot(x='label', y=0, data=data_ess_s_rs_norm_combined, ax=ax, width=0.25)\n",
    "\n",
    "\n",
    "# plt.title('Reference detectors')\n",
    "# ax.set(yscale=\"log\")\n",
    "ax.set_ylabel('Counts in emitting spot detector \\n normed with reference detectors \\n [1/(30s) * 1/(30s)]')\n",
    "ax.set_xlabel(f'Shielding')\n",
    "plt.ylim(0.07, 0.11)\n",
    "plt.show()"
   ]
  },
  {
   "cell_type": "markdown",
   "metadata": {},
   "source": [
    "# Attenuation of 100 keV x-rays in stainless steel"
   ]
  },
  {
   "cell_type": "code",
   "execution_count": null,
   "metadata": {},
   "outputs": [],
   "source": [
    "# approximated by iron, 0.1 MeV\n",
    "MU_RHO = 3.717e-1 # cm2/g\n",
    "# density\n",
    "RHO = 7.874 # g/cm³\n",
    "\n",
    "# attenuation coefficient\n",
    "sigma = MU_RHO * RHO # 1/cm\n",
    "\n",
    "# lambert beer attenuation, .. mm iron\n",
    "D = 0.3 # cm, thickness of chamber\n",
    "I_over_I0 = np.exp(-sigma*D)\n",
    "print(f'Fraction of beam left after {D} cm iron: {1-I_over_I0:.2f}')\n",
    "# lambert beer attenuation, .. mm iron\n",
    "D = 0.5 # cm, thickness of chamber\n",
    "I_over_I0 = np.exp(-sigma*D)\n",
    "print(f'Fraction of beam left after {D} cm iron: {1-I_over_I0:.2f}')"
   ]
  },
  {
   "cell_type": "code",
   "execution_count": null,
   "metadata": {},
   "outputs": [],
   "source": []
  },
  {
   "cell_type": "code",
   "execution_count": null,
   "metadata": {},
   "outputs": [],
   "source": []
  },
  {
   "cell_type": "code",
   "execution_count": null,
   "metadata": {},
   "outputs": [],
   "source": []
  }
 ],
 "metadata": {
  "kernelspec": {
   "display_name": "Python 3",
   "language": "python",
   "name": "python3"
  },
  "language_info": {
   "codemirror_mode": {
    "name": "ipython",
    "version": 3
   },
   "file_extension": ".py",
   "mimetype": "text/x-python",
   "name": "python",
   "nbconvert_exporter": "python",
   "pygments_lexer": "ipython3",
   "version": "3.8.1"
  }
 },
 "nbformat": 4,
 "nbformat_minor": 4
}
