{
 "cells": [
  {
   "cell_type": "markdown",
   "metadata": {},
   "source": [
    "# Neutron output vs beam power\n",
    "\n",
    "Measurement from 2020-02-03. File in: /Users/hkromer/02_PhD/02_Data/13.new_chamber/2020-02-03.NeutronOutputVSBeamPower"
   ]
  },
  {
   "cell_type": "code",
   "execution_count": 65,
   "metadata": {},
   "outputs": [],
   "source": [
    "import numpy as np\n",
    "import pandas as pd\n",
    "import pymysql\n",
    "import sqlalchemy as sql\n",
    "import matplotlib.pyplot as plt\n",
    "import matplotlib.dates as md\n",
    "import seaborn as sns\n",
    "sns.set()\n",
    "import getopt\n",
    "import sys\n",
    "import datetime\n",
    "from scipy.interpolate import interp1d\n",
    "from NGDataObject import NGDataObject\n",
    "from scipy.optimize import curve_fit\n",
    "from scipy import optimize\n",
    "\n",
    "#*******************************\n",
    "# CONSTANTS\n",
    "#*******************************\n",
    "# connection to database\n",
    "CREDENTIALS_FILE = '/Users/hkromer/02_PhD/01.github/dash_NG/credentials.pw'\n",
    "DB = \"NG_twofast_DB\" # name of the database\n",
    "HOST = \"twofast-RPi3-0\"  # database host\n",
    "\n",
    "# LOOKUP TABLES\n",
    "LUT_PRESSURE_ION_SOURCE = \"/Users/hkromer/02_PhD/01.github/phd/01_neutron_generator_contol/LUT_pressure_ion_source.txt\""
   ]
  },
  {
   "cell_type": "code",
   "execution_count": 66,
   "metadata": {},
   "outputs": [],
   "source": [
    "DAY = \"2020-02-03\"\n",
    "PATH = '/Users/hkromer/02_PhD/02_Data/13.new_chamber/2020-02-03.NeutronOutputVSBeamPower/'"
   ]
  },
  {
   "cell_type": "markdown",
   "metadata": {},
   "source": [
    "## Load from PSI DB"
   ]
  },
  {
   "cell_type": "code",
   "execution_count": null,
   "metadata": {},
   "outputs": [],
   "source": [
    "# reference detectors\n",
    "# dose\n",
    "# HV\n",
    "\n",
    "# read password and user to connect to database\n",
    "credentials = pd.read_csv(CREDENTIALS_FILE, header=0)\n",
    "user = credentials['username'].values[0]\n",
    "pw = credentials['password'].values[0]\n",
    "\n",
    "\n",
    "#*******************************\n",
    "# GET DATA\n",
    "#*******************************\n",
    "\n",
    "# connect to DB\n",
    "con = NGDataObject(host = HOST, database=DB, user=user, password=pw)\n",
    "\n",
    "# get dose\n",
    "query = \"SELECT * FROM data_dose WHERE DATE(time) = '%(t)s'\" % {\"t\": DAY}\n",
    "data_dose = con.get_from_database(query=query)\n",
    "\n",
    "# get HV\n",
    "query = \"SELECT * FROM data_HV WHERE DATE(time) = '%(t)s'\" % {\"t\": DAY}\n",
    "data_hv = con.get_from_database(query=query)\n",
    "data_hv['HV_current_x100'] = data_hv['HV_current']*100.0\n",
    "\n",
    "# get pressure\n",
    "query = \"SELECT * FROM data_pressure WHERE DATE(time) = '%(t)s'\" % {\"t\": DAY}\n",
    "data_pressure = con.get_from_database(query=query)\n",
    "\n",
    "# get microwave power\n",
    "query = \"SELECT * FROM microwave_generator_power WHERE DATE(time) = '%(t)s'\" % {\"t\": DAY}\n",
    "data_microwave_power_full = con.get_from_database(query=query)\n",
    "\n",
    "# get microwave frequency\n",
    "query = \"SELECT * FROM microwave_generator_frequency WHERE DATE(time) = '%(t)s'\" % {\"t\": DAY}\n",
    "data_microwave_frequency_full = con.get_from_database(query=query)\n"
   ]
  },
  {
   "cell_type": "markdown",
   "metadata": {},
   "source": [
    "### Some plots"
   ]
  },
  {
   "cell_type": "code",
   "execution_count": null,
   "metadata": {},
   "outputs": [],
   "source": [
    "fig, ax = plt.subplots(figsize=(10,4))\n",
    "sns.set()\n",
    "sns.set_context(\"notebook\", font_scale=1.5, rc={\"lines.linewidth\": 2.5})\n",
    "sns.lineplot(x=data_dose.index, y='dose_corrected', data=data_dose, ax=ax, color='darkblue')\n",
    "\n",
    "ax.xaxis.set_major_formatter(md.DateFormatter('%H:%M'))\n",
    "ax.set_ylabel('Dose [muSv/hr]')\n",
    "ax.set_xlabel(f'Time, {DAY}')\n",
    "plt.show()\n",
    "\n",
    "fig, ax = plt.subplots(figsize=(10,4))\n",
    "sns.set()\n",
    "sns.set_context(\"notebook\", font_scale=1.5, rc={\"lines.linewidth\": 2.5})\n",
    "sns.lineplot(x=data_hv.index, y='HV_voltage', data=data_hv, ax=ax, color='darkred')\n",
    "\n",
    "ax.xaxis.set_major_formatter(md.DateFormatter('%H:%M'))\n",
    "ax.set_ylabel('HV V [kV]')\n",
    "ax.set_xlabel(f'Time, {DAY}')\n",
    "plt.show()\n",
    "\n",
    "fig, ax = plt.subplots(figsize=(10,4))\n",
    "sns.set()\n",
    "sns.set_context(\"notebook\", font_scale=1.5, rc={\"lines.linewidth\": 2.5})\n",
    "sns.lineplot(x=data_hv.index, y='HV_current', data=data_hv, ax=ax, color='darkorange')\n",
    "\n",
    "ax.xaxis.set_major_formatter(md.DateFormatter('%H:%M'))\n",
    "ax.set_ylabel('HV I [mA] (incl. leakage)')\n",
    "ax.set_xlabel(f'Time, {DAY}')\n",
    "plt.show()\n",
    "\n",
    "\n",
    "fig, ax = plt.subplots(figsize=(10,4))\n",
    "sns.set()\n",
    "sns.set_context(\"notebook\", font_scale=1.5, rc={\"lines.linewidth\": 2.5})\n",
    "sns.lineplot(x=data_pressure.index, y='pressure_IS_corrected', data=data_pressure, ax=ax, color='darkgreen')\n",
    "\n",
    "ax.xaxis.set_major_formatter(md.DateFormatter('%H:%M'))\n",
    "ax.set_ylabel('pressure [mbar]')\n",
    "ax.set_xlabel(f'Time, {DAY}')\n",
    "ax.set_yscale('log')\n",
    "plt.show()\n"
   ]
  },
  {
   "cell_type": "code",
   "execution_count": null,
   "metadata": {},
   "outputs": [],
   "source": [
    "data_dose.to_csv(f'{PATH}/{DAY}_dose.csv')\n",
    "data_hv.to_csv(f'{PATH}/{DAY}_hv.csv')\n",
    "data_pressure.to_csv(f'{PATH}/{DAY}_pressure.csv')\n",
    "data_microwave_power_full.to_csv(f'{PATH}/{DAY}_microwave_power.csv')\n",
    "data_microwave_frequency_full.to_csv(f'{PATH}/{DAY}_microwave_.csv')"
   ]
  },
  {
   "cell_type": "markdown",
   "metadata": {},
   "source": [
    "## Load from csv"
   ]
  },
  {
   "cell_type": "code",
   "execution_count": 67,
   "metadata": {},
   "outputs": [],
   "source": [
    "data_dose = pd.read_csv(f'{PATH}/{DAY}_dose.csv', index_col=0)\n",
    "data_hv = pd.read_csv(f'{PATH}/{DAY}_hv.csv', index_col=0)\n",
    "data_pressure = pd.read_csv(f'{PATH}/{DAY}_pressure.csv', index_col=0)\n",
    "data_microwave_power_full = pd.read_csv(f'{PATH}/{DAY}_microwave_power.csv', index_col=0)\n",
    "data_microwave_frequency_full = pd.read_csv(f'{PATH}/{DAY}_microwave_frequency.csv', index_col=0)\n",
    "\n",
    "for df in [data_dose, data_hv, data_pressure, data_microwave_power_full, data_microwave_frequency_full]:\n",
    "    df.index = pd.to_datetime(df.index)\n",
    "\n",
    "    \n",
    "time_start = f\"{DAY} 07:30:00\"\n",
    "time_end = f\"{DAY} 11:00:00\"\n",
    "\n",
    "\n",
    "data_dose = data_dose.loc[time_start:time_end, :]\n",
    "data_hv = data_hv.loc[time_start:time_end, :]\n",
    "data_pressure = data_pressure.loc[time_start:time_end, :]\n",
    "data_microwave_power = data_microwave_power_full.loc[time_start:time_end, :]\n",
    "data_microwave_frequency = data_microwave_frequency_full.loc[time_start:time_end, :]"
   ]
  },
  {
   "cell_type": "code",
   "execution_count": null,
   "metadata": {},
   "outputs": [],
   "source": [
    "fig, ax = plt.subplots(figsize=(10,4))\n",
    "sns.set()\n",
    "sns.set_context(\"notebook\", font_scale=1.5, rc={\"lines.linewidth\": 2.5})\n",
    "sns.lineplot(x=data_dose.index, y='dose_corrected', data=data_dose, ax=ax, color='darkblue')\n",
    "\n",
    "ax.xaxis.set_major_formatter(md.DateFormatter('%H:%M'))\n",
    "ax.set_ylabel('Dose [muSv/hr]')\n",
    "ax.set_xlabel(f'Time, {DAY}')\n",
    "plt.show()\n",
    "\n",
    "fig, ax = plt.subplots(figsize=(10,4))\n",
    "sns.set()\n",
    "sns.set_context(\"notebook\", font_scale=1.5, rc={\"lines.linewidth\": 2.5})\n",
    "sns.lineplot(x=data_hv.index, y='HV_voltage', data=data_hv, ax=ax, color='darkred')\n",
    "\n",
    "ax.xaxis.set_major_formatter(md.DateFormatter('%H:%M'))\n",
    "ax.set_ylabel('HV V [kV]')\n",
    "ax.set_xlabel(f'Time, {DAY}')\n",
    "plt.show()\n",
    "\n",
    "fig, ax = plt.subplots(figsize=(10,4))\n",
    "sns.set()\n",
    "sns.set_context(\"notebook\", font_scale=1.5, rc={\"lines.linewidth\": 2.5})\n",
    "sns.lineplot(x=data_hv.index, y='HV_current', data=data_hv, ax=ax, color='darkorange')\n",
    "\n",
    "ax.xaxis.set_major_formatter(md.DateFormatter('%H:%M'))\n",
    "ax.set_ylabel('HV I [mA] (incl. leakage)')\n",
    "ax.set_xlabel(f'Time, {DAY}')\n",
    "plt.show()\n",
    "\n",
    "\n",
    "fig, ax = plt.subplots(figsize=(10,4))\n",
    "sns.set()\n",
    "sns.set_context(\"notebook\", font_scale=1.5, rc={\"lines.linewidth\": 2.5})\n",
    "sns.lineplot(x=data_pressure.index, y='pressure_IS_corrected', data=data_pressure, ax=ax, color='darkgreen')\n",
    "\n",
    "ax.xaxis.set_major_formatter(md.DateFormatter('%H:%M'))\n",
    "ax.set_ylabel('pressure [mbar]')\n",
    "ax.set_xlabel(f'Time, {DAY}')\n",
    "ax.set_yscale('log')\n",
    "plt.show()\n"
   ]
  },
  {
   "cell_type": "markdown",
   "metadata": {},
   "source": [
    "## Leakage current versus high voltage"
   ]
  },
  {
   "cell_type": "code",
   "execution_count": 68,
   "metadata": {},
   "outputs": [],
   "source": [
    "t0 = f\"{DAY} 08:18:00\"\n",
    "t1 = f\"{DAY} 08:25:00\"\n",
    "\n",
    "\n",
    "data_dose_lk = data_dose.loc[t0:t1, :]\n",
    "data_hv_lk = data_hv.loc[t0:t1, :]\n"
   ]
  },
  {
   "cell_type": "code",
   "execution_count": null,
   "metadata": {},
   "outputs": [],
   "source": [
    "fig, ax = plt.subplots(figsize=(10,4))\n",
    "sns.set()\n",
    "sns.set_context(\"notebook\", font_scale=1.5, rc={\"lines.linewidth\": 2.5})\n",
    "sns.lineplot(x=data_dose_lk.index, y='dose_corrected', data=data_dose_lk, ax=ax, color='darkblue')\n",
    "\n",
    "ax.xaxis.set_major_formatter(md.DateFormatter('%H:%M'))\n",
    "ax.set_ylabel('Dose [muSv/hr]')\n",
    "ax.set_xlabel(f'Time, {DAY}')\n",
    "plt.show()\n",
    "\n",
    "fig, ax = plt.subplots(figsize=(10,4))\n",
    "sns.set()\n",
    "sns.set_context(\"notebook\", font_scale=1.5, rc={\"lines.linewidth\": 2.5})\n",
    "sns.lineplot(x=data_hv_lk.index, y='HV_voltage', data=data_hv_lk, ax=ax, color='darkred')\n",
    "\n",
    "ax.xaxis.set_major_formatter(md.DateFormatter('%H:%M'))\n",
    "ax.set_ylabel('HV V [kV]')\n",
    "ax.set_xlabel(f'Time, {DAY}')\n",
    "plt.show()\n",
    "\n",
    "fig, ax = plt.subplots(figsize=(10,4))\n",
    "sns.set()\n",
    "sns.set_context(\"notebook\", font_scale=1.5, rc={\"lines.linewidth\": 2.5})\n",
    "sns.lineplot(x=data_hv_lk.index, y='HV_current', data=data_hv_lk, ax=ax, color='darkorange')\n",
    "\n",
    "ax.xaxis.set_major_formatter(md.DateFormatter('%H:%M'))\n",
    "ax.set_ylabel('HV I [mA] (incl. leakage)')\n",
    "ax.set_xlabel(f'Time, {DAY}')\n",
    "plt.show()"
   ]
  },
  {
   "cell_type": "markdown",
   "metadata": {},
   "source": [
    "### Put in one dataframe\n"
   ]
  },
  {
   "cell_type": "code",
   "execution_count": 69,
   "metadata": {},
   "outputs": [],
   "source": [
    "def resample_30_seconds(df, cols, range_start, range_end):\n",
    "    \"\"\"\n",
    "    Takes the a grouped df (grouped by day) and resamples the columns cols in 10s\n",
    "    OUTPUT:\n",
    "        - dataframe\n",
    "    \"\"\"\n",
    "\n",
    "    d = {}\n",
    "\n",
    "    s = pd.date_range(start=range_start, end=range_end, freq='10S')\n",
    "    df_out = pd.DataFrame(pd.Series(s, name='time')).set_index('time')\n",
    "    for col in cols:\n",
    "        d[col] = df[col].resample('10S').mean()\n",
    "\n",
    "    this_d = pd.DataFrame(d)\n",
    "\n",
    "    df_out = df_out.merge(this_d, left_on=df_out.index, right_on=this_d.index, how='outer')\n",
    "    df_out = df_out.set_index('key_0')\n",
    "    df_out.index.name ='time'    \n",
    "    \n",
    "    return df_out\n"
   ]
  },
  {
   "cell_type": "code",
   "execution_count": 70,
   "metadata": {},
   "outputs": [
    {
     "data": {
      "text/html": [
       "<div>\n",
       "<style scoped>\n",
       "    .dataframe tbody tr th:only-of-type {\n",
       "        vertical-align: middle;\n",
       "    }\n",
       "\n",
       "    .dataframe tbody tr th {\n",
       "        vertical-align: top;\n",
       "    }\n",
       "\n",
       "    .dataframe thead th {\n",
       "        text-align: right;\n",
       "    }\n",
       "</style>\n",
       "<table border=\"1\" class=\"dataframe\">\n",
       "  <thead>\n",
       "    <tr style=\"text-align: right;\">\n",
       "      <th></th>\n",
       "      <th>HV_current</th>\n",
       "      <th>HV_voltage</th>\n",
       "      <th>dose_corrected</th>\n",
       "    </tr>\n",
       "    <tr>\n",
       "      <th>time</th>\n",
       "      <th></th>\n",
       "      <th></th>\n",
       "      <th></th>\n",
       "    </tr>\n",
       "  </thead>\n",
       "  <tbody>\n",
       "    <tr>\n",
       "      <th>2020-02-03 08:18:00</th>\n",
       "      <td>0.58516</td>\n",
       "      <td>146.64</td>\n",
       "      <td>5.192839</td>\n",
       "    </tr>\n",
       "    <tr>\n",
       "      <th>2020-02-03 08:18:10</th>\n",
       "      <td>0.62476</td>\n",
       "      <td>150.00</td>\n",
       "      <td>2.796144</td>\n",
       "    </tr>\n",
       "    <tr>\n",
       "      <th>2020-02-03 08:18:20</th>\n",
       "      <td>0.60980</td>\n",
       "      <td>148.11</td>\n",
       "      <td>5.192839</td>\n",
       "    </tr>\n",
       "    <tr>\n",
       "      <th>2020-02-03 08:18:30</th>\n",
       "      <td>0.57680</td>\n",
       "      <td>145.20</td>\n",
       "      <td>7.589534</td>\n",
       "    </tr>\n",
       "    <tr>\n",
       "      <th>2020-02-03 08:18:40</th>\n",
       "      <td>0.57636</td>\n",
       "      <td>145.20</td>\n",
       "      <td>5.192839</td>\n",
       "    </tr>\n",
       "  </tbody>\n",
       "</table>\n",
       "</div>"
      ],
      "text/plain": [
       "                     HV_current  HV_voltage  dose_corrected\n",
       "time                                                       \n",
       "2020-02-03 08:18:00     0.58516      146.64        5.192839\n",
       "2020-02-03 08:18:10     0.62476      150.00        2.796144\n",
       "2020-02-03 08:18:20     0.60980      148.11        5.192839\n",
       "2020-02-03 08:18:30     0.57680      145.20        7.589534\n",
       "2020-02-03 08:18:40     0.57636      145.20        5.192839"
      ]
     },
     "execution_count": 70,
     "metadata": {},
     "output_type": "execute_result"
    }
   ],
   "source": [
    "d_hv = resample_30_seconds(data_hv_lk, ['HV_current', 'HV_voltage'], t0, t1) \n",
    "d_dose = resample_30_seconds(data_dose_lk, ['dose_corrected'], t0, t1) \n",
    "\n",
    "data = pd.merge(d_hv, d_dose, left_index=True, right_index=True, how='outer') # dose is actually not needed\n",
    "data.head()"
   ]
  },
  {
   "cell_type": "code",
   "execution_count": 71,
   "metadata": {},
   "outputs": [],
   "source": [
    "sns.reset_orig()"
   ]
  },
  {
   "cell_type": "code",
   "execution_count": 72,
   "metadata": {},
   "outputs": [],
   "source": [
    "\n",
    "import os, matplotlib\n",
    "os.environ[\"PATH\"] += os.pathsep + '/usr/local/texlive/2018/bin/x86_64-darwin'\n",
    "plt.rc('text', usetex=True)\n",
    "plt.rc('font', weight='bold')\n",
    "from matplotlib.ticker import AutoMinorLocator\n",
    "matplotlib.rcParams['mathtext.fontset'] = 'custom'\n",
    "matplotlib.rcParams['mathtext.rm'] = 'Arial'\n",
    "matplotlib.rcParams['mathtext.it'] = 'Arial:italic'\n",
    "matplotlib.rcParams['mathtext.bf'] = 'Arial:bold'\n",
    "matplotlib.rcParams['mathtext.tt'] = 'Arial'\n",
    "matplotlib.rcParams['mathtext.cal'] = 'Arial'\n",
    "matplotlib.rcParams['text.latex.preamble'] = [r'\\usepackage{sfmath} \\boldmath']"
   ]
  },
  {
   "cell_type": "code",
   "execution_count": 73,
   "metadata": {},
   "outputs": [],
   "source": [
    "OUTPUT_FOLDER = '/Users/hkromer/polybox/Thesis/Chapters/FurtherNeutronGeneratorUpgrades/Figures/Leakage_current_vs_high_voltage/'\n",
    "FIGNAME = 'Leakage_current_vs_high_voltage'"
   ]
  },
  {
   "cell_type": "code",
   "execution_count": 74,
   "metadata": {},
   "outputs": [
    {
     "data": {
      "image/png": "[encoded data removed]",
      "text/plain": [
       "<Figure size 576x432 with 1 Axes>"
      ]
     },
     "metadata": {
      "needs_background": "light"
     },
     "output_type": "display_data"
    }
   ],
   "source": [
    "fig = plt.figure(figsize=(8,6))\n",
    "fs = 20\n",
    "\n",
    "plt.scatter(data['HV_voltage'].values, data['HV_current'].values, color='darkblue', s=100)\n",
    "\n",
    "ax = plt.gca()\n",
    "\n",
    "_ = plt.ylabel(r'\\textbf{Averaged leakage current [mA]}',fontsize=fs)\n",
    "_ = plt.xlabel(r'\\textbf{High voltage [-kV]}', color='black',fontsize=fs)\n",
    "# _ = plt.legend(loc=(0.12, 0.84), fontsize=fs-4)\n",
    "# minor ticks x\n",
    "minor_locator = AutoMinorLocator(2)\n",
    "ax.xaxis.set_minor_locator(minor_locator)\n",
    "# minor ticks y\n",
    "minor_locator = AutoMinorLocator(2)\n",
    "ax.yaxis.set_minor_locator(minor_locator)\n",
    "# tick font size\n",
    "ax.tick_params('x', colors='black', labelsize=fs-2)\t\n",
    "ax.tick_params('y', colors='black', labelsize=fs-2)\t\n",
    "# grid\n",
    "ax.grid(b=True, which='major', linestyle='-')#, color='gray')\n",
    "ax.grid(b=True, which='minor', linestyle='--')#, color='gray')\n",
    "\n",
    "\n",
    "# ax.set_ylim(0, 145)\n",
    "ax.set_xlim(40, 155)\n",
    "ax.set_xticks(np.arange(40, 170, 20))\n",
    "ax.set_yticks(np.arange(0, 0.8, 0.1))\n",
    "\n",
    "# ax2.set_ylim(0, 290)\n",
    "# ax2.set_yticks(np.arange(0, 280+40, 40))\n",
    "plt.tight_layout()\n",
    "plt.savefig(f'{OUTPUT_FOLDER}/{FIGNAME}.pdf')\n",
    "plt.show()"
   ]
  },
  {
   "cell_type": "code",
   "execution_count": 76,
   "metadata": {},
   "outputs": [],
   "source": [
    "data.to_csv(f'{PATH}/{DAY}_LEAKGE_CURRENT_LUT.csv')"
   ]
  },
  {
   "cell_type": "code",
   "execution_count": null,
   "metadata": {},
   "outputs": [],
   "source": []
  }
 ],
 "metadata": {
  "kernelspec": {
   "display_name": "Python 3",
   "language": "python",
   "name": "python3"
  },
  "language_info": {
   "codemirror_mode": {
    "name": "ipython",
    "version": 3
   },
   "file_extension": ".py",
   "mimetype": "text/x-python",
   "name": "python",
   "nbconvert_exporter": "python",
   "pygments_lexer": "ipython3",
   "version": "3.8.1"
  }
 },
 "nbformat": 4,
 "nbformat_minor": 4
}
