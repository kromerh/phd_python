{
 "cells": [
  {
   "cell_type": "markdown",
   "metadata": {},
   "source": [
    "# Emitting Spot Size measurement on 2020-02-07"
   ]
  },
  {
   "cell_type": "markdown",
   "metadata": {},
   "source": [
    "## Load all the data"
   ]
  },
  {
   "cell_type": "code",
   "execution_count": null,
   "metadata": {},
   "outputs": [],
   "source": [
    "import numpy as np\n",
    "import pandas as pd\n",
    "import pymysql\n",
    "import sqlalchemy as sql\n",
    "import matplotlib.pyplot as plt\n",
    "import matplotlib.dates as md\n",
    "import seaborn as sns\n",
    "sns.set()\n",
    "import getopt\n",
    "import sys\n",
    "import datetime\n",
    "from scipy.interpolate import interp1d\n",
    "from NGDataObject import NGDataObject\n",
    "from scipy.optimize import curve_fit\n",
    "from scipy import optimize\n",
    "\n",
    "#*******************************\n",
    "# CONSTANTS\n",
    "#*******************************\n",
    "# connection to database\n",
    "CREDENTIALS_FILE = '/Users/hkromer/02_PhD/01.github/dash_NG/credentials.pw'\n",
    "DB = \"NG_twofast_DB\" # name of the database\n",
    "HOST = \"twofast-RPi3-0\"  # database host\n",
    "\n",
    "# LOOKUP TABLES\n",
    "LUT_PRESSURE_ION_SOURCE = \"/Users/hkromer/02_PhD/01.github/phd/01_neutron_generator_contol/LUT_pressure_ion_source.txt\""
   ]
  },
  {
   "cell_type": "markdown",
   "metadata": {},
   "source": [
    "### Load from database"
   ]
  },
  {
   "cell_type": "code",
   "execution_count": null,
   "metadata": {},
   "outputs": [],
   "source": [
    "# reference detectors\n",
    "# dose\n",
    "# HV\n",
    "DAY = \"2020-02-04\"\n",
    "# read password and user to connect to database\n",
    "credentials = pd.read_csv(CREDENTIALS_FILE, header=0)\n",
    "user = credentials['username'].values[0]\n",
    "pw = credentials['password'].values[0]\n",
    "\n",
    "\n",
    "#*******************************\n",
    "# GET DATA\n",
    "#*******************************\n",
    "\n",
    "# connect to DB\n",
    "con = NGDataObject(host = HOST, database=DB, user=user, password=pw)\n",
    "\n",
    "# get dose\n",
    "query = \"SELECT * FROM data_dose WHERE DATE(time) = '%(t)s'\" % {\"t\": DAY}\n",
    "data_dose = con.get_from_database(query=query)\n",
    "\n",
    "# get HV\n",
    "query = \"SELECT * FROM data_HV WHERE DATE(time) = '%(t)s'\" % {\"t\": DAY}\n",
    "data_hv = con.get_from_database(query=query)\n",
    "data_hv['HV_current_x100'] = data_hv['HV_current']*100.0\n",
    "\n",
    "# get pressure\n",
    "query = \"SELECT * FROM data_pressure WHERE DATE(time) = '%(t)s'\" % {\"t\": DAY}\n",
    "data_pressure = con.get_from_database(query=query)\n",
    "\n",
    "# get reference detectors\n",
    "query = \"SELECT * FROM data_referenceDetectors WHERE DATE(time) > '2020-02-03 20:00:00'\" \n",
    "data_reference_full = con.get_from_database(query=query)\n",
    "\n",
    "# get microwave power\n",
    "query = \"SELECT * FROM microwave_generator_power WHERE DATE(time) = '%(t)s'\" % {\"t\": DAY}\n",
    "data_microwave_power_full = con.get_from_database(query=query)\n",
    "\n",
    "# get microwave frequency\n",
    "query = \"SELECT * FROM microwave_generator_frequency WHERE DATE(time) = '%(t)s'\" % {\"t\": DAY}\n",
    "data_microwave_frequency_full = con.get_from_database(query=query)\n",
    "\n",
    "# save to file\n",
    "data_reference_full['sum_counts'] = data_reference_full['counts_D1'] + data_reference_full['counts_D2'] + data_reference_full['counts_D3'] + data_reference_full['counts_D4'] \n",
    "\n",
    "path = '/Users/hkromer/02_PhD/02_Data/13.new_chamber/DATA/emitting_spot_size_2020-02-04/'\n",
    "data_dose.to_csv(f'{path}/2020-02-07_dose.csv')\n",
    "data_hv.to_csv(f'{path}/2020-02-07_hv.csv')\n",
    "data_pressure.to_csv(f'{path}/2020-02-07_pressure.csv')\n",
    "data_reference_full.to_csv(f'{path}/2020-02-07_reference_detectors.csv')\n",
    "data_microwave_power_full.to_csv(f'{path}/2020-02-07_microwave_power.csv')\n",
    "data_microwave_frequency_full.to_csv(f'{path}/2020-02-07_microwave_frequency.csv')"
   ]
  },
  {
   "cell_type": "markdown",
   "metadata": {},
   "source": [
    "### Load from stored csv files"
   ]
  },
  {
   "cell_type": "code",
   "execution_count": null,
   "metadata": {},
   "outputs": [],
   "source": [
    "path = '/Users/hkromer/02_PhD/02_Data/13.new_chamber/DATA/emitting_spot_size_2020-02-04/'\n",
    "DAY = \"2020-02-04\"\n",
    "\n",
    "data_dose = pd.read_csv(f'{path}/2020-02-07_dose.csv', index_col=0)\n",
    "data_dose.index = pd.to_datetime(data_dose.index)\n",
    "\n",
    "data_hv = pd.read_csv(f'{path}/2020-02-07_hv.csv', index_col=0)\n",
    "data_hv.index = pd.to_datetime(data_hv.index)\n",
    "\n",
    "data_pressure = pd.read_csv(f'{path}/2020-02-07_pressure.csv', index_col=0)\n",
    "data_pressure.index = pd.to_datetime(data_pressure.index)\n",
    "\n",
    "data_reference_full = pd.read_csv(f'{path}/2020-02-07_reference_detectors.csv', index_col=0)\n",
    "data_reference_full.index = pd.to_datetime(data_reference_full.index)\n",
    "\n",
    "data_microwave_power_full = pd.read_csv(f'{path}/2020-02-07_microwave_power.csv', index_col=0)\n",
    "data_microwave_power_full.index = pd.to_datetime(data_microwave_power_full.index)\n",
    "\n",
    "data_microwave_frequency_full = pd.read_csv(f'{path}/2020-02-07_microwave_frequency.csv', index_col=0)\n",
    "data_microwave_frequency_full.index = pd.to_datetime(data_microwave_frequency_full.index)\n"
   ]
  },
  {
   "cell_type": "code",
   "execution_count": null,
   "metadata": {},
   "outputs": [],
   "source": [
    "fig, ax = plt.subplots(figsize=(10,4))\n",
    "sns.set()\n",
    "sns.set_context(\"notebook\", font_scale=1.5, rc={\"lines.linewidth\": 2.5})\n",
    "sns.lineplot(x=data_dose.index, y='dose_corrected', data=data_dose, ax=ax, color='darkblue')\n",
    "\n",
    "ax.xaxis.set_major_formatter(md.DateFormatter('%H:%M'))\n",
    "ax.set_ylabel('Dose [muSv/hr]')\n",
    "ax.set_xlabel(f'Time, {DAY}')\n",
    "plt.show()\n",
    "\n",
    "fig, ax = plt.subplots(figsize=(10,4))\n",
    "sns.set()\n",
    "sns.set_context(\"notebook\", font_scale=1.5, rc={\"lines.linewidth\": 2.5})\n",
    "sns.lineplot(x=data_hv.index, y='HV_voltage', data=data_hv, ax=ax, color='darkred')\n",
    "\n",
    "ax.xaxis.set_major_formatter(md.DateFormatter('%H:%M'))\n",
    "ax.set_ylabel('HV V [kV]')\n",
    "ax.set_xlabel(f'Time, {DAY}')\n",
    "plt.show()\n",
    "\n",
    "fig, ax = plt.subplots(figsize=(10,4))\n",
    "sns.set()\n",
    "sns.set_context(\"notebook\", font_scale=1.5, rc={\"lines.linewidth\": 2.5})\n",
    "sns.lineplot(x=data_hv.index, y='HV_current', data=data_hv, ax=ax, color='darkorange')\n",
    "\n",
    "ax.xaxis.set_major_formatter(md.DateFormatter('%H:%M'))\n",
    "ax.set_ylabel('HV I [mA] (incl. leakage)')\n",
    "ax.set_xlabel(f'Time, {DAY}')\n",
    "plt.show()\n",
    "\n",
    "fig, ax = plt.subplots(figsize=(10,4))\n",
    "sns.set()\n",
    "sns.set_context(\"notebook\", font_scale=1.5, rc={\"lines.linewidth\": 2.5})\n",
    "sns.lineplot(x=data_reference_full.index, y='sum_counts', data=data_reference_full, ax=ax, color='darkgreen')\n",
    "\n",
    "ax.xaxis.set_major_formatter(md.DateFormatter('%H:%M'))\n",
    "ax.set_ylabel('Counts in reference \\n detectors [1/(30s)]')\n",
    "ax.set_xlabel(f'Time, {DAY}')\n",
    "plt.show()"
   ]
  },
  {
   "cell_type": "markdown",
   "metadata": {},
   "source": [
    "#### Select only relevant time"
   ]
  },
  {
   "cell_type": "code",
   "execution_count": null,
   "metadata": {},
   "outputs": [],
   "source": [
    "start = \"2020-02-04 11:54:00\"\n",
    "end = \"2020-02-04 20:00:00\"\n",
    "\n",
    "data_dose_s = data_dose.loc[start:end, ]\n",
    "data_hv_s = data_hv.loc[start:end, ]\n",
    "data_reference_s = data_reference_full.loc[start:end, ]\n"
   ]
  },
  {
   "cell_type": "markdown",
   "metadata": {},
   "source": [
    "### Counts in emitting spot size detector"
   ]
  },
  {
   "cell_type": "code",
   "execution_count": null,
   "metadata": {},
   "outputs": [],
   "source": [
    "# tungsten counts\n",
    "fname = '/Users/hkromer/02_PhD/02_Data/13.new_chamber/2020-02-04.EmittingSpot_130kV/2020-02-04_readout.csv'\n",
    "data_ess = pd.read_csv(fname, index_col='time')\n",
    "data_ess = data_ess[['readtime', 'value']]\n",
    "data_ess.index = pd.to_datetime(data_ess.index)\n",
    "# background measurement use the one from the day before\n",
    "fname = '/Users/hkromer/02_PhD/02_Data/13.new_chamber/2020-01-30.EmittingSpot.Leadshield/2020-01-31_readout.csv'\n",
    "data_ess_BG = pd.read_csv(fname, index_col='time')\n",
    "data_ess_BG = data_ess_BG[['readtime', 'value']]\n",
    "data_ess_BG.index = pd.to_datetime(data_ess_BG.index)\n",
    "data_ess_BG.info()"
   ]
  },
  {
   "cell_type": "markdown",
   "metadata": {},
   "source": [
    "#### Background correction of emitting spot size detector and reference detector"
   ]
  },
  {
   "cell_type": "code",
   "execution_count": null,
   "metadata": {},
   "outputs": [],
   "source": [
    "start_BG = \"2020-01-30 20:00:00\"\n",
    "end_BG = \"2020-01-31 08:00:00\"\n",
    "\n",
    "data_ess_BG = data_ess_BG.loc[start_BG:end_BG, ]\n",
    "fig, ax = plt.subplots(figsize=(10,4))\n",
    "sns.set()\n",
    "sns.set_context(\"notebook\", font_scale=1.5, rc={\"lines.linewidth\": 2.5})\n",
    "sns.lineplot(x=data_ess_BG.index, y='value', data=data_ess_BG, ax=ax)\n",
    "\n",
    "ax.xaxis.set_major_formatter(md.DateFormatter('%H:%M'))\n",
    "ax.set_ylabel('Counts in ess detector, BG')\n",
    "ax.set_xlabel(f'Time, 2020-01-31')\n",
    "plt.show()\n",
    "print(f\"Mean background counts per 30 s interval: {data_ess_BG.value.mean()} 1/(30s)\")\n",
    "counting_time = data_ess_BG['readtime'].value_counts().index[0]/1000\n",
    "counts_per_s_BG = data_ess_BG.value.mean()/counting_time\n",
    "print(f\"Mean background counts per second: {counts_per_s_BG} 1/s\")\n",
    "print(f\"Total counts: {data_ess_BG.value.sum()}\")\n",
    "timedelta = data_ess_BG.index[-1]-data_ess_BG.index[0] \n",
    "print(f\"Total time duration: {timedelta}\")\n",
    "print(f\"Total time duration: {timedelta.seconds} s\")\n",
    "print(f\"Total meas positions expected in that time: {timedelta.seconds/counting_time} \")\n",
    "print(f\"Total measurement points: {data_ess_BG.shape}\")\n",
    "counts_per_s_BG_agg = data_ess_BG.value.sum()/timedelta.seconds\n",
    "print(f\"Total counts per time duration: {counts_per_s_BG_agg} 1/s\")"
   ]
  },
  {
   "cell_type": "code",
   "execution_count": null,
   "metadata": {},
   "outputs": [],
   "source": [
    "data_reference_full_BG = pd.read_csv(f'/Users/hkromer/02_PhD/02_Data/13.new_chamber/DATA/emitting_spot_size_2020-01-31//2020-02-07_reference_detectors.csv', index_col=0)\n",
    "data_reference_full_BG.index = pd.to_datetime(data_reference_full_BG.index)\n",
    "start_BG = \"2020-01-30 20:00:00\"\n",
    "end_BG = \"2020-01-31 07:55:00\"\n",
    "\n",
    "data_ref_BG = data_reference_full_BG.loc[start_BG:end_BG, ]\n",
    "fig, ax = plt.subplots(figsize=(10,4))\n",
    "sns.set()\n",
    "sns.set_context(\"notebook\", font_scale=1.5, rc={\"lines.linewidth\": 2.5})\n",
    "sns.lineplot(x=data_ref_BG.index, y='sum_counts', data=data_ref_BG, ax=ax)\n",
    "\n",
    "ax.xaxis.set_major_formatter(md.DateFormatter('%H:%M'))\n",
    "ax.set_ylabel('Counts in reference detector, BG')\n",
    "ax.set_xlabel(f'Time, 2020-01-31')\n",
    "plt.show()\n",
    "\n",
    "print(f\"Mean background counts per 30 s interval: {data_ref_BG.sum_counts.mean()} 1/(30s)\")\n",
    "ref_counting_time = data_ref_BG['ard_time'].value_counts().index[0]/1000\n",
    "ref_counts_per_s_BG = data_ref_BG.sum_counts.mean()/counting_time\n",
    "print(f\"Mean background counts per second: {ref_counts_per_s_BG} 1/s\")\n",
    "print(f\"Total counts: {data_ref_BG.sum_counts.sum()}\")\n",
    "timedelta = data_ref_BG.index[-1]-data_ref_BG.index[0] \n",
    "print(f\"Total time duration: {timedelta}\")\n",
    "print(f\"Total time duration: {timedelta.seconds} s\")\n",
    "print(f\"Total meas positions expected in that time: {timedelta.seconds/counting_time} \")\n",
    "print(f\"Total measurement points: {data_ref_BG.shape}\")\n",
    "ref_counts_per_s_BG_agg = data_ref_BG.sum_counts.sum()/timedelta.seconds\n",
    "print(f\"Total counts per time duration: {ref_counts_per_s_BG_agg} 1/s\")"
   ]
  },
  {
   "cell_type": "markdown",
   "metadata": {},
   "source": [
    "### Tungsten edge position"
   ]
  },
  {
   "cell_type": "code",
   "execution_count": null,
   "metadata": {},
   "outputs": [],
   "source": [
    "fname = '/Users/hkromer/02_PhD/02_Data/13.new_chamber/2020-02-04.EmittingSpotSize.xlsx' \n",
    "data_pos = pd.read_excel(fname, header=4)\n",
    "data_pos = data_pos[['Time', 'Time.1', 'edge_pos']]\n",
    "data_pos = data_pos.iloc[2:,:] # clear rows at beginning and end\n",
    "data_pos['edge_pos'] = data_pos['edge_pos'].astype(np.float64)\n",
    "data_pos['Time'] = data_pos['Time'].apply(lambda x: f'2020-02-04 {x}')\n",
    "data_pos = data_pos.dropna()\n",
    "data_pos['Time.1'] = data_pos['Time.1'].apply(lambda x: f'2020-02-04 {x}')\n",
    "data_pos['Time'] = pd.to_datetime(data_pos['Time'])\n",
    "data_pos['Time.1'] = pd.to_datetime(data_pos['Time.1'])\n",
    "\n",
    "data_pos.reset_index(inplace=True, drop=True)\n",
    "data_pos = data_pos.rename(columns={'Time': 'time_start', 'Time.1': 'time_stop'})\n"
   ]
  },
  {
   "cell_type": "markdown",
   "metadata": {},
   "source": [
    "## Clean dose and ref counts"
   ]
  },
  {
   "cell_type": "code",
   "execution_count": null,
   "metadata": {},
   "outputs": [],
   "source": [
    "data_dose_s_temp = data_dose_s\n",
    "# data_dose_s_temp['dose_corrected'] = data_dose_s_temp['dose_corrected'].rolling(100, win_type='gaussian').mean(std=10)\n",
    "data_dose_s_temp = data_dose_s_temp[data_dose_s_temp['dose_corrected'] > 1200]\n",
    "fig, ax = plt.subplots(figsize=(10,4))\n",
    "sns.set()\n",
    "sns.set_context(\"notebook\", font_scale=1.5, rc={\"lines.linewidth\": 2.5})\n",
    "data_plot_t = data_dose_s_temp # .loc[\"2020-02-04 14:00:00\":\"2020-02-04 15:00:00\",:]\n",
    "sns.lineplot(x=data_plot_t.index, y='dose_corrected', data=data_plot_t, ax=ax, color='darkblue')\n",
    "data_plot = data_dose_s # .loc[\"2020-02-04 14:00:00\":\"2020-02-04 15:00:00\",:]\n",
    "sns.lineplot(x=data_plot.index, y='dose_corrected', data=data_plot, ax=ax, color='darkred', alpha=0.5)\n",
    "\n",
    "ax.xaxis.set_major_formatter(md.DateFormatter('%H:%M'))\n",
    "ax.set_ylabel('Dose [muSv/hr]')\n",
    "ax.set_xlabel(f'Time, {DAY}')\n",
    "plt.show()\n"
   ]
  },
  {
   "cell_type": "markdown",
   "metadata": {},
   "source": [
    "## Some plots - database"
   ]
  },
  {
   "cell_type": "code",
   "execution_count": null,
   "metadata": {},
   "outputs": [],
   "source": [
    "\n",
    "fig, ax = plt.subplots(figsize=(10,4))\n",
    "sns.set()\n",
    "sns.set_context(\"notebook\", font_scale=1.5, rc={\"lines.linewidth\": 2.5})\n",
    "sns.lineplot(x=data_hv_s.index, y='HV_voltage', data=data_hv_s, ax=ax, color='darkred')\n",
    "\n",
    "ax.xaxis.set_major_formatter(md.DateFormatter('%H:%M'))\n",
    "ax.set_ylabel('HV V [kV]')\n",
    "ax.set_xlabel(f'Time, {DAY}')\n",
    "plt.show()\n",
    "\n",
    "fig, ax = plt.subplots(figsize=(10,4))\n",
    "sns.set()\n",
    "sns.set_context(\"notebook\", font_scale=1.5, rc={\"lines.linewidth\": 2.5})\n",
    "sns.lineplot(x=data_hv_s.index, y='HV_current', data=data_hv_s, ax=ax, color='darkorange')\n",
    "\n",
    "ax.xaxis.set_major_formatter(md.DateFormatter('%H:%M'))\n",
    "ax.set_ylabel('HV I [mA] (incl. leakage)')\n",
    "ax.set_xlabel(f'Time, {DAY}')\n",
    "plt.show()\n",
    "\n",
    "fig, ax = plt.subplots(figsize=(10,4))\n",
    "sns.set()\n",
    "sns.set_context(\"notebook\", font_scale=1.5, rc={\"lines.linewidth\": 2.5})\n",
    "sns.lineplot(x=data_reference_s.index, y='sum_counts', data=data_reference_s, ax=ax, color='darkgreen')\n",
    "\n",
    "ax.xaxis.set_major_formatter(md.DateFormatter('%H:%M'))\n",
    "ax.set_ylabel('Counts in reference \\n detectors [1/(30s)]')\n",
    "ax.set_xlabel(f'Time, {DAY}')\n",
    "plt.show()"
   ]
  },
  {
   "cell_type": "markdown",
   "metadata": {},
   "source": [
    "## ESS"
   ]
  },
  {
   "cell_type": "code",
   "execution_count": null,
   "metadata": {},
   "outputs": [],
   "source": [
    "fig, ax = plt.subplots(figsize=(10,4))\n",
    "sns.set()\n",
    "sns.set_context(\"notebook\", font_scale=1.5, rc={\"lines.linewidth\": 2.5})\n",
    "sns.lineplot(x=data_ess.index, y='value', data=data_ess, ax=ax, color='red')\n",
    "\n",
    "ax.xaxis.set_major_formatter(md.DateFormatter('%H:%M'))\n",
    "ax.set_ylabel('Counts in ess \\n detectors [1/(30s)]')\n",
    "ax.set_xlabel(f'Time, {DAY}')\n",
    "plt.show()"
   ]
  },
  {
   "cell_type": "markdown",
   "metadata": {},
   "source": [
    "# Extract data for each tungsten position"
   ]
  },
  {
   "cell_type": "markdown",
   "metadata": {},
   "source": [
    "### Tungsten edge position"
   ]
  },
  {
   "cell_type": "code",
   "execution_count": null,
   "metadata": {},
   "outputs": [],
   "source": [
    "fname = '/Users/hkromer/02_PhD/02_Data/13.new_chamber/2020-02-04.EmittingSpotSize.xlsx' \n",
    "data_pos = pd.read_excel(fname, header=4)\n",
    "data_pos = data_pos[['Time', 'Time.1', 'edge_pos']]\n",
    "data_pos = data_pos.iloc[2:,:] # clear rows at beginning and end\n",
    "data_pos['edge_pos'] = data_pos['edge_pos'].astype(np.float64)\n",
    "data_pos['Time'] = data_pos['Time'].apply(lambda x: f'2020-02-04 {x}')\n",
    "data_pos = data_pos.dropna()\n",
    "data_pos['Time.1'] = data_pos['Time.1'].apply(lambda x: f'2020-02-04 {x}')\n",
    "data_pos['Time'] = pd.to_datetime(data_pos['Time'])\n",
    "data_pos['Time.1'] = pd.to_datetime(data_pos['Time.1'])\n",
    "\n",
    "data_pos.reset_index(inplace=True, drop=True)\n",
    "data_pos = data_pos.rename(columns={'Time': 'time_start', 'Time.1': 'time_stop'})\n",
    "\n"
   ]
  },
  {
   "cell_type": "markdown",
   "metadata": {},
   "source": [
    "## Adjustments"
   ]
  },
  {
   "cell_type": "code",
   "execution_count": null,
   "metadata": {},
   "outputs": [],
   "source": [
    "# drop errorenous col\n",
    "# data_pos.loc[data_pos['time_start'] > \"2020-02-04 19:13:00\"]\n",
    "data_pos = data_pos.drop(55).reset_index(drop=True)\n",
    "data_pos.tail(10)"
   ]
  },
  {
   "cell_type": "code",
   "execution_count": null,
   "metadata": {},
   "outputs": [],
   "source": [
    "# # replace in t0\n",
    "# dict_replace = {\n",
    "#     pd.Timestamp('2020-01-31 13:52:00'): pd.Timestamp('2020-01-31 13:52:30'),\n",
    "#     pd.Timestamp('2020-01-31 14:26:00'): pd.Timestamp('2020-01-31 14:28:00')\n",
    "    \n",
    "# }\n",
    "# data_pos['t0'] = data_pos['t0'].replace(dict_replace)\n",
    "\n",
    "# # replace in t1\n",
    "# dict_replace = {\n",
    "#     pd.Timestamp('2020-01-31 08:45:00'): pd.Timestamp('2020-01-31 08:43:00'),\n",
    "#     pd.Timestamp('2020-01-31 13:36:00'): pd.Timestamp('2020-01-31 13:35:00')\n",
    "# }\n",
    "# data_pos['t1'] = data_pos['t1'].replace(dict_replace)"
   ]
  },
  {
   "cell_type": "code",
   "execution_count": null,
   "metadata": {},
   "outputs": [],
   "source": [
    "# remove first last time\n",
    "\n",
    "# loop through edge position\n",
    "ii = 0\n",
    "for ii in range(0,data_pos.shape[0]):\n",
    "\n",
    "    # get the beginning and end time, t0 and t1\n",
    "    t0 = data_pos.iloc[ii, :].loc['time_start']\n",
    "    t1 = data_pos.iloc[ii, :].loc['time_stop']\n",
    "    pos = data_pos.iloc[ii, :].loc['edge_pos'] # mm\n",
    "    ess_counts = data_ess[(data_ess.index > t0) & (data_ess.index < t1)].loc[:,'value']\n",
    "\n",
    "    counts_max = ess_counts.max()\n",
    "    counts_min = ess_counts.min()\n",
    "    counts_std = ess_counts.std()\n",
    "    \n",
    "    if len(ess_counts)>0:\n",
    "\n",
    "        print(f\"{counts_max:.2f}, {counts_min:.2f}, {counts_std:.2f}\")\n",
    "        # check the counts in the ess detector, when not significantly change\n",
    "        fig, ax = plt.subplots(figsize=(8,3))\n",
    "        sns.set()\n",
    "        sns.set_context(\"notebook\", font_scale=1.5, rc={\"lines.linewidth\": 2.5})\n",
    "        sns.lineplot(x=ess_counts.index, y=ess_counts, ax=ax)\n",
    "        ax.xaxis.set_major_formatter(md.DateFormatter('%H:%M'))\n",
    "        ax.set_ylabel('Counts in ess \\n detectors [1/(30s)]')\n",
    "        ax.set_xlabel(f'Time, {DAY}')\n",
    "        plt.title(f\"{t0} \\n {t1}\")\n",
    "        plt.show()\n",
    "    else:\n",
    "        print(f\"No data for ii {ii} t0 {t0} t1 {t1}\")\n",
    "\n"
   ]
  },
  {
   "cell_type": "code",
   "execution_count": null,
   "metadata": {},
   "outputs": [],
   "source": [
    "def get_total_counts(t0, t1, pos):\n",
    "    # total counts counts in the ess detector\n",
    "\n",
    "    data_ess_counts = pd.DataFrame(data_ess[(data_ess.index >= t0) & (data_ess.index <= t1)].loc[:,'value'])\n",
    "    if len(data_ess_counts) > 0:\n",
    "\n",
    "        # counting time in the ess in seconds\n",
    "        ess_time = (data_ess_counts.index[-1]-data_ess_counts.index[0]).seconds\n",
    "        ess_counts = data_ess_counts['value'].sum()\n",
    "        # background counts during this time interval\n",
    "        ess_bg_counts = counts_per_s_BG_agg * ess_time\n",
    "        # background corrected counts\n",
    "        ess_counts_bg_corr = ess_counts - ess_bg_counts\n",
    "        # background corrected cps in ess\n",
    "        ess_cps = ess_counts_bg_corr / ess_time\n",
    "        \n",
    "        t1 = data_ess_counts.index[-1]\n",
    "        t0 = data_ess_counts.index[0]\n",
    "        \n",
    "        # reference detector counts in that interval\n",
    "        ref_data = data_reference_s[(data_reference_s.index >= t0) & (data_reference_s.index <= t1)]\n",
    "        if len(ref_data) > 0:\n",
    "            ref_total_counts = ref_data.loc[:, 'sum_counts'].sum()\n",
    "            # reference detector counting time\n",
    "            ref_total_time = (ref_data.index[-1]-ref_data.index[0]).seconds\n",
    "            # correct reference count using its background\n",
    "            ref_bg_counts = ref_counts_per_s_BG_agg * ref_total_time\n",
    "            # correct the reference counts with the background counts\n",
    "            ref_counts_bg_corr = ref_total_counts - ref_bg_counts\n",
    "            # background corrected cps in reference\n",
    "            ref_cps = ref_counts_bg_corr / ref_total_time\n",
    "            \n",
    "            fig, ax = plt.subplots(figsize=(8,3))\n",
    "            sns.set()\n",
    "            sns.set_context(\"notebook\", font_scale=1.5, rc={\"lines.linewidth\": 2.5})\n",
    "            sns.lineplot(x=ref_data.index, y=ref_data['sum_counts'], ax=ax)\n",
    "            ax.xaxis.set_major_formatter(md.DateFormatter('%H:%M'))\n",
    "            ax.set_ylabel('Counts in ref \\n detectors [1/(30s)]')\n",
    "            ax.set_xlabel(f'Time, {DAY}')\n",
    "            plt.title(f\"{t0} \\n {t1}\")\n",
    "            plt.show()\n",
    "        else:\n",
    "            ref_cps = 1\n",
    "            ref_total_counts = 1\n",
    "            ref_total_time = 1\n",
    "        \n",
    "        # normalized ess cps (with reference counts)\n",
    "        ess_cps_norm_ref = ess_cps / ref_cps\n",
    "        \n",
    "        # average dose\n",
    "        avg_dose = data_dose[(data_dose.index >= t0) & (data_dose.index <= t1)].loc[:, 'dose_corrected'].mean()\n",
    "        \n",
    "        # counts normalized by average dose\n",
    "        ess_cps_norm_dose = ess_cps / avg_dose\n",
    "        s = pd.Series(\n",
    "            [t0, t1, pos, ess_counts, ess_time,  \n",
    "             ess_counts_bg_corr, ref_total_counts, ref_total_time, ess_cps, ref_cps, ess_cps_norm_ref, avg_dose, ess_cps_norm_dose], \n",
    "            index=['t0', 't1', 'pos', 'ess_total_counts', 'ess_total_time', \n",
    "                   'ess_counts_bg_corr', 'ref_total_counts', 'ref_total_time', 'ess_cps', 'ref_cps', 'ess_cps_norm_ref', 'avg_dose', 'ess_cps_norm_dose']\n",
    "        )\n",
    "        return s\n",
    "    else:\n",
    "        print(f\"No data for t0 {t0}, t1 {t1}, pos {pos})\")\n",
    "        return None\n",
    "# get total counts in the ess in that interval\n",
    "# correct with the background (times measurement time)\n",
    "\n",
    "# get dose in that time interval\n",
    "# get reference counts in that time interval\n",
    "data_result = data_pos.apply(lambda x: get_total_counts(x['time_start'], x['time_stop'], x['edge_pos']), axis=1)\n",
    "\n",
    "data_result"
   ]
  },
  {
   "cell_type": "markdown",
   "metadata": {},
   "source": [
    "## Predict the reference counts from the dose where missing"
   ]
  },
  {
   "cell_type": "code",
   "execution_count": null,
   "metadata": {},
   "outputs": [],
   "source": [
    "def resample_30_seconds(df, cols, range_start, range_end):\n",
    "    \"\"\"\n",
    "    Takes the a grouped df (grouped by day) and resamples the columns cols in 10s\n",
    "    OUTPUT:\n",
    "        - dataframe\n",
    "    \"\"\"\n",
    "\n",
    "    d = {}\n",
    "\n",
    "    s = pd.date_range(start=range_start, end=range_end, freq='30S')\n",
    "    df_out = pd.DataFrame(pd.Series(s, name='time')).set_index('time')\n",
    "    for col in cols:\n",
    "        d[col] = df[col].resample('30S').mean()\n",
    "\n",
    "    this_d = pd.DataFrame(d)\n",
    "\n",
    "    df_out = df_out.merge(this_d, left_on=df_out.index, right_on=this_d.index, how='outer')\n",
    "    df_out = df_out.set_index('key_0')\n",
    "    \n",
    "    return df_out"
   ]
  },
  {
   "cell_type": "code",
   "execution_count": null,
   "metadata": {},
   "outputs": [],
   "source": [
    "t0 = data_dose_s.index[0]\n",
    "t1 = data_dose_s.index[-1]\n",
    "data_res_dose = resample_30_seconds(data_dose_s, ['dose_corrected'], t0, t1)\n",
    "data_res_dose.index.name = 'time'\n",
    "\n",
    "\n",
    "data_res_ref = resample_30_seconds(data_reference_s, ['sum_counts'], t0, t1)\n",
    "data_res_ref.index.name = 'time'\n",
    "\n",
    "data_res_dose = data_res_dose.loc[:\"2020-02-04 19:49:00\"]\n",
    "data_res_ref = data_res_ref.loc[:\"2020-02-04 19:49:00\"]\n",
    "\n",
    "for time in data_res_dose.index:\n",
    "    if time not in data_res_ref.index:\n",
    "        print(time)\n",
    "\n",
    "for time in data_res_ref.index:\n",
    "    if time not in data_res_dose.index:\n",
    "        print(time)\n",
    "        "
   ]
  },
  {
   "cell_type": "code",
   "execution_count": null,
   "metadata": {},
   "outputs": [],
   "source": [
    "fig, ax = plt.subplots(figsize=(10,5))\n",
    "sns.set()\n",
    "sns.set_context(\"notebook\", font_scale=1.5, rc={\"lines.linewidth\": 2.5})\n",
    "sns.scatterplot(x=data_res_dose['dose_corrected'].values, y=data_res_ref['sum_counts'].values, ax=ax, s=80)\n",
    "\n",
    "ax.set_ylabel('ref detector counts')\n",
    "ax.set_xlabel(f'dose')\n",
    "plt.xlim(1300, 1750)\n",
    "plt.show()"
   ]
  },
  {
   "cell_type": "code",
   "execution_count": null,
   "metadata": {},
   "outputs": [],
   "source": [
    "import numpy as np\n",
    "from sklearn.linear_model import LinearRegression\n",
    "from sklearn.metrics import mean_squared_error, r2_score\n",
    "\n",
    "# average readout time for reference detector\n",
    "ref_readout_time = data_reference_full['ard_time'].value_counts().index[0]/1000\n",
    "\n",
    "# remove nans from X and y\n",
    "X = data_res_dose['dose_corrected'].values # select only between 1350 and 1750 muSv/h\n",
    "y = data_res_ref['sum_counts'].values # select only between 8000 and 13000 counts\n",
    "\n",
    "X_nan = np.isnan(X)\n",
    "X = X[~X_nan] \n",
    "y = y[~X_nan] \n",
    "\n",
    "y_nan = np.isnan(y)\n",
    "X = X[~y_nan] \n",
    "y = y[~y_nan] \n",
    "\n",
    "# convert y to cps instead of cp(30s)\n",
    "y = y / ref_readout_time\n",
    "\n",
    "X_train = X.reshape(-1,1)\n",
    "y_train = y.reshape(-1,1)\n",
    "\n",
    "\n",
    "\n",
    "reg = LinearRegression().fit(X_train, y_train)\n",
    "# intercept\n",
    "c = reg.intercept_[0]\n",
    "# slope\n",
    "m = reg.coef_[0]\n",
    "X_fit = np.arange(1350,1750+1,1).reshape(-1,1)\n",
    "y_fit = reg.predict(X_fit).reshape(-1)\n",
    "X_fit = X_fit.reshape(-1)\n",
    "\n",
    "fig, ax = plt.subplots(figsize=(10,5))\n",
    "sns.set()\n",
    "sns.set_context(\"notebook\", font_scale=1.5, rc={\"lines.linewidth\": 2.5})\n",
    "sns.scatterplot(x=X, y=y, ax=ax, s=80)\n",
    "sns.lineplot(x=X_fit, y=y_fit, ax=ax, color='red', label='fit')\n",
    "\n",
    "ax.set_ylabel('ref detector cps [1/s]')\n",
    "ax.set_xlabel(f'Dose [muSv/hr]')\n",
    "plt.xlim(1300, 1750)\n",
    "plt.show()\n",
    "# coefficient of determination R^2 \n",
    "reg.score(X_train, y_train)"
   ]
  },
  {
   "cell_type": "code",
   "execution_count": null,
   "metadata": {},
   "outputs": [],
   "source": [
    "reg.predict([[1550]]).reshape(-1)[0]"
   ]
  },
  {
   "cell_type": "markdown",
   "metadata": {},
   "source": [
    "### Predict the total number of counts, use t0 and t1 as the time"
   ]
  },
  {
   "cell_type": "code",
   "execution_count": null,
   "metadata": {},
   "outputs": [],
   "source": [
    "# results subset without reference detector data\n",
    "data_wo_ref = data_result[data_result['ref_total_counts'] == 1]\n",
    "\n",
    "def predict_ref_counts(row, reg):\n",
    "    \"\"\" \n",
    "    Predicts the reference counts based on the regressor reg and a row.\n",
    "    \"\"\"\n",
    "    t0 = row['t0']\n",
    "    t1 = row['t1'] \n",
    "    # to predict the total number of counts, approximate by the seconds that the ess detector was counting\n",
    "    t_diff = (t1-t0).seconds\n",
    "    # average dose in muSv/hr\n",
    "    avg_dose = row['avg_dose']\n",
    "    \n",
    "    # predicted cps in reference detector\n",
    "    pred_ref_cps = reg.predict([[avg_dose]]).reshape(-1)[0]\n",
    "    \n",
    "    # predicted cps in reference detector background correction\n",
    "    pred_ref_cps_total = pred_ref_cps - ref_counts_per_s_BG_agg \n",
    "    \n",
    "    return pd.Series(\n",
    "                        [t_diff, pred_ref_cps, pred_ref_cps_total],\n",
    "        index=[\"pred_ref_time\", \"pred_ref_cps\", \"pred_ref_cps_total\"]\n",
    "                    )\n",
    "\n",
    "a = data_result.apply(lambda x: predict_ref_counts(x, reg), axis=1)\n",
    "data_result_pred = data_result.merge(a, on=data_result.index).drop('key_0', axis=1)\n",
    "data_result_pred.head()"
   ]
  },
  {
   "cell_type": "markdown",
   "metadata": {},
   "source": [
    "## Visualize the ess"
   ]
  },
  {
   "cell_type": "code",
   "execution_count": null,
   "metadata": {},
   "outputs": [],
   "source": [
    "# normalize by the max \n",
    "edge_fully_out = data_result[data_result['pos'] == 24].loc[:,'ess_cps_norm_ref'].values.mean()\n",
    "data_result['ess_cps_norm_ref_scaled'] = data_result['ess_cps_norm_ref']/edge_fully_out\n",
    "\n",
    "edge_fully_out = data_result[data_result['pos'] == 24].loc[:,'ess_cps_norm_dose'].values.mean()\n",
    "data_result['ess_cps_norm_dose_scaled'] = data_result['ess_cps_norm_dose']/edge_fully_out\n"
   ]
  },
  {
   "cell_type": "code",
   "execution_count": null,
   "metadata": {},
   "outputs": [],
   "source": [
    "# predicted ref used for the normalization\n",
    "data_result_pred['ess_cps_norm_ref_pred'] = data_result_pred['ess_cps'] / data_result_pred['pred_ref_cps_total']\n",
    "# normalize by the max \n",
    "edge_fully_out = data_result_pred[data_result_pred['pos'] == 24].loc[:,'ess_cps_norm_ref_pred'].values.mean()\n",
    "data_result_pred['ess_cps_norm_ref_pred_scaled'] = data_result_pred['ess_cps_norm_ref_pred']/edge_fully_out"
   ]
  },
  {
   "cell_type": "markdown",
   "metadata": {},
   "source": [
    "### Use ONLY the predicted cps in the reference detectors"
   ]
  },
  {
   "cell_type": "code",
   "execution_count": null,
   "metadata": {},
   "outputs": [],
   "source": [
    "fig, ax = plt.subplots(figsize=(10,5))\n",
    "sns.set()\n",
    "sns.set_context(\"notebook\", font_scale=1.5, rc={\"lines.linewidth\": 2.5})\n",
    "sns.scatterplot(x='pos', y='ess_cps_norm_ref_pred_scaled', data=data_result_pred, ax=ax, s=80)\n",
    "\n",
    "ax.set_ylabel('ESS cps normalized \\n with predicted reference detectors')\n",
    "ax.set_xlabel(f'Edge position [mm]')\n",
    "\n",
    "plt.show()"
   ]
  },
  {
   "cell_type": "markdown",
   "metadata": {},
   "source": [
    "### Use the predictions only where no reference detector data was available"
   ]
  },
  {
   "cell_type": "code",
   "execution_count": null,
   "metadata": {},
   "outputs": [],
   "source": [
    "data_result_pred.head()"
   ]
  },
  {
   "cell_type": "code",
   "execution_count": null,
   "metadata": {},
   "outputs": [],
   "source": [
    "data_result_pred['ref_cps_pred'] = data_result_pred['ref_cps']\n",
    "data_result_pred.loc[data_result_pred['ref_cps_pred'] == 1, 'ref_cps_pred'] = data_result_pred.loc[data_result_pred['ref_cps_pred'] == 1, 'pred_ref_cps_total']"
   ]
  },
  {
   "cell_type": "code",
   "execution_count": null,
   "metadata": {},
   "outputs": [],
   "source": [
    "# predicted ref used for the normalization, only where the ref was missing\n",
    "data_result_pred['ess_cps_norm_ref_pred_hybrid'] = data_result_pred['ess_cps'] / data_result_pred['ref_cps_pred']\n",
    "# normalize by the max \n",
    "edge_fully_out = data_result_pred[data_result_pred['pos'] == 24].loc[:,'ess_cps_norm_ref_pred_hybrid'].values.mean()\n",
    "data_result_pred['ess_cps_norm_ref_pred_hybrid_scaled'] = data_result_pred['ess_cps_norm_ref_pred_hybrid']/edge_fully_out\n",
    "data_result_pred.head()"
   ]
  },
  {
   "cell_type": "code",
   "execution_count": null,
   "metadata": {},
   "outputs": [],
   "source": [
    "\n",
    "fig, ax = plt.subplots(figsize=(10,5))\n",
    "sns.set()\n",
    "sns.set_context(\"notebook\", font_scale=1.5, rc={\"lines.linewidth\": 2.5})\n",
    "sns.scatterplot(x='pos', y='ess_cps_norm_ref_pred_hybrid_scaled', data=data_result_pred, ax=ax, s=80)\n",
    "\n",
    "ax.set_ylabel('ESS cps normalized \\n with ref. detectors \\n predicted where missing')\n",
    "ax.set_xlabel(f'Edge position [mm]')\n",
    "\n",
    "plt.show()"
   ]
  },
  {
   "cell_type": "code",
   "execution_count": null,
   "metadata": {},
   "outputs": [],
   "source": [
    "# ess_cps_norm_ref_scaled\n",
    "data_result_pred_t = data_result_pred\n",
    "data_result_pred_t = data_result_pred_t[data_result_pred_t['ess_cps_norm_ref_scaled'] < 10]\n",
    "fig, ax = plt.subplots(figsize=(10,5))\n",
    "sns.set()\n",
    "sns.set_context(\"notebook\", font_scale=1.5, rc={\"lines.linewidth\": 2.5})\n",
    "sns.scatterplot(x='pos', y='ess_cps_norm_ref_scaled', data=data_result_pred_t, ax=ax, s=80)\n",
    "\n",
    "ax.set_ylabel('ESS cps normalized \\n with ref. detectors ')\n",
    "ax.set_xlabel(f'Edge position [mm]')\n",
    "\n",
    "plt.show()"
   ]
  },
  {
   "cell_type": "markdown",
   "metadata": {},
   "source": [
    "## Use the average dose to normalize"
   ]
  },
  {
   "cell_type": "code",
   "execution_count": null,
   "metadata": {},
   "outputs": [],
   "source": [
    "fig, ax = plt.subplots(figsize=(10,5))\n",
    "sns.set()\n",
    "sns.set_context(\"notebook\", font_scale=1.5, rc={\"lines.linewidth\": 2.5})\n",
    "sns.scatterplot(x='pos', y='ess_cps_norm_dose_scaled', data=data_result, ax=ax, s=80)\n",
    "\n",
    "ax.set_ylabel('ESS cps normalized \\n with average dose')\n",
    "ax.set_xlabel(f'Edge position [mm]')\n",
    "\n",
    "plt.show()"
   ]
  },
  {
   "cell_type": "markdown",
   "metadata": {},
   "source": [
    "# Continue with reference detector normed and fit ESF"
   ]
  },
  {
   "cell_type": "code",
   "execution_count": null,
   "metadata": {},
   "outputs": [],
   "source": [
    "def get_edge_center(dataframe, metric, thresh_out, thresh_in):\n",
    "    \"\"\"\n",
    "    dataframe: results dataframe,\n",
    "   metric metric by which to chose the centering (earlier analysis)\n",
    "    thresh_out: x positions when the edge was out\n",
    "    thresh_in: x positions when the edge was fully in\n",
    "    \"\"\"\n",
    "#     thresh_out = 21  # edge completely removed\n",
    "#     thresh_in = 15.5  # edge completely in\n",
    "\n",
    "    mu_out = np.mean(dataframe[metric][ dataframe.pos > thresh_out ])\n",
    "    mu_in = np.mean(dataframe[metric][ dataframe.pos < thresh_in ])\n",
    "    print(f'Mean of counts when edge is out: {mu_out}')\n",
    "    print(f'Mean of counts when edge is in: {mu_in}')\n",
    "    \n",
    "\n",
    "    mu_out = np.mean(dataframe[metric][ dataframe.pos > thresh_out ])\n",
    "    mu_in = np.mean(dataframe[metric][ dataframe.pos < thresh_in ])\n",
    "    print(f'Mean of counts when edge is out: {mu_out}')\n",
    "    print(f'Mean of counts when edge is in: {mu_in}')\n",
    "\n",
    "    # linear fit around the middle region\n",
    "    center_estimated = 18.5  # edge pos center estimated in mm\n",
    "    pts_fit = 1  # mm left and right of center to take for fit\n",
    "    x_fit_range1 = center_estimated + pts_fit\n",
    "    x_fit_range2 = center_estimated - pts_fit\n",
    "    def fitfunc(p, x):\n",
    "        return p[0] * x + p[1]\n",
    "    def errfunc(p, x, y):\n",
    "        return fitfunc(p, x) - y # Distance to the fit function\n",
    "\n",
    "    p0 = [1, 1] # Initial guess for the parameters\n",
    "    X_f = dataframe.pos[ (dataframe.pos <= x_fit_range1) & (dataframe.pos >= x_fit_range2) ].values\n",
    "    Y_f = dataframe[metric][ (dataframe.pos <= x_fit_range1) & (dataframe.pos >= x_fit_range2) ].values\n",
    "\n",
    "    p1, success = optimize.leastsq(errfunc, p0[:], args=(X_f, Y_f))\n",
    "    X_fit = np.arange(15.5,21+0.01,0.01)\n",
    "    Y_fit = fitfunc(p1,X_fit)\n",
    "\n",
    "    # this code plots the centering\n",
    "    fig, ax = plt.subplots(figsize=(10,5))\n",
    "    sns.set()\n",
    "    sns.set_context(\"notebook\", font_scale=1.5, rc={\"lines.linewidth\": 2.5})\n",
    "    plt.scatter(dataframe.pos, dataframe[metric])\n",
    "    plt.plot([dataframe.pos.min(), dataframe.pos.max()], [mu_in, mu_in], c='red', label='mu edge in or out')\n",
    "    plt.plot([dataframe.pos.min(), dataframe.pos.max()], [mu_out, mu_out], c='red')\n",
    "\n",
    "    plt.plot(X_fit, Y_fit, c='green', label='linear fit')\n",
    "    plt.xlabel('Edge position [mm]')\n",
    "    plt.ylabel('ESS cps normalized \\n with ref detectors')\n",
    "    plt.grid(True)\n",
    "    plt.legend(loc='best')\n",
    "    plt.show()\n",
    "\n",
    "\n",
    "\n",
    "    # find where the linear fit intersects the mean curved (edge fully in or fully out curve)\n",
    "    def find_nearest(array,value):\n",
    "        idx = (np.abs(array-value)).argmin()\n",
    "        return idx\n",
    "\n",
    "    near_mu = np.array([])  # first entry: edge fully in, second entry: edge fully out in mm edge position\n",
    "    for mu in [mu_in, mu_out]:\n",
    "        idx = find_nearest(Y_fit, mu)\n",
    "        near_mu = np.append(near_mu,X_fit[idx])\n",
    "\n",
    "    # center is in between the two\n",
    "    center = np.mean(near_mu)\n",
    "    print(near_mu)\n",
    "    print(f\"Center point (symmetry) is {center} mm.\")\n",
    "    \n",
    "    return center"
   ]
  },
  {
   "cell_type": "markdown",
   "metadata": {},
   "source": [
    "#### Center for the hybrid approach (reference detectors and where not available predicted from dose)"
   ]
  },
  {
   "cell_type": "code",
   "execution_count": null,
   "metadata": {},
   "outputs": [],
   "source": [
    "thresh_out = 21\n",
    "thresh_in = 15.5\n",
    "metric = 'ess_cps_norm_ref_pred_hybrid_scaled'\n",
    "center = get_edge_center(data_result_pred, metric, thresh_out, thresh_in)\n",
    "data_result_pred['pos_centered_hybrid'] = data_result['pos'] - center\n"
   ]
  },
  {
   "cell_type": "code",
   "execution_count": null,
   "metadata": {},
   "outputs": [],
   "source": [
    "m = [1e-2, 5e-2, 1e-1, 5e-1, 0, 1, 5, 1e1]\n",
    "x = data_result_pred['pos_centered_hybrid'].values\n",
    "x = x[~np.isnan(x)]\n",
    "y = data_result_pred['ess_cps_norm_ref_pred_hybrid_scaled'].values\n",
    "y = y[~np.isnan(y)]\n",
    "def fitfunc(x, *p):\n",
    "    a, b, c, d = p\n",
    "    z = np.exp( -( (x-b)/(c) ) )\n",
    "    # z = np.exp( -( (x-p[1])/(p[2]) ) )\n",
    "    return (a / ( 1 + z )) + d\n",
    "    # return (p[0] / ( 1 + z )) + p[3]\n",
    "\n",
    "p0 = [0.5,0.5,0.5,0.5]\n",
    "popt, pcov = curve_fit(fitfunc, x, y, p0=p0, maxfev=1000000)\n",
    "# print(popt)\n",
    "FWHM = 3.53*popt[2]  # 3.53 * c in fermi function\n",
    "# print(FWHM)\n",
    "X = np.arange(-10, 10+0.01, 0.01)\n",
    "Y_fit = fitfunc(X, *popt)\n",
    "    \n",
    "fig, ax = plt.subplots(figsize=(10,5))\n",
    "sns.set()\n",
    "sns.set_context(\"notebook\", font_scale=1.5, rc={\"lines.linewidth\": 2.5})\n",
    "sns.scatterplot(x=data_result_pred['pos_centered_hybrid'], y=data_result_pred['ess_cps_norm_ref_pred_hybrid_scaled'], color='darkblue', ax=ax, s=100, label='measurement')\n",
    "sns.lineplot(x=X,y=Y_fit, color='darkred', ax=ax, label='logistic fit')\n",
    "ax.set_ylabel('ESS cps normalized \\n with ref. detectors \\n and pred. from avg dose')\n",
    "ax.set_xlabel(f'Edge position [mm]')\n",
    "plt.text(2, 0.9, f'FWHM {FWHM:.2f} mm')\n",
    "# ax.set_xticks(np.arange(-7.5,7.5+2,2))\n",
    "plt.xlim(-10,10)\n",
    "plt.show()"
   ]
  },
  {
   "cell_type": "code",
   "execution_count": null,
   "metadata": {},
   "outputs": [],
   "source": [
    "l_SS_tot = lambda x: ((x-np.mean(x))**2).sum() # total sum of squares\n",
    "l_SS_res = lambda y_pred, y_true: ((y_pred-np.mean(y_true))**2).sum() # residual sum of squares\n",
    "l_R2 = lambda SS_tot, SS_res: 1 - (SS_res/SS_tot) # coefficient of determination\n",
    "\n",
    "y_true = y\n",
    "y_pred = fitfunc(x, *popt)\n",
    "\n",
    "SS_tot = l_SS_tot(y_true) # observed data\n",
    "SS_res = l_SS_res(y_pred, y_true)\n",
    "\n",
    "R2 = l_R2(SS_tot, SS_res)\n",
    "SS_tot, SS_res, R2"
   ]
  },
  {
   "cell_type": "code",
   "execution_count": null,
   "metadata": {},
   "outputs": [],
   "source": [
    "chisq = np.sum((y_true - y_pred)**2)/(np.std(y_true))**2\n",
    "chisq/(len(y_pred)-4)\n",
    "residuals = (y_pred - y_true)\n",
    "fig, ax = plt.subplots(figsize=(10,5))\n",
    "sns.set()\n",
    "sns.set_context(\"notebook\", font_scale=1.5, rc={\"lines.linewidth\": 2.5})\n",
    "sns.scatterplot(x=x,y=residuals, color='darkblue', ax=ax, s=100)\n",
    "ax.set_ylabel('Res')\n",
    "ax.set_xlabel(f'Residuals')\n",
    "plt.show()"
   ]
  },
  {
   "cell_type": "markdown",
   "metadata": {},
   "source": [
    "#### Center for the dose approach"
   ]
  },
  {
   "cell_type": "code",
   "execution_count": null,
   "metadata": {},
   "outputs": [],
   "source": [
    "thresh_out = 21\n",
    "thresh_in = 15.5\n",
    "metric = 'ess_cps_norm_dose_scaled'\n",
    "center = get_edge_center(data_result_pred, metric, thresh_out, thresh_in)\n",
    "data_result_pred['pos_centered_dose'] = data_result['pos'] - center\n"
   ]
  },
  {
   "cell_type": "code",
   "execution_count": null,
   "metadata": {},
   "outputs": [],
   "source": [
    "data_result_pred.head()"
   ]
  },
  {
   "cell_type": "code",
   "execution_count": null,
   "metadata": {},
   "outputs": [],
   "source": [
    "m = [1e-2, 5e-2, 1e-1, 5e-1, 0, 1, 5, 1e1]\n",
    "x = data_result_pred['pos_centered_dose'].values\n",
    "x = x[~np.isnan(x)]\n",
    "y = data_result_pred['ess_cps_norm_dose_scaled'].values\n",
    "y = y[~np.isnan(y)]\n",
    "\n",
    "\n",
    "def fitfunc(x, *p):\n",
    "    a, b, c, d = p\n",
    "    z = np.exp( -( (x-b)/(c) ) )\n",
    "    # z = np.exp( -( (x-p[1])/(p[2]) ) )\n",
    "    return (a / ( 1 + z )) + d\n",
    "    # return (p[0] / ( 1 + z )) + p[3]\n",
    "\n",
    "p0 = [1,1,1,1]\n",
    "popt, pcov = curve_fit(fitfunc, x, y, p0=p0, maxfev=1000000)\n",
    "# print(popt)\n",
    "FWHM = 3.53*popt[2]  # 3.53 * c in fermi function\n",
    "# print(FWHM)\n",
    "X = np.arange(-6, 6+0.01, 0.01)\n",
    "Y_fit = fitfunc(X, *popt)\n",
    "    \n",
    "fig, ax = plt.subplots(figsize=(10,5))\n",
    "sns.set()\n",
    "sns.set_context(\"notebook\", font_scale=1.5, rc={\"lines.linewidth\": 2.5})\n",
    "sns.scatterplot(x=data_result_pred['pos_centered_dose'], y=data_result_pred['ess_cps_norm_dose_scaled'], color='darkblue', ax=ax, s=100, label='measurement')\n",
    "sns.lineplot(x=X,y=Y_fit, color='darkred', ax=ax, label='logistic fit')\n",
    "ax.set_ylabel('ESS cps normalized \\n with average dose')\n",
    "ax.set_xlabel(f'Edge position [mm]')\n",
    "plt.text(2, 0.8, f'FWHM {FWHM:.2f} mm')\n",
    "# ax.set_xticks(np.arange(-7.5,7.5+2,2))\n",
    "plt.xlim(-7,7)\n",
    "plt.show()"
   ]
  },
  {
   "cell_type": "markdown",
   "metadata": {},
   "source": [
    "#### Get R squared\n"
   ]
  },
  {
   "cell_type": "code",
   "execution_count": null,
   "metadata": {},
   "outputs": [],
   "source": [
    "l_SS_tot = lambda x: ((x-np.mean(x))**2).sum() # total sum of squares\n",
    "l_SS_res = lambda y_pred, y_true: ((y_pred-np.mean(y_true))**2).sum() # residual sum of squares\n",
    "l_R2 = lambda SS_tot, SS_res: 1 - (SS_res/SS_tot) # coefficient of determination\n",
    "\n",
    "y_true = y\n",
    "y_pred = fitfunc(x, *popt)\n",
    "\n",
    "SS_tot = l_SS_tot(y_true) # observed data\n",
    "SS_res = l_SS_res(y_pred, y_true)\n",
    "\n",
    "R2 = l_R2(SS_tot, SS_res)\n",
    "SS_tot, SS_res, R2"
   ]
  },
  {
   "cell_type": "markdown",
   "metadata": {},
   "source": [
    "### Limit the range for the fit"
   ]
  },
  {
   "cell_type": "code",
   "execution_count": null,
   "metadata": {},
   "outputs": [],
   "source": [
    "\n",
    "def fit_esf_to_data(x, y, limit_range, m):\n",
    "    mask_x = ((x >= -limit_range) & (x <= limit_range))\n",
    "    x = x[mask_x]\n",
    "    y = y[mask_x]\n",
    "    print(x,y)\n",
    "    def fitfunc(x, *p):\n",
    "        a, b, c, d = p\n",
    "        z = np.exp( -( (x-b)/(c) ) )\n",
    "        # z = np.exp( -( (x-p[1])/(p[2]) ) )\n",
    "        return (a / ( 1 + z )) + d\n",
    "        # return (p[0] / ( 1 + z )) + p[3]\n",
    "\n",
    "    p0 = [1,1,1,1]\n",
    "    popt, pcov = curve_fit(fitfunc, x, y, p0=p0, maxfev=1000000)\n",
    "    # print(popt)\n",
    "    FWHM = 3.53*popt[2]  # 3.53 * c in fermi function\n",
    "    # print(FWHM)\n",
    "    X = np.arange(-10, 10+0.01, 0.01)\n",
    "    Y_fit = fitfunc(X, *popt)\n",
    "\n",
    "    fig, ax = plt.subplots(figsize=(10,5))\n",
    "    sns.set()\n",
    "    sns.set_context(\"notebook\", font_scale=1.5, rc={\"lines.linewidth\": 2.5})\n",
    "    sns.scatterplot(x=data_result_pred['pos_centered_dose'], y=data_result_pred['ess_cps_norm_dose_scaled'], color='darkblue', ax=ax, s=100, label='measurement')\n",
    "    sns.lineplot(x=X,y=Y_fit, color='darkred', ax=ax, label='logistic fit')\n",
    "    ax.set_ylabel('ESS cps normalized \\n with average dose')\n",
    "    ax.set_xlabel(f'Edge position [mm]')\n",
    "    plt.text(2, 0.8, f'FWHM {FWHM:.2f} mm')\n",
    "    # ax.set_xticks(np.arange(-7.5,7.5+2,2))\n",
    "    plt.xlim(-7,7)\n",
    "    plt.show()"
   ]
  },
  {
   "cell_type": "code",
   "execution_count": null,
   "metadata": {},
   "outputs": [],
   "source": [
    "m = [1e-2, 5e-2, 1e-1, 5e-1, 0, 1, 5, 1e1]\n",
    "# limit to some ranges\n",
    "x = data_result_pred['pos_centered_dose'].values\n",
    "x = x[~np.isnan(x)]\n",
    "y = data_result_pred['ess_cps_norm_dose_scaled'].values\n",
    "y = y[~np.isnan(y)]\n",
    "\n",
    "limit_range = 1 # plus minus in mm\n",
    "fit_esf_to_data(x, y, limit_range, m)"
   ]
  },
  {
   "cell_type": "code",
   "execution_count": null,
   "metadata": {},
   "outputs": [],
   "source": []
  },
  {
   "cell_type": "code",
   "execution_count": null,
   "metadata": {},
   "outputs": [],
   "source": [
    "\n",
    "arr_r = np.arange(0.3, 2+0.01, 0.01) # mm\n",
    "arr_r = 0.1 * arr_r # cm\n",
    "arr_r"
   ]
  },
  {
   "cell_type": "code",
   "execution_count": null,
   "metadata": {},
   "outputs": [],
   "source": [
    "np.arange(0.3, 0.5+0.005, 0.005).shape"
   ]
  },
  {
   "cell_type": "code",
   "execution_count": null,
   "metadata": {},
   "outputs": [],
   "source": [
    "0.06"
   ]
  },
  {
   "cell_type": "code",
   "execution_count": null,
   "metadata": {},
   "outputs": [],
   "source": []
  }
 ],
 "metadata": {
  "kernelspec": {
   "display_name": "Python 3",
   "language": "python",
   "name": "python3"
  },
  "language_info": {
   "codemirror_mode": {
    "name": "ipython",
    "version": 3
   },
   "file_extension": ".py",
   "mimetype": "text/x-python",
   "name": "python",
   "nbconvert_exporter": "python",
   "pygments_lexer": "ipython3",
   "version": "3.8.1"
  }
 },
 "nbformat": 4,
 "nbformat_minor": 4
}
