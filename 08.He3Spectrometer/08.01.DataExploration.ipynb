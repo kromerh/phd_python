{
 "cells": [
  {
   "cell_type": "markdown",
   "metadata": {},
   "source": [
    "# He3 Spectrometer Measurements from Benoit\n",
    "\n",
    "## General information \n",
    "\n",
    "- Date of the measurement: 23 and 24 of April\n",
    "- Time of the measurements: Unspecified, but likely coded in the folder structure DD-M-YYY HH-MM-SS. Note that one folder has three entries for the second. --> Inconsistent labeling.\n",
    "- Positions of the H3 spectrometer: Encoded in the folder structure at the end 0, 90, and 180 degree\n",
    "- For each position there are two measurements, one with a blinding cone and one without.\n",
    "\n",
    "## Details from Benoit in E-Mail accompanying the data\n",
    "\n",
    "- Angular position of the spectrometer is manually tuned. High degree of uncertainty. Between with/without blinding cone the spectrometer did not move.\n",
    "- Blinding cone is thick enough that no direct contribution should be recorded. Closeness between He3 spectrometer and blinding cone is source of scattering contribution.\n",
    "- Reference neutron flux is recorded with the usual scintillators at north position below the neutron source. In each measurement folder, this is the \"temp_output.csv\" folder. Can be used for neutron flux normalization. This can be expanded with the LB6411 readings, if the measurement times are accurately known. Measurement timestamp information is missing!\n",
    "- Measurement data set consists of 1e6 counts --> What does this mean? Total counts?\n",
    "- Total measurement time is encoded in the filename as D*.D*. The mat file data structure is not explained.\n",
    "- \"interm_chA.mat\" file contains some couple of pulses to check their overal integrity. Complete lack of information on this data structure.\n",
    "\n",
    "\n",
    "## Additional details from Benoit on the data structure\n",
    "\n",
    "- The pulse height data in files such as \"final_maxchA_5598.4825.mat\". It contains a unique variable \"final_maxchA\", each column is a voltage in mV.\n",
    "- Some random full pulses are recorded in \"interm_chA.mat\" files. The lines correspond to the time, and each column is a given pulse amplitude through time. Lines in this context mean rows. It is still unclear what \"random full pulses\" are.\n",
    "- The \"temp_output.csv\" contains the reference scintillators counts. I integrated the counts overs 219s and repeated that measurement many times --> each line is the result of 219s integration. In details for each column\n",
    "        - Col 1 = discard\n",
    "        - Col 2 = discard\n",
    "        - Col 3 = total integration time\n",
    "        - Col 4 = discard\n",
    "        - Col 5 to 8 = counts from scintillator 1,2,3,4\n",
    "        - Col 9 to 14 = timestamp = year/month/day/hour/minute/second\n",
    "    There whole set of data corresponds approximately (manually started/stopped) to the running period of the FNS.\n",
    "    --> Why are there \"discarded\" entries in the data? Poor feature labeling.\n",
    "    \n",
    "    \n",
    "## Open questions:\n",
    "\n",
    "1. What are the exact recording times of each He3 spectrometer measurement (position, cone yes/no). Is this in the foldername? If so, what is up with the foldername that contains three entries for the second. Can you provide some written lab notes for the measurement times?\n",
    "2. What means \"Measurement data set consists of 1e6 counts\"? Is this the integrated, total number of counts?\n",
    "3. Is there some explanation of the file \"interm_chA.mat\" which file contains some couple of pulses to check their overal integrity. What does this phrase \"check their overal integrity\" mean?\n",
    "4. Is the manual of the He3 spectrometer available, or is there some documentation available how this particular system works?\n",
    "5. What means \"discard\" entries in the \"temp_output.csv\" file? Why are they included if they are to be discarded?\n",
    "6. How is the pulse height dataset arranged? What is the row and column label exactly?"
   ]
  },
  {
   "cell_type": "code",
   "execution_count": 2,
   "metadata": {},
   "outputs": [],
   "source": [
    "import os\n",
    "import pandas as pd\n",
    "import matplotlib.pyplot as plt\n",
    "import numpy as np\n",
    "\n",
    "import seaborn as sns\n",
    "sns.set()\n",
    "%matplotlib inline"
   ]
  },
  {
   "cell_type": "code",
   "execution_count": 3,
   "metadata": {},
   "outputs": [
    {
     "data": {
      "text/html": [
       "<div>\n",
       "<style scoped>\n",
       "    .dataframe tbody tr th:only-of-type {\n",
       "        vertical-align: middle;\n",
       "    }\n",
       "\n",
       "    .dataframe tbody tr th {\n",
       "        vertical-align: top;\n",
       "    }\n",
       "\n",
       "    .dataframe thead th {\n",
       "        text-align: right;\n",
       "    }\n",
       "</style>\n",
       "<table border=\"1\" class=\"dataframe\">\n",
       "  <thead>\n",
       "    <tr style=\"text-align: right;\">\n",
       "      <th></th>\n",
       "      <th>0</th>\n",
       "      <th>2.1916e+05</th>\n",
       "      <th>2.1916e+05.1</th>\n",
       "      <th>31.37</th>\n",
       "      <th>7743</th>\n",
       "      <th>11016</th>\n",
       "      <th>8028</th>\n",
       "      <th>8733</th>\n",
       "      <th>2019</th>\n",
       "      <th>4</th>\n",
       "      <th>23</th>\n",
       "      <th>8</th>\n",
       "      <th>52</th>\n",
       "      <th>53.538</th>\n",
       "    </tr>\n",
       "  </thead>\n",
       "  <tbody>\n",
       "    <tr>\n",
       "      <th>0</th>\n",
       "      <td>0</td>\n",
       "      <td>219160.0</td>\n",
       "      <td>219160.0</td>\n",
       "      <td>31.69</td>\n",
       "      <td>7981</td>\n",
       "      <td>10656</td>\n",
       "      <td>7866</td>\n",
       "      <td>8753</td>\n",
       "      <td>2019</td>\n",
       "      <td>4</td>\n",
       "      <td>23</td>\n",
       "      <td>8</td>\n",
       "      <td>56</td>\n",
       "      <td>35.924</td>\n",
       "    </tr>\n",
       "    <tr>\n",
       "      <th>1</th>\n",
       "      <td>0</td>\n",
       "      <td>219160.0</td>\n",
       "      <td>219160.0</td>\n",
       "      <td>32.00</td>\n",
       "      <td>7641</td>\n",
       "      <td>10714</td>\n",
       "      <td>7634</td>\n",
       "      <td>8716</td>\n",
       "      <td>2019</td>\n",
       "      <td>4</td>\n",
       "      <td>23</td>\n",
       "      <td>9</td>\n",
       "      <td>0</td>\n",
       "      <td>18.149</td>\n",
       "    </tr>\n",
       "    <tr>\n",
       "      <th>2</th>\n",
       "      <td>0</td>\n",
       "      <td>219160.0</td>\n",
       "      <td>219160.0</td>\n",
       "      <td>32.25</td>\n",
       "      <td>7680</td>\n",
       "      <td>10494</td>\n",
       "      <td>7726</td>\n",
       "      <td>8565</td>\n",
       "      <td>2019</td>\n",
       "      <td>4</td>\n",
       "      <td>23</td>\n",
       "      <td>9</td>\n",
       "      <td>4</td>\n",
       "      <td>0.375</td>\n",
       "    </tr>\n",
       "    <tr>\n",
       "      <th>3</th>\n",
       "      <td>0</td>\n",
       "      <td>219160.0</td>\n",
       "      <td>219160.0</td>\n",
       "      <td>32.44</td>\n",
       "      <td>7673</td>\n",
       "      <td>10730</td>\n",
       "      <td>7807</td>\n",
       "      <td>8572</td>\n",
       "      <td>2019</td>\n",
       "      <td>4</td>\n",
       "      <td>23</td>\n",
       "      <td>9</td>\n",
       "      <td>7</td>\n",
       "      <td>42.619</td>\n",
       "    </tr>\n",
       "    <tr>\n",
       "      <th>4</th>\n",
       "      <td>0</td>\n",
       "      <td>219160.0</td>\n",
       "      <td>219160.0</td>\n",
       "      <td>32.63</td>\n",
       "      <td>7529</td>\n",
       "      <td>10421</td>\n",
       "      <td>7507</td>\n",
       "      <td>8621</td>\n",
       "      <td>2019</td>\n",
       "      <td>4</td>\n",
       "      <td>23</td>\n",
       "      <td>9</td>\n",
       "      <td>11</td>\n",
       "      <td>24.843</td>\n",
       "    </tr>\n",
       "  </tbody>\n",
       "</table>\n",
       "</div>"
      ],
      "text/plain": [
       "   0  2.1916e+05  2.1916e+05.1  31.37  7743  11016  8028  8733  2019  4  23  \\\n",
       "0  0    219160.0      219160.0  31.69  7981  10656  7866  8753  2019  4  23   \n",
       "1  0    219160.0      219160.0  32.00  7641  10714  7634  8716  2019  4  23   \n",
       "2  0    219160.0      219160.0  32.25  7680  10494  7726  8565  2019  4  23   \n",
       "3  0    219160.0      219160.0  32.44  7673  10730  7807  8572  2019  4  23   \n",
       "4  0    219160.0      219160.0  32.63  7529  10421  7507  8621  2019  4  23   \n",
       "\n",
       "   8  52  53.538  \n",
       "0  8  56  35.924  \n",
       "1  9   0  18.149  \n",
       "2  9   4   0.375  \n",
       "3  9   7  42.619  \n",
       "4  9  11  24.843  "
      ]
     },
     "execution_count": 3,
     "metadata": {},
     "output_type": "execute_result"
    }
   ],
   "source": [
    "fname = '/Users/hkromer/02_PhD/02_Data/05.BenoitHe3Spectr/FNS-spectra/23-Apr-2019 10-44-13 0 deg no BC/temp_output.csv'\n",
    "df_to = pd.read_csv(fname)\n",
    "df_to.head()"
   ]
  },
  {
   "cell_type": "code",
   "execution_count": 4,
   "metadata": {},
   "outputs": [],
   "source": [
    "fname = '/Users/hkromer/02_PhD/02_Data/05.BenoitHe3Spectr/FNS-spectra/23-Apr-2019 10-44-13 0 deg no BC/final_maxchA_5598.4825.csv'\n",
    "l1 = np.loadtxt(fname, delimiter=',')"
   ]
  },
  {
   "cell_type": "code",
   "execution_count": 5,
   "metadata": {},
   "outputs": [
    {
     "data": {
      "text/plain": [
       "1000000"
      ]
     },
     "execution_count": 5,
     "metadata": {},
     "output_type": "execute_result"
    }
   ],
   "source": [
    "len(l1)"
   ]
  },
  {
   "cell_type": "code",
   "execution_count": 19,
   "metadata": {},
   "outputs": [
    {
     "data": {
      "image/png": "[encoded data removed]",
      "text/plain": [
       "<Figure size 432x288 with 1 Axes>"
      ]
     },
     "metadata": {
      "needs_background": "light"
     },
     "output_type": "display_data"
    }
   ],
   "source": [
    "bins = 100\n",
    "sns.distplot(l1,kde=False, bins=bins, color=\"darkred\")\n",
    "# plt.ylim(0,50000)\n",
    "plt.xlabel('mV?')\n",
    "plt.ylabel('count')\n",
    "plt.show()"
   ]
  },
  {
   "cell_type": "code",
   "execution_count": 18,
   "metadata": {},
   "outputs": [
    {
     "data": {
      "image/png": "[encoded data removed]",
      "text/plain": [
       "<Figure size 432x288 with 1 Axes>"
      ]
     },
     "metadata": {
      "needs_background": "light"
     },
     "output_type": "display_data"
    }
   ],
   "source": [
    "bins = 100\n",
    "sns.distplot(l1,kde=False, bins=bins, color=\"darkred\")\n",
    "plt.ylim(0,10000)\n",
    "plt.xlabel('mV?')\n",
    "plt.ylabel('count')\n",
    "plt.show()"
   ]
  },
  {
   "cell_type": "code",
   "execution_count": 20,
   "metadata": {},
   "outputs": [
    {
     "data": {
      "image/png": "[encoded data removed]",
      "text/plain": [
       "<Figure size 432x288 with 1 Axes>"
      ]
     },
     "metadata": {
      "needs_background": "light"
     },
     "output_type": "display_data"
    }
   ],
   "source": [
    "x = np.arange(0, len(l1), 1)\n",
    "plt.scatter(x, l1)\n",
    "plt.xlabel('ID in array final_maxchA.csv')\n",
    "plt.ylabel('mV entry')\n",
    "plt.show()"
   ]
  },
  {
   "cell_type": "code",
   "execution_count": 21,
   "metadata": {},
   "outputs": [],
   "source": [
    "def ecdf(data):\n",
    "    \"\"\"Compute ECDF for a one-dimensional array of measurements.\"\"\"\n",
    "    # Number of data points: n\n",
    "    n = len(data)\n",
    "\n",
    "    # x-data for the ECDF: x\n",
    "    x = np.sort(data)\n",
    "\n",
    "    # y-data for the ECDF: y\n",
    "    y = np.arange(1, n+1) / n\n",
    "\n",
    "    return x, y\n"
   ]
  },
  {
   "cell_type": "code",
   "execution_count": 28,
   "metadata": {},
   "outputs": [
    {
     "data": {
      "image/png": "[encoded data removed]",
      "text/plain": [
       "<Figure size 720x432 with 1 Axes>"
      ]
     },
     "metadata": {
      "needs_background": "light"
     },
     "output_type": "display_data"
    }
   ],
   "source": [
    "x,y = ecdf(l1)\n",
    "plt.figure(figsize=(10,6))\n",
    "# Generate plot\n",
    "_ = plt.plot(x, y, marker='.', linestyle='none', markersize=2, color='darkred')\n",
    "\n",
    "# Label the axes\n",
    "_ = plt.xlabel('mV')\n",
    "_ = plt.ylabel('ECDF')\n",
    "# plt.grid()\n",
    "\n",
    "# Display the plot\n",
    "plt.show()"
   ]
  },
  {
   "cell_type": "code",
   "execution_count": null,
   "metadata": {},
   "outputs": [],
   "source": []
  },
  {
   "cell_type": "code",
   "execution_count": null,
   "metadata": {},
   "outputs": [],
   "source": []
  }
 ],
 "metadata": {
  "kernelspec": {
   "display_name": "Python 3",
   "language": "python",
   "name": "python3"
  },
  "language_info": {
   "codemirror_mode": {
    "name": "ipython",
    "version": 3
   },
   "file_extension": ".py",
   "mimetype": "text/x-python",
   "name": "python",
   "nbconvert_exporter": "python",
   "pygments_lexer": "ipython3",
   "version": "3.7.2"
  }
 },
 "nbformat": 4,
 "nbformat_minor": 2
}
