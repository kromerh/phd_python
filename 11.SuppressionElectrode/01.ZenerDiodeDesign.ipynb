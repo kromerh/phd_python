{
 "cells": [
  {
   "cell_type": "code",
   "execution_count": 30,
   "metadata": {},
   "outputs": [
    {
     "name": "stdout",
     "output_type": "stream",
     "text": [
      "Resistors are [0, 10, 50, 100, 133, 200, 400, 500, 1000, 1500] kOhm \n",
      "\n",
      "Voltage drops for the resistors are [0.0, 0.01, 0.05, 0.1, 0.133, 0.2, 0.4, 0.5, 1.0, 1.5] kV \n",
      "\n",
      "Power through the resistors are [0.0, 0.01, 0.05, 0.1, 0.13, 0.2, 0.4, 0.5, 1.0, 1.5] W\n"
     ]
    }
   ],
   "source": [
    "import numpy as np\n",
    "\n",
    "I_d = 1 # mA deuterium ion beam current\n",
    "V_HV = 150 # kV high voltage bias\n",
    "V_bias = 1.4 # kV desired voltage drop to suppression electrode\n",
    "\n",
    "R = [0, 10, 50, 100, 133, 200, 400, 500, 1000, 1500] # resistor in kOhm\n",
    "print(f'Resistors are {R} kOhm \\n')\n",
    "\n",
    "V = [(I_d * r)/1000 for r in R]  # bias voltage drop in kV\n",
    "print(f'Voltage drops for the resistors are {V} kV \\n')\n",
    "\n",
    "P = [np.around((I_d*1e-3)**2 * r * 1e3, decimals=2) for r in R]  # power through the resistor in W\n",
    "print(f'Power through the resistors are {P} W')"
   ]
  },
  {
   "cell_type": "code",
   "execution_count": 67,
   "metadata": {},
   "outputs": [
    {
     "name": "stdout",
     "output_type": "stream",
     "text": [
      "Current through all resistors is 0.61 mA \n",
      "\n",
      "Power through one resistors is 8.26 W \n",
      "\n"
     ]
    }
   ],
   "source": [
    "import numpy as np\n",
    "\n",
    "\n",
    "V_HV = 150 # kV\n",
    "V_zener = 1.4 # kV\n",
    "R = 22.5 # MOhm\n",
    "n = 11\n",
    "\n",
    "I_tot = ((V_HV*1e3)/(R*n*1e6)) * 1e3# mA\n",
    "print(f'Current through all resistors is {I_tot:.2f} mA \\n')\n",
    "\n",
    "P = (I_tot*1e-3)**2*R*1e6\n",
    "print(f'Power through one resistors is {P:.2f} W \\n')\n"
   ]
  },
  {
   "cell_type": "code",
   "execution_count": 59,
   "metadata": {},
   "outputs": [
    {
     "data": {
      "text/plain": [
       "0.00025"
      ]
     },
     "execution_count": 59,
     "metadata": {},
     "output_type": "execute_result"
    }
   ],
   "source": [
    "(15/(60*1e3))"
   ]
  },
  {
   "cell_type": "code",
   "execution_count": 57,
   "metadata": {},
   "outputs": [
    {
     "data": {
      "text/plain": [
       "135.0"
      ]
     },
     "execution_count": 57,
     "metadata": {},
     "output_type": "execute_result"
    }
   ],
   "source": [
    "n*R"
   ]
  },
  {
   "cell_type": "code",
   "execution_count": null,
   "metadata": {},
   "outputs": [],
   "source": []
  }
 ],
 "metadata": {
  "kernelspec": {
   "display_name": "Python 3",
   "language": "python",
   "name": "python3"
  },
  "language_info": {
   "codemirror_mode": {
    "name": "ipython",
    "version": 3
   },
   "file_extension": ".py",
   "mimetype": "text/x-python",
   "name": "python",
   "nbconvert_exporter": "python",
   "pygments_lexer": "ipython3",
   "version": "3.7.3"
  }
 },
 "nbformat": 4,
 "nbformat_minor": 2
}
