{
 "cells": [
  {
   "cell_type": "markdown",
   "metadata": {},
   "source": [
    "# Mouser ROX300100MGNF5\n",
    "\n",
    "- https://www.mouser.ch/ProductDetail/vishay/rox300100mgnf5/?qs=VAB4DzKv5wVcCzEhlzOZWw==&countrycode=CH&currencycode=CHF\n",
    "- Widerstand: 100 MOhms\n",
    "- Nennleistung: 10 W\n",
    "- Abweichungstoleranz: 2 %\n",
    "- Temperaturkoeffizient: 200 PPM / C\n",
    "- Minimale Betriebstemperatur: - 55 C\n",
    "- Maximale Betriebstemperatur: + 180 C\n",
    "- Nennspannung: 22.5 kV\n",
    "- Durchmesser: 7.87 mm\n",
    "- Länge: 3.15 mm"
   ]
  },
  {
   "cell_type": "code",
   "execution_count": 11,
   "metadata": {},
   "outputs": [
    {
     "name": "stdout",
     "output_type": "stream",
     "text": [
      "For HV of -100.00 kV and 8 resistors: \n",
      "\n",
      "Current through all resistors is 0.12 mA \n",
      "\n",
      "Power through one resistors is 1.56 W, limit for one resistor is 10.00 W \n",
      "\n",
      "Voltage at one resistors is 12.50 kV, limit for one resistor is 22.50 kV \n",
      "\n"
     ]
    }
   ],
   "source": [
    "import numpy as np\n",
    "\n",
    "V_HV = 100 # kV\n",
    "R = 100 # MOhm\n",
    "P_lim = 10 # W. Maximal power the resistor can have\n",
    "V_lim = 22.5 # kV. Maximal HV the resistor can have\n",
    "\n",
    "n = 8\n",
    "\n",
    "print(f'For HV of {-V_HV:.2f} kV and {n} resistors: \\n')\n",
    "\n",
    "I_tot = ((V_HV*1e3)/(R*n*1e6)) * 1e3# mA\n",
    "print(f'Current through all resistors is {I_tot:.2f} mA \\n')\n",
    "\n",
    "P = (I_tot*1e-3)**2*R*1e6\n",
    "print(f'Power through one resistors is {P:.2f} W, limit for one resistor is {P_lim:.2f} W \\n')\n",
    "\n",
    "V = V_HV / n\n",
    "print(f'Voltage at one resistors is {V:.2f} kV, limit for one resistor is {V_lim:.2f} kV \\n')"
   ]
  },
  {
   "cell_type": "markdown",
   "metadata": {},
   "source": [
    "# some calculations\n"
   ]
  },
  {
   "cell_type": "code",
   "execution_count": 1,
   "metadata": {},
   "outputs": [
    {
     "name": "stdout",
     "output_type": "stream",
     "text": [
      "Resistors are [0, 10, 50, 100, 133, 200, 400, 500, 1000, 1500] kOhm \n",
      "\n",
      "Voltage drops for the resistors are [0.0, 0.01, 0.05, 0.1, 0.133, 0.2, 0.4, 0.5, 1.0, 1.5] kV \n",
      "\n",
      "Power through the resistors are [0.0, 0.01, 0.05, 0.1, 0.13, 0.2, 0.4, 0.5, 1.0, 1.5] W\n"
     ]
    }
   ],
   "source": [
    "import numpy as np\n",
    "\n",
    "I_d = 1 # mA deuterium ion beam current\n",
    "V_HV = 150 # kV high voltage bias\n",
    "V_bias = 1.4 # kV desired voltage drop to suppression electrode\n",
    "\n",
    "R = [0, 10, 50, 100, 133, 200, 400, 500, 1000, 1500] # resistor in kOhm\n",
    "print(f'Resistors are {R} kOhm \\n')\n",
    "\n",
    "V = [(I_d * r)/1000 for r in R]  # bias voltage drop in kV\n",
    "print(f'Voltage drops for the resistors are {V} kV \\n')\n",
    "\n",
    "P = [np.around((I_d*1e-3)**2 * r * 1e3, decimals=2) for r in R]  # power through the resistor in W\n",
    "print(f'Power through the resistors are {P} W')"
   ]
  },
  {
   "cell_type": "code",
   "execution_count": 13,
   "metadata": {},
   "outputs": [
    {
     "name": "stdout",
     "output_type": "stream",
     "text": [
      "For HV of -120.00 kV: \n",
      "\n",
      "Current through all resistors is 0.15 mA \n",
      "\n",
      "Power through one resistors is 2.25 W \n",
      "\n",
      "Voltage at one resistors is 15.00 kV \n",
      "\n"
     ]
    }
   ],
   "source": [
    "import numpy as np\n",
    "\n",
    "\n",
    "V_HV = 120 # kV\n",
    "# V_zener = 1.4 # kV\n",
    "R = 100 # MOhm\n",
    "P_lim = 10 # W. Maximal power the resistor can have\n",
    "V_lim = 22.5 # kV. Maximal HV the resistor can have\n",
    "\n",
    "n = 8\n",
    "\n",
    "print(f'For HV of {-V_HV:.2f} kV: \\n')\n",
    "\n",
    "I_tot = ((V_HV*1e3)/(R*n*1e6)) * 1e3# mA\n",
    "print(f'Current through all resistors is {I_tot:.2f} mA \\n')\n",
    "\n",
    "P = (I_tot*1e-3)**2*R*1e6\n",
    "print(f'Power through one resistors is {P:.2f} W \\n')\n",
    "\n",
    "V = V_HV / n\n",
    "print(f'Voltage at one resistors is {V:.2f} kV \\n')"
   ]
  },
  {
   "cell_type": "code",
   "execution_count": 10,
   "metadata": {},
   "outputs": [
    {
     "name": "stdout",
     "output_type": "stream",
     "text": [
      "For HV of -80.00 kV: \n",
      "\n",
      "Current through all resistors is 0.40 mA \n",
      "\n",
      "Power through one resistors is 32.00 W \n",
      "\n",
      "Voltage at one resistors is 80.00 kV \n",
      "\n"
     ]
    }
   ],
   "source": [
    "import numpy as np\n",
    "\n",
    "\n",
    "V_HV = 80 # kV\n",
    "# V_zener = 1.4 # kV\n",
    "R = 200 # MOhm\n",
    "P_lim = 10 # W. Maximal power the resistor can have\n",
    "V_lim = 60 # kV. Maximal HV the resistor can have\n",
    "\n",
    "n = 1\n",
    "\n",
    "print(f'For HV of {-V_HV:.2f} kV: \\n')\n",
    "\n",
    "I_tot = ((V_HV*1e3)/(R*n*1e6)) * 1e3# mA\n",
    "print(f'Current through all resistors is {I_tot:.2f} mA \\n')\n",
    "\n",
    "P = (I_tot*1e-3)**2*R*1e6\n",
    "print(f'Power through one resistors is {P:.2f} W \\n')\n",
    "\n",
    "V = V_HV / n\n",
    "print(f'Voltage at one resistors is {V:.2f} kV \\n')"
   ]
  },
  {
   "cell_type": "code",
   "execution_count": 7,
   "metadata": {},
   "outputs": [
    {
     "data": {
      "text/plain": [
       "20.0"
      ]
     },
     "execution_count": 7,
     "metadata": {},
     "output_type": "execute_result"
    }
   ],
   "source": [
    "150/7.5"
   ]
  },
  {
   "cell_type": "code",
   "execution_count": null,
   "metadata": {},
   "outputs": [],
   "source": []
  }
 ],
 "metadata": {
  "kernelspec": {
   "display_name": "Python 3",
   "language": "python",
   "name": "python3"
  },
  "language_info": {
   "codemirror_mode": {
    "name": "ipython",
    "version": 3
   },
   "file_extension": ".py",
   "mimetype": "text/x-python",
   "name": "python",
   "nbconvert_exporter": "python",
   "pygments_lexer": "ipython3",
   "version": "3.7.3"
  }
 },
 "nbformat": 4,
 "nbformat_minor": 4
}
