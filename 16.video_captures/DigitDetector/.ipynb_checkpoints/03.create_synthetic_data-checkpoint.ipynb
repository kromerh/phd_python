{
 "cells": [
  {
   "cell_type": "markdown",
   "metadata": {},
   "source": [
    "# Create a synthetic dataset of picture that do not contain images\n",
    "\n",
    "- use the house numbers pictures, take each 32x32 frames in the corner of the images as synthetic data"
   ]
  },
  {
   "cell_type": "code",
   "execution_count": null,
   "metadata": {},
   "outputs": [],
   "source": [
    "import os \n",
    "import scipy.io as sio\n",
    "import pandas as pd\n",
    "\n",
    "# list of the image files in the training set\n",
    "folder_train = '/Users/hkromer/02_PhD/02_Data/12.dcr/Stanford_housenumbers/train/'\n",
    "\n",
    "files_train = os.listdir(folder_train)\n",
    "files_train = [f\"{folder_train}{f}\" for f in files_train if f.endswith('png')]\n",
    "\n",
    "\n",
    "# name of the images\n",
    "name_file = f'{folder_train}/name.mat'\n",
    "name_dataset = sio.loadmat(name_file)['name'][0]\n",
    "\n",
    "# labels in the image\n",
    "labels_file  = f'{folder_train}/all_labels.mat'\n",
    "labels_dataset = sio.loadmat(labels_file)['all_labels']\n",
    "# remember!!! 10 is 0  np.argwhere(labels_dataset==10)\n",
    "\n",
    "\n",
    "# load images\n",
    "import cv2\n",
    "import matplotlib.pyplot as plt\n",
    "import re"
   ]
  }
 ],
 "metadata": {
  "kernelspec": {
   "display_name": "Python 3",
   "language": "python",
   "name": "python3"
  },
  "language_info": {
   "codemirror_mode": {
    "name": "ipython",
    "version": 3
   },
   "file_extension": ".py",
   "mimetype": "text/x-python",
   "name": "python",
   "nbconvert_exporter": "python",
   "pygments_lexer": "ipython3",
   "version": "3.7.4"
  }
 },
 "nbformat": 4,
 "nbformat_minor": 4
}
