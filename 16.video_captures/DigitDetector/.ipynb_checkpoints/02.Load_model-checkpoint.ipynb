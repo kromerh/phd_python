{
 "cells": [
  {
   "cell_type": "markdown",
   "metadata": {},
   "source": [
    "## Preprocessing and load data"
   ]
  },
  {
   "cell_type": "code",
   "execution_count": 9,
   "metadata": {},
   "outputs": [],
   "source": [
    "import numpy as np \n",
    "import matplotlib.pyplot as plt"
   ]
  },
  {
   "cell_type": "code",
   "execution_count": 4,
   "metadata": {},
   "outputs": [
    {
     "name": "stdout",
     "output_type": "stream",
     "text": [
      "Train data: (32, 32, 3, 73257) , Train labels: (73257, 1)\n",
      "Test data: (32, 32, 3, 26032) , Test labels: (26032, 1)\n",
      " \n",
      "After conversion to grayscale: \n",
      "Train data: (32, 32, 73257), labels: (73257, 1)\n",
      "Test data: (32, 32, 26032), labels: (26032, 1)\n",
      " \n",
      "After preprocessing reshaping: \n",
      "X_train data: (73257, 32, 32, 1)\n",
      "X_test data: (26032, 32, 32, 1)\n",
      " \n",
      "After preprocessing labels: \n",
      "Train labels: (73257,)\n",
      "Test  labels: (26032,)\n"
     ]
    }
   ],
   "source": [
    "from SVHNDataset import SVHNDataset\n",
    "\n",
    "svhn = SVHNDataset()\n",
    "path_train  = '/Users/hkromer/02_PhD/02_Data/12.dcr/Stanford_housenumbers/train_32x32.mat'\n",
    "path_test  = '/Users/hkromer/02_PhD/02_Data/12.dcr/Stanford_housenumbers/test_32x32.mat'\n",
    "\n",
    "train_data, train_labels, test_data, test_labels = svhn.load_dataset(path_train, path_test)\n",
    "# convert to grayscale\n",
    "train_data = svhn.convert_to_gray(train_data)\n",
    "test_data = svhn.convert_to_gray(test_data)\n",
    "print(' ')\n",
    "print('After conversion to grayscale: ')\n",
    "print(f'Train data: {train_data.shape}, labels: {train_labels.shape}')\n",
    "print(f'Test data: {test_data.shape}, labels: {test_labels.shape}')\n",
    "\n",
    "X_train = svhn.preprocess_for_KERAS_reshaping(32, train_data)\n",
    "X_test = svhn.preprocess_for_KERAS_reshaping(32, test_data)\n",
    "print(' ')\n",
    "print('After preprocessing reshaping: ')\n",
    "print(f'X_train data: {X_train.shape}')\n",
    "print(f'X_test data: {X_test.shape}')\n",
    "\n",
    "y_train = svhn.preprocess_for_KERAS_labels(train_labels)\n",
    "y_test = svhn.preprocess_for_KERAS_labels(test_labels)\n",
    "print(' ')\n",
    "print('After preprocessing labels: ')\n",
    "print(f'Train labels: {y_train.shape}')\n",
    "print(f'Test  labels: {y_test.shape}')"
   ]
  },
  {
   "cell_type": "markdown",
   "metadata": {},
   "source": [
    "## Load KERAS model"
   ]
  },
  {
   "cell_type": "code",
   "execution_count": 5,
   "metadata": {},
   "outputs": [],
   "source": [
    "import tensorflow as tf\n",
    "import os\n",
    "os.environ['KMP_DUPLICATE_LIB_OK']='True' # otherwise there will be an error\n",
    "\n",
    "model = tf.keras.models.load_model('/Users/hkromer/02_PhD/02_Data/12.dcr/Stanford_housenumbers/2019-19-21.KERAS_model.h5')"
   ]
  },
  {
   "cell_type": "markdown",
   "metadata": {},
   "source": [
    "### Make a prediction on a few examples and plot"
   ]
  },
  {
   "cell_type": "code",
   "execution_count": 41,
   "metadata": {},
   "outputs": [
    {
     "data": {
      "image/png": "[encoded data removed]",
      "text/plain": [
       "<Figure size 432x288 with 1 Axes>"
      ]
     },
     "metadata": {
      "needs_background": "light"
     },
     "output_type": "display_data"
    },
    {
     "name": "stdout",
     "output_type": "stream",
     "text": [
      "6\n"
     ]
    }
   ],
   "source": [
    "ii = 92\n",
    "\n",
    "examples = X_test[ii,:,:]\n",
    "examples = examples.astype(np.float64)\n",
    "examples = examples.reshape(-1,32,32,1)\n",
    "y_predict = model.predict(examples)[0]\n",
    "y_example = y_test[ii]\n",
    "X = [a for a in range(0,len(y_predict))]\n",
    "\n",
    "plt.bar(X,y_predict)\n",
    "plt.xticks(np.arange(0,10,1))\n",
    "plt.show()\n",
    "print(y_example)\n",
    "\n"
   ]
  },
  {
   "cell_type": "code",
   "execution_count": null,
   "metadata": {},
   "outputs": [],
   "source": []
  },
  {
   "cell_type": "code",
   "execution_count": null,
   "metadata": {},
   "outputs": [],
   "source": []
  },
  {
   "cell_type": "code",
   "execution_count": null,
   "metadata": {},
   "outputs": [],
   "source": []
  }
 ],
 "metadata": {
  "kernelspec": {
   "display_name": "Python 3",
   "language": "python",
   "name": "python3"
  },
  "language_info": {
   "codemirror_mode": {
    "name": "ipython",
    "version": 3
   },
   "file_extension": ".py",
   "mimetype": "text/x-python",
   "name": "python",
   "nbconvert_exporter": "python",
   "pygments_lexer": "ipython3",
   "version": "3.7.4"
  }
 },
 "nbformat": 4,
 "nbformat_minor": 4
}
