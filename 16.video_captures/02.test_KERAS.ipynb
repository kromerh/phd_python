{
 "cells": [
  {
   "cell_type": "markdown",
   "metadata": {},
   "source": [
    "# Testing KERAS on the SVHN dataset\n",
    "\n",
    "- model architecture from https://nbviewer.jupyter.org/github/dyckia/SVHN-CNN/blob/master/SVHN.ipynb"
   ]
  },
  {
   "cell_type": "code",
   "execution_count": 2,
   "metadata": {},
   "outputs": [],
   "source": [
    "import numpy as np\n",
    "import matplotlib.pyplot as plt\n",
    "import h5py\n",
    "import os\n",
    "os.environ['KMP_DUPLICATE_LIB_OK']='True'"
   ]
  },
  {
   "cell_type": "code",
   "execution_count": 3,
   "metadata": {},
   "outputs": [],
   "source": [
    "import scipy.io as sio\n",
    "\n",
    "class SVHNDataset():\n",
    "    \n",
    "    def load_dataset(self, path_train, path_test):\n",
    "        \"\"\"\n",
    "        Loads the .mat file from the SVHN Dataset (train and test) indicated at location path. Returns it as numpy array,\n",
    "        \"\"\"\n",
    "        train_dataset = sio.loadmat(path_train)\n",
    "        test_dataset = sio.loadmat(path_test)\n",
    "\n",
    "        train_data, train_labels = train_dataset['X'], train_dataset['y']\n",
    "        test_data, test_labels = test_dataset['X'], test_dataset['y']\n",
    "\n",
    "        print( 'Train data:', train_data.shape,', Train labels:', train_labels.shape )\n",
    "        print( 'Test data:', test_data.shape,', Test labels:', test_labels.shape )\n",
    "        \n",
    "        return train_data, train_labels, test_data, test_labels\n",
    "    \n",
    "    def convert_to_gray(self, data):\n",
    "        \"\"\"\n",
    "        Converts all the images in the dataset into gray scale. Returns the dataset with grayscale entries.\n",
    "        \"\"\"\n",
    "        \n",
    "        r, g, b = data[:,:,0,:], data[:,:,1,:], data[:,:,2,:]\n",
    "        gray = 0.2989 * r + 0.5870 * g + 0.1140 * b\n",
    "        data[:,:,0,:] = gray\n",
    "        data = data[:,:,0,:]\n",
    "        \n",
    "        return data"
   ]
  },
  {
   "cell_type": "markdown",
   "metadata": {},
   "source": [
    "## Import dataset and convert to grayscale"
   ]
  },
  {
   "cell_type": "code",
   "execution_count": 4,
   "metadata": {},
   "outputs": [
    {
     "name": "stdout",
     "output_type": "stream",
     "text": [
      "Train data: (32, 32, 3, 73257) , Train labels: (73257, 1)\n",
      "Test data: (32, 32, 3, 26032) , Test labels: (26032, 1)\n",
      "After conversion to grayscale: \n",
      "Train data: (32, 32, 73257), labels: (73257, 1)\n",
      "Test data: (32, 32, 26032), labels: (26032, 1)\n"
     ]
    }
   ],
   "source": [
    "svhn = SVHNDataset()\n",
    "path_train  = '/Users/hkromer/02_PhD/02_Data/12.dcr/Stanford_housenumbers/train_32x32.mat'\n",
    "path_test  = '/Users/hkromer/02_PhD/02_Data/12.dcr/Stanford_housenumbers/test_32x32.mat'\n",
    "\n",
    "train_data, train_labels, test_data, test_labels = svhn.load_dataset(path_train, path_test)\n",
    "# convert to grayscale\n",
    "train_data = svhn.convert_to_gray(train_data)\n",
    "test_data = svhn.convert_to_gray(test_data)\n",
    "print('After conversion to grayscale: ')\n",
    "print(f'Train data: {train_data.shape}, labels: {train_labels.shape}')\n",
    "print(f'Test data: {test_data.shape}, labels: {test_labels.shape}')"
   ]
  },
  {
   "cell_type": "markdown",
   "metadata": {},
   "source": [
    "## Data preprocessing\n"
   ]
  },
  {
   "cell_type": "markdown",
   "metadata": {},
   "source": [
    "### TensorFlow requires the input shape to be (image_num, height, width, channel),"
   ]
  },
  {
   "cell_type": "code",
   "execution_count": 5,
   "metadata": {},
   "outputs": [
    {
     "name": "stdout",
     "output_type": "stream",
     "text": [
      "Train data: (73257, 32, 32, 1)\n",
      "Test data: (26032, 32, 32, 1)\n"
     ]
    }
   ],
   "source": [
    "X_train = np.rollaxis(train_data,2)\n",
    "X_test = np.rollaxis(test_data,2)\n",
    "\n",
    "X_train = X_train.reshape(-1, 32, 32, 1)\n",
    "X_test = X_test.reshape(-1, 32, 32, 1)\n",
    "\n",
    "print(f'Train data: {X_train.shape}')\n",
    "print(f'Test data: {X_test.shape}')"
   ]
  },
  {
   "cell_type": "markdown",
   "metadata": {},
   "source": [
    "### Label array needs dimension 1"
   ]
  },
  {
   "cell_type": "code",
   "execution_count": 6,
   "metadata": {},
   "outputs": [
    {
     "name": "stdout",
     "output_type": "stream",
     "text": [
      "Train labels: (73257,)\n",
      "Test  labels: (26032,)\n"
     ]
    }
   ],
   "source": [
    "y_train = train_labels[:,0]\n",
    "y_test = test_labels[:,0]\n",
    "\n",
    "print(f'Train labels: {y_train.shape}')\n",
    "print(f'Test  labels: {y_test.shape}')"
   ]
  },
  {
   "cell_type": "markdown",
   "metadata": {},
   "source": [
    "### Convert label 10 to 0"
   ]
  },
  {
   "cell_type": "code",
   "execution_count": 7,
   "metadata": {},
   "outputs": [],
   "source": [
    "y_train[y_train==10] = 0\n",
    "y_test[y_test==10] = 0"
   ]
  },
  {
   "cell_type": "markdown",
   "metadata": {},
   "source": [
    "### Model\n",
    "\n",
    "- from https://nbviewer.jupyter.org/github/dyckia/SVHN-CNN/blob/master/SVHN.ipynb"
   ]
  },
  {
   "cell_type": "code",
   "execution_count": 8,
   "metadata": {},
   "outputs": [
    {
     "name": "stdout",
     "output_type": "stream",
     "text": [
      "Model: \"sequential\"\n",
      "_________________________________________________________________\n",
      "Layer (type)                 Output Shape              Param #   \n",
      "=================================================================\n",
      "conv2d (Conv2D)              (None, 30, 30, 32)        320       \n",
      "_________________________________________________________________\n",
      "conv2d_1 (Conv2D)            (None, 28, 28, 32)        9248      \n",
      "_________________________________________________________________\n",
      "max_pooling2d (MaxPooling2D) (None, 14, 14, 32)        0         \n",
      "_________________________________________________________________\n",
      "dropout (Dropout)            (None, 14, 14, 32)        0         \n",
      "_________________________________________________________________\n",
      "conv2d_2 (Conv2D)            (None, 12, 12, 64)        18496     \n",
      "_________________________________________________________________\n",
      "conv2d_3 (Conv2D)            (None, 10, 10, 64)        36928     \n",
      "_________________________________________________________________\n",
      "max_pooling2d_1 (MaxPooling2 (None, 5, 5, 64)          0         \n",
      "_________________________________________________________________\n",
      "dropout_1 (Dropout)          (None, 5, 5, 64)          0         \n",
      "_________________________________________________________________\n",
      "flatten (Flatten)            (None, 1600)              0         \n",
      "_________________________________________________________________\n",
      "dense (Dense)                (None, 512)               819712    \n",
      "_________________________________________________________________\n",
      "dropout_2 (Dropout)          (None, 512)               0         \n",
      "_________________________________________________________________\n",
      "dense_1 (Dense)              (None, 10)                5130      \n",
      "=================================================================\n",
      "Total params: 889,834\n",
      "Trainable params: 889,834\n",
      "Non-trainable params: 0\n",
      "_________________________________________________________________\n"
     ]
    }
   ],
   "source": [
    "from tensorflow.keras.models import Sequential\n",
    "from tensorflow.keras.layers import Conv2D\n",
    "from tensorflow.keras.layers import MaxPooling2D\n",
    "from tensorflow.keras.layers import Flatten\n",
    "from tensorflow.keras.layers import Dense\n",
    "from tensorflow.keras.layers import Dropout\n",
    "\n",
    "\n",
    "model = Sequential([\n",
    "    Conv2D(32, (3,3), activation='relu', input_shape=(32,32,1)),\n",
    "    Conv2D(32, (3,3), activation='relu'),\n",
    "    MaxPooling2D(2, 2),\n",
    "    Dropout(0.3),\n",
    "    Conv2D(64, (3,3), activation='relu'),\n",
    "    Conv2D(64, (3,3), activation='relu'),\n",
    "    MaxPooling2D(2, 2),\n",
    "    Dropout(0.3),\n",
    "    Flatten(),\n",
    "    Dense(512, activation='relu'),\n",
    "    Dropout(0.3),\n",
    "    Dense(10, activation='softmax')\n",
    "])\n",
    "\n",
    "\n",
    "# get a summary of our built model\n",
    "model.summary()"
   ]
  },
  {
   "cell_type": "markdown",
   "metadata": {},
   "source": [
    "### Training parameters"
   ]
  },
  {
   "cell_type": "code",
   "execution_count": 9,
   "metadata": {},
   "outputs": [],
   "source": [
    "# define the optimizer, loss function and metrics for the network\n",
    "model.compile(optimizer='adam',\n",
    "              loss='sparse_categorical_crossentropy',\n",
    "              metrics=['accuracy'])"
   ]
  },
  {
   "cell_type": "markdown",
   "metadata": {},
   "source": [
    "### Model training"
   ]
  },
  {
   "cell_type": "code",
   "execution_count": 10,
   "metadata": {},
   "outputs": [
    {
     "name": "stdout",
     "output_type": "stream",
     "text": [
      "Train on 73257 samples\n",
      "Epoch 1/10\n",
      "73257/73257 [==============================] - 153s 2ms/sample - loss: 1.0903 - accuracy: 0.6636\n",
      "Epoch 2/10\n",
      "73257/73257 [==============================] - 147s 2ms/sample - loss: 0.6303 - accuracy: 0.8045\n",
      "Epoch 3/10\n",
      "73257/73257 [==============================] - 144s 2ms/sample - loss: 0.5044 - accuracy: 0.8454\n",
      "Epoch 4/10\n",
      "73257/73257 [==============================] - 151s 2ms/sample - loss: 0.4413 - accuracy: 0.8665\n",
      "Epoch 5/10\n",
      "73257/73257 [==============================] - 150s 2ms/sample - loss: 0.4133 - accuracy: 0.8742\n",
      "Epoch 6/10\n",
      "73257/73257 [==============================] - 150s 2ms/sample - loss: 0.3847 - accuracy: 0.8839\n",
      "Epoch 7/10\n",
      "73257/73257 [==============================] - 148s 2ms/sample - loss: 0.3738 - accuracy: 0.8854\n",
      "Epoch 8/10\n",
      "73257/73257 [==============================] - 147s 2ms/sample - loss: 0.3658 - accuracy: 0.8886\n",
      "Epoch 9/10\n",
      "73257/73257 [==============================] - 141s 2ms/sample - loss: 0.3476 - accuracy: 0.8960\n",
      "Epoch 10/10\n",
      "73257/73257 [==============================] - 141s 2ms/sample - loss: 0.3500 - accuracy: 0.8944\n"
     ]
    }
   ],
   "source": [
    "# start training\n",
    "history = model.fit(X_train, y_train, epochs=10)"
   ]
  },
  {
   "cell_type": "markdown",
   "metadata": {},
   "source": [
    "### Evaluate model"
   ]
  },
  {
   "cell_type": "code",
   "execution_count": null,
   "metadata": {},
   "outputs": [],
   "source": [
    "loss, acc = model.evaluate(X_test, y_test)\n",
    "print(\"Model accuracy on test data is: {:6.3f}%\".format(100 * acc))"
   ]
  },
  {
   "cell_type": "markdown",
   "metadata": {},
   "source": [
    "### Save model\n"
   ]
  },
  {
   "cell_type": "code",
   "execution_count": null,
   "metadata": {},
   "outputs": [],
   "source": [
    "model.save('/Users/hkromer/02_PhD/02_Data/12.dcr/Stanford_housenumbers/KERAS_model.h5')"
   ]
  },
  {
   "cell_type": "markdown",
   "metadata": {},
   "source": [
    "# Load model"
   ]
  },
  {
   "cell_type": "code",
   "execution_count": 8,
   "metadata": {},
   "outputs": [
    {
     "name": "stdout",
     "output_type": "stream",
     "text": [
      "Model: \"sequential\"\n",
      "_________________________________________________________________\n",
      "Layer (type)                 Output Shape              Param #   \n",
      "=================================================================\n",
      "conv2d (Conv2D)              (None, 30, 30, 32)        320       \n",
      "_________________________________________________________________\n",
      "conv2d_1 (Conv2D)            (None, 28, 28, 32)        9248      \n",
      "_________________________________________________________________\n",
      "max_pooling2d (MaxPooling2D) (None, 14, 14, 32)        0         \n",
      "_________________________________________________________________\n",
      "dropout (Dropout)            (None, 14, 14, 32)        0         \n",
      "_________________________________________________________________\n",
      "conv2d_2 (Conv2D)            (None, 12, 12, 64)        18496     \n",
      "_________________________________________________________________\n",
      "conv2d_3 (Conv2D)            (None, 10, 10, 64)        36928     \n",
      "_________________________________________________________________\n",
      "max_pooling2d_1 (MaxPooling2 (None, 5, 5, 64)          0         \n",
      "_________________________________________________________________\n",
      "dropout_1 (Dropout)          (None, 5, 5, 64)          0         \n",
      "_________________________________________________________________\n",
      "flatten (Flatten)            (None, 1600)              0         \n",
      "_________________________________________________________________\n",
      "dense (Dense)                (None, 512)               819712    \n",
      "_________________________________________________________________\n",
      "dropout_2 (Dropout)          (None, 512)               0         \n",
      "_________________________________________________________________\n",
      "dense_1 (Dense)              (None, 10)                5130      \n",
      "=================================================================\n",
      "Total params: 889,834\n",
      "Trainable params: 889,834\n",
      "Non-trainable params: 0\n",
      "_________________________________________________________________\n"
     ]
    }
   ],
   "source": [
    "\n",
    "import tensorflow as tf\n",
    "\n",
    "model = tf.keras.models.load_model('/Users/hkromer/02_PhD/02_Data/12.dcr/Stanford_housenumbers/2019-19-21.KERAS_model.h5')\n",
    "model.summary()"
   ]
  },
  {
   "cell_type": "markdown",
   "metadata": {},
   "source": [
    "### Make some prediction on an example"
   ]
  },
  {
   "cell_type": "code",
   "execution_count": 12,
   "metadata": {},
   "outputs": [
    {
     "data": {
      "text/plain": [
       "(array([[7.0055570e-03, 9.7838501e+01, 1.2593365e-01, 5.4853773e-01,\n",
       "         1.1575747e+00, 3.3436831e-02, 7.3122652e-03, 1.2965449e-02,\n",
       "         2.6280001e-01, 5.9361681e-03],\n",
       "        [9.2550896e+01, 5.5304244e-02, 1.1272061e+00, 9.5691286e-02,\n",
       "         5.1977724e-01, 5.2961275e-02, 2.8645375e+00, 4.8097234e-02,\n",
       "         3.1603384e-01, 2.3694854e+00]], dtype=float32),\n",
       " array([1, 0], dtype=uint8))"
      ]
     },
     "execution_count": 12,
     "metadata": {},
     "output_type": "execute_result"
    }
   ],
   "source": [
    "examples = X_test[2:4,:,:]\n",
    "examples = examples.astype(np.float64)\n",
    "model.predict(examples)*100.0, y_test[2:4]"
   ]
  },
  {
   "cell_type": "code",
   "execution_count": 21,
   "metadata": {},
   "outputs": [
    {
     "name": "stdout",
     "output_type": "stream",
     "text": [
      "(26032, 32, 32, 1)\n"
     ]
    },
    {
     "data": {
      "image/png": "[encoded data removed]",
      "text/plain": [
       "<Figure size 432x288 with 1 Axes>"
      ]
     },
     "metadata": {
      "needs_background": "light"
     },
     "output_type": "display_data"
    },
    {
     "name": "stdout",
     "output_type": "stream",
     "text": [
      "2\n"
     ]
    }
   ],
   "source": [
    "print(X_test.shape)\n",
    "# ii = np.random.randint(0,1999)\n",
    "ii = 1\n",
    "t = X_test[ii,:,:,:]\n",
    "t=t.reshape(32,32)\n",
    "plt.imshow(t,cmap='gray')\n",
    "plt.show()\n",
    "print(y_test[ii])"
   ]
  },
  {
   "cell_type": "code",
   "execution_count": null,
   "metadata": {},
   "outputs": [],
   "source": []
  },
  {
   "cell_type": "code",
   "execution_count": null,
   "metadata": {},
   "outputs": [
    {
     "name": "stdout",
     "output_type": "stream",
     "text": [
      "Train data: (32, 32, 3, 73257) , Train labels: (73257, 1)\n",
      "Test data: (32, 32, 3, 26032) , Test labels: (26032, 1)\n",
      "After conversion to grayscale: \n",
      "Train data: (32, 32, 73257), labels: (73257, 1)\n",
      "Test data: (32, 32, 26032), labels: (26032, 1)\n",
      "Train data: (73257, 32, 32, 1)\n",
      "Test data: (26032, 32, 32, 1)\n",
      "Train labels: (73257,)\n",
      "Test  labels: (26032,)\n",
      "Model: \"sequential\"\n",
      "_________________________________________________________________\n",
      "Layer (type)                 Output Shape              Param #   \n",
      "=================================================================\n",
      "conv2d (Conv2D)              (None, 30, 30, 32)        320       \n",
      "_________________________________________________________________\n",
      "conv2d_1 (Conv2D)            (None, 28, 28, 32)        9248      \n",
      "_________________________________________________________________\n",
      "max_pooling2d (MaxPooling2D) (None, 14, 14, 32)        0         \n",
      "_________________________________________________________________\n",
      "dropout (Dropout)            (None, 14, 14, 32)        0         \n",
      "_________________________________________________________________\n",
      "conv2d_2 (Conv2D)            (None, 12, 12, 64)        18496     \n",
      "_________________________________________________________________\n",
      "conv2d_3 (Conv2D)            (None, 10, 10, 64)        36928     \n",
      "_________________________________________________________________\n",
      "max_pooling2d_1 (MaxPooling2 (None, 5, 5, 64)          0         \n",
      "_________________________________________________________________\n",
      "dropout_1 (Dropout)          (None, 5, 5, 64)          0         \n",
      "_________________________________________________________________\n",
      "flatten (Flatten)            (None, 1600)              0         \n",
      "_________________________________________________________________\n",
      "dense (Dense)                (None, 512)               819712    \n",
      "_________________________________________________________________\n",
      "dropout_2 (Dropout)          (None, 512)               0         \n",
      "_________________________________________________________________\n",
      "dense_1 (Dense)              (None, 10)                5130      \n",
      "=================================================================\n",
      "Total params: 889,834\n",
      "Trainable params: 889,834\n",
      "Non-trainable params: 0\n",
      "_________________________________________________________________\n",
      "None\n",
      "Train on 73257 samples\n",
      "Epoch 1/10\n",
      "73257/73257 [==============================] - 128s 2ms/sample - loss: 1.2249 - accuracy: 0.6098\n",
      "Epoch 2/10\n",
      "73257/73257 [==============================] - 133s 2ms/sample - loss: 0.7707 - accuracy: 0.7571\n",
      "Epoch 3/10\n",
      "73257/73257 [==============================] - 133s 2ms/sample - loss: 0.5666 - accuracy: 0.8250\n",
      "Epoch 4/10\n",
      "73257/73257 [==============================] - 134s 2ms/sample - loss: 0.4850 - accuracy: 0.8508\n",
      "Epoch 5/10\n",
      "73257/73257 [==============================] - 135s 2ms/sample - loss: 0.4413 - accuracy: 0.8659\n",
      "Epoch 6/10\n",
      "73257/73257 [==============================] - 135s 2ms/sample - loss: 0.4170 - accuracy: 0.8718\n",
      "Epoch 7/10\n",
      "73257/73257 [==============================] - 134s 2ms/sample - loss: 0.3965 - accuracy: 0.8793\n",
      "Epoch 8/10\n",
      "73257/73257 [==============================] - 135s 2ms/sample - loss: 0.3831 - accuracy: 0.8835\n",
      "Epoch 9/10\n",
      "73257/73257 [==============================] - 134s 2ms/sample - loss: 0.3756 - accuracy: 0.8854\n",
      "Epoch 10/10\n",
      "73257/73257 [==============================] - 130s 2ms/sample - loss: 0.3675 - accuracy: 0.8887\n"
     ]
    }
   ],
   "source": [
    "import numpy as np\n",
    "import matplotlib.pyplot as plt\n",
    "import scipy.io as sio\n",
    "import h5py\n",
    "\n",
    "class SVHNDataset():\n",
    "\n",
    "    def load_dataset(self, path_train, path_test):\n",
    "        \"\"\"\n",
    "        Loads the .mat file from the SVHN Dataset (train and test) indicated at location path. Returns it as numpy array,\n",
    "        \"\"\"\n",
    "        train_dataset = sio.loadmat(path_train)\n",
    "        test_dataset = sio.loadmat(path_test)\n",
    "\n",
    "        train_data, train_labels = train_dataset['X'], train_dataset['y']\n",
    "        test_data, test_labels = test_dataset['X'], test_dataset['y']\n",
    "\n",
    "        print( 'Train data:', train_data.shape,', Train labels:', train_labels.shape )\n",
    "        print( 'Test data:', test_data.shape,', Test labels:', test_labels.shape )\n",
    "\n",
    "        return train_data, train_labels, test_data, test_labels\n",
    "\n",
    "    def convert_to_gray(self, data):\n",
    "        \"\"\"\n",
    "        Converts all the images in the dataset into gray scale. Returns the dataset with grayscale entries.\n",
    "        \"\"\"\n",
    "\n",
    "        r, g, b = data[:,:,0,:], data[:,:,1,:], data[:,:,2,:]\n",
    "        gray = 0.2989 * r + 0.5870 * g + 0.1140 * b\n",
    "        data[:,:,0,:] = gray\n",
    "        data = data[:,:,0,:]\n",
    "\n",
    "        return data\n",
    "\n",
    "svhn = SVHNDataset()\n",
    "path_train  = '/Users/hkromer/02_PhD/02_Data/12.dcr/Stanford_housenumbers/train_32x32.mat'\n",
    "path_test  = '/Users/hkromer/02_PhD/02_Data/12.dcr/Stanford_housenumbers/test_32x32.mat'\n",
    "\n",
    "train_data, train_labels, test_data, test_labels = svhn.load_dataset(path_train, path_test)\n",
    "# convert to grayscale\n",
    "train_data = svhn.convert_to_gray(train_data)\n",
    "test_data = svhn.convert_to_gray(test_data)\n",
    "print('After conversion to grayscale: ')\n",
    "print(f'Train data: {train_data.shape}, labels: {train_labels.shape}')\n",
    "print(f'Test data: {test_data.shape}, labels: {test_labels.shape}')\n",
    "\n",
    "X_train = np.rollaxis(train_data,2)\n",
    "X_test = np.rollaxis(test_data,2)\n",
    "\n",
    "X_train = X_train.reshape(-1, 32, 32, 1)\n",
    "X_test = X_test.reshape(-1, 32, 32, 1)\n",
    "\n",
    "print(f'Train data: {X_train.shape}')\n",
    "print(f'Test data: {X_test.shape}')\n",
    "\n",
    "y_train = train_labels[:,0]\n",
    "y_test = test_labels[:,0]\n",
    "\n",
    "print(f'Train labels: {y_train.shape}')\n",
    "print(f'Test  labels: {y_test.shape}')\n",
    "\n",
    "\n",
    "y_train[y_train==10] = 0\n",
    "y_test[y_test==10] = 0\n",
    "\n",
    "\n",
    "\n",
    "from tensorflow.keras.models import Sequential\n",
    "from tensorflow.keras.layers import Conv2D\n",
    "from tensorflow.keras.layers import MaxPooling2D\n",
    "from tensorflow.keras.layers import Flatten\n",
    "from tensorflow.keras.layers import Dense\n",
    "from tensorflow.keras.layers import Dropout\n",
    "\n",
    "\n",
    "model = Sequential([\n",
    "    Conv2D(32, (3,3), activation='relu', input_shape=(32,32,1)),\n",
    "    Conv2D(32, (3,3), activation='relu'),\n",
    "    MaxPooling2D(2, 2),\n",
    "    Dropout(0.3),\n",
    "    Conv2D(64, (3,3), activation='relu'),\n",
    "    Conv2D(64, (3,3), activation='relu'),\n",
    "    MaxPooling2D(2, 2),\n",
    "    Dropout(0.3),\n",
    "    Flatten(),\n",
    "    Dense(512, activation='relu'),\n",
    "    Dropout(0.3),\n",
    "    Dense(10, activation='softmax')\n",
    "])\n",
    "\n",
    "\n",
    "# get a summary of our built model\n",
    "print(model.summary())\n",
    "\n",
    "\n",
    "# define the optimizer, loss function and metrics for the network\n",
    "model.compile(optimizer='adam',\n",
    "              loss='sparse_categorical_crossentropy',\n",
    "              metrics=['accuracy'])\n",
    "\n",
    "\n",
    "# start training\n",
    "history = model.fit(X_train, y_train, epochs=10)\n",
    "model.save('/Users/hkromer/02_PhD/02_Data/12.dcr/Stanford_housenumbers/2019-19-21.KERAS_model.h5')\n",
    "# loss, acc = model.evaluate(X_test, y_test)\n",
    "# print(\"Model accuracy on test data is: {:6.3f}%\".format(100 * acc))\n",
    "\n"
   ]
  },
  {
   "cell_type": "code",
   "execution_count": null,
   "metadata": {},
   "outputs": [],
   "source": []
  }
 ],
 "metadata": {
  "kernelspec": {
   "display_name": "Python 3",
   "language": "python",
   "name": "python3"
  },
  "language_info": {
   "codemirror_mode": {
    "name": "ipython",
    "version": 3
   },
   "file_extension": ".py",
   "mimetype": "text/x-python",
   "name": "python",
   "nbconvert_exporter": "python",
   "pygments_lexer": "ipython3",
   "version": "3.7.4"
  }
 },
 "nbformat": 4,
 "nbformat_minor": 4
}
