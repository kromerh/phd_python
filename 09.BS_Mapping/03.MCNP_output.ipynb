{
 "cells": [
  {
   "cell_type": "markdown",
   "metadata": {},
   "source": [
    "# MCNP Output\n",
    "\n",
    "- function to get the output: /Users/hkromer/02_PhD/02_Data/07.neutron_output/MCNP_neutron_output/fun_getNeutronOutputPer100muSv.py"
   ]
  },
  {
   "cell_type": "code",
   "execution_count": null,
   "metadata": {},
   "outputs": [],
   "source": [
    "import sys\n",
    "sys.path.insert(0, '/Users/hkromer/02_PhD/02_Data/07.neutron_output/MCNP_neutron_output/')\n",
    "\n",
    "from fun_getNeutronOutputPer100muSv import getNeutronOutputPer100muSv "
   ]
  },
  {
   "cell_type": "code",
   "execution_count": null,
   "metadata": {},
   "outputs": [],
   "source": [
    "?getNeutronOutputPer100muSv"
   ]
  },
  {
   "cell_type": "code",
   "execution_count": null,
   "metadata": {},
   "outputs": [],
   "source": [
    "import time\n",
    "import matplotlib.pyplot as plt\n",
    "import matplotlib\n",
    "import pandas as pd\n",
    "import numpy as np\n",
    "import datetime\n",
    "from matplotlib.ticker import AutoMinorLocator\n",
    "import re\n",
    "\n",
    "import os\n",
    "os.environ[\"PATH\"] += os.pathsep + '/usr/local/texlive/2018/bin/x86_64-darwin'\n",
    "plt.rc('text', usetex=True)\n",
    "plt.rc('font', weight='bold')\n",
    "matplotlib.rcParams['mathtext.fontset'] = 'custom'\n",
    "matplotlib.rcParams['mathtext.rm'] = 'Arial'\n",
    "matplotlib.rcParams['mathtext.it'] = 'Arial:italic'\n",
    "matplotlib.rcParams['mathtext.bf'] = 'Arial:bold'\n",
    "matplotlib.rcParams['mathtext.tt'] = 'Arial'\n",
    "matplotlib.rcParams['mathtext.cal'] = 'Arial'\n",
    "matplotlib.rcParams['text.latex.preamble'] = [r'\\usepackage{sfmath} \\boldmath']"
   ]
  },
  {
   "cell_type": "markdown",
   "metadata": {},
   "source": [
    "## Plot the output\n",
    "\n",
    "- Deuterium energy is 100 keV"
   ]
  },
  {
   "cell_type": "code",
   "execution_count": null,
   "metadata": {},
   "outputs": [],
   "source": [
    "fname = '/Users/hkromer/02_PhD/02_Data/07.neutron_output/MCNP_neutron_output/MCNP_results_newTarget/df_ID234_neutron_output_for_Edeut_100.csv'\n",
    "df = pd.read_csv(fname, index_col=0)\n",
    "df = df[(df.index >25)& (df.index <210)]\n",
    "df.head()"
   ]
  },
  {
   "cell_type": "code",
   "execution_count": null,
   "metadata": {},
   "outputs": [],
   "source": [
    "fig = plt.figure(figsize=(8, 6))\n",
    "fs = 20\n",
    "markersize = 8\n",
    "scale_y = 1e7\n",
    "lw = 2\n",
    "# # North\n",
    "# plt.plot(df.index.values, df['N'].values/scale_y, marker='o', color='darkblue', markersize=markersize, label=r'Forward (+x)')\n",
    "# # South\n",
    "# plt.plot(df.index.values, df['S'].values/scale_y, marker='s', color='darkred', markersize=markersize, label=r'Backward (-x)')\n",
    "# # West\n",
    "# plt.plot(df.index.values, df['W'].values/scale_y, marker='v', color='darkorange', markersize=markersize, label=r'Side (+y)', alpha=0.55)\n",
    "# # East\n",
    "# plt.plot(df.index.values, df['E'].values/scale_y, marker='d', color='darkgreen', markersize=markersize, label=r'Side (-y)', alpha=0.55)\n",
    "# North\n",
    "plt.plot(df.index.values, df['N'].values/scale_y, color='darkblue', markersize=markersize, label=r'Forward (+x)', linewidth=lw)\n",
    "# South\n",
    "plt.plot(df.index.values, df['S'].values/scale_y, color='darkred', markersize=markersize, label=r'Backward (-x)', linewidth=lw)\n",
    "# West\n",
    "plt.plot(df.index.values, df['W'].values/scale_y, color='darkorange', markersize=markersize, label=r'Side (+y)', alpha=0.55, linewidth=lw)\n",
    "# East\n",
    "plt.plot(df.index.values, df['E'].values/scale_y, color='darkgreen', markersize=markersize, label=r'Side (-y)', alpha=0.55, linewidth=lw)\n",
    "\n",
    "ax1 = plt.gca()\n",
    "# plt.yscale('log')\n",
    "# take the same ylim as in the previous graph\n",
    "ylim = ax1.get_ylim()\n",
    "\n",
    "plt.xlim(25, 210)\n",
    "plt.ylim(0, 2.5)\n",
    "\n",
    "plt.ylabel(r\"\\textbf{Neutron output in }\"+ r'$ [10^7 \\frac{n}{s}] $' + '\\n'+ r\"\\textbf{per 100} $ \\frac{\\mu Sv}{h}$\", fontsize=fs)\n",
    "plt.xlabel(r\"\\textbf{Distance source to tally [cm]}\", fontsize=fs)\n",
    "\n",
    "ax1.tick_params('x', colors='black', labelsize=fs-2)\n",
    "ax1.tick_params('y', colors='black', labelsize=fs-2)\n",
    "plt.grid(which=\"minor\",ls=\"--\", color='0.65')\n",
    "plt.grid(which=\"major\",ls=\"-\", color='0.55')\n",
    "leg = plt.legend(fontsize=fs-4)\n",
    "leg.set_title(r\"\\textbf{Direction}\", prop = {'size': fs-4})\n",
    "plt.tight_layout()\n",
    "plt.show()"
   ]
  },
  {
   "cell_type": "code",
   "execution_count": null,
   "metadata": {},
   "outputs": [],
   "source": []
  },
  {
   "cell_type": "code",
   "execution_count": null,
   "metadata": {},
   "outputs": [],
   "source": []
  },
  {
   "cell_type": "code",
   "execution_count": null,
   "metadata": {},
   "outputs": [],
   "source": []
  }
 ],
 "metadata": {
  "kernelspec": {
   "display_name": "Python 3",
   "language": "python",
   "name": "python3"
  },
  "language_info": {
   "codemirror_mode": {
    "name": "ipython",
    "version": 3
   },
   "file_extension": ".py",
   "mimetype": "text/x-python",
   "name": "python",
   "nbconvert_exporter": "python",
   "pygments_lexer": "ipython3",
   "version": "3.7.3"
  }
 },
 "nbformat": 4,
 "nbformat_minor": 4
}
