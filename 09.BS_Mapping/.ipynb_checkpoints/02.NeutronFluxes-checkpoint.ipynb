{
 "cells": [
  {
   "cell_type": "markdown",
   "metadata": {},
   "source": [
    "# Neutron output flux curves (CurrentTarget227) FOR THE NEW TARGET\n",
    "\n",
    "- data is in /Volumes/hkromer/10_Experiments/02_MCNP/CurrentTarget227/CurrentTarget227_normal/df_flux.csv\n",
    "- it is copied to /Users/hkromer/02_PhD/02_Data/06.BS_Mapping/CurrentTarget227/df_flux.csv\n",
    "\n",
    "Settings of run 227 (see Notion card)\n",
    ">New target  \n",
    "Directional source 100 keV  \n",
    "Tally energy binning  0.0,3.00,0.05  \n",
    "Nps 2e8  \n",
    "CUT:n j 1e-9  \n",
    "\n"
   ]
  },
  {
   "cell_type": "code",
   "execution_count": null,
   "metadata": {},
   "outputs": [],
   "source": [
    "outputfolder = '/Users/hkromer/polybox/Thesis/Chapters/DetailedNeutronGeneratorCharacterization/Figures/'"
   ]
  },
  {
   "cell_type": "code",
   "execution_count": null,
   "metadata": {},
   "outputs": [],
   "source": [
    "import time\n",
    "import matplotlib.pyplot as plt\n",
    "import matplotlib\n",
    "import pandas as pd\n",
    "import numpy as np\n",
    "import datetime\n",
    "from matplotlib.ticker import AutoMinorLocator\n",
    "import re\n",
    "\n",
    "import os\n",
    "os.environ[\"PATH\"] += os.pathsep + '/usr/local/texlive/2018/bin/x86_64-darwin'\n",
    "plt.rc('text', usetex=True)\n",
    "plt.rc('font', weight='bold')\n",
    "matplotlib.rcParams['mathtext.fontset'] = 'custom'\n",
    "matplotlib.rcParams['mathtext.rm'] = 'Arial'\n",
    "matplotlib.rcParams['mathtext.it'] = 'Arial:italic'\n",
    "matplotlib.rcParams['mathtext.bf'] = 'Arial:bold'\n",
    "matplotlib.rcParams['mathtext.tt'] = 'Arial'\n",
    "matplotlib.rcParams['mathtext.cal'] = 'Arial'\n",
    "matplotlib.rcParams['text.latex.preamble'] = [r'\\usepackage{sfmath} \\boldmath']"
   ]
  },
  {
   "cell_type": "markdown",
   "metadata": {},
   "source": [
    "## Load data"
   ]
  },
  {
   "cell_type": "code",
   "execution_count": null,
   "metadata": {},
   "outputs": [],
   "source": [
    "fname = '/Users/hkromer/02_PhD/02_Data/06.BS_Mapping/CurrentTarget227/df_flux.csv'"
   ]
  },
  {
   "cell_type": "code",
   "execution_count": null,
   "metadata": {},
   "outputs": [],
   "source": [
    "df = pd.read_csv(fname, index_col=0)\n",
    "print(df.columns)\n",
    "df.head()"
   ]
  },
  {
   "cell_type": "markdown",
   "metadata": {},
   "source": [
    "### Units df\n",
    "\n",
    "- energy: mid bin energy in MeV\n",
    "- columns: F4 tally, average flux in the cell. Numbers per cm2 per source particle"
   ]
  },
  {
   "cell_type": "code",
   "execution_count": null,
   "metadata": {},
   "outputs": [],
   "source": [
    "fig = plt.figure(figsize=(8, 6))\n",
    "fs = 20\n",
    "markersize = 8\n",
    "figname = 'MCNP_flux_close'\n",
    "ebin = 0.05\n",
    "nps = 2e8\n",
    "\n",
    "# 20 cm North\n",
    "plt.plot(df.index.values, df['N 20'].values/ebin, marker='o', color='darkblue', markersize=markersize, label=r'Forward (x=20)')\n",
    "# plt.plot(df.index.values, nps*df['N 20'].values/ebin, marker='o', color='darkblue', markersize=markersize, label=r'Forward (x=20)')\n",
    "# 55 cm South\n",
    "plt.plot(df.index.values, df['S 55'].values/ebin, marker='s', color='darkred', markersize=markersize, label=r'Backward (x=-55)')\n",
    "# 20 cm West\n",
    "plt.plot(df.index.values, df['W 20'].values/ebin, marker='v', color='darkorange', markersize=markersize, label=r'Side (y=20)', alpha=0.55)\n",
    "# 20 cm East\n",
    "plt.plot(df.index.values, df['E 20'].values/ebin, marker='d', color='darkgreen', markersize=markersize, label=r'Side (y=-20)', alpha=0.55)\n",
    "\n",
    "ax1 = plt.gca()\n",
    "plt.yscale('log')\n",
    "ylim = ax1.get_ylim()\n",
    "print(ylim)\n",
    "plt.xlim(-0.1, 3.0)\n",
    "plt.ylim(ylim)\n",
    "\n",
    "plt.xlabel(r\"\\textbf{Energy (center bin) [MeV]}\", fontsize=fs)\n",
    "plt.ylabel(r\"\\textbf{Flux from MCNP $\\left[ \\frac{n}{cm^2 \\cdot s \\cdot MeV} \\right]$\", fontsize=fs)\n",
    "\n",
    "ax1.tick_params('x', colors='black', labelsize=fs-2)\n",
    "ax1.tick_params('y', colors='black', labelsize=fs-2)\n",
    "plt.grid(which=\"minor\",ls=\"--\", color='0.65')\n",
    "plt.grid(which=\"major\",ls=\"-\", color='0.55')\n",
    "leg = plt.legend(fontsize=fs-4)\n",
    "leg.set_title(r\"\\textbf{Position [cm]}\", prop = {'size': fs-4})\n",
    "plt.tight_layout()\n",
    "plt.savefig(f'{outputfolder}/{figname}/{figname}.pdf')\n",
    "plt.show()"
   ]
  },
  {
   "cell_type": "code",
   "execution_count": null,
   "metadata": {},
   "outputs": [],
   "source": [
    "fig = plt.figure(figsize=(8, 6))\n",
    "fs = 20\n",
    "markersize = 8\n",
    "figname = 'MCNP_flux_far'\n",
    "ebin = 0.05\n",
    "nps = 2e8\n",
    "\n",
    "\n",
    "# 20 cm North\n",
    "plt.plot(df.index.values, (1/ebin)*df['N 95'].values, marker='o', color='darkblue', markersize=markersize, label=r'Forward (x=95)')\n",
    "# 55 cm South\n",
    "plt.plot(df.index.values, (1/ebin)*df['S 105'].values, marker='s', color='darkred', markersize=markersize, label=r'Backward (x=-105)')\n",
    "# 20 cm West\n",
    "plt.plot(df.index.values, (1/ebin)*df['W 95'].values, marker='v', color='darkorange', markersize=markersize, label=r'Side (y=95)', alpha=0.55)\n",
    "# 20 cm East\n",
    "plt.plot(df.index.values, (1/ebin)*df['E 95'].values, marker='d', color='darkgreen', markersize=markersize, label=r'Side (y=-95)', alpha=0.55)\n",
    "\n",
    "\n",
    "ax1 = plt.gca()\n",
    "plt.yscale('log')\n",
    "\n",
    "# take the same ylim as in the previous graph\n",
    "# ylim = ax1.get_ylim()\n",
    "ylim = [1e-7,1e-3]\n",
    "plt.xlim(-0.1, 3.0)\n",
    "plt.ylim(ylim)\n",
    "\n",
    "plt.xlabel(r\"\\textbf{Energy (center bin) [MeV]}\", fontsize=fs)\n",
    "plt.ylabel(r\"\\textbf{Flux per source particle }\" + r\"$\\left[ cm^{-2} \\cdot MeV^{-1} \\right]$\", fontsize=fs)\n",
    "\n",
    "ax1.tick_params('x', colors='black', labelsize=fs-2)\n",
    "ax1.tick_params('y', colors='black', labelsize=fs-2)\n",
    "plt.grid(which=\"minor\",ls=\"--\", color='0.65')\n",
    "plt.grid(which=\"major\",ls=\"-\", color='0.55')\n",
    "leg = plt.legend(loc=[0.25,0.6], fontsize=fs-4)\n",
    "leg.set_title(r\"\\textbf{Position [cm]}\", prop = {'size': fs-4})\n",
    "plt.tight_layout()\n",
    "plt.savefig(f'{outputfolder}/{figname}/{figname}.pdf')\n",
    "plt.show()\n",
    "\n",
    "df_output = pd.DataFrame()\n",
    "output_file = '/Users/hkromer/02_PhD/02_Data/06.BS_Mapping/flux_95to105cm.csv'# for Robert\n",
    "df_output['N 95'] = (nps/ebin)*df['N 95']\n",
    "df_output['S 105'] = (nps/ebin)*df['S 105']\n",
    "df_output['W 95'] = (nps/ebin)*df['W 95']\n",
    "df_output['E 95'] = (nps/ebin)*df['E 95']\n",
    "df_output.to_csv(output_file)\n",
    "# fig = plt.figure(figsize=(8, 6))\n",
    "# for col in df_output.columns:\n",
    "#     plt.plot(df_output.index, df_output[col])\n",
    "# plt.yscale('log')\n",
    "# plt.xlim(-0.1, 3.0)\n",
    "# plt.ylim(ylim)\n",
    "# plt.show()"
   ]
  },
  {
   "cell_type": "code",
   "execution_count": null,
   "metadata": {},
   "outputs": [],
   "source": [
    "fig = plt.figure(figsize=(8, 6))\n",
    "fs = 20\n",
    "markersize = 8\n",
    "figname = 'MCNP_flux_mid'\n",
    "ebin = 0.05\n",
    "nps = 2e8\n",
    "\n",
    "# 20 cm North\n",
    "plt.plot(df.index.values, (1/ebin)*df['N 45'].values, marker='o', color='darkblue', markersize=markersize, label=r'Forward (x=45)')\n",
    "# 55 cm South\n",
    "plt.plot(df.index.values, (1/ebin)*df['S 55'].values, marker='s', color='darkred', markersize=markersize, label=r'Backward (x=-55)')\n",
    "# 20 cm West\n",
    "plt.plot(df.index.values, (1/ebin)*df['W 45'].values, marker='v', color='darkorange', markersize=markersize, label=r'Side (y=45)', alpha=0.55)\n",
    "# 20 cm East\n",
    "plt.plot(df.index.values, (1/ebin)*df['E 45'].values, marker='d', color='darkgreen', markersize=markersize, label=r'Side (y=-45)', alpha=0.55)\n",
    "\n",
    "ax1 = plt.gca()\n",
    "plt.yscale('log')\n",
    "# ylim = ax1.get_ylim()\n",
    "ylim = [1e-7,1e-3]\n",
    "\n",
    "plt.xlim(-0.1, 3.0)\n",
    "plt.ylim(ylim)\n",
    "\n",
    "plt.xlabel(r\"\\textbf{Energy (center bin) [MeV]}\", fontsize=fs)\n",
    "plt.ylabel(r\"\\textbf{Flux per source particle }\" + r\"$\\left[ cm^{-2} \\cdot MeV^{-1} \\right]$\", fontsize=fs)\n",
    "\n",
    "\n",
    "ax1.tick_params('x', colors='black', labelsize=fs-2)\n",
    "ax1.tick_params('y', colors='black', labelsize=fs-2)\n",
    "plt.grid(which=\"minor\",ls=\"--\", color='0.65')\n",
    "plt.grid(which=\"major\",ls=\"-\", color='0.55')\n",
    "leg = plt.legend(loc=[0.25,0.6], fontsize=fs-4)\n",
    "leg.set_title(r\"\\textbf{Position [cm]}\", prop = {'size': fs-4})\n",
    "plt.tight_layout()\n",
    "plt.savefig(f'{outputfolder}/{figname}/{figname}.pdf')\n",
    "plt.show()\n",
    "\n",
    "df_output = pd.DataFrame()\n",
    "output_file = '/Users/hkromer/02_PhD/02_Data/06.BS_Mapping/flux_45to55cm.csv'# for Robert\n",
    "df_output['N 45'] = (1/ebin)*df['N 45']\n",
    "df_output['S 55'] = (1/ebin)*df['S 55']\n",
    "df_output['W 45'] = (1/ebin)*df['W 45']\n",
    "df_output['E 45'] = (1/ebin)*df['E 45']\n",
    "df_output.to_csv(output_file)\n",
    "fig = plt.figure(figsize=(8, 6))\n",
    "for col in df_output.columns:\n",
    "    plt.plot(df_output.index, df_output[col])\n",
    "plt.yscale('log')\n",
    "plt.xlim(-0.1, 3.0)\n",
    "plt.ylim(ylim)\n",
    "plt.show()"
   ]
  },
  {
   "cell_type": "code",
   "execution_count": null,
   "metadata": {},
   "outputs": [],
   "source": [
    "# export all in one file for Robert\n",
    "df_output = pd.DataFrame()\n",
    "output_file = '/Users/hkromer/02_PhD/02_Data/06.BS_Mapping/flux_both.csv'# for Robert\n",
    "df_output['N 95'] = (1/ebin)*df['N 95']\n",
    "df_output['S 105'] = (1/ebin)*df['S 105']\n",
    "df_output['W 95'] = (1/ebin)*df['W 95']\n",
    "df_output['E 95'] = (1/ebin)*df['E 95']\n",
    "df_output['N 45'] = (1/ebin)*df['N 45']\n",
    "df_output['S 55'] = (1/ebin)*df['S 55']\n",
    "df_output['W 45'] = (1/ebin)*df['W 45']\n",
    "df_output['E 45'] = (1/ebin)*df['E 45']\n",
    "df_output.to_csv(output_file)"
   ]
  },
  {
   "cell_type": "code",
   "execution_count": null,
   "metadata": {},
   "outputs": [],
   "source": [
    "for i in list(df_output.columns):\n",
    "    print(i)"
   ]
  },
  {
   "cell_type": "code",
   "execution_count": null,
   "metadata": {},
   "outputs": [],
   "source": []
  },
  {
   "cell_type": "code",
   "execution_count": null,
   "metadata": {},
   "outputs": [],
   "source": []
  }
 ],
 "metadata": {
  "kernelspec": {
   "display_name": "Python 3",
   "language": "python",
   "name": "python3"
  },
  "language_info": {
   "codemirror_mode": {
    "name": "ipython",
    "version": 3
   },
   "file_extension": ".py",
   "mimetype": "text/x-python",
   "name": "python",
   "nbconvert_exporter": "python",
   "pygments_lexer": "ipython3",
   "version": "3.7.4"
  }
 },
 "nbformat": 4,
 "nbformat_minor": 4
}
