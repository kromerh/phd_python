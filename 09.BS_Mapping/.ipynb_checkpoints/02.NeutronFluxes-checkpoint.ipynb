{
 "cells": [
  {
   "cell_type": "markdown",
   "metadata": {},
   "source": [
    "# Neutron output flux curves (CurrentTarget227) FOR THE NEW TARGET\n",
    "\n",
    "- data is in /Volumes/hkromer/10_Experiments/02_MCNP/CurrentTarget227/CurrentTarget227_normal/df_flux.csv\n",
    "- it is copied to /Users/hkromer/02_PhD/02_Data/06.BS_Mapping/CurrentTarget227/df_flux.csv\n",
    "\n",
    "Settings of run 227 (see Notion card)\n",
    ">New target  \n",
    "Directional source 100 keV  \n",
    "Tally energy binning  0.0,3.00,0.05  \n",
    "Nps 2e8  \n",
    "CUT:n j 1e-9  \n",
    "\n"
   ]
  },
  {
   "cell_type": "code",
   "execution_count": 1,
   "metadata": {},
   "outputs": [],
   "source": [
    "outputfolder = '/Users/hkromer/polybox/Thesis/Chapters/DetailedNeutronGeneratorCharacterization/Figures/'"
   ]
  },
  {
   "cell_type": "code",
   "execution_count": 2,
   "metadata": {},
   "outputs": [],
   "source": [
    "import time\n",
    "import matplotlib.pyplot as plt\n",
    "import matplotlib\n",
    "import pandas as pd\n",
    "import numpy as np\n",
    "import datetime\n",
    "from matplotlib.ticker import AutoMinorLocator\n",
    "import re\n",
    "\n",
    "import os\n",
    "os.environ[\"PATH\"] += os.pathsep + '/usr/local/texlive/2018/bin/x86_64-darwin'\n",
    "plt.rc('text', usetex=True)\n",
    "plt.rc('font', weight='bold')\n",
    "matplotlib.rcParams['mathtext.fontset'] = 'custom'\n",
    "matplotlib.rcParams['mathtext.rm'] = 'Arial'\n",
    "matplotlib.rcParams['mathtext.it'] = 'Arial:italic'\n",
    "matplotlib.rcParams['mathtext.bf'] = 'Arial:bold'\n",
    "matplotlib.rcParams['mathtext.tt'] = 'Arial'\n",
    "matplotlib.rcParams['mathtext.cal'] = 'Arial'\n",
    "matplotlib.rcParams['text.latex.preamble'] = [r'\\usepackage{sfmath} \\boldmath']"
   ]
  },
  {
   "cell_type": "markdown",
   "metadata": {},
   "source": [
    "## Load data"
   ]
  },
  {
   "cell_type": "code",
   "execution_count": 3,
   "metadata": {},
   "outputs": [],
   "source": [
    "fname = '/Users/hkromer/02_PhD/02_Data/06.BS_Mapping/CurrentTarget227/df_flux.csv'"
   ]
  },
  {
   "cell_type": "code",
   "execution_count": 4,
   "metadata": {},
   "outputs": [
    {
     "name": "stdout",
     "output_type": "stream",
     "text": [
      "Index(['W 20', 'W 45', 'W 70', 'W 95', 'W 120', 'W 145', 'W 170', 'W 195',\n",
      "       'W 220', 'W 245', 'E 20', 'E 45', 'E 70', 'E 95', 'E 120', 'E 145',\n",
      "       'E 170', 'E 195', 'E 220', 'E 245', 'N 20', 'N 45', 'N 70', 'N 95',\n",
      "       'N 120', 'N 145', 'N 170', 'N 195', 'N 220', 'N 245', 'S 30', 'S 55',\n",
      "       'S 80', 'S 105', 'S 130', 'S 155', 'S 180', 'S 205', 'S 230', 'S 255',\n",
      "       'R'],\n",
      "      dtype='object')\n"
     ]
    },
    {
     "data": {
      "text/html": [
       "<div>\n",
       "<style scoped>\n",
       "    .dataframe tbody tr th:only-of-type {\n",
       "        vertical-align: middle;\n",
       "    }\n",
       "\n",
       "    .dataframe tbody tr th {\n",
       "        vertical-align: top;\n",
       "    }\n",
       "\n",
       "    .dataframe thead th {\n",
       "        text-align: right;\n",
       "    }\n",
       "</style>\n",
       "<table border=\"1\" class=\"dataframe\">\n",
       "  <thead>\n",
       "    <tr style=\"text-align: right;\">\n",
       "      <th></th>\n",
       "      <th>W 20</th>\n",
       "      <th>W 45</th>\n",
       "      <th>W 70</th>\n",
       "      <th>W 95</th>\n",
       "      <th>W 120</th>\n",
       "      <th>W 145</th>\n",
       "      <th>W 170</th>\n",
       "      <th>W 195</th>\n",
       "      <th>W 220</th>\n",
       "      <th>W 245</th>\n",
       "      <th>...</th>\n",
       "      <th>S 55</th>\n",
       "      <th>S 80</th>\n",
       "      <th>S 105</th>\n",
       "      <th>S 130</th>\n",
       "      <th>S 155</th>\n",
       "      <th>S 180</th>\n",
       "      <th>S 205</th>\n",
       "      <th>S 230</th>\n",
       "      <th>S 255</th>\n",
       "      <th>R</th>\n",
       "    </tr>\n",
       "    <tr>\n",
       "      <th>energy</th>\n",
       "      <th></th>\n",
       "      <th></th>\n",
       "      <th></th>\n",
       "      <th></th>\n",
       "      <th></th>\n",
       "      <th></th>\n",
       "      <th></th>\n",
       "      <th></th>\n",
       "      <th></th>\n",
       "      <th></th>\n",
       "      <th></th>\n",
       "      <th></th>\n",
       "      <th></th>\n",
       "      <th></th>\n",
       "      <th></th>\n",
       "      <th></th>\n",
       "      <th></th>\n",
       "      <th></th>\n",
       "      <th></th>\n",
       "      <th></th>\n",
       "      <th></th>\n",
       "    </tr>\n",
       "  </thead>\n",
       "  <tbody>\n",
       "    <tr>\n",
       "      <th>-1.000</th>\n",
       "      <td>0.000000</td>\n",
       "      <td>0.000000e+00</td>\n",
       "      <td>0.000000e+00</td>\n",
       "      <td>0.000000e+00</td>\n",
       "      <td>0.000000e+00</td>\n",
       "      <td>0.000000e+00</td>\n",
       "      <td>0.000000e+00</td>\n",
       "      <td>0.000000e+00</td>\n",
       "      <td>0.000000e+00</td>\n",
       "      <td>0.000000e+00</td>\n",
       "      <td>...</td>\n",
       "      <td>0.000000e+00</td>\n",
       "      <td>0.000000e+00</td>\n",
       "      <td>0.000000e+00</td>\n",
       "      <td>0.000000e+00</td>\n",
       "      <td>0.000000e+00</td>\n",
       "      <td>0.000000e+00</td>\n",
       "      <td>0.000000e+00</td>\n",
       "      <td>0.000000e+00</td>\n",
       "      <td>0.000000e+00</td>\n",
       "      <td>0.004000</td>\n",
       "    </tr>\n",
       "    <tr>\n",
       "      <th>0.025</th>\n",
       "      <td>0.000005</td>\n",
       "      <td>3.582950e-06</td>\n",
       "      <td>3.329240e-06</td>\n",
       "      <td>3.247610e-06</td>\n",
       "      <td>3.181140e-06</td>\n",
       "      <td>3.125200e-06</td>\n",
       "      <td>3.080900e-06</td>\n",
       "      <td>3.023180e-06</td>\n",
       "      <td>2.998690e-06</td>\n",
       "      <td>2.980080e-06</td>\n",
       "      <td>...</td>\n",
       "      <td>3.151850e-06</td>\n",
       "      <td>3.175200e-06</td>\n",
       "      <td>3.146980e-06</td>\n",
       "      <td>3.096070e-06</td>\n",
       "      <td>3.038670e-06</td>\n",
       "      <td>2.997140e-06</td>\n",
       "      <td>2.957620e-06</td>\n",
       "      <td>2.930760e-06</td>\n",
       "      <td>2.929590e-06</td>\n",
       "      <td>0.124000</td>\n",
       "    </tr>\n",
       "    <tr>\n",
       "      <th>0.075</th>\n",
       "      <td>0.000001</td>\n",
       "      <td>3.303710e-07</td>\n",
       "      <td>1.976360e-07</td>\n",
       "      <td>1.519000e-07</td>\n",
       "      <td>1.301420e-07</td>\n",
       "      <td>1.174500e-07</td>\n",
       "      <td>1.106890e-07</td>\n",
       "      <td>1.023740e-07</td>\n",
       "      <td>9.990000e-08</td>\n",
       "      <td>9.618150e-08</td>\n",
       "      <td>...</td>\n",
       "      <td>1.919750e-07</td>\n",
       "      <td>1.373550e-07</td>\n",
       "      <td>1.160350e-07</td>\n",
       "      <td>1.067010e-07</td>\n",
       "      <td>9.906630e-08</td>\n",
       "      <td>9.358980e-08</td>\n",
       "      <td>8.976390e-08</td>\n",
       "      <td>8.888720e-08</td>\n",
       "      <td>8.611370e-08</td>\n",
       "      <td>0.170167</td>\n",
       "    </tr>\n",
       "    <tr>\n",
       "      <th>0.125</th>\n",
       "      <td>0.000001</td>\n",
       "      <td>3.145970e-07</td>\n",
       "      <td>1.774260e-07</td>\n",
       "      <td>1.293790e-07</td>\n",
       "      <td>1.064520e-07</td>\n",
       "      <td>9.362460e-08</td>\n",
       "      <td>8.606550e-08</td>\n",
       "      <td>8.005420e-08</td>\n",
       "      <td>7.549310e-08</td>\n",
       "      <td>7.262130e-08</td>\n",
       "      <td>...</td>\n",
       "      <td>1.787950e-07</td>\n",
       "      <td>1.177940e-07</td>\n",
       "      <td>9.362730e-08</td>\n",
       "      <td>8.334210e-08</td>\n",
       "      <td>7.596180e-08</td>\n",
       "      <td>7.105310e-08</td>\n",
       "      <td>6.704960e-08</td>\n",
       "      <td>6.445620e-08</td>\n",
       "      <td>6.265300e-08</td>\n",
       "      <td>0.237500</td>\n",
       "    </tr>\n",
       "    <tr>\n",
       "      <th>0.175</th>\n",
       "      <td>0.000001</td>\n",
       "      <td>2.858710e-07</td>\n",
       "      <td>1.558160e-07</td>\n",
       "      <td>1.114580e-07</td>\n",
       "      <td>9.085140e-08</td>\n",
       "      <td>7.995460e-08</td>\n",
       "      <td>7.259900e-08</td>\n",
       "      <td>6.720250e-08</td>\n",
       "      <td>6.340510e-08</td>\n",
       "      <td>6.046610e-08</td>\n",
       "      <td>...</td>\n",
       "      <td>1.652800e-07</td>\n",
       "      <td>1.019550e-07</td>\n",
       "      <td>7.907690e-08</td>\n",
       "      <td>7.020660e-08</td>\n",
       "      <td>6.282710e-08</td>\n",
       "      <td>5.871400e-08</td>\n",
       "      <td>5.627510e-08</td>\n",
       "      <td>5.458340e-08</td>\n",
       "      <td>5.234290e-08</td>\n",
       "      <td>0.309500</td>\n",
       "    </tr>\n",
       "  </tbody>\n",
       "</table>\n",
       "<p>5 rows × 41 columns</p>\n",
       "</div>"
      ],
      "text/plain": [
       "            W 20          W 45          W 70          W 95         W 120  \\\n",
       "energy                                                                     \n",
       "-1.000  0.000000  0.000000e+00  0.000000e+00  0.000000e+00  0.000000e+00   \n",
       " 0.025  0.000005  3.582950e-06  3.329240e-06  3.247610e-06  3.181140e-06   \n",
       " 0.075  0.000001  3.303710e-07  1.976360e-07  1.519000e-07  1.301420e-07   \n",
       " 0.125  0.000001  3.145970e-07  1.774260e-07  1.293790e-07  1.064520e-07   \n",
       " 0.175  0.000001  2.858710e-07  1.558160e-07  1.114580e-07  9.085140e-08   \n",
       "\n",
       "               W 145         W 170         W 195         W 220         W 245  \\\n",
       "energy                                                                         \n",
       "-1.000  0.000000e+00  0.000000e+00  0.000000e+00  0.000000e+00  0.000000e+00   \n",
       " 0.025  3.125200e-06  3.080900e-06  3.023180e-06  2.998690e-06  2.980080e-06   \n",
       " 0.075  1.174500e-07  1.106890e-07  1.023740e-07  9.990000e-08  9.618150e-08   \n",
       " 0.125  9.362460e-08  8.606550e-08  8.005420e-08  7.549310e-08  7.262130e-08   \n",
       " 0.175  7.995460e-08  7.259900e-08  6.720250e-08  6.340510e-08  6.046610e-08   \n",
       "\n",
       "        ...          S 55          S 80         S 105         S 130  \\\n",
       "energy  ...                                                           \n",
       "-1.000  ...  0.000000e+00  0.000000e+00  0.000000e+00  0.000000e+00   \n",
       " 0.025  ...  3.151850e-06  3.175200e-06  3.146980e-06  3.096070e-06   \n",
       " 0.075  ...  1.919750e-07  1.373550e-07  1.160350e-07  1.067010e-07   \n",
       " 0.125  ...  1.787950e-07  1.177940e-07  9.362730e-08  8.334210e-08   \n",
       " 0.175  ...  1.652800e-07  1.019550e-07  7.907690e-08  7.020660e-08   \n",
       "\n",
       "               S 155         S 180         S 205         S 230         S 255  \\\n",
       "energy                                                                         \n",
       "-1.000  0.000000e+00  0.000000e+00  0.000000e+00  0.000000e+00  0.000000e+00   \n",
       " 0.025  3.038670e-06  2.997140e-06  2.957620e-06  2.930760e-06  2.929590e-06   \n",
       " 0.075  9.906630e-08  9.358980e-08  8.976390e-08  8.888720e-08  8.611370e-08   \n",
       " 0.125  7.596180e-08  7.105310e-08  6.704960e-08  6.445620e-08  6.265300e-08   \n",
       " 0.175  6.282710e-08  5.871400e-08  5.627510e-08  5.458340e-08  5.234290e-08   \n",
       "\n",
       "               R  \n",
       "energy            \n",
       "-1.000  0.004000  \n",
       " 0.025  0.124000  \n",
       " 0.075  0.170167  \n",
       " 0.125  0.237500  \n",
       " 0.175  0.309500  \n",
       "\n",
       "[5 rows x 41 columns]"
      ]
     },
     "execution_count": 4,
     "metadata": {},
     "output_type": "execute_result"
    }
   ],
   "source": [
    "df = pd.read_csv(fname, index_col=0)\n",
    "print(df.columns)\n",
    "df.head()"
   ]
  },
  {
   "cell_type": "markdown",
   "metadata": {},
   "source": [
    "### Units df\n",
    "\n",
    "- energy: mid bin energy in MeV\n",
    "- columns: F4 tally, average flux in the cell. Numbers per cm2 per source particle"
   ]
  },
  {
   "cell_type": "code",
   "execution_count": 8,
   "metadata": {},
   "outputs": [
    {
     "data": {
      "text/plain": [
       "array([-1.   ,  0.025,  0.075,  0.125,  0.175,  0.225,  0.275,  0.325,\n",
       "        0.375,  0.425,  0.475,  0.525,  0.575,  0.625,  0.675,  0.725,\n",
       "        0.775,  0.825,  0.875,  0.925,  0.975,  1.025,  1.075,  1.125,\n",
       "        1.175,  1.225,  1.275,  1.325,  1.375,  1.425,  1.475,  1.525,\n",
       "        1.575,  1.625,  1.675,  1.725,  1.775,  1.825,  1.875,  1.925,\n",
       "        1.975,  2.025,  2.075,  2.125,  2.175,  2.225,  2.275,  2.325,\n",
       "        2.375,  2.425,  2.475,  2.525,  2.575,  2.625,  2.675,  2.725,\n",
       "        2.775,  2.825,  2.875,  2.925,  2.975])"
      ]
     },
     "execution_count": 8,
     "metadata": {},
     "output_type": "execute_result"
    }
   ],
   "source": [
    "df.index.values"
   ]
  },
  {
   "cell_type": "code",
   "execution_count": 9,
   "metadata": {},
   "outputs": [
    {
     "data": {
      "image/png": "[encoded data removed]",
      "text/plain": [
       "<Figure size 576x432 with 1 Axes>"
      ]
     },
     "metadata": {
      "needs_background": "light"
     },
     "output_type": "display_data"
    }
   ],
   "source": [
    "fig = plt.figure(figsize=(8, 6))\n",
    "fs = 20\n",
    "markersize = 8\n",
    "figname = 'MCNP_flux_close'\n",
    "\n",
    "# 20 cm North\n",
    "plt.plot(df.index.values, df['N 20'].values, marker='o', color='darkblue', markersize=markersize, label=r'Forward (x=20)')\n",
    "# 55 cm South\n",
    "plt.plot(df.index.values, df['S 55'].values, marker='s', color='darkred', markersize=markersize, label=r'Backward (x=-55)')\n",
    "# 20 cm West\n",
    "plt.plot(df.index.values, df['W 20'].values, marker='v', color='darkorange', markersize=markersize, label=r'Side (y=20)', alpha=0.55)\n",
    "# 20 cm East\n",
    "plt.plot(df.index.values, df['E 20'].values, marker='d', color='darkgreen', markersize=markersize, label=r'Side (y=-20)', alpha=0.55)\n",
    "\n",
    "ax1 = plt.gca()\n",
    "plt.yscale('log')\n",
    "ylim = ax1.get_ylim()\n",
    "\n",
    "plt.xlim(-0.1, 3.0)\n",
    "plt.ylim(1e-9, ylim[1])\n",
    "\n",
    "plt.xlabel(r\"\\textbf{Tally center bin energy [MeV]}\", fontsize=fs)\n",
    "plt.ylabel(r\"\\textbf{F4 tally flux}\", fontsize=fs)\n",
    "\n",
    "ax1.tick_params('x', colors='black', labelsize=fs-2)\n",
    "ax1.tick_params('y', colors='black', labelsize=fs-2)\n",
    "plt.grid(which=\"minor\",ls=\"--\", color='0.65')\n",
    "plt.grid(which=\"major\",ls=\"-\", color='0.55')\n",
    "leg = plt.legend(fontsize=fs-4)\n",
    "leg.set_title(r\"\\textbf{Position [cm]}\", prop = {'size': fs-4})\n",
    "plt.tight_layout()\n",
    "plt.savefig(f'{outputfolder}/{figname}/{figname}.pdf')\n",
    "plt.show()"
   ]
  },
  {
   "cell_type": "code",
   "execution_count": 10,
   "metadata": {},
   "outputs": [
    {
     "data": {
      "text/plain": [
       "(4.47079937102347e-11, 0.0002994668480490338)"
      ]
     },
     "execution_count": 10,
     "metadata": {},
     "output_type": "execute_result"
    }
   ],
   "source": [
    "ylim"
   ]
  },
  {
   "cell_type": "code",
   "execution_count": null,
   "metadata": {},
   "outputs": [],
   "source": [
    "df[df.columns[df.columns.str.contains('E')]].head()"
   ]
  },
  {
   "cell_type": "code",
   "execution_count": null,
   "metadata": {},
   "outputs": [],
   "source": [
    "fig = plt.figure(figsize=(8, 6))\n",
    "fs = 20\n",
    "markersize = 8\n",
    "figname = 'MCNP_flux_far'\n",
    "\n",
    "\n",
    "\n",
    "# 20 cm North\n",
    "plt.plot(df.index, df['N 95'], marker='o', color='darkblue', markersize=markersize, label=r'Forward (x=95)')\n",
    "# 55 cm South\n",
    "plt.plot(df.index, df['S 105'], marker='s', color='darkred', markersize=markersize, label=r'Backward (x=-105)')\n",
    "# 20 cm West\n",
    "plt.plot(df.index, df['W 95'], marker='v', color='darkorange', markersize=markersize, label=r'Side (y=95)', alpha=0.55)\n",
    "# 20 cm East\n",
    "plt.plot(df.index, df['E 95'], marker='d', color='darkgreen', markersize=markersize, label=r'Side (y=-95)', alpha=0.55)\n",
    "\n",
    "\n",
    "ax1 = plt.gca()\n",
    "plt.yscale('log')\n",
    "\n",
    "# take the same ylim as in the previous graph\n",
    "# ylim = ax1.get_ylim()\n",
    "\n",
    "plt.xlim(-0.1, 3.0)\n",
    "plt.ylim(1e-9, ylim[1])\n",
    "\n",
    "plt.xlabel(r\"\\textbf{Tally center bin energy [MeV]}\", fontsize=fs)\n",
    "plt.ylabel(r\"\\textbf{F4 tally flux}\", fontsize=fs)\n",
    "\n",
    "ax1.tick_params('x', colors='black', labelsize=fs-2)\n",
    "ax1.tick_params('y', colors='black', labelsize=fs-2)\n",
    "plt.grid(which=\"minor\",ls=\"--\", color='0.65')\n",
    "plt.grid(which=\"major\",ls=\"-\", color='0.55')\n",
    "leg = plt.legend(fontsize=fs-4)\n",
    "leg.set_title(r\"\\textbf{Position [cm]}\", prop = {'size': fs-4})\n",
    "plt.tight_layout()\n",
    "plt.savefig(f'{outputfolder}/{figname}/{figname}.pdf')\n",
    "plt.show()"
   ]
  },
  {
   "cell_type": "code",
   "execution_count": 5,
   "metadata": {},
   "outputs": [
    {
     "ename": "IndexError",
     "evalue": "tuple index out of range",
     "output_type": "error",
     "traceback": [
      "\u001b[0;31m---------------------------------------------------------------------------\u001b[0m",
      "\u001b[0;31mIndexError\u001b[0m                                Traceback (most recent call last)",
      "\u001b[0;32m<ipython-input-5-fba0fe8c4a0c>\u001b[0m in \u001b[0;36m<module>\u001b[0;34m\u001b[0m\n\u001b[1;32m      5\u001b[0m \u001b[0;34m\u001b[0m\u001b[0m\n\u001b[1;32m      6\u001b[0m \u001b[0;31m# 20 cm North\u001b[0m\u001b[0;34m\u001b[0m\u001b[0;34m\u001b[0m\u001b[0;34m\u001b[0m\u001b[0m\n\u001b[0;32m----> 7\u001b[0;31m \u001b[0mplt\u001b[0m\u001b[0;34m.\u001b[0m\u001b[0mplot\u001b[0m\u001b[0;34m(\u001b[0m\u001b[0mdf\u001b[0m\u001b[0;34m.\u001b[0m\u001b[0mindex\u001b[0m\u001b[0;34m,\u001b[0m \u001b[0mdf\u001b[0m\u001b[0;34m[\u001b[0m\u001b[0;34m'N 45'\u001b[0m\u001b[0;34m]\u001b[0m\u001b[0;34m,\u001b[0m \u001b[0mmarker\u001b[0m\u001b[0;34m=\u001b[0m\u001b[0;34m'o'\u001b[0m\u001b[0;34m,\u001b[0m \u001b[0mcolor\u001b[0m\u001b[0;34m=\u001b[0m\u001b[0;34m'darkblue'\u001b[0m\u001b[0;34m,\u001b[0m \u001b[0mmarkersize\u001b[0m\u001b[0;34m=\u001b[0m\u001b[0mmarkersize\u001b[0m\u001b[0;34m,\u001b[0m \u001b[0mlabel\u001b[0m\u001b[0;34m=\u001b[0m\u001b[0;34mr'Forward (x=45)'\u001b[0m\u001b[0;34m)\u001b[0m\u001b[0;34m\u001b[0m\u001b[0;34m\u001b[0m\u001b[0m\n\u001b[0m\u001b[1;32m      8\u001b[0m \u001b[0;31m# 55 cm South\u001b[0m\u001b[0;34m\u001b[0m\u001b[0;34m\u001b[0m\u001b[0;34m\u001b[0m\u001b[0m\n\u001b[1;32m      9\u001b[0m \u001b[0mplt\u001b[0m\u001b[0;34m.\u001b[0m\u001b[0mplot\u001b[0m\u001b[0;34m(\u001b[0m\u001b[0mdf\u001b[0m\u001b[0;34m.\u001b[0m\u001b[0mindex\u001b[0m\u001b[0;34m,\u001b[0m \u001b[0mdf\u001b[0m\u001b[0;34m[\u001b[0m\u001b[0;34m'S 55'\u001b[0m\u001b[0;34m]\u001b[0m\u001b[0;34m,\u001b[0m \u001b[0mmarker\u001b[0m\u001b[0;34m=\u001b[0m\u001b[0;34m's'\u001b[0m\u001b[0;34m,\u001b[0m \u001b[0mcolor\u001b[0m\u001b[0;34m=\u001b[0m\u001b[0;34m'darkred'\u001b[0m\u001b[0;34m,\u001b[0m \u001b[0mmarkersize\u001b[0m\u001b[0;34m=\u001b[0m\u001b[0mmarkersize\u001b[0m\u001b[0;34m,\u001b[0m \u001b[0mlabel\u001b[0m\u001b[0;34m=\u001b[0m\u001b[0;34mr'Backward (x=-55)'\u001b[0m\u001b[0;34m)\u001b[0m\u001b[0;34m\u001b[0m\u001b[0;34m\u001b[0m\u001b[0m\n",
      "\u001b[0;32m~/anaconda3/envs/py3.7/lib/python3.7/site-packages/matplotlib/pyplot.py\u001b[0m in \u001b[0;36mplot\u001b[0;34m(scalex, scaley, data, *args, **kwargs)\u001b[0m\n\u001b[1;32m   2787\u001b[0m     return gca().plot(\n\u001b[1;32m   2788\u001b[0m         *args, scalex=scalex, scaley=scaley, **({\"data\": data} if data\n\u001b[0;32m-> 2789\u001b[0;31m         is not None else {}), **kwargs)\n\u001b[0m\u001b[1;32m   2790\u001b[0m \u001b[0;34m\u001b[0m\u001b[0m\n\u001b[1;32m   2791\u001b[0m \u001b[0;34m\u001b[0m\u001b[0m\n",
      "\u001b[0;32m~/anaconda3/envs/py3.7/lib/python3.7/site-packages/matplotlib/axes/_axes.py\u001b[0m in \u001b[0;36mplot\u001b[0;34m(self, scalex, scaley, data, *args, **kwargs)\u001b[0m\n\u001b[1;32m   1664\u001b[0m         \"\"\"\n\u001b[1;32m   1665\u001b[0m         \u001b[0mkwargs\u001b[0m \u001b[0;34m=\u001b[0m \u001b[0mcbook\u001b[0m\u001b[0;34m.\u001b[0m\u001b[0mnormalize_kwargs\u001b[0m\u001b[0;34m(\u001b[0m\u001b[0mkwargs\u001b[0m\u001b[0;34m,\u001b[0m \u001b[0mmlines\u001b[0m\u001b[0;34m.\u001b[0m\u001b[0mLine2D\u001b[0m\u001b[0;34m.\u001b[0m\u001b[0m_alias_map\u001b[0m\u001b[0;34m)\u001b[0m\u001b[0;34m\u001b[0m\u001b[0;34m\u001b[0m\u001b[0m\n\u001b[0;32m-> 1666\u001b[0;31m         \u001b[0mlines\u001b[0m \u001b[0;34m=\u001b[0m \u001b[0;34m[\u001b[0m\u001b[0;34m*\u001b[0m\u001b[0mself\u001b[0m\u001b[0;34m.\u001b[0m\u001b[0m_get_lines\u001b[0m\u001b[0;34m(\u001b[0m\u001b[0;34m*\u001b[0m\u001b[0margs\u001b[0m\u001b[0;34m,\u001b[0m \u001b[0mdata\u001b[0m\u001b[0;34m=\u001b[0m\u001b[0mdata\u001b[0m\u001b[0;34m,\u001b[0m \u001b[0;34m**\u001b[0m\u001b[0mkwargs\u001b[0m\u001b[0;34m)\u001b[0m\u001b[0;34m]\u001b[0m\u001b[0;34m\u001b[0m\u001b[0;34m\u001b[0m\u001b[0m\n\u001b[0m\u001b[1;32m   1667\u001b[0m         \u001b[0;32mfor\u001b[0m \u001b[0mline\u001b[0m \u001b[0;32min\u001b[0m \u001b[0mlines\u001b[0m\u001b[0;34m:\u001b[0m\u001b[0;34m\u001b[0m\u001b[0;34m\u001b[0m\u001b[0m\n\u001b[1;32m   1668\u001b[0m             \u001b[0mself\u001b[0m\u001b[0;34m.\u001b[0m\u001b[0madd_line\u001b[0m\u001b[0;34m(\u001b[0m\u001b[0mline\u001b[0m\u001b[0;34m)\u001b[0m\u001b[0;34m\u001b[0m\u001b[0;34m\u001b[0m\u001b[0m\n",
      "\u001b[0;32m~/anaconda3/envs/py3.7/lib/python3.7/site-packages/matplotlib/axes/_base.py\u001b[0m in \u001b[0;36m__call__\u001b[0;34m(self, *args, **kwargs)\u001b[0m\n\u001b[1;32m    223\u001b[0m                 \u001b[0mthis\u001b[0m \u001b[0;34m+=\u001b[0m \u001b[0margs\u001b[0m\u001b[0;34m[\u001b[0m\u001b[0;36m0\u001b[0m\u001b[0;34m]\u001b[0m\u001b[0;34m,\u001b[0m\u001b[0;34m\u001b[0m\u001b[0;34m\u001b[0m\u001b[0m\n\u001b[1;32m    224\u001b[0m                 \u001b[0margs\u001b[0m \u001b[0;34m=\u001b[0m \u001b[0margs\u001b[0m\u001b[0;34m[\u001b[0m\u001b[0;36m1\u001b[0m\u001b[0;34m:\u001b[0m\u001b[0;34m]\u001b[0m\u001b[0;34m\u001b[0m\u001b[0;34m\u001b[0m\u001b[0m\n\u001b[0;32m--> 225\u001b[0;31m             \u001b[0;32myield\u001b[0m \u001b[0;32mfrom\u001b[0m \u001b[0mself\u001b[0m\u001b[0;34m.\u001b[0m\u001b[0m_plot_args\u001b[0m\u001b[0;34m(\u001b[0m\u001b[0mthis\u001b[0m\u001b[0;34m,\u001b[0m \u001b[0mkwargs\u001b[0m\u001b[0;34m)\u001b[0m\u001b[0;34m\u001b[0m\u001b[0;34m\u001b[0m\u001b[0m\n\u001b[0m\u001b[1;32m    226\u001b[0m \u001b[0;34m\u001b[0m\u001b[0m\n\u001b[1;32m    227\u001b[0m     \u001b[0;32mdef\u001b[0m \u001b[0mget_next_color\u001b[0m\u001b[0;34m(\u001b[0m\u001b[0mself\u001b[0m\u001b[0;34m)\u001b[0m\u001b[0;34m:\u001b[0m\u001b[0;34m\u001b[0m\u001b[0;34m\u001b[0m\u001b[0m\n",
      "\u001b[0;32m~/anaconda3/envs/py3.7/lib/python3.7/site-packages/matplotlib/axes/_base.py\u001b[0m in \u001b[0;36m_plot_args\u001b[0;34m(self, tup, kwargs)\u001b[0m\n\u001b[1;32m    397\u001b[0m             \u001b[0mfunc\u001b[0m \u001b[0;34m=\u001b[0m \u001b[0mself\u001b[0m\u001b[0;34m.\u001b[0m\u001b[0m_makefill\u001b[0m\u001b[0;34m\u001b[0m\u001b[0;34m\u001b[0m\u001b[0m\n\u001b[1;32m    398\u001b[0m \u001b[0;34m\u001b[0m\u001b[0m\n\u001b[0;32m--> 399\u001b[0;31m         \u001b[0mncx\u001b[0m\u001b[0;34m,\u001b[0m \u001b[0mncy\u001b[0m \u001b[0;34m=\u001b[0m \u001b[0mx\u001b[0m\u001b[0;34m.\u001b[0m\u001b[0mshape\u001b[0m\u001b[0;34m[\u001b[0m\u001b[0;36m1\u001b[0m\u001b[0;34m]\u001b[0m\u001b[0;34m,\u001b[0m \u001b[0my\u001b[0m\u001b[0;34m.\u001b[0m\u001b[0mshape\u001b[0m\u001b[0;34m[\u001b[0m\u001b[0;36m1\u001b[0m\u001b[0;34m]\u001b[0m\u001b[0;34m\u001b[0m\u001b[0;34m\u001b[0m\u001b[0m\n\u001b[0m\u001b[1;32m    400\u001b[0m         \u001b[0;32mif\u001b[0m \u001b[0mncx\u001b[0m \u001b[0;34m>\u001b[0m \u001b[0;36m1\u001b[0m \u001b[0;32mand\u001b[0m \u001b[0mncy\u001b[0m \u001b[0;34m>\u001b[0m \u001b[0;36m1\u001b[0m \u001b[0;32mand\u001b[0m \u001b[0mncx\u001b[0m \u001b[0;34m!=\u001b[0m \u001b[0mncy\u001b[0m\u001b[0;34m:\u001b[0m\u001b[0;34m\u001b[0m\u001b[0;34m\u001b[0m\u001b[0m\n\u001b[1;32m    401\u001b[0m             cbook.warn_deprecated(\n",
      "\u001b[0;31mIndexError\u001b[0m: tuple index out of range"
     ]
    },
    {
     "data": {
      "image/png": "[encoded data removed]",
      "text/plain": [
       "<Figure size 576x432 with 1 Axes>"
      ]
     },
     "metadata": {
      "needs_background": "light"
     },
     "output_type": "display_data"
    }
   ],
   "source": [
    "fig = plt.figure(figsize=(8, 6))\n",
    "fs = 20\n",
    "markersize = 8\n",
    "figname = 'MCNP_flux_mid'\n",
    "\n",
    "# 20 cm North\n",
    "plt.plot(df.index, df['N 45'], marker='o', color='darkblue', markersize=markersize, label=r'Forward (x=45)')\n",
    "# 55 cm South\n",
    "plt.plot(df.index, df['S 55'], marker='s', color='darkred', markersize=markersize, label=r'Backward (x=-55)')\n",
    "# 20 cm West\n",
    "plt.plot(df.index, df['W 45'], marker='v', color='darkorange', markersize=markersize, label=r'Side (y=45)', alpha=0.55)\n",
    "# 20 cm East\n",
    "plt.plot(df.index, df['E 45'], marker='d', color='darkgreen', markersize=markersize, label=r'Side (y=-45)', alpha=0.55)\n",
    "\n",
    "ax1 = plt.gca()\n",
    "plt.yscale('log')\n",
    "# ylim = ax1.get_ylim()\n",
    "\n",
    "plt.xlim(-0.1, 3.0)\n",
    "plt.ylim(1e-9, ylim[1])\n",
    "\n",
    "plt.xlabel(r\"\\textbf{Tally center bin energy [MeV]}\", fontsize=fs)\n",
    "plt.ylabel(r\"\\textbf{F4 tally flux}\", fontsize=fs)\n",
    "\n",
    "ax1.tick_params('x', colors='black', labelsize=fs-2)\n",
    "ax1.tick_params('y', colors='black', labelsize=fs-2)\n",
    "plt.grid(which=\"minor\",ls=\"--\", color='0.65')\n",
    "plt.grid(which=\"major\",ls=\"-\", color='0.55')\n",
    "leg = plt.legend(fontsize=fs-4)\n",
    "leg.set_title(r\"\\textbf{Position [cm]}\", prop = {'size': fs-4})\n",
    "plt.tight_layout()\n",
    "plt.savefig(f'{outputfolder}/{figname}/{figname}.pdf')\n",
    "plt.show()"
   ]
  },
  {
   "cell_type": "code",
   "execution_count": null,
   "metadata": {},
   "outputs": [],
   "source": []
  },
  {
   "cell_type": "code",
   "execution_count": null,
   "metadata": {},
   "outputs": [],
   "source": []
  },
  {
   "cell_type": "code",
   "execution_count": null,
   "metadata": {},
   "outputs": [],
   "source": []
  },
  {
   "cell_type": "code",
   "execution_count": null,
   "metadata": {},
   "outputs": [],
   "source": []
  }
 ],
 "metadata": {
  "kernelspec": {
   "display_name": "Python 3",
   "language": "python",
   "name": "python3"
  },
  "language_info": {
   "codemirror_mode": {
    "name": "ipython",
    "version": 3
   },
   "file_extension": ".py",
   "mimetype": "text/x-python",
   "name": "python",
   "nbconvert_exporter": "python",
   "pygments_lexer": "ipython3",
   "version": "3.7.3"
  }
 },
 "nbformat": 4,
 "nbformat_minor": 4
}
