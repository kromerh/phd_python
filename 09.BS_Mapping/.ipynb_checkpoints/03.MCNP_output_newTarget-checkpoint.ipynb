{
 "cells": [
  {
   "cell_type": "markdown",
   "metadata": {},
   "source": [
    "# MCNP Output\n",
    "\n",
    "- function to get the output: /Users/hkromer/02_PhD/02_Data/07.neutron_output/MCNP_neutron_output/fun_getNeutronOutputPer100muSv.py"
   ]
  },
  {
   "cell_type": "code",
   "execution_count": 1,
   "metadata": {},
   "outputs": [],
   "source": [
    "import sys\n",
    "sys.path.insert(0, '/Users/hkromer/02_PhD/02_Data/07.neutron_output/MCNP_neutron_output/')\n",
    "\n",
    "from fun_getNeutronOutputPer100muSv import getNeutronOutputPer100muSv \n",
    "outputfolder = '/Users/hkromer/polybox/Thesis/Chapters/DetailedNeutronGeneratorCharacterization/Figures/'"
   ]
  },
  {
   "cell_type": "code",
   "execution_count": 2,
   "metadata": {},
   "outputs": [
    {
     "data": {
      "text/plain": [
       "\u001b[0;31mSignature:\u001b[0m\n",
       "\u001b[0mgetNeutronOutputPer100muSv\u001b[0m\u001b[0;34m(\u001b[0m\u001b[0;34m\u001b[0m\n",
       "\u001b[0;34m\u001b[0m    \u001b[0mHV\u001b[0m\u001b[0;34m=\u001b[0m\u001b[0;36m100\u001b[0m\u001b[0;34m,\u001b[0m\u001b[0;34m\u001b[0m\n",
       "\u001b[0;34m\u001b[0m    \u001b[0mLB6411_distance\u001b[0m\u001b[0;34m=\u001b[0m\u001b[0;36m70\u001b[0m\u001b[0;34m,\u001b[0m\u001b[0;34m\u001b[0m\n",
       "\u001b[0;34m\u001b[0m    \u001b[0mLB6411_direction\u001b[0m\u001b[0;34m=\u001b[0m\u001b[0;34m'W'\u001b[0m\u001b[0;34m,\u001b[0m\u001b[0;34m\u001b[0m\n",
       "\u001b[0;34m\u001b[0m    \u001b[0mnewTarget\u001b[0m\u001b[0;34m=\u001b[0m\u001b[0;36m1\u001b[0m\u001b[0;34m,\u001b[0m\u001b[0;34m\u001b[0m\n",
       "\u001b[0;34m\u001b[0m    \u001b[0mmaster_path\u001b[0m\u001b[0;34m=\u001b[0m\u001b[0;34m'/Users/hkromer/02_PhD/02_Data/07.neutron_output/MCNP_neutron_output/'\u001b[0m\u001b[0;34m,\u001b[0m\u001b[0;34m\u001b[0m\n",
       "\u001b[0;34m\u001b[0m\u001b[0;34m)\u001b[0m\u001b[0;34m\u001b[0m\u001b[0;34m\u001b[0m\u001b[0m\n",
       "\u001b[0;31mDocstring:\u001b[0m\n",
       "Retrieves the neutron output per 100µSv/h as determined from MCNP. Only works for the new target. Returns that value\n",
       "HV: High voltage. This determines which MCNP run is taken to load the data. Default is -100 kV\n",
       "LB6411_distance IN WEST DIRECTION (+y): Distance between the source and LB6411 position. Default is 70 cm\n",
       "LB6411_direction: Direction where the LB6411 is placed in\n",
       "newTarget: if 1, then the files for the new target are used, 0 the files for the old target are used\n",
       "master_path: path where the output csv files are stored\n",
       "returns neutron output per 100 µSv/hr as read by the LB6411\n",
       "\u001b[0;31mFile:\u001b[0m      ~/02_PhD/02_Data/07.neutron_output/MCNP_neutron_output/fun_getNeutronOutputPer100muSv.py\n",
       "\u001b[0;31mType:\u001b[0m      function\n"
      ]
     },
     "metadata": {},
     "output_type": "display_data"
    }
   ],
   "source": [
    "?getNeutronOutputPer100muSv"
   ]
  },
  {
   "cell_type": "code",
   "execution_count": 3,
   "metadata": {},
   "outputs": [],
   "source": [
    "import time\n",
    "import matplotlib.pyplot as plt\n",
    "import matplotlib\n",
    "import pandas as pd\n",
    "import numpy as np\n",
    "import datetime\n",
    "from matplotlib.ticker import AutoMinorLocator\n",
    "import re\n",
    "\n",
    "import os\n",
    "os.environ[\"PATH\"] += os.pathsep + '/usr/local/texlive/2018/bin/x86_64-darwin'\n",
    "plt.rc('text', usetex=True)\n",
    "plt.rc('font', weight='bold')\n",
    "matplotlib.rcParams['mathtext.fontset'] = 'custom'\n",
    "matplotlib.rcParams['mathtext.rm'] = 'Arial'\n",
    "matplotlib.rcParams['mathtext.it'] = 'Arial:italic'\n",
    "matplotlib.rcParams['mathtext.bf'] = 'Arial:bold'\n",
    "matplotlib.rcParams['mathtext.tt'] = 'Arial'\n",
    "matplotlib.rcParams['mathtext.cal'] = 'Arial'\n",
    "matplotlib.rcParams['text.latex.preamble'] = [r'\\usepackage{sfmath} \\boldmath']"
   ]
  },
  {
   "cell_type": "markdown",
   "metadata": {},
   "source": [
    "## Plot the output\n",
    "\n",
    "- Deuterium energy is 100 keV"
   ]
  },
  {
   "cell_type": "code",
   "execution_count": 4,
   "metadata": {},
   "outputs": [
    {
     "data": {
      "text/html": [
       "<div>\n",
       "<style scoped>\n",
       "    .dataframe tbody tr th:only-of-type {\n",
       "        vertical-align: middle;\n",
       "    }\n",
       "\n",
       "    .dataframe tbody tr th {\n",
       "        vertical-align: top;\n",
       "    }\n",
       "\n",
       "    .dataframe thead th {\n",
       "        text-align: right;\n",
       "    }\n",
       "</style>\n",
       "<table border=\"1\" class=\"dataframe\">\n",
       "  <thead>\n",
       "    <tr style=\"text-align: right;\">\n",
       "      <th></th>\n",
       "      <th>N</th>\n",
       "      <th>S</th>\n",
       "      <th>W</th>\n",
       "      <th>E</th>\n",
       "    </tr>\n",
       "    <tr>\n",
       "      <th>distance</th>\n",
       "      <th></th>\n",
       "      <th></th>\n",
       "      <th></th>\n",
       "      <th></th>\n",
       "    </tr>\n",
       "  </thead>\n",
       "  <tbody>\n",
       "    <tr>\n",
       "      <th>30</th>\n",
       "      <td>3.397686e+05</td>\n",
       "      <td>4.658116e+05</td>\n",
       "      <td>3.923961e+05</td>\n",
       "      <td>3.965172e+05</td>\n",
       "    </tr>\n",
       "    <tr>\n",
       "      <th>35</th>\n",
       "      <td>4.365673e+05</td>\n",
       "      <td>5.411429e+05</td>\n",
       "      <td>5.127659e+05</td>\n",
       "      <td>5.178527e+05</td>\n",
       "    </tr>\n",
       "    <tr>\n",
       "      <th>40</th>\n",
       "      <td>6.104946e+05</td>\n",
       "      <td>6.455398e+05</td>\n",
       "      <td>7.396617e+05</td>\n",
       "      <td>7.461889e+05</td>\n",
       "    </tr>\n",
       "    <tr>\n",
       "      <th>45</th>\n",
       "      <td>1.014781e+06</td>\n",
       "      <td>7.998454e+05</td>\n",
       "      <td>1.326732e+06</td>\n",
       "      <td>1.334694e+06</td>\n",
       "    </tr>\n",
       "    <tr>\n",
       "      <th>50</th>\n",
       "      <td>1.142308e+06</td>\n",
       "      <td>1.051092e+06</td>\n",
       "      <td>1.494960e+06</td>\n",
       "      <td>1.504211e+06</td>\n",
       "    </tr>\n",
       "  </tbody>\n",
       "</table>\n",
       "</div>"
      ],
      "text/plain": [
       "                     N             S             W             E\n",
       "distance                                                        \n",
       "30        3.397686e+05  4.658116e+05  3.923961e+05  3.965172e+05\n",
       "35        4.365673e+05  5.411429e+05  5.127659e+05  5.178527e+05\n",
       "40        6.104946e+05  6.455398e+05  7.396617e+05  7.461889e+05\n",
       "45        1.014781e+06  7.998454e+05  1.326732e+06  1.334694e+06\n",
       "50        1.142308e+06  1.051092e+06  1.494960e+06  1.504211e+06"
      ]
     },
     "execution_count": 4,
     "metadata": {},
     "output_type": "execute_result"
    }
   ],
   "source": [
    "fname = '/Users/hkromer/02_PhD/02_Data/07.neutron_output/MCNP_neutron_output/MCNP_results_newTarget/df_ID234_neutron_output_for_Edeut_100.csv'\n",
    "df = pd.read_csv(fname, index_col=0)\n",
    "df = df[(df.index >25)& (df.index <210)]\n",
    "df.head()"
   ]
  },
  {
   "cell_type": "code",
   "execution_count": null,
   "metadata": {},
   "outputs": [],
   "source": [
    "figname = 'Neutron_output_relative_to_response_of_NP1'\n",
    "\n",
    "fig = plt.figure(figsize=(8, 6))\n",
    "fs = 20\n",
    "markersize = 8\n",
    "scale_y = 1e7\n",
    "lw = 2.5\n",
    "# # North\n",
    "# plt.plot(df.index.values, df['N'].values/scale_y, marker='o', color='darkblue', markersize=markersize, label=r'Forward (+x)')\n",
    "# # South\n",
    "# plt.plot(df.index.values, df['S'].values/scale_y, marker='s', color='darkred', markersize=markersize, label=r'Backward (-x)')\n",
    "# # West\n",
    "# plt.plot(df.index.values, df['W'].values/scale_y, marker='v', color='darkorange', markersize=markersize, label=r'Side (+y)', alpha=0.55)\n",
    "# # East\n",
    "# plt.plot(df.index.values, df['E'].values/scale_y, marker='d', color='darkgreen', markersize=markersize, label=r'Side (-y)', alpha=0.55)\n",
    "\n",
    "df_interp = pd.DataFrame()\n",
    "X = np.arange(30, 205+0.1, 0.1)\n",
    "df_interp['X'] = X\n",
    "# interpolate\n",
    "for col in ['N', 'S', 'W', 'E']:\n",
    "    poly = np.polyfit(df.index.values, df[col].values/scale_y,5)\n",
    "    \n",
    "    poly_y = np.poly1d(poly)(X)\n",
    "    df_interp[col+'_poly'] = poly_y\n",
    "linestyles = ['-', '--', \"dotted\", (0, (3, 5, 1, 5))]\n",
    "# North\n",
    "plt.plot(df_interp['X'].values, df_interp['N'+'_poly'].values, linestyle=linestyles[0], color='darkblue', markersize=markersize, label=r'Forward (+x)', linewidth=lw)\n",
    "# South\n",
    "plt.plot(df_interp['X'].values, df_interp['S'+'_poly'].values, linestyle=linestyles[1], color='darkred', markersize=markersize, label=r'Backward (-x)', linewidth=lw)\n",
    "# West\n",
    "plt.plot(df_interp['X'].values, df_interp['W'+'_poly'].values, linestyle=linestyles[2], color='darkorange', markersize=markersize, label=r'Side (+y)', alpha=0.55, linewidth=lw)\n",
    "# East\n",
    "plt.plot(df_interp['X'].values, df_interp['E'+'_poly'].values, linestyle=linestyles[3], color='darkgreen', markersize=markersize, label=r'Side (-y)', alpha=0.55, linewidth=lw)\n",
    "\n",
    "ax1 = plt.gca()\n",
    "# plt.yscale('log')\n",
    "# take the same ylim as in the previous graph\n",
    "ylim = ax1.get_ylim()\n",
    "\n",
    "plt.xlim(25, 210)\n",
    "plt.ylim(0, 2.0)\n",
    "plt.yticks(np.arange(0,2.5,0.5))\n",
    "\n",
    "# plt.ylabel(r\"\\textbf{Neutron output in }\"+ r'$ [10^7 \\frac{n}{s}] $' + '\\n'+ r\"\\textbf{per 100} $ \\frac{\\mu Sv}{h}$\", fontsize=fs)\n",
    "plt.ylabel(r\"\\textbf{Neutron output $ \\left[ 10^7 s^{-1} \\, \\textrm{per} \\, 100\\, \\mu \\,Sv/h \\right]$\", fontsize=fs-2)\n",
    "\n",
    "plt.xlabel(r\"\\textbf{Distance source to tally [cm]}\", fontsize=fs)\n",
    "\n",
    "ax1.tick_params('x', colors='black', labelsize=fs-2)\n",
    "ax1.tick_params('y', colors='black', labelsize=fs-2)\n",
    "# minor ticks x\n",
    "minor_locator = AutoMinorLocator(2)\n",
    "ax1.xaxis.set_minor_locator(minor_locator)\n",
    "# minor ticks y\n",
    "minor_locator = AutoMinorLocator(2)\n",
    "ax1.yaxis.set_minor_locator(minor_locator)\n",
    "plt.grid(which=\"minor\",ls=\"--\", color='0.65')\n",
    "plt.grid(which=\"major\",ls=\"-\", color='0.55')\n",
    "leg = plt.legend(fontsize=fs-4)\n",
    "leg.set_title(r\"\\textbf{Direction}\", prop = {'size': fs-4})\n",
    "plt.tight_layout()\n",
    "plt.savefig(f'{outputfolder}/{figname}/{figname}.pdf')\n",
    "plt.show()"
   ]
  },
  {
   "cell_type": "code",
   "execution_count": null,
   "metadata": {},
   "outputs": [],
   "source": [
    "df.index.values"
   ]
  },
  {
   "cell_type": "code",
   "execution_count": null,
   "metadata": {},
   "outputs": [],
   "source": []
  },
  {
   "cell_type": "code",
   "execution_count": null,
   "metadata": {},
   "outputs": [],
   "source": []
  },
  {
   "cell_type": "code",
   "execution_count": null,
   "metadata": {},
   "outputs": [],
   "source": []
  }
 ],
 "metadata": {
  "kernelspec": {
   "display_name": "Python 3",
   "language": "python",
   "name": "python3"
  },
  "language_info": {
   "codemirror_mode": {
    "name": "ipython",
    "version": 3
   },
   "file_extension": ".py",
   "mimetype": "text/x-python",
   "name": "python",
   "nbconvert_exporter": "python",
   "pygments_lexer": "ipython3",
   "version": "3.8.1"
  }
 },
 "nbformat": 4,
 "nbformat_minor": 4
}
