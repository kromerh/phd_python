{
 "cells": [
  {
   "cell_type": "code",
   "execution_count": 123,
   "metadata": {},
   "outputs": [],
   "source": [
    "import math\n",
    "import os\n",
    "import random\n",
    "import re\n",
    "import sys\n",
    "\n",
    "# Complete the hourglassSum function below.\n",
    "def hourglassSum(arr):\n",
    "    \"\"\"\n",
    "    Returns an integer, the maximum hourglass sum in the array.\n",
    "    INPUT:\n",
    "    - arr: an array of integers\n",
    "    OUTPUT:\n",
    "    - l: the largest (maximum) hourglass sum found in arr.\n",
    "    \"\"\"\n",
    "    assert type(arr) == list, 'arr is not of type list.'\n",
    "    \n",
    "    rows_hg = len(arr) - 2 # how many row of hour glasses there will be, an hourglass has three rows\n",
    "    cols_hg = len(arr[0]) - 2 # how many cols of hour glasses there will be, an hourglass has three cols\n",
    "    hg = []  # list with the hour glass values\n",
    "    for ii in range(0,rows_hg): # loop through the rows\n",
    "        for jj in range(0, cols_hg): # loop through the cols\n",
    "            this_hg = [arr[ii][jj:jj+3],[arr[ii+1][jj+1]], arr[ii+2][jj:jj+3]] # this hour glass\n",
    "\n",
    "            hg.append(this_hg)\n",
    "    \n",
    "    hg_sums = []  # list of the sums in this hour glass\n",
    "    for this_hg in hg: # compute the sum in each hour glass\n",
    "        flatten_list = [item for sublist in this_hg for item in sublist] # flatten the hour glass list\n",
    "        this_sum = sum(flatten_list)\n",
    "        hg_sums.append(this_sum)\n",
    "    \n",
    "    l = max(hg_sums) # return the largest sum\n",
    "    return l"
   ]
  },
  {
   "cell_type": "code",
   "execution_count": 125,
   "metadata": {},
   "outputs": [
    {
     "data": {
      "text/plain": [
       "-6"
      ]
     },
     "execution_count": 125,
     "metadata": {},
     "output_type": "execute_result"
    }
   ],
   "source": [
    "arr = \\\n",
    "[\n",
    "[-1, -1, 0, -9, -2, -2],\n",
    "[-2, -1, -6, -8, -2, -5],\n",
    "[-1, -1, -1, -2, -3, -4],\n",
    "[-1, -9, -2, -4, -4, -5],\n",
    "[-7, -3, -3, -2, -9, -9],\n",
    "[-1, -3, -1, -2, -4, -5]\n",
    "]\n",
    "a = hourglassSum(arr)\n",
    "max(a)"
   ]
  },
  {
   "cell_type": "code",
   "execution_count": 110,
   "metadata": {},
   "outputs": [
    {
     "data": {
      "text/plain": [
       "[0, 0, 0, 0, 4, 4, 0]"
      ]
     },
     "execution_count": 110,
     "metadata": {},
     "output_type": "execute_result"
    }
   ],
   "source": [
    "[item for sublist in a[7] for item in sublist]"
   ]
  },
  {
   "cell_type": "code",
   "execution_count": null,
   "metadata": {},
   "outputs": [],
   "source": []
  }
 ],
 "metadata": {
  "kernelspec": {
   "display_name": "Python 3",
   "language": "python",
   "name": "python3"
  },
  "language_info": {
   "codemirror_mode": {
    "name": "ipython",
    "version": 3
   },
   "file_extension": ".py",
   "mimetype": "text/x-python",
   "name": "python",
   "nbconvert_exporter": "python",
   "pygments_lexer": "ipython3",
   "version": "3.7.4"
  }
 },
 "nbformat": 4,
 "nbformat_minor": 4
}
