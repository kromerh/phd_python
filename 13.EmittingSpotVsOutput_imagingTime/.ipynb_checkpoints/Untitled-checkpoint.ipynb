{
 "cells": [
  {
   "cell_type": "code",
   "execution_count": 117,
   "metadata": {},
   "outputs": [],
   "source": [
    "import math\n",
    "import os\n",
    "import random\n",
    "import re\n",
    "import sys\n",
    "\n",
    "# Complete the hourglassSum function below.\n",
    "def hourglassSum(arr):\n",
    "    \"\"\"\n",
    "    Returns an integer, the maximum hourglass sum in the array.\n",
    "    INPUT:\n",
    "    - arr: an array of integers\n",
    "    OUTPUT:\n",
    "    - l: the largest (maximum) hourglass sum found in arr.\n",
    "    \"\"\"\n",
    "    assert type(arr) == list, 'arr is not of type list.'\n",
    "    \n",
    "    rows_hg = len(arr) - 2 # how many row of hour glasses there will be, an hourglass has three rows\n",
    "    cols_hg = len(arr[0]) - 2 # how many cols of hour glasses there will be, an hourglass has three cols\n",
    "    hg = []  # list with the hour glass values\n",
    "    for ii in range(0,rows_hg): # loop through the rows\n",
    "        for jj in range(0, cols_hg): # loop through the cols\n",
    "            this_hg = [arr[ii][jj:jj+3],[arr[ii+1][jj+1]], arr[ii+2][jj:jj+3]] # this hour glass\n",
    "            print(this_hg)\n",
    "            hg.append(this_hg)\n",
    "    \n",
    "    hg_sums = []  # list of the sums in this hour glass\n",
    "    for this_hg in hg: # compute the sum in each hour glass\n",
    "        flatten_list = [item for sublist in this_hg for item in sublist] # flatten the hour glass list\n",
    "        this_sum = sum(flatten_list)\n",
    "        hg_sums.append(this_sum)\n",
    "            \n",
    "    return hg_sum"
   ]
  },
  {
   "cell_type": "code",
   "execution_count": 118,
   "metadata": {},
   "outputs": [
    {
     "name": "stdout",
     "output_type": "stream",
     "text": [
      "[[-1, -1, 0], [-1], [-1, -1, -1]]\n",
      "[[-1, 0, -9], [-6], [-1, -1, -2]]\n",
      "[[0, -9, -2], [-8], [-1, -2, -3]]\n",
      "[[-9, -2, -2], [-2], [-2, -3, -4]]\n",
      "[[-2, -1, -6], [-1], [-1, -9, -2]]\n",
      "[[-1, -6, -8], [-1], [-9, -2, -4]]\n",
      "[[-6, -8, -2], [-2], [-2, -4, -4]]\n",
      "[[-8, -2, -5], [-3], [-4, -4, -5]]\n",
      "[[-1, -1, -1], [-9], [-7, -3, -3]]\n",
      "[[-1, -1, -2], [-2], [-3, -3, -2]]\n",
      "[[-1, -2, -3], [-4], [-3, -2, -9]]\n",
      "[[-2, -3, -4], [-4], [-2, -9, -9]]\n",
      "[[-1, -9, -2], [-3], [-1, -3, -1]]\n",
      "[[-9, -2, -4], [-3], [-3, -1, -2]]\n",
      "[[-2, -4, -4], [-2], [-1, -2, -4]]\n",
      "[[-4, -4, -5], [-9], [-2, -4, -5]]\n"
     ]
    },
    {
     "ename": "TypeError",
     "evalue": "'>' not supported between instances of 'int' and 'NoneType'",
     "output_type": "error",
     "traceback": [
      "\u001b[0;31m---------------------------------------------------------------------------\u001b[0m",
      "\u001b[0;31mTypeError\u001b[0m                                 Traceback (most recent call last)",
      "\u001b[0;32m<ipython-input-118-f0bde3b9d5b7>\u001b[0m in \u001b[0;36m<module>\u001b[0;34m\u001b[0m\n\u001b[1;32m      8\u001b[0m \u001b[0;34m[\u001b[0m\u001b[0;34m-\u001b[0m\u001b[0;36m1\u001b[0m\u001b[0;34m,\u001b[0m \u001b[0;34m-\u001b[0m\u001b[0;36m3\u001b[0m\u001b[0;34m,\u001b[0m \u001b[0;34m-\u001b[0m\u001b[0;36m1\u001b[0m\u001b[0;34m,\u001b[0m \u001b[0;34m-\u001b[0m\u001b[0;36m2\u001b[0m\u001b[0;34m,\u001b[0m \u001b[0;34m-\u001b[0m\u001b[0;36m4\u001b[0m\u001b[0;34m,\u001b[0m \u001b[0;34m-\u001b[0m\u001b[0;36m5\u001b[0m\u001b[0;34m]\u001b[0m\u001b[0;34m\u001b[0m\u001b[0;34m\u001b[0m\u001b[0m\n\u001b[1;32m      9\u001b[0m ]\n\u001b[0;32m---> 10\u001b[0;31m \u001b[0ma\u001b[0m \u001b[0;34m=\u001b[0m \u001b[0mhourglassSum\u001b[0m\u001b[0;34m(\u001b[0m\u001b[0marr\u001b[0m\u001b[0;34m)\u001b[0m\u001b[0;34m\u001b[0m\u001b[0;34m\u001b[0m\u001b[0m\n\u001b[0m\u001b[1;32m     11\u001b[0m \u001b[0ma\u001b[0m\u001b[0;34m\u001b[0m\u001b[0;34m\u001b[0m\u001b[0m\n",
      "\u001b[0;32m<ipython-input-117-f9479eb77578>\u001b[0m in \u001b[0;36mhourglassSum\u001b[0;34m(arr)\u001b[0m\n\u001b[1;32m     29\u001b[0m         \u001b[0mflatten_list\u001b[0m \u001b[0;34m=\u001b[0m \u001b[0;34m[\u001b[0m\u001b[0mitem\u001b[0m \u001b[0;32mfor\u001b[0m \u001b[0msublist\u001b[0m \u001b[0;32min\u001b[0m \u001b[0mthis_hg\u001b[0m \u001b[0;32mfor\u001b[0m \u001b[0mitem\u001b[0m \u001b[0;32min\u001b[0m \u001b[0msublist\u001b[0m\u001b[0;34m]\u001b[0m \u001b[0;31m# flatten the hour glass list\u001b[0m\u001b[0;34m\u001b[0m\u001b[0;34m\u001b[0m\u001b[0m\n\u001b[1;32m     30\u001b[0m         \u001b[0mthis_sum\u001b[0m \u001b[0;34m=\u001b[0m \u001b[0msum\u001b[0m\u001b[0;34m(\u001b[0m\u001b[0mflatten_list\u001b[0m\u001b[0;34m)\u001b[0m\u001b[0;34m\u001b[0m\u001b[0;34m\u001b[0m\u001b[0m\n\u001b[0;32m---> 31\u001b[0;31m         \u001b[0;32mif\u001b[0m \u001b[0mthis_sum\u001b[0m \u001b[0;34m>\u001b[0m \u001b[0mhg_sum\u001b[0m\u001b[0;34m:\u001b[0m \u001b[0;31m# get the maximum hour glass\u001b[0m\u001b[0;34m\u001b[0m\u001b[0;34m\u001b[0m\u001b[0m\n\u001b[0m\u001b[1;32m     32\u001b[0m             \u001b[0mhg_sum\u001b[0m \u001b[0;34m=\u001b[0m \u001b[0mthis_sum\u001b[0m \u001b[0;31m# replace if the sum in this hour glass is larger than the one previously recorded\u001b[0m\u001b[0;34m\u001b[0m\u001b[0;34m\u001b[0m\u001b[0m\n\u001b[1;32m     33\u001b[0m \u001b[0;34m\u001b[0m\u001b[0m\n",
      "\u001b[0;31mTypeError\u001b[0m: '>' not supported between instances of 'int' and 'NoneType'"
     ]
    }
   ],
   "source": [
    "arr = \\\n",
    "[\n",
    "[-1, -1, 0, -9, -2, -2],\n",
    "[-2, -1, -6, -8, -2, -5],\n",
    "[-1, -1, -1, -2, -3, -4],\n",
    "[-1, -9, -2, -4, -4, -5],\n",
    "[-7, -3, -3, -2, -9, -9],\n",
    "[-1, -3, -1, -2, -4, -5]\n",
    "]\n",
    "a = hourglassSum(arr)\n",
    "a"
   ]
  },
  {
   "cell_type": "code",
   "execution_count": 110,
   "metadata": {},
   "outputs": [
    {
     "data": {
      "text/plain": [
       "[0, 0, 0, 0, 4, 4, 0]"
      ]
     },
     "execution_count": 110,
     "metadata": {},
     "output_type": "execute_result"
    }
   ],
   "source": [
    "[item for sublist in a[7] for item in sublist]"
   ]
  },
  {
   "cell_type": "code",
   "execution_count": null,
   "metadata": {},
   "outputs": [],
   "source": []
  }
 ],
 "metadata": {
  "kernelspec": {
   "display_name": "Python 3",
   "language": "python",
   "name": "python3"
  },
  "language_info": {
   "codemirror_mode": {
    "name": "ipython",
    "version": 3
   },
   "file_extension": ".py",
   "mimetype": "text/x-python",
   "name": "python",
   "nbconvert_exporter": "python",
   "pygments_lexer": "ipython3",
   "version": "3.7.4"
  }
 },
 "nbformat": 4,
 "nbformat_minor": 4
}
