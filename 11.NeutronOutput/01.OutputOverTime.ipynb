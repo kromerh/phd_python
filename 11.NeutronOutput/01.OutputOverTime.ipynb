{
 "cells": [
  {
   "cell_type": "code",
   "execution_count": 1,
   "metadata": {},
   "outputs": [
    {
     "name": "stderr",
     "output_type": "stream",
     "text": [
      "/Users/hkromer/anaconda3/envs/dash_readout/lib/python3.7/site-packages/pymysql/cursors.py:170: Warning: (1292, \"Incorrect datetime value: '1986'\")\n",
      "  result = self._query(query)\n"
     ]
    }
   ],
   "source": [
    "import numpy as np\n",
    "import pandas as pd\n",
    "import pymysql\n",
    "import sqlalchemy as sql\n",
    "\n",
    "\n",
    "# read password and user to database\n",
    "credentials_file = '/Users/hkromer/02_PhD/01.github/dash_NG/credentials.pw'\n",
    "\n",
    "credentials = pd.read_csv(credentials_file, header=0)\n",
    "user = credentials['username'].values[0]\n",
    "pw = credentials['password'].values[0]\n",
    "\n",
    "\n",
    "host=\"twofast-RPi3-0\"  # your host\n",
    "user=user  # username\n",
    "passwd=pw  # password\n",
    "db=\"NG_twofast_DB\" # name of the database\n",
    "connect_string = 'mysql+pymysql://%(user)s:%(pw)s@%(host)s/%(db)s'% {\"user\": user, \"pw\": pw, \"host\": host, \"db\": db}\n",
    "sql_engine = sql.create_engine(connect_string)\n",
    "\n",
    "def readDoseOverTime(sql_engine): # read past 60secs by default\n",
    "\t\"\"\"\n",
    "\tRead the flow meter voltage read from the database\n",
    "\t\"\"\"\n",
    "\tquery = \"SELECT * FROM data_dose WHERE time > %(t)s ORDER BY id DESC\" % {\"t\": \"2018-07-25\"}\n",
    "\tdf = pd.read_sql(query, sql_engine)\n",
    "\n",
    "\treturn df\n",
    "\n",
    "def readHVOverTime(sql_engine): # read past 60secs by default\n",
    "\t\"\"\"\n",
    "\tRead the flow meter voltage read from the database\n",
    "\t\"\"\"\n",
    "\tquery = \"SELECT * FROM data_HV WHERE time > %(t)s ORDER BY id DESC\" % {\"t\": \"2018-07-25\"}\n",
    "\tdf = pd.read_sql(query, sql_engine)\n",
    "\n",
    "\treturn df\n",
    "\n",
    "df_dose = readDoseOverTime(sql_engine)\n",
    "df_dose.to_csv('/Users/hkromer/02_PhD/tmp/df_dose.csv')\n",
    "df_hv = readHVOverTime(sql_engine)\n",
    "df_hv.to_csv('/Users/hkromer/02_PhD/tmp/df_hv.csv')"
   ]
  },
  {
   "cell_type": "code",
   "execution_count": null,
   "metadata": {},
   "outputs": [],
   "source": []
  }
 ],
 "metadata": {
  "kernelspec": {
   "display_name": "Python 3",
   "language": "python",
   "name": "python3"
  },
  "language_info": {
   "codemirror_mode": {
    "name": "ipython",
    "version": 3
   },
   "file_extension": ".py",
   "mimetype": "text/x-python",
   "name": "python",
   "nbconvert_exporter": "python",
   "pygments_lexer": "ipython3",
   "version": "3.8.1"
  }
 },
 "nbformat": 4,
 "nbformat_minor": 4
}
