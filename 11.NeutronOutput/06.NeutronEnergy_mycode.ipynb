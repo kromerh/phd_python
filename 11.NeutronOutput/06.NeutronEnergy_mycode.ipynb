{
 "cells": [
  {
   "cell_type": "code",
   "execution_count": 4,
   "metadata": {},
   "outputs": [],
   "source": [
    "import numpy as np\n",
    "import pandas as pd\n",
    "import matplotlib.pyplot as plt\n",
    "%matplotlib inline"
   ]
  },
  {
   "cell_type": "code",
   "execution_count": 5,
   "metadata": {},
   "outputs": [],
   "source": [
    "def fun_getNeutronEnergyVSEmissionAngle(energy, angle):\n",
    "    # returns xRad,y,angle,intp_Y_av : xRad is the angle in radian for the formula, y is the neutron energy at xRad (so this is the \"real\" value)\n",
    "    #       angle is the angle in emission radian, intp_Y_av is the neutron energy in MeV for MCNP\n",
    "    # energy is the energy of the incoming deuterium ion\n",
    "    # angle is the emission angle in radian\n",
    "    def mathfun_Eout_vs_angle(energy,angle):\n",
    "        # energy is the impinging deuterons energy\n",
    "        # angle is the emission angle\n",
    "        res = 0.3542 * np.sqrt(energy) * np.cos(angle) + ( np.sqrt( 2.031 * energy * (np.cos(angle))**2 + 39.6502 + 4.0291 * energy ) ) / ( 4.02359755 )\n",
    "        return res**2\n",
    "\n",
    "    a = np.arange(0.0,181,0.1)\n",
    "\n",
    "    #energy = 0.05 # D beam energy in MeV\n",
    "    xRad = []\n",
    "    y = []\n",
    "    for angl in a:\n",
    "        angl = angl / 180.0 * np.pi\n",
    "        xRad.append(angl)\n",
    "        y.append(mathfun_Eout_vs_angle(energy,angl))\n",
    "\n",
    "\n",
    "    # lookup the xs data for each emission angle --> interpolate between the two closest values\n",
    "    def find_nearest(array,value):\n",
    "        idx = (np.abs(array-value)).argmin()\n",
    "        return idx,array[idx]\n",
    "\n",
    "    # find where in the x data (emission angle) the angle that is desired for the MCNP file are located\n",
    "    xRad = np.asarray(xRad)\n",
    "    idxAngle = []\n",
    "    for val in angle:\n",
    "        idx, nearest = find_nearest(xRad, val)\n",
    "        idxAngle.append(idx) # append nearest value where that angle is located in the datafile\n",
    "\n",
    "    # interpolate between the angles: take the interval between two values\n",
    "    idxAngleCenter = []\n",
    "    for ii in range(0,len(idxAngle)-1):\n",
    "        v2 = idxAngle[ii + 1]\n",
    "        v1 = idxAngle[ii]\n",
    "        v3 = round((v1+v2)/2,0)\n",
    "        idxAngleCenter.append(v3)\n",
    "\n",
    "    # interpolate between the angles: intervals where to evaluate the angles\n",
    "    idxAngleRange = []\n",
    "    for ii in range(0,len(idxAngle)):\n",
    "        if ii is 0:\n",
    "            idxAngleRange.append([0,idxAngleCenter[ii]])\n",
    "        elif ii < len(idxAngle)-1:\n",
    "            idxAngleRange.append([idxAngleCenter[ii-1],idxAngleCenter[ii]])\n",
    "        else:\n",
    "            idxAngleRange.append([idxAngleCenter[ii-1], idxAngle[-1]])\n",
    "\n",
    "    # interpolate between the angles! for example 0 - 10 degree\n",
    "    intp_Y_av = [] # [-1.0] * len(angle)# interpolated yield values as the average between the two angles (absolute, but not normalized!)\n",
    "    for pair in idxAngleRange:\n",
    "        #ii = np.where(idxAngleRange == pair)[0][0]\n",
    "        val1 = int(pair[0])\n",
    "        val2 = int(pair[1])\n",
    "        res = np.mean(y[val1:val2])\n",
    "        intp_Y_av.append(res)\n",
    "\n",
    "    return xRad,y,angle,intp_Y_av"
   ]
  },
  {
   "cell_type": "code",
   "execution_count": 9,
   "metadata": {},
   "outputs": [
    {
     "data": {
      "image/png": "[encoded data removed]",
      "text/plain": [
       "<Figure size 432x288 with 1 Axes>"
      ]
     },
     "metadata": {
      "needs_background": "light"
     },
     "output_type": "display_data"
    }
   ],
   "source": [
    "angle_start = 0.0\n",
    "angle_stop = 180.0\n",
    "angle_step = 10.0\n",
    "energy = 0.1\n",
    "\n",
    "angle_rad = list(map(np.cos,np.arange(angle_start,angle_stop + 1.0, angle_step)))\n",
    "angle = np.arange(angle_start, angle_stop + 1.0, angle_step)\n",
    "# convert to radian\n",
    "angle = (angle / 360.0) * 2 * np.pi\n",
    "mu = np.cos(angle) # this is the discretization chosen for the MCNP source probability\n",
    "\n",
    "xRad,y,angle,intp_Y_av = fun_getNeutronEnergyVSEmissionAngle(energy, angle)\n",
    "\n",
    "\n",
    "plt.plot(xRad,y,'-', label='D-D reaction')\n",
    "plt.ylabel('E_neutron [MeV]')\n",
    "plt.title('MCNP Interpolation for neutron energy vs emission angle ' + '\\n' + 'E_d = '+str(energy) + ' MeV')\n",
    "plt.xlabel('Emission angle [rad]')\n",
    "plt.legend(loc='upper right')\n",
    "# plt.ylim([1.0,2.9])\n",
    "plt.grid(True)\n",
    "plt.show()\n"
   ]
  },
  {
   "cell_type": "code",
   "execution_count": null,
   "metadata": {},
   "outputs": [],
   "source": []
  }
 ],
 "metadata": {
  "kernelspec": {
   "display_name": "Python 3",
   "language": "python",
   "name": "python3"
  },
  "language_info": {
   "codemirror_mode": {
    "name": "ipython",
    "version": 3
   },
   "file_extension": ".py",
   "mimetype": "text/x-python",
   "name": "python",
   "nbconvert_exporter": "python",
   "pygments_lexer": "ipython3",
   "version": "3.7.3"
  }
 },
 "nbformat": 4,
 "nbformat_minor": 4
}
