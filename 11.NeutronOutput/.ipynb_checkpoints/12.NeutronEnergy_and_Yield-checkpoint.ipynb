{
 "cells": [
  {
   "cell_type": "markdown",
   "metadata": {},
   "source": [
    "# For the 2nd paper\n",
    "## deuterium acceleration energy is 80 kV\n",
    "- Neutron energy and yield distribution, data is from Benoit who took it from Csikai"
   ]
  },
  {
   "cell_type": "code",
   "execution_count": null,
   "metadata": {},
   "outputs": [],
   "source": [
    "import pandas as pd\n",
    "import numpy as np\n",
    "import matplotlib.pyplot as plt\n",
    "%matplotlib inline\n",
    "\n",
    "# import yield file\n",
    "fname_yield = '/Users/hkromer/02_PhD/04_Publiations/01_PaperDrafts/2019/01.CharacterizationPaper/Figures/energy_and_yield_vs_angle/data_from_Benoit/80KeV_yield.csv'\n",
    "\n",
    "# import energy file\n",
    "# emission angle in degree, neutron energy in MeV\n",
    "fname_energy = '/Users/hkromer/02_PhD/04_Publiations/01_PaperDrafts/2019/01.CharacterizationPaper/Figures/energy_and_yield_vs_angle/data_from_Benoit/80kV_energy.xlsx'\n",
    "\n",
    "data_yield = pd.read_csv(fname_yield, header=0, delimiter=';')\n",
    "data_yield.columns = ['emission_angle', 'counts']\n",
    "print(data_yield.head())\n",
    "print(data_yield.info())\n",
    "\n",
    "data_energy = pd.read_excel(fname_energy, header=None)\n",
    "data_energy.columns = ['emission_angle', 'neutron_energy']\n",
    "print(data_energy.head())\n",
    "print(data_energy.info())"
   ]
  },
  {
   "cell_type": "code",
   "execution_count": null,
   "metadata": {},
   "outputs": [],
   "source": [
    "plt.plot(data_yield['emission_angle'].values, data_yield['counts'].values)\n",
    "plt.show()"
   ]
  },
  {
   "cell_type": "code",
   "execution_count": null,
   "metadata": {},
   "outputs": [],
   "source": [
    "plt.plot(data_energy['emission_angle'].values, data_energy['neutron_energy'].values)\n",
    "plt.show()"
   ]
  },
  {
   "cell_type": "markdown",
   "metadata": {},
   "source": [
    "## Normalize yield wrt 90 degree"
   ]
  },
  {
   "cell_type": "code",
   "execution_count": null,
   "metadata": {},
   "outputs": [],
   "source": [
    "counts_90 = data_yield[ data_yield['emission_angle'] == 90  ]['counts'].values[0]\n",
    "data_yield['R_norm'] = data_yield['counts'] / counts_90\n",
    "\n",
    "plt.plot(data_yield['emission_angle'].values, data_yield['R_norm'].values)\n",
    "plt.show()"
   ]
  },
  {
   "cell_type": "markdown",
   "metadata": {},
   "source": [
    "# Interpolate values for a nicer plot"
   ]
  },
  {
   "cell_type": "code",
   "execution_count": null,
   "metadata": {},
   "outputs": [],
   "source": [
    "\n",
    "\n",
    "\n",
    "poly = np.polyfit(data_yield['emission_angle'].values,data_yield['R_norm'].values,10)\n",
    "\n",
    "X = np.linspace(0, 180, 100)\n",
    "poly_y = np.poly1d(poly)(X)\n",
    "# print(X)\n",
    "\n",
    "# X = np.arange(0,180,1)\n",
    "plt.plot(X, poly_y)\n",
    "# plt.plot(data_yield['emission_angle'].values, data_yield['R_norm'].values)\n",
    "plt.show()"
   ]
  },
  {
   "cell_type": "markdown",
   "metadata": {},
   "source": [
    "# Plot all in one figure"
   ]
  },
  {
   "cell_type": "code",
   "execution_count": null,
   "metadata": {},
   "outputs": [],
   "source": [
    "from scipy.interpolate import splrep, splev\n",
    "from scipy.interpolate import splrep, splev\n",
    "import pandas as pd\n",
    "import numpy as np\n",
    "import matplotlib.pyplot as plt\n",
    "import matplotlib\n",
    "import os\n",
    "from matplotlib.ticker import AutoMinorLocator\n",
    "\n",
    "os.environ[\"PATH\"] += os.pathsep + '/usr/local/texlive/2018/bin/x86_64-darwin'\n",
    "plt.rc('text', usetex=True)\n",
    "plt.rc('font', weight='bold')\n",
    "matplotlib.rcParams['mathtext.fontset'] = 'custom'\n",
    "matplotlib.rcParams['mathtext.rm'] = 'Arial'\n",
    "matplotlib.rcParams['mathtext.it'] = 'Arial:italic'\n",
    "matplotlib.rcParams['mathtext.bf'] = 'Arial:bold'\n",
    "matplotlib.rcParams['mathtext.tt'] = 'Arial'\n",
    "matplotlib.rcParams['mathtext.cal'] = 'Arial'\n",
    "matplotlib.rcParams['text.latex.preamble'] = [r'\\usepackage{sfmath} \\boldmath']\n",
    "%matplotlib inline\n",
    "\n",
    "# import yield file\n",
    "fname_yield = '/Users/hkromer/02_PhD/04_Publiations/01_PaperDrafts/2019/01.CharacterizationPaper/Figures/energy_and_yield_vs_angle/data_from_Benoit/80KeV_yield.csv'\n",
    "\n",
    "# import energy file\n",
    "# emission angle in degree, neutron energy in MeV\n",
    "fname_energy = '/Users/hkromer/02_PhD/04_Publiations/01_PaperDrafts/2019/01.CharacterizationPaper/Figures/energy_and_yield_vs_angle/data_from_Benoit/80kV_energy.xlsx'\n",
    "\n",
    "data_yield = pd.read_csv(fname_yield, header=0, delimiter=';')\n",
    "data_yield.columns = ['emission_angle', 'counts']\n",
    "counts_90 = data_yield[ data_yield['emission_angle'] == 90  ]['counts'].values[0]\n",
    "data_yield['R_norm'] = data_yield['counts'] / counts_90\n",
    "print(data_yield.head())\n",
    "print(data_yield.info())\n",
    "\n",
    "print(' ')\n",
    "data_energy = pd.read_excel(fname_energy, header=None)\n",
    "data_energy.columns = ['emission_angle', 'neutron_energy']\n",
    "print(data_energy.head())\n",
    "print(data_energy.info())\n",
    "\n",
    "\n",
    "# PLOT\n",
    "fig, ax1 = plt.subplots(figsize=(8, 6))\n",
    "\n",
    "fs = 20\n",
    "markersize = 8\n",
    "\n",
    "# Energy on left y axis\n",
    "p1=ax1.plot(data_energy['emission_angle'].values, data_energy['neutron_energy'].values, color='darkblue', markersize=markersize, label=r'Neutron energy')\n",
    "ax1.set_xlabel(r\"\\textbf{Emission angle [degree]}\", fontsize=fs)\n",
    "ax1.set_ylabel(r\"\\textbf{Neutron energy [MeV]}\", fontsize=fs, color='darkblue')\n",
    "ax1.tick_params('x', colors='black', labelsize=fs-2)\n",
    "ax1.tick_params(axis='y', labelcolor='darkblue', labelsize=fs-2)\n",
    "ax1.set_ylim(2.1,2.9)\n",
    "ax1.set_yticks(np.arange(2.1,3.1,0.2))\n",
    "# ax1.set_xlim()\n",
    "ax1.set_xticks(np.arange(0,180+30,30))\n",
    "# minor ticks x\n",
    "minor_locator = AutoMinorLocator(2)\n",
    "ax1.xaxis.set_minor_locator(minor_locator)\n",
    "# minor ticks y\n",
    "minor_locator = AutoMinorLocator(2)\n",
    "ax1.yaxis.set_minor_locator(minor_locator)\n",
    "\n",
    "\n",
    "\n",
    "ax2 = ax1.twinx()  # instantiate a second axes that shares the same x-axis\n",
    "\n",
    "\n",
    "# Yield on right y axis\n",
    "poly = np.polyfit(data_yield['emission_angle'].values,data_yield['R_norm'].values,10)\n",
    "X = np.linspace(0, 180, 100)\n",
    "poly_y = np.poly1d(poly)(X)\n",
    "p2=ax2.plot(X, poly_y, '--', color='darkred', markersize=markersize, label=r'Relative neutron yield')\n",
    "ax2.set_ylabel(r\"\\textbf{Relative yield [-]}\", fontsize=fs, color='darkred')\n",
    "ax2.tick_params(axis='y', labelcolor='darkred', labelsize=fs-2)\n",
    "ax2.set_ylim(0.9,1.9)\n",
    "ax2.set_yticks(np.arange(0.8,2.2,0.2))\n",
    "# minor ticks x\n",
    "minor_locator = AutoMinorLocator(2)\n",
    "ax2.xaxis.set_minor_locator(minor_locator)\n",
    "# minor ticks y\n",
    "minor_locator = AutoMinorLocator(2)\n",
    "ax2.yaxis.set_minor_locator(minor_locator)\n",
    "\n",
    "\n",
    "ps = p1+p2\n",
    "labs = [p.get_label() for p in ps]\n",
    "ax2.legend(ps, labs, loc='best', fontsize=fs-4)\n",
    "ax1.grid(which=\"minor\",ls=\"--\", color='0.65')\n",
    "ax1.grid(which=\"major\",ls=\"-\", color='0.55')\n",
    "# ax1.grid(None)\n",
    "plt.tight_layout()\n",
    "\n",
    "# plt.savefig(f'./{figname}.pdf')\n",
    "# plt.savefig(f'./{figname}_600.png',dpi=600)\n",
    "# plt.savefig(f'./{figname}_1200.png',dpi=1200)\n",
    "plt.show()"
   ]
  },
  {
   "cell_type": "code",
   "execution_count": null,
   "metadata": {},
   "outputs": [],
   "source": []
  }
 ],
 "metadata": {
  "kernelspec": {
   "display_name": "Python 3",
   "language": "python",
   "name": "python3"
  },
  "language_info": {
   "codemirror_mode": {
    "name": "ipython",
    "version": 3
   },
   "file_extension": ".py",
   "mimetype": "text/x-python",
   "name": "python",
   "nbconvert_exporter": "python",
   "pygments_lexer": "ipython3",
   "version": "3.7.3"
  }
 },
 "nbformat": 4,
 "nbformat_minor": 4
}
