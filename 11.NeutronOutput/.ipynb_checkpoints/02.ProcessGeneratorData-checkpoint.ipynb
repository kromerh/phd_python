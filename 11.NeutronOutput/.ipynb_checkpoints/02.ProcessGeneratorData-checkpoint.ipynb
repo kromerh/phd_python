{
 "cells": [
  {
   "cell_type": "markdown",
   "metadata": {},
   "source": [
    "# Load ALL the data in the database. Requires > 20 GB of RAM!!!!"
   ]
  },
  {
   "cell_type": "code",
   "execution_count": null,
   "metadata": {},
   "outputs": [],
   "source": [
    "import numpy as np\n",
    "import pandas as pd\n",
    "import pymysql\n",
    "import sqlalchemy as sql\n",
    "import datetime \n",
    "import matplotlib.pyplot as plt\n",
    "from scipy.interpolate import interp1d"
   ]
  },
  {
   "cell_type": "code",
   "execution_count": null,
   "metadata": {},
   "outputs": [],
   "source": [
    "\n",
    "\n",
    "# read password and user to database\n",
    "credentials_file = '/Users/hkromer/02_PhD/01.github/dash_NG/credentials.pw'\n",
    "\n",
    "credentials = pd.read_csv(credentials_file, header=0)\n",
    "user = credentials['username'].values[0]\n",
    "pw = credentials['password'].values[0]\n",
    "\n",
    "\n",
    "host=\"twofast-RPi3-0\"  # your host\n",
    "user=user  # username\n",
    "passwd=pw  # password\n",
    "db=\"NG_twofast_DB\" # name of the database\n",
    "connect_string = 'mysql+pymysql://%(user)s:%(pw)s@%(host)s/%(db)s'% {\"user\": user, \"pw\": pw, \"host\": host, \"db\": db}\n",
    "sql_engine = sql.create_engine(connect_string)\n",
    "\n",
    "def readDoseOverTime(sql_engine, startTime): \n",
    "\t\"\"\"\n",
    "\tRead the flow meter voltage read from the database\n",
    "\t\"\"\"\n",
    "\tquery = \"SELECT * FROM data_dose WHERE time > %(t)s ORDER BY id DESC\" % {\"t\": startTime}\n",
    "\tdf = pd.read_sql(query, sql_engine)\n",
    "\n",
    "\treturn df\n",
    "\n",
    "def readHVOverTime(sql_engine, startTime):\n",
    "\t\"\"\"\n",
    "\tRead the flow meter voltage read from the database\n",
    "\t\"\"\"\n",
    "\tquery = \"SELECT * FROM data_HV WHERE time > %(t)s ORDER BY id DESC\" % {\"t\": startTime}\n",
    "\tdf = pd.read_sql(query, sql_engine)\n",
    "\n",
    "\treturn df\n",
    "\n",
    "def extract_day(row):\n",
    "    day = row.day\n",
    "    month = row.month\n",
    "    year = row.year\n",
    "#     print(f'{year}-{month}-{day}')\n",
    "    return f'{year}-{month}-{day}'\n",
    "\n",
    "def remove_nonsense_days(df, threshold):\n",
    "    \"\"\"\n",
    "    Remove nonsense days from the dataframe. A nonsense day is one where the HV voltage entry was not above -50 kV.\n",
    "    \"\"\"\n",
    "    max_voltage = df['HV_voltage'].max()\n",
    "    day = df['day'].unique()[0]\n",
    "    print(day, max_voltage)\n",
    "#     print(max_voltage)\n",
    "    if max_voltage >= threshold:\n",
    "        return df\n",
    "    else:\n",
    "        pass"
   ]
  },
  {
   "cell_type": "markdown",
   "metadata": {},
   "source": [
    "## Dose"
   ]
  },
  {
   "cell_type": "code",
   "execution_count": null,
   "metadata": {},
   "outputs": [],
   "source": [
    "startTime = \"2017-01-01\"\n",
    "df_dose = readDoseOverTime(sql_engine, startTime)\n",
    "df_dose = df_dose.iloc[::-1]\n",
    "# df_dose.set_index('time', inplace=True)\n",
    "df_dose.to_csv('/Users/hkromer/02_PhD/tmp/df_dose.csv')"
   ]
  },
  {
   "cell_type": "code",
   "execution_count": null,
   "metadata": {},
   "outputs": [],
   "source": [
    "df_dose = pd.read_csv('/Users/hkromer/02_PhD/tmp/df_dose.csv', index_col=0)\n",
    "df_dose['time'] = pd.to_datetime(df_dose['time'])"
   ]
  },
  {
   "cell_type": "code",
   "execution_count": null,
   "metadata": {},
   "outputs": [],
   "source": [
    "print(df_dose.info())\n",
    "df_dose.head()"
   ]
  },
  {
   "cell_type": "markdown",
   "metadata": {},
   "source": [
    "## HV"
   ]
  },
  {
   "cell_type": "code",
   "execution_count": null,
   "metadata": {},
   "outputs": [],
   "source": [
    "startTime = \"2017-01-01\"\n",
    "df_hv = readHVOverTime(sql_engine, startTime)\n",
    "df_hv.to_csv('/Users/hkromer/02_PhD/tmp/df_hv.csv')\n",
    "df_hv = df_hv.iloc[::-1]\n",
    "# df_hv.set_index('time', inplace=True)"
   ]
  },
  {
   "cell_type": "code",
   "execution_count": null,
   "metadata": {},
   "outputs": [],
   "source": [
    "df_hv = pd.read_csv('/Users/hkromer/02_PhD/tmp/df_hv.csv', index_col=0)\n",
    "df_hv['time'] = pd.to_datetime(df_hv['time'])"
   ]
  },
  {
   "cell_type": "code",
   "execution_count": null,
   "metadata": {},
   "outputs": [],
   "source": [
    "print(df_hv.info())\n",
    "df_hv.head()"
   ]
  },
  {
   "cell_type": "markdown",
   "metadata": {},
   "source": [
    "### Drop all days that have HV voltage entries below the threshold\n",
    "\n",
    "- threshold is chosen as 50 kV"
   ]
  },
  {
   "cell_type": "code",
   "execution_count": null,
   "metadata": {},
   "outputs": [],
   "source": [
    "threshold = 50\n",
    "df_hv['day'] = df_hv['time'].apply(lambda x: extract_day(x))\n",
    "a = df_hv.groupby(['day'], as_index=False).apply(lambda x: remove_nonsense_days(x, threshold))\n",
    "a = a.dropna(how='all')\n",
    "df_hv = a\n",
    "df_hv.to_csv('/Users/hkromer/02_PhD/tmp/df_hv_nonsense_days_removed.csv')"
   ]
  },
  {
   "cell_type": "markdown",
   "metadata": {},
   "source": [
    "### Resample to have data every 10 seconds"
   ]
  },
  {
   "cell_type": "code",
   "execution_count": null,
   "metadata": {},
   "outputs": [],
   "source": [
    "df_hv.set_index('time', inplace=True)\n",
    "# df_hv.reset_index(inplace=True)\n",
    "df_hv.head()"
   ]
  },
  {
   "cell_type": "code",
   "execution_count": null,
   "metadata": {},
   "outputs": [],
   "source": [
    "def resample_10_seconds(df, cols):\n",
    "    \"\"\"\n",
    "    Takes the grouped df (groupby day) and resample HV_voltage and HV_current in 10s\n",
    "    \"\"\"\n",
    "    day = df['day'].unique()[0]   \n",
    "    d = {}\n",
    "    range_start = f'{day} 00:00:00'\n",
    "    range_end = f'{day} 23:59:00'\n",
    "    # resample 24 hours in steps of 10 s\n",
    "    s = pd.date_range(start=range_start, end=range_end, freq='10S')\n",
    "    df_out = pd.DataFrame(pd.Series(s, name='time')).set_index('time')\n",
    "    for col in cols:\n",
    "        d[col] = df[col].resample('10S').mean()\n",
    "#         df_out[col] = 0\n",
    "    this_d = pd.DataFrame(d)\n",
    "    \n",
    "    df_out = df_out.merge(this_d, left_on=df_out.index, right_on=this_d.index, how='outer')\n",
    "#     df_out = df_out.drop(columns=['level_0', 'level_1'])\n",
    "    return df_out\n",
    "\n",
    "df_hv_resampled = df_hv.groupby(['day'], as_index=False).apply(lambda x: resample_10_seconds(x, ['HV_voltage', 'HV_current'])).reset_index()\n",
    "df_hv_resampled.rename(columns={'key_0': 'time'}, inplace=True)\n",
    "df_hv_resampled.drop(columns=['level_0', 'level_1'], inplace=True)\n",
    "df_hv_resampled['day'] = df_hv_resampled['time'].apply(lambda x: extract_day(x))\n",
    "df_hv_resampled.set_index('time', inplace=True)\n",
    "df_hv_resampled.fillna(0, inplace=True)\n",
    "df_hv_resampled.to_csv('/Users/hkromer/02_PhD/tmp/df_hv_nonsense_days_removed_resampled.csv')"
   ]
  },
  {
   "cell_type": "markdown",
   "metadata": {},
   "source": [
    "### Go through the dose dataframe, drop those dates that have no HV data"
   ]
  },
  {
   "cell_type": "code",
   "execution_count": null,
   "metadata": {},
   "outputs": [],
   "source": [
    "# df_dose = pd.read_csv('/Users/hkromer/02_PhD/tmp/df_dose.csv', index_col=0)\n",
    "# df_dose = df_dose.iloc[::-1]\n",
    "# df_dose['time'] = pd.to_datetime(df_dose['time'])\n",
    "# df_dose.reset_index(inplace=True)\n",
    "# df_dose.set_index('time', inplace=True)\n",
    "df_dose.head()"
   ]
  },
  {
   "cell_type": "code",
   "execution_count": null,
   "metadata": {},
   "outputs": [],
   "source": [
    "useful_days = df_hv_resampled['day'].unique().tolist()\n",
    "print(useful_days)\n",
    "def remove_nonsense_days_from_dose(df):\n",
    "    \"\"\"\n",
    "    Remove nonsense days from the dataframe. A nonsense day is one where the HV voltage entry was not above -50 kV.\n",
    "    \"\"\"\n",
    "\n",
    "    day = df['day'].unique()[0]\n",
    "\n",
    "    if day in useful_days:\n",
    "        return df\n",
    "    else:\n",
    "        pass\n",
    "\n",
    "# get the day\n",
    "# df_dose_sample.reset_index(inplace=True)\n",
    "df_dose['day'] = df_dose['time'].apply(lambda x: extract_day(x))\n",
    "df_dose = df_dose.dropna(how='all')\n",
    "print(len(df_dose))\n",
    "a = df_dose.groupby(['day']).apply(lambda x: remove_nonsense_days_from_dose(x))\n",
    "df_dose = a.dropna(how='all')\n",
    "print(len(df_dose))"
   ]
  },
  {
   "cell_type": "code",
   "execution_count": null,
   "metadata": {},
   "outputs": [],
   "source": [
    "df_dose.head()"
   ]
  },
  {
   "cell_type": "code",
   "execution_count": null,
   "metadata": {},
   "outputs": [],
   "source": [
    "df_dose.to_csv('/Users/hkromer/02_PhD/tmp/df_dose_nonsense_days_removed.csv')"
   ]
  },
  {
   "cell_type": "markdown",
   "metadata": {},
   "source": [
    "### Resample the remaining dose the same way as the HV"
   ]
  },
  {
   "cell_type": "code",
   "execution_count": null,
   "metadata": {},
   "outputs": [],
   "source": [
    "df_dose.set_index('time', inplace=True)\n",
    "a = df_dose.groupby(['day'], as_index=False).apply(lambda x: resample_10_seconds(x, ['dose', 'dose_voltage', 'dose_corrected'])).reset_index()\n",
    "\n",
    "a.rename(columns={'key_0': 'time'}, inplace=True)\n",
    "a.drop(columns=['level_0', 'level_1'], inplace=True)\n",
    "a['day'] = a['time'].apply(lambda x: extract_day(x))\n",
    "a.set_index('time', inplace=True)\n",
    "df_dose_resampled = a.fillna(0)\n",
    "df_dose_resampled.to_csv('/Users/hkromer/02_PhD/tmp/df_dose_nonsense_days_removed_resampled.csv')"
   ]
  },
  {
   "cell_type": "markdown",
   "metadata": {},
   "source": [
    "## Combine dose and hv"
   ]
  },
  {
   "cell_type": "code",
   "execution_count": null,
   "metadata": {},
   "outputs": [],
   "source": [
    "assert len(df_hv_resampled.day.unique()) == len(df_dose_resampled.day.unique())\n",
    "df_out = df_hv_resampled.merge(df_dose_resampled, left_on=df_hv_resampled.index, right_on=df_dose_resampled.index, how='outer')\n",
    "df_out = df_out.drop(columns = 'day_y')\n",
    "df_out = df_out.rename(columns={'key_0': 'time', 'day_x': 'day'})\n",
    "df_out.set_index('time', inplace=True)\n",
    "df_out.to_csv('/Users/hkromer/02_PhD/tmp/df_COMBINED_nonsense_days_removed_resampled.csv')\n",
    "df_out.head()"
   ]
  },
  {
   "cell_type": "markdown",
   "metadata": {},
   "source": [
    "## Put all out in separate csv\n"
   ]
  },
  {
   "cell_type": "code",
   "execution_count": null,
   "metadata": {},
   "outputs": [],
   "source": [
    "outfolder = '/Users/hkromer/02_PhD/tmp/data_robert_2/'\n",
    "def output_daily_data(df, outfolder):\n",
    "    day = df['day'].unique()[0]\n",
    "    print(f'Saving day {day}...')\n",
    "    df.to_csv(f'{outfolder}/{day}.csv')\n",
    "    \n",
    "df_out.groupby(['day'], as_index=False).apply(lambda x: output_daily_data(x, outfolder)).reset_index()"
   ]
  },
  {
   "cell_type": "markdown",
   "metadata": {},
   "source": [
    "# Include the output\n",
    "\n",
    "- compute from the dose\n"
   ]
  },
  {
   "cell_type": "code",
   "execution_count": null,
   "metadata": {},
   "outputs": [],
   "source": [
    "# 02_PhD/01.github/phd/05_MCNP/02.output_determination/MCNP_neutron_output/fun_getNeutronOutputPer100muSv.py\n",
    "import pandas as pd\n",
    "import numpy as np\n",
    "import os, glob\n",
    "from shutil import copyfile\n",
    "import re\n",
    "import sys\n",
    "\n",
    "\n",
    "# # copy the MCNP files\n",
    "# lst_ID = np.arange(126,135,1)\n",
    "# path = '//fs03//LTH_Neutimag//hkromer//10_Experiments//02_MCNP//'\n",
    "\n",
    "# for ID in lst_ID:\n",
    "# \tthis_path = '{}CurrentTarget{}/CurrentTarget{}_normal/'.format(path, ID, ID)\n",
    "# \tfor fname in glob.glob('{}df_neutron_output_for_Edeut_*.csv'.format(this_path)):\n",
    "# \t\tnewfname = fname.replace('df_', 'df_ID{}_'.format(ID))\n",
    "# \t\t_ = re.findall(r'(df.+)', newfname)\n",
    "# \t\tif len(_)>0:\n",
    "# \t\t\tnewfname = _[0]\n",
    "# \t\tnewfname = '//fs03/LTH_Neutimag/hkromer/02_Simulations/01_Python/MCNP_neutron_output/MCNP_results_oldTarget/{}'.format(newfname)\n",
    "# \t\tcopyfile(fname, newfname)\n",
    "\n",
    "def getNeutronOutputPer100muSv(HV=100, LB6411_distance=70, newTarget=1):\n",
    "\t\"\"\"\n",
    "\tRetrieves the neutron output per 100µSv/h as determined from MCNP. Only works for the new target. Returns that value\n",
    "\tHV: High voltage. This determines which MCNP run is taken to load the data. Default is -100 kV\n",
    "\tLB6411_distance: Distance between the source and LB6411 position. Default is 70 cm\n",
    "\tnewTarget: if 1, then the files for the new target are used, 0 the files for the old target are used\n",
    "\treturns neutron output per 100 µSv/hr as read by the LB6411\n",
    "\t\"\"\"\n",
    "\tmaster_path = '/Users/hkromer/02_PhD/01.github/phd/05_MCNP/02.output_determination/MCNP_neutron_output/'\n",
    "\tif newTarget == 1:\n",
    "\t\tpath_to_MCNP_OutputPer100muSv = '{}MCNP_results_newTarget/'.format(master_path)\n",
    "\telse:\n",
    "\t\tpath_to_MCNP_OutputPer100muSv = '{}MCNP_results_oldTarget/'.format(master_path)\n",
    "\n",
    "\n",
    "\t# get which HVs have been simulated in MCNP\n",
    "\tlst_HV = []\n",
    "\tfor fname in glob.glob('{}*.csv'.format(path_to_MCNP_OutputPer100muSv)):\n",
    "\t\t_ = re.findall(r'(\\d+)\\.csv', fname)\n",
    "\t\tlst_HV.append(int(_[0]))\n",
    "\n",
    "\n",
    "\t# list of the ID's for the respective MCNP simulation\n",
    "\tlst_ID = []\n",
    "\tfor fname in glob.glob('{}*.csv'.format(path_to_MCNP_OutputPer100muSv)):\n",
    "\t\t_ = re.findall(r'ID(\\d+)_', fname)\n",
    "\t\tlst_ID.append(int(_[0]))\n",
    "\t# print(lst_ID)\n",
    "\t# find index of the HV in the lst_HV\n",
    "\ttry:\n",
    "\t\tidx = lst_HV.index(HV)\n",
    "\texcept ValueError:\n",
    "\t\tidx = -1\n",
    "\n",
    "\tif idx == -1:\n",
    "\t\tprint('--- Available high voltage settings: {}'.format(lst_HV))\n",
    "\t\tprint('--- High voltage value of ' + str(HV) + ' is not in an MCNP run. sys.exit(). --- ')\n",
    "\t\tsys.exit()\n",
    "\telse:\n",
    "\t\tcsv_name = '{}df_ID{}_neutron_output_for_Edeut_{}.csv'.format(path_to_MCNP_OutputPer100muSv, lst_ID[idx], lst_HV[idx])\n",
    "\t\tdf = pd.read_csv(csv_name, header=0)\n",
    "\n",
    "\t\tdistance = LB6411_distance\n",
    "\n",
    "\t\tneutronOutputPer100muSv = df.W[ df.distance == distance ].values\n",
    "\t\t# print(path_to_MCNP_OutputPer100muSv)\n",
    "\n",
    "\t\treturn neutronOutputPer100muSv\n",
    "\n",
    "# print(getNeutronOutputPer100muSv(HV=85, LB6411_distance=50, newTarget=0))"
   ]
  },
  {
   "cell_type": "markdown",
   "metadata": {},
   "source": [
    "## Get a relation between muSv/hr and total neutron output for 50, 55, and 70 cm as position of the LB6411\n",
    "\n",
    "- returns a df with rows as different distances, cols are the HV values and the values are the outputs in n/s per 100 muSv/hr"
   ]
  },
  {
   "cell_type": "code",
   "execution_count": null,
   "metadata": {},
   "outputs": [],
   "source": [
    "HVs = [105, 80, 95, 110, 100, 90, 85]\n",
    "d = {}\n",
    "for HV in HVs:\n",
    "    d[HV] = getNeutronOutputPer100muSv(HV=HV, LB6411_distance=50, newTarget=1)[0]\n",
    "s_50 = pd.Series(d)\n",
    "\n",
    "d = {}\n",
    "for HV in HVs:\n",
    "    d[HV] = getNeutronOutputPer100muSv(HV=HV, LB6411_distance=55, newTarget=1)[0]\n",
    "s_55 = pd.Series(d)\n",
    "\n",
    "d = {}\n",
    "for HV in HVs:\n",
    "    d[HV] = getNeutronOutputPer100muSv(HV=HV, LB6411_distance=70, newTarget=1)[0]\n",
    "s_70 = pd.Series(d)\n",
    "df_relation = pd.DataFrame([s_50, s_55, s_70], index = ['50', '55', '70'])\n",
    "\n",
    "df_relation.to_csv('/Users/hkromer/02_PhD/tmp/relation_dose_output.csv')\n",
    "df_relation"
   ]
  },
  {
   "cell_type": "code",
   "execution_count": null,
   "metadata": {},
   "outputs": [],
   "source": [
    "df_relation.loc['50'].sort_values().values"
   ]
  },
  {
   "cell_type": "markdown",
   "metadata": {},
   "source": [
    "## Add to the dataframe the neutron output\n"
   ]
  },
  {
   "cell_type": "code",
   "execution_count": null,
   "metadata": {},
   "outputs": [],
   "source": [
    "import pandas as pd\n",
    "import numpy as np\n",
    "from scipy.interpolate import interp1d\n",
    "\n",
    "# read the combined dataframe\n",
    "df = pd.read_csv('/Users/hkromer/02_PhD/tmp/df_COMBINED_nonsense_days_removed_resampled.csv')\n",
    "df['time'] = pd.to_datetime(df['time'])\n",
    "df.set_index('time', inplace=True)"
   ]
  },
  {
   "cell_type": "code",
   "execution_count": null,
   "metadata": {},
   "outputs": [],
   "source": [
    "# dictionary with the position of the LB6411. Only 2017-12-1 the sphere was at 50 cm \n",
    "positions = {'2017-12-1': 50}\n",
    "interp_50 = interp1d(df_relation.loc['50'].sort_values().index, df_relation.loc['50'].sort_values().values, kind='cubic', fill_value=\"extrapolate\")\n",
    "interp_70 = interp1d(df_relation.loc['70'].sort_values().index, df_relation.loc['70'].sort_values().values, kind='cubic', fill_value=\"extrapolate\")\n",
    "\n",
    "\n",
    "interpolation_output = {'50': interp_50, '70': interp_70}\n",
    "\n",
    "def compute_neutron_output(row):\n",
    "    HV = row['HV_voltage']\n",
    "    day = row['day']\n",
    "    distance = int(row['LB6411_distance'])\n",
    "    dose = row['dose_corrected']\n",
    "    \n",
    "    # get the correct interpolation for HV at that distance of LB6411 sphere\n",
    "    interp = interpolation_output[str(distance)]\n",
    "    \n",
    "    # conversion factor neutronOutputPer100muSv\n",
    "    factor = (1/100) * interp(HV) \n",
    "\n",
    "    return factor * dose\n",
    "    \n",
    "df['LB6411_distance'] = df['day'].map(positions).fillna(70)\n",
    "df['neutron_output'] = df.apply(lambda x: compute_neutron_output(x), axis=1)"
   ]
  },
  {
   "cell_type": "code",
   "execution_count": null,
   "metadata": {},
   "outputs": [],
   "source": [
    "df.columns"
   ]
  },
  {
   "cell_type": "markdown",
   "metadata": {},
   "source": [
    "## Save to csv for Robert"
   ]
  },
  {
   "cell_type": "code",
   "execution_count": null,
   "metadata": {},
   "outputs": [],
   "source": [
    "df.to_csv('/Users/hkromer/02_PhD/tmp/df_with_neutron_output.csv')\n",
    "\n",
    "outfolder = '/Users/hkromer/02_PhD/tmp/data_robert_2/'\n",
    "cols= ['HV_voltage', 'HV_current', 'dose_corrected', 'neutron_output'] # cols to save\n",
    "\n",
    "def output_daily_data(df, outfolder, cols):\n",
    "    day = df['day'].unique()[0]\n",
    "    print(f'Saving day {day}...')\n",
    "    df[cols].to_csv(f'{outfolder}/{day}.csv')\n",
    "    \n",
    "df.groupby(['day'], as_index=False).apply(lambda x: output_daily_data(x, outfolder, cols)).reset_index()"
   ]
  },
  {
   "cell_type": "markdown",
   "metadata": {},
   "source": [
    "## Detect if there was operation\n",
    "\n",
    "- determined by "
   ]
  },
  {
   "cell_type": "code",
   "execution_count": null,
   "metadata": {},
   "outputs": [],
   "source": [
    "my_date = '2019-5-7'\n",
    "my_range1 = f'{my_date} 08:00:00'\n",
    "my_range2 = f'{my_date} 18:00:00'\n",
    "t = df[ (df['day'] == my_date) ].loc[my_range1:my_range2]\n",
    "\n",
    "plt.figure(figsize=(15,5))\n",
    "plt.plot(t['neutron_output'], color='blue', label='raw')\n",
    "\n",
    "\n",
    "# ax = plt.gca()\n",
    "# ticks = ax.get_xticks()\n",
    "# plt.plot(resampled_data['HHMM'], resampled_data['HV_current'], color='red', label='resampled 10s', linewidth=1)\n",
    "\n",
    "# ax.set_xticks(ticks[::60])\n",
    "# plt.ylim(0, 3000)\n",
    "plt.ylabel('neutron_output')\n",
    "plt.xlabel('time')\n",
    "\n",
    "\n",
    "plt.legend(loc='best')\n",
    "plt.show"
   ]
  },
  {
   "cell_type": "markdown",
   "metadata": {},
   "source": [
    "### Resampling comparison some plots"
   ]
  },
  {
   "cell_type": "code",
   "execution_count": null,
   "metadata": {},
   "outputs": [],
   "source": [
    "# testplot = a.set_index('time')\n",
    "raw_data = df_hv_sample.loc['2017-11-29',['HV_voltage', 'HV_current']].reset_index()\n",
    "resampled_data = testplot.loc['2017-11-29',['HV_voltage', 'HV_current']].reset_index()"
   ]
  },
  {
   "cell_type": "code",
   "execution_count": null,
   "metadata": {},
   "outputs": [],
   "source": [
    "from datetime import datetime\n",
    "def compute_HHMM(row):\n",
    "#     print(row)\n",
    "    return datetime.strftime(row, \"%H:%M\")\n",
    "\n",
    "resampled_data['HHMM'] = resampled_data['time'].apply(lambda x: compute_HHMM(x))\n",
    "raw_data['HHMM'] = raw_data['time'].apply(lambda x: compute_HHMM(x))"
   ]
  },
  {
   "cell_type": "code",
   "execution_count": null,
   "metadata": {},
   "outputs": [],
   "source": [
    "plt.figure(figsize=(15,5))\n",
    "\n",
    "\n",
    "plt.plot(raw_data['HHMM'], raw_data['HV_voltage'], color='blue', label='raw')\n",
    "\n",
    "ax = plt.gca()\n",
    "ticks = ax.get_xticks()\n",
    "plt.plot(resampled_data['HHMM'], resampled_data['HV_voltage'], color='red', label='resampled 10s')\n",
    "\n",
    "ax.set_xticks(ticks[::60])\n",
    "plt.ylabel('HV_voltage')\n",
    "plt.xlabel('time')\n",
    "\n",
    "\n",
    "plt.legend(loc='best')\n",
    "plt.show"
   ]
  },
  {
   "cell_type": "code",
   "execution_count": null,
   "metadata": {},
   "outputs": [],
   "source": [
    "plt.figure(figsize=(15,5))\n",
    "plt.plot(raw_data['HHMM'], raw_data['HV_current'], color='blue', label='raw')\n",
    "\n",
    "ax = plt.gca()\n",
    "ticks = ax.get_xticks()\n",
    "plt.plot(resampled_data['HHMM'], resampled_data['HV_current'], color='red', label='resampled 10s', linewidth=1)\n",
    "\n",
    "ax.set_xticks(ticks[::60])\n",
    "plt.ylabel('HV_current')\n",
    "plt.xlabel('time')\n",
    "\n",
    "\n",
    "plt.legend(loc='best')\n",
    "plt.show"
   ]
  },
  {
   "cell_type": "code",
   "execution_count": null,
   "metadata": {},
   "outputs": [],
   "source": [
    "t.head()"
   ]
  },
  {
   "cell_type": "code",
   "execution_count": null,
   "metadata": {},
   "outputs": [],
   "source": [
    "my_date = '2019-2-19'\n",
    "my_range1 = f'{my_date} 08:00:00'\n",
    "my_range2 = f'{my_date} 18:00:00'\n",
    "t = df_dose_resampled[ (df_dose_resampled['day'] == my_date) ].loc[my_range1:my_range2]\n",
    "t_raw = df_dose[ df_dose['day'] == my_date ].loc[my_range1:my_range2]\n",
    "plt.figure(figsize=(15,5))\n",
    "plt.plot(t_raw['dose_corrected'], color='blue', label='raw')\n",
    "plt.plot(t['dose_corrected'], color='red', label='resampled 10s', linewidth=1)\n",
    "\n",
    "# ax = plt.gca()\n",
    "# ticks = ax.get_xticks()\n",
    "# plt.plot(resampled_data['HHMM'], resampled_data['HV_current'], color='red', label='resampled 10s', linewidth=1)\n",
    "\n",
    "# ax.set_xticks(ticks[::60])\n",
    "plt.ylabel('dose_corrected')\n",
    "plt.xlabel('time')\n",
    "\n",
    "\n",
    "plt.legend(loc='best')\n",
    "plt.show"
   ]
  },
  {
   "cell_type": "code",
   "execution_count": null,
   "metadata": {},
   "outputs": [],
   "source": [
    "my_date = '2019-2-19'\n",
    "my_range1 = f'{my_date} 08:00:00'\n",
    "my_range2 = f'{my_date} 18:00:00'\n",
    "t = df_out[ (df_out['day'] == my_date) ].loc[my_range1:my_range2]\n",
    "t_raw = df_dose[ df_dose['day'] == my_date ].loc[my_range1:my_range2]\n",
    "plt.figure(figsize=(15,5))\n",
    "plt.plot(t_raw['dose_corrected'], color='blue', label='raw')\n",
    "plt.plot(t['dose_corrected'], color='red', label='resampled 10s', linewidth=1)\n",
    "\n",
    "# ax = plt.gca()\n",
    "# ticks = ax.get_xticks()\n",
    "# plt.plot(resampled_data['HHMM'], resampled_data['HV_current'], color='red', label='resampled 10s', linewidth=1)\n",
    "\n",
    "# ax.set_xticks(ticks[::60])\n",
    "plt.ylabel('dose_corrected')\n",
    "plt.xlabel('time')\n",
    "\n",
    "\n",
    "plt.legend(loc='best')\n",
    "plt.show"
   ]
  },
  {
   "cell_type": "code",
   "execution_count": null,
   "metadata": {},
   "outputs": [],
   "source": [
    "df_out.head()"
   ]
  },
  {
   "cell_type": "code",
   "execution_count": null,
   "metadata": {},
   "outputs": [],
   "source": []
  }
 ],
 "metadata": {
  "kernelspec": {
   "display_name": "Python 3",
   "language": "python",
   "name": "python3"
  },
  "language_info": {
   "codemirror_mode": {
    "name": "ipython",
    "version": 3
   },
   "file_extension": ".py",
   "mimetype": "text/x-python",
   "name": "python",
   "nbconvert_exporter": "python",
   "pygments_lexer": "ipython3",
   "version": "3.7.3"
  }
 },
 "nbformat": 4,
 "nbformat_minor": 4
}
