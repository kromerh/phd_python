{
 "cells": [
  {
   "cell_type": "markdown",
   "metadata": {},
   "source": [
    "# Load ALL the data in the database. Requires > 20 GB of RAM!!!!"
   ]
  },
  {
   "cell_type": "code",
   "execution_count": 10,
   "metadata": {},
   "outputs": [],
   "source": [
    "import numpy as np\n",
    "import pandas as pd\n",
    "import pymysql\n",
    "import sqlalchemy as sql\n",
    "import datetime \n",
    "import matplotlib.pyplot as plt\n",
    "from scipy.interpolate import interp1d"
   ]
  },
  {
   "cell_type": "code",
   "execution_count": 107,
   "metadata": {},
   "outputs": [],
   "source": [
    "\n",
    "\n",
    "# read password and user to database\n",
    "credentials_file = '/Users/hkromer/02_PhD/01.github/dash_NG/credentials.pw'\n",
    "\n",
    "credentials = pd.read_csv(credentials_file, header=0)\n",
    "user = credentials['username'].values[0]\n",
    "pw = credentials['password'].values[0]\n",
    "\n",
    "\n",
    "host=\"twofast-RPi3-0\"  # your host\n",
    "user=user  # username\n",
    "passwd=pw  # password\n",
    "db=\"NG_twofast_DB\" # name of the database\n",
    "connect_string = 'mysql+pymysql://%(user)s:%(pw)s@%(host)s/%(db)s'% {\"user\": user, \"pw\": pw, \"host\": host, \"db\": db}\n",
    "sql_engine = sql.create_engine(connect_string)\n",
    "\n",
    "def readDoseOverTime(sql_engine, startTime): \n",
    "\t\"\"\"\n",
    "\tRead the flow meter voltage read from the database\n",
    "\t\"\"\"\n",
    "\tquery = \"SELECT * FROM data_dose WHERE time > %(t)s ORDER BY id DESC\" % {\"t\": startTime}\n",
    "\tdf = pd.read_sql(query, sql_engine)\n",
    "\n",
    "\treturn df\n",
    "\n",
    "def readHVOverTime(sql_engine, startTime):\n",
    "\t\"\"\"\n",
    "\tRead the flow meter voltage read from the database\n",
    "\t\"\"\"\n",
    "\tquery = \"SELECT * FROM data_HV WHERE time > %(t)s ORDER BY id DESC\" % {\"t\": startTime}\n",
    "\tdf = pd.read_sql(query, sql_engine)\n",
    "\n",
    "\treturn df\n",
    "\n",
    "def extract_day(row):\n",
    "    day = row.day\n",
    "    month = row.month\n",
    "    year = row.year\n",
    "#     print(f'{year}-{month}-{day}')\n",
    "    return f'{year}-{month}-{day}'\n",
    "\n",
    "def remove_nonsense_days(df, threshold):\n",
    "    \"\"\"\n",
    "    Remove nonsense days from the dataframe. A nonsense day is one where the HV voltage entry was not above -50 kV.\n",
    "    \"\"\"\n",
    "    max_voltage = df['HV_voltage'].max()\n",
    "    day = df['day'].unique()[0]\n",
    "    print(day, max_voltage)\n",
    "#     print(max_voltage)\n",
    "    if max_voltage >= threshold:\n",
    "        return df\n",
    "    else:\n",
    "        pass"
   ]
  },
  {
   "cell_type": "markdown",
   "metadata": {},
   "source": [
    "## Dose"
   ]
  },
  {
   "cell_type": "code",
   "execution_count": 320,
   "metadata": {},
   "outputs": [
    {
     "data": {
      "text/html": [
       "<div>\n",
       "<style scoped>\n",
       "    .dataframe tbody tr th:only-of-type {\n",
       "        vertical-align: middle;\n",
       "    }\n",
       "\n",
       "    .dataframe tbody tr th {\n",
       "        vertical-align: top;\n",
       "    }\n",
       "\n",
       "    .dataframe thead th {\n",
       "        text-align: right;\n",
       "    }\n",
       "</style>\n",
       "<table border=\"1\" class=\"dataframe\">\n",
       "  <thead>\n",
       "    <tr style=\"text-align: right;\">\n",
       "      <th></th>\n",
       "      <th>id</th>\n",
       "      <th>time</th>\n",
       "      <th>dose</th>\n",
       "      <th>dose_voltage</th>\n",
       "      <th>dose_corrected</th>\n",
       "    </tr>\n",
       "  </thead>\n",
       "  <tbody>\n",
       "    <tr>\n",
       "      <th>3906395</th>\n",
       "      <td>1</td>\n",
       "      <td>2017-11-29 07:50:06.630523</td>\n",
       "      <td>16.3636</td>\n",
       "      <td>NaN</td>\n",
       "      <td>NaN</td>\n",
       "    </tr>\n",
       "    <tr>\n",
       "      <th>3906394</th>\n",
       "      <td>2</td>\n",
       "      <td>2017-11-29 07:50:07.622025</td>\n",
       "      <td>16.3636</td>\n",
       "      <td>NaN</td>\n",
       "      <td>NaN</td>\n",
       "    </tr>\n",
       "    <tr>\n",
       "      <th>3906393</th>\n",
       "      <td>3</td>\n",
       "      <td>2017-11-29 07:50:08.629873</td>\n",
       "      <td>16.3636</td>\n",
       "      <td>NaN</td>\n",
       "      <td>NaN</td>\n",
       "    </tr>\n",
       "    <tr>\n",
       "      <th>3906392</th>\n",
       "      <td>4</td>\n",
       "      <td>2017-11-29 07:50:09.641404</td>\n",
       "      <td>16.3636</td>\n",
       "      <td>NaN</td>\n",
       "      <td>NaN</td>\n",
       "    </tr>\n",
       "    <tr>\n",
       "      <th>3906391</th>\n",
       "      <td>5</td>\n",
       "      <td>2017-11-29 07:50:10.649331</td>\n",
       "      <td>16.3636</td>\n",
       "      <td>NaN</td>\n",
       "      <td>NaN</td>\n",
       "    </tr>\n",
       "  </tbody>\n",
       "</table>\n",
       "</div>"
      ],
      "text/plain": [
       "         id                       time     dose  dose_voltage  dose_corrected\n",
       "3906395   1 2017-11-29 07:50:06.630523  16.3636           NaN             NaN\n",
       "3906394   2 2017-11-29 07:50:07.622025  16.3636           NaN             NaN\n",
       "3906393   3 2017-11-29 07:50:08.629873  16.3636           NaN             NaN\n",
       "3906392   4 2017-11-29 07:50:09.641404  16.3636           NaN             NaN\n",
       "3906391   5 2017-11-29 07:50:10.649331  16.3636           NaN             NaN"
      ]
     },
     "execution_count": 320,
     "metadata": {},
     "output_type": "execute_result"
    }
   ],
   "source": [
    "df_dose_sample = df_dose.iloc[0:100000,:]\n",
    "df_dose_sample.head()"
   ]
  },
  {
   "cell_type": "code",
   "execution_count": 2,
   "metadata": {},
   "outputs": [
    {
     "name": "stderr",
     "output_type": "stream",
     "text": [
      "/Users/hkromer/anaconda3/envs/solarAnalytics/lib/python3.7/site-packages/pymysql/cursors.py:170: Warning: (1292, \"Incorrect datetime value: '2015'\")\n",
      "  result = self._query(query)\n"
     ]
    }
   ],
   "source": [
    "startTime = \"2017-01-01\"\n",
    "df_dose = readDoseOverTime(sql_engine, startTime)\n",
    "df_dose.to_csv('/Users/hkromer/02_PhD/tmp/df_dose.csv')"
   ]
  },
  {
   "cell_type": "code",
   "execution_count": 300,
   "metadata": {},
   "outputs": [
    {
     "name": "stderr",
     "output_type": "stream",
     "text": [
      "/Users/hkromer/anaconda3/envs/solarAnalytics/lib/python3.7/site-packages/numpy/lib/arraysetops.py:569: FutureWarning: elementwise comparison failed; returning scalar instead, but in the future will perform elementwise comparison\n",
      "  mask |= (ar1 == a)\n"
     ]
    }
   ],
   "source": [
    "df_dose = pd.read_csv('/Users/hkromer/02_PhD/tmp/df_dose.csv', index_col=0)"
   ]
  },
  {
   "cell_type": "code",
   "execution_count": 319,
   "metadata": {},
   "outputs": [],
   "source": [
    "df_dose = df_dose.iloc[::-1]\n",
    "# df_dose['time'] = pd.to_datetime(df_dose['time'])\n",
    "# df_dose.head()"
   ]
  },
  {
   "cell_type": "markdown",
   "metadata": {},
   "source": [
    "## HV"
   ]
  },
  {
   "cell_type": "code",
   "execution_count": 10,
   "metadata": {},
   "outputs": [],
   "source": [
    "startTime = \"2017-01-01\"\n",
    "df_hv = readHVOverTime(sql_engine, startTime)\n",
    "df_hv.to_csv('/Users/hkromer/02_PhD/tmp/df_hv.csv')"
   ]
  },
  {
   "cell_type": "code",
   "execution_count": 26,
   "metadata": {},
   "outputs": [
    {
     "data": {
      "text/plain": [
       "id            5.253611e+06\n",
       "HV_voltage    8.125000e+01\n",
       "HV_current    1.493440e+00\n",
       "dtype: float64"
      ]
     },
     "execution_count": 26,
     "metadata": {},
     "output_type": "execute_result"
    }
   ],
   "source": [
    "# df_hv = df_hv.iloc[::-1]\n",
    "# df_hv.set_index('time', inplace=True)\n",
    "df_hv.loc['2019-07-12'].max()"
   ]
  },
  {
   "cell_type": "code",
   "execution_count": 29,
   "metadata": {},
   "outputs": [],
   "source": [
    "# df_hv = pd.read_csv('/Users/hkromer/02_PhD/tmp/df_hv.csv', index_col=0)\n",
    "# df_hv = df_hv.iloc[::-1]\n",
    "# df_hv.set_index('time', inplace=True)\n",
    "# df_hv.reset_index(inplace=True)\n",
    "\n",
    "# df_hv['time'] = pd.to_datetime(df_hv['time'])\n",
    "# df_hv.set_index('time', inplace=True)\n",
    "\n",
    "\n",
    "df_hv_sample = df_hv.iloc[0:100000,:]"
   ]
  },
  {
   "cell_type": "code",
   "execution_count": 30,
   "metadata": {},
   "outputs": [
    {
     "data": {
      "text/html": [
       "<div>\n",
       "<style scoped>\n",
       "    .dataframe tbody tr th:only-of-type {\n",
       "        vertical-align: middle;\n",
       "    }\n",
       "\n",
       "    .dataframe tbody tr th {\n",
       "        vertical-align: top;\n",
       "    }\n",
       "\n",
       "    .dataframe thead th {\n",
       "        text-align: right;\n",
       "    }\n",
       "</style>\n",
       "<table border=\"1\" class=\"dataframe\">\n",
       "  <thead>\n",
       "    <tr style=\"text-align: right;\">\n",
       "      <th></th>\n",
       "      <th>time</th>\n",
       "      <th>id</th>\n",
       "      <th>HV_voltage</th>\n",
       "      <th>HV_current</th>\n",
       "    </tr>\n",
       "  </thead>\n",
       "  <tbody>\n",
       "    <tr>\n",
       "      <th>0</th>\n",
       "      <td>2017-11-29 07:50:06.630523</td>\n",
       "      <td>1</td>\n",
       "      <td>0.15</td>\n",
       "      <td>0.0</td>\n",
       "    </tr>\n",
       "    <tr>\n",
       "      <th>1</th>\n",
       "      <td>2017-11-29 07:50:07.622025</td>\n",
       "      <td>2</td>\n",
       "      <td>0.15</td>\n",
       "      <td>0.0</td>\n",
       "    </tr>\n",
       "    <tr>\n",
       "      <th>2</th>\n",
       "      <td>2017-11-29 07:50:08.629873</td>\n",
       "      <td>3</td>\n",
       "      <td>0.15</td>\n",
       "      <td>0.0</td>\n",
       "    </tr>\n",
       "    <tr>\n",
       "      <th>3</th>\n",
       "      <td>2017-11-29 07:50:09.641404</td>\n",
       "      <td>4</td>\n",
       "      <td>0.15</td>\n",
       "      <td>0.0</td>\n",
       "    </tr>\n",
       "    <tr>\n",
       "      <th>4</th>\n",
       "      <td>2017-11-29 07:50:10.649331</td>\n",
       "      <td>5</td>\n",
       "      <td>0.15</td>\n",
       "      <td>0.0</td>\n",
       "    </tr>\n",
       "  </tbody>\n",
       "</table>\n",
       "</div>"
      ],
      "text/plain": [
       "                        time  id  HV_voltage  HV_current\n",
       "0 2017-11-29 07:50:06.630523   1        0.15         0.0\n",
       "1 2017-11-29 07:50:07.622025   2        0.15         0.0\n",
       "2 2017-11-29 07:50:08.629873   3        0.15         0.0\n",
       "3 2017-11-29 07:50:09.641404   4        0.15         0.0\n",
       "4 2017-11-29 07:50:10.649331   5        0.15         0.0"
      ]
     },
     "execution_count": 30,
     "metadata": {},
     "output_type": "execute_result"
    }
   ],
   "source": [
    "df_hv_sample.head()"
   ]
  },
  {
   "cell_type": "code",
   "execution_count": 37,
   "metadata": {},
   "outputs": [
    {
     "name": "stderr",
     "output_type": "stream",
     "text": [
      "/Users/hkromer/anaconda3/envs/solarAnalytics/lib/python3.7/site-packages/ipykernel_launcher.py:2: SettingWithCopyWarning: \n",
      "A value is trying to be set on a copy of a slice from a DataFrame.\n",
      "Try using .loc[row_indexer,col_indexer] = value instead\n",
      "\n",
      "See the caveats in the documentation: http://pandas.pydata.org/pandas-docs/stable/indexing.html#indexing-view-versus-copy\n",
      "  \n"
     ]
    },
    {
     "data": {
      "text/html": [
       "<div>\n",
       "<style scoped>\n",
       "    .dataframe tbody tr th:only-of-type {\n",
       "        vertical-align: middle;\n",
       "    }\n",
       "\n",
       "    .dataframe tbody tr th {\n",
       "        vertical-align: top;\n",
       "    }\n",
       "\n",
       "    .dataframe thead th {\n",
       "        text-align: right;\n",
       "    }\n",
       "</style>\n",
       "<table border=\"1\" class=\"dataframe\">\n",
       "  <thead>\n",
       "    <tr style=\"text-align: right;\">\n",
       "      <th></th>\n",
       "      <th>time</th>\n",
       "      <th>id</th>\n",
       "      <th>HV_voltage</th>\n",
       "      <th>HV_current</th>\n",
       "      <th>day</th>\n",
       "    </tr>\n",
       "  </thead>\n",
       "  <tbody>\n",
       "    <tr>\n",
       "      <th>0</th>\n",
       "      <td>2017-11-29 07:50:06.630523</td>\n",
       "      <td>1</td>\n",
       "      <td>0.15</td>\n",
       "      <td>0.0</td>\n",
       "      <td>2017-11-29</td>\n",
       "    </tr>\n",
       "    <tr>\n",
       "      <th>1</th>\n",
       "      <td>2017-11-29 07:50:07.622025</td>\n",
       "      <td>2</td>\n",
       "      <td>0.15</td>\n",
       "      <td>0.0</td>\n",
       "      <td>2017-11-29</td>\n",
       "    </tr>\n",
       "    <tr>\n",
       "      <th>2</th>\n",
       "      <td>2017-11-29 07:50:08.629873</td>\n",
       "      <td>3</td>\n",
       "      <td>0.15</td>\n",
       "      <td>0.0</td>\n",
       "      <td>2017-11-29</td>\n",
       "    </tr>\n",
       "    <tr>\n",
       "      <th>3</th>\n",
       "      <td>2017-11-29 07:50:09.641404</td>\n",
       "      <td>4</td>\n",
       "      <td>0.15</td>\n",
       "      <td>0.0</td>\n",
       "      <td>2017-11-29</td>\n",
       "    </tr>\n",
       "    <tr>\n",
       "      <th>4</th>\n",
       "      <td>2017-11-29 07:50:10.649331</td>\n",
       "      <td>5</td>\n",
       "      <td>0.15</td>\n",
       "      <td>0.0</td>\n",
       "      <td>2017-11-29</td>\n",
       "    </tr>\n",
       "  </tbody>\n",
       "</table>\n",
       "</div>"
      ],
      "text/plain": [
       "                        time  id  HV_voltage  HV_current         day\n",
       "0 2017-11-29 07:50:06.630523   1        0.15         0.0  2017-11-29\n",
       "1 2017-11-29 07:50:07.622025   2        0.15         0.0  2017-11-29\n",
       "2 2017-11-29 07:50:08.629873   3        0.15         0.0  2017-11-29\n",
       "3 2017-11-29 07:50:09.641404   4        0.15         0.0  2017-11-29\n",
       "4 2017-11-29 07:50:10.649331   5        0.15         0.0  2017-11-29"
      ]
     },
     "execution_count": 37,
     "metadata": {},
     "output_type": "execute_result"
    }
   ],
   "source": [
    "# extract the day\n",
    "df_hv_sample['day'] = df_hv_sample['time'].apply(lambda x: extract_day(x))\n",
    "df_hv_sample.head()"
   ]
  },
  {
   "cell_type": "markdown",
   "metadata": {},
   "source": [
    "d"
   ]
  },
  {
   "cell_type": "code",
   "execution_count": 68,
   "metadata": {},
   "outputs": [
    {
     "name": "stdout",
     "output_type": "stream",
     "text": [
      "2017-11-29 40.37\n",
      "2017-11-29 40.37\n",
      "2017-12-1 100.4\n",
      "2017-12-5 108.5\n",
      "2017-12-7 101.45\n"
     ]
    },
    {
     "data": {
      "text/plain": [
       "71921"
      ]
     },
     "execution_count": 68,
     "metadata": {},
     "output_type": "execute_result"
    }
   ],
   "source": [
    "threshold = 50\n",
    "a = df_hv_sample.groupby(['day'], as_index=False).apply(lambda x: remove_nonsense_days(x, threshold))\n",
    "a = a.dropna(how='all')\n",
    "len(a)"
   ]
  },
  {
   "cell_type": "code",
   "execution_count": 69,
   "metadata": {},
   "outputs": [
    {
     "data": {
      "text/plain": [
       "array(['2017-12-1', '2017-12-5', '2017-12-7'], dtype=object)"
      ]
     },
     "execution_count": 69,
     "metadata": {},
     "output_type": "execute_result"
    }
   ],
   "source": [
    "a['day'].unique()"
   ]
  },
  {
   "cell_type": "markdown",
   "metadata": {},
   "source": [
    "### Drop all days that have HV voltage entries below the threshold\n",
    "\n",
    "- threshold is chosen as 50 kV"
   ]
  },
  {
   "cell_type": "code",
   "execution_count": 87,
   "metadata": {},
   "outputs": [
    {
     "name": "stdout",
     "output_type": "stream",
     "text": [
      "2017-11-29 40.37\n",
      "2017-11-29 40.37\n",
      "2017-12-1 100.4\n",
      "2017-12-20 101.3\n",
      "2017-12-21 91.25\n",
      "2017-12-5 108.5\n",
      "2017-12-7 101.45\n",
      "2018-10-1 80.0\n",
      "2018-10-10 80.3125\n",
      "2018-10-11 80.0\n",
      "2018-10-12 80.0\n",
      "2018-10-17 80.0\n",
      "2018-10-18 80.0\n",
      "2018-10-19 80.0\n",
      "2018-10-2 80.3125\n",
      "2018-10-20 80.0\n",
      "2018-10-22 80.3125\n",
      "2018-10-23 80.0\n",
      "2018-10-24 80.0\n",
      "2018-10-25 80.0\n",
      "2018-10-29 80.0\n",
      "2018-10-3 80.625\n",
      "2018-10-30 80.3125\n",
      "2018-10-31 80.3125\n",
      "2018-10-4 80.625\n",
      "2018-10-5 80.3125\n",
      "2018-10-8 80.3125\n",
      "2018-10-9 80.0\n",
      "2018-11-12 80.625\n",
      "2018-11-13 80.625\n",
      "2018-11-14 90.1515\n",
      "2018-11-15 90.1515\n",
      "2018-11-16 100.0\n",
      "2018-11-19 81.25\n",
      "2018-11-2 81.5625\n",
      "2018-11-20 80.3125\n",
      "2018-11-21 80.625\n",
      "2018-11-22 80.625\n",
      "2018-11-23 80.625\n",
      "2018-11-26 80.625\n",
      "2018-11-27 80.625\n",
      "2018-11-28 80.3125\n",
      "2018-11-29 80.3125\n",
      "2018-11-30 80.3125\n",
      "2018-11-6 81.25\n",
      "2018-11-7 90.1515\n",
      "2018-11-8 80.3125\n",
      "2018-11-9 80.9375\n",
      "2018-12-1 80.3125\n",
      "2018-12-10 81.25\n",
      "2018-12-11 90.7576\n",
      "2018-12-12 80.3125\n",
      "2018-12-13 80.3125\n",
      "2018-12-14 80.0\n",
      "2018-12-15 81.25\n",
      "2018-12-16 81.25\n",
      "2018-12-17 81.25\n",
      "2018-12-18 81.25\n",
      "2018-12-19 81.5625\n",
      "2018-12-2 80.3125\n",
      "2018-12-20 81.5625\n",
      "2018-12-21 82.1875\n",
      "2018-6-26 96.3333\n",
      "2018-6-28 87.7273\n",
      "2018-6-29 91.3636\n",
      "2018-6-30 0.0\n",
      "2018-7-1 0.0\n",
      "2018-7-10 80.3125\n",
      "2018-7-11 100.286\n",
      "2018-7-12 85.303\n",
      "2018-7-13 100.286\n",
      "2018-7-16 20.303\n",
      "2018-7-17 101.14299999999999\n",
      "2018-7-18 80.9375\n",
      "2018-7-19 86.2121\n",
      "2018-7-2 81.25\n",
      "2018-7-25 75.7576\n",
      "2018-7-26 76.0606\n",
      "2018-7-27 76.0606\n",
      "2018-7-3 80.3125\n",
      "2018-7-30 75.4545\n",
      "2018-7-4 80.3125\n",
      "2018-7-5 80.625\n",
      "2018-7-6 80.3125\n",
      "2018-7-9 80.3125\n",
      "2018-8-2 80.3125\n",
      "2018-8-20 100.0\n",
      "2018-8-3 80.3125\n",
      "2018-8-6 92.2727\n",
      "2018-8-7 80.625\n",
      "2018-8-8 80.3125\n",
      "2018-8-9 10.6061\n",
      "2018-9-26 80.9375\n",
      "2018-9-27 80.3125\n",
      "2018-9-28 80.0\n",
      "2019-1-10 81.25\n",
      "2019-1-11 61.25\n",
      "2019-1-17 59.1176\n",
      "2019-1-18 81.5625\n",
      "2019-1-21 81.5625\n",
      "2019-1-22 81.25\n",
      "2019-1-23 81.5625\n",
      "2019-1-24 81.5625\n",
      "2019-1-25 81.5625\n",
      "2019-1-29 81.5625\n",
      "2019-1-8 82.1875\n",
      "2019-1-9 82.5\n",
      "2019-2-1 80.625\n",
      "2019-2-15 80.9375\n",
      "2019-2-18 81.25\n",
      "2019-2-19 81.25\n",
      "2019-2-20 81.25\n",
      "2019-2-21 81.25\n",
      "2019-2-22 81.25\n",
      "2019-2-26 107.6\n",
      "2019-3-12 81.25\n",
      "2019-3-13 0.0\n",
      "2019-3-4 109.7\n",
      "2019-3-5 101.14299999999999\n",
      "2019-3-6 160.0\n",
      "2019-3-7 82.1875\n",
      "2019-3-8 160.0\n",
      "2019-4-10 0.0\n",
      "2019-4-11 0.0\n",
      "2019-4-12 81.25\n",
      "2019-4-15 80.0\n",
      "2019-4-16 80.0\n",
      "2019-4-23 80.0\n",
      "2019-4-24 80.0\n",
      "2019-4-25 80.0\n",
      "2019-4-26 80.0\n",
      "2019-4-29 80.0\n",
      "2019-4-30 80.0\n",
      "2019-4-8 0.0\n",
      "2019-4-9 0.0\n",
      "2019-5-13 101.14299999999999\n",
      "2019-5-14 80.0\n",
      "2019-5-15 80.0\n",
      "2019-5-16 80.3125\n",
      "2019-5-17 80.3125\n",
      "2019-5-20 80.0\n",
      "2019-5-21 80.0\n",
      "2019-5-22 80.0\n",
      "2019-5-24 80.0\n",
      "2019-5-27 80.0\n",
      "2019-5-28 80.0\n",
      "2019-5-3 81.5625\n",
      "2019-5-6 81.5625\n",
      "2019-5-7 81.5625\n",
      "2019-7-12 81.25\n"
     ]
    }
   ],
   "source": [
    "threshold = 50\n",
    "df_hv['day'] = df_hv['time'].apply(lambda x: extract_day(x))\n",
    "a = df_hv.groupby(['day'], as_index=False).apply(lambda x: remove_nonsense_days(x, threshold))\n",
    "a = a.dropna(how='all')\n",
    "df_hv = a\n",
    "df_hv.to_csv('/Users/hkromer/02_PhD/tmp/df_hv_nonsense_days_removed.csv')"
   ]
  },
  {
   "cell_type": "markdown",
   "metadata": {},
   "source": [
    "### Resample to have data every 10 seconds"
   ]
  },
  {
   "cell_type": "code",
   "execution_count": 294,
   "metadata": {},
   "outputs": [
    {
     "data": {
      "text/html": [
       "<div>\n",
       "<style scoped>\n",
       "    .dataframe tbody tr th:only-of-type {\n",
       "        vertical-align: middle;\n",
       "    }\n",
       "\n",
       "    .dataframe tbody tr th {\n",
       "        vertical-align: top;\n",
       "    }\n",
       "\n",
       "    .dataframe thead th {\n",
       "        text-align: right;\n",
       "    }\n",
       "</style>\n",
       "<table border=\"1\" class=\"dataframe\">\n",
       "  <thead>\n",
       "    <tr style=\"text-align: right;\">\n",
       "      <th></th>\n",
       "      <th>index</th>\n",
       "      <th>id</th>\n",
       "      <th>HV_voltage</th>\n",
       "      <th>HV_current</th>\n",
       "      <th>day</th>\n",
       "    </tr>\n",
       "    <tr>\n",
       "      <th>time</th>\n",
       "      <th></th>\n",
       "      <th></th>\n",
       "      <th></th>\n",
       "      <th></th>\n",
       "      <th></th>\n",
       "    </tr>\n",
       "  </thead>\n",
       "  <tbody>\n",
       "    <tr>\n",
       "      <th>2017-12-01 08:18:54.591255</th>\n",
       "      <td>0</td>\n",
       "      <td>28080.0</td>\n",
       "      <td>1.35</td>\n",
       "      <td>0.02</td>\n",
       "      <td>2017-12-1</td>\n",
       "    </tr>\n",
       "    <tr>\n",
       "      <th>2017-12-01 08:18:54.591255</th>\n",
       "      <td>1</td>\n",
       "      <td>28081.0</td>\n",
       "      <td>1.35</td>\n",
       "      <td>0.02</td>\n",
       "      <td>2017-12-1</td>\n",
       "    </tr>\n",
       "    <tr>\n",
       "      <th>2017-12-01 08:18:54.591255</th>\n",
       "      <td>2</td>\n",
       "      <td>28082.0</td>\n",
       "      <td>1.35</td>\n",
       "      <td>0.02</td>\n",
       "      <td>2017-12-1</td>\n",
       "    </tr>\n",
       "    <tr>\n",
       "      <th>2017-12-01 08:18:54.591255</th>\n",
       "      <td>3</td>\n",
       "      <td>28083.0</td>\n",
       "      <td>1.35</td>\n",
       "      <td>0.02</td>\n",
       "      <td>2017-12-1</td>\n",
       "    </tr>\n",
       "    <tr>\n",
       "      <th>2017-12-01 08:18:54.591255</th>\n",
       "      <td>4</td>\n",
       "      <td>28084.0</td>\n",
       "      <td>0.15</td>\n",
       "      <td>0.00</td>\n",
       "      <td>2017-12-1</td>\n",
       "    </tr>\n",
       "  </tbody>\n",
       "</table>\n",
       "</div>"
      ],
      "text/plain": [
       "                            index       id  HV_voltage  HV_current        day\n",
       "time                                                                         \n",
       "2017-12-01 08:18:54.591255      0  28080.0        1.35        0.02  2017-12-1\n",
       "2017-12-01 08:18:54.591255      1  28081.0        1.35        0.02  2017-12-1\n",
       "2017-12-01 08:18:54.591255      2  28082.0        1.35        0.02  2017-12-1\n",
       "2017-12-01 08:18:54.591255      3  28083.0        1.35        0.02  2017-12-1\n",
       "2017-12-01 08:18:54.591255      4  28084.0        0.15        0.00  2017-12-1"
      ]
     },
     "execution_count": 294,
     "metadata": {},
     "output_type": "execute_result"
    }
   ],
   "source": [
    "# df_hv.set_index('time', inplace=True)\n",
    "# df_hv.reset_index(inplace=True)\n",
    "df_hv.head()"
   ]
  },
  {
   "cell_type": "code",
   "execution_count": 289,
   "metadata": {},
   "outputs": [
    {
     "data": {
      "text/html": [
       "<div>\n",
       "<style scoped>\n",
       "    .dataframe tbody tr th:only-of-type {\n",
       "        vertical-align: middle;\n",
       "    }\n",
       "\n",
       "    .dataframe tbody tr th {\n",
       "        vertical-align: top;\n",
       "    }\n",
       "\n",
       "    .dataframe thead th {\n",
       "        text-align: right;\n",
       "    }\n",
       "</style>\n",
       "<table border=\"1\" class=\"dataframe\">\n",
       "  <thead>\n",
       "    <tr style=\"text-align: right;\">\n",
       "      <th></th>\n",
       "      <th>id</th>\n",
       "      <th>HV_voltage</th>\n",
       "      <th>HV_current</th>\n",
       "      <th>day</th>\n",
       "    </tr>\n",
       "    <tr>\n",
       "      <th>time</th>\n",
       "      <th></th>\n",
       "      <th></th>\n",
       "      <th></th>\n",
       "      <th></th>\n",
       "    </tr>\n",
       "  </thead>\n",
       "  <tbody>\n",
       "    <tr>\n",
       "      <th>2017-11-29 07:50:06.630523</th>\n",
       "      <td>1</td>\n",
       "      <td>0.15</td>\n",
       "      <td>0.0</td>\n",
       "      <td>2017-11-29</td>\n",
       "    </tr>\n",
       "    <tr>\n",
       "      <th>2017-11-29 07:50:07.622025</th>\n",
       "      <td>2</td>\n",
       "      <td>0.15</td>\n",
       "      <td>0.0</td>\n",
       "      <td>2017-11-29</td>\n",
       "    </tr>\n",
       "    <tr>\n",
       "      <th>2017-11-29 07:50:08.629873</th>\n",
       "      <td>3</td>\n",
       "      <td>0.15</td>\n",
       "      <td>0.0</td>\n",
       "      <td>2017-11-29</td>\n",
       "    </tr>\n",
       "    <tr>\n",
       "      <th>2017-11-29 07:50:09.641404</th>\n",
       "      <td>4</td>\n",
       "      <td>0.15</td>\n",
       "      <td>0.0</td>\n",
       "      <td>2017-11-29</td>\n",
       "    </tr>\n",
       "    <tr>\n",
       "      <th>2017-11-29 07:50:10.649331</th>\n",
       "      <td>5</td>\n",
       "      <td>0.15</td>\n",
       "      <td>0.0</td>\n",
       "      <td>2017-11-29</td>\n",
       "    </tr>\n",
       "  </tbody>\n",
       "</table>\n",
       "</div>"
      ],
      "text/plain": [
       "                            id  HV_voltage  HV_current         day\n",
       "time                                                              \n",
       "2017-11-29 07:50:06.630523   1        0.15         0.0  2017-11-29\n",
       "2017-11-29 07:50:07.622025   2        0.15         0.0  2017-11-29\n",
       "2017-11-29 07:50:08.629873   3        0.15         0.0  2017-11-29\n",
       "2017-11-29 07:50:09.641404   4        0.15         0.0  2017-11-29\n",
       "2017-11-29 07:50:10.649331   5        0.15         0.0  2017-11-29"
      ]
     },
     "execution_count": 289,
     "metadata": {},
     "output_type": "execute_result"
    }
   ],
   "source": [
    "df_hv_sample.head()"
   ]
  },
  {
   "cell_type": "code",
   "execution_count": 99,
   "metadata": {},
   "outputs": [],
   "source": [
    "# df_hv_sample.set_index('time', inplace=True)"
   ]
  },
  {
   "cell_type": "code",
   "execution_count": 321,
   "metadata": {},
   "outputs": [],
   "source": [
    "def resample_10_seconds(df, cols):\n",
    "    \"\"\"\n",
    "    Takes the grouped df (groupby day) and resample HV_voltage and HV_current in 10s\n",
    "    \"\"\"\n",
    "    day = df['day'].unique()[0]   \n",
    "    d = {}\n",
    "    range_start = f'{day} 00:00'\n",
    "    range_end = f'{day} 23:59'\n",
    "    # resample 24 hours in steps of 10 s\n",
    "    s = pd.date_range(start=range_start, end=range_end, freq='10S')\n",
    "    df_out = pd.DataFrame(pd.Series(s, name='time')).set_index('time')\n",
    "    for col in cols:\n",
    "        d[col] = df[col].resample('10S').mean()\n",
    "#         df_out[col] = 0\n",
    "    this_d = pd.DataFrame(d)\n",
    "    \n",
    "    df_out = df_out.merge(this_d, left_on=df_out.index, right_on=this_d.index, how='outer')\n",
    "#     df_out = df_out.drop(columns=['level_0', 'level_1'])\n",
    "    return df_out\n",
    "\n",
    "df_hv_resampled = df_hv.groupby(['day'], as_index=False).apply(lambda x: resample_10_seconds(x, ['HV_voltage', 'HV_current'])).reset_index()\n",
    "df_hv_resampled.rename(columns={'key_0': 'time'}, inplace=True)\n",
    "df_hv_resampled.drop(columns=['level_0', 'level_1'], inplace=True)\n",
    "df_hv_resampled['day'] = df_hv_resampled['time'].apply(lambda x: extract_day(x))\n",
    "df_hv_resampled.set_index('time', inplace=True)\n",
    "df_hv_resampled.fillna(0, inplace=True)\n",
    "df_hv_resampled.to_csv('/Users/hkromer/02_PhD/tmp/df_hv_nonsense_days_removed_resampled.csv')"
   ]
  },
  {
   "cell_type": "markdown",
   "metadata": {},
   "source": [
    "### Go through the dose dataframe, drop those dates that have no HV data"
   ]
  },
  {
   "cell_type": "code",
   "execution_count": 335,
   "metadata": {},
   "outputs": [
    {
     "data": {
      "text/html": [
       "<div>\n",
       "<style scoped>\n",
       "    .dataframe tbody tr th:only-of-type {\n",
       "        vertical-align: middle;\n",
       "    }\n",
       "\n",
       "    .dataframe tbody tr th {\n",
       "        vertical-align: top;\n",
       "    }\n",
       "\n",
       "    .dataframe thead th {\n",
       "        text-align: right;\n",
       "    }\n",
       "</style>\n",
       "<table border=\"1\" class=\"dataframe\">\n",
       "  <thead>\n",
       "    <tr style=\"text-align: right;\">\n",
       "      <th></th>\n",
       "      <th>id</th>\n",
       "      <th>time</th>\n",
       "      <th>dose</th>\n",
       "      <th>dose_voltage</th>\n",
       "      <th>dose_corrected</th>\n",
       "    </tr>\n",
       "  </thead>\n",
       "  <tbody>\n",
       "    <tr>\n",
       "      <th>3906395</th>\n",
       "      <td>1</td>\n",
       "      <td>2017-11-29 07:50:06.630523</td>\n",
       "      <td>16.3636</td>\n",
       "      <td>NaN</td>\n",
       "      <td>NaN</td>\n",
       "    </tr>\n",
       "    <tr>\n",
       "      <th>3906394</th>\n",
       "      <td>2</td>\n",
       "      <td>2017-11-29 07:50:07.622025</td>\n",
       "      <td>16.3636</td>\n",
       "      <td>NaN</td>\n",
       "      <td>NaN</td>\n",
       "    </tr>\n",
       "    <tr>\n",
       "      <th>3906393</th>\n",
       "      <td>3</td>\n",
       "      <td>2017-11-29 07:50:08.629873</td>\n",
       "      <td>16.3636</td>\n",
       "      <td>NaN</td>\n",
       "      <td>NaN</td>\n",
       "    </tr>\n",
       "    <tr>\n",
       "      <th>3906392</th>\n",
       "      <td>4</td>\n",
       "      <td>2017-11-29 07:50:09.641404</td>\n",
       "      <td>16.3636</td>\n",
       "      <td>NaN</td>\n",
       "      <td>NaN</td>\n",
       "    </tr>\n",
       "    <tr>\n",
       "      <th>3906391</th>\n",
       "      <td>5</td>\n",
       "      <td>2017-11-29 07:50:10.649331</td>\n",
       "      <td>16.3636</td>\n",
       "      <td>NaN</td>\n",
       "      <td>NaN</td>\n",
       "    </tr>\n",
       "  </tbody>\n",
       "</table>\n",
       "</div>"
      ],
      "text/plain": [
       "         id                       time     dose  dose_voltage  dose_corrected\n",
       "3906395   1 2017-11-29 07:50:06.630523  16.3636           NaN             NaN\n",
       "3906394   2 2017-11-29 07:50:07.622025  16.3636           NaN             NaN\n",
       "3906393   3 2017-11-29 07:50:08.629873  16.3636           NaN             NaN\n",
       "3906392   4 2017-11-29 07:50:09.641404  16.3636           NaN             NaN\n",
       "3906391   5 2017-11-29 07:50:10.649331  16.3636           NaN             NaN"
      ]
     },
     "execution_count": 335,
     "metadata": {},
     "output_type": "execute_result"
    }
   ],
   "source": [
    "df_dose = pd.read_csv('/Users/hkromer/02_PhD/tmp/df_dose.csv', index_col=0)\n",
    "df_dose = df_dose.iloc[::-1]\n",
    "df_dose['time'] = pd.to_datetime(df_dose['time'])\n",
    "# df_dose.reset_index(inplace=True)\n",
    "# df_dose.set_index('time', inplace=True)\n",
    "df_dose.head()"
   ]
  },
  {
   "cell_type": "code",
   "execution_count": 338,
   "metadata": {},
   "outputs": [
    {
     "name": "stdout",
     "output_type": "stream",
     "text": [
      "['2017-12-1', '2017-12-20', '2017-12-21', '2017-12-5', '2017-12-7', '2018-10-1', '2018-10-10', '2018-10-11', '2018-10-12', '2018-10-17', '2018-10-18', '2018-10-19', '2018-10-2', '2018-10-20', '2018-10-22', '2018-10-23', '2018-10-24', '2018-10-25', '2018-10-29', '2018-10-3', '2018-10-30', '2018-10-31', '2018-10-4', '2018-10-5', '2018-10-8', '2018-10-9', '2018-11-12', '2018-11-13', '2018-11-14', '2018-11-15', '2018-11-16', '2018-11-19', '2018-11-2', '2018-11-20', '2018-11-21', '2018-11-22', '2018-11-23', '2018-11-26', '2018-11-27', '2018-11-28', '2018-11-29', '2018-11-30', '2018-11-6', '2018-11-7', '2018-11-8', '2018-11-9', '2018-12-1', '2018-12-10', '2018-12-11', '2018-12-12', '2018-12-13', '2018-12-14', '2018-12-15', '2018-12-16', '2018-12-17', '2018-12-18', '2018-12-19', '2018-12-2', '2018-12-20', '2018-12-21', '2018-6-26', '2018-6-28', '2018-6-29', '2018-7-10', '2018-7-11', '2018-7-12', '2018-7-13', '2018-7-17', '2018-7-18', '2018-7-19', '2018-7-2', '2018-7-25', '2018-7-26', '2018-7-27', '2018-7-3', '2018-7-30', '2018-7-4', '2018-7-5', '2018-7-6', '2018-7-9', '2018-8-2', '2018-8-20', '2018-8-3', '2018-8-6', '2018-8-7', '2018-8-8', '2018-9-26', '2018-9-27', '2018-9-28', '2019-1-10', '2019-1-11', '2019-1-17', '2019-1-18', '2019-1-21', '2019-1-22', '2019-1-23', '2019-1-24', '2019-1-25', '2019-1-29', '2019-1-8', '2019-1-9', '2019-2-1', '2019-2-15', '2019-2-18', '2019-2-19', '2019-2-20', '2019-2-21', '2019-2-22', '2019-2-26', '2019-3-12', '2019-3-4', '2019-3-5', '2019-3-6', '2019-3-7', '2019-3-8', '2019-4-12', '2019-4-15', '2019-4-16', '2019-4-23', '2019-4-24', '2019-4-25', '2019-4-26', '2019-4-29', '2019-4-30', '2019-5-13', '2019-5-14', '2019-5-15', '2019-5-16', '2019-5-17', '2019-5-20', '2019-5-21', '2019-5-22', '2019-5-24', '2019-5-27', '2019-5-28', '2019-5-3', '2019-5-6', '2019-5-7', '2019-7-12']\n",
      "3906396\n",
      "3399965\n"
     ]
    }
   ],
   "source": [
    "useful_days = df_hv_resampled['day'].unique().tolist()\n",
    "print(useful_days)\n",
    "def remove_nonsense_days_from_dose(df):\n",
    "    \"\"\"\n",
    "    Remove nonsense days from the dataframe. A nonsense day is one where the HV voltage entry was not above -50 kV.\n",
    "    \"\"\"\n",
    "\n",
    "    day = df['day'].unique()[0]\n",
    "\n",
    "    if day in useful_days:\n",
    "        return df\n",
    "    else:\n",
    "        pass\n",
    "\n",
    "# get the day\n",
    "# df_dose_sample.reset_index(inplace=True)\n",
    "df_dose['day'] = df_dose['time'].apply(lambda x: extract_day(x))\n",
    "df_dose = df_dose.dropna(how='all')\n",
    "print(len(df_dose))\n",
    "a = df_dose.groupby(['day']).apply(lambda x: remove_nonsense_days_from_dose(x))\n",
    "df_dose = a.dropna(how='all')\n",
    "print(len(df_dose))"
   ]
  },
  {
   "cell_type": "code",
   "execution_count": 340,
   "metadata": {},
   "outputs": [
    {
     "data": {
      "text/html": [
       "<div>\n",
       "<style scoped>\n",
       "    .dataframe tbody tr th:only-of-type {\n",
       "        vertical-align: middle;\n",
       "    }\n",
       "\n",
       "    .dataframe tbody tr th {\n",
       "        vertical-align: top;\n",
       "    }\n",
       "\n",
       "    .dataframe thead th {\n",
       "        text-align: right;\n",
       "    }\n",
       "</style>\n",
       "<table border=\"1\" class=\"dataframe\">\n",
       "  <thead>\n",
       "    <tr style=\"text-align: right;\">\n",
       "      <th></th>\n",
       "      <th>id</th>\n",
       "      <th>time</th>\n",
       "      <th>dose</th>\n",
       "      <th>dose_voltage</th>\n",
       "      <th>dose_corrected</th>\n",
       "      <th>day</th>\n",
       "    </tr>\n",
       "  </thead>\n",
       "  <tbody>\n",
       "    <tr>\n",
       "      <th>3878316</th>\n",
       "      <td>28080.0</td>\n",
       "      <td>2017-12-01 08:18:50.773196</td>\n",
       "      <td>16.3636</td>\n",
       "      <td>NaN</td>\n",
       "      <td>NaN</td>\n",
       "      <td>2017-12-1</td>\n",
       "    </tr>\n",
       "    <tr>\n",
       "      <th>3878315</th>\n",
       "      <td>28081.0</td>\n",
       "      <td>2017-12-01 08:18:50.773196</td>\n",
       "      <td>16.3636</td>\n",
       "      <td>NaN</td>\n",
       "      <td>NaN</td>\n",
       "      <td>2017-12-1</td>\n",
       "    </tr>\n",
       "    <tr>\n",
       "      <th>3878314</th>\n",
       "      <td>28082.0</td>\n",
       "      <td>2017-12-01 08:18:50.773196</td>\n",
       "      <td>12.7273</td>\n",
       "      <td>NaN</td>\n",
       "      <td>NaN</td>\n",
       "      <td>2017-12-1</td>\n",
       "    </tr>\n",
       "    <tr>\n",
       "      <th>3878313</th>\n",
       "      <td>28083.0</td>\n",
       "      <td>2017-12-01 08:18:50.773196</td>\n",
       "      <td>12.7273</td>\n",
       "      <td>NaN</td>\n",
       "      <td>NaN</td>\n",
       "      <td>2017-12-1</td>\n",
       "    </tr>\n",
       "    <tr>\n",
       "      <th>3878312</th>\n",
       "      <td>28084.0</td>\n",
       "      <td>2017-12-01 08:18:50.773196</td>\n",
       "      <td>12.7273</td>\n",
       "      <td>NaN</td>\n",
       "      <td>NaN</td>\n",
       "      <td>2017-12-1</td>\n",
       "    </tr>\n",
       "  </tbody>\n",
       "</table>\n",
       "</div>"
      ],
      "text/plain": [
       "              id                       time     dose  dose_voltage  \\\n",
       "3878316  28080.0 2017-12-01 08:18:50.773196  16.3636           NaN   \n",
       "3878315  28081.0 2017-12-01 08:18:50.773196  16.3636           NaN   \n",
       "3878314  28082.0 2017-12-01 08:18:50.773196  12.7273           NaN   \n",
       "3878313  28083.0 2017-12-01 08:18:50.773196  12.7273           NaN   \n",
       "3878312  28084.0 2017-12-01 08:18:50.773196  12.7273           NaN   \n",
       "\n",
       "         dose_corrected        day  \n",
       "3878316             NaN  2017-12-1  \n",
       "3878315             NaN  2017-12-1  \n",
       "3878314             NaN  2017-12-1  \n",
       "3878313             NaN  2017-12-1  \n",
       "3878312             NaN  2017-12-1  "
      ]
     },
     "execution_count": 340,
     "metadata": {},
     "output_type": "execute_result"
    }
   ],
   "source": [
    "df_dose.head()"
   ]
  },
  {
   "cell_type": "code",
   "execution_count": 339,
   "metadata": {},
   "outputs": [],
   "source": [
    "df_dose.to_csv('/Users/hkromer/02_PhD/tmp/df_dose_nonsense_days_removed.csv')"
   ]
  },
  {
   "cell_type": "markdown",
   "metadata": {},
   "source": [
    "### Resample the remaining dose the same way as the HV"
   ]
  },
  {
   "cell_type": "code",
   "execution_count": 342,
   "metadata": {},
   "outputs": [],
   "source": [
    "df_dose.set_index('time', inplace=True)\n",
    "a = df_dose.groupby(['day'], as_index=False).apply(lambda x: resample_10_seconds(x, ['dose', 'dose_voltage', 'dose_corrected'])).reset_index()\n",
    "\n",
    "a.rename(columns={'key_0': 'time'}, inplace=True)\n",
    "a.drop(columns=['level_0', 'level_1'], inplace=True)\n",
    "a['day'] = a['time'].apply(lambda x: extract_day(x))\n",
    "a.set_index('time', inplace=True)\n",
    "df_dose_resampled = a.fillna(0)\n",
    "df_dose_resampled.to_csv('/Users/hkromer/02_PhD/tmp/df_dose_nonsense_days_removed_resampled.csv')"
   ]
  },
  {
   "cell_type": "markdown",
   "metadata": {},
   "source": [
    "## Combine dose and hv"
   ]
  },
  {
   "cell_type": "code",
   "execution_count": 382,
   "metadata": {},
   "outputs": [
    {
     "data": {
      "text/html": [
       "<div>\n",
       "<style scoped>\n",
       "    .dataframe tbody tr th:only-of-type {\n",
       "        vertical-align: middle;\n",
       "    }\n",
       "\n",
       "    .dataframe tbody tr th {\n",
       "        vertical-align: top;\n",
       "    }\n",
       "\n",
       "    .dataframe thead th {\n",
       "        text-align: right;\n",
       "    }\n",
       "</style>\n",
       "<table border=\"1\" class=\"dataframe\">\n",
       "  <thead>\n",
       "    <tr style=\"text-align: right;\">\n",
       "      <th></th>\n",
       "      <th>HV_voltage</th>\n",
       "      <th>HV_current</th>\n",
       "      <th>day</th>\n",
       "      <th>dose</th>\n",
       "      <th>dose_voltage</th>\n",
       "      <th>dose_corrected</th>\n",
       "    </tr>\n",
       "    <tr>\n",
       "      <th>time</th>\n",
       "      <th></th>\n",
       "      <th></th>\n",
       "      <th></th>\n",
       "      <th></th>\n",
       "      <th></th>\n",
       "      <th></th>\n",
       "    </tr>\n",
       "  </thead>\n",
       "  <tbody>\n",
       "    <tr>\n",
       "      <th>2017-12-01 00:00:00</th>\n",
       "      <td>0.0</td>\n",
       "      <td>0.0</td>\n",
       "      <td>2017-12-1</td>\n",
       "      <td>0.0</td>\n",
       "      <td>0.0</td>\n",
       "      <td>0.0</td>\n",
       "    </tr>\n",
       "    <tr>\n",
       "      <th>2017-12-01 00:00:10</th>\n",
       "      <td>0.0</td>\n",
       "      <td>0.0</td>\n",
       "      <td>2017-12-1</td>\n",
       "      <td>0.0</td>\n",
       "      <td>0.0</td>\n",
       "      <td>0.0</td>\n",
       "    </tr>\n",
       "    <tr>\n",
       "      <th>2017-12-01 00:00:20</th>\n",
       "      <td>0.0</td>\n",
       "      <td>0.0</td>\n",
       "      <td>2017-12-1</td>\n",
       "      <td>0.0</td>\n",
       "      <td>0.0</td>\n",
       "      <td>0.0</td>\n",
       "    </tr>\n",
       "    <tr>\n",
       "      <th>2017-12-01 00:00:30</th>\n",
       "      <td>0.0</td>\n",
       "      <td>0.0</td>\n",
       "      <td>2017-12-1</td>\n",
       "      <td>0.0</td>\n",
       "      <td>0.0</td>\n",
       "      <td>0.0</td>\n",
       "    </tr>\n",
       "    <tr>\n",
       "      <th>2017-12-01 00:00:40</th>\n",
       "      <td>0.0</td>\n",
       "      <td>0.0</td>\n",
       "      <td>2017-12-1</td>\n",
       "      <td>0.0</td>\n",
       "      <td>0.0</td>\n",
       "      <td>0.0</td>\n",
       "    </tr>\n",
       "  </tbody>\n",
       "</table>\n",
       "</div>"
      ],
      "text/plain": [
       "                     HV_voltage  HV_current        day  dose  dose_voltage  \\\n",
       "time                                                                         \n",
       "2017-12-01 00:00:00         0.0         0.0  2017-12-1   0.0           0.0   \n",
       "2017-12-01 00:00:10         0.0         0.0  2017-12-1   0.0           0.0   \n",
       "2017-12-01 00:00:20         0.0         0.0  2017-12-1   0.0           0.0   \n",
       "2017-12-01 00:00:30         0.0         0.0  2017-12-1   0.0           0.0   \n",
       "2017-12-01 00:00:40         0.0         0.0  2017-12-1   0.0           0.0   \n",
       "\n",
       "                     dose_corrected  \n",
       "time                                 \n",
       "2017-12-01 00:00:00             0.0  \n",
       "2017-12-01 00:00:10             0.0  \n",
       "2017-12-01 00:00:20             0.0  \n",
       "2017-12-01 00:00:30             0.0  \n",
       "2017-12-01 00:00:40             0.0  "
      ]
     },
     "execution_count": 382,
     "metadata": {},
     "output_type": "execute_result"
    }
   ],
   "source": [
    "assert len(df_hv_resampled.day.unique()) == len(df_dose_resampled.day.unique())\n",
    "df_out = df_hv_resampled.merge(df_dose_resampled, left_on=df_hv_resampled.index, right_on=df_dose_resampled.index, how='outer')\n",
    "df_out = df_out.drop(columns = 'day_y')\n",
    "df_out = df_out.rename(columns={'key_0': 'time', 'day_x': 'day'})\n",
    "df_out.set_index('time', inplace=True)\n",
    "df_out.to_csv('/Users/hkromer/02_PhD/tmp/df_COMBINED_nonsense_days_removed_resampled.csv')\n",
    "df_out.head()"
   ]
  },
  {
   "cell_type": "markdown",
   "metadata": {},
   "source": [
    "## Put all out in separate csv\n"
   ]
  },
  {
   "cell_type": "code",
   "execution_count": 386,
   "metadata": {},
   "outputs": [
    {
     "name": "stdout",
     "output_type": "stream",
     "text": [
      "Saving day 2017-12-1...\n",
      "Saving day 2017-12-1...\n",
      "Saving day 2017-12-20...\n",
      "Saving day 2017-12-21...\n",
      "Saving day 2017-12-5...\n",
      "Saving day 2017-12-7...\n",
      "Saving day 2018-10-1...\n",
      "Saving day 2018-10-10...\n",
      "Saving day 2018-10-11...\n",
      "Saving day 2018-10-12...\n",
      "Saving day 2018-10-17...\n",
      "Saving day 2018-10-18...\n",
      "Saving day 2018-10-19...\n",
      "Saving day 2018-10-2...\n",
      "Saving day 2018-10-20...\n",
      "Saving day 2018-10-22...\n",
      "Saving day 2018-10-23...\n",
      "Saving day 2018-10-24...\n",
      "Saving day 2018-10-25...\n",
      "Saving day 2018-10-29...\n",
      "Saving day 2018-10-3...\n",
      "Saving day 2018-10-30...\n",
      "Saving day 2018-10-31...\n",
      "Saving day 2018-10-4...\n",
      "Saving day 2018-10-5...\n",
      "Saving day 2018-10-8...\n",
      "Saving day 2018-10-9...\n",
      "Saving day 2018-11-12...\n",
      "Saving day 2018-11-13...\n",
      "Saving day 2018-11-14...\n",
      "Saving day 2018-11-15...\n",
      "Saving day 2018-11-16...\n",
      "Saving day 2018-11-19...\n",
      "Saving day 2018-11-2...\n",
      "Saving day 2018-11-20...\n",
      "Saving day 2018-11-21...\n",
      "Saving day 2018-11-22...\n",
      "Saving day 2018-11-23...\n",
      "Saving day 2018-11-26...\n",
      "Saving day 2018-11-27...\n",
      "Saving day 2018-11-28...\n",
      "Saving day 2018-11-29...\n",
      "Saving day 2018-11-30...\n",
      "Saving day 2018-11-6...\n",
      "Saving day 2018-11-7...\n",
      "Saving day 2018-11-8...\n",
      "Saving day 2018-11-9...\n",
      "Saving day 2018-12-1...\n",
      "Saving day 2018-12-10...\n",
      "Saving day 2018-12-11...\n",
      "Saving day 2018-12-12...\n",
      "Saving day 2018-12-13...\n",
      "Saving day 2018-12-14...\n",
      "Saving day 2018-12-15...\n",
      "Saving day 2018-12-16...\n",
      "Saving day 2018-12-17...\n",
      "Saving day 2018-12-18...\n",
      "Saving day 2018-12-19...\n",
      "Saving day 2018-12-2...\n",
      "Saving day 2018-12-20...\n",
      "Saving day 2018-12-21...\n",
      "Saving day 2018-6-26...\n",
      "Saving day 2018-6-28...\n",
      "Saving day 2018-6-29...\n",
      "Saving day 2018-7-10...\n",
      "Saving day 2018-7-11...\n",
      "Saving day 2018-7-12...\n",
      "Saving day 2018-7-13...\n",
      "Saving day 2018-7-17...\n",
      "Saving day 2018-7-18...\n",
      "Saving day 2018-7-19...\n",
      "Saving day 2018-7-2...\n",
      "Saving day 2018-7-25...\n",
      "Saving day 2018-7-26...\n",
      "Saving day 2018-7-27...\n",
      "Saving day 2018-7-3...\n",
      "Saving day 2018-7-30...\n",
      "Saving day 2018-7-4...\n",
      "Saving day 2018-7-5...\n",
      "Saving day 2018-7-6...\n",
      "Saving day 2018-7-9...\n",
      "Saving day 2018-8-2...\n",
      "Saving day 2018-8-20...\n",
      "Saving day 2018-8-3...\n",
      "Saving day 2018-8-6...\n",
      "Saving day 2018-8-7...\n",
      "Saving day 2018-8-8...\n",
      "Saving day 2018-9-26...\n",
      "Saving day 2018-9-27...\n",
      "Saving day 2018-9-28...\n",
      "Saving day 2019-1-10...\n",
      "Saving day 2019-1-11...\n",
      "Saving day 2019-1-17...\n",
      "Saving day 2019-1-18...\n",
      "Saving day 2019-1-21...\n",
      "Saving day 2019-1-22...\n",
      "Saving day 2019-1-23...\n",
      "Saving day 2019-1-24...\n",
      "Saving day 2019-1-25...\n",
      "Saving day 2019-1-29...\n",
      "Saving day 2019-1-8...\n",
      "Saving day 2019-1-9...\n",
      "Saving day 2019-2-1...\n",
      "Saving day 2019-2-15...\n",
      "Saving day 2019-2-18...\n",
      "Saving day 2019-2-19...\n",
      "Saving day 2019-2-20...\n",
      "Saving day 2019-2-21...\n",
      "Saving day 2019-2-22...\n",
      "Saving day 2019-2-26...\n",
      "Saving day 2019-3-12...\n",
      "Saving day 2019-3-4...\n",
      "Saving day 2019-3-5...\n",
      "Saving day 2019-3-6...\n",
      "Saving day 2019-3-7...\n",
      "Saving day 2019-3-8...\n",
      "Saving day 2019-4-12...\n",
      "Saving day 2019-4-15...\n",
      "Saving day 2019-4-16...\n",
      "Saving day 2019-4-23...\n",
      "Saving day 2019-4-24...\n",
      "Saving day 2019-4-25...\n",
      "Saving day 2019-4-26...\n",
      "Saving day 2019-4-29...\n",
      "Saving day 2019-4-30...\n",
      "Saving day 2019-5-13...\n",
      "Saving day 2019-5-14...\n",
      "Saving day 2019-5-15...\n",
      "Saving day 2019-5-16...\n",
      "Saving day 2019-5-17...\n",
      "Saving day 2019-5-20...\n",
      "Saving day 2019-5-21...\n",
      "Saving day 2019-5-22...\n",
      "Saving day 2019-5-24...\n",
      "Saving day 2019-5-27...\n",
      "Saving day 2019-5-28...\n",
      "Saving day 2019-5-3...\n",
      "Saving day 2019-5-6...\n",
      "Saving day 2019-5-7...\n",
      "Saving day 2019-7-12...\n"
     ]
    },
    {
     "data": {
      "text/html": [
       "<div>\n",
       "<style scoped>\n",
       "    .dataframe tbody tr th:only-of-type {\n",
       "        vertical-align: middle;\n",
       "    }\n",
       "\n",
       "    .dataframe tbody tr th {\n",
       "        vertical-align: top;\n",
       "    }\n",
       "\n",
       "    .dataframe thead th {\n",
       "        text-align: right;\n",
       "    }\n",
       "</style>\n",
       "<table border=\"1\" class=\"dataframe\">\n",
       "  <thead>\n",
       "    <tr style=\"text-align: right;\">\n",
       "      <th></th>\n",
       "      <th>index</th>\n",
       "    </tr>\n",
       "  </thead>\n",
       "  <tbody>\n",
       "  </tbody>\n",
       "</table>\n",
       "</div>"
      ],
      "text/plain": [
       "Empty DataFrame\n",
       "Columns: [index]\n",
       "Index: []"
      ]
     },
     "execution_count": 386,
     "metadata": {},
     "output_type": "execute_result"
    }
   ],
   "source": [
    "outfolder = '/Users/hkromer/02_PhD/tmp/data_robert/'\n",
    "def output_daily_data(df, outfolder):\n",
    "    day = df['day'].unique()[0]\n",
    "    print(f'Saving day {day}...')\n",
    "    df.to_csv(f'{outfolder}/{day}.csv')\n",
    "    \n",
    "df_out.groupby(['day'], as_index=False).apply(lambda x: output_daily_data(x, outfolder)).reset_index()"
   ]
  },
  {
   "cell_type": "markdown",
   "metadata": {},
   "source": [
    "# Include the output\n",
    "\n",
    "- compute from the dose\n"
   ]
  },
  {
   "cell_type": "code",
   "execution_count": 1,
   "metadata": {},
   "outputs": [],
   "source": [
    "# 02_PhD/01.github/phd/05_MCNP/02.output_determination/MCNP_neutron_output/fun_getNeutronOutputPer100muSv.py\n",
    "import pandas as pd\n",
    "import numpy as np\n",
    "import os, glob\n",
    "from shutil import copyfile\n",
    "import re\n",
    "import sys\n",
    "\n",
    "\n",
    "# # copy the MCNP files\n",
    "# lst_ID = np.arange(126,135,1)\n",
    "# path = '//fs03//LTH_Neutimag//hkromer//10_Experiments//02_MCNP//'\n",
    "\n",
    "# for ID in lst_ID:\n",
    "# \tthis_path = '{}CurrentTarget{}/CurrentTarget{}_normal/'.format(path, ID, ID)\n",
    "# \tfor fname in glob.glob('{}df_neutron_output_for_Edeut_*.csv'.format(this_path)):\n",
    "# \t\tnewfname = fname.replace('df_', 'df_ID{}_'.format(ID))\n",
    "# \t\t_ = re.findall(r'(df.+)', newfname)\n",
    "# \t\tif len(_)>0:\n",
    "# \t\t\tnewfname = _[0]\n",
    "# \t\tnewfname = '//fs03/LTH_Neutimag/hkromer/02_Simulations/01_Python/MCNP_neutron_output/MCNP_results_oldTarget/{}'.format(newfname)\n",
    "# \t\tcopyfile(fname, newfname)\n",
    "\n",
    "def getNeutronOutputPer100muSv(HV=100, LB6411_distance=70, newTarget=1):\n",
    "\t\"\"\"\n",
    "\tRetrieves the neutron output per 100µSv/h as determined from MCNP. Only works for the new target. Returns that value\n",
    "\tHV: High voltage. This determines which MCNP run is taken to load the data. Default is -100 kV\n",
    "\tLB6411_distance: Distance between the source and LB6411 position. Default is 70 cm\n",
    "\tnewTarget: if 1, then the files for the new target are used, 0 the files for the old target are used\n",
    "\treturns neutron output per 100 µSv/hr as read by the LB6411\n",
    "\t\"\"\"\n",
    "\tmaster_path = '/Users/hkromer/02_PhD/01.github/phd/05_MCNP/02.output_determination/MCNP_neutron_output/'\n",
    "\tif newTarget == 1:\n",
    "\t\tpath_to_MCNP_OutputPer100muSv = '{}MCNP_results_newTarget/'.format(master_path)\n",
    "\telse:\n",
    "\t\tpath_to_MCNP_OutputPer100muSv = '{}MCNP_results_oldTarget/'.format(master_path)\n",
    "\n",
    "\n",
    "\t# get which HVs have been simulated in MCNP\n",
    "\tlst_HV = []\n",
    "\tfor fname in glob.glob('{}*.csv'.format(path_to_MCNP_OutputPer100muSv)):\n",
    "\t\t_ = re.findall(r'(\\d+)\\.csv', fname)\n",
    "\t\tlst_HV.append(int(_[0]))\n",
    "\n",
    "\n",
    "\t# list of the ID's for the respective MCNP simulation\n",
    "\tlst_ID = []\n",
    "\tfor fname in glob.glob('{}*.csv'.format(path_to_MCNP_OutputPer100muSv)):\n",
    "\t\t_ = re.findall(r'ID(\\d+)_', fname)\n",
    "\t\tlst_ID.append(int(_[0]))\n",
    "\t# print(lst_ID)\n",
    "\t# find index of the HV in the lst_HV\n",
    "\ttry:\n",
    "\t\tidx = lst_HV.index(HV)\n",
    "\texcept ValueError:\n",
    "\t\tidx = -1\n",
    "\n",
    "\tif idx == -1:\n",
    "\t\tprint('--- Available high voltage settings: {}'.format(lst_HV))\n",
    "\t\tprint('--- High voltage value of ' + str(HV) + ' is not in an MCNP run. sys.exit(). --- ')\n",
    "\t\tsys.exit()\n",
    "\telse:\n",
    "\t\tcsv_name = '{}df_ID{}_neutron_output_for_Edeut_{}.csv'.format(path_to_MCNP_OutputPer100muSv, lst_ID[idx], lst_HV[idx])\n",
    "\t\tdf = pd.read_csv(csv_name, header=0)\n",
    "\n",
    "\t\tdistance = LB6411_distance\n",
    "\n",
    "\t\tneutronOutputPer100muSv = df.W[ df.distance == distance ].values\n",
    "\t\t# print(path_to_MCNP_OutputPer100muSv)\n",
    "\n",
    "\t\treturn neutronOutputPer100muSv\n",
    "\n",
    "# print(getNeutronOutputPer100muSv(HV=85, LB6411_distance=50, newTarget=0))"
   ]
  },
  {
   "cell_type": "markdown",
   "metadata": {},
   "source": [
    "## Get a relation between muSv/hr and total neutron output for 50, 55, and 70 cm as position of the LB6411\n",
    "\n",
    "- returns a df with rows as different distances, cols are the HV values and the values are the outputs in n/s per 100 muSv/hr"
   ]
  },
  {
   "cell_type": "code",
   "execution_count": 11,
   "metadata": {},
   "outputs": [
    {
     "data": {
      "text/html": [
       "<div>\n",
       "<style scoped>\n",
       "    .dataframe tbody tr th:only-of-type {\n",
       "        vertical-align: middle;\n",
       "    }\n",
       "\n",
       "    .dataframe tbody tr th {\n",
       "        vertical-align: top;\n",
       "    }\n",
       "\n",
       "    .dataframe thead th {\n",
       "        text-align: right;\n",
       "    }\n",
       "</style>\n",
       "<table border=\"1\" class=\"dataframe\">\n",
       "  <thead>\n",
       "    <tr style=\"text-align: right;\">\n",
       "      <th></th>\n",
       "      <th>105</th>\n",
       "      <th>80</th>\n",
       "      <th>95</th>\n",
       "      <th>110</th>\n",
       "      <th>100</th>\n",
       "      <th>90</th>\n",
       "      <th>85</th>\n",
       "    </tr>\n",
       "  </thead>\n",
       "  <tbody>\n",
       "    <tr>\n",
       "      <th>50</th>\n",
       "      <td>1.503027e+06</td>\n",
       "      <td>1.483221e+06</td>\n",
       "      <td>1.492692e+06</td>\n",
       "      <td>1.509825e+06</td>\n",
       "      <td>1.494960e+06</td>\n",
       "      <td>1.489923e+06</td>\n",
       "      <td>1.486985e+06</td>\n",
       "    </tr>\n",
       "    <tr>\n",
       "      <th>55</th>\n",
       "      <td>1.721242e+06</td>\n",
       "      <td>1.698678e+06</td>\n",
       "      <td>1.709469e+06</td>\n",
       "      <td>1.729081e+06</td>\n",
       "      <td>1.712045e+06</td>\n",
       "      <td>1.706365e+06</td>\n",
       "      <td>1.702974e+06</td>\n",
       "    </tr>\n",
       "    <tr>\n",
       "      <th>70</th>\n",
       "      <td>3.049418e+06</td>\n",
       "      <td>3.010704e+06</td>\n",
       "      <td>3.029237e+06</td>\n",
       "      <td>3.063890e+06</td>\n",
       "      <td>3.033565e+06</td>\n",
       "      <td>3.024469e+06</td>\n",
       "      <td>3.018164e+06</td>\n",
       "    </tr>\n",
       "  </tbody>\n",
       "</table>\n",
       "</div>"
      ],
      "text/plain": [
       "             105           80            95            110           100  \\\n",
       "50  1.503027e+06  1.483221e+06  1.492692e+06  1.509825e+06  1.494960e+06   \n",
       "55  1.721242e+06  1.698678e+06  1.709469e+06  1.729081e+06  1.712045e+06   \n",
       "70  3.049418e+06  3.010704e+06  3.029237e+06  3.063890e+06  3.033565e+06   \n",
       "\n",
       "             90            85   \n",
       "50  1.489923e+06  1.486985e+06  \n",
       "55  1.706365e+06  1.702974e+06  \n",
       "70  3.024469e+06  3.018164e+06  "
      ]
     },
     "execution_count": 11,
     "metadata": {},
     "output_type": "execute_result"
    }
   ],
   "source": [
    "HVs = [105, 80, 95, 110, 100, 90, 85]\n",
    "d = {}\n",
    "for HV in HVs:\n",
    "    d[HV] = getNeutronOutputPer100muSv(HV=HV, LB6411_distance=50, newTarget=1)[0]\n",
    "s_50 = pd.Series(d)\n",
    "\n",
    "d = {}\n",
    "for HV in HVs:\n",
    "    d[HV] = getNeutronOutputPer100muSv(HV=HV, LB6411_distance=55, newTarget=1)[0]\n",
    "s_55 = pd.Series(d)\n",
    "\n",
    "d = {}\n",
    "for HV in HVs:\n",
    "    d[HV] = getNeutronOutputPer100muSv(HV=HV, LB6411_distance=70, newTarget=1)[0]\n",
    "s_70 = pd.Series(d)\n",
    "df_relation = pd.DataFrame([s_50, s_55, s_70], index = ['50', '55', '70'])\n",
    "\n",
    "df_relation.to_csv('/Users/hkromer/02_PhD/tmp/relation_dose_output.csv')\n",
    "df_relation"
   ]
  },
  {
   "cell_type": "code",
   "execution_count": 18,
   "metadata": {},
   "outputs": [
    {
     "data": {
      "text/plain": [
       "array([1483221.41318121, 1486985.03475818, 1489922.54654678,\n",
       "       1492692.1842968 , 1494960.03243637, 1503027.01333572,\n",
       "       1509824.81315359])"
      ]
     },
     "execution_count": 18,
     "metadata": {},
     "output_type": "execute_result"
    }
   ],
   "source": [
    "df_relation.loc['50'].sort_values().values"
   ]
  },
  {
   "cell_type": "markdown",
   "metadata": {},
   "source": [
    "## Add to the dataframe the neutron output\n"
   ]
  },
  {
   "cell_type": "code",
   "execution_count": 3,
   "metadata": {},
   "outputs": [],
   "source": [
    "import pandas as pd\n",
    "import numpy as np\n",
    "from scipy.interpolate import interp1d\n",
    "\n",
    "# read the combined dataframe\n",
    "df = pd.read_csv('/Users/hkromer/02_PhD/tmp/df_COMBINED_nonsense_days_removed_resampled.csv')\n",
    "df['time'] = pd.to_datetime(df['time'])\n",
    "df.set_index('time', inplace=True)"
   ]
  },
  {
   "cell_type": "code",
   "execution_count": 27,
   "metadata": {},
   "outputs": [],
   "source": [
    "# dictionary with the position of the LB6411. Only 2017-12-1 the sphere was at 50 cm \n",
    "positions = {'2017-12-1': 50}\n",
    "interp_50 = interp1d(df_relation.loc['50'].sort_values().index, df_relation.loc['50'].sort_values().values, kind='cubic', fill_value=\"extrapolate\")\n",
    "interp_70 = interp1d(df_relation.loc['70'].sort_values().index, df_relation.loc['70'].sort_values().values, kind='cubic', fill_value=\"extrapolate\")\n",
    "\n",
    "\n",
    "interpolation_output = {'50': interp_50, '70': interp_70}\n",
    "\n",
    "def compute_neutron_output(row):\n",
    "    HV = row['HV_voltage']\n",
    "    day = row['day']\n",
    "    distance = int(row['LB6411_distance'])\n",
    "    dose = row['dose_corrected']\n",
    "    \n",
    "    # get the correct interpolation for HV at that distance of LB6411 sphere\n",
    "    interp = interpolation_output[str(distance)]\n",
    "    \n",
    "    # conversion factor neutronOutputPer100muSv\n",
    "    factor = (1/100) * interp(HV) \n",
    "\n",
    "    return factor * dose\n",
    "    \n",
    "df['LB6411_distance'] = df['day'].map(positions).fillna(70)\n",
    "df['neutron_output'] = df.apply(lambda x: compute_neutron_output(x), axis=1)"
   ]
  },
  {
   "cell_type": "code",
   "execution_count": 32,
   "metadata": {},
   "outputs": [
    {
     "data": {
      "text/plain": [
       "Index(['HV_voltage', 'HV_current', 'day', 'dose', 'dose_voltage',\n",
       "       'dose_corrected', 'LB6411_distance', 'neutron_output'],\n",
       "      dtype='object')"
      ]
     },
     "execution_count": 32,
     "metadata": {},
     "output_type": "execute_result"
    }
   ],
   "source": [
    "df.columns"
   ]
  },
  {
   "cell_type": "markdown",
   "metadata": {},
   "source": [
    "## Save to csv for Robert"
   ]
  },
  {
   "cell_type": "code",
   "execution_count": 33,
   "metadata": {},
   "outputs": [
    {
     "name": "stdout",
     "output_type": "stream",
     "text": [
      "Saving day 2017-12-1...\n",
      "Saving day 2017-12-1...\n",
      "Saving day 2017-12-20...\n",
      "Saving day 2017-12-21...\n",
      "Saving day 2017-12-5...\n",
      "Saving day 2017-12-7...\n",
      "Saving day 2018-10-1...\n",
      "Saving day 2018-10-10...\n",
      "Saving day 2018-10-11...\n",
      "Saving day 2018-10-12...\n",
      "Saving day 2018-10-17...\n",
      "Saving day 2018-10-18...\n",
      "Saving day 2018-10-19...\n",
      "Saving day 2018-10-2...\n",
      "Saving day 2018-10-20...\n",
      "Saving day 2018-10-22...\n",
      "Saving day 2018-10-23...\n",
      "Saving day 2018-10-24...\n",
      "Saving day 2018-10-25...\n",
      "Saving day 2018-10-29...\n",
      "Saving day 2018-10-3...\n",
      "Saving day 2018-10-30...\n",
      "Saving day 2018-10-31...\n",
      "Saving day 2018-10-4...\n",
      "Saving day 2018-10-5...\n",
      "Saving day 2018-10-8...\n",
      "Saving day 2018-10-9...\n",
      "Saving day 2018-11-12...\n",
      "Saving day 2018-11-13...\n",
      "Saving day 2018-11-14...\n",
      "Saving day 2018-11-15...\n",
      "Saving day 2018-11-16...\n",
      "Saving day 2018-11-19...\n",
      "Saving day 2018-11-2...\n",
      "Saving day 2018-11-20...\n",
      "Saving day 2018-11-21...\n",
      "Saving day 2018-11-22...\n",
      "Saving day 2018-11-23...\n",
      "Saving day 2018-11-26...\n",
      "Saving day 2018-11-27...\n",
      "Saving day 2018-11-28...\n",
      "Saving day 2018-11-29...\n",
      "Saving day 2018-11-30...\n",
      "Saving day 2018-11-6...\n",
      "Saving day 2018-11-7...\n",
      "Saving day 2018-11-8...\n",
      "Saving day 2018-11-9...\n",
      "Saving day 2018-12-1...\n",
      "Saving day 2018-12-10...\n",
      "Saving day 2018-12-11...\n",
      "Saving day 2018-12-12...\n",
      "Saving day 2018-12-13...\n",
      "Saving day 2018-12-14...\n",
      "Saving day 2018-12-15...\n",
      "Saving day 2018-12-16...\n",
      "Saving day 2018-12-17...\n",
      "Saving day 2018-12-18...\n",
      "Saving day 2018-12-19...\n",
      "Saving day 2018-12-2...\n",
      "Saving day 2018-12-20...\n",
      "Saving day 2018-12-21...\n",
      "Saving day 2018-6-26...\n",
      "Saving day 2018-6-28...\n",
      "Saving day 2018-6-29...\n",
      "Saving day 2018-7-10...\n",
      "Saving day 2018-7-11...\n",
      "Saving day 2018-7-12...\n",
      "Saving day 2018-7-13...\n",
      "Saving day 2018-7-17...\n",
      "Saving day 2018-7-18...\n",
      "Saving day 2018-7-19...\n",
      "Saving day 2018-7-2...\n",
      "Saving day 2018-7-25...\n",
      "Saving day 2018-7-26...\n",
      "Saving day 2018-7-27...\n",
      "Saving day 2018-7-3...\n",
      "Saving day 2018-7-30...\n",
      "Saving day 2018-7-4...\n",
      "Saving day 2018-7-5...\n",
      "Saving day 2018-7-6...\n",
      "Saving day 2018-7-9...\n",
      "Saving day 2018-8-2...\n",
      "Saving day 2018-8-20...\n",
      "Saving day 2018-8-3...\n",
      "Saving day 2018-8-6...\n",
      "Saving day 2018-8-7...\n",
      "Saving day 2018-8-8...\n",
      "Saving day 2018-9-26...\n",
      "Saving day 2018-9-27...\n",
      "Saving day 2018-9-28...\n",
      "Saving day 2019-1-10...\n",
      "Saving day 2019-1-11...\n",
      "Saving day 2019-1-17...\n",
      "Saving day 2019-1-18...\n",
      "Saving day 2019-1-21...\n",
      "Saving day 2019-1-22...\n",
      "Saving day 2019-1-23...\n",
      "Saving day 2019-1-24...\n",
      "Saving day 2019-1-25...\n",
      "Saving day 2019-1-29...\n",
      "Saving day 2019-1-8...\n",
      "Saving day 2019-1-9...\n",
      "Saving day 2019-2-1...\n",
      "Saving day 2019-2-15...\n",
      "Saving day 2019-2-18...\n",
      "Saving day 2019-2-19...\n",
      "Saving day 2019-2-20...\n",
      "Saving day 2019-2-21...\n",
      "Saving day 2019-2-22...\n",
      "Saving day 2019-2-26...\n",
      "Saving day 2019-3-12...\n",
      "Saving day 2019-3-4...\n",
      "Saving day 2019-3-5...\n",
      "Saving day 2019-3-6...\n",
      "Saving day 2019-3-7...\n",
      "Saving day 2019-3-8...\n",
      "Saving day 2019-4-12...\n",
      "Saving day 2019-4-15...\n",
      "Saving day 2019-4-16...\n",
      "Saving day 2019-4-23...\n",
      "Saving day 2019-4-24...\n",
      "Saving day 2019-4-25...\n",
      "Saving day 2019-4-26...\n",
      "Saving day 2019-4-29...\n",
      "Saving day 2019-4-30...\n",
      "Saving day 2019-5-13...\n",
      "Saving day 2019-5-14...\n",
      "Saving day 2019-5-15...\n",
      "Saving day 2019-5-16...\n",
      "Saving day 2019-5-17...\n",
      "Saving day 2019-5-20...\n",
      "Saving day 2019-5-21...\n",
      "Saving day 2019-5-22...\n",
      "Saving day 2019-5-24...\n",
      "Saving day 2019-5-27...\n",
      "Saving day 2019-5-28...\n",
      "Saving day 2019-5-3...\n",
      "Saving day 2019-5-6...\n",
      "Saving day 2019-5-7...\n",
      "Saving day 2019-7-12...\n"
     ]
    },
    {
     "data": {
      "text/html": [
       "<div>\n",
       "<style scoped>\n",
       "    .dataframe tbody tr th:only-of-type {\n",
       "        vertical-align: middle;\n",
       "    }\n",
       "\n",
       "    .dataframe tbody tr th {\n",
       "        vertical-align: top;\n",
       "    }\n",
       "\n",
       "    .dataframe thead th {\n",
       "        text-align: right;\n",
       "    }\n",
       "</style>\n",
       "<table border=\"1\" class=\"dataframe\">\n",
       "  <thead>\n",
       "    <tr style=\"text-align: right;\">\n",
       "      <th></th>\n",
       "      <th>index</th>\n",
       "    </tr>\n",
       "  </thead>\n",
       "  <tbody>\n",
       "  </tbody>\n",
       "</table>\n",
       "</div>"
      ],
      "text/plain": [
       "Empty DataFrame\n",
       "Columns: [index]\n",
       "Index: []"
      ]
     },
     "execution_count": 33,
     "metadata": {},
     "output_type": "execute_result"
    }
   ],
   "source": [
    "df.to_csv('/Users/hkromer/02_PhD/tmp/df_with_neutron_output.csv')\n",
    "\n",
    "outfolder = '/Users/hkromer/02_PhD/tmp/data_robert/'\n",
    "cols= ['HV_voltage', 'HV_current', 'dose_corrected', 'neutron_output'] # cols to save\n",
    "\n",
    "def output_daily_data(df, outfolder, cols):\n",
    "    day = df['day'].unique()[0]\n",
    "    print(f'Saving day {day}...')\n",
    "    df[cols].to_csv(f'{outfolder}/{day}.csv')\n",
    "    \n",
    "df.groupby(['day'], as_index=False).apply(lambda x: output_daily_data(x, outfolder, cols)).reset_index()"
   ]
  },
  {
   "cell_type": "markdown",
   "metadata": {},
   "source": [
    "## Detect if there was operation\n",
    "\n",
    "- determined by "
   ]
  },
  {
   "cell_type": "code",
   "execution_count": 31,
   "metadata": {},
   "outputs": [
    {
     "data": {
      "text/plain": [
       "<function matplotlib.pyplot.show(*args, **kw)>"
      ]
     },
     "execution_count": 31,
     "metadata": {},
     "output_type": "execute_result"
    },
    {
     "data": {
      "image/png": "[encoded data removed]",
      "text/plain": [
       "<Figure size 1080x360 with 1 Axes>"
      ]
     },
     "metadata": {
      "needs_background": "light"
     },
     "output_type": "display_data"
    }
   ],
   "source": [
    "my_date = '2019-5-7'\n",
    "my_range1 = f'{my_date} 08:00:00'\n",
    "my_range2 = f'{my_date} 18:00:00'\n",
    "t = df[ (df['day'] == my_date) ].loc[my_range1:my_range2]\n",
    "\n",
    "plt.figure(figsize=(15,5))\n",
    "plt.plot(t['neutron_output'], color='blue', label='raw')\n",
    "\n",
    "\n",
    "# ax = plt.gca()\n",
    "# ticks = ax.get_xticks()\n",
    "# plt.plot(resampled_data['HHMM'], resampled_data['HV_current'], color='red', label='resampled 10s', linewidth=1)\n",
    "\n",
    "# ax.set_xticks(ticks[::60])\n",
    "# plt.ylim(0, 3000)\n",
    "plt.ylabel('neutron_output')\n",
    "plt.xlabel('time')\n",
    "\n",
    "\n",
    "plt.legend(loc='best')\n",
    "plt.show"
   ]
  },
  {
   "cell_type": "markdown",
   "metadata": {},
   "source": [
    "### Resampling comparison some plots"
   ]
  },
  {
   "cell_type": "code",
   "execution_count": 266,
   "metadata": {},
   "outputs": [],
   "source": [
    "# testplot = a.set_index('time')\n",
    "raw_data = df_hv_sample.loc['2017-11-29',['HV_voltage', 'HV_current']].reset_index()\n",
    "resampled_data = testplot.loc['2017-11-29',['HV_voltage', 'HV_current']].reset_index()"
   ]
  },
  {
   "cell_type": "code",
   "execution_count": 201,
   "metadata": {},
   "outputs": [],
   "source": [
    "from datetime import datetime\n",
    "def compute_HHMM(row):\n",
    "#     print(row)\n",
    "    return datetime.strftime(row, \"%H:%M\")\n",
    "\n",
    "resampled_data['HHMM'] = resampled_data['time'].apply(lambda x: compute_HHMM(x))\n",
    "raw_data['HHMM'] = raw_data['time'].apply(lambda x: compute_HHMM(x))"
   ]
  },
  {
   "cell_type": "code",
   "execution_count": 210,
   "metadata": {},
   "outputs": [
    {
     "data": {
      "text/plain": [
       "<function matplotlib.pyplot.show(*args, **kw)>"
      ]
     },
     "execution_count": 210,
     "metadata": {},
     "output_type": "execute_result"
    },
    {
     "data": {
      "image/png": "[encoded data removed]",
      "text/plain": [
       "<Figure size 1080x360 with 1 Axes>"
      ]
     },
     "metadata": {
      "needs_background": "light"
     },
     "output_type": "display_data"
    }
   ],
   "source": [
    "plt.figure(figsize=(15,5))\n",
    "\n",
    "\n",
    "plt.plot(raw_data['HHMM'], raw_data['HV_voltage'], color='blue', label='raw')\n",
    "\n",
    "ax = plt.gca()\n",
    "ticks = ax.get_xticks()\n",
    "plt.plot(resampled_data['HHMM'], resampled_data['HV_voltage'], color='red', label='resampled 10s')\n",
    "\n",
    "ax.set_xticks(ticks[::60])\n",
    "plt.ylabel('HV_voltage')\n",
    "plt.xlabel('time')\n",
    "\n",
    "\n",
    "plt.legend(loc='best')\n",
    "plt.show"
   ]
  },
  {
   "cell_type": "code",
   "execution_count": 213,
   "metadata": {},
   "outputs": [
    {
     "data": {
      "text/plain": [
       "<function matplotlib.pyplot.show(*args, **kw)>"
      ]
     },
     "execution_count": 213,
     "metadata": {},
     "output_type": "execute_result"
    },
    {
     "data": {
      "image/png": "[encoded data removed]",
      "text/plain": [
       "<Figure size 1080x360 with 1 Axes>"
      ]
     },
     "metadata": {
      "needs_background": "light"
     },
     "output_type": "display_data"
    }
   ],
   "source": [
    "plt.figure(figsize=(15,5))\n",
    "plt.plot(raw_data['HHMM'], raw_data['HV_current'], color='blue', label='raw')\n",
    "\n",
    "ax = plt.gca()\n",
    "ticks = ax.get_xticks()\n",
    "plt.plot(resampled_data['HHMM'], resampled_data['HV_current'], color='red', label='resampled 10s', linewidth=1)\n",
    "\n",
    "ax.set_xticks(ticks[::60])\n",
    "plt.ylabel('HV_current')\n",
    "plt.xlabel('time')\n",
    "\n",
    "\n",
    "plt.legend(loc='best')\n",
    "plt.show"
   ]
  },
  {
   "cell_type": "code",
   "execution_count": 356,
   "metadata": {},
   "outputs": [
    {
     "data": {
      "text/html": [
       "<div>\n",
       "<style scoped>\n",
       "    .dataframe tbody tr th:only-of-type {\n",
       "        vertical-align: middle;\n",
       "    }\n",
       "\n",
       "    .dataframe tbody tr th {\n",
       "        vertical-align: top;\n",
       "    }\n",
       "\n",
       "    .dataframe thead th {\n",
       "        text-align: right;\n",
       "    }\n",
       "</style>\n",
       "<table border=\"1\" class=\"dataframe\">\n",
       "  <thead>\n",
       "    <tr style=\"text-align: right;\">\n",
       "      <th></th>\n",
       "      <th>dose</th>\n",
       "      <th>dose_voltage</th>\n",
       "      <th>dose_corrected</th>\n",
       "      <th>day</th>\n",
       "    </tr>\n",
       "    <tr>\n",
       "      <th>time</th>\n",
       "      <th></th>\n",
       "      <th></th>\n",
       "      <th></th>\n",
       "      <th></th>\n",
       "    </tr>\n",
       "  </thead>\n",
       "  <tbody>\n",
       "    <tr>\n",
       "      <th>2019-05-28 00:00:00</th>\n",
       "      <td>0.0</td>\n",
       "      <td>0.0</td>\n",
       "      <td>0.0</td>\n",
       "      <td>2019-5-28</td>\n",
       "    </tr>\n",
       "    <tr>\n",
       "      <th>2019-05-28 00:00:10</th>\n",
       "      <td>0.0</td>\n",
       "      <td>0.0</td>\n",
       "      <td>0.0</td>\n",
       "      <td>2019-5-28</td>\n",
       "    </tr>\n",
       "    <tr>\n",
       "      <th>2019-05-28 00:00:20</th>\n",
       "      <td>0.0</td>\n",
       "      <td>0.0</td>\n",
       "      <td>0.0</td>\n",
       "      <td>2019-5-28</td>\n",
       "    </tr>\n",
       "    <tr>\n",
       "      <th>2019-05-28 00:00:30</th>\n",
       "      <td>0.0</td>\n",
       "      <td>0.0</td>\n",
       "      <td>0.0</td>\n",
       "      <td>2019-5-28</td>\n",
       "    </tr>\n",
       "    <tr>\n",
       "      <th>2019-05-28 00:00:40</th>\n",
       "      <td>0.0</td>\n",
       "      <td>0.0</td>\n",
       "      <td>0.0</td>\n",
       "      <td>2019-5-28</td>\n",
       "    </tr>\n",
       "  </tbody>\n",
       "</table>\n",
       "</div>"
      ],
      "text/plain": [
       "                     dose  dose_voltage  dose_corrected        day\n",
       "time                                                              \n",
       "2019-05-28 00:00:00   0.0           0.0             0.0  2019-5-28\n",
       "2019-05-28 00:00:10   0.0           0.0             0.0  2019-5-28\n",
       "2019-05-28 00:00:20   0.0           0.0             0.0  2019-5-28\n",
       "2019-05-28 00:00:30   0.0           0.0             0.0  2019-5-28\n",
       "2019-05-28 00:00:40   0.0           0.0             0.0  2019-5-28"
      ]
     },
     "execution_count": 356,
     "metadata": {},
     "output_type": "execute_result"
    }
   ],
   "source": [
    "t.head()"
   ]
  },
  {
   "cell_type": "code",
   "execution_count": 365,
   "metadata": {},
   "outputs": [
    {
     "data": {
      "text/plain": [
       "<function matplotlib.pyplot.show(*args, **kw)>"
      ]
     },
     "execution_count": 365,
     "metadata": {},
     "output_type": "execute_result"
    },
    {
     "data": {
      "image/png": "[encoded data removed]",
      "text/plain": [
       "<Figure size 1080x360 with 1 Axes>"
      ]
     },
     "metadata": {
      "needs_background": "light"
     },
     "output_type": "display_data"
    }
   ],
   "source": [
    "my_date = '2019-2-19'\n",
    "my_range1 = f'{my_date} 08:00:00'\n",
    "my_range2 = f'{my_date} 18:00:00'\n",
    "t = df_dose_resampled[ (df_dose_resampled['day'] == my_date) ].loc[my_range1:my_range2]\n",
    "t_raw = df_dose[ df_dose['day'] == my_date ].loc[my_range1:my_range2]\n",
    "plt.figure(figsize=(15,5))\n",
    "plt.plot(t_raw['dose_corrected'], color='blue', label='raw')\n",
    "plt.plot(t['dose_corrected'], color='red', label='resampled 10s', linewidth=1)\n",
    "\n",
    "# ax = plt.gca()\n",
    "# ticks = ax.get_xticks()\n",
    "# plt.plot(resampled_data['HHMM'], resampled_data['HV_current'], color='red', label='resampled 10s', linewidth=1)\n",
    "\n",
    "# ax.set_xticks(ticks[::60])\n",
    "plt.ylabel('dose_corrected')\n",
    "plt.xlabel('time')\n",
    "\n",
    "\n",
    "plt.legend(loc='best')\n",
    "plt.show"
   ]
  },
  {
   "cell_type": "code",
   "execution_count": 384,
   "metadata": {},
   "outputs": [
    {
     "data": {
      "text/plain": [
       "<function matplotlib.pyplot.show(*args, **kw)>"
      ]
     },
     "execution_count": 384,
     "metadata": {},
     "output_type": "execute_result"
    },
    {
     "data": {
      "image/png": "[encoded data removed]",
      "text/plain": [
       "<Figure size 1080x360 with 1 Axes>"
      ]
     },
     "metadata": {
      "needs_background": "light"
     },
     "output_type": "display_data"
    }
   ],
   "source": [
    "my_date = '2019-2-19'\n",
    "my_range1 = f'{my_date} 08:00:00'\n",
    "my_range2 = f'{my_date} 18:00:00'\n",
    "t = df_out[ (df_out['day'] == my_date) ].loc[my_range1:my_range2]\n",
    "t_raw = df_dose[ df_dose['day'] == my_date ].loc[my_range1:my_range2]\n",
    "plt.figure(figsize=(15,5))\n",
    "plt.plot(t_raw['dose_corrected'], color='blue', label='raw')\n",
    "plt.plot(t['dose_corrected'], color='red', label='resampled 10s', linewidth=1)\n",
    "\n",
    "# ax = plt.gca()\n",
    "# ticks = ax.get_xticks()\n",
    "# plt.plot(resampled_data['HHMM'], resampled_data['HV_current'], color='red', label='resampled 10s', linewidth=1)\n",
    "\n",
    "# ax.set_xticks(ticks[::60])\n",
    "plt.ylabel('dose_corrected')\n",
    "plt.xlabel('time')\n",
    "\n",
    "\n",
    "plt.legend(loc='best')\n",
    "plt.show"
   ]
  },
  {
   "cell_type": "code",
   "execution_count": 1,
   "metadata": {},
   "outputs": [
    {
     "ename": "NameError",
     "evalue": "name 'df_out' is not defined",
     "output_type": "error",
     "traceback": [
      "\u001b[0;31m---------------------------------------------------------------------------\u001b[0m",
      "\u001b[0;31mNameError\u001b[0m                                 Traceback (most recent call last)",
      "\u001b[0;32m<ipython-input-1-de9504b7dd29>\u001b[0m in \u001b[0;36m<module>\u001b[0;34m\u001b[0m\n\u001b[0;32m----> 1\u001b[0;31m \u001b[0mdf_out\u001b[0m\u001b[0;34m.\u001b[0m\u001b[0mhead\u001b[0m\u001b[0;34m(\u001b[0m\u001b[0;34m)\u001b[0m\u001b[0;34m\u001b[0m\u001b[0;34m\u001b[0m\u001b[0m\n\u001b[0m",
      "\u001b[0;31mNameError\u001b[0m: name 'df_out' is not defined"
     ]
    }
   ],
   "source": [
    "df_out.head()"
   ]
  },
  {
   "cell_type": "code",
   "execution_count": null,
   "metadata": {},
   "outputs": [],
   "source": []
  }
 ],
 "metadata": {
  "kernelspec": {
   "display_name": "Python 3",
   "language": "python",
   "name": "python3"
  },
  "language_info": {
   "codemirror_mode": {
    "name": "ipython",
    "version": 3
   },
   "file_extension": ".py",
   "mimetype": "text/x-python",
   "name": "python",
   "nbconvert_exporter": "python",
   "pygments_lexer": "ipython3",
   "version": "3.7.3"
  }
 },
 "nbformat": 4,
 "nbformat_minor": 2
}
